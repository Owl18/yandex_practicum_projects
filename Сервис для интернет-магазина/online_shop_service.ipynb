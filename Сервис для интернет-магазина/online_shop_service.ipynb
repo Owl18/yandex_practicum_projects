{
  "cells": [
    {
      "cell_type": "markdown",
      "metadata": {
        "toc": true,
        "id": "JceT0H3nN8vt"
      },
      "source": [
        "<h1>Содержание<span class=\"tocSkip\"></span></h1>\n",
        "<div class=\"toc\"><ul class=\"toc-item\"><li><span><a href=\"#Подготовка\" data-toc-modified-id=\"Подготовка-1\"><span class=\"toc-item-num\">1&nbsp;&nbsp;</span>Подготовка</a></span><ul class=\"toc-item\"><li><span><a href=\"#Загрузка-файла-и-ознакомление-с-данными\" data-toc-modified-id=\"Загрузка-файла-и-ознакомление-с-данными-1.1\"><span class=\"toc-item-num\">1.1&nbsp;&nbsp;</span>Загрузка файла и ознакомление с данными</a></span></li><li><span><a href=\"#Лемматизация-текста\" data-toc-modified-id=\"Лемматизация-текста-1.2\"><span class=\"toc-item-num\">1.2&nbsp;&nbsp;</span>Лемматизация текста</a></span></li><li><span><a href=\"#Разбиение-данных-на-выборки\" data-toc-modified-id=\"Разбиение-данных-на-выборки-1.3\"><span class=\"toc-item-num\">1.3&nbsp;&nbsp;</span>Разбиение данных на выборки</a></span></li><li><span><a href=\"#Промежуточные-выводы\" data-toc-modified-id=\"Промежуточные-выводы-1.4\"><span class=\"toc-item-num\">1.4&nbsp;&nbsp;</span>Промежуточные выводы</a></span></li></ul></li><li><span><a href=\"#Обучение\" data-toc-modified-id=\"Обучение-2\"><span class=\"toc-item-num\">2&nbsp;&nbsp;</span>Обучение</a></span><ul class=\"toc-item\"><li><span><a href=\"#Устранение-дисбаланса-взвешиванием-классов\" data-toc-modified-id=\"Устранение-дисбаланса-взвешиванием-классов-2.1\"><span class=\"toc-item-num\">2.1&nbsp;&nbsp;</span>Устранение дисбаланса взвешиванием классов</a></span></li><li><span><a href=\"#Обучение-модели-категориального-бустинга\" data-toc-modified-id=\"Обучение-модели-категориального-бустинга-2.2\"><span class=\"toc-item-num\">2.2&nbsp;&nbsp;</span>Обучение модели категориального бустинга</a></span></li><li><span><a href=\"#Обучение-модели-древа-решений\" data-toc-modified-id=\"Обучение-модели-древа-решений-2.3\"><span class=\"toc-item-num\">2.3&nbsp;&nbsp;</span>Обучение модели древа решений</a></span></li><li><span><a href=\"#Обучение-модели-логистической-регрессии\" data-toc-modified-id=\"Обучение-модели-логистической-регрессии-2.4\"><span class=\"toc-item-num\">2.4&nbsp;&nbsp;</span>Обучение модели логистической регрессии</a></span></li><li><span><a href=\"#Предсказания-на-тестовой-выборке-для-лучшей-модели\" data-toc-modified-id=\"Предсказания-на-тестовой-выборке-для-лучшей-модели-2.5\"><span class=\"toc-item-num\">2.5&nbsp;&nbsp;</span>Предсказания на тестовой выборке для лучшей модели</a></span></li><li><span><a href=\"#Промежуточные-выводы\" data-toc-modified-id=\"Промежуточные-выводы-2.6\"><span class=\"toc-item-num\">2.6&nbsp;&nbsp;</span>Промежуточные выводы</a></span></li></ul></li><li><span><a href=\"#Выводы\" data-toc-modified-id=\"Выводы-3\"><span class=\"toc-item-num\">3&nbsp;&nbsp;</span>Выводы</a></span></li><li><span><a href=\"#Чек-лист-проверки\" data-toc-modified-id=\"Чек-лист-проверки-4\"><span class=\"toc-item-num\">4&nbsp;&nbsp;</span>Чек-лист проверки</a></span></li></ul></div>"
      ]
    },
    {
      "cell_type": "markdown",
      "metadata": {
        "id": "_VJX4oKPN8vu"
      },
      "source": [
        "# Проект для «Викишоп»"
      ]
    },
    {
      "cell_type": "markdown",
      "metadata": {
        "id": "5x_Tvif7N8vv"
      },
      "source": [
        "Начинаю с подключения библиотек."
      ]
    },
    {
      "cell_type": "code",
      "execution_count": null,
      "metadata": {
        "id": "5_0f0E6AN8vw",
        "outputId": "bd28345e-f85a-48d3-b507-383b49c937d5"
      },
      "outputs": [
        {
          "name": "stderr",
          "output_type": "stream",
          "text": [
            "[nltk_data] Downloading package averaged_perceptron_tagger to\n",
            "[nltk_data]     /home/jovyan/nltk_data...\n",
            "[nltk_data]   Package averaged_perceptron_tagger is already up-to-\n",
            "[nltk_data]       date!\n"
          ]
        }
      ],
      "source": [
        "import pandas as pd\n",
        "import numpy as np\n",
        "import nltk\n",
        "from sklearn.feature_extraction.text import TfidfVectorizer\n",
        "from nltk.corpus import stopwords\n",
        "from sklearn.linear_model import LogisticRegression\n",
        "from sklearn.tree import DecisionTreeClassifier\n",
        "from catboost import CatBoostClassifier\n",
        "from sklearn.model_selection import train_test_split\n",
        "from sklearn.metrics import f1_score, confusion_matrix\n",
        "from sklearn.model_selection import train_test_split, cross_val_score, GridSearchCV\n",
        "from nltk.stem import WordNetLemmatizer\n",
        "from nltk.corpus import wordnet\n",
        "from nltk import pos_tag\n",
        "import spacy\n",
        "from spacy import load\n",
        "from transformers import GPT2Config, GPT2Model\n",
        "from nltk.tokenize import word_tokenize\n",
        "nltk.download('averaged_perceptron_tagger')\n",
        "import re\n",
        "import time\n",
        "from sklearn.metrics import mean_squared_error, f1_score, roc_auc_score, roc_curve\n",
        "from sklearn.utils import shuffle\n",
        "import matplotlib.pyplot as plt\n",
        "from sklearn.metrics import recall_score\n",
        "from sklearn.metrics import accuracy_score\n",
        "from sklearn.metrics import precision_score\n",
        "from sklearn.preprocessing import StandardScaler\n",
        "from sklearn.metrics import plot_confusion_matrix\n",
        "import lightgbm as lgb"
      ]
    },
    {
      "cell_type": "markdown",
      "metadata": {
        "id": "Nh0vEDKWN8vy"
      },
      "source": [
        "Библиотеки подгружены. Приступаю к работе."
      ]
    },
    {
      "cell_type": "markdown",
      "metadata": {
        "id": "VP1Y75vtN8vz"
      },
      "source": [
        "## Подготовка"
      ]
    },
    {
      "cell_type": "markdown",
      "metadata": {
        "id": "S08M8H3ZN8vz"
      },
      "source": [
        "### Загрузка файла и ознакомление с данными"
      ]
    },
    {
      "cell_type": "markdown",
      "metadata": {
        "id": "fFiCX38iN8vz"
      },
      "source": [
        "Загружаю файл данных через try-except для подстраховки."
      ]
    },
    {
      "cell_type": "code",
      "execution_count": null,
      "metadata": {
        "id": "Lsb1wP0vN8v0"
      },
      "outputs": [],
      "source": [
        "try:\n",
        "    data = pd.read_csv('/datasets/toxic_comments.csv')\n",
        "except FileNotFoundError:\n",
        "    data = pd.read_csv('https://code.s3.yandex.net/datasets/toxic_comments.csv')"
      ]
    },
    {
      "cell_type": "markdown",
      "metadata": {
        "id": "oRVA7TkGN8v0"
      },
      "source": [
        "Взгляну на несколько строк данных и общую информацию о файле."
      ]
    },
    {
      "cell_type": "code",
      "execution_count": null,
      "metadata": {
        "id": "g8q1eJTGN8v0",
        "outputId": "04bb71b4-2f00-4275-e0f7-2b5284165092"
      },
      "outputs": [
        {
          "data": {
            "text/html": [
              "<div>\n",
              "<style scoped>\n",
              "    .dataframe tbody tr th:only-of-type {\n",
              "        vertical-align: middle;\n",
              "    }\n",
              "\n",
              "    .dataframe tbody tr th {\n",
              "        vertical-align: top;\n",
              "    }\n",
              "\n",
              "    .dataframe thead th {\n",
              "        text-align: right;\n",
              "    }\n",
              "</style>\n",
              "<table border=\"1\" class=\"dataframe\">\n",
              "  <thead>\n",
              "    <tr style=\"text-align: right;\">\n",
              "      <th></th>\n",
              "      <th>Unnamed: 0</th>\n",
              "      <th>text</th>\n",
              "      <th>toxic</th>\n",
              "    </tr>\n",
              "  </thead>\n",
              "  <tbody>\n",
              "    <tr>\n",
              "      <th>0</th>\n",
              "      <td>0</td>\n",
              "      <td>Explanation\\nWhy the edits made under my usern...</td>\n",
              "      <td>0</td>\n",
              "    </tr>\n",
              "    <tr>\n",
              "      <th>1</th>\n",
              "      <td>1</td>\n",
              "      <td>D'aww! He matches this background colour I'm s...</td>\n",
              "      <td>0</td>\n",
              "    </tr>\n",
              "    <tr>\n",
              "      <th>2</th>\n",
              "      <td>2</td>\n",
              "      <td>Hey man, I'm really not trying to edit war. It...</td>\n",
              "      <td>0</td>\n",
              "    </tr>\n",
              "    <tr>\n",
              "      <th>3</th>\n",
              "      <td>3</td>\n",
              "      <td>\"\\nMore\\nI can't make any real suggestions on ...</td>\n",
              "      <td>0</td>\n",
              "    </tr>\n",
              "    <tr>\n",
              "      <th>4</th>\n",
              "      <td>4</td>\n",
              "      <td>You, sir, are my hero. Any chance you remember...</td>\n",
              "      <td>0</td>\n",
              "    </tr>\n",
              "  </tbody>\n",
              "</table>\n",
              "</div>"
            ],
            "text/plain": [
              "   Unnamed: 0                                               text  toxic\n",
              "0           0  Explanation\\nWhy the edits made under my usern...      0\n",
              "1           1  D'aww! He matches this background colour I'm s...      0\n",
              "2           2  Hey man, I'm really not trying to edit war. It...      0\n",
              "3           3  \"\\nMore\\nI can't make any real suggestions on ...      0\n",
              "4           4  You, sir, are my hero. Any chance you remember...      0"
            ]
          },
          "execution_count": 3,
          "metadata": {},
          "output_type": "execute_result"
        }
      ],
      "source": [
        "data.head()"
      ]
    },
    {
      "cell_type": "code",
      "execution_count": null,
      "metadata": {
        "id": "YRzBJXs0N8v1",
        "outputId": "0fdfa780-56ab-4881-ace3-813b0d6a520a"
      },
      "outputs": [
        {
          "name": "stdout",
          "output_type": "stream",
          "text": [
            "<class 'pandas.core.frame.DataFrame'>\n",
            "RangeIndex: 159292 entries, 0 to 159291\n",
            "Data columns (total 3 columns):\n",
            " #   Column      Non-Null Count   Dtype \n",
            "---  ------      --------------   ----- \n",
            " 0   Unnamed: 0  159292 non-null  int64 \n",
            " 1   text        159292 non-null  object\n",
            " 2   toxic       159292 non-null  int64 \n",
            "dtypes: int64(2), object(1)\n",
            "memory usage: 3.6+ MB\n"
          ]
        }
      ],
      "source": [
        "data.info()"
      ]
    },
    {
      "cell_type": "markdown",
      "metadata": {
        "id": "69TSNWw0N8v1"
      },
      "source": [
        "К типам данных вопросов нет, пропусков нет. Мне непонятен столбец Unnamed, который будто бы повторяет столбец индекса. Удалю его."
      ]
    },
    {
      "cell_type": "code",
      "execution_count": null,
      "metadata": {
        "id": "3ldRt7ojN8v1"
      },
      "outputs": [],
      "source": [
        "data = data.drop(['Unnamed: 0'],axis = 1)"
      ]
    },
    {
      "cell_type": "markdown",
      "metadata": {
        "id": "84reJv2CN8v1"
      },
      "source": [
        "И ещё раз взгляну на данные."
      ]
    },
    {
      "cell_type": "code",
      "execution_count": null,
      "metadata": {
        "id": "VisOVBSMN8v1",
        "outputId": "4c9f052e-c251-4971-a1f0-2ad8cb91736a"
      },
      "outputs": [
        {
          "name": "stdout",
          "output_type": "stream",
          "text": [
            "<class 'pandas.core.frame.DataFrame'>\n",
            "RangeIndex: 159292 entries, 0 to 159291\n",
            "Data columns (total 2 columns):\n",
            " #   Column  Non-Null Count   Dtype \n",
            "---  ------  --------------   ----- \n",
            " 0   text    159292 non-null  object\n",
            " 1   toxic   159292 non-null  int64 \n",
            "dtypes: int64(1), object(1)\n",
            "memory usage: 2.4+ MB\n"
          ]
        }
      ],
      "source": [
        "data.info()"
      ]
    },
    {
      "cell_type": "code",
      "execution_count": null,
      "metadata": {
        "id": "H5oVVh9-N8v2",
        "outputId": "1eb0d545-2717-445f-ab47-bdaacf519a5c"
      },
      "outputs": [
        {
          "data": {
            "text/html": [
              "<div>\n",
              "<style scoped>\n",
              "    .dataframe tbody tr th:only-of-type {\n",
              "        vertical-align: middle;\n",
              "    }\n",
              "\n",
              "    .dataframe tbody tr th {\n",
              "        vertical-align: top;\n",
              "    }\n",
              "\n",
              "    .dataframe thead th {\n",
              "        text-align: right;\n",
              "    }\n",
              "</style>\n",
              "<table border=\"1\" class=\"dataframe\">\n",
              "  <thead>\n",
              "    <tr style=\"text-align: right;\">\n",
              "      <th></th>\n",
              "      <th>text</th>\n",
              "      <th>toxic</th>\n",
              "    </tr>\n",
              "  </thead>\n",
              "  <tbody>\n",
              "    <tr>\n",
              "      <th>0</th>\n",
              "      <td>Explanation\\nWhy the edits made under my usern...</td>\n",
              "      <td>0</td>\n",
              "    </tr>\n",
              "    <tr>\n",
              "      <th>1</th>\n",
              "      <td>D'aww! He matches this background colour I'm s...</td>\n",
              "      <td>0</td>\n",
              "    </tr>\n",
              "    <tr>\n",
              "      <th>2</th>\n",
              "      <td>Hey man, I'm really not trying to edit war. It...</td>\n",
              "      <td>0</td>\n",
              "    </tr>\n",
              "    <tr>\n",
              "      <th>3</th>\n",
              "      <td>\"\\nMore\\nI can't make any real suggestions on ...</td>\n",
              "      <td>0</td>\n",
              "    </tr>\n",
              "    <tr>\n",
              "      <th>4</th>\n",
              "      <td>You, sir, are my hero. Any chance you remember...</td>\n",
              "      <td>0</td>\n",
              "    </tr>\n",
              "  </tbody>\n",
              "</table>\n",
              "</div>"
            ],
            "text/plain": [
              "                                                text  toxic\n",
              "0  Explanation\\nWhy the edits made under my usern...      0\n",
              "1  D'aww! He matches this background colour I'm s...      0\n",
              "2  Hey man, I'm really not trying to edit war. It...      0\n",
              "3  \"\\nMore\\nI can't make any real suggestions on ...      0\n",
              "4  You, sir, are my hero. Any chance you remember...      0"
            ]
          },
          "execution_count": 7,
          "metadata": {},
          "output_type": "execute_result"
        }
      ],
      "source": [
        "data.head()"
      ]
    },
    {
      "cell_type": "markdown",
      "metadata": {
        "id": "waGQjG5QN8v2"
      },
      "source": [
        "Маловероятно, но, всё же, надо убедиться, что дубликатов нет."
      ]
    },
    {
      "cell_type": "code",
      "execution_count": null,
      "metadata": {
        "id": "hvaE-2erN8v2",
        "outputId": "af7c63c4-5b09-4f18-ae8a-3427265ecb5e"
      },
      "outputs": [
        {
          "data": {
            "text/plain": [
              "0"
            ]
          },
          "execution_count": 8,
          "metadata": {},
          "output_type": "execute_result"
        }
      ],
      "source": [
        "data.duplicated().sum()"
      ]
    },
    {
      "cell_type": "markdown",
      "metadata": {
        "id": "HPg5bUElN8v2"
      },
      "source": [
        "Хорошо. Теперь уточнюсь насчёт баланса значений ключевого параметра."
      ]
    },
    {
      "cell_type": "code",
      "execution_count": null,
      "metadata": {
        "id": "tbX4H0mwN8v2",
        "outputId": "27049bc3-5c15-42fd-ad4d-e3ae93d4b56f"
      },
      "outputs": [
        {
          "data": {
            "text/plain": [
              "0    143106\n",
              "1     16186\n",
              "Name: toxic, dtype: int64"
            ]
          },
          "execution_count": 9,
          "metadata": {},
          "output_type": "execute_result"
        }
      ],
      "source": [
        "data['toxic'].value_counts()"
      ]
    },
    {
      "cell_type": "markdown",
      "metadata": {
        "id": "EZeK2c50N8v3"
      },
      "source": [
        "Чудовищный дисбаланс. Необходимо учесть это в дальнейшей работе."
      ]
    },
    {
      "cell_type": "code",
      "execution_count": null,
      "metadata": {
        "id": "vlexZVHgN8v3"
      },
      "outputs": [],
      "source": [
        "ratio = data['toxic'].value_counts()[0] / data['toxic'].value_counts()[1]"
      ]
    },
    {
      "cell_type": "code",
      "execution_count": null,
      "metadata": {
        "id": "L5U4vT34N8v3",
        "outputId": "942ade3b-14df-4cd6-f2ea-afd8eb6e0a86"
      },
      "outputs": [
        {
          "data": {
            "text/plain": [
              "8.841344371679229"
            ]
          },
          "execution_count": 11,
          "metadata": {},
          "output_type": "execute_result"
        }
      ],
      "source": [
        "ratio"
      ]
    },
    {
      "cell_type": "markdown",
      "metadata": {
        "id": "qb0LpiB4N8v3"
      },
      "source": [
        "Разница почти 9 раз!"
      ]
    },
    {
      "cell_type": "markdown",
      "metadata": {
        "id": "_3nDkTG2N8v4"
      },
      "source": [
        "### Лемматизация текста"
      ]
    },
    {
      "cell_type": "markdown",
      "metadata": {
        "id": "KtYixkD5N8v4"
      },
      "source": [
        "Напишу функцию лемматизации текста через pos-tag."
      ]
    },
    {
      "cell_type": "markdown",
      "metadata": {
        "id": "h9koPXNZN8v4"
      },
      "source": [
        "%%time\n",
        "nlp = spacy.load('en_core_web_sm')\n",
        "lemma = []\n",
        "\n",
        "for doc in nlp.pipe(data[\"text\"].values):\n",
        "    lemma.append([n.lemma_ for n in doc])\n",
        "\n",
        "    data['lemm_text'] = lemma\n",
        "    data[['text','lemm_text']].head()\n",
        ""
      ]
    },
    {
      "cell_type": "code",
      "execution_count": null,
      "metadata": {
        "id": "Yh3oGttpN8v4"
      },
      "outputs": [],
      "source": [
        "def clear_text(text):\n",
        "    text = text.lower()\n",
        "    text = re.sub(r'[^a-zA-Z]', ' ', text)\n",
        "    text = ' '.join(text.split())\n",
        "    return text"
      ]
    },
    {
      "cell_type": "code",
      "execution_count": null,
      "metadata": {
        "id": "C02VfbKnN8v4"
      },
      "outputs": [],
      "source": [
        "data['text'] = data['text'].apply(clear_text)"
      ]
    },
    {
      "cell_type": "code",
      "execution_count": null,
      "metadata": {
        "id": "rP8Gk2y1N8v5"
      },
      "outputs": [],
      "source": [
        "def get_wordnet_pos(word):\n",
        "    tag = nltk.pos_tag([word])[0][1][0].upper()\n",
        "    tag_dict = {\"J\": wordnet.ADJ,               #прилагательное\n",
        "                \"N\": wordnet.NOUN,              #существительное\n",
        "                \"V\": wordnet.VERB,              #глагол\n",
        "                \"R\": wordnet.ADV                #наречие\n",
        "               }\n",
        "    return tag_dict.get(tag, wordnet.NOUN)\n",
        "\n",
        "lemmatizer = WordNetLemmatizer()\n",
        "\n",
        "\n",
        "def lemm_text(text):\n",
        "    text = [lemmatizer.lemmatize(w, get_wordnet_pos(w)) for w in nltk.word_tokenize(text)]\n",
        "    return ' '.join(text)"
      ]
    },
    {
      "cell_type": "code",
      "execution_count": null,
      "metadata": {
        "id": "_19wn6E6N8v5",
        "outputId": "a773c6f6-adf1-4fe1-d35e-d56ce6192062"
      },
      "outputs": [
        {
          "name": "stdout",
          "output_type": "stream",
          "text": [
            "CPU times: user 20min 43s, sys: 1min 52s, total: 22min 36s\n",
            "Wall time: 22min 36s\n"
          ]
        }
      ],
      "source": [
        "%%time\n",
        "data['lemm_text'] = data['text'].apply(lemm_text)"
      ]
    },
    {
      "cell_type": "code",
      "execution_count": null,
      "metadata": {
        "id": "84i1yVQCN8v5",
        "outputId": "e7ee99d3-0306-438f-9b50-4606bebbdb03"
      },
      "outputs": [
        {
          "data": {
            "text/html": [
              "<div>\n",
              "<style scoped>\n",
              "    .dataframe tbody tr th:only-of-type {\n",
              "        vertical-align: middle;\n",
              "    }\n",
              "\n",
              "    .dataframe tbody tr th {\n",
              "        vertical-align: top;\n",
              "    }\n",
              "\n",
              "    .dataframe thead th {\n",
              "        text-align: right;\n",
              "    }\n",
              "</style>\n",
              "<table border=\"1\" class=\"dataframe\">\n",
              "  <thead>\n",
              "    <tr style=\"text-align: right;\">\n",
              "      <th></th>\n",
              "      <th>text</th>\n",
              "      <th>toxic</th>\n",
              "      <th>lemm_text</th>\n",
              "    </tr>\n",
              "  </thead>\n",
              "  <tbody>\n",
              "    <tr>\n",
              "      <th>0</th>\n",
              "      <td>explanation why the edits made under my userna...</td>\n",
              "      <td>0</td>\n",
              "      <td>explanation why the edits make under my userna...</td>\n",
              "    </tr>\n",
              "    <tr>\n",
              "      <th>1</th>\n",
              "      <td>d aww he matches this background colour i m se...</td>\n",
              "      <td>0</td>\n",
              "      <td>d aww he match this background colour i m seem...</td>\n",
              "    </tr>\n",
              "    <tr>\n",
              "      <th>2</th>\n",
              "      <td>hey man i m really not trying to edit war it s...</td>\n",
              "      <td>0</td>\n",
              "      <td>hey man i m really not try to edit war it s ju...</td>\n",
              "    </tr>\n",
              "    <tr>\n",
              "      <th>3</th>\n",
              "      <td>more i can t make any real suggestions on impr...</td>\n",
              "      <td>0</td>\n",
              "      <td>more i can t make any real suggestion on impro...</td>\n",
              "    </tr>\n",
              "    <tr>\n",
              "      <th>4</th>\n",
              "      <td>you sir are my hero any chance you remember wh...</td>\n",
              "      <td>0</td>\n",
              "      <td>you sir be my hero any chance you remember wha...</td>\n",
              "    </tr>\n",
              "  </tbody>\n",
              "</table>\n",
              "</div>"
            ],
            "text/plain": [
              "                                                text  toxic  \\\n",
              "0  explanation why the edits made under my userna...      0   \n",
              "1  d aww he matches this background colour i m se...      0   \n",
              "2  hey man i m really not trying to edit war it s...      0   \n",
              "3  more i can t make any real suggestions on impr...      0   \n",
              "4  you sir are my hero any chance you remember wh...      0   \n",
              "\n",
              "                                           lemm_text  \n",
              "0  explanation why the edits make under my userna...  \n",
              "1  d aww he match this background colour i m seem...  \n",
              "2  hey man i m really not try to edit war it s ju...  \n",
              "3  more i can t make any real suggestion on impro...  \n",
              "4  you sir be my hero any chance you remember wha...  "
            ]
          },
          "execution_count": 16,
          "metadata": {},
          "output_type": "execute_result"
        }
      ],
      "source": [
        "data.head()"
      ]
    },
    {
      "cell_type": "code",
      "execution_count": null,
      "metadata": {
        "id": "mILErUqhN8v5"
      },
      "outputs": [],
      "source": [
        "data = data.drop(['text'], axis=1)"
      ]
    },
    {
      "cell_type": "markdown",
      "metadata": {
        "id": "7vbPX7RUN8v7"
      },
      "source": [
        "Избавлюсь от столбца \"text\" , оставлю лемматизированный текст только."
      ]
    },
    {
      "cell_type": "markdown",
      "metadata": {
        "id": "2MopEkbJN8v7"
      },
      "source": [
        "data = data.drop(['text'], axis=1)"
      ]
    },
    {
      "cell_type": "code",
      "execution_count": null,
      "metadata": {
        "id": "Piga4jlwN8v8",
        "outputId": "a512b01f-27e9-463f-901e-73526bff54b4"
      },
      "outputs": [
        {
          "data": {
            "text/html": [
              "<div>\n",
              "<style scoped>\n",
              "    .dataframe tbody tr th:only-of-type {\n",
              "        vertical-align: middle;\n",
              "    }\n",
              "\n",
              "    .dataframe tbody tr th {\n",
              "        vertical-align: top;\n",
              "    }\n",
              "\n",
              "    .dataframe thead th {\n",
              "        text-align: right;\n",
              "    }\n",
              "</style>\n",
              "<table border=\"1\" class=\"dataframe\">\n",
              "  <thead>\n",
              "    <tr style=\"text-align: right;\">\n",
              "      <th></th>\n",
              "      <th>toxic</th>\n",
              "      <th>lemm_text</th>\n",
              "    </tr>\n",
              "  </thead>\n",
              "  <tbody>\n",
              "    <tr>\n",
              "      <th>0</th>\n",
              "      <td>0</td>\n",
              "      <td>explanation why the edits make under my userna...</td>\n",
              "    </tr>\n",
              "    <tr>\n",
              "      <th>1</th>\n",
              "      <td>0</td>\n",
              "      <td>d aww he match this background colour i m seem...</td>\n",
              "    </tr>\n",
              "    <tr>\n",
              "      <th>2</th>\n",
              "      <td>0</td>\n",
              "      <td>hey man i m really not try to edit war it s ju...</td>\n",
              "    </tr>\n",
              "    <tr>\n",
              "      <th>3</th>\n",
              "      <td>0</td>\n",
              "      <td>more i can t make any real suggestion on impro...</td>\n",
              "    </tr>\n",
              "    <tr>\n",
              "      <th>4</th>\n",
              "      <td>0</td>\n",
              "      <td>you sir be my hero any chance you remember wha...</td>\n",
              "    </tr>\n",
              "  </tbody>\n",
              "</table>\n",
              "</div>"
            ],
            "text/plain": [
              "   toxic                                          lemm_text\n",
              "0      0  explanation why the edits make under my userna...\n",
              "1      0  d aww he match this background colour i m seem...\n",
              "2      0  hey man i m really not try to edit war it s ju...\n",
              "3      0  more i can t make any real suggestion on impro...\n",
              "4      0  you sir be my hero any chance you remember wha..."
            ]
          },
          "execution_count": 18,
          "metadata": {},
          "output_type": "execute_result"
        }
      ],
      "source": [
        "data.head()"
      ]
    },
    {
      "cell_type": "markdown",
      "metadata": {
        "id": "Z7CBlyHvN8v8"
      },
      "source": [
        "### Разбиение данных на выборки"
      ]
    },
    {
      "cell_type": "markdown",
      "metadata": {
        "id": "xAyHiwcPN8v8"
      },
      "source": [
        "Разбиение проведу в соотношении 80/10/10 (обучающая, валидационная и тестовая выборки соответственно)."
      ]
    },
    {
      "cell_type": "code",
      "execution_count": null,
      "metadata": {
        "id": "vgwuIqv1N8v8"
      },
      "outputs": [],
      "source": [
        "features = data.drop(['toxic'], axis=1)\n",
        "target = data['toxic']"
      ]
    },
    {
      "cell_type": "code",
      "execution_count": null,
      "metadata": {
        "id": "oOjH_tvVN8v8"
      },
      "outputs": [],
      "source": [
        "features_train, features_valid, target_train, target_valid = train_test_split(features,\n",
        "                                                                              target,\n",
        "                                                                              test_size=0.2,\n",
        "                                                                              random_state=12345)\n",
        "features_valid, features_test, target_valid, target_test = train_test_split(features_valid,\n",
        "                                                                            target_valid,\n",
        "                                                                            test_size=0.5,\n",
        "                                                                            random_state=12345)\n",
        "\n",
        "cv_counts = 2"
      ]
    },
    {
      "cell_type": "code",
      "execution_count": null,
      "metadata": {
        "id": "BRp-aE0HN8v9",
        "outputId": "e5280899-504a-49e0-a0b3-bca0619c83c4"
      },
      "outputs": [
        {
          "name": "stderr",
          "output_type": "stream",
          "text": [
            "[nltk_data] Downloading package stopwords to /home/jovyan/nltk_data...\n",
            "[nltk_data]   Package stopwords is already up-to-date!\n"
          ]
        }
      ],
      "source": [
        "nltk.download('stopwords')\n",
        "stopwords = set(stopwords.words('english'))\n",
        "\n",
        "count_tf_idf = TfidfVectorizer(stop_words=stopwords, lowercase = False)\n"
      ]
    },
    {
      "cell_type": "code",
      "execution_count": null,
      "metadata": {
        "id": "XS4DztY5N8v9",
        "outputId": "6f2bff96-e248-49ac-c03a-c28d2dba5611"
      },
      "outputs": [
        {
          "data": {
            "text/plain": [
              "97400     bushranger you re a grass with no sense of hum...\n",
              "4383      need administrative help i have be block iniqu...\n",
              "103680    i d also like to point out that he have use a ...\n",
              "38573          you cant block me you fuck retard brb nigger\n",
              "128311    i believe that the frequency of the wave need ...\n",
              "                                ...                        \n",
              "109993    hahaha i dont live in a lie like you and dont ...\n",
              "85412                                           march march\n",
              "133249    agree we really should try to stick to the sub...\n",
              "130333    umm killer do you not like that he copy your w...\n",
              "77285        bradford city i be remove unreferanced content\n",
              "Name: lemm_text, Length: 127433, dtype: object"
            ]
          },
          "execution_count": 22,
          "metadata": {},
          "output_type": "execute_result"
        }
      ],
      "source": [
        "features_train['lemm_text']"
      ]
    },
    {
      "cell_type": "code",
      "execution_count": null,
      "metadata": {
        "id": "pdbyG7mWN8v9"
      },
      "outputs": [],
      "source": [
        "features_train = count_tf_idf.fit_transform(features_train['lemm_text'].values.astype('U'))"
      ]
    },
    {
      "cell_type": "code",
      "execution_count": null,
      "metadata": {
        "id": "iGRoOpH0N8v_"
      },
      "outputs": [],
      "source": [
        "features_valid = count_tf_idf.transform(features_valid['lemm_text'].values.astype('U'))"
      ]
    },
    {
      "cell_type": "code",
      "execution_count": null,
      "metadata": {
        "id": "bTi0PsoXN8v_"
      },
      "outputs": [],
      "source": [
        "features_test = count_tf_idf.transform(features_test['lemm_text'].values.astype('U'))"
      ]
    },
    {
      "cell_type": "markdown",
      "metadata": {
        "id": "Mo3KCcKWN8v_"
      },
      "source": [
        "Проверю размеры выборок."
      ]
    },
    {
      "cell_type": "code",
      "execution_count": null,
      "metadata": {
        "id": "KMkbaoMON8v_",
        "outputId": "5a52ab29-2f16-4722-fa80-209772dd84cf"
      },
      "outputs": [
        {
          "name": "stdout",
          "output_type": "stream",
          "text": [
            "(127433, 132168)\n",
            "(15929, 132168)\n",
            "(15930, 132168)\n"
          ]
        }
      ],
      "source": [
        "print(features_train.shape)\n",
        "print(features_valid.shape)\n",
        "print(features_test.shape)"
      ]
    },
    {
      "cell_type": "markdown",
      "metadata": {
        "id": "7Zi3_dSDN8v_"
      },
      "source": [
        "### Промежуточные выводы"
      ]
    },
    {
      "cell_type": "markdown",
      "metadata": {
        "id": "8EA9E6bRN8wA"
      },
      "source": [
        "На этапе подготовки данных выполнены следующие операции:\n",
        "1. Проведена загрузка данных;\n",
        "2. Удалён столбец, дублирующий номер строки;\n",
        "3. Пропусков и дубликатов не обнаружено;\n",
        "4. Проведена лемматизация данных;\n",
        "5. Проведено разбиение данных на обучающую, валидационную и тестовую выборки в соотношении 80/10/10."
      ]
    },
    {
      "cell_type": "markdown",
      "metadata": {
        "id": "POL7fiwnN8wA"
      },
      "source": [
        "## Обучение"
      ]
    },
    {
      "cell_type": "markdown",
      "metadata": {
        "id": "Ba_fTXlFN8wA"
      },
      "source": [
        "Итак, помню, что у меня значительный дисбаланс классов.\n",
        "Сначала посчитаю на исходных, несбалансированных данных."
      ]
    },
    {
      "cell_type": "code",
      "execution_count": null,
      "metadata": {
        "id": "NzhCI53eN8wA",
        "outputId": "72dc0f46-f70e-4627-acf9-abada738fdd0"
      },
      "outputs": [
        {
          "name": "stdout",
          "output_type": "stream",
          "text": [
            "Качество модели на крос-валидации для несбалансированных данных 0.6846969723743803\n",
            "CPU times: user 31.8 s, sys: 39.9 s, total: 1min 11s\n",
            "Wall time: 1min 11s\n"
          ]
        }
      ],
      "source": [
        "%%time\n",
        "regress = LogisticRegression()\n",
        "f1_init = cross_val_score(regress, features_train, target_train, cv=cv_counts, scoring='f1').mean()\n",
        "print('Качество модели на крос-валидации для несбалансированных данных', f1_init)"
      ]
    },
    {
      "cell_type": "markdown",
      "metadata": {
        "id": "3xfKh9G7N8wA"
      },
      "source": [
        "Качество модели (метрика f1) не удовлетворяет заданию - не меньше 0,75. Применю уменьшение выборки."
      ]
    },
    {
      "cell_type": "markdown",
      "metadata": {
        "id": "ijmIaKFrN8wB"
      },
      "source": [
        "### Устранение дисбаланса взвешиванием классов"
      ]
    },
    {
      "cell_type": "markdown",
      "metadata": {
        "id": "xnKThy20N8wB"
      },
      "source": [
        "Сделаю двумя способами."
      ]
    },
    {
      "cell_type": "code",
      "execution_count": null,
      "metadata": {
        "id": "SXBSLy1-N8wB",
        "outputId": "7514ba4e-2857-46c7-e321-5d9faacc9c85"
      },
      "outputs": [
        {
          "name": "stdout",
          "output_type": "stream",
          "text": [
            "Качество модели регрессии на CV с балансированными классами 0.7468358843973152\n"
          ]
        },
        {
          "name": "stderr",
          "output_type": "stream",
          "text": [
            "/opt/conda/lib/python3.9/site-packages/sklearn/linear_model/_logistic.py:763: ConvergenceWarning: lbfgs failed to converge (status=1):\n",
            "STOP: TOTAL NO. of ITERATIONS REACHED LIMIT.\n",
            "\n",
            "Increase the number of iterations (max_iter) or scale the data as shown in:\n",
            "    https://scikit-learn.org/stable/modules/preprocessing.html\n",
            "Please also refer to the documentation for alternative solver options:\n",
            "    https://scikit-learn.org/stable/modules/linear_model.html#logistic-regression\n",
            "  n_iter_i = _check_optimize_result(\n"
          ]
        }
      ],
      "source": [
        "dict_classes={0:1, 1:ratio}\n",
        "regress = LogisticRegression(class_weight=dict_classes)\n",
        "f1_weighted = cross_val_score(regress, features_train, target_train, cv=cv_counts, scoring='f1').mean()\n",
        "print('Качество модели регрессии на CV с балансированными классами', f1_weighted)"
      ]
    },
    {
      "cell_type": "code",
      "execution_count": null,
      "metadata": {
        "id": "-ys92OmBN8wB",
        "outputId": "526a1f2c-30c3-4a63-9214-e065a2cf0d1a"
      },
      "outputs": [
        {
          "name": "stdout",
          "output_type": "stream",
          "text": [
            "Качество модели регрессии на CV с балансированными классами 0.7394424335219962\n",
            "CPU times: user 20.4 s, sys: 26 s, total: 46.4 s\n",
            "Wall time: 46.5 s\n"
          ]
        }
      ],
      "source": [
        "%%time\n",
        "regress = LogisticRegression(class_weight='balanced')\n",
        "f1_weighted = cross_val_score(regress, features_train, target_train, cv=cv_counts, scoring='f1').mean()\n",
        "print('Качество модели регрессии на CV с балансированными классами', f1_weighted)"
      ]
    },
    {
      "cell_type": "markdown",
      "metadata": {
        "id": "D0k0Xkl-N8wD"
      },
      "source": [
        "В дальнейшем использую именно эту балансировку."
      ]
    },
    {
      "cell_type": "markdown",
      "metadata": {
        "id": "oHZ5Tk5UN8wD"
      },
      "source": [
        "### Обучение модели категориального бустинга"
      ]
    },
    {
      "cell_type": "code",
      "execution_count": null,
      "metadata": {
        "id": "1k412-LaN8wD",
        "outputId": "e59c903e-e07a-4f81-ee71-7e505ad2076a"
      },
      "outputs": [
        {
          "name": "stdout",
          "output_type": "stream",
          "text": [
            "Качество модели КБ на кросс-валидации 0.7258236077933073\n",
            "Качество модели КБ на валидации 0.7552848441418846\n",
            "CPU times: user 21min 45s, sys: 13.2 s, total: 21min 59s\n",
            "Wall time: 22min 3s\n"
          ]
        }
      ],
      "source": [
        "%%time\n",
        "cb = CatBoostClassifier(verbose=False, iterations=250)\n",
        "cb.fit(features_train, target_train)\n",
        "target_predict = cb.predict(features_valid)\n",
        "cv_f1_cb = cross_val_score(cb, features_train, target_train, cv=cv_counts, scoring='f1').mean()\n",
        "valid_f1_cb = f1_score(target_valid, target_predict)\n",
        "print('Качество модели КБ на кросс-валидации', cv_f1_cb)\n",
        "print('Качество модели КБ на валидации', valid_f1_cb)"
      ]
    },
    {
      "cell_type": "markdown",
      "metadata": {
        "id": "N-Hu4qQrN8wD"
      },
      "source": [
        "Запомнили результат."
      ]
    },
    {
      "cell_type": "markdown",
      "metadata": {
        "id": "4kpHI5HDN8wE"
      },
      "source": [
        "### Обучение модели древа решений"
      ]
    },
    {
      "cell_type": "markdown",
      "metadata": {
        "id": "ElM2AeotN8wE"
      },
      "source": [
        "Обучаем, подбираю лучшие параметры."
      ]
    },
    {
      "cell_type": "code",
      "execution_count": null,
      "metadata": {
        "id": "K1xRb303N8wF",
        "outputId": "5989a2cd-64ca-48f9-e324-30c884f8fee0"
      },
      "outputs": [
        {
          "name": "stdout",
          "output_type": "stream",
          "text": [
            "Лучшие параметры, подбор:\n",
            "\n",
            "{'class_weight': {0: 1, 1: 8.841344371679229}, 'max_depth': 94, 'random_state': 12345}\n",
            "\n",
            "Значения параметров:\n",
            "\n",
            "0.619898 for {'class_weight': {0: 1, 1: 8.841344371679229}, 'max_depth': 50, 'random_state': 12345}\n",
            "0.622148 for {'class_weight': {0: 1, 1: 8.841344371679229}, 'max_depth': 52, 'random_state': 12345}\n",
            "0.620487 for {'class_weight': {0: 1, 1: 8.841344371679229}, 'max_depth': 54, 'random_state': 12345}\n",
            "0.626023 for {'class_weight': {0: 1, 1: 8.841344371679229}, 'max_depth': 56, 'random_state': 12345}\n",
            "0.628453 for {'class_weight': {0: 1, 1: 8.841344371679229}, 'max_depth': 58, 'random_state': 12345}\n",
            "0.616890 for {'class_weight': {0: 1, 1: 8.841344371679229}, 'max_depth': 60, 'random_state': 12345}\n",
            "0.621981 for {'class_weight': {0: 1, 1: 8.841344371679229}, 'max_depth': 62, 'random_state': 12345}\n",
            "0.621866 for {'class_weight': {0: 1, 1: 8.841344371679229}, 'max_depth': 64, 'random_state': 12345}\n",
            "0.628725 for {'class_weight': {0: 1, 1: 8.841344371679229}, 'max_depth': 66, 'random_state': 12345}\n",
            "0.624822 for {'class_weight': {0: 1, 1: 8.841344371679229}, 'max_depth': 68, 'random_state': 12345}\n",
            "0.627357 for {'class_weight': {0: 1, 1: 8.841344371679229}, 'max_depth': 70, 'random_state': 12345}\n",
            "0.627803 for {'class_weight': {0: 1, 1: 8.841344371679229}, 'max_depth': 72, 'random_state': 12345}\n",
            "0.629487 for {'class_weight': {0: 1, 1: 8.841344371679229}, 'max_depth': 74, 'random_state': 12345}\n",
            "0.631536 for {'class_weight': {0: 1, 1: 8.841344371679229}, 'max_depth': 76, 'random_state': 12345}\n",
            "0.633100 for {'class_weight': {0: 1, 1: 8.841344371679229}, 'max_depth': 78, 'random_state': 12345}\n",
            "0.632805 for {'class_weight': {0: 1, 1: 8.841344371679229}, 'max_depth': 80, 'random_state': 12345}\n",
            "0.631904 for {'class_weight': {0: 1, 1: 8.841344371679229}, 'max_depth': 82, 'random_state': 12345}\n",
            "0.630148 for {'class_weight': {0: 1, 1: 8.841344371679229}, 'max_depth': 84, 'random_state': 12345}\n",
            "0.635258 for {'class_weight': {0: 1, 1: 8.841344371679229}, 'max_depth': 86, 'random_state': 12345}\n",
            "0.631439 for {'class_weight': {0: 1, 1: 8.841344371679229}, 'max_depth': 88, 'random_state': 12345}\n",
            "0.633204 for {'class_weight': {0: 1, 1: 8.841344371679229}, 'max_depth': 90, 'random_state': 12345}\n",
            "0.634285 for {'class_weight': {0: 1, 1: 8.841344371679229}, 'max_depth': 92, 'random_state': 12345}\n",
            "0.635912 for {'class_weight': {0: 1, 1: 8.841344371679229}, 'max_depth': 94, 'random_state': 12345}\n",
            "0.635611 for {'class_weight': {0: 1, 1: 8.841344371679229}, 'max_depth': 96, 'random_state': 12345}\n",
            "0.634715 for {'class_weight': {0: 1, 1: 8.841344371679229}, 'max_depth': 98, 'random_state': 12345}\n",
            "\n",
            "CPU times: user 29min 1s, sys: 3.34 s, total: 29min 4s\n",
            "Wall time: 29min 5s\n"
          ]
        }
      ],
      "source": [
        "%%time\n",
        "tree = DecisionTreeClassifier()\n",
        "hyperparams = [{'max_depth':[x for x in range(50,100,2)],\n",
        "                'random_state':[12345],\n",
        "                'class_weight':[dict_classes]}]\n",
        "\n",
        "tree_cv = GridSearchCV(tree, hyperparams, scoring='f1',cv=cv_counts)\n",
        "tree_cv.fit(features_train, target_train)\n",
        "print('Лучшие параметры, подбор:')\n",
        "print()\n",
        "tree_best_params = tree_cv.best_params_\n",
        "print(tree_best_params)\n",
        "print()\n",
        "print('Значения параметров:')\n",
        "print()\n",
        "means = tree_cv.cv_results_['mean_test_score']\n",
        "stds = tree_cv.cv_results_['std_test_score']\n",
        "for mean, std, params in zip(means, stds, tree_cv.cv_results_['params']):\n",
        "    print(\"%0.6f for %r\"% (mean, params))\n",
        "print()\n",
        "\n",
        "cv_f1_tree = max(means)"
      ]
    },
    {
      "cell_type": "markdown",
      "metadata": {
        "id": "Xt5FyphTN8wF"
      },
      "source": [
        "Теперь использую лучшие параметры."
      ]
    },
    {
      "cell_type": "code",
      "execution_count": null,
      "metadata": {
        "id": "aRL_zV9sN8wF",
        "outputId": "8d44a8c0-eff8-4f61-fec7-30b9a6dfbc69"
      },
      "outputs": [
        {
          "name": "stdout",
          "output_type": "stream",
          "text": [
            "Качество модели ДР на кросс-валидации 0.6359121588109541\n",
            "Качество модели ДР на валидации 0.6446907817969662\n",
            "CPU times: user 1min 22s, sys: 165 ms, total: 1min 22s\n",
            "Wall time: 1min 22s\n"
          ]
        }
      ],
      "source": [
        "%%time\n",
        "tree = DecisionTreeClassifier()\n",
        "tree.set_params(**tree_best_params)\n",
        "tree.fit(features_train, target_train)\n",
        "target_predict = tree.predict(features_valid)\n",
        "valid_f1_tree = f1_score(target_valid, target_predict)\n",
        "print('Качество модели ДР на кросс-валидации', cv_f1_tree)\n",
        "print('Качество модели ДР на валидации', valid_f1_tree)"
      ]
    },
    {
      "cell_type": "markdown",
      "metadata": {
        "id": "aB5tWjqON8wF"
      },
      "source": [
        "### Обучение модели логистической регрессии"
      ]
    },
    {
      "cell_type": "markdown",
      "metadata": {
        "id": "SA4Y2qESN8wF"
      },
      "source": [
        "Подбираю лучшие параметры."
      ]
    },
    {
      "cell_type": "code",
      "execution_count": null,
      "metadata": {
        "id": "SsJ6PLR6N8wG",
        "outputId": "9b45f088-b5dd-45b0-a9f6-9e2af09be581"
      },
      "outputs": [
        {
          "name": "stdout",
          "output_type": "stream",
          "text": [
            "Подбор гиперпараметров\n",
            "\n"
          ]
        },
        {
          "name": "stderr",
          "output_type": "stream",
          "text": [
            "/opt/conda/lib/python3.9/site-packages/sklearn/linear_model/_logistic.py:763: ConvergenceWarning: lbfgs failed to converge (status=1):\n",
            "STOP: TOTAL NO. of ITERATIONS REACHED LIMIT.\n",
            "\n",
            "Increase the number of iterations (max_iter) or scale the data as shown in:\n",
            "    https://scikit-learn.org/stable/modules/preprocessing.html\n",
            "Please also refer to the documentation for alternative solver options:\n",
            "    https://scikit-learn.org/stable/modules/linear_model.html#logistic-regression\n",
            "  n_iter_i = _check_optimize_result(\n",
            "/opt/conda/lib/python3.9/site-packages/sklearn/linear_model/_logistic.py:763: ConvergenceWarning: lbfgs failed to converge (status=1):\n",
            "STOP: TOTAL NO. of ITERATIONS REACHED LIMIT.\n",
            "\n",
            "Increase the number of iterations (max_iter) or scale the data as shown in:\n",
            "    https://scikit-learn.org/stable/modules/preprocessing.html\n",
            "Please also refer to the documentation for alternative solver options:\n",
            "    https://scikit-learn.org/stable/modules/linear_model.html#logistic-regression\n",
            "  n_iter_i = _check_optimize_result(\n",
            "/opt/conda/lib/python3.9/site-packages/sklearn/linear_model/_logistic.py:763: ConvergenceWarning: lbfgs failed to converge (status=1):\n",
            "STOP: TOTAL NO. of ITERATIONS REACHED LIMIT.\n",
            "\n",
            "Increase the number of iterations (max_iter) or scale the data as shown in:\n",
            "    https://scikit-learn.org/stable/modules/preprocessing.html\n",
            "Please also refer to the documentation for alternative solver options:\n",
            "    https://scikit-learn.org/stable/modules/linear_model.html#logistic-regression\n",
            "  n_iter_i = _check_optimize_result(\n"
          ]
        },
        {
          "name": "stdout",
          "output_type": "stream",
          "text": [
            "Лучшие параметры:\n",
            "\n",
            "{'C': 10, 'class_weight': {0: 1, 1: 8.841344371679229}, 'solver': 'newton-cg'}\n",
            "\n",
            "Значения параметров:\n",
            "\n",
            "0.707767 for {'C': 0.1, 'class_weight': {0: 1, 1: 8.841344371679229}, 'solver': 'newton-cg'}\n",
            "0.707767 for {'C': 0.1, 'class_weight': {0: 1, 1: 8.841344371679229}, 'solver': 'lbfgs'}\n",
            "0.707626 for {'C': 0.1, 'class_weight': {0: 1, 1: 8.841344371679229}, 'solver': 'liblinear'}\n",
            "0.746810 for {'C': 1, 'class_weight': {0: 1, 1: 8.841344371679229}, 'solver': 'newton-cg'}\n",
            "0.746836 for {'C': 1, 'class_weight': {0: 1, 1: 8.841344371679229}, 'solver': 'lbfgs'}\n",
            "0.746810 for {'C': 1, 'class_weight': {0: 1, 1: 8.841344371679229}, 'solver': 'liblinear'}\n",
            "0.748991 for {'C': 10, 'class_weight': {0: 1, 1: 8.841344371679229}, 'solver': 'newton-cg'}\n",
            "0.748864 for {'C': 10, 'class_weight': {0: 1, 1: 8.841344371679229}, 'solver': 'lbfgs'}\n",
            "0.748991 for {'C': 10, 'class_weight': {0: 1, 1: 8.841344371679229}, 'solver': 'liblinear'}\n",
            "\n",
            "CPU times: user 3min 19s, sys: 3min 49s, total: 7min 9s\n",
            "Wall time: 7min 10s\n"
          ]
        }
      ],
      "source": [
        "%%time\n",
        "regress = LogisticRegression()\n",
        "hyperparams = [{'solver':['newton-cg', 'lbfgs', 'liblinear'],\n",
        "                'C':[0.1, 1, 10],\n",
        "                'class_weight':[dict_classes]}]\n",
        "\n",
        "\n",
        "print('Подбор гиперпараметров')\n",
        "print()\n",
        "cv_logreg = GridSearchCV(regress, hyperparams, scoring='f1',cv=cv_counts)\n",
        "cv_logreg.fit(features_train, target_train)\n",
        "print(\"Лучшие параметры:\")\n",
        "print()\n",
        "logreg_best_params = cv_logreg.best_params_\n",
        "print(logreg_best_params)\n",
        "print()\n",
        "print(\"Значения параметров:\")\n",
        "print()\n",
        "means = cv_logreg.cv_results_['mean_test_score']\n",
        "stds = cv_logreg.cv_results_['std_test_score']\n",
        "for mean, std, params in zip(means, stds, cv_logreg.cv_results_['params']):\n",
        "    print(\"%0.6f for %r\"% (mean, params))\n",
        "print()\n",
        "\n",
        "cv_f1_logreg = max(means)"
      ]
    },
    {
      "cell_type": "markdown",
      "metadata": {
        "id": "RccAbNBQN8wG"
      },
      "source": [
        "Обучаю на лучших параметрах."
      ]
    },
    {
      "cell_type": "code",
      "execution_count": null,
      "metadata": {
        "id": "dPmYP7p7N8wG",
        "outputId": "d4d8ec81-d21f-49b3-9fb0-685f1ab1f862"
      },
      "outputs": [
        {
          "name": "stdout",
          "output_type": "stream",
          "text": [
            "F1 на cv 0.7489913247998223\n",
            "F1 на валидации 0.7639089074661286\n",
            "CPU times: user 22.6 s, sys: 22.1 s, total: 44.8 s\n",
            "Wall time: 45 s\n"
          ]
        }
      ],
      "source": [
        "%%time\n",
        "regress = LogisticRegression()\n",
        "regress.set_params(**logreg_best_params)\n",
        "regress.fit(features_train, target_train)\n",
        "target_predict = regress.predict(features_valid)\n",
        "valid_f1_logreg = f1_score(target_valid, target_predict)\n",
        "print('F1 на cv', cv_f1_logreg)\n",
        "print('F1 на валидации', valid_f1_logreg)"
      ]
    },
    {
      "cell_type": "markdown",
      "metadata": {
        "id": "zr6KTSp1N8wG"
      },
      "source": [
        "### Предсказания на тестовой выборке для лучшей модели"
      ]
    },
    {
      "cell_type": "code",
      "execution_count": null,
      "metadata": {
        "id": "PohC_6ImN8wH",
        "outputId": "4b57dd1d-529c-4887-844d-26bd0487692f"
      },
      "outputs": [
        {
          "name": "stdout",
          "output_type": "stream",
          "text": [
            "Метрики Логистической регрессии\n",
            "ROC AUC: 0.9624329158057267\n",
            "Качество модели: 0.7583815028901735\n",
            "Точность модели при измерении класса Positive: 0.7142079477408819\n",
            "Отношение истинно положительных к общему числу положительных: 0.8083795440542206\n",
            "Общая точность предсказания: 0.9475204017576899\n",
            "\n"
          ]
        },
        {
          "data": {
            "image/png": "[encoded data removed]",
            "text/plain": [
              "<Figure size 864x648 with 1 Axes>"
            ]
          },
          "metadata": {
            "needs_background": "light"
          },
          "output_type": "display_data"
        },
        {
          "name": "stdout",
          "output_type": "stream",
          "text": [
            "CPU times: user 23.3 s, sys: 22.7 s, total: 46 s\n",
            "Wall time: 46 s\n"
          ]
        }
      ],
      "source": [
        "%%time\n",
        "plt.figure(figsize=[12,9])\n",
        "\n",
        "plt.plot([0, 1], [0, 1], linestyle='--', label='RandomModel')\n",
        "\n",
        "regress = LogisticRegression()\n",
        "regress.set_params(**logreg_best_params)\n",
        "regress.fit(features_train, target_train)\n",
        "probabilities_test = regress.predict_proba(features_test)\n",
        "probabilities_one_test = probabilities_test[:, 1]\n",
        "fpr, tpr, thresholds = roc_curve(target_test, probabilities_one_test)\n",
        "predict_test = regress.predict(features_test)\n",
        "plt.plot(fpr, tpr, label='LogisticRegression')\n",
        "print('Метрики Логистической регрессии')\n",
        "print('ROC AUC:', roc_auc_score(target_test, probabilities_one_test))\n",
        "print('Качество модели:', f1_score(target_test, predict_test))\n",
        "print('Точность модели при измерении класса Positive:', precision_score(target_test, predict_test))\n",
        "print('Отношение истинно положительных к общему числу положительных:', recall_score(target_test, predict_test))\n",
        "print('Общая точность предсказания:', accuracy_score(target_test, predict_test))\n",
        "print()\n",
        "\n",
        "plt.xlim([0,1])\n",
        "plt.ylim([0,1])\n",
        "\n",
        "plt.xlabel(\"Ложно положительные\")\n",
        "plt.ylabel(\"Истинно положительные\")\n",
        "\n",
        "plt.legend(loc='lower right', fontsize='x-large')\n",
        "\n",
        "plt.title(\"ROC-кривая\")\n",
        "plt.show()"
      ]
    },
    {
      "cell_type": "markdown",
      "metadata": {
        "id": "k9qmueoRN8wH"
      },
      "source": [
        "### Промежуточные выводы"
      ]
    },
    {
      "cell_type": "markdown",
      "metadata": {
        "id": "nxOGVbcTN8wH"
      },
      "source": [
        "1. Проведено устранение дисбаланса методом взвешивания классов и методом уменьшения выборки. Для дальнейшей работы использовался баланс взвешиванием классов;\n",
        "2. Проведено обучения моделей Категориального бустинга, Древа решений и Логистической регрессии;\n",
        "3. По метрике f1 лучшая модель - модель логистической регрессии4;\n",
        "4. Проведено предсказание лучшей модели на тестовой выборке."
      ]
    },
    {
      "cell_type": "markdown",
      "metadata": {
        "id": "NQisEIUGN8wH"
      },
      "source": [
        "## Выводы"
      ]
    },
    {
      "cell_type": "markdown",
      "metadata": {
        "id": "CSA0IfZKN8wI"
      },
      "source": [
        "В результате выполнения задания сделано следующее:\n",
        "1. Проведена загрузка данных;\n",
        "2. Удалён столбец, дублирующий номер строки;\n",
        "3. Пропусков и дубликатов не обнаружено;\n",
        "4. Проведена лемматизация данных;\n",
        "5. Проведено разбиение данных на обучающую, валидационную и тестовую выборки в соотношении 80/10/10;\n",
        "6. Проведено устранение дисбаланса методом взвешивания классов и методом уменьшения выборки. Для дальнейшей работы использовался баланс взвешиванием классов;\n",
        "7. Проведено обучения моделей Категориального бустинга, Древа решений и Логистической регрессии;\n",
        "8. По метрике f1 лучшая модель - модель логистической регрессии4;\n",
        "9. Проведено предсказание лучшей модели на тестовой выборке."
      ]
    },
    {
      "cell_type": "markdown",
      "metadata": {
        "id": "Hm6udeygN8wI"
      },
      "source": [
        "## Чек-лист проверки"
      ]
    },
    {
      "cell_type": "markdown",
      "metadata": {
        "id": "Sj7TDJUfN8wI"
      },
      "source": [
        "- [x]  Jupyter Notebook открыт\n",
        "- [x]  Весь код выполняется без ошибок\n",
        "- [x]  Ячейки с кодом расположены в порядке исполнения\n",
        "- [x]  Данные загружены и подготовлены\n",
        "- [x]  Модели обучены\n",
        "- [x]  Значение метрики *F1* не меньше 0.75\n",
        "- [x]  Выводы написаны"
      ]
    }
  ],
  "metadata": {
    "ExecuteTimeLog": [
      {
        "duration": 1705,
        "start_time": "2023-09-17T07:09:29.310Z"
      },
      {
        "duration": 3034,
        "start_time": "2023-09-17T07:13:06.078Z"
      },
      {
        "duration": 17,
        "start_time": "2023-09-17T07:24:32.671Z"
      },
      {
        "duration": 1255,
        "start_time": "2023-09-17T07:25:40.524Z"
      },
      {
        "duration": 10,
        "start_time": "2023-09-17T07:25:43.204Z"
      },
      {
        "duration": 40,
        "start_time": "2023-09-17T07:26:10.604Z"
      },
      {
        "duration": 29,
        "start_time": "2023-09-17T07:28:10.338Z"
      },
      {
        "duration": 997,
        "start_time": "2023-09-17T07:28:44.524Z"
      },
      {
        "duration": 11,
        "start_time": "2023-09-17T07:28:46.862Z"
      },
      {
        "duration": 36,
        "start_time": "2023-09-17T07:28:48.266Z"
      },
      {
        "duration": 11,
        "start_time": "2023-09-17T07:32:21.283Z"
      },
      {
        "duration": 36,
        "start_time": "2023-09-17T07:32:37.578Z"
      },
      {
        "duration": 8,
        "start_time": "2023-09-17T07:33:09.790Z"
      },
      {
        "duration": 241,
        "start_time": "2023-09-17T07:33:49.164Z"
      },
      {
        "duration": 7,
        "start_time": "2023-09-17T07:42:34.437Z"
      },
      {
        "duration": 8,
        "start_time": "2023-09-17T07:51:58.683Z"
      },
      {
        "duration": 155,
        "start_time": "2023-09-17T07:54:41.895Z"
      },
      {
        "duration": 4,
        "start_time": "2023-09-17T07:54:54.768Z"
      },
      {
        "duration": 5485,
        "start_time": "2023-09-17T07:56:57.191Z"
      },
      {
        "duration": 1674,
        "start_time": "2023-09-17T07:57:36.786Z"
      },
      {
        "duration": 7,
        "start_time": "2023-09-17T07:59:24.101Z"
      },
      {
        "duration": 32,
        "start_time": "2023-09-17T07:59:28.869Z"
      },
      {
        "duration": 4957,
        "start_time": "2023-09-17T07:59:31.608Z"
      },
      {
        "duration": 120861,
        "start_time": "2023-09-17T07:59:37.308Z"
      },
      {
        "duration": 27,
        "start_time": "2023-09-17T08:02:22.293Z"
      },
      {
        "duration": 11,
        "start_time": "2023-09-17T08:02:42.204Z"
      },
      {
        "duration": 13,
        "start_time": "2023-09-17T08:02:56.219Z"
      },
      {
        "duration": 14,
        "start_time": "2023-09-17T08:03:14.093Z"
      },
      {
        "duration": 43,
        "start_time": "2023-09-17T08:04:50.923Z"
      },
      {
        "duration": 4,
        "start_time": "2023-09-17T08:05:13.336Z"
      },
      {
        "duration": 71,
        "start_time": "2023-09-17T08:08:24.041Z"
      },
      {
        "duration": 216,
        "start_time": "2023-09-17T08:09:02.801Z"
      },
      {
        "duration": 9,
        "start_time": "2023-09-17T08:09:09.441Z"
      },
      {
        "duration": 55,
        "start_time": "2023-09-17T08:09:34.426Z"
      },
      {
        "duration": 55,
        "start_time": "2023-09-17T08:10:43.062Z"
      },
      {
        "duration": 7,
        "start_time": "2023-09-17T08:10:50.580Z"
      },
      {
        "duration": 6,
        "start_time": "2023-09-17T08:12:15.533Z"
      },
      {
        "duration": 9870,
        "start_time": "2023-09-17T08:12:17.290Z"
      },
      {
        "duration": 1994,
        "start_time": "2023-09-17T08:12:30.082Z"
      },
      {
        "duration": 17,
        "start_time": "2023-09-17T08:12:57.332Z"
      },
      {
        "duration": 14,
        "start_time": "2023-09-17T08:13:03.542Z"
      },
      {
        "duration": 3,
        "start_time": "2023-09-17T08:13:35.533Z"
      },
      {
        "duration": 121,
        "start_time": "2023-09-17T08:19:19.785Z"
      },
      {
        "duration": 222850,
        "start_time": "2023-09-17T08:19:53.008Z"
      },
      {
        "duration": 39,
        "start_time": "2023-09-17T08:25:55.371Z"
      },
      {
        "duration": 940,
        "start_time": "2023-09-17T08:27:22.389Z"
      },
      {
        "duration": 4,
        "start_time": "2023-09-17T08:27:44.983Z"
      },
      {
        "duration": 2185,
        "start_time": "2023-09-17T08:29:39.683Z"
      },
      {
        "duration": 1941,
        "start_time": "2023-09-17T08:30:10.499Z"
      },
      {
        "duration": 1308,
        "start_time": "2023-09-17T08:30:12.442Z"
      },
      {
        "duration": 22,
        "start_time": "2023-09-17T08:30:13.754Z"
      },
      {
        "duration": 46,
        "start_time": "2023-09-17T08:30:13.779Z"
      },
      {
        "duration": 33,
        "start_time": "2023-09-17T08:30:13.827Z"
      },
      {
        "duration": 45,
        "start_time": "2023-09-17T08:30:13.863Z"
      },
      {
        "duration": 8,
        "start_time": "2023-09-17T08:30:13.910Z"
      },
      {
        "duration": 369,
        "start_time": "2023-09-17T08:30:13.920Z"
      },
      {
        "duration": 9,
        "start_time": "2023-09-17T08:30:14.297Z"
      },
      {
        "duration": 11115,
        "start_time": "2023-09-17T08:30:14.309Z"
      },
      {
        "duration": 2406,
        "start_time": "2023-09-17T08:30:25.426Z"
      },
      {
        "duration": 9,
        "start_time": "2023-09-17T08:31:28.835Z"
      },
      {
        "duration": 50,
        "start_time": "2023-09-17T08:35:00.892Z"
      },
      {
        "duration": 263,
        "start_time": "2023-09-17T08:35:02.192Z"
      },
      {
        "duration": 11,
        "start_time": "2023-09-17T08:35:55.544Z"
      },
      {
        "duration": 8945,
        "start_time": "2023-09-17T08:36:00.978Z"
      },
      {
        "duration": 2007,
        "start_time": "2023-09-17T08:36:37.074Z"
      },
      {
        "duration": 1406,
        "start_time": "2023-09-17T08:36:39.083Z"
      },
      {
        "duration": 15,
        "start_time": "2023-09-17T08:36:40.493Z"
      },
      {
        "duration": 46,
        "start_time": "2023-09-17T08:36:40.510Z"
      },
      {
        "duration": 19,
        "start_time": "2023-09-17T08:36:40.560Z"
      },
      {
        "duration": 44,
        "start_time": "2023-09-17T08:36:40.582Z"
      },
      {
        "duration": 8,
        "start_time": "2023-09-17T08:36:40.627Z"
      },
      {
        "duration": 294,
        "start_time": "2023-09-17T08:36:40.651Z"
      },
      {
        "duration": 9,
        "start_time": "2023-09-17T08:36:40.964Z"
      },
      {
        "duration": 11600,
        "start_time": "2023-09-17T08:36:40.976Z"
      },
      {
        "duration": 50,
        "start_time": "2023-09-17T08:36:52.586Z"
      },
      {
        "duration": 9,
        "start_time": "2023-09-17T08:36:52.638Z"
      },
      {
        "duration": 78,
        "start_time": "2023-09-17T08:36:52.649Z"
      },
      {
        "duration": 223,
        "start_time": "2023-09-17T08:36:57.013Z"
      },
      {
        "duration": 13646,
        "start_time": "2023-09-17T08:36:58.861Z"
      },
      {
        "duration": 1612,
        "start_time": "2023-09-17T08:37:12.510Z"
      },
      {
        "duration": 1736,
        "start_time": "2023-09-17T08:37:14.125Z"
      },
      {
        "duration": 4,
        "start_time": "2023-09-17T08:37:17.927Z"
      },
      {
        "duration": 9789,
        "start_time": "2023-09-17T08:40:33.843Z"
      },
      {
        "duration": 656,
        "start_time": "2023-09-17T08:41:19.569Z"
      },
      {
        "duration": 9419,
        "start_time": "2023-09-17T08:41:24.414Z"
      },
      {
        "duration": 145,
        "start_time": "2023-09-17T08:43:12.165Z"
      },
      {
        "duration": 12,
        "start_time": "2023-09-17T08:44:04.273Z"
      },
      {
        "duration": 8,
        "start_time": "2023-09-17T08:44:29.262Z"
      },
      {
        "duration": 4,
        "start_time": "2023-09-17T08:44:50.025Z"
      },
      {
        "duration": 513992,
        "start_time": "2023-09-17T08:45:07.885Z"
      },
      {
        "duration": 1,
        "start_time": "2023-09-17T08:53:41.887Z"
      },
      {
        "duration": 5,
        "start_time": "2023-09-17T08:54:28.401Z"
      },
      {
        "duration": 1223831,
        "start_time": "2023-09-17T08:54:43.893Z"
      },
      {
        "duration": 211,
        "start_time": "2023-09-17T09:16:16.334Z"
      },
      {
        "duration": 2218,
        "start_time": "2023-09-17T09:17:12.589Z"
      },
      {
        "duration": 2260,
        "start_time": "2023-09-17T09:17:26.497Z"
      },
      {
        "duration": 1601,
        "start_time": "2023-09-17T09:17:28.763Z"
      },
      {
        "duration": 14,
        "start_time": "2023-09-17T09:17:30.366Z"
      },
      {
        "duration": 78,
        "start_time": "2023-09-17T09:17:30.383Z"
      },
      {
        "duration": 34,
        "start_time": "2023-09-17T09:17:30.465Z"
      },
      {
        "duration": 80,
        "start_time": "2023-09-17T09:17:30.501Z"
      },
      {
        "duration": 45,
        "start_time": "2023-09-17T09:17:30.583Z"
      },
      {
        "duration": 400,
        "start_time": "2023-09-17T09:17:30.630Z"
      },
      {
        "duration": 8,
        "start_time": "2023-09-17T09:17:31.033Z"
      },
      {
        "duration": 12668,
        "start_time": "2023-09-17T09:17:31.044Z"
      },
      {
        "duration": 55,
        "start_time": "2023-09-17T09:17:43.714Z"
      },
      {
        "duration": 15,
        "start_time": "2023-09-17T09:17:43.771Z"
      },
      {
        "duration": 56,
        "start_time": "2023-09-17T09:17:43.788Z"
      },
      {
        "duration": 288,
        "start_time": "2023-09-17T09:17:43.852Z"
      },
      {
        "duration": 14289,
        "start_time": "2023-09-17T09:17:44.142Z"
      },
      {
        "duration": 1845,
        "start_time": "2023-09-17T09:17:58.433Z"
      },
      {
        "duration": 1798,
        "start_time": "2023-09-17T09:18:00.282Z"
      },
      {
        "duration": 19,
        "start_time": "2023-09-17T09:18:02.089Z"
      },
      {
        "duration": 344,
        "start_time": "2023-09-17T09:18:02.112Z"
      },
      {
        "duration": 196953,
        "start_time": "2023-09-17T09:18:34.720Z"
      },
      {
        "duration": 18,
        "start_time": "2023-09-17T09:24:25.733Z"
      },
      {
        "duration": 2287,
        "start_time": "2023-09-17T09:27:45.298Z"
      },
      {
        "duration": 4179,
        "start_time": "2023-09-17T09:27:47.588Z"
      },
      {
        "duration": 15,
        "start_time": "2023-09-17T09:27:54.372Z"
      },
      {
        "duration": 48,
        "start_time": "2023-09-17T09:27:54.568Z"
      },
      {
        "duration": 15,
        "start_time": "2023-09-17T09:27:54.693Z"
      },
      {
        "duration": 60,
        "start_time": "2023-09-17T09:27:54.835Z"
      },
      {
        "duration": 8,
        "start_time": "2023-09-17T09:27:55.000Z"
      },
      {
        "duration": 366,
        "start_time": "2023-09-17T09:27:55.184Z"
      },
      {
        "duration": 14,
        "start_time": "2023-09-17T09:27:55.552Z"
      },
      {
        "duration": 12442,
        "start_time": "2023-09-17T09:27:55.692Z"
      },
      {
        "duration": 51,
        "start_time": "2023-09-17T09:28:08.136Z"
      },
      {
        "duration": 16,
        "start_time": "2023-09-17T09:28:08.188Z"
      },
      {
        "duration": 67,
        "start_time": "2023-09-17T09:28:08.215Z"
      },
      {
        "duration": 245,
        "start_time": "2023-09-17T09:28:08.287Z"
      },
      {
        "duration": 16259,
        "start_time": "2023-09-17T09:28:08.534Z"
      },
      {
        "duration": 2127,
        "start_time": "2023-09-17T09:28:24.799Z"
      },
      {
        "duration": 1961,
        "start_time": "2023-09-17T09:28:26.928Z"
      },
      {
        "duration": 8,
        "start_time": "2023-09-17T09:28:28.892Z"
      },
      {
        "duration": 198954,
        "start_time": "2023-09-17T09:28:28.905Z"
      },
      {
        "duration": 72,
        "start_time": "2023-09-17T09:32:54.822Z"
      },
      {
        "duration": 11,
        "start_time": "2023-09-17T09:35:27.887Z"
      },
      {
        "duration": 2220,
        "start_time": "2023-09-17T09:37:03.878Z"
      },
      {
        "duration": 3513,
        "start_time": "2023-09-17T09:37:06.101Z"
      },
      {
        "duration": 12,
        "start_time": "2023-09-17T09:37:09.615Z"
      },
      {
        "duration": 48,
        "start_time": "2023-09-17T09:37:09.630Z"
      },
      {
        "duration": 14,
        "start_time": "2023-09-17T09:37:09.680Z"
      },
      {
        "duration": 31,
        "start_time": "2023-09-17T09:37:09.696Z"
      },
      {
        "duration": 52,
        "start_time": "2023-09-17T09:37:09.730Z"
      },
      {
        "duration": 324,
        "start_time": "2023-09-17T09:37:09.784Z"
      },
      {
        "duration": 7,
        "start_time": "2023-09-17T09:37:10.110Z"
      },
      {
        "duration": 10338,
        "start_time": "2023-09-17T09:37:10.120Z"
      },
      {
        "duration": 48,
        "start_time": "2023-09-17T09:37:20.463Z"
      },
      {
        "duration": 9,
        "start_time": "2023-09-17T09:37:20.514Z"
      },
      {
        "duration": 66,
        "start_time": "2023-09-17T09:37:20.525Z"
      },
      {
        "duration": 244,
        "start_time": "2023-09-17T09:37:20.593Z"
      },
      {
        "duration": 13497,
        "start_time": "2023-09-17T09:37:20.839Z"
      },
      {
        "duration": 1674,
        "start_time": "2023-09-17T09:37:34.338Z"
      },
      {
        "duration": 1572,
        "start_time": "2023-09-17T09:37:36.014Z"
      },
      {
        "duration": 6,
        "start_time": "2023-09-17T09:37:37.594Z"
      },
      {
        "duration": 231,
        "start_time": "2023-09-17T09:37:37.602Z"
      },
      {
        "duration": 130,
        "start_time": "2023-09-17T09:38:13.323Z"
      },
      {
        "duration": 7,
        "start_time": "2023-09-17T09:38:45.575Z"
      },
      {
        "duration": 1838652,
        "start_time": "2023-09-17T09:38:51.670Z"
      },
      {
        "duration": 1848,
        "start_time": "2023-09-17T10:30:22.768Z"
      },
      {
        "duration": 1224,
        "start_time": "2023-09-17T10:30:24.618Z"
      },
      {
        "duration": 19,
        "start_time": "2023-09-17T10:30:25.846Z"
      },
      {
        "duration": 64,
        "start_time": "2023-09-17T10:30:25.868Z"
      },
      {
        "duration": 17,
        "start_time": "2023-09-17T10:30:25.934Z"
      },
      {
        "duration": 57,
        "start_time": "2023-09-17T10:30:25.954Z"
      },
      {
        "duration": 23,
        "start_time": "2023-09-17T10:30:26.014Z"
      },
      {
        "duration": 298,
        "start_time": "2023-09-17T10:30:26.039Z"
      },
      {
        "duration": 9,
        "start_time": "2023-09-17T10:30:26.339Z"
      },
      {
        "duration": 9510,
        "start_time": "2023-09-17T10:30:26.352Z"
      },
      {
        "duration": 32,
        "start_time": "2023-09-17T10:30:35.864Z"
      },
      {
        "duration": 7,
        "start_time": "2023-09-17T10:30:35.898Z"
      },
      {
        "duration": 69,
        "start_time": "2023-09-17T10:30:35.907Z"
      },
      {
        "duration": 142,
        "start_time": "2023-09-17T10:30:35.978Z"
      },
      {
        "duration": 11751,
        "start_time": "2023-09-17T10:30:36.122Z"
      },
      {
        "duration": 1459,
        "start_time": "2023-09-17T10:30:47.881Z"
      },
      {
        "duration": 1345,
        "start_time": "2023-09-17T10:30:49.341Z"
      },
      {
        "duration": 6,
        "start_time": "2023-09-17T10:30:50.687Z"
      },
      {
        "duration": 2072872,
        "start_time": "2023-09-17T10:30:50.695Z"
      },
      {
        "duration": 272,
        "start_time": "2023-09-17T12:31:32.158Z"
      },
      {
        "duration": 35,
        "start_time": "2023-09-17T12:32:03.202Z"
      },
      {
        "duration": 185,
        "start_time": "2023-09-17T12:32:08.115Z"
      },
      {
        "duration": 83489,
        "start_time": "2023-09-17T12:33:42.701Z"
      },
      {
        "duration": 14,
        "start_time": "2023-09-17T13:22:54.067Z"
      },
      {
        "duration": 1989,
        "start_time": "2023-09-17T13:25:08.054Z"
      },
      {
        "duration": 1236,
        "start_time": "2023-09-17T13:25:10.045Z"
      },
      {
        "duration": 18,
        "start_time": "2023-09-17T13:25:11.284Z"
      },
      {
        "duration": 63,
        "start_time": "2023-09-17T13:25:11.305Z"
      },
      {
        "duration": 19,
        "start_time": "2023-09-17T13:25:11.372Z"
      },
      {
        "duration": 77,
        "start_time": "2023-09-17T13:25:11.393Z"
      },
      {
        "duration": 9,
        "start_time": "2023-09-17T13:25:11.474Z"
      },
      {
        "duration": 325,
        "start_time": "2023-09-17T13:25:11.486Z"
      },
      {
        "duration": 7,
        "start_time": "2023-09-17T13:25:11.813Z"
      },
      {
        "duration": 27,
        "start_time": "2023-09-17T13:25:11.822Z"
      },
      {
        "duration": 9928,
        "start_time": "2023-09-17T13:25:11.851Z"
      },
      {
        "duration": 38,
        "start_time": "2023-09-17T13:25:21.782Z"
      },
      {
        "duration": 8,
        "start_time": "2023-09-17T13:25:21.822Z"
      },
      {
        "duration": 49,
        "start_time": "2023-09-17T13:25:21.852Z"
      },
      {
        "duration": 162,
        "start_time": "2023-09-17T13:25:21.904Z"
      },
      {
        "duration": 12099,
        "start_time": "2023-09-17T13:25:22.069Z"
      },
      {
        "duration": 1814,
        "start_time": "2023-09-17T13:25:34.170Z"
      },
      {
        "duration": 1714,
        "start_time": "2023-09-17T13:25:35.987Z"
      },
      {
        "duration": 4,
        "start_time": "2023-09-17T13:25:37.703Z"
      },
      {
        "duration": 81795,
        "start_time": "2023-09-17T13:25:37.709Z"
      },
      {
        "duration": 227,
        "start_time": "2023-09-17T13:26:59.506Z"
      },
      {
        "duration": 96038,
        "start_time": "2023-09-17T13:27:28.545Z"
      },
      {
        "duration": 56674,
        "start_time": "2023-09-17T13:29:11.915Z"
      },
      {
        "duration": 46,
        "start_time": "2023-09-17T13:35:03.648Z"
      },
      {
        "duration": 2841,
        "start_time": "2023-09-17T13:36:33.592Z"
      },
      {
        "duration": 2894,
        "start_time": "2023-09-17T13:36:59.413Z"
      },
      {
        "duration": 31599,
        "start_time": "2023-09-17T13:37:41.442Z"
      },
      {
        "duration": 1896400,
        "start_time": "2023-09-17T13:41:30.244Z"
      },
      {
        "duration": 2081037,
        "start_time": "2023-09-17T14:13:39.920Z"
      },
      {
        "duration": 107144,
        "start_time": "2023-09-17T14:48:20.964Z"
      },
      {
        "duration": 4871,
        "start_time": "2023-09-17T14:52:35.717Z"
      },
      {
        "duration": 466396,
        "start_time": "2023-09-17T14:52:55.033Z"
      },
      {
        "duration": 47460,
        "start_time": "2023-09-17T15:02:08.298Z"
      },
      {
        "duration": 1926,
        "start_time": "2023-09-18T13:54:39.152Z"
      },
      {
        "duration": 2794,
        "start_time": "2023-09-18T13:54:41.080Z"
      },
      {
        "duration": 14,
        "start_time": "2023-09-18T13:54:46.945Z"
      },
      {
        "duration": 34,
        "start_time": "2023-09-18T13:54:47.135Z"
      },
      {
        "duration": 10,
        "start_time": "2023-09-18T13:54:47.324Z"
      },
      {
        "duration": 32,
        "start_time": "2023-09-18T13:54:47.528Z"
      },
      {
        "duration": 7,
        "start_time": "2023-09-18T13:54:47.719Z"
      },
      {
        "duration": 241,
        "start_time": "2023-09-18T13:54:47.912Z"
      },
      {
        "duration": 6,
        "start_time": "2023-09-18T13:54:48.155Z"
      },
      {
        "duration": 6,
        "start_time": "2023-09-18T13:54:48.867Z"
      },
      {
        "duration": 8625,
        "start_time": "2023-09-18T13:54:49.565Z"
      },
      {
        "duration": 35,
        "start_time": "2023-09-18T13:54:58.197Z"
      },
      {
        "duration": 7,
        "start_time": "2023-09-18T13:54:58.234Z"
      },
      {
        "duration": 56,
        "start_time": "2023-09-18T13:54:58.243Z"
      },
      {
        "duration": 161,
        "start_time": "2023-09-18T13:54:58.301Z"
      },
      {
        "duration": 11101,
        "start_time": "2023-09-18T13:54:58.464Z"
      },
      {
        "duration": 1296,
        "start_time": "2023-09-18T13:55:09.567Z"
      },
      {
        "duration": 1343,
        "start_time": "2023-09-18T13:55:10.865Z"
      },
      {
        "duration": 4,
        "start_time": "2023-09-18T13:55:12.209Z"
      },
      {
        "duration": 75610,
        "start_time": "2023-09-18T13:55:12.217Z"
      },
      {
        "duration": 87220,
        "start_time": "2023-09-18T13:56:27.886Z"
      },
      {
        "duration": 51099,
        "start_time": "2023-09-18T13:57:55.108Z"
      },
      {
        "duration": 32,
        "start_time": "2023-09-18T13:58:46.208Z"
      },
      {
        "duration": 2037,
        "start_time": "2023-09-18T13:58:46.242Z"
      },
      {
        "duration": 26822,
        "start_time": "2023-09-18T13:58:48.281Z"
      },
      {
        "duration": 1758392,
        "start_time": "2023-09-18T13:59:15.105Z"
      },
      {
        "duration": 1823556,
        "start_time": "2023-09-18T14:28:33.499Z"
      },
      {
        "duration": 87110,
        "start_time": "2023-09-18T14:58:57.057Z"
      },
      {
        "duration": 473181,
        "start_time": "2023-09-18T15:00:24.168Z"
      },
      {
        "duration": 49156,
        "start_time": "2023-09-18T15:08:17.351Z"
      },
      {
        "duration": 49590,
        "start_time": "2023-09-18T15:13:53.401Z"
      },
      {
        "duration": 6,
        "start_time": "2023-09-18T15:16:04.466Z"
      },
      {
        "duration": 48397,
        "start_time": "2023-09-18T15:16:26.660Z"
      },
      {
        "duration": 3,
        "start_time": "2023-09-18T15:29:53.644Z"
      },
      {
        "duration": 51,
        "start_time": "2023-09-19T14:39:01.953Z"
      },
      {
        "duration": 1771,
        "start_time": "2023-09-19T15:07:11.722Z"
      },
      {
        "duration": 0,
        "start_time": "2023-09-19T15:07:13.495Z"
      },
      {
        "duration": 0,
        "start_time": "2023-09-19T15:07:13.500Z"
      },
      {
        "duration": 14,
        "start_time": "2023-09-19T15:07:13.677Z"
      },
      {
        "duration": 13,
        "start_time": "2023-09-19T15:07:14.099Z"
      },
      {
        "duration": 10,
        "start_time": "2023-09-19T15:07:14.507Z"
      },
      {
        "duration": 10,
        "start_time": "2023-09-19T15:07:15.106Z"
      },
      {
        "duration": 1693,
        "start_time": "2023-09-19T15:07:37.271Z"
      },
      {
        "duration": 408,
        "start_time": "2023-09-19T15:08:46.255Z"
      },
      {
        "duration": 2752,
        "start_time": "2023-09-19T15:08:52.489Z"
      },
      {
        "duration": 15,
        "start_time": "2023-09-19T15:08:59.081Z"
      },
      {
        "duration": 35,
        "start_time": "2023-09-19T15:09:00.639Z"
      },
      {
        "duration": 11,
        "start_time": "2023-09-19T15:09:01.606Z"
      },
      {
        "duration": 31,
        "start_time": "2023-09-19T15:09:02.096Z"
      },
      {
        "duration": 7,
        "start_time": "2023-09-19T15:09:02.843Z"
      },
      {
        "duration": 252,
        "start_time": "2023-09-19T15:09:03.339Z"
      },
      {
        "duration": 8,
        "start_time": "2023-09-19T15:09:04.031Z"
      },
      {
        "duration": 6,
        "start_time": "2023-09-19T15:09:04.653Z"
      },
      {
        "duration": 4,
        "start_time": "2023-09-19T15:09:05.222Z"
      },
      {
        "duration": 8332,
        "start_time": "2023-09-19T15:09:06.906Z"
      },
      {
        "duration": 32,
        "start_time": "2023-09-19T15:09:15.241Z"
      },
      {
        "duration": 19,
        "start_time": "2023-09-19T15:09:15.281Z"
      },
      {
        "duration": 62,
        "start_time": "2023-09-19T15:09:20.921Z"
      },
      {
        "duration": 175,
        "start_time": "2023-09-19T15:09:22.138Z"
      },
      {
        "duration": 11939,
        "start_time": "2023-09-19T15:09:23.199Z"
      },
      {
        "duration": 1476,
        "start_time": "2023-09-19T15:09:35.141Z"
      },
      {
        "duration": 1513,
        "start_time": "2023-09-19T15:09:36.619Z"
      },
      {
        "duration": 4,
        "start_time": "2023-09-19T15:09:38.134Z"
      },
      {
        "duration": 79093,
        "start_time": "2023-09-19T15:10:41.332Z"
      },
      {
        "duration": 88574,
        "start_time": "2023-09-19T15:12:00.427Z"
      },
      {
        "duration": 49788,
        "start_time": "2023-09-19T15:13:43.721Z"
      },
      {
        "duration": 85,
        "start_time": "2023-09-19T15:14:33.512Z"
      },
      {
        "duration": 1932,
        "start_time": "2023-09-19T15:14:33.599Z"
      },
      {
        "duration": 19,
        "start_time": "2023-09-19T15:14:55.993Z"
      },
      {
        "duration": 3,
        "start_time": "2023-09-19T15:15:27.440Z"
      },
      {
        "duration": 1668,
        "start_time": "2023-09-21T13:47:19.238Z"
      },
      {
        "duration": 2564,
        "start_time": "2023-09-21T13:47:20.909Z"
      },
      {
        "duration": 13,
        "start_time": "2023-09-21T13:47:23.475Z"
      },
      {
        "duration": 39,
        "start_time": "2023-09-21T13:47:23.491Z"
      },
      {
        "duration": 18,
        "start_time": "2023-09-21T13:47:23.532Z"
      },
      {
        "duration": 46,
        "start_time": "2023-09-21T13:47:23.552Z"
      },
      {
        "duration": 7,
        "start_time": "2023-09-21T13:47:23.600Z"
      },
      {
        "duration": 235,
        "start_time": "2023-09-21T13:47:23.609Z"
      },
      {
        "duration": 5,
        "start_time": "2023-09-21T13:47:23.849Z"
      },
      {
        "duration": 30,
        "start_time": "2023-09-21T13:47:23.856Z"
      },
      {
        "duration": 73,
        "start_time": "2023-09-21T13:47:23.888Z"
      },
      {
        "duration": 6851,
        "start_time": "2023-09-21T13:47:23.962Z"
      },
      {
        "duration": 34,
        "start_time": "2023-09-21T13:47:30.815Z"
      },
      {
        "duration": 24,
        "start_time": "2023-09-21T13:47:30.851Z"
      },
      {
        "duration": 87,
        "start_time": "2023-09-21T13:47:30.876Z"
      },
      {
        "duration": 190,
        "start_time": "2023-09-21T13:47:30.964Z"
      },
      {
        "duration": 8669,
        "start_time": "2023-09-21T13:47:31.156Z"
      },
      {
        "duration": 1014,
        "start_time": "2023-09-21T13:47:39.827Z"
      },
      {
        "duration": 983,
        "start_time": "2023-09-21T13:47:40.844Z"
      },
      {
        "duration": 3,
        "start_time": "2023-09-21T13:47:41.830Z"
      },
      {
        "duration": 67021,
        "start_time": "2023-09-21T13:47:41.835Z"
      },
      {
        "duration": 84131,
        "start_time": "2023-09-21T13:48:48.857Z"
      },
      {
        "duration": 45888,
        "start_time": "2023-09-21T13:50:12.989Z"
      },
      {
        "duration": 75,
        "start_time": "2023-09-21T13:50:58.879Z"
      },
      {
        "duration": 1594,
        "start_time": "2023-09-21T13:50:58.956Z"
      },
      {
        "duration": 23136,
        "start_time": "2023-09-21T13:51:00.552Z"
      },
      {
        "duration": 270667,
        "start_time": "2023-09-21T13:51:23.690Z"
      },
      {
        "duration": 49,
        "start_time": "2023-09-21T13:55:54.358Z"
      },
      {
        "duration": 0,
        "start_time": "2023-09-21T13:55:54.409Z"
      },
      {
        "duration": 0,
        "start_time": "2023-09-21T13:55:54.411Z"
      },
      {
        "duration": 0,
        "start_time": "2023-09-21T13:55:54.412Z"
      },
      {
        "duration": 0,
        "start_time": "2023-09-21T13:55:54.413Z"
      },
      {
        "duration": 1541,
        "start_time": "2023-09-21T13:56:30.385Z"
      },
      {
        "duration": 902,
        "start_time": "2023-09-21T13:56:31.928Z"
      },
      {
        "duration": 19,
        "start_time": "2023-09-21T13:56:32.831Z"
      },
      {
        "duration": 44,
        "start_time": "2023-09-21T13:56:32.852Z"
      },
      {
        "duration": 11,
        "start_time": "2023-09-21T13:56:32.898Z"
      },
      {
        "duration": 56,
        "start_time": "2023-09-21T13:56:32.911Z"
      },
      {
        "duration": 14,
        "start_time": "2023-09-21T13:56:32.969Z"
      },
      {
        "duration": 212,
        "start_time": "2023-09-21T13:56:33.265Z"
      },
      {
        "duration": 6,
        "start_time": "2023-09-21T13:56:33.618Z"
      },
      {
        "duration": 7,
        "start_time": "2023-09-21T13:56:34.145Z"
      },
      {
        "duration": 4,
        "start_time": "2023-09-21T13:56:34.314Z"
      },
      {
        "duration": 6755,
        "start_time": "2023-09-21T13:56:35.027Z"
      },
      {
        "duration": 29,
        "start_time": "2023-09-21T13:56:41.784Z"
      },
      {
        "duration": 6,
        "start_time": "2023-09-21T13:56:41.815Z"
      },
      {
        "duration": 52,
        "start_time": "2023-09-21T13:56:41.823Z"
      },
      {
        "duration": 143,
        "start_time": "2023-09-21T13:56:41.876Z"
      },
      {
        "duration": 9631,
        "start_time": "2023-09-21T13:56:42.021Z"
      },
      {
        "duration": 1050,
        "start_time": "2023-09-21T13:56:51.653Z"
      },
      {
        "duration": 1041,
        "start_time": "2023-09-21T13:56:52.705Z"
      },
      {
        "duration": 3,
        "start_time": "2023-09-21T13:56:53.749Z"
      },
      {
        "duration": 70201,
        "start_time": "2023-09-21T13:56:53.755Z"
      },
      {
        "duration": 84711,
        "start_time": "2023-09-21T13:58:03.959Z"
      },
      {
        "duration": 48009,
        "start_time": "2023-09-21T13:59:28.672Z"
      },
      {
        "duration": 38,
        "start_time": "2023-09-21T14:00:16.683Z"
      },
      {
        "duration": 1721,
        "start_time": "2023-09-21T14:00:16.723Z"
      },
      {
        "duration": 22914,
        "start_time": "2023-09-21T14:00:18.446Z"
      },
      {
        "duration": 1571219,
        "start_time": "2023-09-21T14:00:41.362Z"
      },
      {
        "duration": 81,
        "start_time": "2023-09-21T14:26:52.582Z"
      },
      {
        "duration": 0,
        "start_time": "2023-09-21T14:26:52.665Z"
      },
      {
        "duration": 0,
        "start_time": "2023-09-21T14:26:52.667Z"
      },
      {
        "duration": 0,
        "start_time": "2023-09-21T14:26:52.668Z"
      },
      {
        "duration": 0,
        "start_time": "2023-09-21T14:26:52.669Z"
      },
      {
        "duration": 1465,
        "start_time": "2023-09-21T14:31:56.793Z"
      },
      {
        "duration": 886,
        "start_time": "2023-09-21T14:31:58.260Z"
      },
      {
        "duration": 11,
        "start_time": "2023-09-21T14:31:59.879Z"
      },
      {
        "duration": 32,
        "start_time": "2023-09-21T14:32:00.017Z"
      },
      {
        "duration": 11,
        "start_time": "2023-09-21T14:32:00.394Z"
      },
      {
        "duration": 31,
        "start_time": "2023-09-21T14:32:00.730Z"
      },
      {
        "duration": 21,
        "start_time": "2023-09-21T14:32:00.891Z"
      },
      {
        "duration": 213,
        "start_time": "2023-09-21T14:32:01.221Z"
      },
      {
        "duration": 6,
        "start_time": "2023-09-21T14:32:01.578Z"
      },
      {
        "duration": 6,
        "start_time": "2023-09-21T14:32:01.911Z"
      },
      {
        "duration": 4,
        "start_time": "2023-09-21T14:32:02.098Z"
      },
      {
        "duration": 6618,
        "start_time": "2023-09-21T14:32:02.773Z"
      },
      {
        "duration": 29,
        "start_time": "2023-09-21T14:32:09.393Z"
      },
      {
        "duration": 7,
        "start_time": "2023-09-21T14:32:09.424Z"
      },
      {
        "duration": 46,
        "start_time": "2023-09-21T14:32:09.433Z"
      },
      {
        "duration": 213,
        "start_time": "2023-09-21T14:32:09.480Z"
      },
      {
        "duration": 8601,
        "start_time": "2023-09-21T14:32:09.695Z"
      },
      {
        "duration": 1073,
        "start_time": "2023-09-21T14:32:18.297Z"
      },
      {
        "duration": 1099,
        "start_time": "2023-09-21T14:32:19.372Z"
      },
      {
        "duration": 4,
        "start_time": "2023-09-21T14:32:20.473Z"
      },
      {
        "duration": 67684,
        "start_time": "2023-09-21T14:32:20.479Z"
      },
      {
        "duration": 78501,
        "start_time": "2023-09-21T14:33:28.165Z"
      },
      {
        "duration": 46713,
        "start_time": "2023-09-21T14:34:46.667Z"
      },
      {
        "duration": 94,
        "start_time": "2023-09-21T14:35:33.382Z"
      },
      {
        "duration": 1617,
        "start_time": "2023-09-21T14:35:33.477Z"
      },
      {
        "duration": 23058,
        "start_time": "2023-09-21T14:35:35.096Z"
      },
      {
        "duration": 1505720,
        "start_time": "2023-09-21T14:35:58.156Z"
      },
      {
        "duration": 1531341,
        "start_time": "2023-09-21T15:01:03.877Z"
      },
      {
        "duration": 71356,
        "start_time": "2023-09-21T15:26:35.219Z"
      },
      {
        "duration": 42483,
        "start_time": "2023-09-21T15:27:46.577Z"
      },
      {
        "duration": 179,
        "start_time": "2023-09-21T15:28:29.062Z"
      },
      {
        "duration": 264,
        "start_time": "2023-09-21T15:28:29.242Z"
      },
      {
        "duration": 443394,
        "start_time": "2023-09-21T15:28:34.517Z"
      },
      {
        "duration": 52208,
        "start_time": "2023-09-21T15:35:57.912Z"
      },
      {
        "duration": 52580,
        "start_time": "2023-09-21T15:36:50.122Z"
      },
      {
        "duration": 1590,
        "start_time": "2023-09-21T15:39:05.424Z"
      },
      {
        "duration": 877,
        "start_time": "2023-09-21T15:39:07.016Z"
      },
      {
        "duration": 10,
        "start_time": "2023-09-21T15:39:07.895Z"
      },
      {
        "duration": 38,
        "start_time": "2023-09-21T15:39:07.906Z"
      },
      {
        "duration": 23,
        "start_time": "2023-09-21T15:39:07.949Z"
      },
      {
        "duration": 56,
        "start_time": "2023-09-21T15:39:07.974Z"
      },
      {
        "duration": 5,
        "start_time": "2023-09-21T15:39:08.032Z"
      },
      {
        "duration": 204,
        "start_time": "2023-09-21T15:39:08.063Z"
      },
      {
        "duration": 6,
        "start_time": "2023-09-21T15:39:08.417Z"
      },
      {
        "duration": 7,
        "start_time": "2023-09-21T15:39:08.793Z"
      },
      {
        "duration": 4,
        "start_time": "2023-09-21T15:39:08.971Z"
      },
      {
        "duration": 6726,
        "start_time": "2023-09-21T15:39:09.689Z"
      },
      {
        "duration": 41,
        "start_time": "2023-09-21T15:39:16.417Z"
      },
      {
        "duration": 7,
        "start_time": "2023-09-21T15:39:16.460Z"
      },
      {
        "duration": 49,
        "start_time": "2023-09-21T15:39:16.469Z"
      },
      {
        "duration": 147,
        "start_time": "2023-09-21T15:39:16.519Z"
      },
      {
        "duration": 8599,
        "start_time": "2023-09-21T15:39:16.667Z"
      },
      {
        "duration": 1217,
        "start_time": "2023-09-21T15:39:25.268Z"
      },
      {
        "duration": 1069,
        "start_time": "2023-09-21T15:39:26.487Z"
      },
      {
        "duration": 4,
        "start_time": "2023-09-21T15:39:27.557Z"
      },
      {
        "duration": 69718,
        "start_time": "2023-09-21T15:39:27.563Z"
      },
      {
        "duration": 83783,
        "start_time": "2023-09-21T15:40:37.283Z"
      },
      {
        "duration": 47996,
        "start_time": "2023-09-21T15:42:01.068Z"
      },
      {
        "duration": 35,
        "start_time": "2023-09-21T15:42:49.066Z"
      },
      {
        "duration": 1624,
        "start_time": "2023-09-21T15:42:49.103Z"
      },
      {
        "duration": 24321,
        "start_time": "2023-09-21T15:42:50.728Z"
      },
      {
        "duration": 1512229,
        "start_time": "2023-09-21T15:43:15.051Z"
      },
      {
        "duration": 1467806,
        "start_time": "2023-09-21T16:08:27.281Z"
      },
      {
        "duration": 69450,
        "start_time": "2023-09-21T16:32:55.089Z"
      },
      {
        "duration": 451981,
        "start_time": "2023-09-21T16:34:04.541Z"
      },
      {
        "duration": 53783,
        "start_time": "2023-09-21T16:41:36.524Z"
      },
      {
        "duration": 53885,
        "start_time": "2023-09-21T16:42:30.309Z"
      },
      {
        "duration": 1952,
        "start_time": "2023-09-22T14:10:24.473Z"
      },
      {
        "duration": 2439,
        "start_time": "2023-09-22T14:10:26.427Z"
      },
      {
        "duration": 11,
        "start_time": "2023-09-22T14:10:29.712Z"
      },
      {
        "duration": 29,
        "start_time": "2023-09-22T14:10:30.015Z"
      },
      {
        "duration": 9,
        "start_time": "2023-09-22T14:10:30.951Z"
      },
      {
        "duration": 28,
        "start_time": "2023-09-22T14:10:31.603Z"
      },
      {
        "duration": 6,
        "start_time": "2023-09-22T14:10:31.861Z"
      },
      {
        "duration": 218,
        "start_time": "2023-09-22T14:10:32.555Z"
      },
      {
        "duration": 6,
        "start_time": "2023-09-22T14:10:33.429Z"
      },
      {
        "duration": 5,
        "start_time": "2023-09-22T14:10:34.161Z"
      },
      {
        "duration": 4,
        "start_time": "2023-09-22T14:10:34.627Z"
      },
      {
        "duration": 517,
        "start_time": "2023-09-22T14:10:41.379Z"
      },
      {
        "duration": 1513,
        "start_time": "2023-09-22T14:11:21.603Z"
      },
      {
        "duration": 908,
        "start_time": "2023-09-22T14:11:24.389Z"
      },
      {
        "duration": 11,
        "start_time": "2023-09-22T14:11:26.787Z"
      },
      {
        "duration": 32,
        "start_time": "2023-09-22T14:11:26.981Z"
      },
      {
        "duration": 12,
        "start_time": "2023-09-22T14:11:27.380Z"
      },
      {
        "duration": 32,
        "start_time": "2023-09-22T14:11:27.832Z"
      },
      {
        "duration": 7,
        "start_time": "2023-09-22T14:11:28.052Z"
      },
      {
        "duration": 214,
        "start_time": "2023-09-22T14:11:28.500Z"
      },
      {
        "duration": 7,
        "start_time": "2023-09-22T14:11:29.011Z"
      },
      {
        "duration": 6,
        "start_time": "2023-09-22T14:11:29.712Z"
      },
      {
        "duration": 4,
        "start_time": "2023-09-22T14:11:29.999Z"
      },
      {
        "duration": 471,
        "start_time": "2023-09-22T14:11:33.036Z"
      },
      {
        "duration": 432,
        "start_time": "2023-09-22T14:12:58.282Z"
      },
      {
        "duration": 5,
        "start_time": "2023-09-22T14:17:46.143Z"
      },
      {
        "duration": 390,
        "start_time": "2023-09-22T14:18:39.127Z"
      },
      {
        "duration": 614,
        "start_time": "2023-09-22T14:20:37.606Z"
      },
      {
        "duration": 526894,
        "start_time": "2023-09-22T14:20:48.763Z"
      },
      {
        "duration": 89,
        "start_time": "2023-09-22T14:46:36.615Z"
      },
      {
        "duration": 13,
        "start_time": "2023-09-22T14:46:46.175Z"
      },
      {
        "duration": 125,
        "start_time": "2023-09-22T14:46:47.076Z"
      },
      {
        "duration": 88,
        "start_time": "2023-09-22T14:46:48.135Z"
      },
      {
        "duration": 93,
        "start_time": "2023-09-22T14:46:49.538Z"
      },
      {
        "duration": 1778,
        "start_time": "2023-09-22T14:47:24.859Z"
      },
      {
        "duration": 905,
        "start_time": "2023-09-22T14:47:26.639Z"
      },
      {
        "duration": 11,
        "start_time": "2023-09-22T14:47:29.408Z"
      },
      {
        "duration": 32,
        "start_time": "2023-09-22T14:47:29.600Z"
      },
      {
        "duration": 11,
        "start_time": "2023-09-22T14:47:29.935Z"
      },
      {
        "duration": 31,
        "start_time": "2023-09-22T14:47:30.271Z"
      },
      {
        "duration": 7,
        "start_time": "2023-09-22T14:47:30.436Z"
      },
      {
        "duration": 213,
        "start_time": "2023-09-22T14:47:30.756Z"
      },
      {
        "duration": 5,
        "start_time": "2023-09-22T14:47:31.092Z"
      },
      {
        "duration": 5,
        "start_time": "2023-09-22T14:47:31.412Z"
      },
      {
        "duration": 4,
        "start_time": "2023-09-22T14:47:31.573Z"
      },
      {
        "duration": 521310,
        "start_time": "2023-09-22T14:47:32.436Z"
      },
      {
        "duration": 42,
        "start_time": "2023-09-22T14:56:13.749Z"
      },
      {
        "duration": 9,
        "start_time": "2023-09-22T14:56:13.793Z"
      },
      {
        "duration": 54,
        "start_time": "2023-09-22T14:56:13.804Z"
      },
      {
        "duration": 5,
        "start_time": "2023-09-22T14:56:13.860Z"
      },
      {
        "duration": 1204,
        "start_time": "2023-09-22T14:56:13.866Z"
      },
      {
        "duration": 0,
        "start_time": "2023-09-22T14:56:15.072Z"
      },
      {
        "duration": 0,
        "start_time": "2023-09-22T14:56:15.073Z"
      },
      {
        "duration": 0,
        "start_time": "2023-09-22T14:56:15.074Z"
      },
      {
        "duration": 0,
        "start_time": "2023-09-22T14:56:15.075Z"
      },
      {
        "duration": 0,
        "start_time": "2023-09-22T14:56:15.076Z"
      },
      {
        "duration": 0,
        "start_time": "2023-09-22T14:56:15.077Z"
      },
      {
        "duration": 0,
        "start_time": "2023-09-22T14:56:15.078Z"
      },
      {
        "duration": 0,
        "start_time": "2023-09-22T14:56:15.079Z"
      },
      {
        "duration": 0,
        "start_time": "2023-09-22T14:56:15.080Z"
      },
      {
        "duration": 0,
        "start_time": "2023-09-22T14:56:15.081Z"
      },
      {
        "duration": 0,
        "start_time": "2023-09-22T14:56:15.082Z"
      },
      {
        "duration": 0,
        "start_time": "2023-09-22T14:56:15.083Z"
      },
      {
        "duration": 0,
        "start_time": "2023-09-22T14:56:15.084Z"
      },
      {
        "duration": 14,
        "start_time": "2023-09-22T15:06:45.191Z"
      },
      {
        "duration": 1183,
        "start_time": "2023-09-22T15:07:09.992Z"
      },
      {
        "duration": 12,
        "start_time": "2023-09-22T15:07:52.877Z"
      },
      {
        "duration": 3,
        "start_time": "2023-09-22T15:09:03.427Z"
      },
      {
        "duration": 43,
        "start_time": "2023-09-22T15:13:11.493Z"
      },
      {
        "duration": 6,
        "start_time": "2023-09-22T15:13:11.827Z"
      },
      {
        "duration": 1778,
        "start_time": "2023-09-22T15:13:19.130Z"
      },
      {
        "duration": 1774,
        "start_time": "2023-09-22T15:13:35.626Z"
      },
      {
        "duration": 865,
        "start_time": "2023-09-22T15:13:41.127Z"
      },
      {
        "duration": 11,
        "start_time": "2023-09-22T15:13:41.993Z"
      },
      {
        "duration": 105,
        "start_time": "2023-09-22T15:13:42.005Z"
      },
      {
        "duration": 11,
        "start_time": "2023-09-22T15:13:42.450Z"
      },
      {
        "duration": 30,
        "start_time": "2023-09-22T15:13:42.801Z"
      },
      {
        "duration": 7,
        "start_time": "2023-09-22T15:13:42.980Z"
      },
      {
        "duration": 203,
        "start_time": "2023-09-22T15:13:43.362Z"
      },
      {
        "duration": 5,
        "start_time": "2023-09-22T15:13:43.795Z"
      },
      {
        "duration": 7,
        "start_time": "2023-09-22T15:13:44.194Z"
      },
      {
        "duration": 4,
        "start_time": "2023-09-22T15:13:44.370Z"
      },
      {
        "duration": 523577,
        "start_time": "2023-09-22T15:13:45.445Z"
      },
      {
        "duration": 47,
        "start_time": "2023-09-22T15:22:29.024Z"
      },
      {
        "duration": 10,
        "start_time": "2023-09-22T15:22:29.073Z"
      },
      {
        "duration": 132,
        "start_time": "2023-09-22T15:22:29.085Z"
      },
      {
        "duration": 0,
        "start_time": "2023-09-22T15:22:29.219Z"
      },
      {
        "duration": 0,
        "start_time": "2023-09-22T15:22:29.220Z"
      },
      {
        "duration": 0,
        "start_time": "2023-09-22T15:22:29.220Z"
      },
      {
        "duration": 0,
        "start_time": "2023-09-22T15:22:29.222Z"
      },
      {
        "duration": 0,
        "start_time": "2023-09-22T15:22:29.223Z"
      },
      {
        "duration": 0,
        "start_time": "2023-09-22T15:22:29.224Z"
      },
      {
        "duration": 3,
        "start_time": "2023-09-22T15:22:51.729Z"
      },
      {
        "duration": 36,
        "start_time": "2023-09-22T15:22:53.285Z"
      },
      {
        "duration": 4,
        "start_time": "2023-09-22T15:22:56.120Z"
      },
      {
        "duration": 13,
        "start_time": "2023-09-22T15:22:57.755Z"
      },
      {
        "duration": 8,
        "start_time": "2023-09-22T15:23:51.197Z"
      },
      {
        "duration": 10,
        "start_time": "2023-09-22T15:26:26.988Z"
      },
      {
        "duration": 20,
        "start_time": "2023-09-22T15:26:51.341Z"
      },
      {
        "duration": 22,
        "start_time": "2023-09-22T15:27:04.721Z"
      },
      {
        "duration": 9,
        "start_time": "2023-09-22T15:27:30.781Z"
      },
      {
        "duration": 1744,
        "start_time": "2023-09-22T15:34:12.044Z"
      },
      {
        "duration": 936,
        "start_time": "2023-09-22T15:34:15.468Z"
      },
      {
        "duration": 11,
        "start_time": "2023-09-22T15:34:16.406Z"
      },
      {
        "duration": 31,
        "start_time": "2023-09-22T15:34:17.512Z"
      },
      {
        "duration": 11,
        "start_time": "2023-09-22T15:34:18.037Z"
      },
      {
        "duration": 30,
        "start_time": "2023-09-22T15:34:18.468Z"
      },
      {
        "duration": 6,
        "start_time": "2023-09-22T15:34:18.646Z"
      },
      {
        "duration": 276,
        "start_time": "2023-09-22T15:34:19.020Z"
      },
      {
        "duration": 6,
        "start_time": "2023-09-22T15:34:19.676Z"
      },
      {
        "duration": 6,
        "start_time": "2023-09-22T15:34:20.412Z"
      },
      {
        "duration": 5,
        "start_time": "2023-09-22T15:34:20.780Z"
      },
      {
        "duration": 140,
        "start_time": "2023-09-22T15:34:23.497Z"
      },
      {
        "duration": 1794,
        "start_time": "2023-09-22T15:35:17.133Z"
      },
      {
        "duration": 897,
        "start_time": "2023-09-22T15:35:18.929Z"
      },
      {
        "duration": 10,
        "start_time": "2023-09-22T15:35:19.827Z"
      },
      {
        "duration": 69,
        "start_time": "2023-09-22T15:35:19.839Z"
      },
      {
        "duration": 20,
        "start_time": "2023-09-22T15:35:19.910Z"
      },
      {
        "duration": 30,
        "start_time": "2023-09-22T15:35:20.142Z"
      },
      {
        "duration": 7,
        "start_time": "2023-09-22T15:35:20.581Z"
      },
      {
        "duration": 212,
        "start_time": "2023-09-22T15:35:22.314Z"
      },
      {
        "duration": 7,
        "start_time": "2023-09-22T15:35:23.170Z"
      },
      {
        "duration": 8,
        "start_time": "2023-09-22T15:35:24.138Z"
      },
      {
        "duration": 4,
        "start_time": "2023-09-22T15:35:24.447Z"
      },
      {
        "duration": 3,
        "start_time": "2023-09-22T15:35:26.671Z"
      },
      {
        "duration": 478559,
        "start_time": "2023-09-22T15:35:28.363Z"
      },
      {
        "duration": 37,
        "start_time": "2023-09-22T15:43:41.413Z"
      },
      {
        "duration": 16,
        "start_time": "2023-09-22T15:43:42.367Z"
      },
      {
        "duration": 11,
        "start_time": "2023-09-22T15:43:55.461Z"
      },
      {
        "duration": 3,
        "start_time": "2023-09-22T15:44:01.621Z"
      },
      {
        "duration": 27,
        "start_time": "2023-09-22T15:44:03.302Z"
      },
      {
        "duration": 6,
        "start_time": "2023-09-22T15:44:05.865Z"
      },
      {
        "duration": 115,
        "start_time": "2023-09-22T15:44:17.290Z"
      },
      {
        "duration": 10,
        "start_time": "2023-09-22T15:44:52.637Z"
      },
      {
        "duration": 13,
        "start_time": "2023-09-22T15:45:58.547Z"
      },
      {
        "duration": 12,
        "start_time": "2023-09-22T15:46:01.157Z"
      },
      {
        "duration": 3069,
        "start_time": "2023-09-23T01:51:41.625Z"
      },
      {
        "duration": 3226,
        "start_time": "2023-09-23T01:51:48.539Z"
      },
      {
        "duration": 15,
        "start_time": "2023-09-23T01:51:51.768Z"
      },
      {
        "duration": 67,
        "start_time": "2023-09-23T01:51:51.786Z"
      },
      {
        "duration": 57,
        "start_time": "2023-09-23T01:51:51.856Z"
      },
      {
        "duration": 54,
        "start_time": "2023-09-23T01:51:51.915Z"
      },
      {
        "duration": 17,
        "start_time": "2023-09-23T01:51:51.971Z"
      },
      {
        "duration": 299,
        "start_time": "2023-09-23T01:51:51.990Z"
      },
      {
        "duration": 11,
        "start_time": "2023-09-23T01:51:52.291Z"
      },
      {
        "duration": 38,
        "start_time": "2023-09-23T01:51:52.306Z"
      },
      {
        "duration": 29,
        "start_time": "2023-09-23T01:51:52.355Z"
      },
      {
        "duration": 4,
        "start_time": "2023-09-23T01:51:55.462Z"
      },
      {
        "duration": 669455,
        "start_time": "2023-09-23T01:51:55.925Z"
      },
      {
        "duration": 49,
        "start_time": "2023-09-23T02:03:05.382Z"
      },
      {
        "duration": 14,
        "start_time": "2023-09-23T02:03:05.432Z"
      },
      {
        "duration": 70,
        "start_time": "2023-09-23T02:03:05.448Z"
      },
      {
        "duration": 159,
        "start_time": "2023-09-23T02:04:49.974Z"
      },
      {
        "duration": 14,
        "start_time": "2023-09-23T02:05:40.326Z"
      },
      {
        "duration": 1976,
        "start_time": "2023-09-23T02:06:28.284Z"
      },
      {
        "duration": 1101,
        "start_time": "2023-09-23T02:06:30.262Z"
      },
      {
        "duration": 14,
        "start_time": "2023-09-23T02:06:31.365Z"
      },
      {
        "duration": 141,
        "start_time": "2023-09-23T02:06:31.381Z"
      },
      {
        "duration": 49,
        "start_time": "2023-09-23T02:06:31.525Z"
      },
      {
        "duration": 36,
        "start_time": "2023-09-23T02:06:32.788Z"
      },
      {
        "duration": 9,
        "start_time": "2023-09-23T02:06:33.038Z"
      },
      {
        "duration": 258,
        "start_time": "2023-09-23T02:06:33.797Z"
      },
      {
        "duration": 18,
        "start_time": "2023-09-23T02:06:34.694Z"
      },
      {
        "duration": 7,
        "start_time": "2023-09-23T02:06:36.843Z"
      },
      {
        "duration": 5,
        "start_time": "2023-09-23T02:06:37.221Z"
      },
      {
        "duration": 5,
        "start_time": "2023-09-23T02:06:39.101Z"
      },
      {
        "duration": 632017,
        "start_time": "2023-09-23T02:06:40.886Z"
      },
      {
        "duration": 21,
        "start_time": "2023-09-23T02:17:12.910Z"
      },
      {
        "duration": 21,
        "start_time": "2023-09-23T02:31:59.427Z"
      },
      {
        "duration": 44,
        "start_time": "2023-09-23T02:32:25.255Z"
      },
      {
        "duration": 13,
        "start_time": "2023-09-23T02:32:26.892Z"
      },
      {
        "duration": 4,
        "start_time": "2023-09-23T02:32:33.424Z"
      },
      {
        "duration": 46,
        "start_time": "2023-09-23T02:32:34.433Z"
      },
      {
        "duration": 8,
        "start_time": "2023-09-23T02:32:48.435Z"
      },
      {
        "duration": 210,
        "start_time": "2023-09-23T02:32:52.143Z"
      },
      {
        "duration": 15,
        "start_time": "2023-09-23T02:33:50.129Z"
      },
      {
        "duration": 15,
        "start_time": "2023-09-23T02:33:57.572Z"
      },
      {
        "duration": 18,
        "start_time": "2023-09-23T02:37:08.505Z"
      },
      {
        "duration": 17,
        "start_time": "2023-09-23T02:39:31.316Z"
      },
      {
        "duration": 15,
        "start_time": "2023-09-23T02:39:59.197Z"
      },
      {
        "duration": 17,
        "start_time": "2023-09-23T02:40:11.571Z"
      },
      {
        "duration": 2474,
        "start_time": "2023-09-23T02:41:32.372Z"
      },
      {
        "duration": 1436,
        "start_time": "2023-09-23T02:41:34.848Z"
      },
      {
        "duration": 21,
        "start_time": "2023-09-23T02:41:36.286Z"
      },
      {
        "duration": 57,
        "start_time": "2023-09-23T02:41:36.310Z"
      },
      {
        "duration": 17,
        "start_time": "2023-09-23T02:41:36.369Z"
      },
      {
        "duration": 42,
        "start_time": "2023-09-23T02:41:37.787Z"
      },
      {
        "duration": 10,
        "start_time": "2023-09-23T02:41:38.581Z"
      },
      {
        "duration": 326,
        "start_time": "2023-09-23T02:41:39.835Z"
      },
      {
        "duration": 8,
        "start_time": "2023-09-23T02:41:41.162Z"
      },
      {
        "duration": 9,
        "start_time": "2023-09-23T02:41:42.522Z"
      },
      {
        "duration": 4,
        "start_time": "2023-09-23T02:41:42.931Z"
      },
      {
        "duration": 4,
        "start_time": "2023-09-23T02:41:45.252Z"
      },
      {
        "duration": 737643,
        "start_time": "2023-09-23T02:41:46.476Z"
      },
      {
        "duration": 23,
        "start_time": "2023-09-23T02:55:36.162Z"
      },
      {
        "duration": 50,
        "start_time": "2023-09-23T02:55:37.357Z"
      },
      {
        "duration": 14,
        "start_time": "2023-09-23T02:55:40.747Z"
      },
      {
        "duration": 8,
        "start_time": "2023-09-23T02:55:44.436Z"
      },
      {
        "duration": 51,
        "start_time": "2023-09-23T02:55:45.795Z"
      },
      {
        "duration": 8,
        "start_time": "2023-09-23T02:55:51.092Z"
      },
      {
        "duration": 204,
        "start_time": "2023-09-23T02:55:56.752Z"
      },
      {
        "duration": 1945,
        "start_time": "2023-09-23T02:56:48.129Z"
      },
      {
        "duration": 1062,
        "start_time": "2023-09-23T02:56:51.243Z"
      },
      {
        "duration": 16,
        "start_time": "2023-09-23T02:56:53.218Z"
      },
      {
        "duration": 43,
        "start_time": "2023-09-23T02:56:53.403Z"
      },
      {
        "duration": 12,
        "start_time": "2023-09-23T02:56:53.737Z"
      },
      {
        "duration": 41,
        "start_time": "2023-09-23T02:56:54.075Z"
      },
      {
        "duration": 10,
        "start_time": "2023-09-23T02:56:54.243Z"
      },
      {
        "duration": 293,
        "start_time": "2023-09-23T02:56:54.628Z"
      },
      {
        "duration": 8,
        "start_time": "2023-09-23T02:56:55.009Z"
      },
      {
        "duration": 9,
        "start_time": "2023-09-23T02:56:55.385Z"
      },
      {
        "duration": 5,
        "start_time": "2023-09-23T02:56:55.608Z"
      },
      {
        "duration": 4,
        "start_time": "2023-09-23T02:56:56.753Z"
      },
      {
        "duration": 609552,
        "start_time": "2023-09-23T02:56:57.419Z"
      },
      {
        "duration": 26,
        "start_time": "2023-09-23T03:09:17.007Z"
      },
      {
        "duration": 45,
        "start_time": "2023-09-23T03:09:20.271Z"
      },
      {
        "duration": 10,
        "start_time": "2023-09-23T03:09:23.766Z"
      },
      {
        "duration": 4,
        "start_time": "2023-09-23T03:09:30.768Z"
      },
      {
        "duration": 63,
        "start_time": "2023-09-23T03:09:31.277Z"
      },
      {
        "duration": 173,
        "start_time": "2023-09-23T03:09:47.203Z"
      },
      {
        "duration": 5,
        "start_time": "2023-09-23T03:10:01.151Z"
      },
      {
        "duration": 16,
        "start_time": "2023-09-23T03:10:06.072Z"
      },
      {
        "duration": 2098,
        "start_time": "2023-09-23T03:15:44.739Z"
      },
      {
        "duration": 1143,
        "start_time": "2023-09-23T03:15:46.839Z"
      },
      {
        "duration": 21,
        "start_time": "2023-09-23T03:15:47.985Z"
      },
      {
        "duration": 46,
        "start_time": "2023-09-23T03:15:48.010Z"
      },
      {
        "duration": 19,
        "start_time": "2023-09-23T03:15:48.058Z"
      },
      {
        "duration": 54,
        "start_time": "2023-09-23T03:15:48.079Z"
      },
      {
        "duration": 13,
        "start_time": "2023-09-23T03:15:48.135Z"
      },
      {
        "duration": 310,
        "start_time": "2023-09-23T03:15:48.150Z"
      },
      {
        "duration": 9,
        "start_time": "2023-09-23T03:15:48.463Z"
      },
      {
        "duration": 32,
        "start_time": "2023-09-23T03:15:48.474Z"
      },
      {
        "duration": 5,
        "start_time": "2023-09-23T03:15:48.509Z"
      },
      {
        "duration": 4,
        "start_time": "2023-09-23T03:15:50.474Z"
      },
      {
        "duration": 2461,
        "start_time": "2023-09-23T03:18:49.610Z"
      },
      {
        "duration": 1408,
        "start_time": "2023-09-23T03:18:52.073Z"
      },
      {
        "duration": 25,
        "start_time": "2023-09-23T03:18:53.483Z"
      },
      {
        "duration": 46,
        "start_time": "2023-09-23T03:18:53.511Z"
      },
      {
        "duration": 19,
        "start_time": "2023-09-23T03:18:53.559Z"
      },
      {
        "duration": 62,
        "start_time": "2023-09-23T03:18:53.580Z"
      },
      {
        "duration": 13,
        "start_time": "2023-09-23T03:18:53.644Z"
      },
      {
        "duration": 306,
        "start_time": "2023-09-23T03:18:53.838Z"
      },
      {
        "duration": 9,
        "start_time": "2023-09-23T03:18:54.523Z"
      },
      {
        "duration": 9,
        "start_time": "2023-09-23T03:18:55.489Z"
      },
      {
        "duration": 5,
        "start_time": "2023-09-23T03:18:55.786Z"
      },
      {
        "duration": 4,
        "start_time": "2023-09-23T03:18:57.423Z"
      },
      {
        "duration": 292,
        "start_time": "2023-09-23T03:18:59.986Z"
      },
      {
        "duration": 609503,
        "start_time": "2023-09-23T03:19:13.061Z"
      },
      {
        "duration": 13,
        "start_time": "2023-09-23T03:30:04.934Z"
      },
      {
        "duration": 9,
        "start_time": "2023-09-23T03:30:06.360Z"
      },
      {
        "duration": 18,
        "start_time": "2023-09-23T03:30:10.968Z"
      },
      {
        "duration": 43,
        "start_time": "2023-09-23T03:30:11.907Z"
      },
      {
        "duration": 5,
        "start_time": "2023-09-23T03:30:15.767Z"
      },
      {
        "duration": 1088,
        "start_time": "2023-09-23T03:30:17.857Z"
      },
      {
        "duration": 17,
        "start_time": "2023-09-23T03:36:43.186Z"
      },
      {
        "duration": 1209,
        "start_time": "2023-09-23T03:37:01.541Z"
      },
      {
        "duration": 16,
        "start_time": "2023-09-23T03:37:48.123Z"
      },
      {
        "duration": 2133,
        "start_time": "2023-09-23T03:38:15.623Z"
      },
      {
        "duration": 1123,
        "start_time": "2023-09-23T03:38:17.758Z"
      },
      {
        "duration": 25,
        "start_time": "2023-09-23T03:38:18.884Z"
      },
      {
        "duration": 40,
        "start_time": "2023-09-23T03:38:18.912Z"
      },
      {
        "duration": 15,
        "start_time": "2023-09-23T03:38:18.955Z"
      },
      {
        "duration": 67,
        "start_time": "2023-09-23T03:38:18.972Z"
      },
      {
        "duration": 13,
        "start_time": "2023-09-23T03:38:19.041Z"
      },
      {
        "duration": 304,
        "start_time": "2023-09-23T03:38:19.056Z"
      },
      {
        "duration": 6,
        "start_time": "2023-09-23T03:38:19.362Z"
      },
      {
        "duration": 11,
        "start_time": "2023-09-23T03:38:20.206Z"
      },
      {
        "duration": 20,
        "start_time": "2023-09-23T03:38:20.222Z"
      },
      {
        "duration": 3,
        "start_time": "2023-09-23T03:38:22.469Z"
      },
      {
        "duration": 583235,
        "start_time": "2023-09-23T03:38:23.589Z"
      },
      {
        "duration": 15,
        "start_time": "2023-09-23T03:48:41.268Z"
      },
      {
        "duration": 8,
        "start_time": "2023-09-23T03:48:42.257Z"
      },
      {
        "duration": 16,
        "start_time": "2023-09-23T03:48:44.732Z"
      },
      {
        "duration": 40,
        "start_time": "2023-09-23T03:48:45.925Z"
      },
      {
        "duration": 5,
        "start_time": "2023-09-23T03:48:49.036Z"
      },
      {
        "duration": 1299,
        "start_time": "2023-09-23T03:48:50.728Z"
      },
      {
        "duration": 2957,
        "start_time": "2023-09-23T10:21:53.738Z"
      },
      {
        "duration": 4098,
        "start_time": "2023-09-23T10:21:58.204Z"
      },
      {
        "duration": 18,
        "start_time": "2023-09-23T10:22:02.304Z"
      },
      {
        "duration": 88,
        "start_time": "2023-09-23T10:22:02.325Z"
      },
      {
        "duration": 14,
        "start_time": "2023-09-23T10:22:02.417Z"
      },
      {
        "duration": 68,
        "start_time": "2023-09-23T10:22:02.433Z"
      },
      {
        "duration": 8,
        "start_time": "2023-09-23T10:22:02.503Z"
      },
      {
        "duration": 312,
        "start_time": "2023-09-23T10:22:02.513Z"
      },
      {
        "duration": 8,
        "start_time": "2023-09-23T10:22:02.828Z"
      },
      {
        "duration": 37,
        "start_time": "2023-09-23T10:22:02.839Z"
      },
      {
        "duration": 5,
        "start_time": "2023-09-23T10:22:02.879Z"
      },
      {
        "duration": 8,
        "start_time": "2023-09-23T10:22:02.890Z"
      },
      {
        "duration": 682194,
        "start_time": "2023-09-23T10:22:03.872Z"
      },
      {
        "duration": 18,
        "start_time": "2023-09-23T10:59:42.437Z"
      },
      {
        "duration": 11,
        "start_time": "2023-09-23T10:59:45.026Z"
      },
      {
        "duration": 16,
        "start_time": "2023-09-23T10:59:47.209Z"
      },
      {
        "duration": 71,
        "start_time": "2023-09-23T10:59:48.028Z"
      },
      {
        "duration": 14,
        "start_time": "2023-09-23T10:59:53.275Z"
      },
      {
        "duration": 8,
        "start_time": "2023-09-23T11:00:14.174Z"
      },
      {
        "duration": 2156,
        "start_time": "2023-09-23T11:23:03.169Z"
      },
      {
        "duration": 1095,
        "start_time": "2023-09-23T11:23:07.280Z"
      },
      {
        "duration": 12,
        "start_time": "2023-09-23T11:23:08.377Z"
      },
      {
        "duration": 44,
        "start_time": "2023-09-23T11:23:08.391Z"
      },
      {
        "duration": 28,
        "start_time": "2023-09-23T11:23:08.438Z"
      },
      {
        "duration": 38,
        "start_time": "2023-09-23T11:23:08.642Z"
      },
      {
        "duration": 10,
        "start_time": "2023-09-23T11:23:08.855Z"
      },
      {
        "duration": 300,
        "start_time": "2023-09-23T11:23:09.313Z"
      },
      {
        "duration": 7,
        "start_time": "2023-09-23T11:23:09.779Z"
      },
      {
        "duration": 9,
        "start_time": "2023-09-23T11:23:10.289Z"
      },
      {
        "duration": 5,
        "start_time": "2023-09-23T11:23:10.545Z"
      },
      {
        "duration": 4,
        "start_time": "2023-09-23T11:23:11.733Z"
      },
      {
        "duration": 4530,
        "start_time": "2023-09-23T11:23:13.666Z"
      },
      {
        "duration": 3842,
        "start_time": "2023-09-23T11:23:47.579Z"
      },
      {
        "duration": 3759,
        "start_time": "2023-09-23T11:26:21.062Z"
      },
      {
        "duration": 3709,
        "start_time": "2023-09-23T11:26:51.334Z"
      },
      {
        "duration": 66,
        "start_time": "2023-09-23T11:29:15.593Z"
      },
      {
        "duration": 5166,
        "start_time": "2023-09-23T11:29:26.701Z"
      },
      {
        "duration": 136144,
        "start_time": "2023-09-23T11:29:44.741Z"
      },
      {
        "duration": 667452,
        "start_time": "2023-09-23T11:32:10.449Z"
      },
      {
        "duration": 16,
        "start_time": "2023-09-23T11:45:25.175Z"
      },
      {
        "duration": 12,
        "start_time": "2023-09-23T11:45:26.441Z"
      },
      {
        "duration": 25,
        "start_time": "2023-09-23T11:45:30.348Z"
      },
      {
        "duration": 54,
        "start_time": "2023-09-23T11:45:32.173Z"
      },
      {
        "duration": 9,
        "start_time": "2023-09-23T11:45:33.174Z"
      },
      {
        "duration": 11,
        "start_time": "2023-09-23T11:45:37.576Z"
      },
      {
        "duration": 1294,
        "start_time": "2023-09-23T11:45:40.393Z"
      },
      {
        "duration": 2032,
        "start_time": "2023-09-23T11:51:35.783Z"
      },
      {
        "duration": 1213,
        "start_time": "2023-09-23T11:51:37.817Z"
      },
      {
        "duration": 15,
        "start_time": "2023-09-23T11:51:39.034Z"
      },
      {
        "duration": 49,
        "start_time": "2023-09-23T11:51:39.058Z"
      },
      {
        "duration": 17,
        "start_time": "2023-09-23T11:51:39.109Z"
      },
      {
        "duration": 70,
        "start_time": "2023-09-23T11:51:39.128Z"
      },
      {
        "duration": 11,
        "start_time": "2023-09-23T11:51:39.200Z"
      },
      {
        "duration": 311,
        "start_time": "2023-09-23T11:51:39.215Z"
      },
      {
        "duration": 7,
        "start_time": "2023-09-23T11:51:39.530Z"
      },
      {
        "duration": 7,
        "start_time": "2023-09-23T11:51:40.994Z"
      },
      {
        "duration": 5,
        "start_time": "2023-09-23T11:51:41.189Z"
      },
      {
        "duration": 3,
        "start_time": "2023-09-23T11:51:42.200Z"
      },
      {
        "duration": 644599,
        "start_time": "2023-09-23T11:51:43.191Z"
      },
      {
        "duration": 60,
        "start_time": "2023-09-23T12:28:55.580Z"
      },
      {
        "duration": 689689,
        "start_time": "2023-09-23T12:33:05.831Z"
      },
      {
        "duration": 2292,
        "start_time": "2023-09-23T12:53:47.754Z"
      },
      {
        "duration": 1260,
        "start_time": "2023-09-23T12:53:50.048Z"
      },
      {
        "duration": 15,
        "start_time": "2023-09-23T12:53:51.310Z"
      },
      {
        "duration": 64,
        "start_time": "2023-09-23T12:53:51.327Z"
      },
      {
        "duration": 13,
        "start_time": "2023-09-23T12:53:51.393Z"
      },
      {
        "duration": 38,
        "start_time": "2023-09-23T12:53:51.408Z"
      },
      {
        "duration": 9,
        "start_time": "2023-09-23T12:53:51.457Z"
      },
      {
        "duration": 287,
        "start_time": "2023-09-23T12:53:51.473Z"
      },
      {
        "duration": 20,
        "start_time": "2023-09-23T12:53:51.765Z"
      },
      {
        "duration": 10,
        "start_time": "2023-09-23T12:53:52.639Z"
      },
      {
        "duration": 4,
        "start_time": "2023-09-23T12:53:53.342Z"
      },
      {
        "duration": 275,
        "start_time": "2023-09-23T12:54:00.489Z"
      },
      {
        "duration": 9305,
        "start_time": "2023-09-23T12:54:32.988Z"
      },
      {
        "duration": 13,
        "start_time": "2023-09-23T12:54:57.032Z"
      },
      {
        "duration": 9,
        "start_time": "2023-09-23T12:55:02.508Z"
      },
      {
        "duration": 17,
        "start_time": "2023-09-23T12:55:04.778Z"
      },
      {
        "duration": 53,
        "start_time": "2023-09-23T12:55:06.237Z"
      },
      {
        "duration": 11,
        "start_time": "2023-09-23T12:55:07.156Z"
      },
      {
        "duration": 7,
        "start_time": "2023-09-23T12:55:08.934Z"
      },
      {
        "duration": 11920,
        "start_time": "2023-09-23T12:55:16.856Z"
      },
      {
        "duration": 2073,
        "start_time": "2023-09-23T13:00:36.393Z"
      },
      {
        "duration": 1269,
        "start_time": "2023-09-23T13:00:38.468Z"
      },
      {
        "duration": 40,
        "start_time": "2023-09-23T13:00:39.738Z"
      },
      {
        "duration": 40,
        "start_time": "2023-09-23T13:00:39.781Z"
      },
      {
        "duration": 14,
        "start_time": "2023-09-23T13:00:39.823Z"
      },
      {
        "duration": 63,
        "start_time": "2023-09-23T13:00:39.839Z"
      },
      {
        "duration": 7,
        "start_time": "2023-09-23T13:00:39.903Z"
      },
      {
        "duration": 299,
        "start_time": "2023-09-23T13:00:39.912Z"
      },
      {
        "duration": 7,
        "start_time": "2023-09-23T13:00:40.213Z"
      },
      {
        "duration": 30,
        "start_time": "2023-09-23T13:00:40.223Z"
      },
      {
        "duration": 29,
        "start_time": "2023-09-23T13:00:40.258Z"
      },
      {
        "duration": 759472,
        "start_time": "2023-09-23T13:00:45.106Z"
      },
      {
        "duration": 16,
        "start_time": "2023-09-23T13:14:20.718Z"
      },
      {
        "duration": 10,
        "start_time": "2023-09-23T13:14:27.632Z"
      },
      {
        "duration": 28,
        "start_time": "2023-09-23T13:14:33.449Z"
      },
      {
        "duration": 47,
        "start_time": "2023-09-23T13:14:34.708Z"
      },
      {
        "duration": 8,
        "start_time": "2023-09-23T13:14:35.892Z"
      },
      {
        "duration": 9,
        "start_time": "2023-09-23T13:14:37.232Z"
      },
      {
        "duration": 2083,
        "start_time": "2023-09-23T13:16:10.968Z"
      },
      {
        "duration": 1132,
        "start_time": "2023-09-23T13:16:13.054Z"
      },
      {
        "duration": 12,
        "start_time": "2023-09-23T13:16:14.188Z"
      },
      {
        "duration": 43,
        "start_time": "2023-09-23T13:16:14.203Z"
      },
      {
        "duration": 18,
        "start_time": "2023-09-23T13:16:14.257Z"
      },
      {
        "duration": 37,
        "start_time": "2023-09-23T13:16:14.277Z"
      },
      {
        "duration": 8,
        "start_time": "2023-09-23T13:16:14.316Z"
      },
      {
        "duration": 290,
        "start_time": "2023-09-23T13:16:14.325Z"
      },
      {
        "duration": 7,
        "start_time": "2023-09-23T13:16:14.616Z"
      },
      {
        "duration": 7,
        "start_time": "2023-09-23T13:16:14.625Z"
      },
      {
        "duration": 23,
        "start_time": "2023-09-23T13:16:14.644Z"
      },
      {
        "duration": 53,
        "start_time": "2023-09-23T13:16:19.471Z"
      },
      {
        "duration": 68425,
        "start_time": "2023-09-23T13:18:08.003Z"
      },
      {
        "duration": 597,
        "start_time": "2023-09-23T13:20:33.474Z"
      },
      {
        "duration": 520,
        "start_time": "2023-09-23T13:22:28.113Z"
      },
      {
        "duration": 60,
        "start_time": "2023-09-23T13:26:33.125Z"
      },
      {
        "duration": 93,
        "start_time": "2023-09-23T13:29:01.245Z"
      },
      {
        "duration": 79,
        "start_time": "2023-09-23T13:30:05.393Z"
      },
      {
        "duration": 94,
        "start_time": "2023-09-23T13:30:23.693Z"
      },
      {
        "duration": 622,
        "start_time": "2023-09-23T13:31:27.094Z"
      },
      {
        "duration": 636,
        "start_time": "2023-09-23T13:31:43.896Z"
      },
      {
        "duration": 630,
        "start_time": "2023-09-23T13:32:20.885Z"
      },
      {
        "duration": 656,
        "start_time": "2023-09-23T13:35:32.959Z"
      },
      {
        "duration": 618,
        "start_time": "2023-09-23T13:43:21.502Z"
      },
      {
        "duration": 139936,
        "start_time": "2023-09-23T13:51:36.084Z"
      },
      {
        "duration": 13,
        "start_time": "2023-09-23T13:55:18.390Z"
      },
      {
        "duration": 9,
        "start_time": "2023-09-23T13:55:25.789Z"
      },
      {
        "duration": 27,
        "start_time": "2023-09-23T13:55:35.352Z"
      },
      {
        "duration": 38,
        "start_time": "2023-09-23T13:55:37.784Z"
      },
      {
        "duration": 6,
        "start_time": "2023-09-23T13:55:40.636Z"
      },
      {
        "duration": 7,
        "start_time": "2023-09-23T13:55:41.684Z"
      },
      {
        "duration": 81,
        "start_time": "2023-09-23T13:56:39.301Z"
      },
      {
        "duration": 12,
        "start_time": "2023-09-23T13:56:39.474Z"
      },
      {
        "duration": 11,
        "start_time": "2023-09-23T13:56:39.883Z"
      },
      {
        "duration": 2421,
        "start_time": "2023-09-23T13:56:57.789Z"
      },
      {
        "duration": 4702,
        "start_time": "2023-09-23T13:57:02.745Z"
      },
      {
        "duration": 28,
        "start_time": "2023-09-23T13:57:07.449Z"
      },
      {
        "duration": 74,
        "start_time": "2023-09-23T13:57:07.488Z"
      },
      {
        "duration": 27,
        "start_time": "2023-09-23T13:57:07.573Z"
      },
      {
        "duration": 37,
        "start_time": "2023-09-23T13:57:07.602Z"
      },
      {
        "duration": 9,
        "start_time": "2023-09-23T13:57:07.642Z"
      },
      {
        "duration": 354,
        "start_time": "2023-09-23T13:57:07.653Z"
      },
      {
        "duration": 13,
        "start_time": "2023-09-23T13:57:08.010Z"
      },
      {
        "duration": 14,
        "start_time": "2023-09-23T13:57:08.095Z"
      },
      {
        "duration": 5,
        "start_time": "2023-09-23T13:57:08.297Z"
      },
      {
        "duration": 131090,
        "start_time": "2023-09-23T13:57:10.388Z"
      },
      {
        "duration": 15,
        "start_time": "2023-09-23T13:59:21.481Z"
      },
      {
        "duration": 8,
        "start_time": "2023-09-23T13:59:21.499Z"
      },
      {
        "duration": 20,
        "start_time": "2023-09-23T13:59:21.510Z"
      },
      {
        "duration": 84,
        "start_time": "2023-09-23T13:59:21.532Z"
      },
      {
        "duration": 19,
        "start_time": "2023-09-23T13:59:21.619Z"
      },
      {
        "duration": 6,
        "start_time": "2023-09-23T13:59:21.641Z"
      },
      {
        "duration": 12864,
        "start_time": "2023-09-23T13:59:21.649Z"
      },
      {
        "duration": 8,
        "start_time": "2023-09-23T13:59:34.516Z"
      },
      {
        "duration": 17,
        "start_time": "2023-09-23T13:59:34.528Z"
      },
      {
        "duration": 38,
        "start_time": "2023-09-23T13:59:34.548Z"
      },
      {
        "duration": 46381,
        "start_time": "2023-09-23T13:59:34.589Z"
      },
      {
        "duration": 2325,
        "start_time": "2023-09-23T14:00:31.018Z"
      },
      {
        "duration": 1272,
        "start_time": "2023-09-23T14:00:33.358Z"
      },
      {
        "duration": 27,
        "start_time": "2023-09-23T14:00:34.632Z"
      },
      {
        "duration": 62,
        "start_time": "2023-09-23T14:00:34.663Z"
      },
      {
        "duration": 20,
        "start_time": "2023-09-23T14:00:34.727Z"
      },
      {
        "duration": 64,
        "start_time": "2023-09-23T14:00:34.749Z"
      },
      {
        "duration": 17,
        "start_time": "2023-09-23T14:00:34.815Z"
      },
      {
        "duration": 307,
        "start_time": "2023-09-23T14:00:34.834Z"
      },
      {
        "duration": 31,
        "start_time": "2023-09-23T14:00:35.144Z"
      },
      {
        "duration": 9,
        "start_time": "2023-09-23T14:00:35.189Z"
      },
      {
        "duration": 18,
        "start_time": "2023-09-23T14:00:35.201Z"
      },
      {
        "duration": 132113,
        "start_time": "2023-09-23T14:00:36.186Z"
      },
      {
        "duration": 12,
        "start_time": "2023-09-23T14:02:48.301Z"
      },
      {
        "duration": 14,
        "start_time": "2023-09-23T14:02:48.315Z"
      },
      {
        "duration": 43,
        "start_time": "2023-09-23T14:02:48.331Z"
      },
      {
        "duration": 91,
        "start_time": "2023-09-23T14:02:48.381Z"
      },
      {
        "duration": 9,
        "start_time": "2023-09-23T14:02:48.483Z"
      },
      {
        "duration": 21,
        "start_time": "2023-09-23T14:02:48.495Z"
      },
      {
        "duration": 12967,
        "start_time": "2023-09-23T14:02:48.518Z"
      },
      {
        "duration": 1628,
        "start_time": "2023-09-23T14:03:01.487Z"
      },
      {
        "duration": 1567,
        "start_time": "2023-09-23T14:03:03.117Z"
      },
      {
        "duration": 5,
        "start_time": "2023-09-23T14:03:04.693Z"
      },
      {
        "duration": 91718,
        "start_time": "2023-09-23T14:03:23.388Z"
      },
      {
        "duration": 106004,
        "start_time": "2023-09-23T14:04:55.108Z"
      },
      {
        "duration": 64867,
        "start_time": "2023-09-23T14:06:41.114Z"
      },
      {
        "duration": 338,
        "start_time": "2023-09-23T14:07:45.994Z"
      },
      {
        "duration": 2163474,
        "start_time": "2023-09-23T14:07:46.335Z"
      },
      {
        "duration": 2357617,
        "start_time": "2023-09-23T14:43:49.813Z"
      },
      {
        "duration": 123706,
        "start_time": "2023-09-23T15:23:07.432Z"
      },
      {
        "duration": 488834,
        "start_time": "2023-09-23T15:25:11.140Z"
      },
      {
        "duration": 53651,
        "start_time": "2023-09-23T15:33:19.977Z"
      },
      {
        "duration": 54295,
        "start_time": "2023-09-23T15:34:13.632Z"
      },
      {
        "duration": 5569,
        "start_time": "2023-09-25T13:47:06.530Z"
      },
      {
        "duration": 2482,
        "start_time": "2023-09-25T13:51:51.168Z"
      },
      {
        "duration": 14,
        "start_time": "2023-09-25T13:51:53.652Z"
      },
      {
        "duration": 53,
        "start_time": "2023-09-25T13:51:53.668Z"
      },
      {
        "duration": 32,
        "start_time": "2023-09-25T13:51:53.724Z"
      },
      {
        "duration": 42,
        "start_time": "2023-09-25T13:51:53.758Z"
      },
      {
        "duration": 40,
        "start_time": "2023-09-25T13:51:53.801Z"
      },
      {
        "duration": 282,
        "start_time": "2023-09-25T13:51:53.843Z"
      },
      {
        "duration": 6,
        "start_time": "2023-09-25T13:51:54.127Z"
      },
      {
        "duration": 6,
        "start_time": "2023-09-25T13:51:54.513Z"
      },
      {
        "duration": 6,
        "start_time": "2023-09-25T13:51:55.302Z"
      },
      {
        "duration": 482,
        "start_time": "2023-09-25T13:54:59.695Z"
      },
      {
        "duration": 568,
        "start_time": "2023-09-25T13:55:32.411Z"
      },
      {
        "duration": 5,
        "start_time": "2023-09-25T13:56:36.186Z"
      },
      {
        "duration": 515,
        "start_time": "2023-09-25T13:56:45.473Z"
      },
      {
        "duration": 513,
        "start_time": "2023-09-25T13:57:07.913Z"
      },
      {
        "duration": 94,
        "start_time": "2023-09-25T14:04:15.161Z"
      },
      {
        "duration": 84,
        "start_time": "2023-09-25T14:04:36.503Z"
      },
      {
        "duration": 94,
        "start_time": "2023-09-25T14:04:43.299Z"
      },
      {
        "duration": 715,
        "start_time": "2023-09-25T14:05:43.854Z"
      },
      {
        "duration": 488,
        "start_time": "2023-09-25T14:07:42.722Z"
      },
      {
        "duration": 4856,
        "start_time": "2023-09-25T14:30:24.792Z"
      },
      {
        "duration": 2522,
        "start_time": "2023-09-25T14:30:29.650Z"
      },
      {
        "duration": 14,
        "start_time": "2023-09-25T14:30:32.173Z"
      },
      {
        "duration": 75,
        "start_time": "2023-09-25T14:30:32.190Z"
      },
      {
        "duration": 84,
        "start_time": "2023-09-25T14:30:32.267Z"
      },
      {
        "duration": 110,
        "start_time": "2023-09-25T14:30:32.354Z"
      },
      {
        "duration": 17,
        "start_time": "2023-09-25T14:30:32.467Z"
      },
      {
        "duration": 244,
        "start_time": "2023-09-25T14:30:32.753Z"
      },
      {
        "duration": 8,
        "start_time": "2023-09-25T14:30:34.570Z"
      },
      {
        "duration": 7,
        "start_time": "2023-09-25T14:30:35.582Z"
      },
      {
        "duration": 4,
        "start_time": "2023-09-25T14:30:37.007Z"
      },
      {
        "duration": 664678,
        "start_time": "2023-09-25T14:34:25.497Z"
      },
      {
        "duration": 3530,
        "start_time": "2023-09-25T14:46:11.909Z"
      },
      {
        "duration": 489,
        "start_time": "2023-09-25T14:52:53.461Z"
      },
      {
        "duration": 796,
        "start_time": "2023-09-25T14:53:40.198Z"
      },
      {
        "duration": 32,
        "start_time": "2023-09-25T14:57:15.227Z"
      },
      {
        "duration": 492,
        "start_time": "2023-09-25T14:57:19.039Z"
      },
      {
        "duration": 5129,
        "start_time": "2023-09-25T14:57:47.842Z"
      },
      {
        "duration": 951,
        "start_time": "2023-09-25T14:57:52.973Z"
      },
      {
        "duration": 14,
        "start_time": "2023-09-25T14:57:53.926Z"
      },
      {
        "duration": 56,
        "start_time": "2023-09-25T14:57:53.942Z"
      },
      {
        "duration": 16,
        "start_time": "2023-09-25T14:57:54.000Z"
      },
      {
        "duration": 78,
        "start_time": "2023-09-25T14:57:54.018Z"
      },
      {
        "duration": 25,
        "start_time": "2023-09-25T14:57:54.098Z"
      },
      {
        "duration": 276,
        "start_time": "2023-09-25T14:57:54.125Z"
      },
      {
        "duration": 7,
        "start_time": "2023-09-25T14:57:56.521Z"
      },
      {
        "duration": 8,
        "start_time": "2023-09-25T14:57:57.807Z"
      },
      {
        "duration": 4,
        "start_time": "2023-09-25T14:57:58.075Z"
      },
      {
        "duration": 31,
        "start_time": "2023-09-25T14:58:00.474Z"
      },
      {
        "duration": 983,
        "start_time": "2023-09-25T14:58:01.997Z"
      },
      {
        "duration": 11,
        "start_time": "2023-09-25T14:59:24.072Z"
      },
      {
        "duration": 519,
        "start_time": "2023-09-25T15:00:02.589Z"
      },
      {
        "duration": 47,
        "start_time": "2023-09-25T15:01:50.520Z"
      },
      {
        "duration": 12,
        "start_time": "2023-09-25T15:01:53.580Z"
      },
      {
        "duration": 728,
        "start_time": "2023-09-25T15:01:54.697Z"
      },
      {
        "duration": 700,
        "start_time": "2023-09-25T15:02:36.040Z"
      },
      {
        "duration": 4661,
        "start_time": "2023-09-25T15:03:08.706Z"
      },
      {
        "duration": 949,
        "start_time": "2023-09-25T15:03:16.266Z"
      },
      {
        "duration": 12,
        "start_time": "2023-09-25T15:03:17.218Z"
      },
      {
        "duration": 52,
        "start_time": "2023-09-25T15:03:17.232Z"
      },
      {
        "duration": 27,
        "start_time": "2023-09-25T15:03:17.286Z"
      },
      {
        "duration": 33,
        "start_time": "2023-09-25T15:03:17.503Z"
      },
      {
        "duration": 7,
        "start_time": "2023-09-25T15:03:17.671Z"
      },
      {
        "duration": 240,
        "start_time": "2023-09-25T15:03:18.060Z"
      },
      {
        "duration": 6,
        "start_time": "2023-09-25T15:03:18.470Z"
      },
      {
        "duration": 6,
        "start_time": "2023-09-25T15:03:18.899Z"
      },
      {
        "duration": 4,
        "start_time": "2023-09-25T15:03:19.471Z"
      },
      {
        "duration": 39,
        "start_time": "2023-09-25T15:03:23.210Z"
      },
      {
        "duration": 12,
        "start_time": "2023-09-25T15:03:24.553Z"
      },
      {
        "duration": 908,
        "start_time": "2023-09-25T15:03:26.041Z"
      },
      {
        "duration": 20,
        "start_time": "2023-09-25T15:06:07.939Z"
      },
      {
        "duration": 697,
        "start_time": "2023-09-25T15:07:05.136Z"
      },
      {
        "duration": 33,
        "start_time": "2023-09-25T15:07:14.339Z"
      },
      {
        "duration": 26,
        "start_time": "2023-09-25T15:09:10.017Z"
      },
      {
        "duration": 23,
        "start_time": "2023-09-25T15:09:58.731Z"
      },
      {
        "duration": 7,
        "start_time": "2023-09-25T15:10:45.596Z"
      },
      {
        "duration": 20,
        "start_time": "2023-09-25T15:10:55.691Z"
      },
      {
        "duration": 19,
        "start_time": "2023-09-25T15:11:11.188Z"
      },
      {
        "duration": 1033,
        "start_time": "2023-09-25T15:13:15.217Z"
      },
      {
        "duration": 1501,
        "start_time": "2023-09-25T15:13:17.715Z"
      },
      {
        "duration": 5337,
        "start_time": "2023-09-25T15:13:49.162Z"
      },
      {
        "duration": 964,
        "start_time": "2023-09-25T15:13:54.501Z"
      },
      {
        "duration": 13,
        "start_time": "2023-09-25T15:13:55.467Z"
      },
      {
        "duration": 42,
        "start_time": "2023-09-25T15:13:55.482Z"
      },
      {
        "duration": 23,
        "start_time": "2023-09-25T15:13:55.525Z"
      },
      {
        "duration": 35,
        "start_time": "2023-09-25T15:13:55.550Z"
      },
      {
        "duration": 24,
        "start_time": "2023-09-25T15:13:55.587Z"
      },
      {
        "duration": 241,
        "start_time": "2023-09-25T15:13:55.613Z"
      },
      {
        "duration": 8,
        "start_time": "2023-09-25T15:13:55.856Z"
      },
      {
        "duration": 98,
        "start_time": "2023-09-25T15:13:55.866Z"
      },
      {
        "duration": 27,
        "start_time": "2023-09-25T15:13:55.965Z"
      },
      {
        "duration": 1607,
        "start_time": "2023-09-25T15:13:59.334Z"
      },
      {
        "duration": 1386,
        "start_time": "2023-09-25T15:14:00.943Z"
      },
      {
        "duration": 384,
        "start_time": "2023-09-25T15:17:31.027Z"
      },
      {
        "duration": 21,
        "start_time": "2023-09-25T15:17:42.674Z"
      },
      {
        "duration": 24,
        "start_time": "2023-09-25T15:17:55.517Z"
      },
      {
        "duration": 11,
        "start_time": "2023-09-25T15:19:08.952Z"
      },
      {
        "duration": 657,
        "start_time": "2023-09-25T15:19:13.423Z"
      },
      {
        "duration": 6551,
        "start_time": "2023-09-25T15:19:29.310Z"
      },
      {
        "duration": 999,
        "start_time": "2023-09-25T15:19:35.863Z"
      },
      {
        "duration": 12,
        "start_time": "2023-09-25T15:19:36.864Z"
      },
      {
        "duration": 42,
        "start_time": "2023-09-25T15:19:36.878Z"
      },
      {
        "duration": 42,
        "start_time": "2023-09-25T15:19:36.922Z"
      },
      {
        "duration": 50,
        "start_time": "2023-09-25T15:19:36.966Z"
      },
      {
        "duration": 25,
        "start_time": "2023-09-25T15:19:37.018Z"
      },
      {
        "duration": 255,
        "start_time": "2023-09-25T15:19:37.044Z"
      },
      {
        "duration": 7,
        "start_time": "2023-09-25T15:19:37.301Z"
      },
      {
        "duration": 58,
        "start_time": "2023-09-25T15:19:37.311Z"
      },
      {
        "duration": 4,
        "start_time": "2023-09-25T15:19:37.371Z"
      },
      {
        "duration": 39,
        "start_time": "2023-09-25T15:19:38.774Z"
      },
      {
        "duration": 11,
        "start_time": "2023-09-25T15:19:39.583Z"
      },
      {
        "duration": 913,
        "start_time": "2023-09-25T15:19:49.310Z"
      },
      {
        "duration": 32,
        "start_time": "2023-09-25T15:20:16.396Z"
      },
      {
        "duration": 498,
        "start_time": "2023-09-25T15:21:36.647Z"
      },
      {
        "duration": 21,
        "start_time": "2023-09-25T15:24:58.992Z"
      },
      {
        "duration": 29,
        "start_time": "2023-09-25T15:25:07.285Z"
      },
      {
        "duration": 3090,
        "start_time": "2023-09-25T15:25:38.147Z"
      },
      {
        "duration": 33,
        "start_time": "2023-09-25T15:25:43.433Z"
      },
      {
        "duration": 702,
        "start_time": "2023-09-25T15:25:49.488Z"
      },
      {
        "duration": 5378,
        "start_time": "2023-09-25T15:27:35.651Z"
      },
      {
        "duration": 947,
        "start_time": "2023-09-25T15:27:41.030Z"
      },
      {
        "duration": 12,
        "start_time": "2023-09-25T15:27:41.979Z"
      },
      {
        "duration": 51,
        "start_time": "2023-09-25T15:27:41.993Z"
      },
      {
        "duration": 30,
        "start_time": "2023-09-25T15:27:42.046Z"
      },
      {
        "duration": 59,
        "start_time": "2023-09-25T15:27:42.077Z"
      },
      {
        "duration": 8,
        "start_time": "2023-09-25T15:27:59.964Z"
      },
      {
        "duration": 245,
        "start_time": "2023-09-25T15:28:01.459Z"
      },
      {
        "duration": 8,
        "start_time": "2023-09-25T15:28:01.913Z"
      },
      {
        "duration": 7,
        "start_time": "2023-09-25T15:28:02.590Z"
      },
      {
        "duration": 4,
        "start_time": "2023-09-25T15:28:03.035Z"
      },
      {
        "duration": 28,
        "start_time": "2023-09-25T15:28:04.764Z"
      },
      {
        "duration": 33,
        "start_time": "2023-09-25T15:28:05.020Z"
      },
      {
        "duration": 919,
        "start_time": "2023-09-25T15:28:07.654Z"
      },
      {
        "duration": 566,
        "start_time": "2023-09-25T15:28:35.180Z"
      },
      {
        "duration": 3765,
        "start_time": "2023-09-25T15:29:37.794Z"
      },
      {
        "duration": 134,
        "start_time": "2023-09-25T15:38:48.218Z"
      },
      {
        "duration": 5525,
        "start_time": "2023-09-25T15:39:03.034Z"
      },
      {
        "duration": 956,
        "start_time": "2023-09-25T15:39:08.561Z"
      },
      {
        "duration": 13,
        "start_time": "2023-09-25T15:39:10.644Z"
      },
      {
        "duration": 36,
        "start_time": "2023-09-25T15:39:10.874Z"
      },
      {
        "duration": 12,
        "start_time": "2023-09-25T15:39:11.266Z"
      },
      {
        "duration": 34,
        "start_time": "2023-09-25T15:39:11.658Z"
      },
      {
        "duration": 8,
        "start_time": "2023-09-25T15:39:11.931Z"
      },
      {
        "duration": 241,
        "start_time": "2023-09-25T15:39:12.363Z"
      },
      {
        "duration": 6,
        "start_time": "2023-09-25T15:39:12.833Z"
      },
      {
        "duration": 7,
        "start_time": "2023-09-25T15:39:13.395Z"
      },
      {
        "duration": 3,
        "start_time": "2023-09-25T15:39:13.620Z"
      },
      {
        "duration": 34,
        "start_time": "2023-09-25T15:39:16.219Z"
      },
      {
        "duration": 889,
        "start_time": "2023-09-25T15:39:16.546Z"
      },
      {
        "duration": 8,
        "start_time": "2023-09-25T15:39:19.077Z"
      },
      {
        "duration": 1786,
        "start_time": "2023-09-25T15:39:37.553Z"
      },
      {
        "duration": 59,
        "start_time": "2023-09-25T15:41:02.317Z"
      },
      {
        "duration": 5,
        "start_time": "2023-09-25T15:41:21.909Z"
      },
      {
        "duration": 4,
        "start_time": "2023-09-25T15:41:51.811Z"
      },
      {
        "duration": 5,
        "start_time": "2023-09-25T15:42:38.003Z"
      },
      {
        "duration": 6,
        "start_time": "2023-09-25T15:42:42.983Z"
      },
      {
        "duration": 7,
        "start_time": "2023-09-25T15:45:40.276Z"
      },
      {
        "duration": 5,
        "start_time": "2023-09-25T15:45:58.533Z"
      },
      {
        "duration": 7,
        "start_time": "2023-09-25T15:46:11.893Z"
      },
      {
        "duration": 8,
        "start_time": "2023-09-25T15:47:48.921Z"
      },
      {
        "duration": 8,
        "start_time": "2023-09-25T15:48:41.308Z"
      },
      {
        "duration": 94599,
        "start_time": "2023-09-25T15:50:09.682Z"
      },
      {
        "duration": 424808,
        "start_time": "2023-09-25T15:51:57.770Z"
      },
      {
        "duration": 5597,
        "start_time": "2023-09-25T15:59:19.585Z"
      },
      {
        "duration": 1043,
        "start_time": "2023-09-25T15:59:25.184Z"
      },
      {
        "duration": 24,
        "start_time": "2023-09-25T15:59:26.228Z"
      },
      {
        "duration": 36,
        "start_time": "2023-09-25T15:59:26.255Z"
      },
      {
        "duration": 22,
        "start_time": "2023-09-25T15:59:26.293Z"
      },
      {
        "duration": 47,
        "start_time": "2023-09-25T15:59:26.317Z"
      },
      {
        "duration": 13,
        "start_time": "2023-09-25T15:59:26.366Z"
      },
      {
        "duration": 254,
        "start_time": "2023-09-25T15:59:26.380Z"
      },
      {
        "duration": 12,
        "start_time": "2023-09-25T15:59:26.636Z"
      },
      {
        "duration": 6,
        "start_time": "2023-09-25T15:59:26.651Z"
      },
      {
        "duration": 11,
        "start_time": "2023-09-25T15:59:26.659Z"
      },
      {
        "duration": 34,
        "start_time": "2023-09-25T15:59:32.596Z"
      },
      {
        "duration": 1724,
        "start_time": "2023-09-25T15:59:57.113Z"
      },
      {
        "duration": 623678,
        "start_time": "2023-09-25T16:00:08.181Z"
      },
      {
        "duration": 19,
        "start_time": "2023-09-25T16:10:52.515Z"
      },
      {
        "duration": 40,
        "start_time": "2023-09-25T16:11:24.184Z"
      },
      {
        "duration": 14,
        "start_time": "2023-09-25T16:11:42.114Z"
      },
      {
        "duration": 38,
        "start_time": "2023-09-25T16:12:03.693Z"
      },
      {
        "duration": 14,
        "start_time": "2023-09-25T16:13:46.009Z"
      },
      {
        "duration": 16,
        "start_time": "2023-09-25T16:13:48.083Z"
      },
      {
        "duration": 14,
        "start_time": "2023-09-25T16:13:54.173Z"
      },
      {
        "duration": 48,
        "start_time": "2023-09-25T16:13:55.281Z"
      },
      {
        "duration": 5,
        "start_time": "2023-09-25T16:13:56.591Z"
      },
      {
        "duration": 11,
        "start_time": "2023-09-25T16:14:00.518Z"
      },
      {
        "duration": 52,
        "start_time": "2023-09-25T16:16:19.803Z"
      },
      {
        "duration": 7,
        "start_time": "2023-09-25T16:16:19.981Z"
      },
      {
        "duration": 7,
        "start_time": "2023-09-25T16:16:20.952Z"
      },
      {
        "duration": 5278,
        "start_time": "2023-09-25T16:16:41.024Z"
      },
      {
        "duration": 956,
        "start_time": "2023-09-25T16:16:46.304Z"
      },
      {
        "duration": 13,
        "start_time": "2023-09-25T16:16:47.261Z"
      },
      {
        "duration": 32,
        "start_time": "2023-09-25T16:16:47.277Z"
      },
      {
        "duration": 16,
        "start_time": "2023-09-25T16:16:47.311Z"
      },
      {
        "duration": 53,
        "start_time": "2023-09-25T16:16:47.329Z"
      },
      {
        "duration": 18,
        "start_time": "2023-09-25T16:16:47.384Z"
      },
      {
        "duration": 245,
        "start_time": "2023-09-25T16:16:47.403Z"
      },
      {
        "duration": 6,
        "start_time": "2023-09-25T16:16:47.649Z"
      },
      {
        "duration": 11,
        "start_time": "2023-09-25T16:16:47.657Z"
      },
      {
        "duration": 5,
        "start_time": "2023-09-25T16:16:47.669Z"
      },
      {
        "duration": 36,
        "start_time": "2023-09-25T16:16:51.564Z"
      },
      {
        "duration": 1749,
        "start_time": "2023-09-25T16:16:55.911Z"
      },
      {
        "duration": 626039,
        "start_time": "2023-09-25T16:17:11.486Z"
      },
      {
        "duration": 19,
        "start_time": "2023-09-25T16:29:01.913Z"
      },
      {
        "duration": 43,
        "start_time": "2023-09-25T16:29:08.794Z"
      },
      {
        "duration": 398,
        "start_time": "2023-09-25T16:30:15.705Z"
      },
      {
        "duration": 59,
        "start_time": "2023-09-25T16:30:52.176Z"
      },
      {
        "duration": 1365,
        "start_time": "2023-09-25T16:32:21.926Z"
      },
      {
        "duration": 11,
        "start_time": "2023-09-25T16:32:27.535Z"
      },
      {
        "duration": 36,
        "start_time": "2023-09-25T16:33:04.600Z"
      },
      {
        "duration": 437,
        "start_time": "2023-09-25T16:35:09.007Z"
      },
      {
        "duration": 5490,
        "start_time": "2023-09-25T16:35:11.867Z"
      },
      {
        "duration": 6,
        "start_time": "2023-09-25T16:36:24.498Z"
      },
      {
        "duration": 896,
        "start_time": "2023-09-25T16:36:25.475Z"
      },
      {
        "duration": 8,
        "start_time": "2023-09-25T16:36:26.373Z"
      },
      {
        "duration": 32,
        "start_time": "2023-09-25T16:36:26.617Z"
      },
      {
        "duration": 11,
        "start_time": "2023-09-25T16:36:27.071Z"
      },
      {
        "duration": 33,
        "start_time": "2023-09-25T16:36:27.575Z"
      },
      {
        "duration": 7,
        "start_time": "2023-09-25T16:36:27.793Z"
      },
      {
        "duration": 236,
        "start_time": "2023-09-25T16:36:28.332Z"
      },
      {
        "duration": 8,
        "start_time": "2023-09-25T16:36:29.226Z"
      },
      {
        "duration": 5484,
        "start_time": "2023-09-25T16:36:42.857Z"
      },
      {
        "duration": 1014,
        "start_time": "2023-09-25T16:36:48.343Z"
      },
      {
        "duration": 18,
        "start_time": "2023-09-25T16:36:49.359Z"
      },
      {
        "duration": 38,
        "start_time": "2023-09-25T16:36:49.380Z"
      },
      {
        "duration": 32,
        "start_time": "2023-09-25T16:36:49.420Z"
      },
      {
        "duration": 67,
        "start_time": "2023-09-25T16:36:49.454Z"
      },
      {
        "duration": 7,
        "start_time": "2023-09-25T16:36:49.524Z"
      },
      {
        "duration": 266,
        "start_time": "2023-09-25T16:36:49.533Z"
      },
      {
        "duration": 7,
        "start_time": "2023-09-25T16:36:49.801Z"
      },
      {
        "duration": 39,
        "start_time": "2023-09-25T16:36:49.810Z"
      },
      {
        "duration": 6,
        "start_time": "2023-09-25T16:36:49.851Z"
      },
      {
        "duration": 58,
        "start_time": "2023-09-25T16:36:49.859Z"
      },
      {
        "duration": 1849,
        "start_time": "2023-09-25T16:36:55.184Z"
      },
      {
        "duration": 675496,
        "start_time": "2023-09-25T16:37:14.582Z"
      },
      {
        "duration": 18,
        "start_time": "2023-09-25T16:49:20.493Z"
      },
      {
        "duration": 43,
        "start_time": "2023-09-25T16:49:27.838Z"
      },
      {
        "duration": 11,
        "start_time": "2023-09-25T16:49:44.616Z"
      },
      {
        "duration": 1427,
        "start_time": "2023-09-25T16:49:56.601Z"
      },
      {
        "duration": 9,
        "start_time": "2023-09-25T16:49:58.030Z"
      },
      {
        "duration": 4,
        "start_time": "2023-09-25T16:50:08.138Z"
      },
      {
        "duration": 55,
        "start_time": "2023-09-25T16:50:09.410Z"
      },
      {
        "duration": 7,
        "start_time": "2023-09-25T16:50:36.545Z"
      },
      {
        "duration": 8,
        "start_time": "2023-09-25T16:50:40.322Z"
      },
      {
        "duration": 58,
        "start_time": "2023-09-25T16:51:06.417Z"
      },
      {
        "duration": 6163,
        "start_time": "2023-09-25T16:51:39.062Z"
      },
      {
        "duration": 2806,
        "start_time": "2023-09-25T16:51:45.228Z"
      },
      {
        "duration": 23,
        "start_time": "2023-09-25T16:51:48.035Z"
      },
      {
        "duration": 35,
        "start_time": "2023-09-25T16:51:48.060Z"
      },
      {
        "duration": 11,
        "start_time": "2023-09-25T16:51:49.297Z"
      },
      {
        "duration": 34,
        "start_time": "2023-09-25T16:51:49.695Z"
      },
      {
        "duration": 7,
        "start_time": "2023-09-25T16:51:49.878Z"
      },
      {
        "duration": 265,
        "start_time": "2023-09-25T16:51:50.233Z"
      },
      {
        "duration": 6,
        "start_time": "2023-09-25T16:51:50.809Z"
      },
      {
        "duration": 6,
        "start_time": "2023-09-25T16:51:51.169Z"
      },
      {
        "duration": 4,
        "start_time": "2023-09-25T16:51:51.374Z"
      },
      {
        "duration": 32,
        "start_time": "2023-09-25T16:51:52.792Z"
      },
      {
        "duration": 1950,
        "start_time": "2023-09-25T16:51:53.465Z"
      },
      {
        "duration": 395522,
        "start_time": "2023-09-25T16:51:55.417Z"
      },
      {
        "duration": 17,
        "start_time": "2023-09-25T16:58:30.942Z"
      },
      {
        "duration": 30,
        "start_time": "2023-09-25T16:58:30.962Z"
      },
      {
        "duration": 2784,
        "start_time": "2023-09-25T16:58:30.993Z"
      },
      {
        "duration": 0,
        "start_time": "2023-09-25T16:58:33.779Z"
      },
      {
        "duration": 0,
        "start_time": "2023-09-25T16:58:33.780Z"
      },
      {
        "duration": 0,
        "start_time": "2023-09-25T16:58:33.782Z"
      },
      {
        "duration": 0,
        "start_time": "2023-09-25T16:58:33.783Z"
      },
      {
        "duration": 0,
        "start_time": "2023-09-25T16:58:33.784Z"
      },
      {
        "duration": 0,
        "start_time": "2023-09-25T16:58:33.785Z"
      },
      {
        "duration": 5708,
        "start_time": "2023-09-25T16:59:30.793Z"
      },
      {
        "duration": 994,
        "start_time": "2023-09-25T16:59:36.507Z"
      },
      {
        "duration": 12,
        "start_time": "2023-09-25T16:59:37.503Z"
      },
      {
        "duration": 47,
        "start_time": "2023-09-25T16:59:37.517Z"
      },
      {
        "duration": 12,
        "start_time": "2023-09-25T16:59:39.361Z"
      },
      {
        "duration": 38,
        "start_time": "2023-09-25T16:59:39.735Z"
      },
      {
        "duration": 7,
        "start_time": "2023-09-25T16:59:39.964Z"
      },
      {
        "duration": 267,
        "start_time": "2023-09-25T16:59:40.303Z"
      },
      {
        "duration": 7,
        "start_time": "2023-09-25T16:59:40.673Z"
      },
      {
        "duration": 14,
        "start_time": "2023-09-25T16:59:41.046Z"
      },
      {
        "duration": 4,
        "start_time": "2023-09-25T16:59:41.238Z"
      },
      {
        "duration": 34,
        "start_time": "2023-09-25T16:59:42.566Z"
      },
      {
        "duration": 1826,
        "start_time": "2023-09-25T16:59:43.145Z"
      },
      {
        "duration": 702178,
        "start_time": "2023-09-25T16:59:44.973Z"
      },
      {
        "duration": 22,
        "start_time": "2023-09-25T17:11:27.155Z"
      },
      {
        "duration": 90,
        "start_time": "2023-09-25T17:11:27.179Z"
      },
      {
        "duration": 9,
        "start_time": "2023-09-25T17:11:27.271Z"
      },
      {
        "duration": 17,
        "start_time": "2023-09-25T17:11:27.282Z"
      },
      {
        "duration": 59,
        "start_time": "2023-09-25T17:11:27.301Z"
      },
      {
        "duration": 6,
        "start_time": "2023-09-25T17:11:27.362Z"
      },
      {
        "duration": 7,
        "start_time": "2023-09-25T17:11:39.789Z"
      },
      {
        "duration": 474,
        "start_time": "2023-09-25T17:13:04.864Z"
      },
      {
        "duration": 5,
        "start_time": "2023-09-25T17:15:17.596Z"
      },
      {
        "duration": 27,
        "start_time": "2023-09-25T17:15:36.699Z"
      },
      {
        "duration": 9,
        "start_time": "2023-09-25T17:16:06.292Z"
      },
      {
        "duration": 6,
        "start_time": "2023-09-25T17:16:29.939Z"
      },
      {
        "duration": 7,
        "start_time": "2023-09-25T17:16:41.757Z"
      },
      {
        "duration": 5,
        "start_time": "2023-09-25T17:16:43.430Z"
      },
      {
        "duration": 23,
        "start_time": "2023-09-25T17:17:33.012Z"
      },
      {
        "duration": 6364,
        "start_time": "2023-09-25T17:19:35.412Z"
      },
      {
        "duration": 1098,
        "start_time": "2023-09-25T17:19:41.779Z"
      },
      {
        "duration": 18,
        "start_time": "2023-09-25T17:19:44.207Z"
      },
      {
        "duration": 46,
        "start_time": "2023-09-25T17:19:44.428Z"
      },
      {
        "duration": 17,
        "start_time": "2023-09-25T17:19:44.865Z"
      },
      {
        "duration": 63,
        "start_time": "2023-09-25T17:19:45.416Z"
      },
      {
        "duration": 12,
        "start_time": "2023-09-25T17:19:45.635Z"
      },
      {
        "duration": 325,
        "start_time": "2023-09-25T17:19:46.769Z"
      },
      {
        "duration": 10,
        "start_time": "2023-09-25T17:19:47.135Z"
      },
      {
        "duration": 10,
        "start_time": "2023-09-25T17:19:47.575Z"
      },
      {
        "duration": 5,
        "start_time": "2023-09-25T17:19:47.796Z"
      },
      {
        "duration": 42,
        "start_time": "2023-09-25T17:19:49.325Z"
      },
      {
        "duration": 1939,
        "start_time": "2023-09-25T17:19:49.993Z"
      },
      {
        "duration": 717423,
        "start_time": "2023-09-25T17:19:51.934Z"
      },
      {
        "duration": 19,
        "start_time": "2023-09-25T17:31:49.358Z"
      },
      {
        "duration": 42,
        "start_time": "2023-09-25T17:31:49.379Z"
      },
      {
        "duration": 29,
        "start_time": "2023-09-25T17:31:49.423Z"
      },
      {
        "duration": 83,
        "start_time": "2023-09-25T17:31:49.460Z"
      },
      {
        "duration": 152,
        "start_time": "2023-09-25T17:34:34.062Z"
      },
      {
        "duration": 6,
        "start_time": "2023-09-25T17:36:53.295Z"
      },
      {
        "duration": 4027,
        "start_time": "2023-09-25T17:40:45.002Z"
      },
      {
        "duration": 4028,
        "start_time": "2023-09-25T17:41:13.154Z"
      },
      {
        "duration": 3967,
        "start_time": "2023-09-25T17:41:50.986Z"
      },
      {
        "duration": 413,
        "start_time": "2023-09-25T17:42:26.707Z"
      },
      {
        "duration": 1961,
        "start_time": "2023-09-25T17:44:14.350Z"
      },
      {
        "duration": 62,
        "start_time": "2023-09-25T17:44:32.334Z"
      },
      {
        "duration": 58,
        "start_time": "2023-09-25T17:45:28.159Z"
      },
      {
        "duration": 1349,
        "start_time": "2023-09-25T17:46:48.281Z"
      },
      {
        "duration": 6,
        "start_time": "2023-09-25T17:47:21.625Z"
      },
      {
        "duration": 25,
        "start_time": "2023-09-25T17:47:55.323Z"
      },
      {
        "duration": 39,
        "start_time": "2023-09-25T17:48:29.451Z"
      },
      {
        "duration": 4541,
        "start_time": "2023-09-25T17:51:05.926Z"
      },
      {
        "duration": 5,
        "start_time": "2023-09-25T17:54:10.973Z"
      },
      {
        "duration": 6474,
        "start_time": "2023-09-25T23:32:10.327Z"
      },
      {
        "duration": 2530,
        "start_time": "2023-09-25T23:32:16.803Z"
      },
      {
        "duration": 14,
        "start_time": "2023-09-25T23:32:20.333Z"
      },
      {
        "duration": 33,
        "start_time": "2023-09-25T23:32:20.589Z"
      },
      {
        "duration": 11,
        "start_time": "2023-09-25T23:32:21.086Z"
      },
      {
        "duration": 32,
        "start_time": "2023-09-25T23:32:21.580Z"
      },
      {
        "duration": 7,
        "start_time": "2023-09-25T23:32:21.840Z"
      },
      {
        "duration": 233,
        "start_time": "2023-09-25T23:32:22.268Z"
      },
      {
        "duration": 6,
        "start_time": "2023-09-25T23:32:23.821Z"
      },
      {
        "duration": 7,
        "start_time": "2023-09-25T23:32:24.322Z"
      },
      {
        "duration": 5,
        "start_time": "2023-09-25T23:32:24.544Z"
      },
      {
        "duration": 31,
        "start_time": "2023-09-25T23:32:26.724Z"
      },
      {
        "duration": 102195,
        "start_time": "2023-09-25T23:32:27.225Z"
      },
      {
        "duration": 7,
        "start_time": "2023-09-25T23:38:57.579Z"
      },
      {
        "duration": 5535,
        "start_time": "2023-09-25T23:40:39.079Z"
      },
      {
        "duration": 978,
        "start_time": "2023-09-25T23:40:44.617Z"
      },
      {
        "duration": 19,
        "start_time": "2023-09-25T23:40:45.597Z"
      },
      {
        "duration": 32,
        "start_time": "2023-09-25T23:40:45.619Z"
      },
      {
        "duration": 25,
        "start_time": "2023-09-25T23:40:45.653Z"
      },
      {
        "duration": 76,
        "start_time": "2023-09-25T23:40:45.679Z"
      },
      {
        "duration": 12,
        "start_time": "2023-09-25T23:40:45.757Z"
      },
      {
        "duration": 244,
        "start_time": "2023-09-25T23:40:45.771Z"
      },
      {
        "duration": 5,
        "start_time": "2023-09-25T23:40:46.017Z"
      },
      {
        "duration": 41,
        "start_time": "2023-09-25T23:40:46.024Z"
      },
      {
        "duration": 3,
        "start_time": "2023-09-25T23:40:46.067Z"
      },
      {
        "duration": 3,
        "start_time": "2023-09-25T23:40:47.430Z"
      },
      {
        "duration": 4502,
        "start_time": "2023-09-25T23:41:34.814Z"
      },
      {
        "duration": 5,
        "start_time": "2023-09-25T23:42:40.065Z"
      },
      {
        "duration": 913,
        "start_time": "2023-09-25T23:43:19.218Z"
      },
      {
        "duration": 7,
        "start_time": "2023-09-25T23:43:54.393Z"
      },
      {
        "duration": 5,
        "start_time": "2023-09-25T23:44:06.212Z"
      },
      {
        "duration": 1219236,
        "start_time": "2023-09-25T23:44:09.617Z"
      },
      {
        "duration": 9,
        "start_time": "2023-09-26T00:07:51.650Z"
      },
      {
        "duration": 40,
        "start_time": "2023-09-26T00:08:22.028Z"
      },
      {
        "duration": 9,
        "start_time": "2023-09-26T00:08:29.848Z"
      },
      {
        "duration": 11,
        "start_time": "2023-09-26T00:08:36.820Z"
      },
      {
        "duration": 44,
        "start_time": "2023-09-26T00:08:37.801Z"
      },
      {
        "duration": 7,
        "start_time": "2023-09-26T00:08:40.341Z"
      },
      {
        "duration": 6,
        "start_time": "2023-09-26T00:08:45.664Z"
      },
      {
        "duration": 10069,
        "start_time": "2023-09-26T00:08:49.112Z"
      },
      {
        "duration": 83,
        "start_time": "2023-09-26T00:09:03.216Z"
      },
      {
        "duration": 1188,
        "start_time": "2023-09-26T00:09:12.186Z"
      },
      {
        "duration": 1125,
        "start_time": "2023-09-26T00:09:16.037Z"
      },
      {
        "duration": 3,
        "start_time": "2023-09-26T00:09:18.526Z"
      },
      {
        "duration": 7469,
        "start_time": "2023-09-26T13:55:30.618Z"
      },
      {
        "duration": 2609,
        "start_time": "2023-09-26T13:55:39.296Z"
      },
      {
        "duration": 14,
        "start_time": "2023-09-26T13:55:41.907Z"
      },
      {
        "duration": 92,
        "start_time": "2023-09-26T13:55:41.922Z"
      },
      {
        "duration": 13,
        "start_time": "2023-09-26T13:55:42.017Z"
      },
      {
        "duration": 53,
        "start_time": "2023-09-26T13:55:42.031Z"
      },
      {
        "duration": 11,
        "start_time": "2023-09-26T13:55:42.086Z"
      },
      {
        "duration": 278,
        "start_time": "2023-09-26T13:55:42.099Z"
      },
      {
        "duration": 7,
        "start_time": "2023-09-26T13:55:42.378Z"
      },
      {
        "duration": 13,
        "start_time": "2023-09-26T13:55:42.387Z"
      },
      {
        "duration": 12,
        "start_time": "2023-09-26T13:55:42.402Z"
      },
      {
        "duration": 9,
        "start_time": "2023-09-26T13:55:42.948Z"
      },
      {
        "duration": 5111,
        "start_time": "2023-09-26T13:55:43.108Z"
      },
      {
        "duration": 5,
        "start_time": "2023-09-26T13:55:48.221Z"
      },
      {
        "duration": 1067390,
        "start_time": "2023-09-26T13:55:48.228Z"
      },
      {
        "duration": 7,
        "start_time": "2023-09-26T14:13:35.621Z"
      },
      {
        "duration": 45,
        "start_time": "2023-09-26T14:13:35.630Z"
      },
      {
        "duration": 43,
        "start_time": "2023-09-26T14:13:35.678Z"
      },
      {
        "duration": 72,
        "start_time": "2023-09-26T14:13:35.723Z"
      },
      {
        "duration": 26,
        "start_time": "2023-09-26T14:13:35.798Z"
      },
      {
        "duration": 206,
        "start_time": "2023-09-26T14:13:35.826Z"
      },
      {
        "duration": 2164,
        "start_time": "2023-09-26T14:13:36.035Z"
      },
      {
        "duration": 0,
        "start_time": "2023-09-26T14:13:38.201Z"
      },
      {
        "duration": 0,
        "start_time": "2023-09-26T14:13:38.203Z"
      },
      {
        "duration": 0,
        "start_time": "2023-09-26T14:13:38.204Z"
      },
      {
        "duration": 0,
        "start_time": "2023-09-26T14:13:38.205Z"
      },
      {
        "duration": 0,
        "start_time": "2023-09-26T14:13:38.206Z"
      },
      {
        "duration": 0,
        "start_time": "2023-09-26T14:13:38.208Z"
      },
      {
        "duration": 0,
        "start_time": "2023-09-26T14:13:38.209Z"
      },
      {
        "duration": 0,
        "start_time": "2023-09-26T14:13:38.210Z"
      },
      {
        "duration": 0,
        "start_time": "2023-09-26T14:13:38.211Z"
      },
      {
        "duration": 0,
        "start_time": "2023-09-26T14:13:38.212Z"
      },
      {
        "duration": 0,
        "start_time": "2023-09-26T14:13:38.213Z"
      },
      {
        "duration": 0,
        "start_time": "2023-09-26T14:13:38.215Z"
      },
      {
        "duration": 0,
        "start_time": "2023-09-26T14:13:38.216Z"
      },
      {
        "duration": 5739,
        "start_time": "2023-09-26T14:14:33.259Z"
      },
      {
        "duration": 985,
        "start_time": "2023-09-26T14:14:39.000Z"
      },
      {
        "duration": 21,
        "start_time": "2023-09-26T14:14:41.548Z"
      },
      {
        "duration": 40,
        "start_time": "2023-09-26T14:14:41.720Z"
      },
      {
        "duration": 13,
        "start_time": "2023-09-26T14:14:42.106Z"
      },
      {
        "duration": 37,
        "start_time": "2023-09-26T14:14:42.525Z"
      },
      {
        "duration": 8,
        "start_time": "2023-09-26T14:14:43.164Z"
      },
      {
        "duration": 249,
        "start_time": "2023-09-26T14:14:43.173Z"
      },
      {
        "duration": 7,
        "start_time": "2023-09-26T14:14:43.483Z"
      },
      {
        "duration": 7,
        "start_time": "2023-09-26T14:14:43.838Z"
      },
      {
        "duration": 4,
        "start_time": "2023-09-26T14:14:44.014Z"
      },
      {
        "duration": 3,
        "start_time": "2023-09-26T14:14:45.059Z"
      },
      {
        "duration": 5073,
        "start_time": "2023-09-26T14:14:45.257Z"
      },
      {
        "duration": 5,
        "start_time": "2023-09-26T14:14:50.333Z"
      },
      {
        "duration": 1356896,
        "start_time": "2023-09-26T14:14:50.339Z"
      },
      {
        "duration": 22,
        "start_time": "2023-09-26T14:37:27.238Z"
      },
      {
        "duration": 48,
        "start_time": "2023-09-26T14:37:27.262Z"
      },
      {
        "duration": 8,
        "start_time": "2023-09-26T14:37:27.311Z"
      },
      {
        "duration": 45,
        "start_time": "2023-09-26T14:37:27.320Z"
      },
      {
        "duration": 33,
        "start_time": "2023-09-26T14:37:27.369Z"
      },
      {
        "duration": 6,
        "start_time": "2023-09-26T14:37:27.404Z"
      },
      {
        "duration": 29,
        "start_time": "2023-09-26T14:37:27.412Z"
      },
      {
        "duration": 10389,
        "start_time": "2023-09-26T14:37:27.443Z"
      },
      {
        "duration": 1287,
        "start_time": "2023-09-26T14:37:37.833Z"
      },
      {
        "duration": 1263,
        "start_time": "2023-09-26T14:37:39.122Z"
      },
      {
        "duration": 3,
        "start_time": "2023-09-26T14:37:40.387Z"
      },
      {
        "duration": 71892,
        "start_time": "2023-09-26T14:37:40.392Z"
      },
      {
        "duration": 80092,
        "start_time": "2023-09-26T14:38:52.286Z"
      },
      {
        "duration": 46498,
        "start_time": "2023-09-26T14:40:12.380Z"
      },
      {
        "duration": 1323745,
        "start_time": "2023-09-26T14:40:58.880Z"
      },
      {
        "duration": 1745672,
        "start_time": "2023-09-26T15:03:02.627Z"
      },
      {
        "duration": 82870,
        "start_time": "2023-09-26T15:32:08.301Z"
      },
      {
        "duration": 430458,
        "start_time": "2023-09-26T15:33:31.173Z"
      },
      {
        "duration": 44981,
        "start_time": "2023-09-26T15:40:41.633Z"
      },
      {
        "duration": 46019,
        "start_time": "2023-09-26T15:41:26.617Z"
      }
    ],
    "kernelspec": {
      "display_name": "Python 3 (ipykernel)",
      "language": "python",
      "name": "python3"
    },
    "language_info": {
      "codemirror_mode": {
        "name": "ipython",
        "version": 3
      },
      "file_extension": ".py",
      "mimetype": "text/x-python",
      "name": "python",
      "nbconvert_exporter": "python",
      "pygments_lexer": "ipython3",
      "version": "3.9.5"
    },
    "toc": {
      "base_numbering": 1,
      "nav_menu": {},
      "number_sections": true,
      "sideBar": true,
      "skip_h1_title": true,
      "title_cell": "Содержание",
      "title_sidebar": "Contents",
      "toc_cell": true,
      "toc_position": {
        "height": "calc(100% - 180px)",
        "left": "10px",
        "top": "150px",
        "width": "267px"
      },
      "toc_section_display": true,
      "toc_window_display": true
    },
    "colab": {
      "provenance": []
    }
  },
  "nbformat": 4,
  "nbformat_minor": 0
}