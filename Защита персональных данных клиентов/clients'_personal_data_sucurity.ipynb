{
  "cells": [
    {
      "cell_type": "markdown",
      "metadata": {
        "toc": true,
        "id": "HIqKFTfmA2oo"
      },
      "source": [
        "<h1>Содержание<span class=\"tocSkip\"></span></h1>\n",
        "<div class=\"toc\"><ul class=\"toc-item\"><li><span><a href=\"#Загрузка-данных\" data-toc-modified-id=\"Загрузка-данных-1\"><span class=\"toc-item-num\">1&nbsp;&nbsp;</span>Загрузка данных</a></span><ul class=\"toc-item\"><li><span><a href=\"#Промежуточные-выводы\" data-toc-modified-id=\"Промежуточные-выводы-1.1\"><span class=\"toc-item-num\">1.1&nbsp;&nbsp;</span>Промежуточные выводы</a></span></li></ul></li><li><span><a href=\"#Умножение-матриц\" data-toc-modified-id=\"Умножение-матриц-2\"><span class=\"toc-item-num\">2&nbsp;&nbsp;</span>Умножение матриц</a></span><ul class=\"toc-item\"><li><span><a href=\"#Промежуточные-выводы\" data-toc-modified-id=\"Промежуточные-выводы-2.1\"><span class=\"toc-item-num\">2.1&nbsp;&nbsp;</span>Промежуточные выводы</a></span></li></ul></li><li><span><a href=\"#Алгоритм-преобразования\" data-toc-modified-id=\"Алгоритм-преобразования-3\"><span class=\"toc-item-num\">3&nbsp;&nbsp;</span>Алгоритм преобразования</a></span></li><li><span><a href=\"#Проверка-алгоритма\" data-toc-modified-id=\"Проверка-алгоритма-4\"><span class=\"toc-item-num\">4&nbsp;&nbsp;</span>Проверка алгоритма</a></span></li><li><span><a href=\"#Выводы\" data-toc-modified-id=\"Выводы-5\"><span class=\"toc-item-num\">5&nbsp;&nbsp;</span>Выводы</a></span></li><li><span><a href=\"#Чек-лист-проверки\" data-toc-modified-id=\"Чек-лист-проверки-6\"><span class=\"toc-item-num\">6&nbsp;&nbsp;</span>Чек-лист проверки</a></span></li></ul></div>"
      ]
    },
    {
      "cell_type": "markdown",
      "metadata": {
        "id": "lSGqgFIPA2oo"
      },
      "source": [
        "# Защита персональных данных клиентов"
      ]
    },
    {
      "cell_type": "markdown",
      "metadata": {
        "id": "teOv_x80A2oo"
      },
      "source": [
        "Необходимо защитить данные клиентов страховой компании «Хоть потоп». Разработать такой метод преобразования данных, чтобы по ним было сложно восстановить персональную информацию. Обосновать корректность его работы.\n",
        "\n",
        "Нужно защитить данные, чтобы при преобразовании качество моделей машинного обучения не ухудшилось. Подбирать наилучшую модель не требуется."
      ]
    },
    {
      "cell_type": "markdown",
      "metadata": {
        "id": "6o5KLF3bA2op"
      },
      "source": [
        "Прежде, чем приступать к пунктам проекта, загружу библиотеки."
      ]
    },
    {
      "cell_type": "code",
      "execution_count": null,
      "metadata": {
        "id": "uuP92jd5A2op"
      },
      "outputs": [],
      "source": [
        "import pandas as pd\n",
        "import numpy as np\n",
        "import seaborn as sb\n",
        "import scipy.stats as st\n",
        "import matplotlib.pyplot as plt\n",
        "from sklearn.linear_model import LinearRegression\n",
        "from sklearn.model_selection import train_test_split\n",
        "from sklearn.metrics import mean_squared_error\n",
        "from sklearn.metrics import r2_score"
      ]
    },
    {
      "cell_type": "markdown",
      "metadata": {
        "id": "X6xB1qZyA2or"
      },
      "source": [
        "## Загрузка данных"
      ]
    },
    {
      "cell_type": "markdown",
      "metadata": {
        "id": "yF-Z01-_A2os"
      },
      "source": [
        "Загружаю файл и смотрю информацию о нём."
      ]
    },
    {
      "cell_type": "code",
      "execution_count": null,
      "metadata": {
        "id": "ndB5wISPA2os"
      },
      "outputs": [],
      "source": [
        "try:\n",
        "    df = pd.read_csv('/datasets/insurance.csv')\n",
        "except FileNotFoundError:\n",
        "    df = pd.read_csv('https://code.s3.yandex.net/datasets/insurance.csv')\n"
      ]
    },
    {
      "cell_type": "code",
      "execution_count": null,
      "metadata": {
        "id": "yr3D4oWzA2ot",
        "outputId": "31d0357a-4c15-484e-8b2c-5a9380fea666"
      },
      "outputs": [
        {
          "name": "stdout",
          "output_type": "stream",
          "text": [
            "<class 'pandas.core.frame.DataFrame'>\n",
            "RangeIndex: 5000 entries, 0 to 4999\n",
            "Data columns (total 5 columns):\n",
            " #   Column             Non-Null Count  Dtype  \n",
            "---  ------             --------------  -----  \n",
            " 0   Пол                5000 non-null   int64  \n",
            " 1   Возраст            5000 non-null   float64\n",
            " 2   Зарплата           5000 non-null   float64\n",
            " 3   Члены семьи        5000 non-null   int64  \n",
            " 4   Страховые выплаты  5000 non-null   int64  \n",
            "dtypes: float64(2), int64(3)\n",
            "memory usage: 195.4 KB\n"
          ]
        }
      ],
      "source": [
        "insurance.info()"
      ]
    },
    {
      "cell_type": "code",
      "execution_count": null,
      "metadata": {
        "id": "w6ggGtDsA2ou",
        "outputId": "d6f67e14-715d-495b-a0a4-d2f06860fe10"
      },
      "outputs": [
        {
          "data": {
            "text/html": [
              "<div>\n",
              "<style scoped>\n",
              "    .dataframe tbody tr th:only-of-type {\n",
              "        vertical-align: middle;\n",
              "    }\n",
              "\n",
              "    .dataframe tbody tr th {\n",
              "        vertical-align: top;\n",
              "    }\n",
              "\n",
              "    .dataframe thead th {\n",
              "        text-align: right;\n",
              "    }\n",
              "</style>\n",
              "<table border=\"1\" class=\"dataframe\">\n",
              "  <thead>\n",
              "    <tr style=\"text-align: right;\">\n",
              "      <th></th>\n",
              "      <th>Пол</th>\n",
              "      <th>Возраст</th>\n",
              "      <th>Зарплата</th>\n",
              "      <th>Члены семьи</th>\n",
              "      <th>Страховые выплаты</th>\n",
              "    </tr>\n",
              "  </thead>\n",
              "  <tbody>\n",
              "    <tr>\n",
              "      <th>0</th>\n",
              "      <td>1</td>\n",
              "      <td>41.0</td>\n",
              "      <td>49600.0</td>\n",
              "      <td>1</td>\n",
              "      <td>0</td>\n",
              "    </tr>\n",
              "    <tr>\n",
              "      <th>1</th>\n",
              "      <td>0</td>\n",
              "      <td>46.0</td>\n",
              "      <td>38000.0</td>\n",
              "      <td>1</td>\n",
              "      <td>1</td>\n",
              "    </tr>\n",
              "    <tr>\n",
              "      <th>2</th>\n",
              "      <td>0</td>\n",
              "      <td>29.0</td>\n",
              "      <td>21000.0</td>\n",
              "      <td>0</td>\n",
              "      <td>0</td>\n",
              "    </tr>\n",
              "    <tr>\n",
              "      <th>3</th>\n",
              "      <td>0</td>\n",
              "      <td>21.0</td>\n",
              "      <td>41700.0</td>\n",
              "      <td>2</td>\n",
              "      <td>0</td>\n",
              "    </tr>\n",
              "    <tr>\n",
              "      <th>4</th>\n",
              "      <td>1</td>\n",
              "      <td>28.0</td>\n",
              "      <td>26100.0</td>\n",
              "      <td>0</td>\n",
              "      <td>0</td>\n",
              "    </tr>\n",
              "    <tr>\n",
              "      <th>5</th>\n",
              "      <td>1</td>\n",
              "      <td>43.0</td>\n",
              "      <td>41000.0</td>\n",
              "      <td>2</td>\n",
              "      <td>1</td>\n",
              "    </tr>\n",
              "    <tr>\n",
              "      <th>6</th>\n",
              "      <td>1</td>\n",
              "      <td>39.0</td>\n",
              "      <td>39700.0</td>\n",
              "      <td>2</td>\n",
              "      <td>0</td>\n",
              "    </tr>\n",
              "    <tr>\n",
              "      <th>7</th>\n",
              "      <td>1</td>\n",
              "      <td>25.0</td>\n",
              "      <td>38600.0</td>\n",
              "      <td>4</td>\n",
              "      <td>0</td>\n",
              "    </tr>\n",
              "    <tr>\n",
              "      <th>8</th>\n",
              "      <td>1</td>\n",
              "      <td>36.0</td>\n",
              "      <td>49700.0</td>\n",
              "      <td>1</td>\n",
              "      <td>0</td>\n",
              "    </tr>\n",
              "    <tr>\n",
              "      <th>9</th>\n",
              "      <td>1</td>\n",
              "      <td>32.0</td>\n",
              "      <td>51700.0</td>\n",
              "      <td>1</td>\n",
              "      <td>0</td>\n",
              "    </tr>\n",
              "    <tr>\n",
              "      <th>10</th>\n",
              "      <td>1</td>\n",
              "      <td>25.0</td>\n",
              "      <td>36600.0</td>\n",
              "      <td>1</td>\n",
              "      <td>0</td>\n",
              "    </tr>\n",
              "    <tr>\n",
              "      <th>11</th>\n",
              "      <td>1</td>\n",
              "      <td>38.0</td>\n",
              "      <td>29300.0</td>\n",
              "      <td>0</td>\n",
              "      <td>0</td>\n",
              "    </tr>\n",
              "    <tr>\n",
              "      <th>12</th>\n",
              "      <td>0</td>\n",
              "      <td>23.0</td>\n",
              "      <td>39500.0</td>\n",
              "      <td>3</td>\n",
              "      <td>0</td>\n",
              "    </tr>\n",
              "    <tr>\n",
              "      <th>13</th>\n",
              "      <td>0</td>\n",
              "      <td>21.0</td>\n",
              "      <td>55000.0</td>\n",
              "      <td>0</td>\n",
              "      <td>0</td>\n",
              "    </tr>\n",
              "    <tr>\n",
              "      <th>14</th>\n",
              "      <td>0</td>\n",
              "      <td>40.0</td>\n",
              "      <td>43700.0</td>\n",
              "      <td>1</td>\n",
              "      <td>0</td>\n",
              "    </tr>\n",
              "  </tbody>\n",
              "</table>\n",
              "</div>"
            ],
            "text/plain": [
              "    Пол  Возраст  Зарплата  Члены семьи  Страховые выплаты\n",
              "0     1     41.0   49600.0            1                  0\n",
              "1     0     46.0   38000.0            1                  1\n",
              "2     0     29.0   21000.0            0                  0\n",
              "3     0     21.0   41700.0            2                  0\n",
              "4     1     28.0   26100.0            0                  0\n",
              "5     1     43.0   41000.0            2                  1\n",
              "6     1     39.0   39700.0            2                  0\n",
              "7     1     25.0   38600.0            4                  0\n",
              "8     1     36.0   49700.0            1                  0\n",
              "9     1     32.0   51700.0            1                  0\n",
              "10    1     25.0   36600.0            1                  0\n",
              "11    1     38.0   29300.0            0                  0\n",
              "12    0     23.0   39500.0            3                  0\n",
              "13    0     21.0   55000.0            0                  0\n",
              "14    0     40.0   43700.0            1                  0"
            ]
          },
          "execution_count": 4,
          "metadata": {},
          "output_type": "execute_result"
        }
      ],
      "source": [
        "insurance.head(15)"
      ]
    },
    {
      "cell_type": "markdown",
      "metadata": {
        "id": "OHztdyqZA2ou"
      },
      "source": [
        "Пропусков нет. Изменю тип данных для возраста. Вряд-ли кто-то в данном случае. будет указывать возраст с точностью до десятых. Поэтому вещественный тип не нужен."
      ]
    },
    {
      "cell_type": "code",
      "execution_count": null,
      "metadata": {
        "id": "zV3q7BHmA2ou",
        "outputId": "56c91720-4a88-418f-ea32-29a428c9448c"
      },
      "outputs": [
        {
          "name": "stdout",
          "output_type": "stream",
          "text": [
            "Всё получилось\n"
          ]
        }
      ],
      "source": [
        "try:\n",
        "    insurance['Возраст'] = insurance['Возраст'].astype('int')\n",
        "    print('Всё получилось')\n",
        "except:\n",
        "    print('К сожалению, преобразование не удалось')"
      ]
    },
    {
      "cell_type": "code",
      "execution_count": null,
      "metadata": {
        "id": "-gi3dZtRA2ov",
        "outputId": "71dd559d-aeff-4453-e5d4-71c84a7647a6"
      },
      "outputs": [
        {
          "data": {
            "text/html": [
              "<div>\n",
              "<style scoped>\n",
              "    .dataframe tbody tr th:only-of-type {\n",
              "        vertical-align: middle;\n",
              "    }\n",
              "\n",
              "    .dataframe tbody tr th {\n",
              "        vertical-align: top;\n",
              "    }\n",
              "\n",
              "    .dataframe thead th {\n",
              "        text-align: right;\n",
              "    }\n",
              "</style>\n",
              "<table border=\"1\" class=\"dataframe\">\n",
              "  <thead>\n",
              "    <tr style=\"text-align: right;\">\n",
              "      <th></th>\n",
              "      <th>Пол</th>\n",
              "      <th>Возраст</th>\n",
              "      <th>Зарплата</th>\n",
              "      <th>Члены семьи</th>\n",
              "      <th>Страховые выплаты</th>\n",
              "    </tr>\n",
              "  </thead>\n",
              "  <tbody>\n",
              "    <tr>\n",
              "      <th>0</th>\n",
              "      <td>1</td>\n",
              "      <td>41</td>\n",
              "      <td>49600.0</td>\n",
              "      <td>1</td>\n",
              "      <td>0</td>\n",
              "    </tr>\n",
              "    <tr>\n",
              "      <th>1</th>\n",
              "      <td>0</td>\n",
              "      <td>46</td>\n",
              "      <td>38000.0</td>\n",
              "      <td>1</td>\n",
              "      <td>1</td>\n",
              "    </tr>\n",
              "    <tr>\n",
              "      <th>2</th>\n",
              "      <td>0</td>\n",
              "      <td>29</td>\n",
              "      <td>21000.0</td>\n",
              "      <td>0</td>\n",
              "      <td>0</td>\n",
              "    </tr>\n",
              "    <tr>\n",
              "      <th>3</th>\n",
              "      <td>0</td>\n",
              "      <td>21</td>\n",
              "      <td>41700.0</td>\n",
              "      <td>2</td>\n",
              "      <td>0</td>\n",
              "    </tr>\n",
              "    <tr>\n",
              "      <th>4</th>\n",
              "      <td>1</td>\n",
              "      <td>28</td>\n",
              "      <td>26100.0</td>\n",
              "      <td>0</td>\n",
              "      <td>0</td>\n",
              "    </tr>\n",
              "    <tr>\n",
              "      <th>5</th>\n",
              "      <td>1</td>\n",
              "      <td>43</td>\n",
              "      <td>41000.0</td>\n",
              "      <td>2</td>\n",
              "      <td>1</td>\n",
              "    </tr>\n",
              "    <tr>\n",
              "      <th>6</th>\n",
              "      <td>1</td>\n",
              "      <td>39</td>\n",
              "      <td>39700.0</td>\n",
              "      <td>2</td>\n",
              "      <td>0</td>\n",
              "    </tr>\n",
              "    <tr>\n",
              "      <th>7</th>\n",
              "      <td>1</td>\n",
              "      <td>25</td>\n",
              "      <td>38600.0</td>\n",
              "      <td>4</td>\n",
              "      <td>0</td>\n",
              "    </tr>\n",
              "    <tr>\n",
              "      <th>8</th>\n",
              "      <td>1</td>\n",
              "      <td>36</td>\n",
              "      <td>49700.0</td>\n",
              "      <td>1</td>\n",
              "      <td>0</td>\n",
              "    </tr>\n",
              "    <tr>\n",
              "      <th>9</th>\n",
              "      <td>1</td>\n",
              "      <td>32</td>\n",
              "      <td>51700.0</td>\n",
              "      <td>1</td>\n",
              "      <td>0</td>\n",
              "    </tr>\n",
              "    <tr>\n",
              "      <th>10</th>\n",
              "      <td>1</td>\n",
              "      <td>25</td>\n",
              "      <td>36600.0</td>\n",
              "      <td>1</td>\n",
              "      <td>0</td>\n",
              "    </tr>\n",
              "    <tr>\n",
              "      <th>11</th>\n",
              "      <td>1</td>\n",
              "      <td>38</td>\n",
              "      <td>29300.0</td>\n",
              "      <td>0</td>\n",
              "      <td>0</td>\n",
              "    </tr>\n",
              "    <tr>\n",
              "      <th>12</th>\n",
              "      <td>0</td>\n",
              "      <td>23</td>\n",
              "      <td>39500.0</td>\n",
              "      <td>3</td>\n",
              "      <td>0</td>\n",
              "    </tr>\n",
              "    <tr>\n",
              "      <th>13</th>\n",
              "      <td>0</td>\n",
              "      <td>21</td>\n",
              "      <td>55000.0</td>\n",
              "      <td>0</td>\n",
              "      <td>0</td>\n",
              "    </tr>\n",
              "    <tr>\n",
              "      <th>14</th>\n",
              "      <td>0</td>\n",
              "      <td>40</td>\n",
              "      <td>43700.0</td>\n",
              "      <td>1</td>\n",
              "      <td>0</td>\n",
              "    </tr>\n",
              "  </tbody>\n",
              "</table>\n",
              "</div>"
            ],
            "text/plain": [
              "    Пол  Возраст  Зарплата  Члены семьи  Страховые выплаты\n",
              "0     1       41   49600.0            1                  0\n",
              "1     0       46   38000.0            1                  1\n",
              "2     0       29   21000.0            0                  0\n",
              "3     0       21   41700.0            2                  0\n",
              "4     1       28   26100.0            0                  0\n",
              "5     1       43   41000.0            2                  1\n",
              "6     1       39   39700.0            2                  0\n",
              "7     1       25   38600.0            4                  0\n",
              "8     1       36   49700.0            1                  0\n",
              "9     1       32   51700.0            1                  0\n",
              "10    1       25   36600.0            1                  0\n",
              "11    1       38   29300.0            0                  0\n",
              "12    0       23   39500.0            3                  0\n",
              "13    0       21   55000.0            0                  0\n",
              "14    0       40   43700.0            1                  0"
            ]
          },
          "execution_count": 6,
          "metadata": {},
          "output_type": "execute_result"
        }
      ],
      "source": [
        "insurance.head(15)"
      ]
    },
    {
      "cell_type": "markdown",
      "metadata": {
        "id": "a2gUSmQlA2ov"
      },
      "source": [
        "Зарплату трогать не буду. Проверю на дубликаты."
      ]
    },
    {
      "cell_type": "code",
      "execution_count": null,
      "metadata": {
        "id": "WOZBqWk6A2ov",
        "outputId": "a00694bf-87f3-4a27-fc30-806f83129852"
      },
      "outputs": [
        {
          "data": {
            "text/plain": [
              "153"
            ]
          },
          "execution_count": 7,
          "metadata": {},
          "output_type": "execute_result"
        }
      ],
      "source": [
        "insurance.duplicated().sum()"
      ]
    },
    {
      "cell_type": "markdown",
      "metadata": {
        "id": "77XpTuoBA2ov"
      },
      "source": [
        "С одной стороны, вполне возможно, что есть клиенты одного возраста с одной зарплатой, одинаковым количеством членов семьи и т.д. С другой стороны, количество дубликатов составляет 3% от общего числа данных. Поэтому, я их удалю."
      ]
    },
    {
      "cell_type": "code",
      "execution_count": null,
      "metadata": {
        "id": "T-TfMe1WA2ow"
      },
      "outputs": [],
      "source": [
        "insurance.drop_duplicates(inplace=True)"
      ]
    },
    {
      "cell_type": "code",
      "execution_count": null,
      "metadata": {
        "id": "ZRBSDcUXA2ow",
        "outputId": "ccb3404b-1eba-4969-a20f-3fead69b49ef"
      },
      "outputs": [
        {
          "data": {
            "text/plain": [
              "0"
            ]
          },
          "execution_count": 9,
          "metadata": {},
          "output_type": "execute_result"
        }
      ],
      "source": [
        "insurance.duplicated().sum()"
      ]
    },
    {
      "cell_type": "markdown",
      "metadata": {
        "id": "jRz5KRGmA2ow"
      },
      "source": [
        "Проверю данные на коррелируемость."
      ]
    },
    {
      "cell_type": "code",
      "execution_count": null,
      "metadata": {
        "id": "8Nqgbp1tA2ow",
        "outputId": "dc5c4094-cbeb-49be-ee06-6b8f91df91e5"
      },
      "outputs": [
        {
          "data": {
            "image/png": "[encoded data removed]",
            "text/plain": [
              "<Figure size 432x288 with 2 Axes>"
            ]
          },
          "metadata": {
            "needs_background": "light"
          },
          "output_type": "display_data"
        }
      ],
      "source": [
        "sb.heatmap(insurance.corr(), annot=True, linewidths=3, linecolor='white')\n",
        "plt.title('Корреляция персональных данных')\n",
        "plt.show()"
      ]
    },
    {
      "cell_type": "markdown",
      "metadata": {
        "id": "L_ncyRD0A2ow"
      },
      "source": [
        "Есть некая взаимосвязть страховых выплат и возраста, но она не абсолютна."
      ]
    },
    {
      "cell_type": "markdown",
      "metadata": {
        "id": "gY1M5fNlA2ox"
      },
      "source": [
        "### Промежуточные выводы"
      ]
    },
    {
      "cell_type": "markdown",
      "metadata": {
        "id": "3tFs1PPLA2ox"
      },
      "source": [
        "На первом этапе:\n",
        "1. Загружен файл;\n",
        "2. Проверено его содержимое;\n",
        "3. Изменён тип данных в столбце возраст на целочисленный;\n",
        "4. Устранены дубликаты."
      ]
    },
    {
      "cell_type": "markdown",
      "metadata": {
        "id": "uSMfhxxhA2ox"
      },
      "source": [
        "## Умножение матриц"
      ]
    },
    {
      "cell_type": "markdown",
      "metadata": {
        "id": "mzdLcSQCA2ox"
      },
      "source": [
        "В этом задании вы можете записывать формулы в *Jupyter Notebook.*\n",
        "\n",
        "Чтобы записать формулу внутри текста, окружите её символами доллара \\\\$; если снаружи —  двойными символами \\\\$\\\\$. Эти формулы записываются на языке вёрстки *LaTeX.*\n",
        "\n",
        "Для примера мы записали формулы линейной регрессии. Можете их скопировать и отредактировать, чтобы решить задачу.\n",
        "\n",
        "Работать в *LaTeX* необязательно."
      ]
    },
    {
      "cell_type": "markdown",
      "metadata": {
        "id": "M8Nw4Ox0A2ox"
      },
      "source": [
        "Обозначения:\n",
        "\n",
        "- $X$ — матрица признаков (нулевой столбец состоит из единиц)\n",
        "\n",
        "- $y$ — вектор целевого признака\n",
        "\n",
        "- $P$ — матрица, на которую умножаются признаки\n",
        "\n",
        "- $w$ — вектор весов линейной регрессии (нулевой элемент равен сдвигу)"
      ]
    },
    {
      "cell_type": "markdown",
      "metadata": {
        "id": "Y6-kGoRkA2oy"
      },
      "source": [
        "Предсказания:\n",
        "\n",
        "$$\n",
        "a = Xw                                       (2.1)\n",
        "$$\n",
        "\n",
        "Задача обучения:\n",
        "\n",
        "$$\n",
        "w = \\arg\\min_w MSE(Xw, y)    (2.2)\n",
        "$$\n",
        "\n",
        "Формула обучения:\n",
        "\n",
        "$$\n",
        "w = (X^T X)^{-1} X^T y       (2.3)\n",
        "$$"
      ]
    },
    {
      "cell_type": "markdown",
      "metadata": {
        "id": "qsjr9UlxA2oy"
      },
      "source": [
        "**Вопрос:** Признаки умножают на обратимую матрицу. Изменится ли качество линейной регрессии? (Её можно обучить заново).\n",
        "\n",
        "**Ответ:** не изменится.\n",
        "\n",
        "**Обоснование:** Для обоснования утверждения о неизменности качества линейной регрессии рассмотрим матрицу Y, являющуюся произведением матрицы Х на обратимую матрицу. Сделаю оговорку, что размерность матрицы признаков принимаю 5000 на 4 (как и дата-файл до удаления дубликатов), размерностб обратимой матрицы - 4 на 4.\n",
        "\n",
        "$$\n",
        "Y = XP\n",
        "$$\n",
        "\n",
        "Подставим Y вместо Х в уравнения (2.1) и (2.3). Получаем соответственно:\n",
        "\n",
        "$$\n",
        "a_1 = Yw_1\n",
        "$$\n",
        "\n",
        "$$\n",
        "w_1 = (Y^TY)^{-1}Y^Ty\n",
        "$$\n",
        "\n",
        "Подставлю выражение для вектора весов в уравнение для предсказаний.\n",
        "\n",
        "$$\n",
        "a_1 = Y(Y^TY)^{-1}Y^Ty\n",
        "$$\n",
        "\n",
        "Теперь Y распишу как произведение матрицы Х на обратимую матрицу:\n",
        "\n",
        "$$\n",
        "a_1 = XP((XP)^TXP)^{-1}(XP)^Ty\n",
        "$$\n",
        "\n",
        "Применю ряд свойств:\n",
        "1. Произведение квадратной матрицы на матрицу, обратную ей даёт единичную матрицу:\n",
        "\n",
        "$$\n",
        "PP^{-1} = E\n",
        "$$\n",
        "\n",
        "2. Транспонирование приизведения матриц есть произведение траеспонированных матриц, взятых в обратном порядке:\n",
        "\n",
        "$$\n",
        "(AB)^T = B^TA^T\n",
        "$$\n",
        "\n",
        "3. Обратная матрица от произведения есть произведение обратных матриц, взятых в обратном порядке:\n",
        "\n",
        "$$\n",
        "(AB)^{-1} = B^{-1}A^{-1}\n",
        "$$\n",
        "\n",
        "Применив транспонирование матриц, получаю:\n",
        "\n",
        "$$\n",
        "a_1 = XP((P^TX^TXP)^{-1})P^TX^Ty\n",
        "$$\n",
        "\n",
        "В скобках, от которых берётся обратная матрица, есть следующие множители:\n",
        "1. Квадратная матрица 4х4 - P;\n",
        "2. Матрица Х - размером 5000х4;\n",
        "3. Транспонированная матрица Х размером 4х5000.\n",
        "Есть ещё одно свойство матриц:\n",
        "$$\n",
        "A(BC) = (AB)C\n",
        "$$\n",
        "Обратную матрицу можжно взять от квадратной, поэтому, группируем множители так, чтобы за скобки ушли квадратные матрицы.\n",
        "\n",
        "\n",
        "Получается:\n",
        "\n",
        "$$\n",
        "a_1 = XPP^{-1}(X^TX)^{-1}(P^T)^{-1}P^TX^Ty\n",
        "$$\n",
        "\n",
        "\n",
        "Убираю единичные матрицы. Остаётся:\n",
        "\n",
        "$$\n",
        "a_1 = (X^TX)^{-1}X^Ty\n",
        "$$\n",
        "\n",
        "\n",
        "То есть,\n",
        "\n",
        "$$\n",
        "a_1 = Xw\n",
        "$$\n",
        "\n",
        "Что и требовалось доказать. Домножение признаков на обратимую матрицу не влияет на предсказания, то есть на качество линейной регрессии."
      ]
    },
    {
      "cell_type": "markdown",
      "metadata": {
        "id": "RLZXamRpA2oy"
      },
      "source": [
        "### Промежуточные выводы"
      ]
    },
    {
      "cell_type": "markdown",
      "metadata": {
        "id": "MaeaAq91A2o8"
      },
      "source": [
        "Дан ответ на вопрос Изменится ли качество линейной регрессии при умножении признаков на обратимую матрицу? Не изменится. Приведено доказательство."
      ]
    },
    {
      "cell_type": "markdown",
      "metadata": {
        "id": "lYOVNLyFA2o8"
      },
      "source": [
        "## Алгоритм преобразования"
      ]
    },
    {
      "cell_type": "markdown",
      "metadata": {
        "id": "-Pz2zu-5A2o8"
      },
      "source": [
        "**Алгоритм**\n",
        "\n",
        "В качестве алгоритма преобразования использую умножение матрицы X (признаков) на случайную (генерируется случайным образом) обратимую матрицу P размером 4х4. Создам модель линейной регрессии для исходных признаков и посчитаю метрику R2. Аналогично поступлю для преобразованных признаков. Метрики R2 должны быть равны для обоих случаев."
      ]
    },
    {
      "cell_type": "markdown",
      "metadata": {
        "id": "Fg2Auq2LA2o9"
      },
      "source": [
        "**Обоснование**\n",
        "\n",
        "В качестве обоснование применяю доказательство в пункте № 2. Умножение признаков на квадратную обратимую матрицу не влияет на предсказания."
      ]
    },
    {
      "cell_type": "markdown",
      "metadata": {
        "id": "7CNG3RPlA2o9"
      },
      "source": [
        "## Проверка алгоритма"
      ]
    },
    {
      "cell_type": "markdown",
      "metadata": {
        "id": "5qJ_LNwSA2o9"
      },
      "source": [
        "Для начала создам признаки и целевой признак."
      ]
    },
    {
      "cell_type": "code",
      "execution_count": null,
      "metadata": {
        "id": "iFbrJfmeA2o9"
      },
      "outputs": [],
      "source": [
        "features=insurance.drop(['Страховые выплаты'],axis=1)\n",
        "target=insurance['Страховые выплаты']"
      ]
    },
    {
      "cell_type": "markdown",
      "metadata": {
        "id": "kuxP41T2A2o-"
      },
      "source": [
        "Разобью данные на обучающую и тестовую выборки."
      ]
    },
    {
      "cell_type": "code",
      "execution_count": null,
      "metadata": {
        "id": "hRglvi-gA2o-"
      },
      "outputs": [],
      "source": [
        "train_features, test_features, \\\n",
        "train_target, test_target = train_test_split(features,target, test_size=0.25, random_state=12345)\n"
      ]
    },
    {
      "cell_type": "markdown",
      "metadata": {
        "id": "ixUcdQ9tA2o-"
      },
      "source": [
        "Проверю размеры выборок."
      ]
    },
    {
      "cell_type": "code",
      "execution_count": null,
      "metadata": {
        "id": "SxkmhorIA2o-",
        "outputId": "18a50857-60bc-4f3e-98eb-5e4b024deb98"
      },
      "outputs": [
        {
          "name": "stdout",
          "output_type": "stream",
          "text": [
            "Размер тренировочной выборки- 75%\n",
            "Размер тестовой выборки - 25%\n"
          ]
        }
      ],
      "source": [
        "train_size=train_features.shape[0]/features.shape[0]\n",
        "test_size=test_target.shape[0]/target.shape[0]\n",
        "\n",
        "print('Размер тренировочной выборки- {:.0%}'.format(train_size))\n",
        "print('Размер тестовой выборки - {:.0%}'.format(test_size))"
      ]
    },
    {
      "cell_type": "markdown",
      "metadata": {
        "id": "BJtLocL4A2o_"
      },
      "source": [
        "Создам и обучу модель на исходных признаков. Определю для неё коэффициент детерминации и среднеквадратическую ошибку."
      ]
    },
    {
      "cell_type": "code",
      "execution_count": null,
      "metadata": {
        "id": "4WaKi-GPA2o_",
        "outputId": "a6997f22-37d7-4e1c-9592-b341f82f9c42"
      },
      "outputs": [
        {
          "name": "stdout",
          "output_type": "stream",
          "text": [
            "Коэффициент детерминации для исходных признаков: 0.42307727492147584\n",
            "Среднеквадратическая ошибка для исходных признаков: 0.11955009374099854\n"
          ]
        }
      ],
      "source": [
        "model_init = LinearRegression()\n",
        "model_init.fit(train_features, train_target)\n",
        "predict = model_init.predict(test_features)\n",
        "\n",
        "r2_score_init = r2_score(test_target, predict)\n",
        "MSE_init = mean_squared_error(predict,test_target)\n",
        "\n",
        "print(\"Коэффициент детерминации для исходных признаков:\", r2_score_init)\n",
        "print(\"Среднеквадратическая ошибка для исходных признаков:\", MSE_init)"
      ]
    },
    {
      "cell_type": "markdown",
      "metadata": {
        "id": "vxb_ZOJOA2pA"
      },
      "source": [
        "Тепеь создам случайную квадратную матрицу."
      ]
    },
    {
      "cell_type": "code",
      "execution_count": null,
      "metadata": {
        "id": "c31E6hNNA2pA",
        "outputId": "0769c7a7-d6ff-4cac-ecdb-8d1656328851"
      },
      "outputs": [
        {
          "data": {
            "text/plain": [
              "array([[3.96199139, 3.94106601, 3.60862674, 2.84661352],\n",
              "       [3.95866161, 3.02567255, 4.29743265, 5.80468685],\n",
              "       [4.53073606, 4.72698729, 5.58427248, 3.679682  ],\n",
              "       [4.99483464, 4.41026958, 4.61270178, 2.78815665]])"
            ]
          },
          "execution_count": 15,
          "metadata": {},
          "output_type": "execute_result"
        }
      ],
      "source": [
        "P = np.random.normal(4, size=(4,4))\n",
        "P"
      ]
    },
    {
      "cell_type": "markdown",
      "metadata": {
        "id": "NlAFAca5A2pB"
      },
      "source": [
        "Проверю её на обратимость."
      ]
    },
    {
      "cell_type": "code",
      "execution_count": null,
      "metadata": {
        "id": "AJ81S9isA2pB",
        "outputId": "38f77fbe-8bfd-40c4-af2b-ba605ef1635c"
      },
      "outputs": [
        {
          "data": {
            "text/plain": [
              "array([[-0.54397869,  0.18534106, -0.76401806,  1.17783689],\n",
              "       [ 1.54852059, -0.34138349,  0.21201492, -1.15006554],\n",
              "       [-1.13641199, -0.0173447 ,  0.68136639,  0.29711195],\n",
              "       [ 0.40514938,  0.23666217, -0.09391117, -0.42375318]])"
            ]
          },
          "execution_count": 16,
          "metadata": {},
          "output_type": "execute_result"
        }
      ],
      "source": [
        "np.linalg.inv(P)"
      ]
    },
    {
      "cell_type": "markdown",
      "metadata": {
        "id": "PhObWf2rA2pB"
      },
      "source": [
        "Обратная матрица есть. Теперь умножу признаки на свою обратимую матрицу."
      ]
    },
    {
      "cell_type": "code",
      "execution_count": null,
      "metadata": {
        "id": "vYjxrQ3vA2pC",
        "outputId": "3084c7fd-a5bf-49b4-b555-48a32f3dfffe"
      },
      "outputs": [
        {
          "data": {
            "text/html": [
              "<div>\n",
              "<style scoped>\n",
              "    .dataframe tbody tr th:only-of-type {\n",
              "        vertical-align: middle;\n",
              "    }\n",
              "\n",
              "    .dataframe tbody tr th {\n",
              "        vertical-align: top;\n",
              "    }\n",
              "\n",
              "    .dataframe thead th {\n",
              "        text-align: right;\n",
              "    }\n",
              "</style>\n",
              "<table border=\"1\" class=\"dataframe\">\n",
              "  <thead>\n",
              "    <tr style=\"text-align: right;\">\n",
              "      <th></th>\n",
              "      <th>Пол</th>\n",
              "      <th>Возраст</th>\n",
              "      <th>Зарплата</th>\n",
              "      <th>Члены семьи</th>\n",
              "    </tr>\n",
              "  </thead>\n",
              "  <tbody>\n",
              "    <tr>\n",
              "      <th>4599</th>\n",
              "      <td>247045.947573</td>\n",
              "      <td>257714.346671</td>\n",
              "      <td>304472.403442</td>\n",
              "      <td>200710.776676</td>\n",
              "    </tr>\n",
              "    <tr>\n",
              "      <th>3882</th>\n",
              "      <td>229867.704310</td>\n",
              "      <td>239781.582492</td>\n",
              "      <td>283294.138286</td>\n",
              "      <td>186786.090392</td>\n",
              "    </tr>\n",
              "    <tr>\n",
              "      <th>4705</th>\n",
              "      <td>126960.612449</td>\n",
              "      <td>132432.670529</td>\n",
              "      <td>156467.380404</td>\n",
              "      <td>103173.196708</td>\n",
              "    </tr>\n",
              "    <tr>\n",
              "      <th>1400</th>\n",
              "      <td>175978.616301</td>\n",
              "      <td>183549.313459</td>\n",
              "      <td>216871.751391</td>\n",
              "      <td>143044.481975</td>\n",
              "    </tr>\n",
              "    <tr>\n",
              "      <th>728</th>\n",
              "      <td>147412.263314</td>\n",
              "      <td>153752.524094</td>\n",
              "      <td>181665.365467</td>\n",
              "      <td>119824.640709</td>\n",
              "    </tr>\n",
              "  </tbody>\n",
              "</table>\n",
              "</div>"
            ],
            "text/plain": [
              "                Пол        Возраст       Зарплата    Члены семьи\n",
              "4599  247045.947573  257714.346671  304472.403442  200710.776676\n",
              "3882  229867.704310  239781.582492  283294.138286  186786.090392\n",
              "4705  126960.612449  132432.670529  156467.380404  103173.196708\n",
              "1400  175978.616301  183549.313459  216871.751391  143044.481975\n",
              "728   147412.263314  153752.524094  181665.365467  119824.640709"
            ]
          },
          "execution_count": 17,
          "metadata": {},
          "output_type": "execute_result"
        }
      ],
      "source": [
        "train_mult=train_features.dot(P)\n",
        "train_mult.columns = train_features.columns\n",
        "train_mult.head()"
      ]
    },
    {
      "cell_type": "code",
      "execution_count": null,
      "metadata": {
        "id": "OJP9qNg9A2pC",
        "outputId": "947e9f61-ad68-4b89-afa5-67f67b646aae"
      },
      "outputs": [
        {
          "data": {
            "text/html": [
              "<div>\n",
              "<style scoped>\n",
              "    .dataframe tbody tr th:only-of-type {\n",
              "        vertical-align: middle;\n",
              "    }\n",
              "\n",
              "    .dataframe tbody tr th {\n",
              "        vertical-align: top;\n",
              "    }\n",
              "\n",
              "    .dataframe thead th {\n",
              "        text-align: right;\n",
              "    }\n",
              "</style>\n",
              "<table border=\"1\" class=\"dataframe\">\n",
              "  <thead>\n",
              "    <tr style=\"text-align: right;\">\n",
              "      <th></th>\n",
              "      <th>Пол</th>\n",
              "      <th>Возраст</th>\n",
              "      <th>Зарплата</th>\n",
              "      <th>Члены семьи</th>\n",
              "    </tr>\n",
              "  </thead>\n",
              "  <tbody>\n",
              "    <tr>\n",
              "      <th>1335</th>\n",
              "      <td>213945.753334</td>\n",
              "      <td>223187.331619</td>\n",
              "      <td>263680.110430</td>\n",
              "      <td>173817.344925</td>\n",
              "    </tr>\n",
              "    <tr>\n",
              "      <th>3875</th>\n",
              "      <td>298706.145648</td>\n",
              "      <td>311609.224993</td>\n",
              "      <td>368144.682619</td>\n",
              "      <td>242679.640551</td>\n",
              "    </tr>\n",
              "    <tr>\n",
              "      <th>166</th>\n",
              "      <td>153736.539995</td>\n",
              "      <td>160357.477928</td>\n",
              "      <td>189461.486233</td>\n",
              "      <td>124941.197474</td>\n",
              "    </tr>\n",
              "    <tr>\n",
              "      <th>3003</th>\n",
              "      <td>87607.583468</td>\n",
              "      <td>91357.676464</td>\n",
              "      <td>107953.284057</td>\n",
              "      <td>71249.821747</td>\n",
              "    </tr>\n",
              "    <tr>\n",
              "      <th>424</th>\n",
              "      <td>124787.329808</td>\n",
              "      <td>130140.151949</td>\n",
              "      <td>153774.400387</td>\n",
              "      <td>101463.846975</td>\n",
              "    </tr>\n",
              "  </tbody>\n",
              "</table>\n",
              "</div>"
            ],
            "text/plain": [
              "                Пол        Возраст       Зарплата    Члены семьи\n",
              "1335  213945.753334  223187.331619  263680.110430  173817.344925\n",
              "3875  298706.145648  311609.224993  368144.682619  242679.640551\n",
              "166   153736.539995  160357.477928  189461.486233  124941.197474\n",
              "3003   87607.583468   91357.676464  107953.284057   71249.821747\n",
              "424   124787.329808  130140.151949  153774.400387  101463.846975"
            ]
          },
          "execution_count": 18,
          "metadata": {},
          "output_type": "execute_result"
        }
      ],
      "source": [
        "test_mult = test_features.dot(P)\n",
        "test_mult.columns = test_features.columns\n",
        "test_mult.head()"
      ]
    },
    {
      "cell_type": "markdown",
      "metadata": {
        "id": "5eAo3qo5A2pC"
      },
      "source": [
        "Создам и обучу на них модель. Найду коэффициент детерминации и среднеквадратическую ошибку."
      ]
    },
    {
      "cell_type": "code",
      "execution_count": null,
      "metadata": {
        "id": "Fxr8o8LrA2pD",
        "outputId": "92238435-a6c7-45d7-ef79-6cde67e877dd"
      },
      "outputs": [
        {
          "name": "stdout",
          "output_type": "stream",
          "text": [
            "Коэффициент детерминации после преобразования: 0.4230772749213405\n",
            "Среднеквадратическая ошибка после преобразования: 0.11955009374102658\n"
          ]
        }
      ],
      "source": [
        "model_mult = LinearRegression()\n",
        "model_mult.fit(train_mult,train_target)\n",
        "predictions_mult= model_mult.predict(test_mult)\n",
        "r2_score_mult = r2_score(test_target, predictions_mult)\n",
        "MSE_mult = mean_squared_error(predictions_mult,test_target)\n",
        "print(\"Коэффициент детерминации после преобразования:\", r2_score_mult)\n",
        "print(\"Среднеквадратическая ошибка после преобразования:\", MSE_mult)"
      ]
    },
    {
      "cell_type": "markdown",
      "metadata": {
        "id": "DgrIspdIA2pD"
      },
      "source": [
        "Сравню полученные значения со значениями для исходных признаков."
      ]
    },
    {
      "cell_type": "code",
      "execution_count": null,
      "metadata": {
        "id": "nHwo22PaA2pD",
        "outputId": "c838ca10-a573-4811-9b9a-8e8f040c35b4"
      },
      "outputs": [
        {
          "data": {
            "text/html": [
              "<div>\n",
              "<style scoped>\n",
              "    .dataframe tbody tr th:only-of-type {\n",
              "        vertical-align: middle;\n",
              "    }\n",
              "\n",
              "    .dataframe tbody tr th {\n",
              "        vertical-align: top;\n",
              "    }\n",
              "\n",
              "    .dataframe thead th {\n",
              "        text-align: right;\n",
              "    }\n",
              "</style>\n",
              "<table border=\"1\" class=\"dataframe\">\n",
              "  <thead>\n",
              "    <tr style=\"text-align: right;\">\n",
              "      <th></th>\n",
              "      <th>Коэффициент детерминации</th>\n",
              "      <th>Среднеквадратическая ошибка</th>\n",
              "    </tr>\n",
              "  </thead>\n",
              "  <tbody>\n",
              "    <tr>\n",
              "      <th>Изменённая матрица</th>\n",
              "      <td>0.423077</td>\n",
              "      <td>0.11955</td>\n",
              "    </tr>\n",
              "    <tr>\n",
              "      <th>Исходная матрица</th>\n",
              "      <td>0.423077</td>\n",
              "      <td>0.11955</td>\n",
              "    </tr>\n",
              "  </tbody>\n",
              "</table>\n",
              "</div>"
            ],
            "text/plain": [
              "                    Коэффициент детерминации  Среднеквадратическая ошибка\n",
              "Изменённая матрица                  0.423077                      0.11955\n",
              "Исходная матрица                    0.423077                      0.11955"
            ]
          },
          "execution_count": 20,
          "metadata": {},
          "output_type": "execute_result"
        }
      ],
      "source": [
        "compare_table = pd.DataFrame(index=['Коэффициент детерминации',\n",
        "                                    'Среднеквадратическая ошибка'], columns= \\\n",
        "                             ['Изменённая матрица','Исходная матрица'])\n",
        "compare_table['Изменённая матрица'] = r2_score_mult, MSE_mult\n",
        "compare_table['Исходная матрица'] = r2_score_init, MSE_init\n",
        "\n",
        "compare_table.T"
      ]
    },
    {
      "cell_type": "markdown",
      "metadata": {
        "id": "vEnahtBWA2pD"
      },
      "source": [
        "Таким образом, показано, что качество линейной регрессии не изменяется до и после преобразования."
      ]
    },
    {
      "cell_type": "markdown",
      "metadata": {
        "id": "2UMq6fNRA2pE"
      },
      "source": [
        "## Выводы"
      ]
    },
    {
      "cell_type": "markdown",
      "metadata": {
        "id": "1ircLK-yA2pE"
      },
      "source": [
        "1. Загружен файл;\n",
        "2. Проверено его содержимое;\n",
        "3. Изменён тип данных в столбце возраст на целочисленный;\n",
        "4. Устранены дубликаты;\n",
        "5. Дан ответ на вопрос Изменится ли качество линейной регрессии при умножении признаков на обратимую матрицу? Не изменится. Приведено доказательство.\n",
        "6. Показан алгоритм, который осуществляет преобразование признаков методом умножения исходных данных на обратимую матрицу.\n",
        "Результат - новая (изменённая) матрица признаков, которая сохраняет данные неизменными и производит шифровку данных."
      ]
    },
    {
      "cell_type": "markdown",
      "metadata": {
        "id": "Fv0qx6L0A2pE"
      },
      "source": [
        "## Чек-лист проверки"
      ]
    },
    {
      "cell_type": "markdown",
      "metadata": {
        "id": "SQT5D98-A2pF"
      },
      "source": [
        "Поставьте 'x' в выполненных пунктах. Далее нажмите Shift+Enter."
      ]
    },
    {
      "cell_type": "markdown",
      "metadata": {
        "id": "DPWLAHWaA2pF"
      },
      "source": [
        "- [x]  Jupyter Notebook открыт\n",
        "- [x]  Весь код выполняется без ошибок\n",
        "- [x]  Ячейки с кодом расположены в порядке исполнения\n",
        "- [x]  Выполнен шаг 1: данные загружены\n",
        "- [x]  Выполнен шаг 2: получен ответ на вопрос об умножении матриц\n",
        "    - [x]  Указан правильный вариант ответа\n",
        "    - [x]  Вариант обоснован\n",
        "- [x]  Выполнен шаг 3: предложен алгоритм преобразования\n",
        "    - [x]  Алгоритм описан\n",
        "    - [x]  Алгоритм обоснован\n",
        "- [x]  Выполнен шаг 4: алгоритм проверен\n",
        "    - [x]  Алгоритм реализован\n",
        "    - [x]  Проведено сравнение качества моделей до и после преобразования"
      ]
    }
  ],
  "metadata": {
    "ExecuteTimeLog": [
      {
        "duration": 51,
        "start_time": "2023-08-11T09:10:45.088Z"
      },
      {
        "duration": 1772,
        "start_time": "2023-08-11T09:10:56.682Z"
      },
      {
        "duration": 84,
        "start_time": "2023-08-11T09:10:59.914Z"
      },
      {
        "duration": 14,
        "start_time": "2023-08-11T09:11:26.426Z"
      },
      {
        "duration": 16,
        "start_time": "2023-08-11T09:12:06.317Z"
      },
      {
        "duration": 5,
        "start_time": "2023-08-11T09:18:11.105Z"
      },
      {
        "duration": 10,
        "start_time": "2023-08-11T09:18:28.880Z"
      },
      {
        "duration": 103,
        "start_time": "2023-08-11T09:20:49.277Z"
      },
      {
        "duration": 8,
        "start_time": "2023-08-11T09:21:15.550Z"
      },
      {
        "duration": 4,
        "start_time": "2023-08-11T09:26:34.481Z"
      },
      {
        "duration": 5,
        "start_time": "2023-08-11T09:27:06.475Z"
      },
      {
        "duration": 7,
        "start_time": "2023-08-11T09:34:55.224Z"
      },
      {
        "duration": 6,
        "start_time": "2023-08-11T09:36:21.175Z"
      },
      {
        "duration": 7,
        "start_time": "2023-08-11T09:36:37.254Z"
      },
      {
        "duration": 1522,
        "start_time": "2023-08-12T11:39:54.193Z"
      },
      {
        "duration": 88,
        "start_time": "2023-08-12T11:39:56.387Z"
      },
      {
        "duration": 13,
        "start_time": "2023-08-12T11:39:56.597Z"
      },
      {
        "duration": 16,
        "start_time": "2023-08-12T11:39:56.791Z"
      },
      {
        "duration": 5,
        "start_time": "2023-08-12T11:39:57.011Z"
      },
      {
        "duration": 8,
        "start_time": "2023-08-12T11:39:57.191Z"
      },
      {
        "duration": 5,
        "start_time": "2023-08-12T11:39:57.393Z"
      },
      {
        "duration": 6,
        "start_time": "2023-08-12T11:39:57.620Z"
      },
      {
        "duration": 5,
        "start_time": "2023-08-12T11:39:57.979Z"
      },
      {
        "duration": 101,
        "start_time": "2023-08-12T11:40:22.573Z"
      },
      {
        "duration": 88,
        "start_time": "2023-08-12T11:43:10.207Z"
      },
      {
        "duration": 363,
        "start_time": "2023-08-12T11:43:19.516Z"
      },
      {
        "duration": 344,
        "start_time": "2023-08-12T11:51:01.657Z"
      },
      {
        "duration": 1675,
        "start_time": "2023-08-14T05:49:34.517Z"
      },
      {
        "duration": 97,
        "start_time": "2023-08-14T05:49:36.194Z"
      },
      {
        "duration": 13,
        "start_time": "2023-08-14T05:49:36.293Z"
      },
      {
        "duration": 32,
        "start_time": "2023-08-14T05:49:36.307Z"
      },
      {
        "duration": 15,
        "start_time": "2023-08-14T05:49:36.340Z"
      },
      {
        "duration": 17,
        "start_time": "2023-08-14T05:49:36.357Z"
      },
      {
        "duration": 8,
        "start_time": "2023-08-14T05:49:36.649Z"
      },
      {
        "duration": 7,
        "start_time": "2023-08-14T05:49:37.091Z"
      },
      {
        "duration": 8,
        "start_time": "2023-08-14T05:49:37.607Z"
      },
      {
        "duration": 432,
        "start_time": "2023-08-14T05:49:38.247Z"
      },
      {
        "duration": 1399,
        "start_time": "2023-08-15T05:24:44.251Z"
      },
      {
        "duration": 88,
        "start_time": "2023-08-15T05:24:45.652Z"
      },
      {
        "duration": 11,
        "start_time": "2023-08-15T05:24:45.741Z"
      },
      {
        "duration": 13,
        "start_time": "2023-08-15T05:24:45.754Z"
      },
      {
        "duration": 4,
        "start_time": "2023-08-15T05:24:45.768Z"
      },
      {
        "duration": 12,
        "start_time": "2023-08-15T05:24:45.773Z"
      },
      {
        "duration": 13,
        "start_time": "2023-08-15T05:24:45.786Z"
      },
      {
        "duration": 5,
        "start_time": "2023-08-15T05:24:45.891Z"
      },
      {
        "duration": 5,
        "start_time": "2023-08-15T05:24:46.104Z"
      },
      {
        "duration": 408,
        "start_time": "2023-08-15T05:24:46.356Z"
      },
      {
        "duration": 4,
        "start_time": "2023-08-15T05:35:11.853Z"
      },
      {
        "duration": 127,
        "start_time": "2023-08-15T05:36:40.318Z"
      },
      {
        "duration": 11,
        "start_time": "2023-08-15T05:38:36.594Z"
      },
      {
        "duration": 4,
        "start_time": "2023-08-15T05:39:45.206Z"
      },
      {
        "duration": 5,
        "start_time": "2023-08-15T05:39:53.516Z"
      },
      {
        "duration": 3,
        "start_time": "2023-08-15T05:45:16.428Z"
      },
      {
        "duration": 4,
        "start_time": "2023-08-15T05:46:48.723Z"
      },
      {
        "duration": 3,
        "start_time": "2023-08-15T05:47:55.406Z"
      },
      {
        "duration": 8,
        "start_time": "2023-08-15T05:49:59.974Z"
      },
      {
        "duration": 12,
        "start_time": "2023-08-15T05:50:19.862Z"
      },
      {
        "duration": 3,
        "start_time": "2023-08-15T05:50:57.453Z"
      },
      {
        "duration": 10,
        "start_time": "2023-08-15T05:50:58.535Z"
      },
      {
        "duration": 4,
        "start_time": "2023-08-15T05:53:00.439Z"
      },
      {
        "duration": 11,
        "start_time": "2023-08-15T05:53:01.823Z"
      },
      {
        "duration": 11,
        "start_time": "2023-08-15T05:53:34.387Z"
      },
      {
        "duration": 4,
        "start_time": "2023-08-15T05:55:46.484Z"
      },
      {
        "duration": 84,
        "start_time": "2023-08-15T05:55:47.320Z"
      },
      {
        "duration": 3,
        "start_time": "2023-08-15T05:56:23.548Z"
      },
      {
        "duration": 11,
        "start_time": "2023-08-15T05:56:29.457Z"
      },
      {
        "duration": 4,
        "start_time": "2023-08-15T05:57:43.564Z"
      },
      {
        "duration": 4,
        "start_time": "2023-08-15T05:58:15.288Z"
      },
      {
        "duration": 9,
        "start_time": "2023-08-15T05:59:47.017Z"
      },
      {
        "duration": 11,
        "start_time": "2023-08-15T06:01:03.029Z"
      },
      {
        "duration": 11,
        "start_time": "2023-08-15T06:05:27.128Z"
      },
      {
        "duration": 15,
        "start_time": "2023-08-15T06:07:25.987Z"
      },
      {
        "duration": 13,
        "start_time": "2023-08-15T06:10:50.200Z"
      },
      {
        "duration": 1422,
        "start_time": "2023-08-15T06:11:40.229Z"
      },
      {
        "duration": 31,
        "start_time": "2023-08-15T06:11:41.653Z"
      },
      {
        "duration": 12,
        "start_time": "2023-08-15T06:11:41.685Z"
      },
      {
        "duration": 26,
        "start_time": "2023-08-15T06:11:41.699Z"
      },
      {
        "duration": 5,
        "start_time": "2023-08-15T06:11:41.726Z"
      },
      {
        "duration": 16,
        "start_time": "2023-08-15T06:11:41.732Z"
      },
      {
        "duration": 25,
        "start_time": "2023-08-15T06:11:41.750Z"
      },
      {
        "duration": 20,
        "start_time": "2023-08-15T06:11:41.777Z"
      },
      {
        "duration": 18,
        "start_time": "2023-08-15T06:11:41.800Z"
      },
      {
        "duration": 336,
        "start_time": "2023-08-15T06:11:41.933Z"
      },
      {
        "duration": 3,
        "start_time": "2023-08-15T06:11:43.921Z"
      },
      {
        "duration": 4,
        "start_time": "2023-08-15T06:11:44.105Z"
      },
      {
        "duration": 4,
        "start_time": "2023-08-15T06:11:44.290Z"
      },
      {
        "duration": 4,
        "start_time": "2023-08-15T06:11:44.463Z"
      },
      {
        "duration": 8,
        "start_time": "2023-08-15T06:11:44.834Z"
      },
      {
        "duration": 4,
        "start_time": "2023-08-15T06:11:45.021Z"
      },
      {
        "duration": 7,
        "start_time": "2023-08-15T06:11:45.377Z"
      },
      {
        "duration": 12,
        "start_time": "2023-08-15T06:11:45.614Z"
      },
      {
        "duration": 12,
        "start_time": "2023-08-15T06:11:46.339Z"
      },
      {
        "duration": 238,
        "start_time": "2023-08-15T06:11:47.439Z"
      },
      {
        "duration": 12,
        "start_time": "2023-08-15T06:12:35.355Z"
      },
      {
        "duration": 5,
        "start_time": "2023-08-15T06:19:54.724Z"
      },
      {
        "duration": 10,
        "start_time": "2023-08-15T06:21:58.333Z"
      },
      {
        "duration": 14,
        "start_time": "2023-08-15T06:25:46.066Z"
      },
      {
        "duration": 12,
        "start_time": "2023-08-15T06:25:58.086Z"
      },
      {
        "duration": 4,
        "start_time": "2023-08-15T06:26:06.470Z"
      },
      {
        "duration": 7,
        "start_time": "2023-08-15T06:26:31.042Z"
      },
      {
        "duration": 11,
        "start_time": "2023-08-15T06:27:20.774Z"
      },
      {
        "duration": 1300,
        "start_time": "2023-08-15T06:49:26.247Z"
      },
      {
        "duration": 30,
        "start_time": "2023-08-15T06:49:27.549Z"
      },
      {
        "duration": 15,
        "start_time": "2023-08-15T06:49:27.581Z"
      },
      {
        "duration": 34,
        "start_time": "2023-08-15T06:49:27.599Z"
      },
      {
        "duration": 12,
        "start_time": "2023-08-15T06:49:27.635Z"
      },
      {
        "duration": 30,
        "start_time": "2023-08-15T06:49:27.649Z"
      },
      {
        "duration": 19,
        "start_time": "2023-08-15T06:49:27.681Z"
      },
      {
        "duration": 9,
        "start_time": "2023-08-15T06:49:27.703Z"
      },
      {
        "duration": 6,
        "start_time": "2023-08-15T06:49:27.868Z"
      },
      {
        "duration": 326,
        "start_time": "2023-08-15T06:49:28.030Z"
      },
      {
        "duration": 5,
        "start_time": "2023-08-15T06:49:30.515Z"
      },
      {
        "duration": 93,
        "start_time": "2023-08-15T06:49:30.707Z"
      },
      {
        "duration": 5,
        "start_time": "2023-08-15T06:49:31.315Z"
      },
      {
        "duration": 4,
        "start_time": "2023-08-15T06:49:54.013Z"
      },
      {
        "duration": 9,
        "start_time": "2023-08-15T06:50:51.305Z"
      },
      {
        "duration": 12,
        "start_time": "2023-08-15T06:51:44.647Z"
      },
      {
        "duration": 5,
        "start_time": "2023-08-15T07:19:34.199Z"
      },
      {
        "duration": 1567,
        "start_time": "2023-08-15T07:19:47.862Z"
      },
      {
        "duration": 31,
        "start_time": "2023-08-15T07:19:49.431Z"
      },
      {
        "duration": 12,
        "start_time": "2023-08-15T07:19:49.464Z"
      },
      {
        "duration": 31,
        "start_time": "2023-08-15T07:19:49.478Z"
      },
      {
        "duration": 17,
        "start_time": "2023-08-15T07:19:49.512Z"
      },
      {
        "duration": 40,
        "start_time": "2023-08-15T07:19:49.531Z"
      },
      {
        "duration": 16,
        "start_time": "2023-08-15T07:19:49.573Z"
      },
      {
        "duration": 6,
        "start_time": "2023-08-15T07:19:49.590Z"
      },
      {
        "duration": 41,
        "start_time": "2023-08-15T07:19:49.597Z"
      },
      {
        "duration": 335,
        "start_time": "2023-08-15T07:19:49.745Z"
      },
      {
        "duration": 4,
        "start_time": "2023-08-15T07:19:54.840Z"
      },
      {
        "duration": 6,
        "start_time": "2023-08-15T07:19:55.042Z"
      },
      {
        "duration": 23,
        "start_time": "2023-08-15T07:19:55.262Z"
      },
      {
        "duration": 5,
        "start_time": "2023-08-15T07:19:55.440Z"
      },
      {
        "duration": 7,
        "start_time": "2023-08-15T07:19:55.649Z"
      },
      {
        "duration": 19,
        "start_time": "2023-08-15T07:19:55.890Z"
      },
      {
        "duration": 10,
        "start_time": "2023-08-15T07:19:56.162Z"
      },
      {
        "duration": 1467,
        "start_time": "2023-08-15T07:20:12.696Z"
      },
      {
        "duration": 30,
        "start_time": "2023-08-15T07:20:14.165Z"
      },
      {
        "duration": 20,
        "start_time": "2023-08-15T07:20:14.197Z"
      },
      {
        "duration": 48,
        "start_time": "2023-08-15T07:20:14.219Z"
      },
      {
        "duration": 16,
        "start_time": "2023-08-15T07:20:14.269Z"
      },
      {
        "duration": 30,
        "start_time": "2023-08-15T07:20:14.287Z"
      },
      {
        "duration": 21,
        "start_time": "2023-08-15T07:20:14.319Z"
      },
      {
        "duration": 13,
        "start_time": "2023-08-15T07:20:14.341Z"
      },
      {
        "duration": 6,
        "start_time": "2023-08-15T07:20:14.432Z"
      },
      {
        "duration": 401,
        "start_time": "2023-08-15T07:20:14.673Z"
      },
      {
        "duration": 4,
        "start_time": "2023-08-15T07:20:24.662Z"
      },
      {
        "duration": 6,
        "start_time": "2023-08-15T07:20:25.218Z"
      },
      {
        "duration": 4,
        "start_time": "2023-08-15T07:21:30.363Z"
      },
      {
        "duration": 189,
        "start_time": "2023-08-15T07:24:41.167Z"
      },
      {
        "duration": 10,
        "start_time": "2023-08-15T07:24:53.062Z"
      },
      {
        "duration": 15,
        "start_time": "2023-08-15T07:25:09.206Z"
      },
      {
        "duration": 5,
        "start_time": "2023-08-15T07:27:49.889Z"
      },
      {
        "duration": 7,
        "start_time": "2023-08-15T07:27:52.562Z"
      },
      {
        "duration": 12,
        "start_time": "2023-08-15T07:27:58.579Z"
      },
      {
        "duration": 8,
        "start_time": "2023-08-15T07:28:59.837Z"
      },
      {
        "duration": 8,
        "start_time": "2023-08-15T07:32:22.124Z"
      },
      {
        "duration": 9,
        "start_time": "2023-08-15T07:33:02.317Z"
      },
      {
        "duration": 11,
        "start_time": "2023-08-15T07:35:26.803Z"
      },
      {
        "duration": 10,
        "start_time": "2023-08-15T07:36:07.081Z"
      },
      {
        "duration": 1709,
        "start_time": "2023-08-16T08:00:35.048Z"
      },
      {
        "duration": 124,
        "start_time": "2023-08-16T08:00:36.760Z"
      },
      {
        "duration": 13,
        "start_time": "2023-08-16T08:00:36.886Z"
      },
      {
        "duration": 18,
        "start_time": "2023-08-16T08:00:36.901Z"
      },
      {
        "duration": 5,
        "start_time": "2023-08-16T08:00:36.921Z"
      },
      {
        "duration": 36,
        "start_time": "2023-08-16T08:00:36.927Z"
      },
      {
        "duration": 9,
        "start_time": "2023-08-16T08:00:36.965Z"
      },
      {
        "duration": 5,
        "start_time": "2023-08-16T08:00:37.058Z"
      },
      {
        "duration": 6,
        "start_time": "2023-08-16T08:00:37.240Z"
      },
      {
        "duration": 419,
        "start_time": "2023-08-16T08:00:37.557Z"
      },
      {
        "duration": 5,
        "start_time": "2023-08-16T08:00:43.790Z"
      },
      {
        "duration": 7,
        "start_time": "2023-08-16T08:00:44.200Z"
      },
      {
        "duration": 4,
        "start_time": "2023-08-16T08:00:44.586Z"
      },
      {
        "duration": 14,
        "start_time": "2023-08-16T08:00:44.956Z"
      },
      {
        "duration": 6,
        "start_time": "2023-08-16T08:00:45.325Z"
      },
      {
        "duration": 8,
        "start_time": "2023-08-16T08:00:45.717Z"
      },
      {
        "duration": 12,
        "start_time": "2023-08-16T08:00:46.072Z"
      },
      {
        "duration": 10,
        "start_time": "2023-08-16T08:00:46.284Z"
      },
      {
        "duration": 10,
        "start_time": "2023-08-16T08:00:46.689Z"
      },
      {
        "duration": 12,
        "start_time": "2023-08-16T08:00:47.088Z"
      },
      {
        "duration": 1598,
        "start_time": "2023-08-16T15:27:51.194Z"
      },
      {
        "duration": 90,
        "start_time": "2023-08-16T15:27:52.794Z"
      },
      {
        "duration": 11,
        "start_time": "2023-08-16T15:27:52.885Z"
      },
      {
        "duration": 17,
        "start_time": "2023-08-16T15:27:52.899Z"
      },
      {
        "duration": 5,
        "start_time": "2023-08-16T15:27:52.918Z"
      },
      {
        "duration": 12,
        "start_time": "2023-08-16T15:27:52.925Z"
      },
      {
        "duration": 15,
        "start_time": "2023-08-16T15:27:52.939Z"
      },
      {
        "duration": 6,
        "start_time": "2023-08-16T15:27:52.956Z"
      },
      {
        "duration": 16,
        "start_time": "2023-08-16T15:27:52.963Z"
      },
      {
        "duration": 398,
        "start_time": "2023-08-16T15:27:52.981Z"
      },
      {
        "duration": 4,
        "start_time": "2023-08-16T15:27:53.381Z"
      },
      {
        "duration": 63,
        "start_time": "2023-08-16T15:27:53.387Z"
      },
      {
        "duration": 11,
        "start_time": "2023-08-16T15:27:53.451Z"
      },
      {
        "duration": 47,
        "start_time": "2023-08-16T15:27:53.463Z"
      },
      {
        "duration": 165,
        "start_time": "2023-08-16T15:27:53.513Z"
      },
      {
        "duration": 18,
        "start_time": "2023-08-16T15:27:53.679Z"
      },
      {
        "duration": 77,
        "start_time": "2023-08-16T15:27:53.699Z"
      },
      {
        "duration": 15,
        "start_time": "2023-08-16T15:27:53.778Z"
      },
      {
        "duration": 24,
        "start_time": "2023-08-16T15:27:53.875Z"
      },
      {
        "duration": 32,
        "start_time": "2023-08-16T15:27:53.901Z"
      },
      {
        "duration": 1744,
        "start_time": "2023-08-17T07:53:18.406Z"
      },
      {
        "duration": 88,
        "start_time": "2023-08-17T07:53:25.876Z"
      }
    ],
    "kernelspec": {
      "display_name": "Python 3 (ipykernel)",
      "language": "python",
      "name": "python3"
    },
    "language_info": {
      "codemirror_mode": {
        "name": "ipython",
        "version": 3
      },
      "file_extension": ".py",
      "mimetype": "text/x-python",
      "name": "python",
      "nbconvert_exporter": "python",
      "pygments_lexer": "ipython3",
      "version": "3.9.5"
    },
    "toc": {
      "base_numbering": 1,
      "nav_menu": {},
      "number_sections": true,
      "sideBar": false,
      "skip_h1_title": true,
      "title_cell": "Содержание",
      "title_sidebar": "Contents",
      "toc_cell": true,
      "toc_position": {
        "height": "618.182px",
        "left": "95px",
        "top": "110.781px",
        "width": "243.054px"
      },
      "toc_section_display": false,
      "toc_window_display": true
    },
    "colab": {
      "provenance": []
    }
  },
  "nbformat": 4,
  "nbformat_minor": 0
}