{
  "cells": [
    {
      "cell_type": "markdown",
      "metadata": {
        "toc": true,
        "id": "yIpUGYP_3yQB"
      },
      "source": [
        "<h1>Содержание<span class=\"tocSkip\"></span></h1>\n",
        "<div class=\"toc\"><ul class=\"toc-item\"><li><span><a href=\"#Подготовка-данных\" data-toc-modified-id=\"Подготовка-данных-1\"><span class=\"toc-item-num\">1&nbsp;&nbsp;</span>Подготовка данных</a></span></li><li><span><a href=\"#Исследование-баланса-классов,-обучение-модели-без-учёта-дисбаланса\" data-toc-modified-id=\"Исследование-баланса-классов,-обучение-модели-без-учёта-дисбаланса-2\"><span class=\"toc-item-num\">2&nbsp;&nbsp;</span>Исследование баланса классов, обучение модели без учёта дисбаланса</a></span><ul class=\"toc-item\"><li><span><a href=\"#Обучение-модели-древа-решений\" data-toc-modified-id=\"Обучение-модели-древа-решений-2.1\"><span class=\"toc-item-num\">2.1&nbsp;&nbsp;</span>Обучение модели древа решений</a></span></li><li><span><a href=\"#Обучение-модели-случайного-леса\" data-toc-modified-id=\"Обучение-модели-случайного-леса-2.2\"><span class=\"toc-item-num\">2.2&nbsp;&nbsp;</span>Обучение модели случайного леса</a></span></li><li><span><a href=\"#Обучение-модели-логистической-регрессии\" data-toc-modified-id=\"Обучение-модели-логистической-регрессии-2.3\"><span class=\"toc-item-num\">2.3&nbsp;&nbsp;</span>Обучение модели логистической регрессии</a></span></li></ul></li><li><span><a href=\"#Борьба-с-дисбалансом\" data-toc-modified-id=\"Борьба-с-дисбалансом-3\"><span class=\"toc-item-num\">3&nbsp;&nbsp;</span>Борьба с дисбалансом</a></span><ul class=\"toc-item\"><li><span><a href=\"#Устранение-дисбаланса-взвешиванием-классов\" data-toc-modified-id=\"Устранение-дисбаланса-взвешиванием-классов-3.1\"><span class=\"toc-item-num\">3.1&nbsp;&nbsp;</span>Устранение дисбаланса взвешиванием классов</a></span><ul class=\"toc-item\"><li><span><a href=\"#Древо-решений\" data-toc-modified-id=\"Древо-решений-3.1.1\"><span class=\"toc-item-num\">3.1.1&nbsp;&nbsp;</span>Древо решений</a></span></li><li><span><a href=\"#Случайный-лес\" data-toc-modified-id=\"Случайный-лес-3.1.2\"><span class=\"toc-item-num\">3.1.2&nbsp;&nbsp;</span>Случайный лес</a></span></li><li><span><a href=\"#Логистическая-регрессия\" data-toc-modified-id=\"Логистическая-регрессия-3.1.3\"><span class=\"toc-item-num\">3.1.3&nbsp;&nbsp;</span>Логистическая регрессия</a></span></li></ul></li><li><span><a href=\"#Устранение-дисбаланса-увеличением-выборки\" data-toc-modified-id=\"Устранение-дисбаланса-увеличением-выборки-3.2\"><span class=\"toc-item-num\">3.2&nbsp;&nbsp;</span>Устранение дисбаланса увеличением выборки</a></span><ul class=\"toc-item\"><li><span><a href=\"#Древо-решений\" data-toc-modified-id=\"Древо-решений-3.2.1\"><span class=\"toc-item-num\">3.2.1&nbsp;&nbsp;</span>Древо решений</a></span></li><li><span><a href=\"#Случайный-лес\" data-toc-modified-id=\"Случайный-лес-3.2.2\"><span class=\"toc-item-num\">3.2.2&nbsp;&nbsp;</span>Случайный лес</a></span></li><li><span><a href=\"#Логистическая-регрессия\" data-toc-modified-id=\"Логистическая-регрессия-3.2.3\"><span class=\"toc-item-num\">3.2.3&nbsp;&nbsp;</span>Логистическая регрессия</a></span></li></ul></li><li><span><a href=\"#Устранение-дисбаланса-уменьшением-выборки\" data-toc-modified-id=\"Устранение-дисбаланса-уменьшением-выборки-3.3\"><span class=\"toc-item-num\">3.3&nbsp;&nbsp;</span>Устранение дисбаланса уменьшением выборки</a></span><ul class=\"toc-item\"><li><span><a href=\"#Древо-решений\" data-toc-modified-id=\"Древо-решений-3.3.1\"><span class=\"toc-item-num\">3.3.1&nbsp;&nbsp;</span>Древо решений</a></span></li><li><span><a href=\"#Случайный-лес\" data-toc-modified-id=\"Случайный-лес-3.3.2\"><span class=\"toc-item-num\">3.3.2&nbsp;&nbsp;</span>Случайный лес</a></span></li><li><span><a href=\"#Логистическая-регрессия\" data-toc-modified-id=\"Логистическая-регрессия-3.3.3\"><span class=\"toc-item-num\">3.3.3&nbsp;&nbsp;</span>Логистическая регрессия</a></span></li></ul></li></ul></li><li><span><a href=\"#Тестирование-модели\" data-toc-modified-id=\"Тестирование-модели-4\"><span class=\"toc-item-num\">4&nbsp;&nbsp;</span>Тестирование модели</a></span></li><li><span><a href=\"#Выводы\" data-toc-modified-id=\"Выводы-5\"><span class=\"toc-item-num\">5&nbsp;&nbsp;</span>Выводы</a></span></li><li><span><a href=\"#Чек-лист-готовности-проекта\" data-toc-modified-id=\"Чек-лист-готовности-проекта-6\"><span class=\"toc-item-num\">6&nbsp;&nbsp;</span>Чек-лист готовности проекта</a></span></li></ul></div>"
      ]
    },
    {
      "cell_type": "markdown",
      "metadata": {
        "id": "LgyEmgPS3yQB"
      },
      "source": [
        "# Отток клиентов"
      ]
    },
    {
      "cell_type": "markdown",
      "metadata": {
        "id": "Se11rawj3yQC"
      },
      "source": [
        "Как всегда, прежде чем приступать к проекту, подключу библиотеки."
      ]
    },
    {
      "cell_type": "code",
      "execution_count": null,
      "metadata": {
        "id": "32uOYu7w3yQC"
      },
      "outputs": [],
      "source": [
        "import pandas as pd\n",
        "import numpy as np\n",
        "from sklearn.tree import DecisionTreeClassifier\n",
        "from sklearn.metrics import accuracy_score\n",
        "from sklearn.ensemble import RandomForestClassifier\n",
        "from sklearn.linear_model import LogisticRegression\n",
        "from sklearn.linear_model import LinearRegression\n",
        "from sklearn.model_selection import train_test_split\n",
        "from sklearn.metrics import mean_squared_error\n",
        "from sklearn.metrics import f1_score\n",
        "from sklearn.metrics import roc_auc_score\n",
        "from sklearn.utils import shuffle\n",
        "from sklearn.metrics import roc_curve\n",
        "import matplotlib.pyplot as plt\n",
        "from sklearn.metrics import recall_score\n",
        "from sklearn.metrics import precision_score\n",
        "from sklearn.preprocessing import StandardScaler\n",
        "from sklearn.metrics import plot_confusion_matrix"
      ]
    },
    {
      "cell_type": "markdown",
      "metadata": {
        "id": "uYp1t1dF3yQD"
      },
      "source": [
        "Теперь приступаю."
      ]
    },
    {
      "cell_type": "markdown",
      "metadata": {
        "id": "NC0D5PY43yQD"
      },
      "source": [
        "## Подготовка данных"
      ]
    },
    {
      "cell_type": "markdown",
      "metadata": {
        "id": "ppjNzXUJ3yQE"
      },
      "source": [
        "Прочитаю файл. Назову переменную \"data\" и ознакомлюсь с содержимым."
      ]
    },
    {
      "cell_type": "code",
      "execution_count": null,
      "metadata": {
        "id": "Y2nSkisW3yQE"
      },
      "outputs": [],
      "source": [
        "data = pd.read_csv('/datasets/Churn.csv')"
      ]
    },
    {
      "cell_type": "markdown",
      "metadata": {
        "id": "FPyJVKz73yQE"
      },
      "source": [
        "Посмотрю на первые несколько строк."
      ]
    },
    {
      "cell_type": "code",
      "execution_count": null,
      "metadata": {
        "scrolled": true,
        "id": "7OcUEyMK3yQE",
        "outputId": "e57c21ad-f269-4bea-b978-6858a98469c9"
      },
      "outputs": [
        {
          "data": {
            "text/html": [
              "<div>\n",
              "<style scoped>\n",
              "    .dataframe tbody tr th:only-of-type {\n",
              "        vertical-align: middle;\n",
              "    }\n",
              "\n",
              "    .dataframe tbody tr th {\n",
              "        vertical-align: top;\n",
              "    }\n",
              "\n",
              "    .dataframe thead th {\n",
              "        text-align: right;\n",
              "    }\n",
              "</style>\n",
              "<table border=\"1\" class=\"dataframe\">\n",
              "  <thead>\n",
              "    <tr style=\"text-align: right;\">\n",
              "      <th></th>\n",
              "      <th>RowNumber</th>\n",
              "      <th>CustomerId</th>\n",
              "      <th>Surname</th>\n",
              "      <th>CreditScore</th>\n",
              "      <th>Geography</th>\n",
              "      <th>Gender</th>\n",
              "      <th>Age</th>\n",
              "      <th>Tenure</th>\n",
              "      <th>Balance</th>\n",
              "      <th>NumOfProducts</th>\n",
              "      <th>HasCrCard</th>\n",
              "      <th>IsActiveMember</th>\n",
              "      <th>EstimatedSalary</th>\n",
              "      <th>Exited</th>\n",
              "    </tr>\n",
              "  </thead>\n",
              "  <tbody>\n",
              "    <tr>\n",
              "      <th>0</th>\n",
              "      <td>1</td>\n",
              "      <td>15634602</td>\n",
              "      <td>Hargrave</td>\n",
              "      <td>619</td>\n",
              "      <td>France</td>\n",
              "      <td>Female</td>\n",
              "      <td>42</td>\n",
              "      <td>2.0</td>\n",
              "      <td>0.00</td>\n",
              "      <td>1</td>\n",
              "      <td>1</td>\n",
              "      <td>1</td>\n",
              "      <td>101348.88</td>\n",
              "      <td>1</td>\n",
              "    </tr>\n",
              "    <tr>\n",
              "      <th>1</th>\n",
              "      <td>2</td>\n",
              "      <td>15647311</td>\n",
              "      <td>Hill</td>\n",
              "      <td>608</td>\n",
              "      <td>Spain</td>\n",
              "      <td>Female</td>\n",
              "      <td>41</td>\n",
              "      <td>1.0</td>\n",
              "      <td>83807.86</td>\n",
              "      <td>1</td>\n",
              "      <td>0</td>\n",
              "      <td>1</td>\n",
              "      <td>112542.58</td>\n",
              "      <td>0</td>\n",
              "    </tr>\n",
              "    <tr>\n",
              "      <th>2</th>\n",
              "      <td>3</td>\n",
              "      <td>15619304</td>\n",
              "      <td>Onio</td>\n",
              "      <td>502</td>\n",
              "      <td>France</td>\n",
              "      <td>Female</td>\n",
              "      <td>42</td>\n",
              "      <td>8.0</td>\n",
              "      <td>159660.80</td>\n",
              "      <td>3</td>\n",
              "      <td>1</td>\n",
              "      <td>0</td>\n",
              "      <td>113931.57</td>\n",
              "      <td>1</td>\n",
              "    </tr>\n",
              "    <tr>\n",
              "      <th>3</th>\n",
              "      <td>4</td>\n",
              "      <td>15701354</td>\n",
              "      <td>Boni</td>\n",
              "      <td>699</td>\n",
              "      <td>France</td>\n",
              "      <td>Female</td>\n",
              "      <td>39</td>\n",
              "      <td>1.0</td>\n",
              "      <td>0.00</td>\n",
              "      <td>2</td>\n",
              "      <td>0</td>\n",
              "      <td>0</td>\n",
              "      <td>93826.63</td>\n",
              "      <td>0</td>\n",
              "    </tr>\n",
              "    <tr>\n",
              "      <th>4</th>\n",
              "      <td>5</td>\n",
              "      <td>15737888</td>\n",
              "      <td>Mitchell</td>\n",
              "      <td>850</td>\n",
              "      <td>Spain</td>\n",
              "      <td>Female</td>\n",
              "      <td>43</td>\n",
              "      <td>2.0</td>\n",
              "      <td>125510.82</td>\n",
              "      <td>1</td>\n",
              "      <td>1</td>\n",
              "      <td>1</td>\n",
              "      <td>79084.10</td>\n",
              "      <td>0</td>\n",
              "    </tr>\n",
              "    <tr>\n",
              "      <th>5</th>\n",
              "      <td>6</td>\n",
              "      <td>15574012</td>\n",
              "      <td>Chu</td>\n",
              "      <td>645</td>\n",
              "      <td>Spain</td>\n",
              "      <td>Male</td>\n",
              "      <td>44</td>\n",
              "      <td>8.0</td>\n",
              "      <td>113755.78</td>\n",
              "      <td>2</td>\n",
              "      <td>1</td>\n",
              "      <td>0</td>\n",
              "      <td>149756.71</td>\n",
              "      <td>1</td>\n",
              "    </tr>\n",
              "    <tr>\n",
              "      <th>6</th>\n",
              "      <td>7</td>\n",
              "      <td>15592531</td>\n",
              "      <td>Bartlett</td>\n",
              "      <td>822</td>\n",
              "      <td>France</td>\n",
              "      <td>Male</td>\n",
              "      <td>50</td>\n",
              "      <td>7.0</td>\n",
              "      <td>0.00</td>\n",
              "      <td>2</td>\n",
              "      <td>1</td>\n",
              "      <td>1</td>\n",
              "      <td>10062.80</td>\n",
              "      <td>0</td>\n",
              "    </tr>\n",
              "    <tr>\n",
              "      <th>7</th>\n",
              "      <td>8</td>\n",
              "      <td>15656148</td>\n",
              "      <td>Obinna</td>\n",
              "      <td>376</td>\n",
              "      <td>Germany</td>\n",
              "      <td>Female</td>\n",
              "      <td>29</td>\n",
              "      <td>4.0</td>\n",
              "      <td>115046.74</td>\n",
              "      <td>4</td>\n",
              "      <td>1</td>\n",
              "      <td>0</td>\n",
              "      <td>119346.88</td>\n",
              "      <td>1</td>\n",
              "    </tr>\n",
              "    <tr>\n",
              "      <th>8</th>\n",
              "      <td>9</td>\n",
              "      <td>15792365</td>\n",
              "      <td>He</td>\n",
              "      <td>501</td>\n",
              "      <td>France</td>\n",
              "      <td>Male</td>\n",
              "      <td>44</td>\n",
              "      <td>4.0</td>\n",
              "      <td>142051.07</td>\n",
              "      <td>2</td>\n",
              "      <td>0</td>\n",
              "      <td>1</td>\n",
              "      <td>74940.50</td>\n",
              "      <td>0</td>\n",
              "    </tr>\n",
              "    <tr>\n",
              "      <th>9</th>\n",
              "      <td>10</td>\n",
              "      <td>15592389</td>\n",
              "      <td>H?</td>\n",
              "      <td>684</td>\n",
              "      <td>France</td>\n",
              "      <td>Male</td>\n",
              "      <td>27</td>\n",
              "      <td>2.0</td>\n",
              "      <td>134603.88</td>\n",
              "      <td>1</td>\n",
              "      <td>1</td>\n",
              "      <td>1</td>\n",
              "      <td>71725.73</td>\n",
              "      <td>0</td>\n",
              "    </tr>\n",
              "  </tbody>\n",
              "</table>\n",
              "</div>"
            ],
            "text/plain": [
              "   RowNumber  CustomerId   Surname  CreditScore Geography  Gender  Age  \\\n",
              "0          1    15634602  Hargrave          619    France  Female   42   \n",
              "1          2    15647311      Hill          608     Spain  Female   41   \n",
              "2          3    15619304      Onio          502    France  Female   42   \n",
              "3          4    15701354      Boni          699    France  Female   39   \n",
              "4          5    15737888  Mitchell          850     Spain  Female   43   \n",
              "5          6    15574012       Chu          645     Spain    Male   44   \n",
              "6          7    15592531  Bartlett          822    France    Male   50   \n",
              "7          8    15656148    Obinna          376   Germany  Female   29   \n",
              "8          9    15792365        He          501    France    Male   44   \n",
              "9         10    15592389        H?          684    France    Male   27   \n",
              "\n",
              "   Tenure    Balance  NumOfProducts  HasCrCard  IsActiveMember  \\\n",
              "0     2.0       0.00              1          1               1   \n",
              "1     1.0   83807.86              1          0               1   \n",
              "2     8.0  159660.80              3          1               0   \n",
              "3     1.0       0.00              2          0               0   \n",
              "4     2.0  125510.82              1          1               1   \n",
              "5     8.0  113755.78              2          1               0   \n",
              "6     7.0       0.00              2          1               1   \n",
              "7     4.0  115046.74              4          1               0   \n",
              "8     4.0  142051.07              2          0               1   \n",
              "9     2.0  134603.88              1          1               1   \n",
              "\n",
              "   EstimatedSalary  Exited  \n",
              "0        101348.88       1  \n",
              "1        112542.58       0  \n",
              "2        113931.57       1  \n",
              "3         93826.63       0  \n",
              "4         79084.10       0  \n",
              "5        149756.71       1  \n",
              "6         10062.80       0  \n",
              "7        119346.88       1  \n",
              "8         74940.50       0  \n",
              "9         71725.73       0  "
            ]
          },
          "execution_count": 3,
          "metadata": {},
          "output_type": "execute_result"
        }
      ],
      "source": [
        "data.head(10)"
      ]
    },
    {
      "cell_type": "markdown",
      "metadata": {
        "id": "9kyztJWg3yQF"
      },
      "source": [
        "Мне не нравится имена некоторых столбцов. Не нравится, что названия даны без пробелов (без нижнего) подчеркивания. Запишу такие имена змеиным регистром. Но, прежде всего, приведу все имена к нижнему регистру."
      ]
    },
    {
      "cell_type": "code",
      "execution_count": null,
      "metadata": {
        "id": "yXaTCpDl3yQG",
        "outputId": "524e9b27-7ad7-42df-b981-2844de7659d2"
      },
      "outputs": [
        {
          "data": {
            "text/html": [
              "<div>\n",
              "<style scoped>\n",
              "    .dataframe tbody tr th:only-of-type {\n",
              "        vertical-align: middle;\n",
              "    }\n",
              "\n",
              "    .dataframe tbody tr th {\n",
              "        vertical-align: top;\n",
              "    }\n",
              "\n",
              "    .dataframe thead th {\n",
              "        text-align: right;\n",
              "    }\n",
              "</style>\n",
              "<table border=\"1\" class=\"dataframe\">\n",
              "  <thead>\n",
              "    <tr style=\"text-align: right;\">\n",
              "      <th></th>\n",
              "      <th>rownumber</th>\n",
              "      <th>customerid</th>\n",
              "      <th>surname</th>\n",
              "      <th>creditscore</th>\n",
              "      <th>geography</th>\n",
              "      <th>gender</th>\n",
              "      <th>age</th>\n",
              "      <th>tenure</th>\n",
              "      <th>balance</th>\n",
              "      <th>numofproducts</th>\n",
              "      <th>hascrcard</th>\n",
              "      <th>isactivemember</th>\n",
              "      <th>estimatedsalary</th>\n",
              "      <th>exited</th>\n",
              "    </tr>\n",
              "  </thead>\n",
              "  <tbody>\n",
              "    <tr>\n",
              "      <th>0</th>\n",
              "      <td>1</td>\n",
              "      <td>15634602</td>\n",
              "      <td>Hargrave</td>\n",
              "      <td>619</td>\n",
              "      <td>France</td>\n",
              "      <td>Female</td>\n",
              "      <td>42</td>\n",
              "      <td>2.0</td>\n",
              "      <td>0.00</td>\n",
              "      <td>1</td>\n",
              "      <td>1</td>\n",
              "      <td>1</td>\n",
              "      <td>101348.88</td>\n",
              "      <td>1</td>\n",
              "    </tr>\n",
              "    <tr>\n",
              "      <th>1</th>\n",
              "      <td>2</td>\n",
              "      <td>15647311</td>\n",
              "      <td>Hill</td>\n",
              "      <td>608</td>\n",
              "      <td>Spain</td>\n",
              "      <td>Female</td>\n",
              "      <td>41</td>\n",
              "      <td>1.0</td>\n",
              "      <td>83807.86</td>\n",
              "      <td>1</td>\n",
              "      <td>0</td>\n",
              "      <td>1</td>\n",
              "      <td>112542.58</td>\n",
              "      <td>0</td>\n",
              "    </tr>\n",
              "    <tr>\n",
              "      <th>2</th>\n",
              "      <td>3</td>\n",
              "      <td>15619304</td>\n",
              "      <td>Onio</td>\n",
              "      <td>502</td>\n",
              "      <td>France</td>\n",
              "      <td>Female</td>\n",
              "      <td>42</td>\n",
              "      <td>8.0</td>\n",
              "      <td>159660.80</td>\n",
              "      <td>3</td>\n",
              "      <td>1</td>\n",
              "      <td>0</td>\n",
              "      <td>113931.57</td>\n",
              "      <td>1</td>\n",
              "    </tr>\n",
              "    <tr>\n",
              "      <th>3</th>\n",
              "      <td>4</td>\n",
              "      <td>15701354</td>\n",
              "      <td>Boni</td>\n",
              "      <td>699</td>\n",
              "      <td>France</td>\n",
              "      <td>Female</td>\n",
              "      <td>39</td>\n",
              "      <td>1.0</td>\n",
              "      <td>0.00</td>\n",
              "      <td>2</td>\n",
              "      <td>0</td>\n",
              "      <td>0</td>\n",
              "      <td>93826.63</td>\n",
              "      <td>0</td>\n",
              "    </tr>\n",
              "    <tr>\n",
              "      <th>4</th>\n",
              "      <td>5</td>\n",
              "      <td>15737888</td>\n",
              "      <td>Mitchell</td>\n",
              "      <td>850</td>\n",
              "      <td>Spain</td>\n",
              "      <td>Female</td>\n",
              "      <td>43</td>\n",
              "      <td>2.0</td>\n",
              "      <td>125510.82</td>\n",
              "      <td>1</td>\n",
              "      <td>1</td>\n",
              "      <td>1</td>\n",
              "      <td>79084.10</td>\n",
              "      <td>0</td>\n",
              "    </tr>\n",
              "    <tr>\n",
              "      <th>5</th>\n",
              "      <td>6</td>\n",
              "      <td>15574012</td>\n",
              "      <td>Chu</td>\n",
              "      <td>645</td>\n",
              "      <td>Spain</td>\n",
              "      <td>Male</td>\n",
              "      <td>44</td>\n",
              "      <td>8.0</td>\n",
              "      <td>113755.78</td>\n",
              "      <td>2</td>\n",
              "      <td>1</td>\n",
              "      <td>0</td>\n",
              "      <td>149756.71</td>\n",
              "      <td>1</td>\n",
              "    </tr>\n",
              "    <tr>\n",
              "      <th>6</th>\n",
              "      <td>7</td>\n",
              "      <td>15592531</td>\n",
              "      <td>Bartlett</td>\n",
              "      <td>822</td>\n",
              "      <td>France</td>\n",
              "      <td>Male</td>\n",
              "      <td>50</td>\n",
              "      <td>7.0</td>\n",
              "      <td>0.00</td>\n",
              "      <td>2</td>\n",
              "      <td>1</td>\n",
              "      <td>1</td>\n",
              "      <td>10062.80</td>\n",
              "      <td>0</td>\n",
              "    </tr>\n",
              "    <tr>\n",
              "      <th>7</th>\n",
              "      <td>8</td>\n",
              "      <td>15656148</td>\n",
              "      <td>Obinna</td>\n",
              "      <td>376</td>\n",
              "      <td>Germany</td>\n",
              "      <td>Female</td>\n",
              "      <td>29</td>\n",
              "      <td>4.0</td>\n",
              "      <td>115046.74</td>\n",
              "      <td>4</td>\n",
              "      <td>1</td>\n",
              "      <td>0</td>\n",
              "      <td>119346.88</td>\n",
              "      <td>1</td>\n",
              "    </tr>\n",
              "    <tr>\n",
              "      <th>8</th>\n",
              "      <td>9</td>\n",
              "      <td>15792365</td>\n",
              "      <td>He</td>\n",
              "      <td>501</td>\n",
              "      <td>France</td>\n",
              "      <td>Male</td>\n",
              "      <td>44</td>\n",
              "      <td>4.0</td>\n",
              "      <td>142051.07</td>\n",
              "      <td>2</td>\n",
              "      <td>0</td>\n",
              "      <td>1</td>\n",
              "      <td>74940.50</td>\n",
              "      <td>0</td>\n",
              "    </tr>\n",
              "    <tr>\n",
              "      <th>9</th>\n",
              "      <td>10</td>\n",
              "      <td>15592389</td>\n",
              "      <td>H?</td>\n",
              "      <td>684</td>\n",
              "      <td>France</td>\n",
              "      <td>Male</td>\n",
              "      <td>27</td>\n",
              "      <td>2.0</td>\n",
              "      <td>134603.88</td>\n",
              "      <td>1</td>\n",
              "      <td>1</td>\n",
              "      <td>1</td>\n",
              "      <td>71725.73</td>\n",
              "      <td>0</td>\n",
              "    </tr>\n",
              "  </tbody>\n",
              "</table>\n",
              "</div>"
            ],
            "text/plain": [
              "   rownumber  customerid   surname  creditscore geography  gender  age  \\\n",
              "0          1    15634602  Hargrave          619    France  Female   42   \n",
              "1          2    15647311      Hill          608     Spain  Female   41   \n",
              "2          3    15619304      Onio          502    France  Female   42   \n",
              "3          4    15701354      Boni          699    France  Female   39   \n",
              "4          5    15737888  Mitchell          850     Spain  Female   43   \n",
              "5          6    15574012       Chu          645     Spain    Male   44   \n",
              "6          7    15592531  Bartlett          822    France    Male   50   \n",
              "7          8    15656148    Obinna          376   Germany  Female   29   \n",
              "8          9    15792365        He          501    France    Male   44   \n",
              "9         10    15592389        H?          684    France    Male   27   \n",
              "\n",
              "   tenure    balance  numofproducts  hascrcard  isactivemember  \\\n",
              "0     2.0       0.00              1          1               1   \n",
              "1     1.0   83807.86              1          0               1   \n",
              "2     8.0  159660.80              3          1               0   \n",
              "3     1.0       0.00              2          0               0   \n",
              "4     2.0  125510.82              1          1               1   \n",
              "5     8.0  113755.78              2          1               0   \n",
              "6     7.0       0.00              2          1               1   \n",
              "7     4.0  115046.74              4          1               0   \n",
              "8     4.0  142051.07              2          0               1   \n",
              "9     2.0  134603.88              1          1               1   \n",
              "\n",
              "   estimatedsalary  exited  \n",
              "0        101348.88       1  \n",
              "1        112542.58       0  \n",
              "2        113931.57       1  \n",
              "3         93826.63       0  \n",
              "4         79084.10       0  \n",
              "5        149756.71       1  \n",
              "6         10062.80       0  \n",
              "7        119346.88       1  \n",
              "8         74940.50       0  \n",
              "9         71725.73       0  "
            ]
          },
          "execution_count": 4,
          "metadata": {},
          "output_type": "execute_result"
        }
      ],
      "source": [
        "data.columns = data.columns.str.lower()\n",
        "data.head(10)"
      ]
    },
    {
      "cell_type": "markdown",
      "metadata": {
        "id": "jzb-FF0T3yQG"
      },
      "source": [
        "Теперь разделяю."
      ]
    },
    {
      "cell_type": "code",
      "execution_count": null,
      "metadata": {
        "id": "KxzB7kbk3yQG"
      },
      "outputs": [],
      "source": [
        "data = data.rename(columns={'rownumber': 'row_number', 'customerid': 'customer_id', 'creditscore': 'credit_score',\n",
        "                           'numofproducts': 'num_of_products', 'hascrcard': 'has_cr_card', 'isactivemember': 'is_active_member',\n",
        "                           'estimatedsalary': 'estimated_salary'})"
      ]
    },
    {
      "cell_type": "code",
      "execution_count": null,
      "metadata": {
        "id": "VMrtEoW-3yQG",
        "outputId": "b99a3e3b-0504-4b59-8e01-a3f98b699cb4"
      },
      "outputs": [
        {
          "data": {
            "text/html": [
              "<div>\n",
              "<style scoped>\n",
              "    .dataframe tbody tr th:only-of-type {\n",
              "        vertical-align: middle;\n",
              "    }\n",
              "\n",
              "    .dataframe tbody tr th {\n",
              "        vertical-align: top;\n",
              "    }\n",
              "\n",
              "    .dataframe thead th {\n",
              "        text-align: right;\n",
              "    }\n",
              "</style>\n",
              "<table border=\"1\" class=\"dataframe\">\n",
              "  <thead>\n",
              "    <tr style=\"text-align: right;\">\n",
              "      <th></th>\n",
              "      <th>row_number</th>\n",
              "      <th>customer_id</th>\n",
              "      <th>surname</th>\n",
              "      <th>credit_score</th>\n",
              "      <th>geography</th>\n",
              "      <th>gender</th>\n",
              "      <th>age</th>\n",
              "      <th>tenure</th>\n",
              "      <th>balance</th>\n",
              "      <th>num_of_products</th>\n",
              "      <th>has_cr_card</th>\n",
              "      <th>is_active_member</th>\n",
              "      <th>estimated_salary</th>\n",
              "      <th>exited</th>\n",
              "    </tr>\n",
              "  </thead>\n",
              "  <tbody>\n",
              "    <tr>\n",
              "      <th>0</th>\n",
              "      <td>1</td>\n",
              "      <td>15634602</td>\n",
              "      <td>Hargrave</td>\n",
              "      <td>619</td>\n",
              "      <td>France</td>\n",
              "      <td>Female</td>\n",
              "      <td>42</td>\n",
              "      <td>2.0</td>\n",
              "      <td>0.00</td>\n",
              "      <td>1</td>\n",
              "      <td>1</td>\n",
              "      <td>1</td>\n",
              "      <td>101348.88</td>\n",
              "      <td>1</td>\n",
              "    </tr>\n",
              "    <tr>\n",
              "      <th>1</th>\n",
              "      <td>2</td>\n",
              "      <td>15647311</td>\n",
              "      <td>Hill</td>\n",
              "      <td>608</td>\n",
              "      <td>Spain</td>\n",
              "      <td>Female</td>\n",
              "      <td>41</td>\n",
              "      <td>1.0</td>\n",
              "      <td>83807.86</td>\n",
              "      <td>1</td>\n",
              "      <td>0</td>\n",
              "      <td>1</td>\n",
              "      <td>112542.58</td>\n",
              "      <td>0</td>\n",
              "    </tr>\n",
              "    <tr>\n",
              "      <th>2</th>\n",
              "      <td>3</td>\n",
              "      <td>15619304</td>\n",
              "      <td>Onio</td>\n",
              "      <td>502</td>\n",
              "      <td>France</td>\n",
              "      <td>Female</td>\n",
              "      <td>42</td>\n",
              "      <td>8.0</td>\n",
              "      <td>159660.80</td>\n",
              "      <td>3</td>\n",
              "      <td>1</td>\n",
              "      <td>0</td>\n",
              "      <td>113931.57</td>\n",
              "      <td>1</td>\n",
              "    </tr>\n",
              "    <tr>\n",
              "      <th>3</th>\n",
              "      <td>4</td>\n",
              "      <td>15701354</td>\n",
              "      <td>Boni</td>\n",
              "      <td>699</td>\n",
              "      <td>France</td>\n",
              "      <td>Female</td>\n",
              "      <td>39</td>\n",
              "      <td>1.0</td>\n",
              "      <td>0.00</td>\n",
              "      <td>2</td>\n",
              "      <td>0</td>\n",
              "      <td>0</td>\n",
              "      <td>93826.63</td>\n",
              "      <td>0</td>\n",
              "    </tr>\n",
              "    <tr>\n",
              "      <th>4</th>\n",
              "      <td>5</td>\n",
              "      <td>15737888</td>\n",
              "      <td>Mitchell</td>\n",
              "      <td>850</td>\n",
              "      <td>Spain</td>\n",
              "      <td>Female</td>\n",
              "      <td>43</td>\n",
              "      <td>2.0</td>\n",
              "      <td>125510.82</td>\n",
              "      <td>1</td>\n",
              "      <td>1</td>\n",
              "      <td>1</td>\n",
              "      <td>79084.10</td>\n",
              "      <td>0</td>\n",
              "    </tr>\n",
              "    <tr>\n",
              "      <th>...</th>\n",
              "      <td>...</td>\n",
              "      <td>...</td>\n",
              "      <td>...</td>\n",
              "      <td>...</td>\n",
              "      <td>...</td>\n",
              "      <td>...</td>\n",
              "      <td>...</td>\n",
              "      <td>...</td>\n",
              "      <td>...</td>\n",
              "      <td>...</td>\n",
              "      <td>...</td>\n",
              "      <td>...</td>\n",
              "      <td>...</td>\n",
              "      <td>...</td>\n",
              "    </tr>\n",
              "    <tr>\n",
              "      <th>9995</th>\n",
              "      <td>9996</td>\n",
              "      <td>15606229</td>\n",
              "      <td>Obijiaku</td>\n",
              "      <td>771</td>\n",
              "      <td>France</td>\n",
              "      <td>Male</td>\n",
              "      <td>39</td>\n",
              "      <td>5.0</td>\n",
              "      <td>0.00</td>\n",
              "      <td>2</td>\n",
              "      <td>1</td>\n",
              "      <td>0</td>\n",
              "      <td>96270.64</td>\n",
              "      <td>0</td>\n",
              "    </tr>\n",
              "    <tr>\n",
              "      <th>9996</th>\n",
              "      <td>9997</td>\n",
              "      <td>15569892</td>\n",
              "      <td>Johnstone</td>\n",
              "      <td>516</td>\n",
              "      <td>France</td>\n",
              "      <td>Male</td>\n",
              "      <td>35</td>\n",
              "      <td>10.0</td>\n",
              "      <td>57369.61</td>\n",
              "      <td>1</td>\n",
              "      <td>1</td>\n",
              "      <td>1</td>\n",
              "      <td>101699.77</td>\n",
              "      <td>0</td>\n",
              "    </tr>\n",
              "    <tr>\n",
              "      <th>9997</th>\n",
              "      <td>9998</td>\n",
              "      <td>15584532</td>\n",
              "      <td>Liu</td>\n",
              "      <td>709</td>\n",
              "      <td>France</td>\n",
              "      <td>Female</td>\n",
              "      <td>36</td>\n",
              "      <td>7.0</td>\n",
              "      <td>0.00</td>\n",
              "      <td>1</td>\n",
              "      <td>0</td>\n",
              "      <td>1</td>\n",
              "      <td>42085.58</td>\n",
              "      <td>1</td>\n",
              "    </tr>\n",
              "    <tr>\n",
              "      <th>9998</th>\n",
              "      <td>9999</td>\n",
              "      <td>15682355</td>\n",
              "      <td>Sabbatini</td>\n",
              "      <td>772</td>\n",
              "      <td>Germany</td>\n",
              "      <td>Male</td>\n",
              "      <td>42</td>\n",
              "      <td>3.0</td>\n",
              "      <td>75075.31</td>\n",
              "      <td>2</td>\n",
              "      <td>1</td>\n",
              "      <td>0</td>\n",
              "      <td>92888.52</td>\n",
              "      <td>1</td>\n",
              "    </tr>\n",
              "    <tr>\n",
              "      <th>9999</th>\n",
              "      <td>10000</td>\n",
              "      <td>15628319</td>\n",
              "      <td>Walker</td>\n",
              "      <td>792</td>\n",
              "      <td>France</td>\n",
              "      <td>Female</td>\n",
              "      <td>28</td>\n",
              "      <td>NaN</td>\n",
              "      <td>130142.79</td>\n",
              "      <td>1</td>\n",
              "      <td>1</td>\n",
              "      <td>0</td>\n",
              "      <td>38190.78</td>\n",
              "      <td>0</td>\n",
              "    </tr>\n",
              "  </tbody>\n",
              "</table>\n",
              "<p>10000 rows × 14 columns</p>\n",
              "</div>"
            ],
            "text/plain": [
              "      row_number  customer_id    surname  credit_score geography  gender  age  \\\n",
              "0              1     15634602   Hargrave           619    France  Female   42   \n",
              "1              2     15647311       Hill           608     Spain  Female   41   \n",
              "2              3     15619304       Onio           502    France  Female   42   \n",
              "3              4     15701354       Boni           699    France  Female   39   \n",
              "4              5     15737888   Mitchell           850     Spain  Female   43   \n",
              "...          ...          ...        ...           ...       ...     ...  ...   \n",
              "9995        9996     15606229   Obijiaku           771    France    Male   39   \n",
              "9996        9997     15569892  Johnstone           516    France    Male   35   \n",
              "9997        9998     15584532        Liu           709    France  Female   36   \n",
              "9998        9999     15682355  Sabbatini           772   Germany    Male   42   \n",
              "9999       10000     15628319     Walker           792    France  Female   28   \n",
              "\n",
              "      tenure    balance  num_of_products  has_cr_card  is_active_member  \\\n",
              "0        2.0       0.00                1            1                 1   \n",
              "1        1.0   83807.86                1            0                 1   \n",
              "2        8.0  159660.80                3            1                 0   \n",
              "3        1.0       0.00                2            0                 0   \n",
              "4        2.0  125510.82                1            1                 1   \n",
              "...      ...        ...              ...          ...               ...   \n",
              "9995     5.0       0.00                2            1                 0   \n",
              "9996    10.0   57369.61                1            1                 1   \n",
              "9997     7.0       0.00                1            0                 1   \n",
              "9998     3.0   75075.31                2            1                 0   \n",
              "9999     NaN  130142.79                1            1                 0   \n",
              "\n",
              "      estimated_salary  exited  \n",
              "0            101348.88       1  \n",
              "1            112542.58       0  \n",
              "2            113931.57       1  \n",
              "3             93826.63       0  \n",
              "4             79084.10       0  \n",
              "...                ...     ...  \n",
              "9995          96270.64       0  \n",
              "9996         101699.77       0  \n",
              "9997          42085.58       1  \n",
              "9998          92888.52       1  \n",
              "9999          38190.78       0  \n",
              "\n",
              "[10000 rows x 14 columns]"
            ]
          },
          "execution_count": 6,
          "metadata": {},
          "output_type": "execute_result"
        }
      ],
      "source": [
        "data"
      ]
    },
    {
      "cell_type": "markdown",
      "metadata": {
        "id": "94YADkud3yQG"
      },
      "source": [
        "Так мне нравится больше. Теперь посмотрю общую информацию о файле, что увидеть типы данных в столбцах, количество пропусков."
      ]
    },
    {
      "cell_type": "code",
      "execution_count": null,
      "metadata": {
        "id": "vYF_bjIe3yQH",
        "outputId": "e387e295-b985-4554-95c4-f7f2feec541e"
      },
      "outputs": [
        {
          "name": "stdout",
          "output_type": "stream",
          "text": [
            "<class 'pandas.core.frame.DataFrame'>\n",
            "RangeIndex: 10000 entries, 0 to 9999\n",
            "Data columns (total 14 columns):\n",
            " #   Column            Non-Null Count  Dtype  \n",
            "---  ------            --------------  -----  \n",
            " 0   row_number        10000 non-null  int64  \n",
            " 1   customer_id       10000 non-null  int64  \n",
            " 2   surname           10000 non-null  object \n",
            " 3   credit_score      10000 non-null  int64  \n",
            " 4   geography         10000 non-null  object \n",
            " 5   gender            10000 non-null  object \n",
            " 6   age               10000 non-null  int64  \n",
            " 7   tenure            9091 non-null   float64\n",
            " 8   balance           10000 non-null  float64\n",
            " 9   num_of_products   10000 non-null  int64  \n",
            " 10  has_cr_card       10000 non-null  int64  \n",
            " 11  is_active_member  10000 non-null  int64  \n",
            " 12  estimated_salary  10000 non-null  float64\n",
            " 13  exited            10000 non-null  int64  \n",
            "dtypes: float64(3), int64(8), object(3)\n",
            "memory usage: 1.1+ MB\n"
          ]
        }
      ],
      "source": [
        "data.info()"
      ]
    },
    {
      "cell_type": "markdown",
      "metadata": {
        "id": "exsbIvRO3yQH"
      },
      "source": [
        "Проверю на наличие дубликатов."
      ]
    },
    {
      "cell_type": "code",
      "execution_count": null,
      "metadata": {
        "id": "1X7PWf9h3yQH",
        "outputId": "bd1e2611-ab49-41df-bedb-800062a28f57"
      },
      "outputs": [
        {
          "data": {
            "text/plain": [
              "0"
            ]
          },
          "execution_count": 8,
          "metadata": {},
          "output_type": "execute_result"
        }
      ],
      "source": [
        "data.duplicated().sum()"
      ]
    },
    {
      "cell_type": "markdown",
      "metadata": {
        "id": "nsMkzxkh3yQI"
      },
      "source": [
        "Дубликатов нет. Двигаюсь дальше."
      ]
    },
    {
      "cell_type": "markdown",
      "metadata": {
        "id": "2Urkpsbg3yQI"
      },
      "source": [
        "Пропуски в столбце \"срок бытности клиентом банка\". Около 10%... Считаю, что заменять неким средним, случайным и другой произвольной величиной нельзя. Да и сложно сказать, почему есть эти пропуски. Я заполню их нулями. И тогда переведу тип в целочисленный."
      ]
    },
    {
      "cell_type": "code",
      "execution_count": null,
      "metadata": {
        "id": "AEMekIwy3yQI",
        "outputId": "502b0022-86ea-499d-8f3e-a20eeadca3a4"
      },
      "outputs": [
        {
          "data": {
            "text/plain": [
              "count    9091.000000\n",
              "mean        4.997690\n",
              "std         2.894723\n",
              "min         0.000000\n",
              "25%         2.000000\n",
              "50%         5.000000\n",
              "75%         7.000000\n",
              "max        10.000000\n",
              "Name: tenure, dtype: float64"
            ]
          },
          "execution_count": 9,
          "metadata": {},
          "output_type": "execute_result"
        }
      ],
      "source": [
        "data['tenure'].describe()"
      ]
    },
    {
      "cell_type": "code",
      "execution_count": null,
      "metadata": {
        "id": "-vrh-kvx3yQJ",
        "outputId": "946d04f2-9b80-473a-fe8f-abbc9b8c3a19"
      },
      "outputs": [
        {
          "data": {
            "text/plain": [
              "row_number            0\n",
              "customer_id           0\n",
              "surname               0\n",
              "credit_score          0\n",
              "geography             0\n",
              "gender                0\n",
              "age                   0\n",
              "tenure              909\n",
              "balance               0\n",
              "num_of_products       0\n",
              "has_cr_card           0\n",
              "is_active_member      0\n",
              "estimated_salary      0\n",
              "exited                0\n",
              "dtype: int64"
            ]
          },
          "execution_count": 10,
          "metadata": {},
          "output_type": "execute_result"
        }
      ],
      "source": [
        "data.isna().sum()"
      ]
    },
    {
      "cell_type": "code",
      "execution_count": null,
      "metadata": {
        "id": "WQyJRPQR3yQJ",
        "outputId": "baeca67f-2db9-47d1-a462-26d558d5e8b6"
      },
      "outputs": [
        {
          "name": "stdout",
          "output_type": "stream",
          "text": [
            "2.0007043183518953 %\n"
          ]
        }
      ],
      "source": [
        "print((data['tenure'].isna().sum() / data['tenure'].sum())*100, '%')"
      ]
    },
    {
      "cell_type": "code",
      "execution_count": null,
      "metadata": {
        "id": "UvG5nI4T3yQJ"
      },
      "outputs": [],
      "source": [
        "data = data.dropna(subset=['tenure'])"
      ]
    },
    {
      "cell_type": "code",
      "execution_count": null,
      "metadata": {
        "id": "syKEiVxY3yQK",
        "outputId": "2c2bdd91-1c27-414e-c699-7ce57251335f"
      },
      "outputs": [
        {
          "name": "stdout",
          "output_type": "stream",
          "text": [
            "<class 'pandas.core.frame.DataFrame'>\n",
            "Int64Index: 9091 entries, 0 to 9998\n",
            "Data columns (total 14 columns):\n",
            " #   Column            Non-Null Count  Dtype  \n",
            "---  ------            --------------  -----  \n",
            " 0   row_number        9091 non-null   int64  \n",
            " 1   customer_id       9091 non-null   int64  \n",
            " 2   surname           9091 non-null   object \n",
            " 3   credit_score      9091 non-null   int64  \n",
            " 4   geography         9091 non-null   object \n",
            " 5   gender            9091 non-null   object \n",
            " 6   age               9091 non-null   int64  \n",
            " 7   tenure            9091 non-null   float64\n",
            " 8   balance           9091 non-null   float64\n",
            " 9   num_of_products   9091 non-null   int64  \n",
            " 10  has_cr_card       9091 non-null   int64  \n",
            " 11  is_active_member  9091 non-null   int64  \n",
            " 12  estimated_salary  9091 non-null   float64\n",
            " 13  exited            9091 non-null   int64  \n",
            "dtypes: float64(3), int64(8), object(3)\n",
            "memory usage: 1.0+ MB\n"
          ]
        }
      ],
      "source": [
        "data.info()"
      ]
    },
    {
      "cell_type": "markdown",
      "metadata": {
        "id": "qj_9NEzN3yQL"
      },
      "source": [
        "Некоторые столбцы явно лишние для анализа. Исключу столбец с индексом строки данных - не знаю, зачем он - и стобец с фамилией. Есть ID, в котором уже содержится всё это. Можно и пол удалить, но его оставлю."
      ]
    },
    {
      "cell_type": "code",
      "execution_count": null,
      "metadata": {
        "id": "VTpKf8cc3yQM",
        "outputId": "ffe76e2c-c2b1-4d50-aea0-526179bad987"
      },
      "outputs": [
        {
          "data": {
            "text/html": [
              "<div>\n",
              "<style scoped>\n",
              "    .dataframe tbody tr th:only-of-type {\n",
              "        vertical-align: middle;\n",
              "    }\n",
              "\n",
              "    .dataframe tbody tr th {\n",
              "        vertical-align: top;\n",
              "    }\n",
              "\n",
              "    .dataframe thead th {\n",
              "        text-align: right;\n",
              "    }\n",
              "</style>\n",
              "<table border=\"1\" class=\"dataframe\">\n",
              "  <thead>\n",
              "    <tr style=\"text-align: right;\">\n",
              "      <th></th>\n",
              "      <th>credit_score</th>\n",
              "      <th>geography</th>\n",
              "      <th>gender</th>\n",
              "      <th>age</th>\n",
              "      <th>tenure</th>\n",
              "      <th>balance</th>\n",
              "      <th>num_of_products</th>\n",
              "      <th>has_cr_card</th>\n",
              "      <th>is_active_member</th>\n",
              "      <th>estimated_salary</th>\n",
              "      <th>exited</th>\n",
              "    </tr>\n",
              "  </thead>\n",
              "  <tbody>\n",
              "    <tr>\n",
              "      <th>0</th>\n",
              "      <td>619</td>\n",
              "      <td>France</td>\n",
              "      <td>Female</td>\n",
              "      <td>42</td>\n",
              "      <td>2.0</td>\n",
              "      <td>0.00</td>\n",
              "      <td>1</td>\n",
              "      <td>1</td>\n",
              "      <td>1</td>\n",
              "      <td>101348.88</td>\n",
              "      <td>1</td>\n",
              "    </tr>\n",
              "    <tr>\n",
              "      <th>1</th>\n",
              "      <td>608</td>\n",
              "      <td>Spain</td>\n",
              "      <td>Female</td>\n",
              "      <td>41</td>\n",
              "      <td>1.0</td>\n",
              "      <td>83807.86</td>\n",
              "      <td>1</td>\n",
              "      <td>0</td>\n",
              "      <td>1</td>\n",
              "      <td>112542.58</td>\n",
              "      <td>0</td>\n",
              "    </tr>\n",
              "    <tr>\n",
              "      <th>2</th>\n",
              "      <td>502</td>\n",
              "      <td>France</td>\n",
              "      <td>Female</td>\n",
              "      <td>42</td>\n",
              "      <td>8.0</td>\n",
              "      <td>159660.80</td>\n",
              "      <td>3</td>\n",
              "      <td>1</td>\n",
              "      <td>0</td>\n",
              "      <td>113931.57</td>\n",
              "      <td>1</td>\n",
              "    </tr>\n",
              "    <tr>\n",
              "      <th>3</th>\n",
              "      <td>699</td>\n",
              "      <td>France</td>\n",
              "      <td>Female</td>\n",
              "      <td>39</td>\n",
              "      <td>1.0</td>\n",
              "      <td>0.00</td>\n",
              "      <td>2</td>\n",
              "      <td>0</td>\n",
              "      <td>0</td>\n",
              "      <td>93826.63</td>\n",
              "      <td>0</td>\n",
              "    </tr>\n",
              "    <tr>\n",
              "      <th>4</th>\n",
              "      <td>850</td>\n",
              "      <td>Spain</td>\n",
              "      <td>Female</td>\n",
              "      <td>43</td>\n",
              "      <td>2.0</td>\n",
              "      <td>125510.82</td>\n",
              "      <td>1</td>\n",
              "      <td>1</td>\n",
              "      <td>1</td>\n",
              "      <td>79084.10</td>\n",
              "      <td>0</td>\n",
              "    </tr>\n",
              "  </tbody>\n",
              "</table>\n",
              "</div>"
            ],
            "text/plain": [
              "   credit_score geography  gender  age  tenure    balance  num_of_products  \\\n",
              "0           619    France  Female   42     2.0       0.00                1   \n",
              "1           608     Spain  Female   41     1.0   83807.86                1   \n",
              "2           502    France  Female   42     8.0  159660.80                3   \n",
              "3           699    France  Female   39     1.0       0.00                2   \n",
              "4           850     Spain  Female   43     2.0  125510.82                1   \n",
              "\n",
              "   has_cr_card  is_active_member  estimated_salary  exited  \n",
              "0            1                 1         101348.88       1  \n",
              "1            0                 1         112542.58       0  \n",
              "2            1                 0         113931.57       1  \n",
              "3            0                 0          93826.63       0  \n",
              "4            1                 1          79084.10       0  "
            ]
          },
          "execution_count": 14,
          "metadata": {},
          "output_type": "execute_result"
        }
      ],
      "source": [
        "garbage = ['row_number', 'surname', 'customer_id']\n",
        "data = data.drop(garbage, axis=1)\n",
        "data.head()"
      ]
    },
    {
      "cell_type": "markdown",
      "metadata": {
        "id": "fjc0fVVi3yQN"
      },
      "source": [
        "Применю метод OHE. Категориальные признаки отображу числами, и подстрахуюсь от дамми-ловушки."
      ]
    },
    {
      "cell_type": "code",
      "execution_count": null,
      "metadata": {
        "id": "QTmL3F4s3yQN",
        "outputId": "07fe7768-a407-45c3-d946-12efc6561edf"
      },
      "outputs": [
        {
          "data": {
            "text/html": [
              "<div>\n",
              "<style scoped>\n",
              "    .dataframe tbody tr th:only-of-type {\n",
              "        vertical-align: middle;\n",
              "    }\n",
              "\n",
              "    .dataframe tbody tr th {\n",
              "        vertical-align: top;\n",
              "    }\n",
              "\n",
              "    .dataframe thead th {\n",
              "        text-align: right;\n",
              "    }\n",
              "</style>\n",
              "<table border=\"1\" class=\"dataframe\">\n",
              "  <thead>\n",
              "    <tr style=\"text-align: right;\">\n",
              "      <th></th>\n",
              "      <th>credit_score</th>\n",
              "      <th>age</th>\n",
              "      <th>tenure</th>\n",
              "      <th>balance</th>\n",
              "      <th>num_of_products</th>\n",
              "      <th>has_cr_card</th>\n",
              "      <th>is_active_member</th>\n",
              "      <th>estimated_salary</th>\n",
              "      <th>exited</th>\n",
              "      <th>geography_Germany</th>\n",
              "      <th>geography_Spain</th>\n",
              "      <th>gender_Male</th>\n",
              "    </tr>\n",
              "  </thead>\n",
              "  <tbody>\n",
              "    <tr>\n",
              "      <th>0</th>\n",
              "      <td>619</td>\n",
              "      <td>42</td>\n",
              "      <td>2.0</td>\n",
              "      <td>0.00</td>\n",
              "      <td>1</td>\n",
              "      <td>1</td>\n",
              "      <td>1</td>\n",
              "      <td>101348.88</td>\n",
              "      <td>1</td>\n",
              "      <td>0</td>\n",
              "      <td>0</td>\n",
              "      <td>0</td>\n",
              "    </tr>\n",
              "    <tr>\n",
              "      <th>1</th>\n",
              "      <td>608</td>\n",
              "      <td>41</td>\n",
              "      <td>1.0</td>\n",
              "      <td>83807.86</td>\n",
              "      <td>1</td>\n",
              "      <td>0</td>\n",
              "      <td>1</td>\n",
              "      <td>112542.58</td>\n",
              "      <td>0</td>\n",
              "      <td>0</td>\n",
              "      <td>1</td>\n",
              "      <td>0</td>\n",
              "    </tr>\n",
              "    <tr>\n",
              "      <th>2</th>\n",
              "      <td>502</td>\n",
              "      <td>42</td>\n",
              "      <td>8.0</td>\n",
              "      <td>159660.80</td>\n",
              "      <td>3</td>\n",
              "      <td>1</td>\n",
              "      <td>0</td>\n",
              "      <td>113931.57</td>\n",
              "      <td>1</td>\n",
              "      <td>0</td>\n",
              "      <td>0</td>\n",
              "      <td>0</td>\n",
              "    </tr>\n",
              "    <tr>\n",
              "      <th>3</th>\n",
              "      <td>699</td>\n",
              "      <td>39</td>\n",
              "      <td>1.0</td>\n",
              "      <td>0.00</td>\n",
              "      <td>2</td>\n",
              "      <td>0</td>\n",
              "      <td>0</td>\n",
              "      <td>93826.63</td>\n",
              "      <td>0</td>\n",
              "      <td>0</td>\n",
              "      <td>0</td>\n",
              "      <td>0</td>\n",
              "    </tr>\n",
              "    <tr>\n",
              "      <th>4</th>\n",
              "      <td>850</td>\n",
              "      <td>43</td>\n",
              "      <td>2.0</td>\n",
              "      <td>125510.82</td>\n",
              "      <td>1</td>\n",
              "      <td>1</td>\n",
              "      <td>1</td>\n",
              "      <td>79084.10</td>\n",
              "      <td>0</td>\n",
              "      <td>0</td>\n",
              "      <td>1</td>\n",
              "      <td>0</td>\n",
              "    </tr>\n",
              "  </tbody>\n",
              "</table>\n",
              "</div>"
            ],
            "text/plain": [
              "   credit_score  age  tenure    balance  num_of_products  has_cr_card  \\\n",
              "0           619   42     2.0       0.00                1            1   \n",
              "1           608   41     1.0   83807.86                1            0   \n",
              "2           502   42     8.0  159660.80                3            1   \n",
              "3           699   39     1.0       0.00                2            0   \n",
              "4           850   43     2.0  125510.82                1            1   \n",
              "\n",
              "   is_active_member  estimated_salary  exited  geography_Germany  \\\n",
              "0                 1         101348.88       1                  0   \n",
              "1                 1         112542.58       0                  0   \n",
              "2                 0         113931.57       1                  0   \n",
              "3                 0          93826.63       0                  0   \n",
              "4                 1          79084.10       0                  0   \n",
              "\n",
              "   geography_Spain  gender_Male  \n",
              "0                0            0  \n",
              "1                1            0  \n",
              "2                0            0  \n",
              "3                0            0  \n",
              "4                1            0  "
            ]
          },
          "execution_count": 15,
          "metadata": {},
          "output_type": "execute_result"
        }
      ],
      "source": [
        "data = pd.get_dummies(data, drop_first=True)\n",
        "data.head()"
      ]
    },
    {
      "cell_type": "markdown",
      "metadata": {
        "id": "4-sKJgoW3yQO"
      },
      "source": [
        "Осталось подготовить выборки. Делаю так: обучающая - 80%, валидационная и тестовая - по 10%."
      ]
    },
    {
      "cell_type": "code",
      "execution_count": null,
      "metadata": {
        "id": "yrU_BI_g3yQO"
      },
      "outputs": [],
      "source": [
        "features = data.drop(['exited'], axis=1)\n",
        "target = data['exited']\n",
        "\n",
        "features_train, features_temp, target_train, target_temp = train_test_split(\n",
        "    features, target, test_size=0.2, random_state=12345, stratify = target)\n",
        "\n",
        "features_valid, features_test, target_valid, target_test = train_test_split(\n",
        "    features_temp, target_temp, test_size=0.5, random_state=12345, stratify = target_temp)"
      ]
    },
    {
      "cell_type": "markdown",
      "metadata": {
        "id": "oIkRuUpZ3yQP"
      },
      "source": [
        "Выведу размеры выборок."
      ]
    },
    {
      "cell_type": "code",
      "execution_count": null,
      "metadata": {
        "scrolled": true,
        "id": "fpfI5g1U3yQP",
        "outputId": "218a1a6f-d68f-4021-f065-4e7df0036e3b"
      },
      "outputs": [
        {
          "name": "stdout",
          "output_type": "stream",
          "text": [
            "Обучающая выборка (7272, 11)\n",
            "Валидационная выборка (909, 11)\n",
            "Тестовая выборка (910, 11)\n"
          ]
        }
      ],
      "source": [
        "print('Обучающая выборка', features_train.shape)\n",
        "print('Валидационная выборка', features_valid.shape)\n",
        "print('Тестовая выборка', features_test.shape)"
      ]
    },
    {
      "cell_type": "code",
      "execution_count": null,
      "metadata": {
        "id": "H0RxQgyv3yQQ",
        "outputId": "ef02439d-d4f1-4949-fe3b-0c04d9ee9783"
      },
      "outputs": [
        {
          "data": {
            "text/plain": [
              "StandardScaler()"
            ]
          },
          "execution_count": 18,
          "metadata": {},
          "output_type": "execute_result"
        }
      ],
      "source": [
        "scaled_columns = ['credit_score', 'balance', 'estimated_salary']\n",
        "\n",
        "scaler = StandardScaler()\n",
        "scaler.fit(features_train[scaled_columns])\n"
      ]
    },
    {
      "cell_type": "code",
      "execution_count": null,
      "metadata": {
        "id": "1VTIjNqs3yQQ",
        "outputId": "ea36f361-b825-40e2-b568-b63da65eb2d4"
      },
      "outputs": [
        {
          "name": "stderr",
          "output_type": "stream",
          "text": [
            "/tmp/ipykernel_180/3362859714.py:1: SettingWithCopyWarning: \n",
            "A value is trying to be set on a copy of a slice from a DataFrame.\n",
            "Try using .loc[row_indexer,col_indexer] = value instead\n",
            "\n",
            "See the caveats in the documentation: https://pandas.pydata.org/pandas-docs/stable/user_guide/indexing.html#returning-a-view-versus-a-copy\n",
            "  features_train[scaled_columns] = scaler.transform(features_train[scaled_columns])\n",
            "/opt/conda/lib/python3.9/site-packages/pandas/core/indexing.py:1738: SettingWithCopyWarning: \n",
            "A value is trying to be set on a copy of a slice from a DataFrame.\n",
            "Try using .loc[row_indexer,col_indexer] = value instead\n",
            "\n",
            "See the caveats in the documentation: https://pandas.pydata.org/pandas-docs/stable/user_guide/indexing.html#returning-a-view-versus-a-copy\n",
            "  self._setitem_single_column(loc, value[:, i].tolist(), pi)\n"
          ]
        },
        {
          "data": {
            "text/html": [
              "<div>\n",
              "<style scoped>\n",
              "    .dataframe tbody tr th:only-of-type {\n",
              "        vertical-align: middle;\n",
              "    }\n",
              "\n",
              "    .dataframe tbody tr th {\n",
              "        vertical-align: top;\n",
              "    }\n",
              "\n",
              "    .dataframe thead th {\n",
              "        text-align: right;\n",
              "    }\n",
              "</style>\n",
              "<table border=\"1\" class=\"dataframe\">\n",
              "  <thead>\n",
              "    <tr style=\"text-align: right;\">\n",
              "      <th></th>\n",
              "      <th>credit_score</th>\n",
              "      <th>age</th>\n",
              "      <th>tenure</th>\n",
              "      <th>balance</th>\n",
              "      <th>num_of_products</th>\n",
              "      <th>has_cr_card</th>\n",
              "      <th>is_active_member</th>\n",
              "      <th>estimated_salary</th>\n",
              "      <th>geography_Germany</th>\n",
              "      <th>geography_Spain</th>\n",
              "      <th>gender_Male</th>\n",
              "    </tr>\n",
              "  </thead>\n",
              "  <tbody>\n",
              "    <tr>\n",
              "      <th>4619</th>\n",
              "      <td>0.593619</td>\n",
              "      <td>47</td>\n",
              "      <td>0.0</td>\n",
              "      <td>0.808269</td>\n",
              "      <td>2</td>\n",
              "      <td>0</td>\n",
              "      <td>1</td>\n",
              "      <td>0.576244</td>\n",
              "      <td>0</td>\n",
              "      <td>0</td>\n",
              "      <td>0</td>\n",
              "    </tr>\n",
              "    <tr>\n",
              "      <th>1966</th>\n",
              "      <td>0.313169</td>\n",
              "      <td>48</td>\n",
              "      <td>8.0</td>\n",
              "      <td>1.015052</td>\n",
              "      <td>1</td>\n",
              "      <td>1</td>\n",
              "      <td>1</td>\n",
              "      <td>1.112813</td>\n",
              "      <td>1</td>\n",
              "      <td>0</td>\n",
              "      <td>0</td>\n",
              "    </tr>\n",
              "    <tr>\n",
              "      <th>2531</th>\n",
              "      <td>-0.455474</td>\n",
              "      <td>47</td>\n",
              "      <td>4.0</td>\n",
              "      <td>1.164972</td>\n",
              "      <td>1</td>\n",
              "      <td>1</td>\n",
              "      <td>1</td>\n",
              "      <td>-0.350388</td>\n",
              "      <td>1</td>\n",
              "      <td>0</td>\n",
              "      <td>1</td>\n",
              "    </tr>\n",
              "    <tr>\n",
              "      <th>9781</th>\n",
              "      <td>-0.102314</td>\n",
              "      <td>48</td>\n",
              "      <td>3.0</td>\n",
              "      <td>1.141153</td>\n",
              "      <td>1</td>\n",
              "      <td>1</td>\n",
              "      <td>1</td>\n",
              "      <td>1.006321</td>\n",
              "      <td>0</td>\n",
              "      <td>0</td>\n",
              "      <td>0</td>\n",
              "    </tr>\n",
              "    <tr>\n",
              "      <th>8680</th>\n",
              "      <td>0.998715</td>\n",
              "      <td>42</td>\n",
              "      <td>4.0</td>\n",
              "      <td>0.064381</td>\n",
              "      <td>1</td>\n",
              "      <td>1</td>\n",
              "      <td>0</td>\n",
              "      <td>0.272092</td>\n",
              "      <td>0</td>\n",
              "      <td>0</td>\n",
              "      <td>1</td>\n",
              "    </tr>\n",
              "  </tbody>\n",
              "</table>\n",
              "</div>"
            ],
            "text/plain": [
              "      credit_score  age  tenure   balance  num_of_products  has_cr_card  \\\n",
              "4619      0.593619   47     0.0  0.808269                2            0   \n",
              "1966      0.313169   48     8.0  1.015052                1            1   \n",
              "2531     -0.455474   47     4.0  1.164972                1            1   \n",
              "9781     -0.102314   48     3.0  1.141153                1            1   \n",
              "8680      0.998715   42     4.0  0.064381                1            1   \n",
              "\n",
              "      is_active_member  estimated_salary  geography_Germany  geography_Spain  \\\n",
              "4619                 1          0.576244                  0                0   \n",
              "1966                 1          1.112813                  1                0   \n",
              "2531                 1         -0.350388                  1                0   \n",
              "9781                 1          1.006321                  0                0   \n",
              "8680                 0          0.272092                  0                0   \n",
              "\n",
              "      gender_Male  \n",
              "4619            0  \n",
              "1966            0  \n",
              "2531            1  \n",
              "9781            0  \n",
              "8680            1  "
            ]
          },
          "execution_count": 19,
          "metadata": {},
          "output_type": "execute_result"
        }
      ],
      "source": [
        "features_train[scaled_columns] = scaler.transform(features_train[scaled_columns])\n",
        "features_train.head()"
      ]
    },
    {
      "cell_type": "code",
      "execution_count": null,
      "metadata": {
        "id": "a2yjbp5q3yQQ",
        "outputId": "f6c7bca3-87d3-405b-ba1f-58dce9915417"
      },
      "outputs": [
        {
          "name": "stderr",
          "output_type": "stream",
          "text": [
            "/tmp/ipykernel_180/2368992869.py:1: SettingWithCopyWarning: \n",
            "A value is trying to be set on a copy of a slice from a DataFrame.\n",
            "Try using .loc[row_indexer,col_indexer] = value instead\n",
            "\n",
            "See the caveats in the documentation: https://pandas.pydata.org/pandas-docs/stable/user_guide/indexing.html#returning-a-view-versus-a-copy\n",
            "  features_valid[scaled_columns] = scaler.transform(features_valid[scaled_columns])\n",
            "/opt/conda/lib/python3.9/site-packages/pandas/core/indexing.py:1738: SettingWithCopyWarning: \n",
            "A value is trying to be set on a copy of a slice from a DataFrame.\n",
            "Try using .loc[row_indexer,col_indexer] = value instead\n",
            "\n",
            "See the caveats in the documentation: https://pandas.pydata.org/pandas-docs/stable/user_guide/indexing.html#returning-a-view-versus-a-copy\n",
            "  self._setitem_single_column(loc, value[:, i].tolist(), pi)\n"
          ]
        },
        {
          "data": {
            "text/html": [
              "<div>\n",
              "<style scoped>\n",
              "    .dataframe tbody tr th:only-of-type {\n",
              "        vertical-align: middle;\n",
              "    }\n",
              "\n",
              "    .dataframe tbody tr th {\n",
              "        vertical-align: top;\n",
              "    }\n",
              "\n",
              "    .dataframe thead th {\n",
              "        text-align: right;\n",
              "    }\n",
              "</style>\n",
              "<table border=\"1\" class=\"dataframe\">\n",
              "  <thead>\n",
              "    <tr style=\"text-align: right;\">\n",
              "      <th></th>\n",
              "      <th>credit_score</th>\n",
              "      <th>age</th>\n",
              "      <th>tenure</th>\n",
              "      <th>balance</th>\n",
              "      <th>num_of_products</th>\n",
              "      <th>has_cr_card</th>\n",
              "      <th>is_active_member</th>\n",
              "      <th>estimated_salary</th>\n",
              "      <th>geography_Germany</th>\n",
              "      <th>geography_Spain</th>\n",
              "      <th>gender_Male</th>\n",
              "    </tr>\n",
              "  </thead>\n",
              "  <tbody>\n",
              "    <tr>\n",
              "      <th>3503</th>\n",
              "      <td>-1.120245</td>\n",
              "      <td>35</td>\n",
              "      <td>5.0</td>\n",
              "      <td>0.983003</td>\n",
              "      <td>1</td>\n",
              "      <td>0</td>\n",
              "      <td>0</td>\n",
              "      <td>-0.647116</td>\n",
              "      <td>0</td>\n",
              "      <td>0</td>\n",
              "      <td>1</td>\n",
              "    </tr>\n",
              "    <tr>\n",
              "      <th>8626</th>\n",
              "      <td>0.063879</td>\n",
              "      <td>40</td>\n",
              "      <td>7.0</td>\n",
              "      <td>0.368378</td>\n",
              "      <td>1</td>\n",
              "      <td>0</td>\n",
              "      <td>1</td>\n",
              "      <td>0.343260</td>\n",
              "      <td>1</td>\n",
              "      <td>0</td>\n",
              "      <td>1</td>\n",
              "    </tr>\n",
              "    <tr>\n",
              "      <th>3680</th>\n",
              "      <td>2.068582</td>\n",
              "      <td>22</td>\n",
              "      <td>3.0</td>\n",
              "      <td>-1.222322</td>\n",
              "      <td>1</td>\n",
              "      <td>1</td>\n",
              "      <td>1</td>\n",
              "      <td>0.778955</td>\n",
              "      <td>0</td>\n",
              "      <td>1</td>\n",
              "      <td>1</td>\n",
              "    </tr>\n",
              "    <tr>\n",
              "      <th>8967</th>\n",
              "      <td>1.912776</td>\n",
              "      <td>25</td>\n",
              "      <td>7.0</td>\n",
              "      <td>-1.222322</td>\n",
              "      <td>2</td>\n",
              "      <td>1</td>\n",
              "      <td>1</td>\n",
              "      <td>-0.280837</td>\n",
              "      <td>0</td>\n",
              "      <td>0</td>\n",
              "      <td>1</td>\n",
              "    </tr>\n",
              "    <tr>\n",
              "      <th>5679</th>\n",
              "      <td>1.320713</td>\n",
              "      <td>33</td>\n",
              "      <td>4.0</td>\n",
              "      <td>0.559230</td>\n",
              "      <td>2</td>\n",
              "      <td>1</td>\n",
              "      <td>0</td>\n",
              "      <td>-0.278976</td>\n",
              "      <td>1</td>\n",
              "      <td>0</td>\n",
              "      <td>0</td>\n",
              "    </tr>\n",
              "  </tbody>\n",
              "</table>\n",
              "</div>"
            ],
            "text/plain": [
              "      credit_score  age  tenure   balance  num_of_products  has_cr_card  \\\n",
              "3503     -1.120245   35     5.0  0.983003                1            0   \n",
              "8626      0.063879   40     7.0  0.368378                1            0   \n",
              "3680      2.068582   22     3.0 -1.222322                1            1   \n",
              "8967      1.912776   25     7.0 -1.222322                2            1   \n",
              "5679      1.320713   33     4.0  0.559230                2            1   \n",
              "\n",
              "      is_active_member  estimated_salary  geography_Germany  geography_Spain  \\\n",
              "3503                 0         -0.647116                  0                0   \n",
              "8626                 1          0.343260                  1                0   \n",
              "3680                 1          0.778955                  0                1   \n",
              "8967                 1         -0.280837                  0                0   \n",
              "5679                 0         -0.278976                  1                0   \n",
              "\n",
              "      gender_Male  \n",
              "3503            1  \n",
              "8626            1  \n",
              "3680            1  \n",
              "8967            1  \n",
              "5679            0  "
            ]
          },
          "execution_count": 20,
          "metadata": {},
          "output_type": "execute_result"
        }
      ],
      "source": [
        "features_valid[scaled_columns] = scaler.transform(features_valid[scaled_columns])\n",
        "features_valid.head()"
      ]
    },
    {
      "cell_type": "code",
      "execution_count": null,
      "metadata": {
        "id": "b3YJHB9I3yQR",
        "outputId": "41554d30-0d06-44d1-c5d6-d17f0589f370"
      },
      "outputs": [
        {
          "name": "stderr",
          "output_type": "stream",
          "text": [
            "/tmp/ipykernel_180/2822893183.py:1: SettingWithCopyWarning: \n",
            "A value is trying to be set on a copy of a slice from a DataFrame.\n",
            "Try using .loc[row_indexer,col_indexer] = value instead\n",
            "\n",
            "See the caveats in the documentation: https://pandas.pydata.org/pandas-docs/stable/user_guide/indexing.html#returning-a-view-versus-a-copy\n",
            "  features_test[scaled_columns] = scaler.transform(features_test[scaled_columns])\n",
            "/opt/conda/lib/python3.9/site-packages/pandas/core/indexing.py:1738: SettingWithCopyWarning: \n",
            "A value is trying to be set on a copy of a slice from a DataFrame.\n",
            "Try using .loc[row_indexer,col_indexer] = value instead\n",
            "\n",
            "See the caveats in the documentation: https://pandas.pydata.org/pandas-docs/stable/user_guide/indexing.html#returning-a-view-versus-a-copy\n",
            "  self._setitem_single_column(loc, value[:, i].tolist(), pi)\n"
          ]
        },
        {
          "data": {
            "text/html": [
              "<div>\n",
              "<style scoped>\n",
              "    .dataframe tbody tr th:only-of-type {\n",
              "        vertical-align: middle;\n",
              "    }\n",
              "\n",
              "    .dataframe tbody tr th {\n",
              "        vertical-align: top;\n",
              "    }\n",
              "\n",
              "    .dataframe thead th {\n",
              "        text-align: right;\n",
              "    }\n",
              "</style>\n",
              "<table border=\"1\" class=\"dataframe\">\n",
              "  <thead>\n",
              "    <tr style=\"text-align: right;\">\n",
              "      <th></th>\n",
              "      <th>credit_score</th>\n",
              "      <th>age</th>\n",
              "      <th>tenure</th>\n",
              "      <th>balance</th>\n",
              "      <th>num_of_products</th>\n",
              "      <th>has_cr_card</th>\n",
              "      <th>is_active_member</th>\n",
              "      <th>estimated_salary</th>\n",
              "      <th>geography_Germany</th>\n",
              "      <th>geography_Spain</th>\n",
              "      <th>gender_Male</th>\n",
              "    </tr>\n",
              "  </thead>\n",
              "  <tbody>\n",
              "    <tr>\n",
              "      <th>4524</th>\n",
              "      <td>0.261233</td>\n",
              "      <td>38</td>\n",
              "      <td>8.0</td>\n",
              "      <td>-1.222322</td>\n",
              "      <td>2</td>\n",
              "      <td>1</td>\n",
              "      <td>1</td>\n",
              "      <td>0.592989</td>\n",
              "      <td>0</td>\n",
              "      <td>0</td>\n",
              "      <td>1</td>\n",
              "    </tr>\n",
              "    <tr>\n",
              "      <th>1649</th>\n",
              "      <td>0.832522</td>\n",
              "      <td>41</td>\n",
              "      <td>4.0</td>\n",
              "      <td>-1.222322</td>\n",
              "      <td>2</td>\n",
              "      <td>1</td>\n",
              "      <td>0</td>\n",
              "      <td>-1.344359</td>\n",
              "      <td>0</td>\n",
              "      <td>1</td>\n",
              "      <td>1</td>\n",
              "    </tr>\n",
              "    <tr>\n",
              "      <th>7749</th>\n",
              "      <td>1.393423</td>\n",
              "      <td>38</td>\n",
              "      <td>1.0</td>\n",
              "      <td>-1.222322</td>\n",
              "      <td>1</td>\n",
              "      <td>1</td>\n",
              "      <td>0</td>\n",
              "      <td>0.615111</td>\n",
              "      <td>0</td>\n",
              "      <td>0</td>\n",
              "      <td>0</td>\n",
              "    </tr>\n",
              "    <tr>\n",
              "      <th>8743</th>\n",
              "      <td>-2.086242</td>\n",
              "      <td>25</td>\n",
              "      <td>9.0</td>\n",
              "      <td>-0.031498</td>\n",
              "      <td>2</td>\n",
              "      <td>0</td>\n",
              "      <td>1</td>\n",
              "      <td>1.667296</td>\n",
              "      <td>0</td>\n",
              "      <td>1</td>\n",
              "      <td>1</td>\n",
              "    </tr>\n",
              "    <tr>\n",
              "      <th>9402</th>\n",
              "      <td>1.653099</td>\n",
              "      <td>69</td>\n",
              "      <td>3.0</td>\n",
              "      <td>-0.784594</td>\n",
              "      <td>1</td>\n",
              "      <td>1</td>\n",
              "      <td>1</td>\n",
              "      <td>0.189793</td>\n",
              "      <td>1</td>\n",
              "      <td>0</td>\n",
              "      <td>1</td>\n",
              "    </tr>\n",
              "  </tbody>\n",
              "</table>\n",
              "</div>"
            ],
            "text/plain": [
              "      credit_score  age  tenure   balance  num_of_products  has_cr_card  \\\n",
              "4524      0.261233   38     8.0 -1.222322                2            1   \n",
              "1649      0.832522   41     4.0 -1.222322                2            1   \n",
              "7749      1.393423   38     1.0 -1.222322                1            1   \n",
              "8743     -2.086242   25     9.0 -0.031498                2            0   \n",
              "9402      1.653099   69     3.0 -0.784594                1            1   \n",
              "\n",
              "      is_active_member  estimated_salary  geography_Germany  geography_Spain  \\\n",
              "4524                 1          0.592989                  0                0   \n",
              "1649                 0         -1.344359                  0                1   \n",
              "7749                 0          0.615111                  0                0   \n",
              "8743                 1          1.667296                  0                1   \n",
              "9402                 1          0.189793                  1                0   \n",
              "\n",
              "      gender_Male  \n",
              "4524            1  \n",
              "1649            1  \n",
              "7749            0  \n",
              "8743            1  \n",
              "9402            1  "
            ]
          },
          "execution_count": 21,
          "metadata": {},
          "output_type": "execute_result"
        }
      ],
      "source": [
        "features_test[scaled_columns] = scaler.transform(features_test[scaled_columns])\n",
        "features_test.head()"
      ]
    },
    {
      "cell_type": "markdown",
      "metadata": {
        "id": "2kyrr97E3yQS"
      },
      "source": [
        "**Выводы по пункту 1**\n",
        "\n",
        "Проведена подготовка данных к исследованию. Выполнено следующее:\n",
        "1. Имена столбцов приведены к нижнему регистру, имена отображены змеиным регистром;\n",
        "2. Дубликатов в данных не обнаружено;\n",
        "3. Пропуски в столбце \"tenure\" заменены нулями;\n",
        "4. Исключены лишние по моему мнению столбцы - фамилия и номер строки;\n",
        "5. Категориальные данные переведены в количественные, подстраховались от дамми-ловушки;\n",
        "6. Подготовлены обучающая (80%), валидационная (10%) и тестовая (10%) выборки;\n",
        "7. Выполнено масштабирование данных.\n",
        "\n",
        "Переходим к исследованию данных\n"
      ]
    },
    {
      "cell_type": "markdown",
      "metadata": {
        "id": "L81q7W_N3yQT"
      },
      "source": [
        "## Исследование баланса классов, обучение модели без учёта дисбаланса"
      ]
    },
    {
      "cell_type": "markdown",
      "metadata": {
        "id": "tEaQ4Lqp3yQU"
      },
      "source": [
        "Сначала проверю на баланс целевой признак."
      ]
    },
    {
      "cell_type": "code",
      "execution_count": null,
      "metadata": {
        "id": "0wttL3xK3yQU",
        "outputId": "92f0ab62-9200-4837-ecef-9212fb7632d4"
      },
      "outputs": [
        {
          "name": "stdout",
          "output_type": "stream",
          "text": [
            "0    0.796062\n",
            "1    0.203938\n",
            "Name: exited, dtype: float64\n"
          ]
        },
        {
          "data": {
            "text/plain": [
              "Text(0.5, 0, 'Значения признака exited')"
            ]
          },
          "execution_count": 22,
          "metadata": {},
          "output_type": "execute_result"
        },
        {
          "data": {
            "image/png": "[encoded data removed]",
            "text/plain": [
              "<Figure size 432x288 with 1 Axes>"
            ]
          },
          "metadata": {
            "needs_background": "light"
          },
          "output_type": "display_data"
        }
      ],
      "source": [
        "balance = data['exited'].value_counts(normalize=1)\n",
        "print(balance)\n",
        "balance.plot(kind='bar')\n",
        "plt.title(\"Баланс ушедших и оставшихся клиентов\")\n",
        "plt.ylabel(\"Количество клиентов\")\n",
        "plt.xlabel(\"Значения признака exited\")"
      ]
    },
    {
      "cell_type": "markdown",
      "metadata": {
        "id": "URlNkGDk3yQU"
      },
      "source": [
        "Соотношение 4:1 - явный перекос в сторону клиентов, которые остались с банком. Ну что же, работаем пока с дисбалансными данными."
      ]
    },
    {
      "cell_type": "markdown",
      "metadata": {
        "id": "BIjs4OzP3yQU"
      },
      "source": [
        "### Обучение модели древа решений"
      ]
    },
    {
      "cell_type": "code",
      "execution_count": null,
      "metadata": {
        "id": "AqToXF3y3yQV",
        "outputId": "8755a09e-b30b-4a36-ca1c-95e750febdc7"
      },
      "outputs": [
        {
          "name": "stdout",
          "output_type": "stream",
          "text": [
            "Качество для модели древа решений: 0.479108635097493\n",
            "Максимальная глубина: 7\n",
            "AUC-ROC: 0.8199790951172168\n"
          ]
        }
      ],
      "source": [
        "optimal_f1_tree = 0\n",
        "optimal_depth_tree = 0\n",
        "optimal_auc_roc_tree = 0\n",
        "for depth in range(1, 15):\n",
        "    tree = DecisionTreeClassifier(random_state=12345, max_depth=depth)\n",
        "    tree.fit(features_train, target_train)\n",
        "    predicted_valid_tree = tree.predict(features_valid)\n",
        "    f1_tree_init = f1_score(target_valid, predicted_valid_tree)\n",
        "    auc_roc_tree = roc_auc_score(target_valid, tree.predict_proba(features_valid)[:, 1])\n",
        "    if f1_tree_init > optimal_f1_tree:\n",
        "        optimal_f1_tree = f1_tree_init\n",
        "        optimal_depth_tree = depth\n",
        "        optimal_auc_roc_tree = auc_roc_tree\n",
        "\n",
        "print('Качество для модели древа решений:', f1_tree_init)\n",
        "print('Максимальная глубина:', optimal_depth_tree)\n",
        "print('AUC-ROC:', optimal_auc_roc_tree)"
      ]
    },
    {
      "cell_type": "markdown",
      "metadata": {
        "id": "4qOSk8Gi3yQW"
      },
      "source": [
        "Обучаю модель на оптимальном параметре."
      ]
    },
    {
      "cell_type": "code",
      "execution_count": null,
      "metadata": {
        "id": "tUTYInQ23yQW",
        "outputId": "756a7aeb-6845-4ff5-9548-3e0ded75f366"
      },
      "outputs": [
        {
          "name": "stdout",
          "output_type": "stream",
          "text": [
            "Полнота модели древа: 0.4864864864864865\n",
            "Точность модели древа: 0.6617647058823529\n",
            "Качество модели древа: 0.5607476635514019\n",
            "AUC-ROC модели древа: 0.8199790951172168\n"
          ]
        }
      ],
      "source": [
        "tree = DecisionTreeClassifier(random_state=12345,\n",
        "                                    max_depth=7)\n",
        "tree.fit(features_train, target_train)\n",
        "predictions_valid_tree = tree.predict(features_valid)\n",
        "\n",
        "print(\"Полнота модели древа:\", recall_score(target_valid, predictions_valid_tree))\n",
        "print(\"Точность модели древа:\", precision_score(target_valid, predictions_valid_tree))\n",
        "print(\"Качество модели древа:\", f1_score(target_valid, predictions_valid_tree))\n",
        "probabilities_valid = tree.predict_proba(features_valid)\n",
        "probabilities_one_valid = probabilities_valid[:, 1]\n",
        "print(\"AUC-ROC модели древа:\", roc_auc_score(target_valid, probabilities_one_valid))"
      ]
    },
    {
      "cell_type": "code",
      "execution_count": null,
      "metadata": {
        "id": "dgsQTLvS3yQW",
        "outputId": "3472f96f-8a16-4522-eec7-79141660641d"
      },
      "outputs": [
        {
          "data": {
            "image/png": "[encoded data removed]",
            "text/plain": [
              "<Figure size 432x288 with 2 Axes>"
            ]
          },
          "metadata": {
            "needs_background": "light"
          },
          "output_type": "display_data"
        }
      ],
      "source": [
        "plot_confusion_matrix(estimator=tree, X=features_valid, y_true=target_valid,\n",
        "                      normalize='true', cmap='Blues')\n",
        "None"
      ]
    },
    {
      "cell_type": "markdown",
      "metadata": {
        "id": "cZ0Iufiq3yQX"
      },
      "source": [
        "При  оптимальных параметрах Древо решений показывает качество 0,561 (не удовлетворяет условию выполнения проекта). Площадь под ROC-кривой 0,820 - довольно высокий показатель."
      ]
    },
    {
      "cell_type": "markdown",
      "metadata": {
        "id": "1wr-ANRO3yQX"
      },
      "source": [
        "### Обучение модели случайного леса"
      ]
    },
    {
      "cell_type": "code",
      "execution_count": null,
      "metadata": {
        "id": "9_XpCXHh3yQX",
        "outputId": "24260759-7dd0-4b5b-b2b7-686f96af6ff8"
      },
      "outputs": [
        {
          "name": "stdout",
          "output_type": "stream",
          "text": [
            "Оптимальное количество деревьев: 105\n",
            "Оптимальная глубина модели леса: 14\n",
            "Качество модели случайного леса: 0.5454545454545454\n"
          ]
        }
      ],
      "source": [
        "optimal_model = None\n",
        "optimal_f1 = 0\n",
        "for estim in range(10, 110, 5):\n",
        "    for depth in range(1, 15):\n",
        "        forest = RandomForestClassifier(random_state=12345,\n",
        "                                              n_estimators=estim,\n",
        "                                              max_depth=depth)\n",
        "        forest.fit(features_train, target_train)\n",
        "        predictions_valid_forest = forest.predict(features_valid)\n",
        "        f1_forest_initial = f1_score(target_valid, predictions_valid_forest)\n",
        "        if f1_forest_initial > optimal_f1:\n",
        "            optimal_model = forest\n",
        "            optimal_estim = estim\n",
        "            optimal_depth = depth\n",
        "\n",
        "print('Оптимальное количество деревьев:', optimal_estim)\n",
        "print('Оптимальная глубина модели леса:', optimal_depth)\n",
        "print('Качество модели случайного леса:', f1_forest_initial)\n",
        ""
      ]
    },
    {
      "cell_type": "markdown",
      "metadata": {
        "id": "8SxQ29Vf3yQX"
      },
      "source": [
        "Использую оптимальные параметры для обучения модели."
      ]
    },
    {
      "cell_type": "code",
      "execution_count": null,
      "metadata": {
        "id": "8I7YwCX23yQX",
        "outputId": "9b147dd6-209e-4109-d410-e8a66d389359"
      },
      "outputs": [
        {
          "name": "stdout",
          "output_type": "stream",
          "text": [
            "Полнота модели леса: 0.43783783783783786\n",
            "Точность модели леса: 0.7232142857142857\n",
            "Качество модели леса: 0.5454545454545454\n",
            "AUC-ROC модели леса: 0.8396147528744213\n"
          ]
        }
      ],
      "source": [
        "forest = RandomForestClassifier(random_state=12345,\n",
        "                                      n_estimators=105,\n",
        "                                      max_depth=14)\n",
        "forest.fit(features_train, target_train)\n",
        "predictions_valid_forest = forest.predict(features_valid)\n",
        "\n",
        "print(\"Полнота модели леса:\", recall_score(target_valid, predictions_valid_forest))\n",
        "print(\"Точность модели леса:\", precision_score(target_valid, predictions_valid_forest))\n",
        "print(\"Качество модели леса:\", f1_score(target_valid, predictions_valid_forest))\n",
        "probabilities_valid = forest.predict_proba(features_valid)\n",
        "probabilities_one_valid = probabilities_valid[:, 1]\n",
        "print(\"AUC-ROC модели леса:\", roc_auc_score(target_valid, probabilities_one_valid))"
      ]
    },
    {
      "cell_type": "code",
      "execution_count": null,
      "metadata": {
        "id": "87T47YEX3yQX",
        "outputId": "b299ad50-ef75-46d8-aa58-7bb50a30d369"
      },
      "outputs": [
        {
          "data": {
            "image/png": "[encoded data removed]",
            "text/plain": [
              "<Figure size 432x288 with 2 Axes>"
            ]
          },
          "metadata": {
            "needs_background": "light"
          },
          "output_type": "display_data"
        }
      ],
      "source": [
        "plot_confusion_matrix(estimator=forest, X=features_valid, y_true=target_valid,\n",
        "                      normalize='true', cmap='Blues')\n",
        "None"
      ]
    },
    {
      "cell_type": "markdown",
      "metadata": {
        "id": "lRKQPL0L3yQX"
      },
      "source": [
        "При  оптимальных параметрах Лес решений показывает качество 0,589 - чуть выше чем у \"дерева\". Площадь под ROC-кривой 0,858 - показатель выше \"дерева\"."
      ]
    },
    {
      "cell_type": "markdown",
      "metadata": {
        "id": "d18CUOIn3yQY"
      },
      "source": [
        "### Обучение модели логистической регрессии"
      ]
    },
    {
      "cell_type": "code",
      "execution_count": null,
      "metadata": {
        "id": "nj2O8q3T3yQY",
        "outputId": "08a7442f-231a-4655-ebf7-172ec01aea15"
      },
      "outputs": [
        {
          "name": "stdout",
          "output_type": "stream",
          "text": [
            "Полнота модели регрессии: 0.16216216216216217\n",
            "Точность модели регрессии: 0.5263157894736842\n",
            "Качество модели регрессии: 0.24793388429752064\n",
            "AUC-ROC модели регрессии: 0.7456099746154995\n"
          ]
        }
      ],
      "source": [
        "regress = LogisticRegression(random_state=12345,\n",
        "                               solver='liblinear')\n",
        "regress.fit(features_train, target_train)\n",
        "\n",
        "predictions_valid_regress = regress.predict(features_valid)\n",
        "\n",
        "f1_reg_init = f1_score(target_valid, predictions_valid_regress)\n",
        "print(\"Полнота модели регрессии:\", recall_score(target_valid, predictions_valid_regress))\n",
        "print(\"Точность модели регрессии:\", precision_score(target_valid, predictions_valid_regress))\n",
        "print(\"Качество модели регрессии:\", f1_reg_init)\n",
        "probabilities_valid = regress.predict_proba(features_valid)\n",
        "probabilities_one_valid = probabilities_valid[:, 1]\n",
        "print(\"AUC-ROC модели регрессии:\", roc_auc_score(target_valid, probabilities_one_valid))"
      ]
    },
    {
      "cell_type": "code",
      "execution_count": null,
      "metadata": {
        "id": "wXWuiKbS3yQY",
        "outputId": "cd877bb6-e851-4ba5-d3f4-643499395603"
      },
      "outputs": [
        {
          "data": {
            "image/png": "[encoded data removed]",
            "text/plain": [
              "<Figure size 432x288 with 2 Axes>"
            ]
          },
          "metadata": {
            "needs_background": "light"
          },
          "output_type": "display_data"
        }
      ],
      "source": [
        "plot_confusion_matrix(estimator=regress, X=features_valid, y_true=target_valid,\n",
        "                      normalize='true', cmap='Blues')\n",
        "None"
      ]
    },
    {
      "cell_type": "markdown",
      "metadata": {
        "id": "R4onaGnY3yQZ"
      },
      "source": [
        "Логистическая регрессия показывает качество 0,099 - самый низкий показатель. Площадь под ROC-кривой 0,667 - так же самый низкий."
      ]
    },
    {
      "cell_type": "markdown",
      "metadata": {
        "id": "t7i-mw1g3yQZ"
      },
      "source": [
        "**Промежуточный вывод по разделу 2**\n",
        "\n",
        "Наибольшим качеством модели (F1- мерой) для несбалансированного случая обладает Древо решений. AUC-ROC наибольший у Случайного леса.\n",
        "\n",
        "AUC-ROC для всех случаев значительно выше меры F1."
      ]
    },
    {
      "cell_type": "markdown",
      "metadata": {
        "id": "stENivk-3yQZ"
      },
      "source": [
        "## Борьба с дисбалансом"
      ]
    },
    {
      "cell_type": "markdown",
      "metadata": {
        "id": "kF4vO1rs3yQZ"
      },
      "source": [
        "Из курса вспоминается 3 метода борьбы с дисбалансом:\n",
        "1. Взвешивание классов;\n",
        "2. Увеличение выборки (upsampling);\n",
        "3. Уменьшение выборки (downsampling)"
      ]
    },
    {
      "cell_type": "markdown",
      "metadata": {
        "id": "h4hMFpLB3yQZ"
      },
      "source": [
        "### Устранение дисбаланса взвешиванием классов"
      ]
    },
    {
      "cell_type": "markdown",
      "metadata": {
        "id": "fWfvwjtH3yQa"
      },
      "source": [
        "#### Древо решений"
      ]
    },
    {
      "cell_type": "code",
      "execution_count": null,
      "metadata": {
        "id": "FPYzpYU73yQa",
        "outputId": "b20035ad-d752-4b4d-e41a-a7752e074bd8"
      },
      "outputs": [
        {
          "name": "stdout",
          "output_type": "stream",
          "text": [
            "Оптимальная глубина дерева: 6\n",
            "Качество модели древа решений:  0.48292682926829267\n"
          ]
        }
      ],
      "source": [
        "optimal_model = None\n",
        "optimal_f1 = 0\n",
        "for depth in range(1, 15):\n",
        "    tree = DecisionTreeClassifier(random_state=12345,\n",
        "                                        max_depth=depth,\n",
        "                                        class_weight='balanced')\n",
        "    tree.fit(features_train, target_train)\n",
        "    predictions_valid_tree = tree.predict(features_valid)\n",
        "    f1_tree_weighted = f1_score(target_valid, predictions_valid_tree)\n",
        "    if f1_tree_weighted > optimal_f1:\n",
        "        optimal_model = tree\n",
        "        optimal_depth = depth\n",
        "        optimal_f1 = f1_tree_weighted\n",
        "\n",
        "print('Оптимальная глубина дерева:', optimal_depth)\n",
        "print('Качество модели древа решений: ', f1_tree_weighted)"
      ]
    },
    {
      "cell_type": "markdown",
      "metadata": {
        "id": "ou9tfUsA3yQa"
      },
      "source": [
        "Обучу модель на оптимальных параметрах"
      ]
    },
    {
      "cell_type": "code",
      "execution_count": null,
      "metadata": {
        "id": "Ba0Bw-Sx3yQa",
        "outputId": "24413ee3-3b66-421d-b58a-56490ca0a4f2"
      },
      "outputs": [
        {
          "name": "stdout",
          "output_type": "stream",
          "text": [
            "Полнота модели древа: 0.772972972972973\n",
            "Точность модели древа: 0.4454828660436137\n",
            "Качество модели древа: 0.5652173913043478\n",
            "AUC-ROC модели древа: 0.8252725100791398\n"
          ]
        }
      ],
      "source": [
        "tree = DecisionTreeClassifier(random_state=12345,\n",
        "                                    max_depth=6,\n",
        "                                    class_weight='balanced')\n",
        "tree.fit(features_train, target_train)\n",
        "predictions_valid_tree = tree.predict(features_valid)\n",
        "\n",
        "print(\"Полнота модели древа:\", recall_score(target_valid, predictions_valid_tree))\n",
        "print(\"Точность модели древа:\", precision_score(target_valid, predictions_valid_tree))\n",
        "print(\"Качество модели древа:\", f1_score(target_valid, predictions_valid_tree))\n",
        "\n",
        "probabilities_valid = tree.predict_proba(features_valid)\n",
        "probabilities_one_valid = probabilities_valid[:, 1]\n",
        "print(\"AUC-ROC модели древа:\", roc_auc_score(target_valid, probabilities_one_valid))"
      ]
    },
    {
      "cell_type": "markdown",
      "metadata": {
        "id": "nvPGmMc53yQa"
      },
      "source": [
        "Качество сбалансированной модели выше, чем для несбалансированного случая. AUC-ROC также выше F1."
      ]
    },
    {
      "cell_type": "markdown",
      "metadata": {
        "id": "nzRyHXXR3yQa"
      },
      "source": [
        "#### Случайный лес"
      ]
    },
    {
      "cell_type": "code",
      "execution_count": null,
      "metadata": {
        "id": "HL44SHyz3yQb",
        "outputId": "6fa58d9e-446b-4662-8fc2-745b9fadd274"
      },
      "outputs": [
        {
          "name": "stdout",
          "output_type": "stream",
          "text": [
            "Оптимальное количество оценок: 95\n",
            "Оптимальная глубина модели леса: 14\n",
            "Качество модели леса:  0.5732484076433121\n"
          ]
        }
      ],
      "source": [
        "optimal_model = None\n",
        "for estim in range(10, 100, 5):\n",
        "    for depth in range(1, 15):\n",
        "        forest = RandomForestClassifier(random_state=12345,\n",
        "                                              n_estimators=estim,\n",
        "                                              max_depth=depth,\n",
        "                                              class_weight='balanced')\n",
        "        forest.fit(features_train, target_train)\n",
        "        predictions_valid_forest = forest.predict(features_valid)\n",
        "        f1_forest_weighted = f1_score(target_valid, predictions_valid_forest)\n",
        "        if f1_forest_weighted > optimal_f1:\n",
        "            optimal_model = forest\n",
        "            optimal_estim = estim\n",
        "            optimal_depth = depth\n",
        "\n",
        "print('Оптимальное количество оценок:', optimal_estim)\n",
        "print('Оптимальная глубина модели леса:', optimal_depth)\n",
        "print('Качество модели леса: ', f1_forest_weighted)"
      ]
    },
    {
      "cell_type": "markdown",
      "metadata": {
        "id": "da-s5zmA3yQb"
      },
      "source": [
        "Обучаю модель на оптимальных параметрах."
      ]
    },
    {
      "cell_type": "code",
      "execution_count": null,
      "metadata": {
        "id": "NMH8SfZg3yQb",
        "outputId": "e94d34b4-2a3e-4c3f-f142-4766e8408bc2"
      },
      "outputs": [
        {
          "name": "stdout",
          "output_type": "stream",
          "text": [
            "Полнота модели леса: 0.4864864864864865\n",
            "Точность модели леса: 0.6976744186046512\n",
            "Качество модели леса: 0.5732484076433121\n",
            "AUC-ROC модели леса: 0.8431163207406303\n"
          ]
        }
      ],
      "source": [
        "forest = RandomForestClassifier(random_state=12345,\n",
        "                                      n_estimators=95,\n",
        "                                      max_depth=14,\n",
        "                                      class_weight='balanced')\n",
        "forest.fit(features_train, target_train)\n",
        "predictions_valid_forest = forest.predict(features_valid)\n",
        "\n",
        "print(\"Полнота модели леса:\", recall_score(target_valid, predictions_valid_forest))\n",
        "print(\"Точность модели леса:\", precision_score(target_valid, predictions_valid_forest))\n",
        "print(\"Качество модели леса:\", f1_score(target_valid, predictions_valid_forest))\n",
        "\n",
        "probabilities_valid = forest.predict_proba(features_valid)\n",
        "probabilities_one_valid = probabilities_valid[:, 1]\n",
        "print(\"AUC-ROC модели леса:\", roc_auc_score(target_valid, probabilities_one_valid))"
      ]
    },
    {
      "cell_type": "markdown",
      "metadata": {
        "id": "3cBNQCWn3yQb"
      },
      "source": [
        "Аналогично, случайный лес показывает более высокие результаты в сбалансированном случае."
      ]
    },
    {
      "cell_type": "markdown",
      "metadata": {
        "id": "6toWFztY3yQb"
      },
      "source": [
        "#### Логистическая регрессия"
      ]
    },
    {
      "cell_type": "code",
      "execution_count": null,
      "metadata": {
        "id": "NMnBRqQ73yQb",
        "outputId": "a0b3bc59-ae04-4fe6-98dd-323c3e01882b"
      },
      "outputs": [
        {
          "name": "stdout",
          "output_type": "stream",
          "text": [
            "Полнота модели регрессии: 0.6594594594594595\n",
            "Точность модели регрессии: 0.3652694610778443\n",
            "Качество модели регрессии: 0.4701348747591522\n",
            "AUC-ROC модели регрессии: 0.7498058832312975\n"
          ]
        }
      ],
      "source": [
        "regress = LogisticRegression(random_state=12345,\n",
        "                               solver='liblinear',\n",
        "                               class_weight='balanced')\n",
        "\n",
        "regress.fit(features_train, target_train)\n",
        "predictions_valid_regress = regress.predict(features_valid)\n",
        "f1_reg_weighted = f1_score(target_valid, predictions_valid_regress)\n",
        "\n",
        "print(\"Полнота модели регрессии:\", recall_score(target_valid, predictions_valid_regress))\n",
        "print(\"Точность модели регрессии:\", precision_score(target_valid, predictions_valid_regress))\n",
        "print(\"Качество модели регрессии:\", f1_reg_weighted)\n",
        "\n",
        "probabilities_valid = regress.predict_proba(features_valid)\n",
        "probabilities_one_valid = probabilities_valid[:, 1]\n",
        "print(\"AUC-ROC модели регрессии:\", roc_auc_score(target_valid, probabilities_one_valid))"
      ]
    },
    {
      "cell_type": "markdown",
      "metadata": {
        "id": "FLviCm7l3yQb"
      },
      "source": [
        "Качество модели логистической регрессии значительно возросло по сравнению с несбалансированным вариантом."
      ]
    },
    {
      "cell_type": "markdown",
      "metadata": {
        "id": "6dJiEPLF3yQb"
      },
      "source": [
        "**Промежуточный вывод**\n",
        "\n",
        "F1-мера (качество модели) ощутима выросла для случая баланса взвешиванием классов. Наибольшим показателем обладает модель Случайного леса, как по мере F1, так и по AUC-ROC."
      ]
    },
    {
      "cell_type": "markdown",
      "metadata": {
        "id": "-kqSqLFQ3yQc"
      },
      "source": [
        "### Устранение дисбаланса увеличением выборки"
      ]
    },
    {
      "cell_type": "markdown",
      "metadata": {
        "id": "9gvkOAPA3yQc"
      },
      "source": [
        "Для устранения дисбаланса выборку увеличиваем в 4 раза."
      ]
    },
    {
      "cell_type": "code",
      "execution_count": null,
      "metadata": {
        "id": "7G7_ACEo3yQc",
        "outputId": "458303b4-1d12-4c2b-a125-bc68858e8174"
      },
      "outputs": [
        {
          "name": "stdout",
          "output_type": "stream",
          "text": [
            "(11721, 11)\n",
            "(11721,)\n"
          ]
        }
      ],
      "source": [
        "def upsample(features, target, repeat):\n",
        "    features_zero = features[target == 0]\n",
        "    features_one = features[target == 1]\n",
        "    target_zero = target[target == 0]\n",
        "    target_one = target[target == 1]\n",
        "\n",
        "    #соединяю выборки\n",
        "    features_upsampled = pd.concat([features_zero] + [features_one] * repeat)\n",
        "    target_upsampled = pd.concat([target_zero] + [target_one] * repeat)\n",
        "\n",
        "    # тасую значения\n",
        "    features_upsampled = shuffle(features_upsampled, random_state=12345)\n",
        "    target_upsampled = shuffle(target_upsampled, random_state=12345)\n",
        "    return features_upsampled, target_upsampled\n",
        "\n",
        "features_upsampled, target_upsampled = upsample(features_train, target_train, 4)\n",
        "\n",
        "print(features_upsampled.shape)\n",
        "print(target_upsampled.shape)"
      ]
    },
    {
      "cell_type": "markdown",
      "metadata": {
        "id": "NHGjqIU43yQc"
      },
      "source": [
        "#### Древо решений"
      ]
    },
    {
      "cell_type": "code",
      "execution_count": null,
      "metadata": {
        "id": "bxxd3efW3yQc",
        "outputId": "ffc7d637-551e-4577-830c-c2eab7686fb9"
      },
      "outputs": [
        {
          "name": "stdout",
          "output_type": "stream",
          "text": [
            "Оптимальная глубина модели древа: 6\n",
            "Качество модели древа:  0.4879227053140096\n"
          ]
        }
      ],
      "source": [
        "optimal_model = None\n",
        "optimal_f1 = 0\n",
        "for depth in range(1, 15):\n",
        "    tree = DecisionTreeClassifier(random_state=12345,\n",
        "                                        max_depth=depth)\n",
        "    tree.fit(features_upsampled, target_upsampled)\n",
        "    predictions_valid_tree = tree.predict(features_valid)\n",
        "    f1_tree_up = f1_score(target_valid, predictions_valid_tree)\n",
        "    if f1_tree_up > optimal_f1:\n",
        "        optimal_model = tree\n",
        "        optimal_depth = depth\n",
        "        optimal_f1 =  f1_tree_up\n",
        "\n",
        "print('Оптимальная глубина модели древа:', optimal_depth)\n",
        "print('Качество модели древа: ', f1_tree_up)"
      ]
    },
    {
      "cell_type": "markdown",
      "metadata": {
        "id": "20hqMDlR3yQd"
      },
      "source": [
        "Использую оптимальные параметры."
      ]
    },
    {
      "cell_type": "code",
      "execution_count": null,
      "metadata": {
        "id": "kmhdTYKq3yQd",
        "outputId": "c93e2fb8-e8c7-48f9-bc11-ed95fd7f4696"
      },
      "outputs": [
        {
          "name": "stdout",
          "output_type": "stream",
          "text": [
            "Полнота модели древа: 0.772972972972973\n",
            "Точность модели древа: 0.4454828660436137\n",
            "Качества модели древа: 0.5652173913043478\n",
            "AUC-ROC модели древа: 0.8252725100791398\n"
          ]
        }
      ],
      "source": [
        "tree = DecisionTreeClassifier(random_state=12345,\n",
        "                                    max_depth=6)\n",
        "tree.fit(features_upsampled, target_upsampled)\n",
        "predictions_valid_tree = tree.predict(features_valid)\n",
        "\n",
        "print(\"Полнота модели древа:\", recall_score(target_valid, predictions_valid_tree))\n",
        "print(\"Точность модели древа:\", precision_score(target_valid, predictions_valid_tree))\n",
        "print(\"Качества модели древа:\", f1_score(target_valid, predictions_valid_tree))\n",
        "\n",
        "probabilities_valid = tree.predict_proba(features_valid)\n",
        "probabilities_one_valid = probabilities_valid[:, 1]\n",
        "print(\"AUC-ROC модели древа:\", roc_auc_score(target_valid, probabilities_one_valid))"
      ]
    },
    {
      "cell_type": "markdown",
      "metadata": {
        "id": "r9PwG2w03yQd"
      },
      "source": [
        "#### Случайный лес"
      ]
    },
    {
      "cell_type": "code",
      "execution_count": null,
      "metadata": {
        "id": "MjA9Q9ar3yQd",
        "outputId": "4e115602-c148-4ff4-861a-c0003d029868"
      },
      "outputs": [
        {
          "name": "stdout",
          "output_type": "stream",
          "text": [
            "Оптимальное количество оценок = 95\n",
            "Оптимальная глубина модели леса = 14\n",
            "Качество модели леса:  0.6132596685082873\n"
          ]
        }
      ],
      "source": [
        "optimal_model = None\n",
        "for estim in range(10, 100, 5):\n",
        "    for depth in range(1, 15):\n",
        "        forest = RandomForestClassifier(random_state=12345,\n",
        "                                              n_estimators=estim,\n",
        "                                              max_depth=depth)\n",
        "        forest.fit(features_upsampled, target_upsampled)\n",
        "        predictions_valid_forest = forest.predict(features_valid)\n",
        "        f1_forest_up = f1_score(target_valid, predictions_valid_forest)\n",
        "        if f1_forest_up > optimal_f1:\n",
        "            optimal_model = forest\n",
        "            optimal_estim = estim\n",
        "            optimal_depth = depth\n",
        "\n",
        "print('Оптимальное количество оценок =', optimal_estim)\n",
        "print('Оптимальная глубина модели леса =', optimal_depth)\n",
        "print('Качество модели леса: ', f1_forest_up)"
      ]
    },
    {
      "cell_type": "markdown",
      "metadata": {
        "id": "siB7pkcW3yQd"
      },
      "source": [
        "Использую оптимальные параметры."
      ]
    },
    {
      "cell_type": "code",
      "execution_count": null,
      "metadata": {
        "id": "W6PqqkU03yQd",
        "outputId": "bb873bc9-d370-4cd6-eb28-33b92487d89d"
      },
      "outputs": [
        {
          "name": "stdout",
          "output_type": "stream",
          "text": [
            "Полнота модели леса: 0.6\n",
            "Точность модели леса: 0.6271186440677966\n",
            "Качество модели леса: 0.6132596685082873\n",
            "AUC-ROC модели леса: 0.8410556965805585\n"
          ]
        }
      ],
      "source": [
        "forest = RandomForestClassifier(random_state=12345,\n",
        "                                      n_estimators=95,\n",
        "                                      max_depth=14)\n",
        "forest.fit(features_upsampled, target_upsampled)\n",
        "predictions_valid_forest = forest.predict(features_valid)\n",
        "\n",
        "print(\"Полнота модели леса:\", recall_score(target_valid, predictions_valid_forest))\n",
        "print(\"Точность модели леса:\", precision_score(target_valid, predictions_valid_forest))\n",
        "print(\"Качество модели леса:\", f1_score(target_valid, predictions_valid_forest))\n",
        "\n",
        "probabilities_valid = forest.predict_proba(features_valid)\n",
        "probabilities_one_valid = probabilities_valid[:, 1]\n",
        "print(\"AUC-ROC модели леса:\", roc_auc_score(target_valid, probabilities_one_valid))"
      ]
    },
    {
      "cell_type": "markdown",
      "metadata": {
        "id": "4foKq1Xt3yQd"
      },
      "source": [
        "#### Логистическая регрессия"
      ]
    },
    {
      "cell_type": "code",
      "execution_count": null,
      "metadata": {
        "id": "aN7mIcRa3yQe",
        "outputId": "1e3cec8d-a02a-479e-be72-27674b3f6ef4"
      },
      "outputs": [
        {
          "name": "stdout",
          "output_type": "stream",
          "text": [
            "Полнота модели регрессии: 0.6756756756756757\n",
            "Точность модели регрессии: 0.36443148688046645\n",
            "Качество модели регрессии: 0.4734848484848484\n",
            "AUC-ROC модели регрессии: 0.7497909511721667\n"
          ]
        }
      ],
      "source": [
        "regress = LogisticRegression(random_state=12345,\n",
        "                               solver='liblinear')\n",
        "regress.fit(features_upsampled, target_upsampled)\n",
        "predictions_valid_regress = regress.predict(features_valid)\n",
        "f1_reg_up = f1_score(target_valid, predictions_valid_regress)\n",
        "\n",
        "print(\"Полнота модели регрессии:\", recall_score(target_valid, predictions_valid_regress))\n",
        "print(\"Точность модели регрессии:\", precision_score(target_valid, predictions_valid_regress))\n",
        "print(\"Качество модели регрессии:\", f1_reg_up)\n",
        "\n",
        "probabilities_valid = regress.predict_proba(features_valid)\n",
        "probabilities_one_valid = probabilities_valid[:, 1]\n",
        "print(\"AUC-ROC модели регрессии:\", roc_auc_score(target_valid, probabilities_one_valid))"
      ]
    },
    {
      "cell_type": "markdown",
      "metadata": {
        "id": "mDngiw7k3yQe"
      },
      "source": [
        "**Промежуточный вывод**\n",
        "\n",
        "Показатели, за исключением Случайного леса ниже, чем для взвешенных классов. Случайный лес - по-прежнему лидер."
      ]
    },
    {
      "cell_type": "markdown",
      "metadata": {
        "id": "IS1lbEMf3yQe"
      },
      "source": [
        "### Устранение дисбаланса уменьшением выборки"
      ]
    },
    {
      "cell_type": "markdown",
      "metadata": {
        "id": "6p0AXemS3yQe"
      },
      "source": [
        "Для устранения дисбаланса уменьшаею выборку тоже в 4 раза"
      ]
    },
    {
      "cell_type": "code",
      "execution_count": null,
      "metadata": {
        "id": "VpQLDfwv3yQe",
        "outputId": "7b2f1c7f-0d34-4723-ef4a-f1ac9982f87f"
      },
      "outputs": [
        {
          "name": "stdout",
          "output_type": "stream",
          "text": [
            "(2930, 11)\n",
            "(2930,)\n"
          ]
        }
      ],
      "source": [
        "def downsample(features, target, fraction):\n",
        "    features_zero = features[target == 0]\n",
        "    features_one = features[target == 1]\n",
        "    target_zero = target[target == 0]\n",
        "    target_one = target[target == 1]\n",
        "\n",
        "    #соединяю выборки\n",
        "    features_downsampled = pd.concat([features_zero.sample(frac=fraction, random_state=12345)] +\n",
        "                                     [features_one])\n",
        "    target_downsampled = pd.concat([target_zero.sample(frac=fraction, random_state=12345)] +\n",
        "                                   [target_one])\n",
        "    #тасую значения\n",
        "    features_downsampled = shuffle(features_downsampled, random_state=12345)\n",
        "    target_downsampled = shuffle(target_downsampled, random_state=12345)\n",
        "\n",
        "    return features_downsampled, target_downsampled\n",
        "\n",
        "features_downsampled, target_downsampled = downsample(features_train, target_train, 0.25)\n",
        "\n",
        "print(features_downsampled.shape)\n",
        "print(target_downsampled.shape)"
      ]
    },
    {
      "cell_type": "markdown",
      "metadata": {
        "id": "JVjpFFac3yQe"
      },
      "source": [
        "#### Древо решений"
      ]
    },
    {
      "cell_type": "code",
      "execution_count": null,
      "metadata": {
        "id": "LOvfvUzs3yQe",
        "outputId": "eaa4c17f-f713-4932-9df3-cdd34aa8b780"
      },
      "outputs": [
        {
          "name": "stdout",
          "output_type": "stream",
          "text": [
            "Оптимальная глубина модели древа: 8\n",
            "Качество модели древа 0.5386221294363257\n"
          ]
        }
      ],
      "source": [
        "optimal_model = None\n",
        "optimal_f1 = 0\n",
        "for depth in range(1, 10):\n",
        "    tree = DecisionTreeClassifier(random_state=12345,\n",
        "                                        max_depth=depth)\n",
        "    tree.fit(features_downsampled, target_downsampled)\n",
        "    predictions_valid_tree = tree.predict(features_valid)\n",
        "    f1_tree_down = f1_score(target_valid, predictions_valid_tree)\n",
        "    if f1_tree_down > optimal_f1:\n",
        "        optimal_model = tree\n",
        "        optimal_depth = depth\n",
        "        optimal_f1 = f1_tree_down\n",
        "\n",
        "print('Оптимальная глубина модели древа:', optimal_depth)\n",
        "print('Качество модели древа', f1_tree_down)"
      ]
    },
    {
      "cell_type": "markdown",
      "metadata": {
        "id": "C30j01K53yQf"
      },
      "source": [
        "Использую оптимальные значения для обучения модели."
      ]
    },
    {
      "cell_type": "code",
      "execution_count": null,
      "metadata": {
        "id": "1btxVguF3yQf",
        "outputId": "33913a27-20be-4a58-d977-3bd38ab3c3f8"
      },
      "outputs": [
        {
          "name": "stdout",
          "output_type": "stream",
          "text": [
            "Полнота модели древа: 0.7135135135135136\n",
            "Точность модели древа: 0.4631578947368421\n",
            "Качество модели древа: 0.5617021276595745\n",
            "AUC-ROC модели древа: 0.7959086157981187\n"
          ]
        }
      ],
      "source": [
        "tree = DecisionTreeClassifier(random_state=12345,\n",
        "                                    max_depth=8)\n",
        "tree.fit(features_downsampled, target_downsampled)\n",
        "predictions_valid_tree = tree.predict(features_valid)\n",
        "\n",
        "print('Полнота модели древа:', recall_score(target_valid, predictions_valid_tree))\n",
        "print('Точность модели древа:', precision_score(target_valid, predictions_valid_tree))\n",
        "print('Качество модели древа:', f1_score(target_valid, predictions_valid_tree))\n",
        "\n",
        "probabilities_valid = tree.predict_proba(features_valid)\n",
        "probabilities_one_valid = probabilities_valid[:, 1]\n",
        "print(\"AUC-ROC модели древа:\", roc_auc_score(target_valid, probabilities_one_valid))"
      ]
    },
    {
      "cell_type": "markdown",
      "metadata": {
        "id": "w7KP4Bwt3yQf"
      },
      "source": [
        "#### Случайный лес"
      ]
    },
    {
      "cell_type": "code",
      "execution_count": null,
      "metadata": {
        "id": "KqaEalsk3yQf",
        "outputId": "f9248ace-fc69-4c76-f08d-789d9c4a542c"
      },
      "outputs": [
        {
          "name": "stdout",
          "output_type": "stream",
          "text": [
            "Оптимальное количество оценок модели леса: 95\n",
            "Оптимальная глубина модели леса = 13\n"
          ]
        }
      ],
      "source": [
        "optimal_model = None\n",
        "for estim in range(10, 100, 5):\n",
        "    for depth in range(1, 15):\n",
        "        forest = RandomForestClassifier(random_state=12345,\n",
        "                                              n_estimators=estim,\n",
        "                                              max_depth=depth)\n",
        "        forest.fit(features_downsampled, target_downsampled)\n",
        "        predictions_valid_forest = forest.predict(features_valid)\n",
        "        f1_forest_down = f1_score(target_valid, predictions_valid_forest)\n",
        "        if f1_forest_down > optimal_f1:\n",
        "            optimal_model = forest\n",
        "            optimal_estim = estim\n",
        "            optimal_depth = depth\n",
        "\n",
        "print('Оптимальное количество оценок модели леса:', optimal_estim)\n",
        "print('Оптимальная глубина модели леса =', optimal_depth)"
      ]
    },
    {
      "cell_type": "markdown",
      "metadata": {
        "id": "e7nc_rLX3yQf"
      },
      "source": [
        "Использую оптимальные параметры."
      ]
    },
    {
      "cell_type": "code",
      "execution_count": null,
      "metadata": {
        "id": "28nzLmVS3yQf",
        "outputId": "3abe356f-f843-4614-e2a7-75991089e61f"
      },
      "outputs": [
        {
          "name": "stdout",
          "output_type": "stream",
          "text": [
            "Полнота модели леса: 0.7297297297297297\n",
            "Точность модели леса: 0.4639175257731959\n",
            "Качество модели леса 0.5672268907563025\n",
            "AUC-ROC модели леса 0.8391891891891893\n"
          ]
        }
      ],
      "source": [
        "forest = RandomForestClassifier(random_state=12345,\n",
        "                                      n_estimators=95,\n",
        "                                      max_depth=13)\n",
        "forest.fit(features_downsampled, target_downsampled)\n",
        "predictions_valid_forest = forest.predict(features_valid)\n",
        "\n",
        "print('Полнота модели леса:', recall_score(target_valid, predictions_valid_forest))\n",
        "print('Точность модели леса:', precision_score(target_valid, predictions_valid_forest))\n",
        "print('Качество модели леса', f1_score(target_valid, predictions_valid_forest))\n",
        "\n",
        "probabilities_valid = forest.predict_proba(features_valid)\n",
        "probabilities_one_valid = probabilities_valid[:, 1]\n",
        "print('AUC-ROC модели леса', roc_auc_score(target_valid, probabilities_one_valid))"
      ]
    },
    {
      "cell_type": "markdown",
      "metadata": {
        "id": "g_2JAvzn3yQf"
      },
      "source": [
        "#### Логистическая регрессия"
      ]
    },
    {
      "cell_type": "code",
      "execution_count": null,
      "metadata": {
        "id": "2jHvqOd53yQg",
        "outputId": "f39b953e-6e5b-4bac-e8ad-394b75450d33"
      },
      "outputs": [
        {
          "name": "stdout",
          "output_type": "stream",
          "text": [
            "Полнота модели регрессии 0.6756756756756757\n",
            "Точность модели регрессии 0.35410764872521244\n",
            "Качество модели регрессии 0.4646840148698885\n",
            "AUC-ROC модели регрессии 0.749484843959982\n"
          ]
        }
      ],
      "source": [
        "regress = LogisticRegression(random_state=12345,\n",
        "                               solver='liblinear')\n",
        "\n",
        "regress.fit(features_downsampled, target_downsampled)\n",
        "predictions_valid_regress = regress.predict(features_valid)\n",
        "f1_reg_down = f1_score(target_valid, predictions_valid_regress)\n",
        "\n",
        "print('Полнота модели регрессии', recall_score(target_valid, predictions_valid_regress))\n",
        "print('Точность модели регрессии', precision_score(target_valid, predictions_valid_regress))\n",
        "print('Качество модели регрессии', f1_reg_down)\n",
        "\n",
        "probabilities_valid = regress.predict_proba(features_valid)\n",
        "probabilities_one_valid = probabilities_valid[:, 1]\n",
        "print('AUC-ROC модели регрессии', roc_auc_score(target_valid, probabilities_one_valid))"
      ]
    },
    {
      "cell_type": "markdown",
      "metadata": {
        "id": "xdtEPM3Q3yQg"
      },
      "source": [
        "**Промежуточный вывод**\n",
        "Показатели при уменьшении выборки ниже, чем при увеличении. Наилучший показательтакже у Случайного леса."
      ]
    },
    {
      "cell_type": "code",
      "execution_count": null,
      "metadata": {
        "id": "ZsruNwPs3yQg",
        "outputId": "b037697e-0b19-4011-89ac-9c86ad8756f4"
      },
      "outputs": [
        {
          "data": {
            "text/html": [
              "<div>\n",
              "<style scoped>\n",
              "    .dataframe tbody tr th:only-of-type {\n",
              "        vertical-align: middle;\n",
              "    }\n",
              "\n",
              "    .dataframe tbody tr th {\n",
              "        vertical-align: top;\n",
              "    }\n",
              "\n",
              "    .dataframe thead th {\n",
              "        text-align: right;\n",
              "    }\n",
              "</style>\n",
              "<table border=\"1\" class=\"dataframe\">\n",
              "  <thead>\n",
              "    <tr style=\"text-align: right;\">\n",
              "      <th></th>\n",
              "      <th>Имя модели</th>\n",
              "      <th>Исходные данные</th>\n",
              "      <th>Взвешивание классов</th>\n",
              "      <th>Увеличение выборки</th>\n",
              "      <th>Уменьшение выборки</th>\n",
              "    </tr>\n",
              "  </thead>\n",
              "  <tbody>\n",
              "    <tr>\n",
              "      <th>0</th>\n",
              "      <td>Древо решений</td>\n",
              "      <td>0.479109</td>\n",
              "      <td>0.482927</td>\n",
              "      <td>0.487923</td>\n",
              "      <td>0.538622</td>\n",
              "    </tr>\n",
              "    <tr>\n",
              "      <th>1</th>\n",
              "      <td>Случайный лес</td>\n",
              "      <td>0.545455</td>\n",
              "      <td>0.573248</td>\n",
              "      <td>0.613260</td>\n",
              "      <td>0.550000</td>\n",
              "    </tr>\n",
              "    <tr>\n",
              "      <th>2</th>\n",
              "      <td>Лог. регрессия</td>\n",
              "      <td>0.247934</td>\n",
              "      <td>0.470135</td>\n",
              "      <td>0.473485</td>\n",
              "      <td>0.464684</td>\n",
              "    </tr>\n",
              "  </tbody>\n",
              "</table>\n",
              "</div>"
            ],
            "text/plain": [
              "       Имя модели  Исходные данные  Взвешивание классов  Увеличение выборки  \\\n",
              "0   Древо решений         0.479109             0.482927            0.487923   \n",
              "1   Случайный лес         0.545455             0.573248            0.613260   \n",
              "2  Лог. регрессия         0.247934             0.470135            0.473485   \n",
              "\n",
              "   Уменьшение выборки  \n",
              "0            0.538622  \n",
              "1            0.550000  \n",
              "2            0.464684  "
            ]
          },
          "execution_count": 48,
          "metadata": {},
          "output_type": "execute_result"
        }
      ],
      "source": [
        "model = ['Древо решений', 'Случайный лес', 'Лог. регрессия']\n",
        "initial_f1_data = [f1_tree_init, f1_forest_initial, f1_reg_init]\n",
        "weighted_f1_data = [f1_tree_weighted, f1_forest_weighted, f1_reg_weighted]\n",
        "upsampled_f1_data = [f1_tree_up, f1_forest_up, f1_reg_up]\n",
        "downsampled_f1_data = [f1_tree_down, f1_forest_down, f1_reg_down]\n",
        "\n",
        "data_metrics = pd.DataFrame({'Имя модели': model,\n",
        "                           'Исходные данные': initial_f1_data,\n",
        "                           'Взвешивание классов': weighted_f1_data,\n",
        "                           'Увеличение выборки': upsampled_f1_data,\n",
        "                           'Уменьшение выборки': downsampled_f1_data })\n",
        "\n",
        "data_metrics"
      ]
    },
    {
      "cell_type": "markdown",
      "metadata": {
        "id": "vcJYPvNr3yQh"
      },
      "source": [
        "## Тестирование модели"
      ]
    },
    {
      "cell_type": "markdown",
      "metadata": {
        "id": "YEaOlckI3yQh"
      },
      "source": [
        "Обучаю модель на тестовой выборке."
      ]
    },
    {
      "cell_type": "code",
      "execution_count": null,
      "metadata": {
        "id": "WOmR8hdi3yQh",
        "outputId": "5ee108f2-cb91-4699-b951-476e790f615a"
      },
      "outputs": [
        {
          "name": "stdout",
          "output_type": "stream",
          "text": [
            "Оптимальное количество оценок = 95\n",
            "Оптимальная глубина модели леса = 14\n"
          ]
        }
      ],
      "source": [
        "optimal_model_final = None\n",
        "for estim in range(10, 100, 5):\n",
        "    for depth in range(1, 15):\n",
        "        forest_final = RandomForestClassifier(random_state=12345,\n",
        "                                              n_estimators=estim,\n",
        "                                              max_depth=depth)\n",
        "        forest_final.fit(features_upsampled, target_upsampled)\n",
        "        predictions_test_forest = forest_final.predict(features_test)\n",
        "        f1_forest = f1_score(target_test, predictions_test_forest)\n",
        "        if f1_forest > optimal_f1:\n",
        "            optimal_model_final = forest_final\n",
        "            optimal_estim = estim\n",
        "            optimal_depth = depth\n",
        "\n",
        "print('Оптимальное количество оценок =', optimal_estim)\n",
        "print('Оптимальная глубина модели леса =', optimal_depth)"
      ]
    },
    {
      "cell_type": "markdown",
      "metadata": {
        "id": "LcNWHlU03yQh"
      },
      "source": [
        "Использую для обучения оптимальные параметры."
      ]
    },
    {
      "cell_type": "code",
      "execution_count": null,
      "metadata": {
        "id": "KMQLU2tW3yQh",
        "outputId": "ff5b9e91-3c38-47b0-e8d5-892441617053"
      },
      "outputs": [
        {
          "name": "stdout",
          "output_type": "stream",
          "text": [
            "Полнота модели леса: 0.6505376344086021\n",
            "Точность модели леса: 0.6237113402061856\n",
            "Качество модели леса: 0.6368421052631579\n",
            "AUC-ROC модели леса: 0.864195330600606\n"
          ]
        }
      ],
      "source": [
        "forest_final = RandomForestClassifier(random_state=12345,\n",
        "                                      n_estimators=95,\n",
        "                                      max_depth=14)\n",
        "forest_final.fit(features_upsampled, target_upsampled)\n",
        "predictions_test_forest = forest_final.predict(features_test)\n",
        "\n",
        "print(\"Полнота модели леса:\", recall_score(target_test, predictions_test_forest))\n",
        "print(\"Точность модели леса:\", precision_score(target_test, predictions_test_forest))\n",
        "print(\"Качество модели леса:\", f1_score(target_test, predictions_test_forest))\n",
        "\n",
        "probabilities_test = forest_final.predict_proba(features_test)\n",
        "probabilities_one_test = probabilities_test[:, 1]\n",
        "print(\"AUC-ROC модели леса:\", roc_auc_score(target_test, probabilities_one_test))"
      ]
    },
    {
      "cell_type": "markdown",
      "metadata": {
        "id": "2tiPnIqB3yQh"
      },
      "source": [
        "Условия выполнены. Оптимальная модель показывает качество 0,637. AUC-ROC 0,864."
      ]
    },
    {
      "cell_type": "markdown",
      "metadata": {
        "id": "72J10AGW3yQh"
      },
      "source": [
        "Построю ROC-кривую."
      ]
    },
    {
      "cell_type": "code",
      "execution_count": null,
      "metadata": {
        "id": "YwKQplPj3yQi",
        "outputId": "c340b98d-34f0-49fb-8e98-f057c9c08e2d"
      },
      "outputs": [
        {
          "data": {
            "image/png": "[encoded data removed]",
            "text/plain": [
              "<Figure size 432x288 with 1 Axes>"
            ]
          },
          "metadata": {
            "needs_background": "light"
          },
          "output_type": "display_data"
        }
      ],
      "source": [
        "fpr, tpr, thresholds = roc_curve(target_test, probabilities_one_test)\n",
        "\n",
        "plt.figure()\n",
        "plt.plot(fpr, tpr, linestyle='solid')\n",
        "plt.plot([0, 1], [0, 1], linestyle='--')\n",
        "plt.xlim([0.0, 1.0])\n",
        "plt.ylim([0.0, 1.0])\n",
        "plt.xlabel('Ложноположительные значения')\n",
        "plt.ylabel('Истинно положительные значения')\n",
        "plt.title('ROC-кривая')\n",
        "plt.show()"
      ]
    },
    {
      "cell_type": "markdown",
      "metadata": {
        "id": "OZPaSb_W3yQi"
      },
      "source": [
        "## Выводы"
      ]
    },
    {
      "cell_type": "markdown",
      "metadata": {
        "id": "CpiYAm5W3yQi"
      },
      "source": [
        "В результате работы над проектом выполнены пункты:\n",
        "1. Проведена подготовка данных к исследованию\n",
        "\n",
        " - Имена столбцов приведены к нижнему регистру, имена отображены змеиным регистром;\n",
        " - Дубликатов в данных не обнаружено;\n",
        " - Пропуски в столбце \"tenure\" заменены нулями;\n",
        " - Исключены лишние по моему мнению столбцы - фамилия и номер строки;\n",
        " - Категориальные данные переведены в количественные, подстраховались от дамми-ловушки;\n",
        " - Подготовлены обучающая (80%), валидационная (10%) и тестовая (10%) выборки.\n",
        "\n",
        "2. Проверка на баланс классов показала четырёхкратное расхождение данныъ по целевому признаку.\n",
        "\n",
        "3. Наибольшим качеством модели (F1- мерой) для несбалансированного случая обладает Случайный лес. Древо решений очень близко. AUC-ROC для всех случаев значительно выше меры F1.\n",
        "\n",
        "4. При сбалансированных данных лучшие показатели по качеству модели показывает модель Случайного леса при увеличении выборки. Её показатели:\n",
        "- Полнота модели леса: 0.6\n",
        "- Точность модели леса: 0.6271186440677966\n",
        "- Качество модели леса: 0.6132596685082873\n",
        "- AUC-ROC модели леса: 0.841033298491862\n",
        "\n",
        "5. Тестирование на тестовой выборки показывает следующие результаты:\n",
        "- Полнота модели леса: 0.6505376344086021\n",
        "- Точность модели леса: 0.6237113402061856\n",
        "- Качество модели леса: 0.6368421052631579\n",
        "- AUC-ROC модели леса: 0.8640690904770393 (очень высокий показатель)\n",
        "\n",
        "Точность и качество чуть хуже, чем для валидационной выборки."
      ]
    },
    {
      "cell_type": "markdown",
      "metadata": {
        "id": "4BtU-yjk3yQj"
      },
      "source": [
        "## Чек-лист готовности проекта"
      ]
    },
    {
      "cell_type": "markdown",
      "metadata": {
        "id": "q4JsB8xX3yQj"
      },
      "source": [
        "Поставьте 'x' в выполненных пунктах. Далее нажмите Shift+Enter."
      ]
    },
    {
      "cell_type": "markdown",
      "metadata": {
        "id": "4HqM-fRC3yQj"
      },
      "source": [
        "- [x]  Jupyter Notebook открыт\n",
        "- [x]  Весь код выполняется без ошибок\n",
        "- [x]  Ячейки с кодом расположены в порядке исполнения\n",
        "- [x]  Выполнен шаг 1: данные подготовлены\n",
        "- [x]  Выполнен шаг 2: задача исследована\n",
        "    - [x]  Исследован баланс классов\n",
        "    - [x]  Изучены модели без учёта дисбаланса\n",
        "    - [x]  Написаны выводы по результатам исследования\n",
        "- [x]  Выполнен шаг 3: учтён дисбаланс\n",
        "    - [x]  Применено несколько способов борьбы с дисбалансом\n",
        "    - [x]  Написаны выводы по результатам исследования\n",
        "- [x]  Выполнен шаг 4: проведено тестирование\n",
        "- [x]  Удалось достичь *F1*-меры не менее 0.59\n",
        "- [x]  Исследована метрика *AUC-ROC*"
      ]
    }
  ],
  "metadata": {
    "ExecuteTimeLog": [
      {
        "duration": 1124,
        "start_time": "2023-07-03T13:25:14.086Z"
      },
      {
        "duration": 179,
        "start_time": "2023-07-03T13:28:43.337Z"
      },
      {
        "duration": 4,
        "start_time": "2023-07-03T13:29:43.357Z"
      },
      {
        "duration": 22,
        "start_time": "2023-07-03T13:31:02.821Z"
      },
      {
        "duration": 3,
        "start_time": "2023-07-03T13:44:13.870Z"
      },
      {
        "duration": 16,
        "start_time": "2023-07-03T13:44:35.715Z"
      },
      {
        "duration": 4,
        "start_time": "2023-07-03T13:47:18.561Z"
      },
      {
        "duration": 5,
        "start_time": "2023-07-03T13:50:54.509Z"
      },
      {
        "duration": 16,
        "start_time": "2023-07-03T13:51:24.020Z"
      },
      {
        "duration": 20,
        "start_time": "2023-07-03T13:52:09.276Z"
      },
      {
        "duration": 14,
        "start_time": "2023-07-03T13:55:32.628Z"
      },
      {
        "duration": 6,
        "start_time": "2023-07-03T14:12:34.959Z"
      },
      {
        "duration": 16,
        "start_time": "2023-07-03T14:22:30.568Z"
      },
      {
        "duration": 20,
        "start_time": "2023-07-03T14:27:10.262Z"
      },
      {
        "duration": 19,
        "start_time": "2023-07-03T14:30:58.129Z"
      },
      {
        "duration": 113,
        "start_time": "2023-07-03T14:37:11.198Z"
      },
      {
        "duration": 19,
        "start_time": "2023-07-03T14:38:08.024Z"
      },
      {
        "duration": 19,
        "start_time": "2023-07-03T14:39:13.753Z"
      },
      {
        "duration": 16,
        "start_time": "2023-07-03T14:41:24.689Z"
      },
      {
        "duration": 22,
        "start_time": "2023-07-03T14:43:48.471Z"
      },
      {
        "duration": 12,
        "start_time": "2023-07-03T14:44:06.013Z"
      },
      {
        "duration": 4,
        "start_time": "2023-07-03T14:46:07.699Z"
      },
      {
        "duration": 1135,
        "start_time": "2023-07-04T13:18:11.722Z"
      },
      {
        "duration": 164,
        "start_time": "2023-07-04T13:18:14.809Z"
      },
      {
        "duration": 20,
        "start_time": "2023-07-04T13:18:15.302Z"
      },
      {
        "duration": 14,
        "start_time": "2023-07-04T13:18:15.817Z"
      },
      {
        "duration": 5,
        "start_time": "2023-07-04T13:18:16.326Z"
      },
      {
        "duration": 20,
        "start_time": "2023-07-04T13:18:16.569Z"
      },
      {
        "duration": 15,
        "start_time": "2023-07-04T13:18:17.045Z"
      },
      {
        "duration": 12,
        "start_time": "2023-07-04T13:18:17.510Z"
      },
      {
        "duration": 5,
        "start_time": "2023-07-04T13:18:18.318Z"
      },
      {
        "duration": 13,
        "start_time": "2023-07-04T13:18:18.818Z"
      },
      {
        "duration": 20,
        "start_time": "2023-07-04T13:18:19.314Z"
      },
      {
        "duration": 12,
        "start_time": "2023-07-04T13:18:19.811Z"
      },
      {
        "duration": 4,
        "start_time": "2023-07-04T13:18:21.526Z"
      },
      {
        "duration": 1953,
        "start_time": "2023-07-04T14:19:30.850Z"
      },
      {
        "duration": 550,
        "start_time": "2023-07-04T14:19:47.602Z"
      },
      {
        "duration": 114,
        "start_time": "2023-07-04T14:20:54.569Z"
      },
      {
        "duration": 103,
        "start_time": "2023-07-04T14:21:38.618Z"
      },
      {
        "duration": 4,
        "start_time": "2023-07-04T14:22:39.815Z"
      },
      {
        "duration": 117,
        "start_time": "2023-07-04T14:22:57.599Z"
      },
      {
        "duration": 18,
        "start_time": "2023-07-04T14:40:59.601Z"
      },
      {
        "duration": 16,
        "start_time": "2023-07-04T14:41:16.945Z"
      },
      {
        "duration": 18,
        "start_time": "2023-07-04T14:41:37.294Z"
      },
      {
        "duration": 22,
        "start_time": "2023-07-04T14:42:25.038Z"
      },
      {
        "duration": 701,
        "start_time": "2023-07-04T14:42:44.839Z"
      },
      {
        "duration": 444,
        "start_time": "2023-07-04T14:43:31.733Z"
      },
      {
        "duration": 786,
        "start_time": "2023-07-04T14:45:13.939Z"
      },
      {
        "duration": 705,
        "start_time": "2023-07-04T14:45:29.063Z"
      },
      {
        "duration": 696595,
        "start_time": "2023-07-04T14:53:05.115Z"
      },
      {
        "duration": 26,
        "start_time": "2023-07-04T15:11:50.068Z"
      },
      {
        "duration": 64,
        "start_time": "2023-07-04T15:12:04.810Z"
      },
      {
        "duration": 410,
        "start_time": "2023-07-04T15:17:08.967Z"
      },
      {
        "duration": 57,
        "start_time": "2023-07-04T15:20:38.811Z"
      },
      {
        "duration": 107,
        "start_time": "2023-07-04T15:24:22.867Z"
      },
      {
        "duration": 10,
        "start_time": "2023-07-04T15:26:18.633Z"
      },
      {
        "duration": 4,
        "start_time": "2023-07-04T15:26:49.114Z"
      },
      {
        "duration": 36,
        "start_time": "2023-07-04T15:26:55.658Z"
      },
      {
        "duration": 33,
        "start_time": "2023-07-04T15:27:53.075Z"
      },
      {
        "duration": 4,
        "start_time": "2023-07-04T15:29:34.741Z"
      },
      {
        "duration": 158,
        "start_time": "2023-07-04T15:31:13.310Z"
      },
      {
        "duration": 59,
        "start_time": "2023-07-04T15:42:21.714Z"
      },
      {
        "duration": 32,
        "start_time": "2023-07-04T16:06:53.138Z"
      },
      {
        "duration": 1127,
        "start_time": "2023-07-04T16:07:18.644Z"
      },
      {
        "duration": 52,
        "start_time": "2023-07-04T16:07:31.917Z"
      },
      {
        "duration": 1614,
        "start_time": "2023-07-05T12:43:24.885Z"
      },
      {
        "duration": 80,
        "start_time": "2023-07-05T12:43:31.842Z"
      },
      {
        "duration": 21,
        "start_time": "2023-07-05T12:43:32.411Z"
      },
      {
        "duration": 15,
        "start_time": "2023-07-05T12:43:34.965Z"
      },
      {
        "duration": 4,
        "start_time": "2023-07-05T12:43:39.440Z"
      },
      {
        "duration": 21,
        "start_time": "2023-07-05T12:43:40.070Z"
      },
      {
        "duration": 14,
        "start_time": "2023-07-05T12:43:48.850Z"
      },
      {
        "duration": 13,
        "start_time": "2023-07-05T12:43:52.786Z"
      },
      {
        "duration": 5,
        "start_time": "2023-07-05T12:43:54.370Z"
      },
      {
        "duration": 4,
        "start_time": "2023-07-05T12:44:57.597Z"
      },
      {
        "duration": 11,
        "start_time": "2023-07-05T12:45:00.266Z"
      },
      {
        "duration": 14,
        "start_time": "2023-07-05T12:45:05.920Z"
      },
      {
        "duration": 10,
        "start_time": "2023-07-05T12:45:11.399Z"
      },
      {
        "duration": 4,
        "start_time": "2023-07-05T12:45:12.351Z"
      },
      {
        "duration": 133,
        "start_time": "2023-07-05T12:45:14.307Z"
      },
      {
        "duration": 642,
        "start_time": "2023-07-05T12:45:15.915Z"
      },
      {
        "duration": 853527,
        "start_time": "2023-07-05T12:45:21.783Z"
      },
      {
        "duration": 28,
        "start_time": "2023-07-05T13:01:06.900Z"
      },
      {
        "duration": 1842,
        "start_time": "2023-07-05T13:06:56.078Z"
      },
      {
        "duration": 71,
        "start_time": "2023-07-05T13:06:57.922Z"
      },
      {
        "duration": 40,
        "start_time": "2023-07-05T13:06:57.996Z"
      },
      {
        "duration": 40,
        "start_time": "2023-07-05T13:06:58.378Z"
      },
      {
        "duration": 11,
        "start_time": "2023-07-05T13:06:58.799Z"
      },
      {
        "duration": 36,
        "start_time": "2023-07-05T13:06:58.990Z"
      },
      {
        "duration": 16,
        "start_time": "2023-07-05T13:06:59.332Z"
      },
      {
        "duration": 15,
        "start_time": "2023-07-05T13:06:59.634Z"
      },
      {
        "duration": 6,
        "start_time": "2023-07-05T13:07:00.181Z"
      },
      {
        "duration": 20,
        "start_time": "2023-07-05T13:07:00.585Z"
      },
      {
        "duration": 19,
        "start_time": "2023-07-05T13:07:00.942Z"
      },
      {
        "duration": 14,
        "start_time": "2023-07-05T13:07:01.299Z"
      },
      {
        "duration": 5,
        "start_time": "2023-07-05T13:07:01.678Z"
      },
      {
        "duration": 251,
        "start_time": "2023-07-05T13:07:02.414Z"
      },
      {
        "duration": 727,
        "start_time": "2023-07-05T13:07:03.013Z"
      },
      {
        "duration": 355342,
        "start_time": "2023-07-05T13:07:08.043Z"
      },
      {
        "duration": 48,
        "start_time": "2023-07-05T13:13:03.392Z"
      },
      {
        "duration": 156,
        "start_time": "2023-07-05T13:15:20.693Z"
      },
      {
        "duration": 20,
        "start_time": "2023-07-05T13:15:21.019Z"
      },
      {
        "duration": 16,
        "start_time": "2023-07-05T13:15:21.369Z"
      },
      {
        "duration": 5,
        "start_time": "2023-07-05T13:15:22.012Z"
      },
      {
        "duration": 1866,
        "start_time": "2023-07-05T13:20:19.994Z"
      },
      {
        "duration": 70,
        "start_time": "2023-07-05T13:20:21.864Z"
      },
      {
        "duration": 33,
        "start_time": "2023-07-05T13:20:21.936Z"
      },
      {
        "duration": 61,
        "start_time": "2023-07-05T13:20:21.972Z"
      },
      {
        "duration": 13,
        "start_time": "2023-07-05T13:20:22.035Z"
      },
      {
        "duration": 70,
        "start_time": "2023-07-05T13:20:22.050Z"
      },
      {
        "duration": 16,
        "start_time": "2023-07-05T13:20:22.122Z"
      },
      {
        "duration": 21,
        "start_time": "2023-07-05T13:20:22.459Z"
      },
      {
        "duration": 5,
        "start_time": "2023-07-05T13:20:23.143Z"
      },
      {
        "duration": 18,
        "start_time": "2023-07-05T13:20:23.583Z"
      },
      {
        "duration": 40,
        "start_time": "2023-07-05T13:20:24.651Z"
      },
      {
        "duration": 12,
        "start_time": "2023-07-05T13:20:25.019Z"
      },
      {
        "duration": 8,
        "start_time": "2023-07-05T13:20:25.479Z"
      },
      {
        "duration": 146,
        "start_time": "2023-07-05T13:20:25.674Z"
      },
      {
        "duration": 222,
        "start_time": "2023-07-05T13:20:26.715Z"
      },
      {
        "duration": 897,
        "start_time": "2023-07-05T13:20:28.581Z"
      },
      {
        "duration": 522971,
        "start_time": "2023-07-05T13:20:34.443Z"
      },
      {
        "duration": 65,
        "start_time": "2023-07-05T13:29:17.416Z"
      },
      {
        "duration": 1681,
        "start_time": "2023-07-05T13:30:51.443Z"
      },
      {
        "duration": 52,
        "start_time": "2023-07-05T13:30:53.126Z"
      },
      {
        "duration": 25,
        "start_time": "2023-07-05T13:30:53.181Z"
      },
      {
        "duration": 18,
        "start_time": "2023-07-05T13:30:53.208Z"
      },
      {
        "duration": 16,
        "start_time": "2023-07-05T13:30:53.228Z"
      },
      {
        "duration": 38,
        "start_time": "2023-07-05T13:30:53.283Z"
      },
      {
        "duration": 16,
        "start_time": "2023-07-05T13:30:53.616Z"
      },
      {
        "duration": 15,
        "start_time": "2023-07-05T13:30:53.973Z"
      },
      {
        "duration": 9,
        "start_time": "2023-07-05T13:30:54.549Z"
      },
      {
        "duration": 15,
        "start_time": "2023-07-05T13:30:54.932Z"
      },
      {
        "duration": 25,
        "start_time": "2023-07-05T13:30:55.348Z"
      },
      {
        "duration": 11,
        "start_time": "2023-07-05T13:30:55.715Z"
      },
      {
        "duration": 5,
        "start_time": "2023-07-05T13:30:56.077Z"
      },
      {
        "duration": 26,
        "start_time": "2023-07-05T13:30:56.246Z"
      },
      {
        "duration": 171,
        "start_time": "2023-07-05T13:31:08.977Z"
      },
      {
        "duration": 861,
        "start_time": "2023-07-05T13:31:10.644Z"
      },
      {
        "duration": 501378,
        "start_time": "2023-07-05T13:31:13.433Z"
      },
      {
        "duration": 25,
        "start_time": "2023-07-05T13:39:34.814Z"
      },
      {
        "duration": 1735,
        "start_time": "2023-07-05T13:41:17.180Z"
      },
      {
        "duration": 51,
        "start_time": "2023-07-05T13:41:18.918Z"
      },
      {
        "duration": 30,
        "start_time": "2023-07-05T13:41:18.972Z"
      },
      {
        "duration": 46,
        "start_time": "2023-07-05T13:41:19.005Z"
      },
      {
        "duration": 35,
        "start_time": "2023-07-05T13:41:19.053Z"
      },
      {
        "duration": 27,
        "start_time": "2023-07-05T13:41:19.189Z"
      },
      {
        "duration": 15,
        "start_time": "2023-07-05T13:41:19.522Z"
      },
      {
        "duration": 17,
        "start_time": "2023-07-05T13:41:19.883Z"
      },
      {
        "duration": 10,
        "start_time": "2023-07-05T13:41:20.474Z"
      },
      {
        "duration": 19,
        "start_time": "2023-07-05T13:41:20.804Z"
      },
      {
        "duration": 32,
        "start_time": "2023-07-05T13:41:21.160Z"
      },
      {
        "duration": 10,
        "start_time": "2023-07-05T13:41:21.491Z"
      },
      {
        "duration": 5,
        "start_time": "2023-07-05T13:41:21.839Z"
      },
      {
        "duration": 241,
        "start_time": "2023-07-05T13:41:22.527Z"
      },
      {
        "duration": 709,
        "start_time": "2023-07-05T13:41:23.076Z"
      },
      {
        "duration": 344317,
        "start_time": "2023-07-05T13:41:23.788Z"
      },
      {
        "duration": 49,
        "start_time": "2023-07-05T13:47:08.107Z"
      },
      {
        "duration": 417,
        "start_time": "2023-07-05T14:08:36.551Z"
      },
      {
        "duration": 163,
        "start_time": "2023-07-05T14:12:47.824Z"
      },
      {
        "duration": 40,
        "start_time": "2023-07-05T14:13:10.704Z"
      },
      {
        "duration": 91501,
        "start_time": "2023-07-05T14:15:49.225Z"
      },
      {
        "duration": 97337,
        "start_time": "2023-07-05T14:17:44.361Z"
      },
      {
        "duration": 963,
        "start_time": "2023-07-05T14:23:14.474Z"
      },
      {
        "duration": 242,
        "start_time": "2023-07-05T14:26:09.721Z"
      },
      {
        "duration": 35,
        "start_time": "2023-07-05T14:31:55.347Z"
      },
      {
        "duration": 32,
        "start_time": "2023-07-05T14:34:31.264Z"
      },
      {
        "duration": 535,
        "start_time": "2023-07-05T14:34:51.443Z"
      },
      {
        "duration": 67,
        "start_time": "2023-07-05T14:40:08.138Z"
      },
      {
        "duration": 55,
        "start_time": "2023-07-05T14:40:17.293Z"
      },
      {
        "duration": 109732,
        "start_time": "2023-07-05T14:43:21.420Z"
      },
      {
        "duration": 1171,
        "start_time": "2023-07-05T14:47:42.470Z"
      },
      {
        "duration": 137,
        "start_time": "2023-07-05T14:52:08.114Z"
      },
      {
        "duration": 14,
        "start_time": "2023-07-05T14:55:12.610Z"
      },
      {
        "duration": 17,
        "start_time": "2023-07-05T14:57:45.001Z"
      },
      {
        "duration": 92,
        "start_time": "2023-07-05T14:58:00.553Z"
      },
      {
        "duration": 32,
        "start_time": "2023-07-05T15:01:20.332Z"
      },
      {
        "duration": 45661,
        "start_time": "2023-07-05T15:04:39.919Z"
      },
      {
        "duration": 379,
        "start_time": "2023-07-05T15:07:46.830Z"
      },
      {
        "duration": 201,
        "start_time": "2023-07-05T15:10:43.754Z"
      },
      {
        "duration": 11,
        "start_time": "2023-07-05T15:13:25.816Z"
      },
      {
        "duration": 1633,
        "start_time": "2023-07-06T12:54:21.894Z"
      },
      {
        "duration": 162,
        "start_time": "2023-07-06T12:54:23.529Z"
      },
      {
        "duration": 29,
        "start_time": "2023-07-06T12:54:23.694Z"
      },
      {
        "duration": 17,
        "start_time": "2023-07-06T12:54:23.725Z"
      },
      {
        "duration": 5,
        "start_time": "2023-07-06T12:54:23.871Z"
      },
      {
        "duration": 31,
        "start_time": "2023-07-06T12:54:24.088Z"
      },
      {
        "duration": 19,
        "start_time": "2023-07-06T12:54:24.454Z"
      },
      {
        "duration": 17,
        "start_time": "2023-07-06T12:54:24.854Z"
      },
      {
        "duration": 5,
        "start_time": "2023-07-06T12:54:25.447Z"
      },
      {
        "duration": 19,
        "start_time": "2023-07-06T12:54:25.850Z"
      },
      {
        "duration": 37,
        "start_time": "2023-07-06T12:54:26.251Z"
      },
      {
        "duration": 15,
        "start_time": "2023-07-06T12:54:26.698Z"
      },
      {
        "duration": 7,
        "start_time": "2023-07-06T12:54:27.188Z"
      },
      {
        "duration": 139,
        "start_time": "2023-07-06T12:54:28.042Z"
      },
      {
        "duration": 587,
        "start_time": "2023-07-06T12:54:28.814Z"
      },
      {
        "duration": 41,
        "start_time": "2023-07-06T12:54:29.404Z"
      },
      {
        "duration": 319849,
        "start_time": "2023-07-06T12:54:29.502Z"
      },
      {
        "duration": 554,
        "start_time": "2023-07-06T12:59:49.354Z"
      },
      {
        "duration": 71,
        "start_time": "2023-07-06T12:59:49.909Z"
      },
      {
        "duration": 514,
        "start_time": "2023-07-06T12:59:49.982Z"
      },
      {
        "duration": 40,
        "start_time": "2023-07-06T12:59:50.498Z"
      },
      {
        "duration": 75600,
        "start_time": "2023-07-06T12:59:50.540Z"
      },
      {
        "duration": 792,
        "start_time": "2023-07-06T13:01:06.142Z"
      },
      {
        "duration": 248,
        "start_time": "2023-07-06T13:01:06.936Z"
      },
      {
        "duration": 95,
        "start_time": "2023-07-06T13:01:07.185Z"
      },
      {
        "duration": 529,
        "start_time": "2023-07-06T13:01:07.286Z"
      },
      {
        "duration": 65,
        "start_time": "2023-07-06T13:01:07.816Z"
      },
      {
        "duration": 103638,
        "start_time": "2023-07-06T13:01:07.883Z"
      },
      {
        "duration": 1247,
        "start_time": "2023-07-06T13:02:51.523Z"
      },
      {
        "duration": 207,
        "start_time": "2023-07-06T13:02:52.771Z"
      },
      {
        "duration": 100,
        "start_time": "2023-07-06T13:02:52.984Z"
      },
      {
        "duration": 157,
        "start_time": "2023-07-06T13:02:53.087Z"
      },
      {
        "duration": 43,
        "start_time": "2023-07-06T13:02:53.246Z"
      },
      {
        "duration": 41225,
        "start_time": "2023-07-06T13:02:53.291Z"
      },
      {
        "duration": 404,
        "start_time": "2023-07-06T13:03:34.517Z"
      },
      {
        "duration": 169,
        "start_time": "2023-07-06T13:03:34.924Z"
      },
      {
        "duration": 264,
        "start_time": "2023-07-06T13:03:35.097Z"
      },
      {
        "duration": 12,
        "start_time": "2023-07-06T13:13:58.898Z"
      },
      {
        "duration": 15,
        "start_time": "2023-07-06T13:14:54.220Z"
      },
      {
        "duration": 1345,
        "start_time": "2023-07-06T13:32:54.219Z"
      },
      {
        "duration": 1352,
        "start_time": "2023-07-06T13:34:33.185Z"
      },
      {
        "duration": 1144,
        "start_time": "2023-07-06T13:35:07.141Z"
      },
      {
        "duration": 107577,
        "start_time": "2023-07-06T13:40:32.885Z"
      },
      {
        "duration": 946,
        "start_time": "2023-07-06T13:46:38.340Z"
      },
      {
        "duration": 1398,
        "start_time": "2023-07-06T13:46:55.729Z"
      },
      {
        "duration": 47,
        "start_time": "2023-07-06T13:46:57.129Z"
      },
      {
        "duration": 18,
        "start_time": "2023-07-06T13:46:57.180Z"
      },
      {
        "duration": 19,
        "start_time": "2023-07-06T13:46:57.200Z"
      },
      {
        "duration": 4,
        "start_time": "2023-07-06T13:46:57.385Z"
      },
      {
        "duration": 19,
        "start_time": "2023-07-06T13:46:57.591Z"
      },
      {
        "duration": 13,
        "start_time": "2023-07-06T13:46:57.899Z"
      },
      {
        "duration": 12,
        "start_time": "2023-07-06T13:46:58.251Z"
      },
      {
        "duration": 4,
        "start_time": "2023-07-06T13:46:58.766Z"
      },
      {
        "duration": 14,
        "start_time": "2023-07-06T13:46:59.133Z"
      },
      {
        "duration": 18,
        "start_time": "2023-07-06T13:46:59.502Z"
      },
      {
        "duration": 11,
        "start_time": "2023-07-06T13:46:59.887Z"
      },
      {
        "duration": 4,
        "start_time": "2023-07-06T13:47:00.204Z"
      },
      {
        "duration": 167,
        "start_time": "2023-07-06T13:47:00.927Z"
      },
      {
        "duration": 597,
        "start_time": "2023-07-06T13:47:01.489Z"
      },
      {
        "duration": 31,
        "start_time": "2023-07-06T13:47:02.088Z"
      },
      {
        "duration": 325625,
        "start_time": "2023-07-06T13:47:02.120Z"
      },
      {
        "duration": 562,
        "start_time": "2023-07-06T13:52:27.747Z"
      },
      {
        "duration": 84,
        "start_time": "2023-07-06T13:52:28.310Z"
      },
      {
        "duration": 434,
        "start_time": "2023-07-06T13:52:28.467Z"
      },
      {
        "duration": 38,
        "start_time": "2023-07-06T13:52:28.903Z"
      },
      {
        "duration": 79113,
        "start_time": "2023-07-06T13:52:28.943Z"
      },
      {
        "duration": 878,
        "start_time": "2023-07-06T13:53:48.058Z"
      },
      {
        "duration": 145,
        "start_time": "2023-07-06T13:53:48.938Z"
      },
      {
        "duration": 109,
        "start_time": "2023-07-06T13:53:49.086Z"
      },
      {
        "duration": 520,
        "start_time": "2023-07-06T13:53:49.268Z"
      },
      {
        "duration": 51,
        "start_time": "2023-07-06T13:53:49.790Z"
      },
      {
        "duration": 109581,
        "start_time": "2023-07-06T13:53:49.844Z"
      },
      {
        "duration": 1111,
        "start_time": "2023-07-06T13:55:39.426Z"
      },
      {
        "duration": 155,
        "start_time": "2023-07-06T13:55:40.539Z"
      },
      {
        "duration": 178,
        "start_time": "2023-07-06T13:55:40.698Z"
      },
      {
        "duration": 99,
        "start_time": "2023-07-06T13:55:40.878Z"
      },
      {
        "duration": 27,
        "start_time": "2023-07-06T13:55:40.979Z"
      },
      {
        "duration": 42294,
        "start_time": "2023-07-06T13:55:41.009Z"
      },
      {
        "duration": 466,
        "start_time": "2023-07-06T13:56:23.304Z"
      },
      {
        "duration": 93,
        "start_time": "2023-07-06T13:56:23.778Z"
      },
      {
        "duration": 25,
        "start_time": "2023-07-06T13:56:23.873Z"
      },
      {
        "duration": 110796,
        "start_time": "2023-07-06T13:56:23.968Z"
      },
      {
        "duration": 953,
        "start_time": "2023-07-06T13:58:14.766Z"
      },
      {
        "duration": 127,
        "start_time": "2023-07-06T14:00:32.533Z"
      },
      {
        "duration": 1638,
        "start_time": "2023-07-06T14:25:19.005Z"
      },
      {
        "duration": 57,
        "start_time": "2023-07-06T14:25:20.646Z"
      },
      {
        "duration": 21,
        "start_time": "2023-07-06T14:25:20.705Z"
      },
      {
        "duration": 15,
        "start_time": "2023-07-06T14:25:20.917Z"
      },
      {
        "duration": 5,
        "start_time": "2023-07-06T14:25:21.315Z"
      },
      {
        "duration": 29,
        "start_time": "2023-07-06T14:25:21.574Z"
      },
      {
        "duration": 18,
        "start_time": "2023-07-06T14:25:22.721Z"
      },
      {
        "duration": 16,
        "start_time": "2023-07-06T14:25:24.032Z"
      },
      {
        "duration": 11,
        "start_time": "2023-07-06T14:25:24.464Z"
      },
      {
        "duration": 16,
        "start_time": "2023-07-06T14:25:24.991Z"
      },
      {
        "duration": 20,
        "start_time": "2023-07-06T14:25:25.947Z"
      },
      {
        "duration": 14,
        "start_time": "2023-07-06T14:25:26.947Z"
      },
      {
        "duration": 3,
        "start_time": "2023-07-06T14:25:28.408Z"
      },
      {
        "duration": 145,
        "start_time": "2023-07-06T14:25:31.107Z"
      },
      {
        "duration": 620,
        "start_time": "2023-07-06T14:25:36.764Z"
      },
      {
        "duration": 33,
        "start_time": "2023-07-06T14:25:42.074Z"
      },
      {
        "duration": 327487,
        "start_time": "2023-07-06T14:25:49.713Z"
      },
      {
        "duration": 616,
        "start_time": "2023-07-06T14:31:33.057Z"
      },
      {
        "duration": 1484,
        "start_time": "2023-07-06T14:59:01.577Z"
      },
      {
        "duration": 41,
        "start_time": "2023-07-06T14:59:03.063Z"
      },
      {
        "duration": 17,
        "start_time": "2023-07-06T14:59:03.105Z"
      },
      {
        "duration": 13,
        "start_time": "2023-07-06T14:59:03.124Z"
      },
      {
        "duration": 4,
        "start_time": "2023-07-06T14:59:03.390Z"
      },
      {
        "duration": 20,
        "start_time": "2023-07-06T14:59:03.584Z"
      },
      {
        "duration": 16,
        "start_time": "2023-07-06T14:59:03.978Z"
      },
      {
        "duration": 13,
        "start_time": "2023-07-06T14:59:04.387Z"
      },
      {
        "duration": 4,
        "start_time": "2023-07-06T14:59:04.927Z"
      },
      {
        "duration": 17,
        "start_time": "2023-07-06T14:59:05.312Z"
      },
      {
        "duration": 18,
        "start_time": "2023-07-06T14:59:05.684Z"
      },
      {
        "duration": 10,
        "start_time": "2023-07-06T14:59:06.084Z"
      },
      {
        "duration": 4,
        "start_time": "2023-07-06T14:59:06.707Z"
      },
      {
        "duration": 137,
        "start_time": "2023-07-06T14:59:07.707Z"
      },
      {
        "duration": 331,
        "start_time": "2023-07-06T14:59:09.623Z"
      },
      {
        "duration": 43,
        "start_time": "2023-07-06T14:59:48.984Z"
      },
      {
        "duration": 133,
        "start_time": "2023-07-06T15:00:15.384Z"
      },
      {
        "duration": 22167,
        "start_time": "2023-07-06T15:00:49.812Z"
      },
      {
        "duration": 22256,
        "start_time": "2023-07-06T15:02:15.592Z"
      },
      {
        "duration": 1398,
        "start_time": "2023-07-06T15:02:59.888Z"
      },
      {
        "duration": 41,
        "start_time": "2023-07-06T15:03:01.287Z"
      },
      {
        "duration": 19,
        "start_time": "2023-07-06T15:03:01.330Z"
      },
      {
        "duration": 52,
        "start_time": "2023-07-06T15:03:01.351Z"
      },
      {
        "duration": 4,
        "start_time": "2023-07-06T15:03:01.565Z"
      },
      {
        "duration": 21,
        "start_time": "2023-07-06T15:03:01.795Z"
      },
      {
        "duration": 16,
        "start_time": "2023-07-06T15:03:02.155Z"
      },
      {
        "duration": 16,
        "start_time": "2023-07-06T15:03:02.497Z"
      },
      {
        "duration": 4,
        "start_time": "2023-07-06T15:03:03.079Z"
      },
      {
        "duration": 16,
        "start_time": "2023-07-06T15:03:03.616Z"
      },
      {
        "duration": 25,
        "start_time": "2023-07-06T15:03:03.935Z"
      },
      {
        "duration": 10,
        "start_time": "2023-07-06T15:03:04.335Z"
      },
      {
        "duration": 5,
        "start_time": "2023-07-06T15:03:04.706Z"
      },
      {
        "duration": 138,
        "start_time": "2023-07-06T15:03:05.486Z"
      },
      {
        "duration": 336,
        "start_time": "2023-07-06T15:03:07.401Z"
      },
      {
        "duration": 30,
        "start_time": "2023-07-06T15:03:08.095Z"
      },
      {
        "duration": 22147,
        "start_time": "2023-07-06T15:03:10.280Z"
      },
      {
        "duration": 22002,
        "start_time": "2023-07-06T15:04:06.891Z"
      },
      {
        "duration": 99375,
        "start_time": "2023-07-06T15:07:22.871Z"
      },
      {
        "duration": 846,
        "start_time": "2023-07-06T15:09:34.507Z"
      },
      {
        "duration": 185,
        "start_time": "2023-07-06T15:09:50.195Z"
      },
      {
        "duration": 207,
        "start_time": "2023-07-06T15:11:06.363Z"
      },
      {
        "duration": 428,
        "start_time": "2023-07-06T15:11:20.555Z"
      },
      {
        "duration": 44,
        "start_time": "2023-07-06T15:11:20.986Z"
      },
      {
        "duration": 81439,
        "start_time": "2023-07-06T15:11:21.339Z"
      },
      {
        "duration": 797,
        "start_time": "2023-07-06T15:12:42.783Z"
      },
      {
        "duration": 108,
        "start_time": "2023-07-06T15:12:43.582Z"
      },
      {
        "duration": 103,
        "start_time": "2023-07-06T15:12:43.776Z"
      },
      {
        "duration": 509,
        "start_time": "2023-07-06T15:12:43.881Z"
      },
      {
        "duration": 46,
        "start_time": "2023-07-06T15:12:44.392Z"
      },
      {
        "duration": 112573,
        "start_time": "2023-07-06T15:12:44.440Z"
      },
      {
        "duration": 1262,
        "start_time": "2023-07-06T15:14:37.015Z"
      },
      {
        "duration": 103,
        "start_time": "2023-07-06T15:14:38.280Z"
      },
      {
        "duration": 107,
        "start_time": "2023-07-06T15:14:38.470Z"
      },
      {
        "duration": 101,
        "start_time": "2023-07-06T15:14:38.579Z"
      },
      {
        "duration": 23,
        "start_time": "2023-07-06T15:14:38.683Z"
      },
      {
        "duration": 44320,
        "start_time": "2023-07-06T15:14:38.707Z"
      },
      {
        "duration": 409,
        "start_time": "2023-07-06T15:15:23.029Z"
      },
      {
        "duration": 241,
        "start_time": "2023-07-06T15:15:23.440Z"
      },
      {
        "duration": 100,
        "start_time": "2023-07-06T15:15:23.685Z"
      },
      {
        "duration": 1590,
        "start_time": "2023-07-06T16:13:39.311Z"
      },
      {
        "duration": 41,
        "start_time": "2023-07-06T16:13:40.904Z"
      },
      {
        "duration": 18,
        "start_time": "2023-07-06T16:13:40.946Z"
      },
      {
        "duration": 23,
        "start_time": "2023-07-06T16:13:40.966Z"
      },
      {
        "duration": 4,
        "start_time": "2023-07-06T16:13:40.991Z"
      },
      {
        "duration": 28,
        "start_time": "2023-07-06T16:13:41.120Z"
      },
      {
        "duration": 16,
        "start_time": "2023-07-06T16:13:41.443Z"
      },
      {
        "duration": 15,
        "start_time": "2023-07-06T16:13:41.809Z"
      },
      {
        "duration": 5,
        "start_time": "2023-07-06T16:13:42.311Z"
      },
      {
        "duration": 16,
        "start_time": "2023-07-06T16:13:42.643Z"
      },
      {
        "duration": 18,
        "start_time": "2023-07-06T16:13:43.014Z"
      },
      {
        "duration": 11,
        "start_time": "2023-07-06T16:13:43.347Z"
      },
      {
        "duration": 4,
        "start_time": "2023-07-06T16:13:43.720Z"
      },
      {
        "duration": 145,
        "start_time": "2023-07-06T16:13:44.535Z"
      },
      {
        "duration": 383,
        "start_time": "2023-07-06T16:13:45.075Z"
      },
      {
        "duration": 36,
        "start_time": "2023-07-06T16:13:45.460Z"
      },
      {
        "duration": 101125,
        "start_time": "2023-07-06T16:13:45.766Z"
      },
      {
        "duration": 918,
        "start_time": "2023-07-06T16:15:26.897Z"
      },
      {
        "duration": 178,
        "start_time": "2023-07-06T16:15:27.825Z"
      },
      {
        "duration": 456,
        "start_time": "2023-07-06T16:15:28.089Z"
      },
      {
        "duration": 57,
        "start_time": "2023-07-06T16:15:28.546Z"
      },
      {
        "duration": 81738,
        "start_time": "2023-07-06T16:15:28.605Z"
      },
      {
        "duration": 861,
        "start_time": "2023-07-06T16:16:50.345Z"
      },
      {
        "duration": 82,
        "start_time": "2023-07-06T16:16:51.207Z"
      },
      {
        "duration": 115,
        "start_time": "2023-07-06T16:16:51.290Z"
      },
      {
        "duration": 590,
        "start_time": "2023-07-06T16:16:51.408Z"
      },
      {
        "duration": 52,
        "start_time": "2023-07-06T16:16:52.000Z"
      },
      {
        "duration": 119518,
        "start_time": "2023-07-06T16:16:52.054Z"
      },
      {
        "duration": 1447,
        "start_time": "2023-07-06T16:18:51.574Z"
      },
      {
        "duration": 175,
        "start_time": "2023-07-06T16:18:53.023Z"
      },
      {
        "duration": 88,
        "start_time": "2023-07-06T16:18:53.210Z"
      },
      {
        "duration": 159,
        "start_time": "2023-07-06T16:18:53.302Z"
      },
      {
        "duration": 41,
        "start_time": "2023-07-06T16:18:53.463Z"
      },
      {
        "duration": 47222,
        "start_time": "2023-07-06T16:18:53.505Z"
      },
      {
        "duration": 438,
        "start_time": "2023-07-06T16:19:40.728Z"
      },
      {
        "duration": 121,
        "start_time": "2023-07-06T16:19:41.168Z"
      },
      {
        "duration": 29,
        "start_time": "2023-07-06T16:19:41.291Z"
      },
      {
        "duration": 119323,
        "start_time": "2023-07-06T16:19:41.383Z"
      },
      {
        "duration": 990,
        "start_time": "2023-07-06T16:21:40.711Z"
      },
      {
        "duration": 222,
        "start_time": "2023-07-06T16:21:41.706Z"
      },
      {
        "duration": 1652,
        "start_time": "2023-07-08T03:04:20.636Z"
      },
      {
        "duration": 77,
        "start_time": "2023-07-08T03:04:22.537Z"
      },
      {
        "duration": 17,
        "start_time": "2023-07-08T03:04:24.133Z"
      },
      {
        "duration": 13,
        "start_time": "2023-07-08T03:04:28.049Z"
      },
      {
        "duration": 5,
        "start_time": "2023-07-08T03:04:29.276Z"
      },
      {
        "duration": 20,
        "start_time": "2023-07-08T03:04:29.942Z"
      },
      {
        "duration": 12,
        "start_time": "2023-07-08T03:04:31.657Z"
      },
      {
        "duration": 11,
        "start_time": "2023-07-08T03:04:35.453Z"
      },
      {
        "duration": 100,
        "start_time": "2023-07-08T03:04:41.982Z"
      },
      {
        "duration": 9,
        "start_time": "2023-07-08T03:04:49.815Z"
      },
      {
        "duration": 28,
        "start_time": "2023-07-08T03:05:03.785Z"
      },
      {
        "duration": 7,
        "start_time": "2023-07-08T03:05:31.404Z"
      },
      {
        "duration": 8,
        "start_time": "2023-07-08T03:10:43.720Z"
      },
      {
        "duration": 8,
        "start_time": "2023-07-08T03:11:15.318Z"
      },
      {
        "duration": 8,
        "start_time": "2023-07-08T03:11:37.396Z"
      },
      {
        "duration": 20,
        "start_time": "2023-07-08T03:11:57.982Z"
      },
      {
        "duration": 9,
        "start_time": "2023-07-08T03:17:28.898Z"
      },
      {
        "duration": 8,
        "start_time": "2023-07-08T03:17:38.855Z"
      },
      {
        "duration": 8,
        "start_time": "2023-07-08T03:17:47.260Z"
      },
      {
        "duration": 8,
        "start_time": "2023-07-08T03:20:36.792Z"
      },
      {
        "duration": 93,
        "start_time": "2023-07-08T03:26:17.912Z"
      },
      {
        "duration": 180,
        "start_time": "2023-07-08T03:26:52.301Z"
      },
      {
        "duration": 5,
        "start_time": "2023-07-08T03:27:23.406Z"
      },
      {
        "duration": 5,
        "start_time": "2023-07-08T03:28:03.570Z"
      },
      {
        "duration": 6,
        "start_time": "2023-07-08T03:30:58.686Z"
      },
      {
        "duration": 4,
        "start_time": "2023-07-08T03:32:15.076Z"
      },
      {
        "duration": 4,
        "start_time": "2023-07-08T03:32:33.872Z"
      },
      {
        "duration": 328,
        "start_time": "2023-07-08T03:33:14.220Z"
      },
      {
        "duration": 449,
        "start_time": "2023-07-08T03:33:36.240Z"
      },
      {
        "duration": 6,
        "start_time": "2023-07-08T03:33:53.026Z"
      },
      {
        "duration": 12,
        "start_time": "2023-07-08T03:34:27.580Z"
      },
      {
        "duration": 34,
        "start_time": "2023-07-08T03:34:55.881Z"
      },
      {
        "duration": 12,
        "start_time": "2023-07-08T03:35:42.687Z"
      },
      {
        "duration": 1341,
        "start_time": "2023-07-08T03:42:35.859Z"
      },
      {
        "duration": 39,
        "start_time": "2023-07-08T03:42:37.543Z"
      },
      {
        "duration": 17,
        "start_time": "2023-07-08T03:42:38.568Z"
      },
      {
        "duration": 14,
        "start_time": "2023-07-08T03:42:39.311Z"
      },
      {
        "duration": 4,
        "start_time": "2023-07-08T03:42:40.075Z"
      },
      {
        "duration": 19,
        "start_time": "2023-07-08T03:42:40.579Z"
      },
      {
        "duration": 15,
        "start_time": "2023-07-08T03:42:42.243Z"
      },
      {
        "duration": 11,
        "start_time": "2023-07-08T03:42:43.703Z"
      },
      {
        "duration": 8,
        "start_time": "2023-07-08T03:42:47.412Z"
      },
      {
        "duration": 7,
        "start_time": "2023-07-08T03:42:48.003Z"
      },
      {
        "duration": 5,
        "start_time": "2023-07-08T03:42:48.511Z"
      },
      {
        "duration": 6,
        "start_time": "2023-07-08T03:42:49.352Z"
      },
      {
        "duration": 12,
        "start_time": "2023-07-08T03:42:51.115Z"
      },
      {
        "duration": 12,
        "start_time": "2023-07-08T03:43:02.208Z"
      },
      {
        "duration": 120,
        "start_time": "2023-07-08T03:57:01.366Z"
      },
      {
        "duration": 1515,
        "start_time": "2023-07-08T03:57:30.598Z"
      },
      {
        "duration": 39,
        "start_time": "2023-07-08T03:57:32.114Z"
      },
      {
        "duration": 19,
        "start_time": "2023-07-08T03:57:32.154Z"
      },
      {
        "duration": 45,
        "start_time": "2023-07-08T03:57:32.174Z"
      },
      {
        "duration": 4,
        "start_time": "2023-07-08T03:57:32.724Z"
      },
      {
        "duration": 33,
        "start_time": "2023-07-08T03:57:32.930Z"
      },
      {
        "duration": 13,
        "start_time": "2023-07-08T03:57:33.330Z"
      },
      {
        "duration": 12,
        "start_time": "2023-07-08T03:57:34.398Z"
      },
      {
        "duration": 8,
        "start_time": "2023-07-08T03:57:37.859Z"
      },
      {
        "duration": 7,
        "start_time": "2023-07-08T03:57:38.475Z"
      },
      {
        "duration": 4,
        "start_time": "2023-07-08T03:57:38.979Z"
      },
      {
        "duration": 7,
        "start_time": "2023-07-08T03:57:39.895Z"
      },
      {
        "duration": 11,
        "start_time": "2023-07-08T03:57:40.927Z"
      },
      {
        "duration": 11,
        "start_time": "2023-07-08T03:57:43.859Z"
      },
      {
        "duration": 17,
        "start_time": "2023-07-08T03:57:48.515Z"
      },
      {
        "duration": 110,
        "start_time": "2023-07-08T03:57:51.864Z"
      },
      {
        "duration": 9,
        "start_time": "2023-07-08T03:59:29.260Z"
      },
      {
        "duration": 11,
        "start_time": "2023-07-08T04:00:07.046Z"
      },
      {
        "duration": 10,
        "start_time": "2023-07-08T04:02:24.129Z"
      },
      {
        "duration": 332,
        "start_time": "2023-07-08T04:11:12.387Z"
      },
      {
        "duration": 370,
        "start_time": "2023-07-08T04:11:28.687Z"
      },
      {
        "duration": 361,
        "start_time": "2023-07-08T04:12:14.885Z"
      },
      {
        "duration": 45,
        "start_time": "2023-07-08T04:13:20.748Z"
      },
      {
        "duration": 20,
        "start_time": "2023-07-08T04:18:52.267Z"
      },
      {
        "duration": 4,
        "start_time": "2023-07-08T04:19:41.156Z"
      },
      {
        "duration": 143,
        "start_time": "2023-07-08T04:20:07.288Z"
      },
      {
        "duration": 333,
        "start_time": "2023-07-08T04:22:34.252Z"
      },
      {
        "duration": 356,
        "start_time": "2023-07-08T04:22:56.224Z"
      },
      {
        "duration": 1454,
        "start_time": "2023-07-08T04:26:54.047Z"
      },
      {
        "duration": 39,
        "start_time": "2023-07-08T04:26:55.502Z"
      },
      {
        "duration": 16,
        "start_time": "2023-07-08T04:26:55.542Z"
      },
      {
        "duration": 12,
        "start_time": "2023-07-08T04:26:55.581Z"
      },
      {
        "duration": 4,
        "start_time": "2023-07-08T04:26:55.916Z"
      },
      {
        "duration": 19,
        "start_time": "2023-07-08T04:26:56.124Z"
      },
      {
        "duration": 11,
        "start_time": "2023-07-08T04:26:56.647Z"
      },
      {
        "duration": 11,
        "start_time": "2023-07-08T04:26:58.192Z"
      },
      {
        "duration": 10,
        "start_time": "2023-07-08T04:27:00.796Z"
      },
      {
        "duration": 8,
        "start_time": "2023-07-08T04:27:01.741Z"
      },
      {
        "duration": 5,
        "start_time": "2023-07-08T04:27:02.324Z"
      },
      {
        "duration": 7,
        "start_time": "2023-07-08T04:27:03.704Z"
      },
      {
        "duration": 13,
        "start_time": "2023-07-08T04:27:04.464Z"
      },
      {
        "duration": 13,
        "start_time": "2023-07-08T04:27:07.660Z"
      },
      {
        "duration": 17,
        "start_time": "2023-07-08T04:27:11.862Z"
      },
      {
        "duration": 12,
        "start_time": "2023-07-08T04:27:14.769Z"
      },
      {
        "duration": 4,
        "start_time": "2023-07-08T04:27:18.792Z"
      },
      {
        "duration": 13,
        "start_time": "2023-07-08T04:27:57.405Z"
      },
      {
        "duration": 124,
        "start_time": "2023-07-08T04:28:45.239Z"
      },
      {
        "duration": 343,
        "start_time": "2023-07-08T04:28:49.690Z"
      },
      {
        "duration": 33,
        "start_time": "2023-07-08T04:28:51.222Z"
      },
      {
        "duration": 133,
        "start_time": "2023-07-08T04:28:51.901Z"
      },
      {
        "duration": 135,
        "start_time": "2023-07-08T04:29:09.147Z"
      },
      {
        "duration": 77290,
        "start_time": "2023-07-08T04:30:53.633Z"
      },
      {
        "duration": 146,
        "start_time": "2023-07-08T04:40:13.152Z"
      },
      {
        "duration": 48,
        "start_time": "2023-07-08T04:42:32.334Z"
      },
      {
        "duration": 136,
        "start_time": "2023-07-08T04:43:23.844Z"
      },
      {
        "duration": 339,
        "start_time": "2023-07-08T04:44:46.512Z"
      },
      {
        "duration": 300,
        "start_time": "2023-07-08T04:51:09.576Z"
      },
      {
        "duration": 34,
        "start_time": "2023-07-08T04:51:10.713Z"
      },
      {
        "duration": 63643,
        "start_time": "2023-07-08T04:51:11.888Z"
      },
      {
        "duration": 717,
        "start_time": "2023-07-08T04:52:15.533Z"
      },
      {
        "duration": 135,
        "start_time": "2023-07-08T04:52:16.252Z"
      },
      {
        "duration": 102,
        "start_time": "2023-07-08T04:52:16.476Z"
      },
      {
        "duration": 440,
        "start_time": "2023-07-08T05:01:26.332Z"
      },
      {
        "duration": 48,
        "start_time": "2023-07-08T05:01:29.055Z"
      },
      {
        "duration": 87773,
        "start_time": "2023-07-08T05:01:31.403Z"
      },
      {
        "duration": 931,
        "start_time": "2023-07-08T05:03:09.309Z"
      },
      {
        "duration": 63,
        "start_time": "2023-07-08T05:03:10.517Z"
      },
      {
        "duration": 12,
        "start_time": "2023-07-08T05:03:22.473Z"
      },
      {
        "duration": 82,
        "start_time": "2023-07-08T05:03:25.754Z"
      },
      {
        "duration": 20,
        "start_time": "2023-07-08T05:03:28.009Z"
      },
      {
        "duration": 36245,
        "start_time": "2023-07-08T05:03:28.507Z"
      },
      {
        "duration": 346,
        "start_time": "2023-07-08T05:04:04.755Z"
      },
      {
        "duration": 77,
        "start_time": "2023-07-08T05:04:05.103Z"
      },
      {
        "duration": 131,
        "start_time": "2023-07-08T05:05:38.932Z"
      },
      {
        "duration": 11,
        "start_time": "2023-07-08T05:05:55.140Z"
      },
      {
        "duration": 87493,
        "start_time": "2023-07-08T05:06:02.948Z"
      },
      {
        "duration": 847,
        "start_time": "2023-07-08T05:07:30.443Z"
      },
      {
        "duration": 120,
        "start_time": "2023-07-08T05:07:31.291Z"
      },
      {
        "duration": 11,
        "start_time": "2023-07-08T05:08:11.565Z"
      },
      {
        "duration": 1580,
        "start_time": "2023-07-08T05:09:37.902Z"
      },
      {
        "duration": 40,
        "start_time": "2023-07-08T05:09:39.868Z"
      },
      {
        "duration": 17,
        "start_time": "2023-07-08T05:09:40.961Z"
      },
      {
        "duration": 14,
        "start_time": "2023-07-08T05:09:42.069Z"
      },
      {
        "duration": 4,
        "start_time": "2023-07-08T05:09:42.837Z"
      },
      {
        "duration": 25,
        "start_time": "2023-07-08T05:09:43.027Z"
      },
      {
        "duration": 13,
        "start_time": "2023-07-08T05:09:43.396Z"
      },
      {
        "duration": 11,
        "start_time": "2023-07-08T05:09:44.453Z"
      },
      {
        "duration": 9,
        "start_time": "2023-07-08T05:09:46.121Z"
      },
      {
        "duration": 12,
        "start_time": "2023-07-08T05:09:46.361Z"
      },
      {
        "duration": 6,
        "start_time": "2023-07-08T05:09:46.808Z"
      },
      {
        "duration": 7,
        "start_time": "2023-07-08T05:09:47.421Z"
      },
      {
        "duration": 14,
        "start_time": "2023-07-08T05:09:48.052Z"
      },
      {
        "duration": 12,
        "start_time": "2023-07-08T05:09:51.288Z"
      },
      {
        "duration": 18,
        "start_time": "2023-07-08T05:09:54.654Z"
      },
      {
        "duration": 13,
        "start_time": "2023-07-08T05:09:56.085Z"
      },
      {
        "duration": 5,
        "start_time": "2023-07-08T05:09:59.122Z"
      },
      {
        "duration": 19,
        "start_time": "2023-07-08T05:10:01.521Z"
      },
      {
        "duration": 133,
        "start_time": "2023-07-08T05:10:07.924Z"
      },
      {
        "duration": 349,
        "start_time": "2023-07-08T05:10:11.461Z"
      },
      {
        "duration": 47,
        "start_time": "2023-07-08T05:11:14.788Z"
      },
      {
        "duration": 146,
        "start_time": "2023-07-08T05:11:16.040Z"
      },
      {
        "duration": 143,
        "start_time": "2023-07-08T05:12:03.468Z"
      },
      {
        "duration": 79210,
        "start_time": "2023-07-08T05:12:19.713Z"
      },
      {
        "duration": 754,
        "start_time": "2023-07-08T05:13:38.924Z"
      },
      {
        "duration": 161,
        "start_time": "2023-07-08T05:13:39.679Z"
      },
      {
        "duration": 134,
        "start_time": "2023-07-08T05:13:39.842Z"
      },
      {
        "duration": 382,
        "start_time": "2023-07-08T05:13:39.978Z"
      },
      {
        "duration": 313,
        "start_time": "2023-07-08T05:13:40.362Z"
      },
      {
        "duration": 37,
        "start_time": "2023-07-08T05:13:40.677Z"
      },
      {
        "duration": 1554,
        "start_time": "2023-07-08T05:14:55.288Z"
      },
      {
        "duration": 38,
        "start_time": "2023-07-08T05:14:56.844Z"
      },
      {
        "duration": 17,
        "start_time": "2023-07-08T05:14:56.884Z"
      },
      {
        "duration": 13,
        "start_time": "2023-07-08T05:14:56.903Z"
      },
      {
        "duration": 4,
        "start_time": "2023-07-08T05:14:57.144Z"
      },
      {
        "duration": 20,
        "start_time": "2023-07-08T05:14:57.503Z"
      },
      {
        "duration": 12,
        "start_time": "2023-07-08T05:14:57.883Z"
      },
      {
        "duration": 16,
        "start_time": "2023-07-08T05:14:58.427Z"
      },
      {
        "duration": 10,
        "start_time": "2023-07-08T05:15:00.862Z"
      },
      {
        "duration": 8,
        "start_time": "2023-07-08T05:15:01.286Z"
      },
      {
        "duration": 5,
        "start_time": "2023-07-08T05:15:01.492Z"
      },
      {
        "duration": 7,
        "start_time": "2023-07-08T05:15:01.980Z"
      },
      {
        "duration": 18,
        "start_time": "2023-07-08T05:15:02.412Z"
      },
      {
        "duration": 14,
        "start_time": "2023-07-08T05:15:03.507Z"
      },
      {
        "duration": 17,
        "start_time": "2023-07-08T05:15:05.068Z"
      },
      {
        "duration": 12,
        "start_time": "2023-07-08T05:15:05.968Z"
      },
      {
        "duration": 4,
        "start_time": "2023-07-08T05:15:07.311Z"
      },
      {
        "duration": 13,
        "start_time": "2023-07-08T05:15:07.823Z"
      },
      {
        "duration": 177,
        "start_time": "2023-07-08T05:15:10.253Z"
      },
      {
        "duration": 335,
        "start_time": "2023-07-08T05:15:12.487Z"
      },
      {
        "duration": 33,
        "start_time": "2023-07-08T05:15:18.636Z"
      },
      {
        "duration": 136,
        "start_time": "2023-07-08T05:15:19.563Z"
      },
      {
        "duration": 81072,
        "start_time": "2023-07-08T05:15:22.504Z"
      },
      {
        "duration": 782,
        "start_time": "2023-07-08T05:18:10.714Z"
      },
      {
        "duration": 148,
        "start_time": "2023-07-08T05:18:17.286Z"
      },
      {
        "duration": 51,
        "start_time": "2023-07-08T05:18:20.934Z"
      },
      {
        "duration": 353,
        "start_time": "2023-07-08T05:18:25.562Z"
      },
      {
        "duration": 319,
        "start_time": "2023-07-08T05:22:07.206Z"
      },
      {
        "duration": 36,
        "start_time": "2023-07-08T05:22:07.527Z"
      },
      {
        "duration": 1378,
        "start_time": "2023-07-08T05:22:35.953Z"
      },
      {
        "duration": 39,
        "start_time": "2023-07-08T05:22:37.333Z"
      },
      {
        "duration": 19,
        "start_time": "2023-07-08T05:22:37.981Z"
      },
      {
        "duration": 22,
        "start_time": "2023-07-08T05:22:39.994Z"
      },
      {
        "duration": 4,
        "start_time": "2023-07-08T05:22:40.350Z"
      },
      {
        "duration": 26,
        "start_time": "2023-07-08T05:22:40.528Z"
      },
      {
        "duration": 17,
        "start_time": "2023-07-08T05:22:40.862Z"
      },
      {
        "duration": 12,
        "start_time": "2023-07-08T05:22:41.342Z"
      },
      {
        "duration": 8,
        "start_time": "2023-07-08T05:22:42.498Z"
      },
      {
        "duration": 10,
        "start_time": "2023-07-08T05:22:42.755Z"
      },
      {
        "duration": 5,
        "start_time": "2023-07-08T05:22:43.058Z"
      },
      {
        "duration": 8,
        "start_time": "2023-07-08T05:22:43.458Z"
      },
      {
        "duration": 14,
        "start_time": "2023-07-08T05:22:43.843Z"
      },
      {
        "duration": 17,
        "start_time": "2023-07-08T05:22:44.714Z"
      },
      {
        "duration": 18,
        "start_time": "2023-07-08T05:22:46.822Z"
      },
      {
        "duration": 12,
        "start_time": "2023-07-08T05:22:48.395Z"
      },
      {
        "duration": 5,
        "start_time": "2023-07-08T05:22:49.803Z"
      },
      {
        "duration": 13,
        "start_time": "2023-07-08T05:22:51.108Z"
      },
      {
        "duration": 139,
        "start_time": "2023-07-08T05:22:54.972Z"
      },
      {
        "duration": 367,
        "start_time": "2023-07-08T05:22:57.318Z"
      },
      {
        "duration": 38,
        "start_time": "2023-07-08T05:23:02.792Z"
      },
      {
        "duration": 148,
        "start_time": "2023-07-08T05:23:04.038Z"
      },
      {
        "duration": 81804,
        "start_time": "2023-07-08T05:23:10.286Z"
      },
      {
        "duration": 825,
        "start_time": "2023-07-08T05:24:36.201Z"
      },
      {
        "duration": 150,
        "start_time": "2023-07-08T05:24:39.583Z"
      },
      {
        "duration": 187,
        "start_time": "2023-07-08T05:24:44.702Z"
      },
      {
        "duration": 336,
        "start_time": "2023-07-08T05:24:49.205Z"
      },
      {
        "duration": 326,
        "start_time": "2023-07-08T05:24:57.922Z"
      },
      {
        "duration": 41,
        "start_time": "2023-07-08T05:25:06.351Z"
      },
      {
        "duration": 65971,
        "start_time": "2023-07-08T05:25:37.831Z"
      },
      {
        "duration": 777,
        "start_time": "2023-07-08T05:27:35.819Z"
      },
      {
        "duration": 75,
        "start_time": "2023-07-08T05:28:05.007Z"
      },
      {
        "duration": 15,
        "start_time": "2023-07-08T05:28:33.031Z"
      },
      {
        "duration": 365,
        "start_time": "2023-07-08T05:28:36.411Z"
      },
      {
        "duration": 35,
        "start_time": "2023-07-08T05:28:43.732Z"
      },
      {
        "duration": 87701,
        "start_time": "2023-07-08T05:28:59.256Z"
      },
      {
        "duration": 1009,
        "start_time": "2023-07-08T05:30:32.206Z"
      },
      {
        "duration": 98,
        "start_time": "2023-07-08T05:30:49.681Z"
      },
      {
        "duration": 12,
        "start_time": "2023-07-08T05:31:12.363Z"
      },
      {
        "duration": 82,
        "start_time": "2023-07-08T05:31:14.078Z"
      },
      {
        "duration": 22,
        "start_time": "2023-07-08T05:31:23.095Z"
      },
      {
        "duration": 36156,
        "start_time": "2023-07-08T05:31:36.339Z"
      },
      {
        "duration": 360,
        "start_time": "2023-07-08T05:33:49.244Z"
      },
      {
        "duration": 184,
        "start_time": "2023-07-08T05:34:33.191Z"
      },
      {
        "duration": 12,
        "start_time": "2023-07-08T05:37:33.649Z"
      },
      {
        "duration": 88415,
        "start_time": "2023-07-08T05:39:27.243Z"
      },
      {
        "duration": 993,
        "start_time": "2023-07-08T05:42:26.143Z"
      },
      {
        "duration": 136,
        "start_time": "2023-07-08T05:42:57.946Z"
      },
      {
        "duration": 1896,
        "start_time": "2023-07-08T11:43:36.514Z"
      },
      {
        "duration": 111,
        "start_time": "2023-07-08T11:43:38.413Z"
      },
      {
        "duration": 24,
        "start_time": "2023-07-08T11:43:38.576Z"
      },
      {
        "duration": 28,
        "start_time": "2023-07-08T11:43:39.297Z"
      },
      {
        "duration": 7,
        "start_time": "2023-07-08T11:43:39.911Z"
      },
      {
        "duration": 26,
        "start_time": "2023-07-08T11:43:40.161Z"
      },
      {
        "duration": 31,
        "start_time": "2023-07-08T11:43:40.706Z"
      },
      {
        "duration": 13,
        "start_time": "2023-07-08T11:43:43.469Z"
      },
      {
        "duration": 10,
        "start_time": "2023-07-08T11:43:48.649Z"
      },
      {
        "duration": 17,
        "start_time": "2023-07-08T11:43:49.305Z"
      },
      {
        "duration": 5,
        "start_time": "2023-07-08T11:43:50.241Z"
      },
      {
        "duration": 8,
        "start_time": "2023-07-08T11:43:53.449Z"
      },
      {
        "duration": 24,
        "start_time": "2023-07-08T11:43:54.505Z"
      },
      {
        "duration": 17,
        "start_time": "2023-07-08T11:44:00.219Z"
      },
      {
        "duration": 22,
        "start_time": "2023-07-08T11:44:05.145Z"
      },
      {
        "duration": 15,
        "start_time": "2023-07-08T11:44:09.680Z"
      },
      {
        "duration": 4,
        "start_time": "2023-07-08T11:44:13.401Z"
      },
      {
        "duration": 36,
        "start_time": "2023-07-08T11:44:15.225Z"
      },
      {
        "duration": 8,
        "start_time": "2023-07-08T11:44:49.767Z"
      },
      {
        "duration": 22,
        "start_time": "2023-07-08T11:44:56.368Z"
      },
      {
        "duration": 11,
        "start_time": "2023-07-08T11:45:06.976Z"
      },
      {
        "duration": 25,
        "start_time": "2023-07-08T11:45:55.776Z"
      },
      {
        "duration": 3291,
        "start_time": "2023-07-08T11:48:11.501Z"
      },
      {
        "duration": 20,
        "start_time": "2023-07-08T11:48:47.285Z"
      },
      {
        "duration": 1601,
        "start_time": "2023-07-08T11:50:19.424Z"
      },
      {
        "duration": 43,
        "start_time": "2023-07-08T11:50:21.027Z"
      },
      {
        "duration": 21,
        "start_time": "2023-07-08T11:50:21.072Z"
      },
      {
        "duration": 25,
        "start_time": "2023-07-08T11:50:21.095Z"
      },
      {
        "duration": 6,
        "start_time": "2023-07-08T11:50:21.426Z"
      },
      {
        "duration": 34,
        "start_time": "2023-07-08T11:50:21.604Z"
      },
      {
        "duration": 30,
        "start_time": "2023-07-08T11:50:22.608Z"
      },
      {
        "duration": 19,
        "start_time": "2023-07-08T11:50:23.241Z"
      },
      {
        "duration": 10,
        "start_time": "2023-07-08T11:50:24.263Z"
      },
      {
        "duration": 13,
        "start_time": "2023-07-08T11:50:24.429Z"
      },
      {
        "duration": 11,
        "start_time": "2023-07-08T11:50:24.603Z"
      },
      {
        "duration": 8,
        "start_time": "2023-07-08T11:50:25.138Z"
      },
      {
        "duration": 15,
        "start_time": "2023-07-08T11:50:25.463Z"
      },
      {
        "duration": 19,
        "start_time": "2023-07-08T11:50:27.508Z"
      },
      {
        "duration": 30,
        "start_time": "2023-07-08T11:50:29.443Z"
      },
      {
        "duration": 14,
        "start_time": "2023-07-08T11:50:30.538Z"
      },
      {
        "duration": 5,
        "start_time": "2023-07-08T11:50:34.447Z"
      },
      {
        "duration": 10,
        "start_time": "2023-07-08T11:50:36.291Z"
      },
      {
        "duration": 26,
        "start_time": "2023-07-08T11:50:37.514Z"
      },
      {
        "duration": 18,
        "start_time": "2023-07-08T11:50:46.691Z"
      },
      {
        "duration": 22,
        "start_time": "2023-07-08T11:50:49.351Z"
      },
      {
        "duration": 24,
        "start_time": "2023-07-08T11:53:27.128Z"
      },
      {
        "duration": 1803,
        "start_time": "2023-07-08T11:53:42.793Z"
      },
      {
        "duration": 64,
        "start_time": "2023-07-08T11:53:44.598Z"
      },
      {
        "duration": 19,
        "start_time": "2023-07-08T11:53:44.664Z"
      },
      {
        "duration": 16,
        "start_time": "2023-07-08T11:53:44.686Z"
      },
      {
        "duration": 6,
        "start_time": "2023-07-08T11:53:44.831Z"
      },
      {
        "duration": 44,
        "start_time": "2023-07-08T11:53:45.000Z"
      },
      {
        "duration": 19,
        "start_time": "2023-07-08T11:53:45.367Z"
      },
      {
        "duration": 26,
        "start_time": "2023-07-08T11:53:45.895Z"
      },
      {
        "duration": 13,
        "start_time": "2023-07-08T11:53:46.762Z"
      },
      {
        "duration": 9,
        "start_time": "2023-07-08T11:53:46.942Z"
      },
      {
        "duration": 6,
        "start_time": "2023-07-08T11:53:47.101Z"
      },
      {
        "duration": 11,
        "start_time": "2023-07-08T11:53:47.635Z"
      },
      {
        "duration": 25,
        "start_time": "2023-07-08T11:53:47.996Z"
      },
      {
        "duration": 16,
        "start_time": "2023-07-08T11:53:49.090Z"
      },
      {
        "duration": 37,
        "start_time": "2023-07-08T11:53:50.928Z"
      },
      {
        "duration": 19,
        "start_time": "2023-07-08T11:53:51.847Z"
      },
      {
        "duration": 7,
        "start_time": "2023-07-08T11:53:53.531Z"
      },
      {
        "duration": 14,
        "start_time": "2023-07-08T11:53:54.529Z"
      },
      {
        "duration": 27,
        "start_time": "2023-07-08T11:53:54.763Z"
      },
      {
        "duration": 26,
        "start_time": "2023-07-08T11:53:54.958Z"
      },
      {
        "duration": 19,
        "start_time": "2023-07-08T11:53:55.165Z"
      },
      {
        "duration": 202,
        "start_time": "2023-07-08T11:54:35.968Z"
      },
      {
        "duration": 516,
        "start_time": "2023-07-08T11:54:45.958Z"
      },
      {
        "duration": 122,
        "start_time": "2023-07-08T12:02:29.785Z"
      },
      {
        "duration": 91,
        "start_time": "2023-07-08T12:03:34.134Z"
      },
      {
        "duration": 37,
        "start_time": "2023-07-08T12:03:50.271Z"
      },
      {
        "duration": 1529,
        "start_time": "2023-07-08T12:04:09.694Z"
      },
      {
        "duration": 44,
        "start_time": "2023-07-08T12:04:11.225Z"
      },
      {
        "duration": 23,
        "start_time": "2023-07-08T12:04:11.271Z"
      },
      {
        "duration": 31,
        "start_time": "2023-07-08T12:04:11.297Z"
      },
      {
        "duration": 4,
        "start_time": "2023-07-08T12:04:11.466Z"
      },
      {
        "duration": 25,
        "start_time": "2023-07-08T12:04:11.610Z"
      },
      {
        "duration": 15,
        "start_time": "2023-07-08T12:04:11.935Z"
      },
      {
        "duration": 14,
        "start_time": "2023-07-08T12:04:12.431Z"
      },
      {
        "duration": 17,
        "start_time": "2023-07-08T12:04:13.406Z"
      },
      {
        "duration": 8,
        "start_time": "2023-07-08T12:04:13.569Z"
      },
      {
        "duration": 5,
        "start_time": "2023-07-08T12:04:13.745Z"
      },
      {
        "duration": 8,
        "start_time": "2023-07-08T12:04:14.238Z"
      },
      {
        "duration": 14,
        "start_time": "2023-07-08T12:04:14.575Z"
      },
      {
        "duration": 15,
        "start_time": "2023-07-08T12:04:15.572Z"
      },
      {
        "duration": 22,
        "start_time": "2023-07-08T12:04:17.067Z"
      },
      {
        "duration": 19,
        "start_time": "2023-07-08T12:04:18.607Z"
      },
      {
        "duration": 5,
        "start_time": "2023-07-08T12:04:19.647Z"
      },
      {
        "duration": 12,
        "start_time": "2023-07-08T12:04:19.951Z"
      },
      {
        "duration": 20,
        "start_time": "2023-07-08T12:04:20.130Z"
      },
      {
        "duration": 31,
        "start_time": "2023-07-08T12:04:20.291Z"
      },
      {
        "duration": 18,
        "start_time": "2023-07-08T12:04:20.457Z"
      },
      {
        "duration": 183,
        "start_time": "2023-07-08T12:04:24.823Z"
      },
      {
        "duration": 410,
        "start_time": "2023-07-08T12:04:29.103Z"
      },
      {
        "duration": 38,
        "start_time": "2023-07-08T12:04:37.748Z"
      },
      {
        "duration": 171,
        "start_time": "2023-07-08T12:04:38.132Z"
      },
      {
        "duration": 96417,
        "start_time": "2023-07-08T12:05:21.823Z"
      },
      {
        "duration": 919,
        "start_time": "2023-07-08T12:06:58.242Z"
      },
      {
        "duration": 198,
        "start_time": "2023-07-08T12:06:59.162Z"
      },
      {
        "duration": 149,
        "start_time": "2023-07-08T12:06:59.363Z"
      },
      {
        "duration": 516,
        "start_time": "2023-07-08T12:06:59.514Z"
      },
      {
        "duration": 363,
        "start_time": "2023-07-08T12:07:00.032Z"
      },
      {
        "duration": 41,
        "start_time": "2023-07-08T12:07:00.397Z"
      },
      {
        "duration": 78573,
        "start_time": "2023-07-08T12:07:00.440Z"
      },
      {
        "duration": 866,
        "start_time": "2023-07-08T12:08:19.015Z"
      },
      {
        "duration": 128,
        "start_time": "2023-07-08T12:08:19.884Z"
      },
      {
        "duration": 104,
        "start_time": "2023-07-08T12:08:20.019Z"
      },
      {
        "duration": 456,
        "start_time": "2023-07-08T12:08:20.125Z"
      },
      {
        "duration": 52,
        "start_time": "2023-07-08T12:08:20.583Z"
      },
      {
        "duration": 109710,
        "start_time": "2023-07-08T12:08:20.637Z"
      },
      {
        "duration": 1196,
        "start_time": "2023-07-08T12:10:10.349Z"
      },
      {
        "duration": 86,
        "start_time": "2023-07-08T12:10:11.547Z"
      },
      {
        "duration": 102,
        "start_time": "2023-07-08T12:10:11.709Z"
      },
      {
        "duration": 138,
        "start_time": "2023-07-08T12:10:11.813Z"
      },
      {
        "duration": 29,
        "start_time": "2023-07-08T12:10:11.953Z"
      },
      {
        "duration": 44429,
        "start_time": "2023-07-08T12:10:11.984Z"
      },
      {
        "duration": 442,
        "start_time": "2023-07-08T12:10:56.415Z"
      },
      {
        "duration": 67,
        "start_time": "2023-07-08T12:10:56.858Z"
      },
      {
        "duration": 103,
        "start_time": "2023-07-08T12:10:57.021Z"
      },
      {
        "duration": 108921,
        "start_time": "2023-07-08T12:10:57.126Z"
      },
      {
        "duration": 1229,
        "start_time": "2023-07-08T12:12:46.049Z"
      },
      {
        "duration": 148,
        "start_time": "2023-07-08T12:12:47.279Z"
      },
      {
        "duration": 1717,
        "start_time": "2023-07-08T12:26:21.980Z"
      },
      {
        "duration": 49,
        "start_time": "2023-07-08T12:26:23.699Z"
      },
      {
        "duration": 21,
        "start_time": "2023-07-08T12:26:23.751Z"
      },
      {
        "duration": 27,
        "start_time": "2023-07-08T12:26:23.775Z"
      },
      {
        "duration": 6,
        "start_time": "2023-07-08T12:26:23.835Z"
      },
      {
        "duration": 24,
        "start_time": "2023-07-08T12:26:24.023Z"
      },
      {
        "duration": 16,
        "start_time": "2023-07-08T12:26:24.347Z"
      },
      {
        "duration": 13,
        "start_time": "2023-07-08T12:26:24.827Z"
      },
      {
        "duration": 9,
        "start_time": "2023-07-08T12:26:25.839Z"
      },
      {
        "duration": 10,
        "start_time": "2023-07-08T12:26:26.016Z"
      },
      {
        "duration": 7,
        "start_time": "2023-07-08T12:26:26.193Z"
      },
      {
        "duration": 7,
        "start_time": "2023-07-08T12:26:26.890Z"
      },
      {
        "duration": 17,
        "start_time": "2023-07-08T12:26:27.262Z"
      },
      {
        "duration": 15,
        "start_time": "2023-07-08T12:26:28.368Z"
      },
      {
        "duration": 39,
        "start_time": "2023-07-08T12:26:29.684Z"
      },
      {
        "duration": 15,
        "start_time": "2023-07-08T12:26:30.436Z"
      },
      {
        "duration": 5,
        "start_time": "2023-07-08T12:26:31.651Z"
      },
      {
        "duration": 19,
        "start_time": "2023-07-08T12:26:32.200Z"
      },
      {
        "duration": 34,
        "start_time": "2023-07-08T12:26:32.599Z"
      },
      {
        "duration": 20,
        "start_time": "2023-07-08T12:26:32.923Z"
      },
      {
        "duration": 19,
        "start_time": "2023-07-08T12:26:33.327Z"
      },
      {
        "duration": 171,
        "start_time": "2023-07-08T12:26:47.660Z"
      },
      {
        "duration": 506,
        "start_time": "2023-07-08T12:26:53.564Z"
      },
      {
        "duration": 44,
        "start_time": "2023-07-08T12:27:06.385Z"
      },
      {
        "duration": 187,
        "start_time": "2023-07-08T12:27:07.285Z"
      },
      {
        "duration": 95889,
        "start_time": "2023-07-08T12:27:11.432Z"
      },
      {
        "duration": 975,
        "start_time": "2023-07-08T12:30:09.156Z"
      },
      {
        "duration": 196,
        "start_time": "2023-07-08T12:30:11.248Z"
      },
      {
        "duration": 62,
        "start_time": "2023-07-08T12:30:15.260Z"
      },
      {
        "duration": 445,
        "start_time": "2023-07-08T12:30:21.007Z"
      },
      {
        "duration": 138,
        "start_time": "2023-07-08T12:30:31.799Z"
      },
      {
        "duration": 389,
        "start_time": "2023-07-08T12:30:51.595Z"
      },
      {
        "duration": 46,
        "start_time": "2023-07-08T12:30:54.704Z"
      },
      {
        "duration": 82610,
        "start_time": "2023-07-08T12:30:59.726Z"
      },
      {
        "duration": 916,
        "start_time": "2023-07-08T12:32:30.403Z"
      },
      {
        "duration": 60,
        "start_time": "2023-07-08T12:32:34.162Z"
      },
      {
        "duration": 24,
        "start_time": "2023-07-08T12:33:13.568Z"
      },
      {
        "duration": 31,
        "start_time": "2023-07-08T12:33:32.599Z"
      },
      {
        "duration": 471,
        "start_time": "2023-07-08T12:33:58.229Z"
      },
      {
        "duration": 54,
        "start_time": "2023-07-08T12:34:07.244Z"
      },
      {
        "duration": 112368,
        "start_time": "2023-07-08T12:34:24.495Z"
      },
      {
        "duration": 1243,
        "start_time": "2023-07-08T12:37:16.906Z"
      },
      {
        "duration": 220,
        "start_time": "2023-07-08T12:37:29.910Z"
      },
      {
        "duration": 26,
        "start_time": "2023-07-08T12:37:37.197Z"
      },
      {
        "duration": 114,
        "start_time": "2023-07-08T12:37:38.399Z"
      },
      {
        "duration": 33,
        "start_time": "2023-07-08T12:38:11.157Z"
      },
      {
        "duration": 45967,
        "start_time": "2023-07-08T12:38:15.618Z"
      },
      {
        "duration": 466,
        "start_time": "2023-07-08T12:39:21.010Z"
      },
      {
        "duration": 112,
        "start_time": "2023-07-08T12:39:27.503Z"
      },
      {
        "duration": 12,
        "start_time": "2023-07-08T12:44:51.042Z"
      },
      {
        "duration": 109429,
        "start_time": "2023-07-08T12:46:07.210Z"
      },
      {
        "duration": 1174,
        "start_time": "2023-07-08T12:48:00.322Z"
      },
      {
        "duration": 137,
        "start_time": "2023-07-08T12:48:07.658Z"
      },
      {
        "duration": 1559,
        "start_time": "2023-07-08T12:49:05.298Z"
      },
      {
        "duration": 45,
        "start_time": "2023-07-08T12:49:06.859Z"
      },
      {
        "duration": 26,
        "start_time": "2023-07-08T12:49:06.906Z"
      },
      {
        "duration": 21,
        "start_time": "2023-07-08T12:49:06.935Z"
      },
      {
        "duration": 6,
        "start_time": "2023-07-08T12:49:07.080Z"
      },
      {
        "duration": 24,
        "start_time": "2023-07-08T12:49:07.260Z"
      },
      {
        "duration": 14,
        "start_time": "2023-07-08T12:49:07.644Z"
      },
      {
        "duration": 13,
        "start_time": "2023-07-08T12:49:08.444Z"
      },
      {
        "duration": 13,
        "start_time": "2023-07-08T12:49:09.296Z"
      },
      {
        "duration": 10,
        "start_time": "2023-07-08T12:49:09.436Z"
      },
      {
        "duration": 5,
        "start_time": "2023-07-08T12:49:09.618Z"
      },
      {
        "duration": 9,
        "start_time": "2023-07-08T12:49:10.123Z"
      },
      {
        "duration": 17,
        "start_time": "2023-07-08T12:49:10.501Z"
      },
      {
        "duration": 27,
        "start_time": "2023-07-08T12:49:11.504Z"
      },
      {
        "duration": 26,
        "start_time": "2023-07-08T12:49:12.704Z"
      },
      {
        "duration": 15,
        "start_time": "2023-07-08T12:49:13.428Z"
      },
      {
        "duration": 5,
        "start_time": "2023-07-08T12:49:14.547Z"
      },
      {
        "duration": 10,
        "start_time": "2023-07-08T12:49:14.948Z"
      },
      {
        "duration": 23,
        "start_time": "2023-07-08T12:49:15.126Z"
      },
      {
        "duration": 18,
        "start_time": "2023-07-08T12:49:15.335Z"
      },
      {
        "duration": 20,
        "start_time": "2023-07-08T12:49:15.511Z"
      },
      {
        "duration": 166,
        "start_time": "2023-07-08T12:49:17.905Z"
      },
      {
        "duration": 385,
        "start_time": "2023-07-08T12:49:18.620Z"
      },
      {
        "duration": 45,
        "start_time": "2023-07-08T12:49:19.708Z"
      },
      {
        "duration": 190,
        "start_time": "2023-07-08T12:49:19.898Z"
      },
      {
        "duration": 95787,
        "start_time": "2023-07-08T12:49:21.020Z"
      },
      {
        "duration": 986,
        "start_time": "2023-07-08T12:50:56.809Z"
      },
      {
        "duration": 195,
        "start_time": "2023-07-08T12:50:57.797Z"
      },
      {
        "duration": 121,
        "start_time": "2023-07-08T12:50:57.995Z"
      },
      {
        "duration": 514,
        "start_time": "2023-07-08T12:50:58.123Z"
      },
      {
        "duration": 384,
        "start_time": "2023-07-08T12:50:58.639Z"
      },
      {
        "duration": 36,
        "start_time": "2023-07-08T12:50:59.026Z"
      },
      {
        "duration": 77873,
        "start_time": "2023-07-08T12:50:59.064Z"
      },
      {
        "duration": 832,
        "start_time": "2023-07-08T12:52:16.939Z"
      },
      {
        "duration": 140,
        "start_time": "2023-07-08T12:52:17.774Z"
      },
      {
        "duration": 109,
        "start_time": "2023-07-08T12:52:17.916Z"
      },
      {
        "duration": 448,
        "start_time": "2023-07-08T12:52:18.026Z"
      },
      {
        "duration": 50,
        "start_time": "2023-07-08T12:52:18.477Z"
      },
      {
        "duration": 111144,
        "start_time": "2023-07-08T12:52:18.529Z"
      },
      {
        "duration": 1214,
        "start_time": "2023-07-08T12:54:09.675Z"
      },
      {
        "duration": 141,
        "start_time": "2023-07-08T12:54:10.891Z"
      },
      {
        "duration": 101,
        "start_time": "2023-07-08T12:54:11.114Z"
      },
      {
        "duration": 115,
        "start_time": "2023-07-08T12:54:11.218Z"
      },
      {
        "duration": 30,
        "start_time": "2023-07-08T12:54:11.335Z"
      },
      {
        "duration": 45819,
        "start_time": "2023-07-08T12:54:11.367Z"
      },
      {
        "duration": 456,
        "start_time": "2023-07-08T12:54:57.188Z"
      },
      {
        "duration": 81,
        "start_time": "2023-07-08T12:54:57.645Z"
      },
      {
        "duration": 214,
        "start_time": "2023-07-08T12:54:57.729Z"
      },
      {
        "duration": 111920,
        "start_time": "2023-07-08T12:54:57.946Z"
      },
      {
        "duration": 1198,
        "start_time": "2023-07-08T12:56:49.869Z"
      },
      {
        "duration": 162,
        "start_time": "2023-07-08T12:56:51.069Z"
      }
    ],
    "kernelspec": {
      "display_name": "Python 3 (ipykernel)",
      "language": "python",
      "name": "python3"
    },
    "language_info": {
      "codemirror_mode": {
        "name": "ipython",
        "version": 3
      },
      "file_extension": ".py",
      "mimetype": "text/x-python",
      "name": "python",
      "nbconvert_exporter": "python",
      "pygments_lexer": "ipython3",
      "version": "3.9.5"
    },
    "toc": {
      "base_numbering": 1,
      "nav_menu": {},
      "number_sections": true,
      "sideBar": true,
      "skip_h1_title": true,
      "title_cell": "Содержание",
      "title_sidebar": "Contents",
      "toc_cell": true,
      "toc_position": {
        "height": "calc(100% - 180px)",
        "left": "10px",
        "top": "150px",
        "width": "229.664px"
      },
      "toc_section_display": true,
      "toc_window_display": true
    },
    "colab": {
      "provenance": []
    }
  },
  "nbformat": 4,
  "nbformat_minor": 0
}