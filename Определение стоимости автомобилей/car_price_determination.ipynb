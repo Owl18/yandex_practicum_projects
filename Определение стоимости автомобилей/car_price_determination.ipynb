{
  "cells": [
    {
      "cell_type": "markdown",
      "metadata": {
        "id": "-DdDI5WLIAuw"
      },
      "source": [
        "# Определение стоимости автомобилей"
      ]
    },
    {
      "cell_type": "markdown",
      "metadata": {
        "id": "dL0KLep5IAuw"
      },
      "source": [
        "**Цель проекта** - разработка приложение для привлечения новых клиентов. В нём можно будет узнать рыночную стоимость своего автомобиля.\n",
        "\n",
        "**Итак, вводные данные такие:** Сервис по продаже автомобилей с пробегом «Не бит, не крашен» разрабатывает приложение для привлечения новых клиентов. В нём можно быстро узнать рыночную стоимость своего автомобиля. В моём распоряжении исторические данные: технические характеристики, комплектации и цены автомобилей. Необходимо построить модель для определения стоимости.\n",
        "\n",
        "Заказчику важны:\n",
        "\n",
        "- качество предсказания;\n",
        "- скорость предсказания;\n",
        "- время обучения.\n",
        "\n",
        "Исследование предполагает выполнение следующих задач:\n",
        "1. Загрузить данные;\n",
        "2. Изучить данные. Заполнить пропущенные значения и обработать аномалии в столбцах. Если среди признаков имеются неинформативные, удалить их;\n",
        "3. Подготовить выборки для обучения моделей;\n",
        "4. Обучить разные модели, одна из которых — LightGBM, как минимум одна — не бустинг. Для каждой модели попробовать разные гиперпараметры;\n",
        "5. Проанализировать время обучения, время предсказания и качество моделей;\n",
        "6. Опираясь на критерии заказчика, выбрать лучшую модель, проверить её качество на тестовой выборке\n",
        "\n",
        "В наличии следующие признаки:\n",
        "1. DateCrawled — дата скачивания анкеты из базы;\n",
        "2. VehicleType — тип автомобильного кузова;\n",
        "3. RegistrationYear — год регистрации автомобиля;\n",
        "4. Gearbox — тип коробки передач;\n",
        "5. Power — мощность (л. с.);\n",
        "6. Model — модель автомобиля;\n",
        "7. Kilometer — пробег (км);\n",
        "8. RegistrationMonth — месяц регистрации автомобиля;\n",
        "9. FuelType — тип топлива;\n",
        "10. Brand — марка автомобиля;\n",
        "11. Repaired — была машина в ремонте или нет;\n",
        "12. DateCreated — дата создания анкеты;\n",
        "13. NumberOfPictures — количество фотографий автомобиля;\n",
        "14. PostalCode — почтовый индекс владельца анкеты (пользователя);\n",
        "15. LastSeen — дата последней активности пользователя;\n",
        "\n",
        "**Целевой признак**\n",
        "16. Price — цена (евро)\n",
        "\n",
        "План исследования:\n",
        "\n",
        "1. Обзор данных;\n",
        "2. Предобработка данных;\n",
        "3. Обучение моделей;\n",
        "4. Выбор лучшей модели и ее тестирование;\n",
        "5. Вывод."
      ]
    },
    {
      "cell_type": "markdown",
      "metadata": {
        "id": "_BkB5OC3IAuy"
      },
      "source": [
        "Начинаю с импорта библиотек."
      ]
    },
    {
      "cell_type": "code",
      "execution_count": null,
      "metadata": {
        "id": "cVK3-EjNIAuy"
      },
      "outputs": [],
      "source": [
        "import pandas as pd\n",
        "import numpy as np\n",
        "import seaborn as sb\n",
        "from catboost import CatBoostRegressor\n",
        "import lightgbm as lgb\n",
        "from sklearn.model_selection import train_test_split\n",
        "from sklearn.metrics import mean_squared_error\n",
        "from sklearn.ensemble import RandomForestRegressor\n",
        "from sklearn.tree import DecisionTreeRegressor\n",
        "from sklearn.linear_model import LinearRegression\n",
        "from sklearn.dummy import DummyRegressor\n",
        "from sklearn.model_selection import GridSearchCV\n",
        "import matplotlib.pyplot as plt\n",
        "from sklearn.preprocessing import OneHotEncoder\n",
        "from sklearn.preprocessing import StandardScaler\n",
        "from xgboost import XGBRegressor\n",
        "from sklearn.metrics import f1_score\n",
        "from sklearn.metrics import roc_auc_score\n",
        "from sklearn.metrics import roc_curve\n",
        "import time"
      ]
    },
    {
      "cell_type": "markdown",
      "metadata": {
        "id": "bgrXAIsjIAuz"
      },
      "source": [
        "Загрузил всё, что вспомнил."
      ]
    },
    {
      "cell_type": "markdown",
      "metadata": {
        "id": "bT7F7839IAuz"
      },
      "source": [
        "## Подготовка данных"
      ]
    },
    {
      "cell_type": "markdown",
      "metadata": {
        "id": "3Oq2bqbNIAuz"
      },
      "source": [
        "### Загрузка данных"
      ]
    },
    {
      "cell_type": "markdown",
      "metadata": {
        "id": "-RorXjFGIAu0"
      },
      "source": [
        "Для подстраховки загружаю через try-except."
      ]
    },
    {
      "cell_type": "code",
      "execution_count": null,
      "metadata": {
        "id": "dPgwq-XRIAu0"
      },
      "outputs": [],
      "source": [
        "try:\n",
        "    data = pd.read_csv('/datasets/autos.csv')\n",
        "except FileNotFoundError:\n",
        "    data = pd.read_csv('https://code.s3.yandex.net/datasets/autos.csv')"
      ]
    },
    {
      "cell_type": "markdown",
      "metadata": {
        "id": "iaS0EwCdIAu0"
      },
      "source": [
        "Взгляну на содержимое."
      ]
    },
    {
      "cell_type": "code",
      "execution_count": null,
      "metadata": {
        "id": "w9aAcdbhIAu0",
        "outputId": "6a56b0e4-bc9f-4cc4-fd8f-6f88ce32c3c8"
      },
      "outputs": [
        {
          "data": {
            "text/html": [
              "<div>\n",
              "<style scoped>\n",
              "    .dataframe tbody tr th:only-of-type {\n",
              "        vertical-align: middle;\n",
              "    }\n",
              "\n",
              "    .dataframe tbody tr th {\n",
              "        vertical-align: top;\n",
              "    }\n",
              "\n",
              "    .dataframe thead th {\n",
              "        text-align: right;\n",
              "    }\n",
              "</style>\n",
              "<table border=\"1\" class=\"dataframe\">\n",
              "  <thead>\n",
              "    <tr style=\"text-align: right;\">\n",
              "      <th></th>\n",
              "      <th>DateCrawled</th>\n",
              "      <th>Price</th>\n",
              "      <th>VehicleType</th>\n",
              "      <th>RegistrationYear</th>\n",
              "      <th>Gearbox</th>\n",
              "      <th>Power</th>\n",
              "      <th>Model</th>\n",
              "      <th>Kilometer</th>\n",
              "      <th>RegistrationMonth</th>\n",
              "      <th>FuelType</th>\n",
              "      <th>Brand</th>\n",
              "      <th>Repaired</th>\n",
              "      <th>DateCreated</th>\n",
              "      <th>NumberOfPictures</th>\n",
              "      <th>PostalCode</th>\n",
              "      <th>LastSeen</th>\n",
              "    </tr>\n",
              "  </thead>\n",
              "  <tbody>\n",
              "    <tr>\n",
              "      <th>0</th>\n",
              "      <td>2016-03-24 11:52:17</td>\n",
              "      <td>480</td>\n",
              "      <td>NaN</td>\n",
              "      <td>1993</td>\n",
              "      <td>manual</td>\n",
              "      <td>0</td>\n",
              "      <td>golf</td>\n",
              "      <td>150000</td>\n",
              "      <td>0</td>\n",
              "      <td>petrol</td>\n",
              "      <td>volkswagen</td>\n",
              "      <td>NaN</td>\n",
              "      <td>2016-03-24 00:00:00</td>\n",
              "      <td>0</td>\n",
              "      <td>70435</td>\n",
              "      <td>2016-04-07 03:16:57</td>\n",
              "    </tr>\n",
              "    <tr>\n",
              "      <th>1</th>\n",
              "      <td>2016-03-24 10:58:45</td>\n",
              "      <td>18300</td>\n",
              "      <td>coupe</td>\n",
              "      <td>2011</td>\n",
              "      <td>manual</td>\n",
              "      <td>190</td>\n",
              "      <td>NaN</td>\n",
              "      <td>125000</td>\n",
              "      <td>5</td>\n",
              "      <td>gasoline</td>\n",
              "      <td>audi</td>\n",
              "      <td>yes</td>\n",
              "      <td>2016-03-24 00:00:00</td>\n",
              "      <td>0</td>\n",
              "      <td>66954</td>\n",
              "      <td>2016-04-07 01:46:50</td>\n",
              "    </tr>\n",
              "    <tr>\n",
              "      <th>2</th>\n",
              "      <td>2016-03-14 12:52:21</td>\n",
              "      <td>9800</td>\n",
              "      <td>suv</td>\n",
              "      <td>2004</td>\n",
              "      <td>auto</td>\n",
              "      <td>163</td>\n",
              "      <td>grand</td>\n",
              "      <td>125000</td>\n",
              "      <td>8</td>\n",
              "      <td>gasoline</td>\n",
              "      <td>jeep</td>\n",
              "      <td>NaN</td>\n",
              "      <td>2016-03-14 00:00:00</td>\n",
              "      <td>0</td>\n",
              "      <td>90480</td>\n",
              "      <td>2016-04-05 12:47:46</td>\n",
              "    </tr>\n",
              "    <tr>\n",
              "      <th>3</th>\n",
              "      <td>2016-03-17 16:54:04</td>\n",
              "      <td>1500</td>\n",
              "      <td>small</td>\n",
              "      <td>2001</td>\n",
              "      <td>manual</td>\n",
              "      <td>75</td>\n",
              "      <td>golf</td>\n",
              "      <td>150000</td>\n",
              "      <td>6</td>\n",
              "      <td>petrol</td>\n",
              "      <td>volkswagen</td>\n",
              "      <td>no</td>\n",
              "      <td>2016-03-17 00:00:00</td>\n",
              "      <td>0</td>\n",
              "      <td>91074</td>\n",
              "      <td>2016-03-17 17:40:17</td>\n",
              "    </tr>\n",
              "    <tr>\n",
              "      <th>4</th>\n",
              "      <td>2016-03-31 17:25:20</td>\n",
              "      <td>3600</td>\n",
              "      <td>small</td>\n",
              "      <td>2008</td>\n",
              "      <td>manual</td>\n",
              "      <td>69</td>\n",
              "      <td>fabia</td>\n",
              "      <td>90000</td>\n",
              "      <td>7</td>\n",
              "      <td>gasoline</td>\n",
              "      <td>skoda</td>\n",
              "      <td>no</td>\n",
              "      <td>2016-03-31 00:00:00</td>\n",
              "      <td>0</td>\n",
              "      <td>60437</td>\n",
              "      <td>2016-04-06 10:17:21</td>\n",
              "    </tr>\n",
              "  </tbody>\n",
              "</table>\n",
              "</div>"
            ],
            "text/plain": [
              "           DateCrawled  Price VehicleType  RegistrationYear Gearbox  Power  \\\n",
              "0  2016-03-24 11:52:17    480         NaN              1993  manual      0   \n",
              "1  2016-03-24 10:58:45  18300       coupe              2011  manual    190   \n",
              "2  2016-03-14 12:52:21   9800         suv              2004    auto    163   \n",
              "3  2016-03-17 16:54:04   1500       small              2001  manual     75   \n",
              "4  2016-03-31 17:25:20   3600       small              2008  manual     69   \n",
              "\n",
              "   Model  Kilometer  RegistrationMonth  FuelType       Brand Repaired  \\\n",
              "0   golf     150000                  0    petrol  volkswagen      NaN   \n",
              "1    NaN     125000                  5  gasoline        audi      yes   \n",
              "2  grand     125000                  8  gasoline        jeep      NaN   \n",
              "3   golf     150000                  6    petrol  volkswagen       no   \n",
              "4  fabia      90000                  7  gasoline       skoda       no   \n",
              "\n",
              "           DateCreated  NumberOfPictures  PostalCode             LastSeen  \n",
              "0  2016-03-24 00:00:00                 0       70435  2016-04-07 03:16:57  \n",
              "1  2016-03-24 00:00:00                 0       66954  2016-04-07 01:46:50  \n",
              "2  2016-03-14 00:00:00                 0       90480  2016-04-05 12:47:46  \n",
              "3  2016-03-17 00:00:00                 0       91074  2016-03-17 17:40:17  \n",
              "4  2016-03-31 00:00:00                 0       60437  2016-04-06 10:17:21  "
            ]
          },
          "execution_count": 3,
          "metadata": {},
          "output_type": "execute_result"
        }
      ],
      "source": [
        "data.head()"
      ]
    },
    {
      "cell_type": "code",
      "execution_count": null,
      "metadata": {
        "id": "pMs0ZoxHIAu1",
        "outputId": "cb5e68c8-776d-4054-cf6e-00f5fd9d79b7"
      },
      "outputs": [
        {
          "name": "stdout",
          "output_type": "stream",
          "text": [
            "<class 'pandas.core.frame.DataFrame'>\n",
            "RangeIndex: 354369 entries, 0 to 354368\n",
            "Data columns (total 16 columns):\n",
            " #   Column             Non-Null Count   Dtype \n",
            "---  ------             --------------   ----- \n",
            " 0   DateCrawled        354369 non-null  object\n",
            " 1   Price              354369 non-null  int64 \n",
            " 2   VehicleType        316879 non-null  object\n",
            " 3   RegistrationYear   354369 non-null  int64 \n",
            " 4   Gearbox            334536 non-null  object\n",
            " 5   Power              354369 non-null  int64 \n",
            " 6   Model              334664 non-null  object\n",
            " 7   Kilometer          354369 non-null  int64 \n",
            " 8   RegistrationMonth  354369 non-null  int64 \n",
            " 9   FuelType           321474 non-null  object\n",
            " 10  Brand              354369 non-null  object\n",
            " 11  Repaired           283215 non-null  object\n",
            " 12  DateCreated        354369 non-null  object\n",
            " 13  NumberOfPictures   354369 non-null  int64 \n",
            " 14  PostalCode         354369 non-null  int64 \n",
            " 15  LastSeen           354369 non-null  object\n",
            "dtypes: int64(7), object(9)\n",
            "memory usage: 43.3+ MB\n"
          ]
        }
      ],
      "source": [
        "data.info()"
      ]
    },
    {
      "cell_type": "markdown",
      "metadata": {
        "id": "4EwEZc5eIAu2"
      },
      "source": [
        "Сразу бросается  в глаза способ наименования столбцов - верблюжий стиль. Я его изменю на змеиный. Кроме того, некоторые столбцы явно не пригодятся в исследовании. Поэтому я от них избавлюсь. Но сначала взгляну на дубликаты."
      ]
    },
    {
      "cell_type": "markdown",
      "metadata": {
        "id": "jsXwTt9AIAu2"
      },
      "source": [
        "### Подготовка"
      ]
    },
    {
      "cell_type": "code",
      "execution_count": null,
      "metadata": {
        "id": "HzUnMpWrIAu2",
        "outputId": "350b9dad-ba90-4fd9-ca6d-521042547caa"
      },
      "outputs": [
        {
          "data": {
            "text/plain": [
              "4"
            ]
          },
          "execution_count": 5,
          "metadata": {},
          "output_type": "execute_result"
        }
      ],
      "source": [
        "data.duplicated().sum()"
      ]
    },
    {
      "cell_type": "markdown",
      "metadata": {
        "id": "U1lx0SyYIAu3"
      },
      "source": [
        "Число незначительное. Удаляю."
      ]
    },
    {
      "cell_type": "code",
      "execution_count": null,
      "metadata": {
        "id": "aXkuX3jPIAu3",
        "outputId": "211f1b06-9542-4a1f-fc22-6f7fc102516f"
      },
      "outputs": [
        {
          "data": {
            "text/html": [
              "<div>\n",
              "<style scoped>\n",
              "    .dataframe tbody tr th:only-of-type {\n",
              "        vertical-align: middle;\n",
              "    }\n",
              "\n",
              "    .dataframe tbody tr th {\n",
              "        vertical-align: top;\n",
              "    }\n",
              "\n",
              "    .dataframe thead th {\n",
              "        text-align: right;\n",
              "    }\n",
              "</style>\n",
              "<table border=\"1\" class=\"dataframe\">\n",
              "  <thead>\n",
              "    <tr style=\"text-align: right;\">\n",
              "      <th></th>\n",
              "      <th>DateCrawled</th>\n",
              "      <th>Price</th>\n",
              "      <th>VehicleType</th>\n",
              "      <th>RegistrationYear</th>\n",
              "      <th>Gearbox</th>\n",
              "      <th>Power</th>\n",
              "      <th>Model</th>\n",
              "      <th>Kilometer</th>\n",
              "      <th>RegistrationMonth</th>\n",
              "      <th>FuelType</th>\n",
              "      <th>Brand</th>\n",
              "      <th>Repaired</th>\n",
              "      <th>DateCreated</th>\n",
              "      <th>NumberOfPictures</th>\n",
              "      <th>PostalCode</th>\n",
              "      <th>LastSeen</th>\n",
              "    </tr>\n",
              "  </thead>\n",
              "  <tbody>\n",
              "    <tr>\n",
              "      <th>0</th>\n",
              "      <td>2016-03-24 11:52:17</td>\n",
              "      <td>480</td>\n",
              "      <td>NaN</td>\n",
              "      <td>1993</td>\n",
              "      <td>manual</td>\n",
              "      <td>0</td>\n",
              "      <td>golf</td>\n",
              "      <td>150000</td>\n",
              "      <td>0</td>\n",
              "      <td>petrol</td>\n",
              "      <td>volkswagen</td>\n",
              "      <td>NaN</td>\n",
              "      <td>2016-03-24 00:00:00</td>\n",
              "      <td>0</td>\n",
              "      <td>70435</td>\n",
              "      <td>2016-04-07 03:16:57</td>\n",
              "    </tr>\n",
              "    <tr>\n",
              "      <th>1</th>\n",
              "      <td>2016-03-24 10:58:45</td>\n",
              "      <td>18300</td>\n",
              "      <td>coupe</td>\n",
              "      <td>2011</td>\n",
              "      <td>manual</td>\n",
              "      <td>190</td>\n",
              "      <td>NaN</td>\n",
              "      <td>125000</td>\n",
              "      <td>5</td>\n",
              "      <td>gasoline</td>\n",
              "      <td>audi</td>\n",
              "      <td>yes</td>\n",
              "      <td>2016-03-24 00:00:00</td>\n",
              "      <td>0</td>\n",
              "      <td>66954</td>\n",
              "      <td>2016-04-07 01:46:50</td>\n",
              "    </tr>\n",
              "    <tr>\n",
              "      <th>2</th>\n",
              "      <td>2016-03-14 12:52:21</td>\n",
              "      <td>9800</td>\n",
              "      <td>suv</td>\n",
              "      <td>2004</td>\n",
              "      <td>auto</td>\n",
              "      <td>163</td>\n",
              "      <td>grand</td>\n",
              "      <td>125000</td>\n",
              "      <td>8</td>\n",
              "      <td>gasoline</td>\n",
              "      <td>jeep</td>\n",
              "      <td>NaN</td>\n",
              "      <td>2016-03-14 00:00:00</td>\n",
              "      <td>0</td>\n",
              "      <td>90480</td>\n",
              "      <td>2016-04-05 12:47:46</td>\n",
              "    </tr>\n",
              "    <tr>\n",
              "      <th>3</th>\n",
              "      <td>2016-03-17 16:54:04</td>\n",
              "      <td>1500</td>\n",
              "      <td>small</td>\n",
              "      <td>2001</td>\n",
              "      <td>manual</td>\n",
              "      <td>75</td>\n",
              "      <td>golf</td>\n",
              "      <td>150000</td>\n",
              "      <td>6</td>\n",
              "      <td>petrol</td>\n",
              "      <td>volkswagen</td>\n",
              "      <td>no</td>\n",
              "      <td>2016-03-17 00:00:00</td>\n",
              "      <td>0</td>\n",
              "      <td>91074</td>\n",
              "      <td>2016-03-17 17:40:17</td>\n",
              "    </tr>\n",
              "    <tr>\n",
              "      <th>4</th>\n",
              "      <td>2016-03-31 17:25:20</td>\n",
              "      <td>3600</td>\n",
              "      <td>small</td>\n",
              "      <td>2008</td>\n",
              "      <td>manual</td>\n",
              "      <td>69</td>\n",
              "      <td>fabia</td>\n",
              "      <td>90000</td>\n",
              "      <td>7</td>\n",
              "      <td>gasoline</td>\n",
              "      <td>skoda</td>\n",
              "      <td>no</td>\n",
              "      <td>2016-03-31 00:00:00</td>\n",
              "      <td>0</td>\n",
              "      <td>60437</td>\n",
              "      <td>2016-04-06 10:17:21</td>\n",
              "    </tr>\n",
              "    <tr>\n",
              "      <th>...</th>\n",
              "      <td>...</td>\n",
              "      <td>...</td>\n",
              "      <td>...</td>\n",
              "      <td>...</td>\n",
              "      <td>...</td>\n",
              "      <td>...</td>\n",
              "      <td>...</td>\n",
              "      <td>...</td>\n",
              "      <td>...</td>\n",
              "      <td>...</td>\n",
              "      <td>...</td>\n",
              "      <td>...</td>\n",
              "      <td>...</td>\n",
              "      <td>...</td>\n",
              "      <td>...</td>\n",
              "      <td>...</td>\n",
              "    </tr>\n",
              "    <tr>\n",
              "      <th>354364</th>\n",
              "      <td>2016-03-21 09:50:58</td>\n",
              "      <td>0</td>\n",
              "      <td>NaN</td>\n",
              "      <td>2005</td>\n",
              "      <td>manual</td>\n",
              "      <td>0</td>\n",
              "      <td>colt</td>\n",
              "      <td>150000</td>\n",
              "      <td>7</td>\n",
              "      <td>petrol</td>\n",
              "      <td>mitsubishi</td>\n",
              "      <td>yes</td>\n",
              "      <td>2016-03-21 00:00:00</td>\n",
              "      <td>0</td>\n",
              "      <td>2694</td>\n",
              "      <td>2016-03-21 10:42:49</td>\n",
              "    </tr>\n",
              "    <tr>\n",
              "      <th>354365</th>\n",
              "      <td>2016-03-14 17:48:27</td>\n",
              "      <td>2200</td>\n",
              "      <td>NaN</td>\n",
              "      <td>2005</td>\n",
              "      <td>NaN</td>\n",
              "      <td>0</td>\n",
              "      <td>NaN</td>\n",
              "      <td>20000</td>\n",
              "      <td>1</td>\n",
              "      <td>NaN</td>\n",
              "      <td>sonstige_autos</td>\n",
              "      <td>NaN</td>\n",
              "      <td>2016-03-14 00:00:00</td>\n",
              "      <td>0</td>\n",
              "      <td>39576</td>\n",
              "      <td>2016-04-06 00:46:52</td>\n",
              "    </tr>\n",
              "    <tr>\n",
              "      <th>354366</th>\n",
              "      <td>2016-03-05 19:56:21</td>\n",
              "      <td>1199</td>\n",
              "      <td>convertible</td>\n",
              "      <td>2000</td>\n",
              "      <td>auto</td>\n",
              "      <td>101</td>\n",
              "      <td>fortwo</td>\n",
              "      <td>125000</td>\n",
              "      <td>3</td>\n",
              "      <td>petrol</td>\n",
              "      <td>smart</td>\n",
              "      <td>no</td>\n",
              "      <td>2016-03-05 00:00:00</td>\n",
              "      <td>0</td>\n",
              "      <td>26135</td>\n",
              "      <td>2016-03-11 18:17:12</td>\n",
              "    </tr>\n",
              "    <tr>\n",
              "      <th>354367</th>\n",
              "      <td>2016-03-19 18:57:12</td>\n",
              "      <td>9200</td>\n",
              "      <td>bus</td>\n",
              "      <td>1996</td>\n",
              "      <td>manual</td>\n",
              "      <td>102</td>\n",
              "      <td>transporter</td>\n",
              "      <td>150000</td>\n",
              "      <td>3</td>\n",
              "      <td>gasoline</td>\n",
              "      <td>volkswagen</td>\n",
              "      <td>no</td>\n",
              "      <td>2016-03-19 00:00:00</td>\n",
              "      <td>0</td>\n",
              "      <td>87439</td>\n",
              "      <td>2016-04-07 07:15:26</td>\n",
              "    </tr>\n",
              "    <tr>\n",
              "      <th>354368</th>\n",
              "      <td>2016-03-20 19:41:08</td>\n",
              "      <td>3400</td>\n",
              "      <td>wagon</td>\n",
              "      <td>2002</td>\n",
              "      <td>manual</td>\n",
              "      <td>100</td>\n",
              "      <td>golf</td>\n",
              "      <td>150000</td>\n",
              "      <td>6</td>\n",
              "      <td>gasoline</td>\n",
              "      <td>volkswagen</td>\n",
              "      <td>NaN</td>\n",
              "      <td>2016-03-20 00:00:00</td>\n",
              "      <td>0</td>\n",
              "      <td>40764</td>\n",
              "      <td>2016-03-24 12:45:21</td>\n",
              "    </tr>\n",
              "  </tbody>\n",
              "</table>\n",
              "<p>354365 rows × 16 columns</p>\n",
              "</div>"
            ],
            "text/plain": [
              "                DateCrawled  Price  VehicleType  RegistrationYear Gearbox  \\\n",
              "0       2016-03-24 11:52:17    480          NaN              1993  manual   \n",
              "1       2016-03-24 10:58:45  18300        coupe              2011  manual   \n",
              "2       2016-03-14 12:52:21   9800          suv              2004    auto   \n",
              "3       2016-03-17 16:54:04   1500        small              2001  manual   \n",
              "4       2016-03-31 17:25:20   3600        small              2008  manual   \n",
              "...                     ...    ...          ...               ...     ...   \n",
              "354364  2016-03-21 09:50:58      0          NaN              2005  manual   \n",
              "354365  2016-03-14 17:48:27   2200          NaN              2005     NaN   \n",
              "354366  2016-03-05 19:56:21   1199  convertible              2000    auto   \n",
              "354367  2016-03-19 18:57:12   9200          bus              1996  manual   \n",
              "354368  2016-03-20 19:41:08   3400        wagon              2002  manual   \n",
              "\n",
              "        Power        Model  Kilometer  RegistrationMonth  FuelType  \\\n",
              "0           0         golf     150000                  0    petrol   \n",
              "1         190          NaN     125000                  5  gasoline   \n",
              "2         163        grand     125000                  8  gasoline   \n",
              "3          75         golf     150000                  6    petrol   \n",
              "4          69        fabia      90000                  7  gasoline   \n",
              "...       ...          ...        ...                ...       ...   \n",
              "354364      0         colt     150000                  7    petrol   \n",
              "354365      0          NaN      20000                  1       NaN   \n",
              "354366    101       fortwo     125000                  3    petrol   \n",
              "354367    102  transporter     150000                  3  gasoline   \n",
              "354368    100         golf     150000                  6  gasoline   \n",
              "\n",
              "                 Brand Repaired          DateCreated  NumberOfPictures  \\\n",
              "0           volkswagen      NaN  2016-03-24 00:00:00                 0   \n",
              "1                 audi      yes  2016-03-24 00:00:00                 0   \n",
              "2                 jeep      NaN  2016-03-14 00:00:00                 0   \n",
              "3           volkswagen       no  2016-03-17 00:00:00                 0   \n",
              "4                skoda       no  2016-03-31 00:00:00                 0   \n",
              "...                ...      ...                  ...               ...   \n",
              "354364      mitsubishi      yes  2016-03-21 00:00:00                 0   \n",
              "354365  sonstige_autos      NaN  2016-03-14 00:00:00                 0   \n",
              "354366           smart       no  2016-03-05 00:00:00                 0   \n",
              "354367      volkswagen       no  2016-03-19 00:00:00                 0   \n",
              "354368      volkswagen      NaN  2016-03-20 00:00:00                 0   \n",
              "\n",
              "        PostalCode             LastSeen  \n",
              "0            70435  2016-04-07 03:16:57  \n",
              "1            66954  2016-04-07 01:46:50  \n",
              "2            90480  2016-04-05 12:47:46  \n",
              "3            91074  2016-03-17 17:40:17  \n",
              "4            60437  2016-04-06 10:17:21  \n",
              "...            ...                  ...  \n",
              "354364        2694  2016-03-21 10:42:49  \n",
              "354365       39576  2016-04-06 00:46:52  \n",
              "354366       26135  2016-03-11 18:17:12  \n",
              "354367       87439  2016-04-07 07:15:26  \n",
              "354368       40764  2016-03-24 12:45:21  \n",
              "\n",
              "[354365 rows x 16 columns]"
            ]
          },
          "execution_count": 6,
          "metadata": {},
          "output_type": "execute_result"
        }
      ],
      "source": [
        "data.drop_duplicates()"
      ]
    },
    {
      "cell_type": "markdown",
      "metadata": {
        "id": "VLOhkq9xIAu3"
      },
      "source": [
        "Вот теперь удаляю лишние по моему мнению столбцы:\n",
        "1. Дата скачивания анкеты из базы;\n",
        "2. Дата создания анкеты;\n",
        "3. Дата последней активности пользователя;\n",
        "4. Кол-во фотографий;\n",
        "5. Почтовый индекс."
      ]
    },
    {
      "cell_type": "code",
      "execution_count": null,
      "metadata": {
        "id": "et1nU2a3IAu3"
      },
      "outputs": [],
      "source": [
        "data = data.drop([\"DateCrawled\",\"DateCreated\",\"LastSeen\",\n",
        "                  \"NumberOfPictures\",\"PostalCode\"],axis = 1)"
      ]
    },
    {
      "cell_type": "code",
      "execution_count": null,
      "metadata": {
        "id": "Nuhbb_bTIAu4",
        "outputId": "19ca8902-4958-4eeb-f56e-fb40a52fe6dc"
      },
      "outputs": [
        {
          "data": {
            "text/html": [
              "<div>\n",
              "<style scoped>\n",
              "    .dataframe tbody tr th:only-of-type {\n",
              "        vertical-align: middle;\n",
              "    }\n",
              "\n",
              "    .dataframe tbody tr th {\n",
              "        vertical-align: top;\n",
              "    }\n",
              "\n",
              "    .dataframe thead th {\n",
              "        text-align: right;\n",
              "    }\n",
              "</style>\n",
              "<table border=\"1\" class=\"dataframe\">\n",
              "  <thead>\n",
              "    <tr style=\"text-align: right;\">\n",
              "      <th></th>\n",
              "      <th>Price</th>\n",
              "      <th>VehicleType</th>\n",
              "      <th>RegistrationYear</th>\n",
              "      <th>Gearbox</th>\n",
              "      <th>Power</th>\n",
              "      <th>Model</th>\n",
              "      <th>Kilometer</th>\n",
              "      <th>RegistrationMonth</th>\n",
              "      <th>FuelType</th>\n",
              "      <th>Brand</th>\n",
              "      <th>Repaired</th>\n",
              "    </tr>\n",
              "  </thead>\n",
              "  <tbody>\n",
              "    <tr>\n",
              "      <th>0</th>\n",
              "      <td>480</td>\n",
              "      <td>NaN</td>\n",
              "      <td>1993</td>\n",
              "      <td>manual</td>\n",
              "      <td>0</td>\n",
              "      <td>golf</td>\n",
              "      <td>150000</td>\n",
              "      <td>0</td>\n",
              "      <td>petrol</td>\n",
              "      <td>volkswagen</td>\n",
              "      <td>NaN</td>\n",
              "    </tr>\n",
              "    <tr>\n",
              "      <th>1</th>\n",
              "      <td>18300</td>\n",
              "      <td>coupe</td>\n",
              "      <td>2011</td>\n",
              "      <td>manual</td>\n",
              "      <td>190</td>\n",
              "      <td>NaN</td>\n",
              "      <td>125000</td>\n",
              "      <td>5</td>\n",
              "      <td>gasoline</td>\n",
              "      <td>audi</td>\n",
              "      <td>yes</td>\n",
              "    </tr>\n",
              "    <tr>\n",
              "      <th>2</th>\n",
              "      <td>9800</td>\n",
              "      <td>suv</td>\n",
              "      <td>2004</td>\n",
              "      <td>auto</td>\n",
              "      <td>163</td>\n",
              "      <td>grand</td>\n",
              "      <td>125000</td>\n",
              "      <td>8</td>\n",
              "      <td>gasoline</td>\n",
              "      <td>jeep</td>\n",
              "      <td>NaN</td>\n",
              "    </tr>\n",
              "    <tr>\n",
              "      <th>3</th>\n",
              "      <td>1500</td>\n",
              "      <td>small</td>\n",
              "      <td>2001</td>\n",
              "      <td>manual</td>\n",
              "      <td>75</td>\n",
              "      <td>golf</td>\n",
              "      <td>150000</td>\n",
              "      <td>6</td>\n",
              "      <td>petrol</td>\n",
              "      <td>volkswagen</td>\n",
              "      <td>no</td>\n",
              "    </tr>\n",
              "    <tr>\n",
              "      <th>4</th>\n",
              "      <td>3600</td>\n",
              "      <td>small</td>\n",
              "      <td>2008</td>\n",
              "      <td>manual</td>\n",
              "      <td>69</td>\n",
              "      <td>fabia</td>\n",
              "      <td>90000</td>\n",
              "      <td>7</td>\n",
              "      <td>gasoline</td>\n",
              "      <td>skoda</td>\n",
              "      <td>no</td>\n",
              "    </tr>\n",
              "  </tbody>\n",
              "</table>\n",
              "</div>"
            ],
            "text/plain": [
              "   Price VehicleType  RegistrationYear Gearbox  Power  Model  Kilometer  \\\n",
              "0    480         NaN              1993  manual      0   golf     150000   \n",
              "1  18300       coupe              2011  manual    190    NaN     125000   \n",
              "2   9800         suv              2004    auto    163  grand     125000   \n",
              "3   1500       small              2001  manual     75   golf     150000   \n",
              "4   3600       small              2008  manual     69  fabia      90000   \n",
              "\n",
              "   RegistrationMonth  FuelType       Brand Repaired  \n",
              "0                  0    petrol  volkswagen      NaN  \n",
              "1                  5  gasoline        audi      yes  \n",
              "2                  8  gasoline        jeep      NaN  \n",
              "3                  6    petrol  volkswagen       no  \n",
              "4                  7  gasoline       skoda       no  "
            ]
          },
          "execution_count": 8,
          "metadata": {},
          "output_type": "execute_result"
        }
      ],
      "source": [
        "data.head()"
      ]
    },
    {
      "cell_type": "markdown",
      "metadata": {
        "id": "mO1b7BKeIAu4"
      },
      "source": [
        "Теперь вернусь к эстетической стороне. Сначала переведу имена в строчный шрифт."
      ]
    },
    {
      "cell_type": "code",
      "execution_count": null,
      "metadata": {
        "id": "gE5IdHLMIAu4",
        "outputId": "1d613949-ca1f-432f-c329-fb1550eebfcc"
      },
      "outputs": [
        {
          "data": {
            "text/html": [
              "<div>\n",
              "<style scoped>\n",
              "    .dataframe tbody tr th:only-of-type {\n",
              "        vertical-align: middle;\n",
              "    }\n",
              "\n",
              "    .dataframe tbody tr th {\n",
              "        vertical-align: top;\n",
              "    }\n",
              "\n",
              "    .dataframe thead th {\n",
              "        text-align: right;\n",
              "    }\n",
              "</style>\n",
              "<table border=\"1\" class=\"dataframe\">\n",
              "  <thead>\n",
              "    <tr style=\"text-align: right;\">\n",
              "      <th></th>\n",
              "      <th>price</th>\n",
              "      <th>vehicletype</th>\n",
              "      <th>registrationyear</th>\n",
              "      <th>gearbox</th>\n",
              "      <th>power</th>\n",
              "      <th>model</th>\n",
              "      <th>kilometer</th>\n",
              "      <th>registrationmonth</th>\n",
              "      <th>fueltype</th>\n",
              "      <th>brand</th>\n",
              "      <th>repaired</th>\n",
              "    </tr>\n",
              "  </thead>\n",
              "  <tbody>\n",
              "    <tr>\n",
              "      <th>0</th>\n",
              "      <td>480</td>\n",
              "      <td>NaN</td>\n",
              "      <td>1993</td>\n",
              "      <td>manual</td>\n",
              "      <td>0</td>\n",
              "      <td>golf</td>\n",
              "      <td>150000</td>\n",
              "      <td>0</td>\n",
              "      <td>petrol</td>\n",
              "      <td>volkswagen</td>\n",
              "      <td>NaN</td>\n",
              "    </tr>\n",
              "    <tr>\n",
              "      <th>1</th>\n",
              "      <td>18300</td>\n",
              "      <td>coupe</td>\n",
              "      <td>2011</td>\n",
              "      <td>manual</td>\n",
              "      <td>190</td>\n",
              "      <td>NaN</td>\n",
              "      <td>125000</td>\n",
              "      <td>5</td>\n",
              "      <td>gasoline</td>\n",
              "      <td>audi</td>\n",
              "      <td>yes</td>\n",
              "    </tr>\n",
              "    <tr>\n",
              "      <th>2</th>\n",
              "      <td>9800</td>\n",
              "      <td>suv</td>\n",
              "      <td>2004</td>\n",
              "      <td>auto</td>\n",
              "      <td>163</td>\n",
              "      <td>grand</td>\n",
              "      <td>125000</td>\n",
              "      <td>8</td>\n",
              "      <td>gasoline</td>\n",
              "      <td>jeep</td>\n",
              "      <td>NaN</td>\n",
              "    </tr>\n",
              "    <tr>\n",
              "      <th>3</th>\n",
              "      <td>1500</td>\n",
              "      <td>small</td>\n",
              "      <td>2001</td>\n",
              "      <td>manual</td>\n",
              "      <td>75</td>\n",
              "      <td>golf</td>\n",
              "      <td>150000</td>\n",
              "      <td>6</td>\n",
              "      <td>petrol</td>\n",
              "      <td>volkswagen</td>\n",
              "      <td>no</td>\n",
              "    </tr>\n",
              "    <tr>\n",
              "      <th>4</th>\n",
              "      <td>3600</td>\n",
              "      <td>small</td>\n",
              "      <td>2008</td>\n",
              "      <td>manual</td>\n",
              "      <td>69</td>\n",
              "      <td>fabia</td>\n",
              "      <td>90000</td>\n",
              "      <td>7</td>\n",
              "      <td>gasoline</td>\n",
              "      <td>skoda</td>\n",
              "      <td>no</td>\n",
              "    </tr>\n",
              "  </tbody>\n",
              "</table>\n",
              "</div>"
            ],
            "text/plain": [
              "   price vehicletype  registrationyear gearbox  power  model  kilometer  \\\n",
              "0    480         NaN              1993  manual      0   golf     150000   \n",
              "1  18300       coupe              2011  manual    190    NaN     125000   \n",
              "2   9800         suv              2004    auto    163  grand     125000   \n",
              "3   1500       small              2001  manual     75   golf     150000   \n",
              "4   3600       small              2008  manual     69  fabia      90000   \n",
              "\n",
              "   registrationmonth  fueltype       brand repaired  \n",
              "0                  0    petrol  volkswagen      NaN  \n",
              "1                  5  gasoline        audi      yes  \n",
              "2                  8  gasoline        jeep      NaN  \n",
              "3                  6    petrol  volkswagen       no  \n",
              "4                  7  gasoline       skoda       no  "
            ]
          },
          "execution_count": 9,
          "metadata": {},
          "output_type": "execute_result"
        }
      ],
      "source": [
        "data.columns = data.columns.str.lower()\n",
        "data.head()"
      ]
    },
    {
      "cell_type": "markdown",
      "metadata": {
        "id": "wkKZ_WjQIAu4"
      },
      "source": [
        "А затем - в змеиный стиль."
      ]
    },
    {
      "cell_type": "code",
      "execution_count": null,
      "metadata": {
        "id": "pIMjBl6hIAu5",
        "outputId": "8ce71c7e-7a7d-4b9c-e1fd-94899a8a2dfd"
      },
      "outputs": [
        {
          "data": {
            "text/html": [
              "<div>\n",
              "<style scoped>\n",
              "    .dataframe tbody tr th:only-of-type {\n",
              "        vertical-align: middle;\n",
              "    }\n",
              "\n",
              "    .dataframe tbody tr th {\n",
              "        vertical-align: top;\n",
              "    }\n",
              "\n",
              "    .dataframe thead th {\n",
              "        text-align: right;\n",
              "    }\n",
              "</style>\n",
              "<table border=\"1\" class=\"dataframe\">\n",
              "  <thead>\n",
              "    <tr style=\"text-align: right;\">\n",
              "      <th></th>\n",
              "      <th>price</th>\n",
              "      <th>vehicle_type</th>\n",
              "      <th>registration_year</th>\n",
              "      <th>gearbox</th>\n",
              "      <th>power</th>\n",
              "      <th>model</th>\n",
              "      <th>kilometer</th>\n",
              "      <th>registration_month</th>\n",
              "      <th>fuel_type</th>\n",
              "      <th>brand</th>\n",
              "      <th>repaired</th>\n",
              "    </tr>\n",
              "  </thead>\n",
              "  <tbody>\n",
              "    <tr>\n",
              "      <th>0</th>\n",
              "      <td>480</td>\n",
              "      <td>NaN</td>\n",
              "      <td>1993</td>\n",
              "      <td>manual</td>\n",
              "      <td>0</td>\n",
              "      <td>golf</td>\n",
              "      <td>150000</td>\n",
              "      <td>0</td>\n",
              "      <td>petrol</td>\n",
              "      <td>volkswagen</td>\n",
              "      <td>NaN</td>\n",
              "    </tr>\n",
              "    <tr>\n",
              "      <th>1</th>\n",
              "      <td>18300</td>\n",
              "      <td>coupe</td>\n",
              "      <td>2011</td>\n",
              "      <td>manual</td>\n",
              "      <td>190</td>\n",
              "      <td>NaN</td>\n",
              "      <td>125000</td>\n",
              "      <td>5</td>\n",
              "      <td>gasoline</td>\n",
              "      <td>audi</td>\n",
              "      <td>yes</td>\n",
              "    </tr>\n",
              "    <tr>\n",
              "      <th>2</th>\n",
              "      <td>9800</td>\n",
              "      <td>suv</td>\n",
              "      <td>2004</td>\n",
              "      <td>auto</td>\n",
              "      <td>163</td>\n",
              "      <td>grand</td>\n",
              "      <td>125000</td>\n",
              "      <td>8</td>\n",
              "      <td>gasoline</td>\n",
              "      <td>jeep</td>\n",
              "      <td>NaN</td>\n",
              "    </tr>\n",
              "    <tr>\n",
              "      <th>3</th>\n",
              "      <td>1500</td>\n",
              "      <td>small</td>\n",
              "      <td>2001</td>\n",
              "      <td>manual</td>\n",
              "      <td>75</td>\n",
              "      <td>golf</td>\n",
              "      <td>150000</td>\n",
              "      <td>6</td>\n",
              "      <td>petrol</td>\n",
              "      <td>volkswagen</td>\n",
              "      <td>no</td>\n",
              "    </tr>\n",
              "    <tr>\n",
              "      <th>4</th>\n",
              "      <td>3600</td>\n",
              "      <td>small</td>\n",
              "      <td>2008</td>\n",
              "      <td>manual</td>\n",
              "      <td>69</td>\n",
              "      <td>fabia</td>\n",
              "      <td>90000</td>\n",
              "      <td>7</td>\n",
              "      <td>gasoline</td>\n",
              "      <td>skoda</td>\n",
              "      <td>no</td>\n",
              "    </tr>\n",
              "  </tbody>\n",
              "</table>\n",
              "</div>"
            ],
            "text/plain": [
              "   price vehicle_type  registration_year gearbox  power  model  kilometer  \\\n",
              "0    480          NaN               1993  manual      0   golf     150000   \n",
              "1  18300        coupe               2011  manual    190    NaN     125000   \n",
              "2   9800          suv               2004    auto    163  grand     125000   \n",
              "3   1500        small               2001  manual     75   golf     150000   \n",
              "4   3600        small               2008  manual     69  fabia      90000   \n",
              "\n",
              "   registration_month fuel_type       brand repaired  \n",
              "0                   0    petrol  volkswagen      NaN  \n",
              "1                   5  gasoline        audi      yes  \n",
              "2                   8  gasoline        jeep      NaN  \n",
              "3                   6    petrol  volkswagen       no  \n",
              "4                   7  gasoline       skoda       no  "
            ]
          },
          "execution_count": 10,
          "metadata": {},
          "output_type": "execute_result"
        }
      ],
      "source": [
        "data = data.rename(columns={'vehicletype': 'vehicle_type', 'registrationyear': 'registration_year',\n",
        "                           'registrationmonth':'registration_month', 'fueltype':'fuel_type'})\n",
        "data.head()"
      ]
    },
    {
      "cell_type": "markdown",
      "metadata": {
        "id": "2sgAy83lIAu6"
      },
      "source": [
        "Теперь посмотрю на пропуска."
      ]
    },
    {
      "cell_type": "code",
      "execution_count": null,
      "metadata": {
        "id": "25ZusnQWIAu6",
        "outputId": "362ead62-edb5-4f8f-dd9f-5e497e2752d1"
      },
      "outputs": [
        {
          "name": "stdout",
          "output_type": "stream",
          "text": [
            "<class 'pandas.core.frame.DataFrame'>\n",
            "RangeIndex: 354369 entries, 0 to 354368\n",
            "Data columns (total 11 columns):\n",
            " #   Column              Non-Null Count   Dtype \n",
            "---  ------              --------------   ----- \n",
            " 0   price               354369 non-null  int64 \n",
            " 1   vehicle_type        316879 non-null  object\n",
            " 2   registration_year   354369 non-null  int64 \n",
            " 3   gearbox             334536 non-null  object\n",
            " 4   power               354369 non-null  int64 \n",
            " 5   model               334664 non-null  object\n",
            " 6   kilometer           354369 non-null  int64 \n",
            " 7   registration_month  354369 non-null  int64 \n",
            " 8   fuel_type           321474 non-null  object\n",
            " 9   brand               354369 non-null  object\n",
            " 10  repaired            283215 non-null  object\n",
            "dtypes: int64(5), object(6)\n",
            "memory usage: 29.7+ MB\n"
          ]
        }
      ],
      "source": [
        "data.info()"
      ]
    },
    {
      "cell_type": "code",
      "execution_count": null,
      "metadata": {
        "id": "s5s6DD7TIAu6",
        "outputId": "3b3d51a8-d863-4ab5-943e-b9de88c1ea52"
      },
      "outputs": [
        {
          "data": {
            "image/png": "[encoded data removed]",
            "text/plain": [
              "<Figure size 432x288 with 2 Axes>"
            ]
          },
          "metadata": {
            "needs_background": "light"
          },
          "output_type": "display_data"
        }
      ],
      "source": [
        "sb.heatmap(data.corr(), annot=True, linewidths=3, linecolor='white')\n",
        "plt.title('Корреляция персональных данных')\n",
        "plt.show()"
      ]
    },
    {
      "cell_type": "code",
      "execution_count": null,
      "metadata": {
        "id": "5uMgsWwSIAu7",
        "outputId": "21fc93aa-fe52-4ab5-a19d-2ce5911bbaed"
      },
      "outputs": [
        {
          "data": {
            "text/plain": [
              "price                     0\n",
              "vehicle_type          37490\n",
              "registration_year         0\n",
              "gearbox               19833\n",
              "power                     0\n",
              "model                 19705\n",
              "kilometer                 0\n",
              "registration_month        0\n",
              "fuel_type             32895\n",
              "brand                     0\n",
              "repaired              71154\n",
              "dtype: int64"
            ]
          },
          "execution_count": 13,
          "metadata": {},
          "output_type": "execute_result"
        }
      ],
      "source": [
        "data.isna().sum()"
      ]
    },
    {
      "cell_type": "markdown",
      "metadata": {
        "id": "mBrkhbGMIAu7"
      },
      "source": [
        "С одной стороны - количество пропусков по пяти столбцам огромно и нужно что-то сделать. С другой - просто заменить каким-то значением отстутвующие данные нельзя. Подумаю. Пока взгляну на некоторые данные для интереса с точки зрения цены."
      ]
    },
    {
      "cell_type": "code",
      "execution_count": null,
      "metadata": {
        "id": "0VIxytHrIAu7",
        "outputId": "f2e27f51-415d-4e84-e233-1bd3b9974249"
      },
      "outputs": [
        {
          "data": {
            "text/plain": [
              "Text(0.5, 0, 'Цена, руб')"
            ]
          },
          "execution_count": 14,
          "metadata": {},
          "output_type": "execute_result"
        },
        {
          "data": {
            "image/png": "[encoded data removed]",
            "text/plain": [
              "<Figure size 1440x720 with 1 Axes>"
            ]
          },
          "metadata": {
            "needs_background": "light"
          },
          "output_type": "display_data"
        }
      ],
      "source": [
        "data.pivot_table(index = 'vehicle_type',\n",
        "                            values = 'price', aggfunc = 'mean').plot(kind = 'barh',\n",
        "                                                                     figsize=(20,10),\n",
        "                                                                     legend = False)\n",
        "plt.title(\"Средняя цена автомобиля в зависимости от типа кузова\")\n",
        "plt.ylabel(\"Тип кузова\")\n",
        "plt.xlabel(\"Цена, руб\")"
      ]
    },
    {
      "cell_type": "code",
      "execution_count": null,
      "metadata": {
        "id": "jjV5rsAXIAu9",
        "outputId": "7aa0d3b0-8484-4cc9-ad3e-26eafdbda786"
      },
      "outputs": [
        {
          "data": {
            "text/plain": [
              "Text(0.5, 0, 'Цена, руб')"
            ]
          },
          "execution_count": 15,
          "metadata": {},
          "output_type": "execute_result"
        },
        {
          "data": {
            "image/png": "[encoded data removed]",
            "text/plain": [
              "<Figure size 1440x720 with 1 Axes>"
            ]
          },
          "metadata": {
            "needs_background": "light"
          },
          "output_type": "display_data"
        }
      ],
      "source": [
        "data.pivot_table(index = 'gearbox',\n",
        "                            values = 'price', aggfunc = 'mean').plot(kind = 'barh',\n",
        "                                                                     figsize=(20,10),\n",
        "                                                                     legend = False)\n",
        "plt.title(\"Средняя цена автомобиля в зависимости от типа коробки передач\")\n",
        "plt.ylabel(\"Тип КПП\")\n",
        "plt.xlabel(\"Цена, руб\")"
      ]
    },
    {
      "cell_type": "code",
      "execution_count": null,
      "metadata": {
        "id": "F7ls8LsBIAu9",
        "outputId": "f94522b0-629e-47f8-d3cf-5331cabbdbba"
      },
      "outputs": [
        {
          "data": {
            "text/html": [
              "<div>\n",
              "<style scoped>\n",
              "    .dataframe tbody tr th:only-of-type {\n",
              "        vertical-align: middle;\n",
              "    }\n",
              "\n",
              "    .dataframe tbody tr th {\n",
              "        vertical-align: top;\n",
              "    }\n",
              "\n",
              "    .dataframe thead th {\n",
              "        text-align: right;\n",
              "    }\n",
              "</style>\n",
              "<table border=\"1\" class=\"dataframe\">\n",
              "  <thead>\n",
              "    <tr style=\"text-align: right;\">\n",
              "      <th></th>\n",
              "      <th>price</th>\n",
              "      <th>registration_year</th>\n",
              "      <th>power</th>\n",
              "      <th>kilometer</th>\n",
              "      <th>registration_month</th>\n",
              "    </tr>\n",
              "  </thead>\n",
              "  <tbody>\n",
              "    <tr>\n",
              "      <th>count</th>\n",
              "      <td>354369.000000</td>\n",
              "      <td>354369.000000</td>\n",
              "      <td>354369.000000</td>\n",
              "      <td>354369.000000</td>\n",
              "      <td>354369.000000</td>\n",
              "    </tr>\n",
              "    <tr>\n",
              "      <th>mean</th>\n",
              "      <td>4416.656776</td>\n",
              "      <td>2004.234448</td>\n",
              "      <td>110.094337</td>\n",
              "      <td>128211.172535</td>\n",
              "      <td>5.714645</td>\n",
              "    </tr>\n",
              "    <tr>\n",
              "      <th>std</th>\n",
              "      <td>4514.158514</td>\n",
              "      <td>90.227958</td>\n",
              "      <td>189.850405</td>\n",
              "      <td>37905.341530</td>\n",
              "      <td>3.726421</td>\n",
              "    </tr>\n",
              "    <tr>\n",
              "      <th>min</th>\n",
              "      <td>0.000000</td>\n",
              "      <td>1000.000000</td>\n",
              "      <td>0.000000</td>\n",
              "      <td>5000.000000</td>\n",
              "      <td>0.000000</td>\n",
              "    </tr>\n",
              "    <tr>\n",
              "      <th>25%</th>\n",
              "      <td>1050.000000</td>\n",
              "      <td>1999.000000</td>\n",
              "      <td>69.000000</td>\n",
              "      <td>125000.000000</td>\n",
              "      <td>3.000000</td>\n",
              "    </tr>\n",
              "    <tr>\n",
              "      <th>50%</th>\n",
              "      <td>2700.000000</td>\n",
              "      <td>2003.000000</td>\n",
              "      <td>105.000000</td>\n",
              "      <td>150000.000000</td>\n",
              "      <td>6.000000</td>\n",
              "    </tr>\n",
              "    <tr>\n",
              "      <th>75%</th>\n",
              "      <td>6400.000000</td>\n",
              "      <td>2008.000000</td>\n",
              "      <td>143.000000</td>\n",
              "      <td>150000.000000</td>\n",
              "      <td>9.000000</td>\n",
              "    </tr>\n",
              "    <tr>\n",
              "      <th>max</th>\n",
              "      <td>20000.000000</td>\n",
              "      <td>9999.000000</td>\n",
              "      <td>20000.000000</td>\n",
              "      <td>150000.000000</td>\n",
              "      <td>12.000000</td>\n",
              "    </tr>\n",
              "  </tbody>\n",
              "</table>\n",
              "</div>"
            ],
            "text/plain": [
              "               price  registration_year          power      kilometer  \\\n",
              "count  354369.000000      354369.000000  354369.000000  354369.000000   \n",
              "mean     4416.656776        2004.234448     110.094337  128211.172535   \n",
              "std      4514.158514          90.227958     189.850405   37905.341530   \n",
              "min         0.000000        1000.000000       0.000000    5000.000000   \n",
              "25%      1050.000000        1999.000000      69.000000  125000.000000   \n",
              "50%      2700.000000        2003.000000     105.000000  150000.000000   \n",
              "75%      6400.000000        2008.000000     143.000000  150000.000000   \n",
              "max     20000.000000        9999.000000   20000.000000  150000.000000   \n",
              "\n",
              "       registration_month  \n",
              "count       354369.000000  \n",
              "mean             5.714645  \n",
              "std              3.726421  \n",
              "min              0.000000  \n",
              "25%              3.000000  \n",
              "50%              6.000000  \n",
              "75%              9.000000  \n",
              "max             12.000000  "
            ]
          },
          "execution_count": 16,
          "metadata": {},
          "output_type": "execute_result"
        }
      ],
      "source": [
        "data.describe()"
      ]
    },
    {
      "cell_type": "markdown",
      "metadata": {
        "id": "jIOGBLpzIAu9"
      },
      "source": [
        "В столбцах с количественными признаками видно \"странности\". Год регистрации, например. Ограничу периодом 1980-2023. Проверю на боксплоте ещё."
      ]
    },
    {
      "cell_type": "code",
      "execution_count": null,
      "metadata": {
        "id": "BSgEYwSeIAu-",
        "outputId": "30188bca-da2b-4a5a-afe0-67704d25ab63"
      },
      "outputs": [
        {
          "data": {
            "image/png": "[encoded data removed]",
            "text/plain": [
              "<Figure size 864x360 with 1 Axes>"
            ]
          },
          "metadata": {
            "needs_background": "light"
          },
          "output_type": "display_data"
        }
      ],
      "source": [
        "data.boxplot(column='registration_year', showfliers=False, figsize=(12, 5))\n",
        "plt.ylabel('Год регистрации')\n",
        "plt.title('Распределение по году регистрации')\n",
        "plt.show()"
      ]
    },
    {
      "cell_type": "code",
      "execution_count": null,
      "metadata": {
        "id": "xFD4vol3IAu-"
      },
      "outputs": [],
      "source": [
        "data = data[(data['registration_year'] >= 1980) & (data['registration_year'] < 2017)]\n"
      ]
    },
    {
      "cell_type": "markdown",
      "metadata": {
        "id": "Jrt5ekN7IAu_"
      },
      "source": [
        "Мой период даже избыточен, но оставлю как есть."
      ]
    },
    {
      "cell_type": "code",
      "execution_count": null,
      "metadata": {
        "id": "IY3dMFAVIAu_",
        "outputId": "a44b3018-fa60-43e4-af2b-ba2858a5d667"
      },
      "outputs": [
        {
          "data": {
            "text/html": [
              "<div>\n",
              "<style scoped>\n",
              "    .dataframe tbody tr th:only-of-type {\n",
              "        vertical-align: middle;\n",
              "    }\n",
              "\n",
              "    .dataframe tbody tr th {\n",
              "        vertical-align: top;\n",
              "    }\n",
              "\n",
              "    .dataframe thead th {\n",
              "        text-align: right;\n",
              "    }\n",
              "</style>\n",
              "<table border=\"1\" class=\"dataframe\">\n",
              "  <thead>\n",
              "    <tr style=\"text-align: right;\">\n",
              "      <th></th>\n",
              "      <th>price</th>\n",
              "      <th>registration_year</th>\n",
              "      <th>power</th>\n",
              "      <th>kilometer</th>\n",
              "      <th>registration_month</th>\n",
              "    </tr>\n",
              "  </thead>\n",
              "  <tbody>\n",
              "    <tr>\n",
              "      <th>count</th>\n",
              "      <td>336387.000000</td>\n",
              "      <td>336387.000000</td>\n",
              "      <td>336387.000000</td>\n",
              "      <td>336387.000000</td>\n",
              "      <td>336387.000000</td>\n",
              "    </tr>\n",
              "    <tr>\n",
              "      <th>mean</th>\n",
              "      <td>4447.274794</td>\n",
              "      <td>2002.828894</td>\n",
              "      <td>111.366973</td>\n",
              "      <td>128513.839714</td>\n",
              "      <td>5.770615</td>\n",
              "    </tr>\n",
              "    <tr>\n",
              "      <th>std</th>\n",
              "      <td>4526.680863</td>\n",
              "      <td>6.081984</td>\n",
              "      <td>185.510237</td>\n",
              "      <td>37473.848050</td>\n",
              "      <td>3.707441</td>\n",
              "    </tr>\n",
              "    <tr>\n",
              "      <th>min</th>\n",
              "      <td>0.000000</td>\n",
              "      <td>1980.000000</td>\n",
              "      <td>0.000000</td>\n",
              "      <td>5000.000000</td>\n",
              "      <td>0.000000</td>\n",
              "    </tr>\n",
              "    <tr>\n",
              "      <th>25%</th>\n",
              "      <td>1099.000000</td>\n",
              "      <td>1999.000000</td>\n",
              "      <td>70.000000</td>\n",
              "      <td>125000.000000</td>\n",
              "      <td>3.000000</td>\n",
              "    </tr>\n",
              "    <tr>\n",
              "      <th>50%</th>\n",
              "      <td>2750.000000</td>\n",
              "      <td>2003.000000</td>\n",
              "      <td>105.000000</td>\n",
              "      <td>150000.000000</td>\n",
              "      <td>6.000000</td>\n",
              "    </tr>\n",
              "    <tr>\n",
              "      <th>75%</th>\n",
              "      <td>6499.000000</td>\n",
              "      <td>2007.000000</td>\n",
              "      <td>143.000000</td>\n",
              "      <td>150000.000000</td>\n",
              "      <td>9.000000</td>\n",
              "    </tr>\n",
              "    <tr>\n",
              "      <th>max</th>\n",
              "      <td>20000.000000</td>\n",
              "      <td>2016.000000</td>\n",
              "      <td>20000.000000</td>\n",
              "      <td>150000.000000</td>\n",
              "      <td>12.000000</td>\n",
              "    </tr>\n",
              "  </tbody>\n",
              "</table>\n",
              "</div>"
            ],
            "text/plain": [
              "               price  registration_year          power      kilometer  \\\n",
              "count  336387.000000      336387.000000  336387.000000  336387.000000   \n",
              "mean     4447.274794        2002.828894     111.366973  128513.839714   \n",
              "std      4526.680863           6.081984     185.510237   37473.848050   \n",
              "min         0.000000        1980.000000       0.000000    5000.000000   \n",
              "25%      1099.000000        1999.000000      70.000000  125000.000000   \n",
              "50%      2750.000000        2003.000000     105.000000  150000.000000   \n",
              "75%      6499.000000        2007.000000     143.000000  150000.000000   \n",
              "max     20000.000000        2016.000000   20000.000000  150000.000000   \n",
              "\n",
              "       registration_month  \n",
              "count       336387.000000  \n",
              "mean             5.770615  \n",
              "std              3.707441  \n",
              "min              0.000000  \n",
              "25%              3.000000  \n",
              "50%              6.000000  \n",
              "75%              9.000000  \n",
              "max             12.000000  "
            ]
          },
          "execution_count": 19,
          "metadata": {},
          "output_type": "execute_result"
        }
      ],
      "source": [
        "data.describe()"
      ]
    },
    {
      "cell_type": "markdown",
      "metadata": {
        "id": "j5DBnIZrIAu_"
      },
      "source": [
        "Теперь цена. Ну явно должна быть ненулевой. Как-то жёсче отсекать не буду. Возможно, в процессе ревью буду пояснения, как в данном моменте лучше рассуждать."
      ]
    },
    {
      "cell_type": "code",
      "execution_count": null,
      "metadata": {
        "id": "o2ImQyfPIAu_"
      },
      "outputs": [],
      "source": [
        "data = data[(data['price'] != 0) & (data['price'] > 400)]"
      ]
    },
    {
      "cell_type": "code",
      "execution_count": null,
      "metadata": {
        "id": "ZLegzcSLIAvA",
        "outputId": "f54613ba-3325-425d-97ae-5e6f8db81265"
      },
      "outputs": [
        {
          "data": {
            "text/html": [
              "<div>\n",
              "<style scoped>\n",
              "    .dataframe tbody tr th:only-of-type {\n",
              "        vertical-align: middle;\n",
              "    }\n",
              "\n",
              "    .dataframe tbody tr th {\n",
              "        vertical-align: top;\n",
              "    }\n",
              "\n",
              "    .dataframe thead th {\n",
              "        text-align: right;\n",
              "    }\n",
              "</style>\n",
              "<table border=\"1\" class=\"dataframe\">\n",
              "  <thead>\n",
              "    <tr style=\"text-align: right;\">\n",
              "      <th></th>\n",
              "      <th>price</th>\n",
              "      <th>registration_year</th>\n",
              "      <th>power</th>\n",
              "      <th>kilometer</th>\n",
              "      <th>registration_month</th>\n",
              "    </tr>\n",
              "  </thead>\n",
              "  <tbody>\n",
              "    <tr>\n",
              "      <th>count</th>\n",
              "      <td>305744.000000</td>\n",
              "      <td>305744.000000</td>\n",
              "      <td>305744.000000</td>\n",
              "      <td>305744.000000</td>\n",
              "      <td>305744.000000</td>\n",
              "    </tr>\n",
              "    <tr>\n",
              "      <th>mean</th>\n",
              "      <td>4876.278867</td>\n",
              "      <td>2003.175981</td>\n",
              "      <td>115.807247</td>\n",
              "      <td>128349.566958</td>\n",
              "      <td>5.951669</td>\n",
              "    </tr>\n",
              "    <tr>\n",
              "      <th>std</th>\n",
              "      <td>4530.113634</td>\n",
              "      <td>5.901369</td>\n",
              "      <td>184.826750</td>\n",
              "      <td>36849.628373</td>\n",
              "      <td>3.628428</td>\n",
              "    </tr>\n",
              "    <tr>\n",
              "      <th>min</th>\n",
              "      <td>408.000000</td>\n",
              "      <td>1980.000000</td>\n",
              "      <td>0.000000</td>\n",
              "      <td>5000.000000</td>\n",
              "      <td>0.000000</td>\n",
              "    </tr>\n",
              "    <tr>\n",
              "      <th>25%</th>\n",
              "      <td>1450.000000</td>\n",
              "      <td>1999.000000</td>\n",
              "      <td>75.000000</td>\n",
              "      <td>125000.000000</td>\n",
              "      <td>3.000000</td>\n",
              "    </tr>\n",
              "    <tr>\n",
              "      <th>50%</th>\n",
              "      <td>3200.000000</td>\n",
              "      <td>2003.000000</td>\n",
              "      <td>109.000000</td>\n",
              "      <td>150000.000000</td>\n",
              "      <td>6.000000</td>\n",
              "    </tr>\n",
              "    <tr>\n",
              "      <th>75%</th>\n",
              "      <td>6950.000000</td>\n",
              "      <td>2007.000000</td>\n",
              "      <td>147.000000</td>\n",
              "      <td>150000.000000</td>\n",
              "      <td>9.000000</td>\n",
              "    </tr>\n",
              "    <tr>\n",
              "      <th>max</th>\n",
              "      <td>20000.000000</td>\n",
              "      <td>2016.000000</td>\n",
              "      <td>20000.000000</td>\n",
              "      <td>150000.000000</td>\n",
              "      <td>12.000000</td>\n",
              "    </tr>\n",
              "  </tbody>\n",
              "</table>\n",
              "</div>"
            ],
            "text/plain": [
              "               price  registration_year          power      kilometer  \\\n",
              "count  305744.000000      305744.000000  305744.000000  305744.000000   \n",
              "mean     4876.278867        2003.175981     115.807247  128349.566958   \n",
              "std      4530.113634           5.901369     184.826750   36849.628373   \n",
              "min       408.000000        1980.000000       0.000000    5000.000000   \n",
              "25%      1450.000000        1999.000000      75.000000  125000.000000   \n",
              "50%      3200.000000        2003.000000     109.000000  150000.000000   \n",
              "75%      6950.000000        2007.000000     147.000000  150000.000000   \n",
              "max     20000.000000        2016.000000   20000.000000  150000.000000   \n",
              "\n",
              "       registration_month  \n",
              "count       305744.000000  \n",
              "mean             5.951669  \n",
              "std              3.628428  \n",
              "min              0.000000  \n",
              "25%              3.000000  \n",
              "50%              6.000000  \n",
              "75%              9.000000  \n",
              "max             12.000000  "
            ]
          },
          "execution_count": 21,
          "metadata": {},
          "output_type": "execute_result"
        }
      ],
      "source": [
        "data.describe()"
      ]
    },
    {
      "cell_type": "markdown",
      "metadata": {
        "id": "-l90Ws50IAvA"
      },
      "source": [
        "Теперь мощность."
      ]
    },
    {
      "cell_type": "code",
      "execution_count": null,
      "metadata": {
        "id": "ucu0HPMVIAvB",
        "outputId": "fb73ba68-b6ec-452c-acbe-220056a82ded"
      },
      "outputs": [
        {
          "data": {
            "image/png": "[encoded data removed]",
            "text/plain": [
              "<Figure size 864x360 with 1 Axes>"
            ]
          },
          "metadata": {
            "needs_background": "light"
          },
          "output_type": "display_data"
        }
      ],
      "source": [
        "data.boxplot(column='power', showfliers=False, figsize=(12, 5))\n",
        "plt.ylabel('Мощность двигателя, л.с')\n",
        "plt.title('Распределение по мощности двигателя')\n",
        "plt.show()"
      ]
    },
    {
      "cell_type": "code",
      "execution_count": null,
      "metadata": {
        "id": "OJyxnl5xIAvB",
        "outputId": "78a9ee3d-1c83-4863-85dc-4cd2bd90f897"
      },
      "outputs": [
        {
          "data": {
            "text/plain": [
              "array(['volkswagen', 'audi', 'jeep', 'skoda', 'bmw', 'peugeot', 'ford',\n",
              "       'mazda', 'nissan', 'renault', 'mercedes_benz', 'seat', 'honda',\n",
              "       'fiat', 'opel', 'mini', 'smart', 'hyundai', 'subaru', 'volvo',\n",
              "       'mitsubishi', 'alfa_romeo', 'kia', 'suzuki', 'lancia', 'citroen',\n",
              "       'toyota', 'chevrolet', 'dacia', 'sonstige_autos', 'daihatsu',\n",
              "       'chrysler', 'jaguar', 'daewoo', 'rover', 'porsche', 'saab',\n",
              "       'land_rover', 'trabant', 'lada'], dtype=object)"
            ]
          },
          "execution_count": 23,
          "metadata": {},
          "output_type": "execute_result"
        }
      ],
      "source": [
        "data['brand'].unique()\n"
      ]
    },
    {
      "cell_type": "markdown",
      "metadata": {
        "id": "0bHx63rDIAvB"
      },
      "source": [
        "Бугатти нет, поэтому даже 2000 л.с невозможны (сведения из сети). Вот с нижним пределом так уверенно не рассуждаю, сам не автолюбитель. Возьму взятые с потолка 10 л.с."
      ]
    },
    {
      "cell_type": "code",
      "execution_count": null,
      "metadata": {
        "id": "E0Gvs8iXIAvB",
        "outputId": "38025314-4646-4c0f-8326-b7aa8f0225b2"
      },
      "outputs": [
        {
          "data": {
            "text/plain": [
              "count    305744.000000\n",
              "mean        115.807247\n",
              "std         184.826750\n",
              "min           0.000000\n",
              "25%          75.000000\n",
              "50%         109.000000\n",
              "75%         147.000000\n",
              "max       20000.000000\n",
              "Name: power, dtype: float64"
            ]
          },
          "execution_count": 24,
          "metadata": {},
          "output_type": "execute_result"
        }
      ],
      "source": [
        "data['power'].describe()"
      ]
    },
    {
      "cell_type": "code",
      "execution_count": null,
      "metadata": {
        "id": "hHuT_sD9IAvC"
      },
      "outputs": [],
      "source": [
        "data = data[(data['power'] > 70) & (data['power'] <= 1500)]"
      ]
    },
    {
      "cell_type": "code",
      "execution_count": null,
      "metadata": {
        "id": "KX8jd6bIIAvC",
        "outputId": "9711e31e-0a8b-483a-d8a1-12fdac946bca"
      },
      "outputs": [
        {
          "data": {
            "text/html": [
              "<div>\n",
              "<style scoped>\n",
              "    .dataframe tbody tr th:only-of-type {\n",
              "        vertical-align: middle;\n",
              "    }\n",
              "\n",
              "    .dataframe tbody tr th {\n",
              "        vertical-align: top;\n",
              "    }\n",
              "\n",
              "    .dataframe thead th {\n",
              "        text-align: right;\n",
              "    }\n",
              "</style>\n",
              "<table border=\"1\" class=\"dataframe\">\n",
              "  <thead>\n",
              "    <tr style=\"text-align: right;\">\n",
              "      <th></th>\n",
              "      <th>price</th>\n",
              "      <th>registration_year</th>\n",
              "      <th>power</th>\n",
              "      <th>kilometer</th>\n",
              "      <th>registration_month</th>\n",
              "    </tr>\n",
              "  </thead>\n",
              "  <tbody>\n",
              "    <tr>\n",
              "      <th>count</th>\n",
              "      <td>238271.000000</td>\n",
              "      <td>238271.000000</td>\n",
              "      <td>238271.000000</td>\n",
              "      <td>238271.000000</td>\n",
              "      <td>238271.000000</td>\n",
              "    </tr>\n",
              "    <tr>\n",
              "      <th>mean</th>\n",
              "      <td>5568.095866</td>\n",
              "      <td>2003.523249</td>\n",
              "      <td>134.607770</td>\n",
              "      <td>129433.103483</td>\n",
              "      <td>6.086712</td>\n",
              "    </tr>\n",
              "    <tr>\n",
              "      <th>std</th>\n",
              "      <td>4728.801617</td>\n",
              "      <td>5.735645</td>\n",
              "      <td>54.680478</td>\n",
              "      <td>35908.912540</td>\n",
              "      <td>3.546417</td>\n",
              "    </tr>\n",
              "    <tr>\n",
              "      <th>min</th>\n",
              "      <td>408.000000</td>\n",
              "      <td>1980.000000</td>\n",
              "      <td>71.000000</td>\n",
              "      <td>5000.000000</td>\n",
              "      <td>0.000000</td>\n",
              "    </tr>\n",
              "    <tr>\n",
              "      <th>25%</th>\n",
              "      <td>1800.000000</td>\n",
              "      <td>2000.000000</td>\n",
              "      <td>101.000000</td>\n",
              "      <td>125000.000000</td>\n",
              "      <td>3.000000</td>\n",
              "    </tr>\n",
              "    <tr>\n",
              "      <th>50%</th>\n",
              "      <td>3990.000000</td>\n",
              "      <td>2004.000000</td>\n",
              "      <td>122.000000</td>\n",
              "      <td>150000.000000</td>\n",
              "      <td>6.000000</td>\n",
              "    </tr>\n",
              "    <tr>\n",
              "      <th>75%</th>\n",
              "      <td>7999.000000</td>\n",
              "      <td>2008.000000</td>\n",
              "      <td>158.000000</td>\n",
              "      <td>150000.000000</td>\n",
              "      <td>9.000000</td>\n",
              "    </tr>\n",
              "    <tr>\n",
              "      <th>max</th>\n",
              "      <td>20000.000000</td>\n",
              "      <td>2016.000000</td>\n",
              "      <td>1500.000000</td>\n",
              "      <td>150000.000000</td>\n",
              "      <td>12.000000</td>\n",
              "    </tr>\n",
              "  </tbody>\n",
              "</table>\n",
              "</div>"
            ],
            "text/plain": [
              "               price  registration_year          power      kilometer  \\\n",
              "count  238271.000000      238271.000000  238271.000000  238271.000000   \n",
              "mean     5568.095866        2003.523249     134.607770  129433.103483   \n",
              "std      4728.801617           5.735645      54.680478   35908.912540   \n",
              "min       408.000000        1980.000000      71.000000    5000.000000   \n",
              "25%      1800.000000        2000.000000     101.000000  125000.000000   \n",
              "50%      3990.000000        2004.000000     122.000000  150000.000000   \n",
              "75%      7999.000000        2008.000000     158.000000  150000.000000   \n",
              "max     20000.000000        2016.000000    1500.000000  150000.000000   \n",
              "\n",
              "       registration_month  \n",
              "count       238271.000000  \n",
              "mean             6.086712  \n",
              "std              3.546417  \n",
              "min              0.000000  \n",
              "25%              3.000000  \n",
              "50%              6.000000  \n",
              "75%              9.000000  \n",
              "max             12.000000  "
            ]
          },
          "execution_count": 26,
          "metadata": {},
          "output_type": "execute_result"
        }
      ],
      "source": [
        "data.describe()"
      ]
    },
    {
      "cell_type": "markdown",
      "metadata": {
        "id": "4HuahE1eIAvC"
      },
      "source": [
        "### Промежуточные выводы"
      ]
    },
    {
      "cell_type": "markdown",
      "metadata": {
        "id": "JikzxZpZIAvD"
      },
      "source": [
        "По результатам подготовки выполнено следующее:\n",
        "1. Загружены предоставленные данные;\n",
        "2. Определены столбцы с пропусками. Заполнять пропуски не стал, пропущенные данные считаю результатом незаполнения. Заполнять их какими бы то ни было значениями считаю неверным;\n",
        "3. Избавился от 4-х дубликатов;\n",
        "4. Удалил столбцы, данные по которым посчитал лишними: Дата скачивания анкеты из базы, Дата создания анкеты, Дата последней активности пользователя, Кол-во фотографий, Почтовый индекс;\n",
        "5. Проверил данные на предмет связи некоторых данных с ценой;\n",
        "6. Проверил данные на корреляцию - явной корреляции не обнаружено;\n",
        "7. Согласно бокс-диаграмм, данных из сети и собственному мнению исключён некоторый диапазон данных."
      ]
    },
    {
      "cell_type": "markdown",
      "metadata": {
        "id": "LOYjIMJyIAvE"
      },
      "source": [
        "## Обучение моделей"
      ]
    },
    {
      "cell_type": "markdown",
      "metadata": {
        "id": "_nxWjd-tIAvE"
      },
      "source": [
        "### Подготовка выборок"
      ]
    },
    {
      "cell_type": "markdown",
      "metadata": {
        "id": "ZAIIatOuIAvE"
      },
      "source": [
        "Подстахуюсь от дамми-ловушки."
      ]
    },
    {
      "cell_type": "code",
      "execution_count": null,
      "metadata": {
        "id": "pwdamjvfIAvE",
        "outputId": "31c7ba3f-6076-4f20-b831-df616aee0b7b"
      },
      "outputs": [
        {
          "data": {
            "text/plain": [
              "Index(['price', 'vehicle_type', 'registration_year', 'gearbox', 'power',\n",
              "       'model', 'kilometer', 'registration_month', 'fuel_type', 'brand',\n",
              "       'repaired'],\n",
              "      dtype='object')"
            ]
          },
          "execution_count": 27,
          "metadata": {},
          "output_type": "execute_result"
        }
      ],
      "source": [
        "data.columns"
      ]
    },
    {
      "cell_type": "code",
      "execution_count": null,
      "metadata": {
        "id": "RLqckfEmIAvE"
      },
      "outputs": [],
      "source": [
        "data['vehicle_type'] = data['vehicle_type'].astype('category').cat.codes\n",
        "data['gearbox'] = data['gearbox'].astype('category').cat.codes\n",
        "data['model'] = data['model'].astype('category').cat.codes\n",
        "data['fuel_type'] = data['fuel_type'].astype('category').cat.codes\n",
        "data['brand'] = data['brand'].astype('category').cat.codes\n",
        "data['repaired'] = data['repaired'].astype('category').cat.codes"
      ]
    },
    {
      "cell_type": "markdown",
      "metadata": {
        "id": "ypWP3pl6IAvG"
      },
      "source": [
        "Разобью выборки на обучающую, тестовую и валидационную в соотношении 80/10/10 соответственно."
      ]
    },
    {
      "cell_type": "code",
      "execution_count": null,
      "metadata": {
        "id": "upuke48eIAvG"
      },
      "outputs": [],
      "source": [
        "features = data.drop(['price'], axis=1)\n",
        "target = data['price']"
      ]
    },
    {
      "cell_type": "code",
      "execution_count": null,
      "metadata": {
        "id": "8kBpRLxwIAvG"
      },
      "outputs": [],
      "source": [
        "features_train, features_test, target_train, target_test = train_test_split(\n",
        "    features, target, test_size=0.2, random_state=12345)"
      ]
    },
    {
      "cell_type": "code",
      "execution_count": null,
      "metadata": {
        "id": "tP_RqKlUIAvG"
      },
      "outputs": [],
      "source": [
        "features_valid, features_test, target_valid, target_test = train_test_split(\n",
        "    features_test, target_test, test_size=0.5, random_state=12345)"
      ]
    },
    {
      "cell_type": "markdown",
      "metadata": {
        "id": "yxePOokMIAvH"
      },
      "source": [
        "Проверю размерность получившихся выборок."
      ]
    },
    {
      "cell_type": "code",
      "execution_count": null,
      "metadata": {
        "id": "wkyTyBT0IAvH",
        "outputId": "729e1a04-4046-4581-d8ee-b5459cb0c75e"
      },
      "outputs": [
        {
          "name": "stdout",
          "output_type": "stream",
          "text": [
            "Обучающая выборка (190616, 10)\n",
            "Валидационная выборка (23827, 10)\n",
            "Тестовая выборка (23828, 10)\n"
          ]
        }
      ],
      "source": [
        "print('Обучающая выборка', features_train.shape)\n",
        "print('Валидационная выборка', features_valid.shape)\n",
        "print('Тестовая выборка', features_test.shape)"
      ]
    },
    {
      "cell_type": "markdown",
      "metadata": {
        "id": "DAaQhNgiIAvI"
      },
      "source": [
        "Выборка подготовлена, движемся дальше."
      ]
    },
    {
      "cell_type": "markdown",
      "metadata": {
        "id": "10ISU0QYIAvI"
      },
      "source": [
        "Масштабирую выборки. Обозначаю колонки с колчественными признаками."
      ]
    },
    {
      "cell_type": "code",
      "execution_count": null,
      "metadata": {
        "id": "3GEFiRAdIAvI",
        "outputId": "e4e6b42c-365e-491d-cdbe-698c5c2665f8"
      },
      "outputs": [
        {
          "data": {
            "text/plain": [
              "StandardScaler()"
            ]
          },
          "execution_count": 33,
          "metadata": {},
          "output_type": "execute_result"
        }
      ],
      "source": [
        "scaled_columns = ['registration_year', 'power', 'kilometer']\n",
        "\n",
        "scaler = StandardScaler()\n",
        "scaler.fit(features_train[scaled_columns])"
      ]
    },
    {
      "cell_type": "markdown",
      "metadata": {
        "id": "IJJth8xXIAvI"
      },
      "source": [
        "Обучающая выборка."
      ]
    },
    {
      "cell_type": "code",
      "execution_count": null,
      "metadata": {
        "id": "H2bFUgw-IAvI",
        "outputId": "7c8478bf-17fb-4b38-f96e-85802b461019"
      },
      "outputs": [
        {
          "name": "stderr",
          "output_type": "stream",
          "text": [
            "/tmp/ipykernel_247/3362859714.py:1: SettingWithCopyWarning: \n",
            "A value is trying to be set on a copy of a slice from a DataFrame.\n",
            "Try using .loc[row_indexer,col_indexer] = value instead\n",
            "\n",
            "See the caveats in the documentation: https://pandas.pydata.org/pandas-docs/stable/user_guide/indexing.html#returning-a-view-versus-a-copy\n",
            "  features_train[scaled_columns] = scaler.transform(features_train[scaled_columns])\n",
            "/opt/conda/lib/python3.9/site-packages/pandas/core/indexing.py:1738: SettingWithCopyWarning: \n",
            "A value is trying to be set on a copy of a slice from a DataFrame.\n",
            "Try using .loc[row_indexer,col_indexer] = value instead\n",
            "\n",
            "See the caveats in the documentation: https://pandas.pydata.org/pandas-docs/stable/user_guide/indexing.html#returning-a-view-versus-a-copy\n",
            "  self._setitem_single_column(loc, value[:, i].tolist(), pi)\n"
          ]
        },
        {
          "data": {
            "text/html": [
              "<div>\n",
              "<style scoped>\n",
              "    .dataframe tbody tr th:only-of-type {\n",
              "        vertical-align: middle;\n",
              "    }\n",
              "\n",
              "    .dataframe tbody tr th {\n",
              "        vertical-align: top;\n",
              "    }\n",
              "\n",
              "    .dataframe thead th {\n",
              "        text-align: right;\n",
              "    }\n",
              "</style>\n",
              "<table border=\"1\" class=\"dataframe\">\n",
              "  <thead>\n",
              "    <tr style=\"text-align: right;\">\n",
              "      <th></th>\n",
              "      <th>vehicle_type</th>\n",
              "      <th>registration_year</th>\n",
              "      <th>gearbox</th>\n",
              "      <th>power</th>\n",
              "      <th>model</th>\n",
              "      <th>kilometer</th>\n",
              "      <th>registration_month</th>\n",
              "      <th>fuel_type</th>\n",
              "      <th>brand</th>\n",
              "      <th>repaired</th>\n",
              "    </tr>\n",
              "  </thead>\n",
              "  <tbody>\n",
              "    <tr>\n",
              "      <th>320936</th>\n",
              "      <td>5</td>\n",
              "      <td>0.083848</td>\n",
              "      <td>1</td>\n",
              "      <td>-0.341180</td>\n",
              "      <td>79</td>\n",
              "      <td>-0.124116</td>\n",
              "      <td>12</td>\n",
              "      <td>6</td>\n",
              "      <td>21</td>\n",
              "      <td>0</td>\n",
              "    </tr>\n",
              "    <tr>\n",
              "      <th>34665</th>\n",
              "      <td>1</td>\n",
              "      <td>-0.962192</td>\n",
              "      <td>1</td>\n",
              "      <td>1.174908</td>\n",
              "      <td>204</td>\n",
              "      <td>0.572675</td>\n",
              "      <td>1</td>\n",
              "      <td>6</td>\n",
              "      <td>20</td>\n",
              "      <td>0</td>\n",
              "    </tr>\n",
              "    <tr>\n",
              "      <th>269109</th>\n",
              "      <td>7</td>\n",
              "      <td>1.129888</td>\n",
              "      <td>1</td>\n",
              "      <td>0.462529</td>\n",
              "      <td>120</td>\n",
              "      <td>-1.099624</td>\n",
              "      <td>8</td>\n",
              "      <td>2</td>\n",
              "      <td>24</td>\n",
              "      <td>0</td>\n",
              "    </tr>\n",
              "    <tr>\n",
              "      <th>152693</th>\n",
              "      <td>7</td>\n",
              "      <td>-0.264832</td>\n",
              "      <td>1</td>\n",
              "      <td>-0.067188</td>\n",
              "      <td>152</td>\n",
              "      <td>0.572675</td>\n",
              "      <td>10</td>\n",
              "      <td>2</td>\n",
              "      <td>10</td>\n",
              "      <td>1</td>\n",
              "    </tr>\n",
              "    <tr>\n",
              "      <th>249044</th>\n",
              "      <td>7</td>\n",
              "      <td>0.258188</td>\n",
              "      <td>1</td>\n",
              "      <td>0.097207</td>\n",
              "      <td>28</td>\n",
              "      <td>0.572675</td>\n",
              "      <td>5</td>\n",
              "      <td>2</td>\n",
              "      <td>1</td>\n",
              "      <td>0</td>\n",
              "    </tr>\n",
              "  </tbody>\n",
              "</table>\n",
              "</div>"
            ],
            "text/plain": [
              "        vehicle_type  registration_year  gearbox     power  model  kilometer  \\\n",
              "320936             5           0.083848        1 -0.341180     79  -0.124116   \n",
              "34665              1          -0.962192        1  1.174908    204   0.572675   \n",
              "269109             7           1.129888        1  0.462529    120  -1.099624   \n",
              "152693             7          -0.264832        1 -0.067188    152   0.572675   \n",
              "249044             7           0.258188        1  0.097207     28   0.572675   \n",
              "\n",
              "        registration_month  fuel_type  brand  repaired  \n",
              "320936                  12          6     21         0  \n",
              "34665                    1          6     20         0  \n",
              "269109                   8          2     24         0  \n",
              "152693                  10          2     10         1  \n",
              "249044                   5          2      1         0  "
            ]
          },
          "execution_count": 34,
          "metadata": {},
          "output_type": "execute_result"
        }
      ],
      "source": [
        "features_train[scaled_columns] = scaler.transform(features_train[scaled_columns])\n",
        "features_train.head()"
      ]
    },
    {
      "cell_type": "markdown",
      "metadata": {
        "id": "Mj6rk5RrIAvI"
      },
      "source": [
        "Валидационную."
      ]
    },
    {
      "cell_type": "code",
      "execution_count": null,
      "metadata": {
        "id": "0Ci6T7ekIAvJ",
        "outputId": "bfa7ee2d-2cd8-4e80-b025-6d37f43abffd"
      },
      "outputs": [
        {
          "data": {
            "text/html": [
              "<div>\n",
              "<style scoped>\n",
              "    .dataframe tbody tr th:only-of-type {\n",
              "        vertical-align: middle;\n",
              "    }\n",
              "\n",
              "    .dataframe tbody tr th {\n",
              "        vertical-align: top;\n",
              "    }\n",
              "\n",
              "    .dataframe thead th {\n",
              "        text-align: right;\n",
              "    }\n",
              "</style>\n",
              "<table border=\"1\" class=\"dataframe\">\n",
              "  <thead>\n",
              "    <tr style=\"text-align: right;\">\n",
              "      <th></th>\n",
              "      <th>vehicle_type</th>\n",
              "      <th>registration_year</th>\n",
              "      <th>gearbox</th>\n",
              "      <th>power</th>\n",
              "      <th>model</th>\n",
              "      <th>kilometer</th>\n",
              "      <th>registration_month</th>\n",
              "      <th>fuel_type</th>\n",
              "      <th>brand</th>\n",
              "      <th>repaired</th>\n",
              "    </tr>\n",
              "  </thead>\n",
              "  <tbody>\n",
              "    <tr>\n",
              "      <th>227812</th>\n",
              "      <td>6</td>\n",
              "      <td>0.083848</td>\n",
              "      <td>0</td>\n",
              "      <td>1.266238</td>\n",
              "      <td>237</td>\n",
              "      <td>0.572675</td>\n",
              "      <td>6</td>\n",
              "      <td>2</td>\n",
              "      <td>2</td>\n",
              "      <td>1</td>\n",
              "    </tr>\n",
              "    <tr>\n",
              "      <th>335627</th>\n",
              "      <td>4</td>\n",
              "      <td>1.129888</td>\n",
              "      <td>1</td>\n",
              "      <td>-0.231583</td>\n",
              "      <td>6</td>\n",
              "      <td>-0.124116</td>\n",
              "      <td>7</td>\n",
              "      <td>6</td>\n",
              "      <td>2</td>\n",
              "      <td>0</td>\n",
              "    </tr>\n",
              "    <tr>\n",
              "      <th>131212</th>\n",
              "      <td>2</td>\n",
              "      <td>-0.264832</td>\n",
              "      <td>1</td>\n",
              "      <td>0.225070</td>\n",
              "      <td>41</td>\n",
              "      <td>0.572675</td>\n",
              "      <td>0</td>\n",
              "      <td>6</td>\n",
              "      <td>24</td>\n",
              "      <td>0</td>\n",
              "    </tr>\n",
              "    <tr>\n",
              "      <th>20590</th>\n",
              "      <td>5</td>\n",
              "      <td>0.432528</td>\n",
              "      <td>1</td>\n",
              "      <td>-0.469043</td>\n",
              "      <td>8</td>\n",
              "      <td>-0.124116</td>\n",
              "      <td>4</td>\n",
              "      <td>2</td>\n",
              "      <td>25</td>\n",
              "      <td>0</td>\n",
              "    </tr>\n",
              "    <tr>\n",
              "      <th>74474</th>\n",
              "      <td>4</td>\n",
              "      <td>-0.439172</td>\n",
              "      <td>1</td>\n",
              "      <td>0.517328</td>\n",
              "      <td>58</td>\n",
              "      <td>0.572675</td>\n",
              "      <td>0</td>\n",
              "      <td>-1</td>\n",
              "      <td>20</td>\n",
              "      <td>-1</td>\n",
              "    </tr>\n",
              "  </tbody>\n",
              "</table>\n",
              "</div>"
            ],
            "text/plain": [
              "        vehicle_type  registration_year  gearbox     power  model  kilometer  \\\n",
              "227812             6           0.083848        0  1.266238    237   0.572675   \n",
              "335627             4           1.129888        1 -0.231583      6  -0.124116   \n",
              "131212             2          -0.264832        1  0.225070     41   0.572675   \n",
              "20590              5           0.432528        1 -0.469043      8  -0.124116   \n",
              "74474              4          -0.439172        1  0.517328     58   0.572675   \n",
              "\n",
              "        registration_month  fuel_type  brand  repaired  \n",
              "227812                   6          2      2         1  \n",
              "335627                   7          6      2         0  \n",
              "131212                   0          6     24         0  \n",
              "20590                    4          2     25         0  \n",
              "74474                    0         -1     20        -1  "
            ]
          },
          "execution_count": 35,
          "metadata": {},
          "output_type": "execute_result"
        }
      ],
      "source": [
        "features_valid[scaled_columns] = scaler.transform(features_valid[scaled_columns])\n",
        "features_valid.head()"
      ]
    },
    {
      "cell_type": "markdown",
      "metadata": {
        "id": "1NU3aq05IAvJ"
      },
      "source": [
        "И тестовую."
      ]
    },
    {
      "cell_type": "code",
      "execution_count": null,
      "metadata": {
        "id": "fn5sJSobIAvJ",
        "outputId": "1e908473-e7eb-4d3b-ca82-f0879279c1e7"
      },
      "outputs": [
        {
          "data": {
            "text/html": [
              "<div>\n",
              "<style scoped>\n",
              "    .dataframe tbody tr th:only-of-type {\n",
              "        vertical-align: middle;\n",
              "    }\n",
              "\n",
              "    .dataframe tbody tr th {\n",
              "        vertical-align: top;\n",
              "    }\n",
              "\n",
              "    .dataframe thead th {\n",
              "        text-align: right;\n",
              "    }\n",
              "</style>\n",
              "<table border=\"1\" class=\"dataframe\">\n",
              "  <thead>\n",
              "    <tr style=\"text-align: right;\">\n",
              "      <th></th>\n",
              "      <th>vehicle_type</th>\n",
              "      <th>registration_year</th>\n",
              "      <th>gearbox</th>\n",
              "      <th>power</th>\n",
              "      <th>model</th>\n",
              "      <th>kilometer</th>\n",
              "      <th>registration_month</th>\n",
              "      <th>fuel_type</th>\n",
              "      <th>brand</th>\n",
              "      <th>repaired</th>\n",
              "    </tr>\n",
              "  </thead>\n",
              "  <tbody>\n",
              "    <tr>\n",
              "      <th>347468</th>\n",
              "      <td>7</td>\n",
              "      <td>-0.787852</td>\n",
              "      <td>1</td>\n",
              "      <td>-0.304648</td>\n",
              "      <td>11</td>\n",
              "      <td>0.572675</td>\n",
              "      <td>10</td>\n",
              "      <td>-1</td>\n",
              "      <td>2</td>\n",
              "      <td>1</td>\n",
              "    </tr>\n",
              "    <tr>\n",
              "      <th>108378</th>\n",
              "      <td>7</td>\n",
              "      <td>0.432528</td>\n",
              "      <td>1</td>\n",
              "      <td>0.517328</td>\n",
              "      <td>58</td>\n",
              "      <td>0.572675</td>\n",
              "      <td>10</td>\n",
              "      <td>6</td>\n",
              "      <td>20</td>\n",
              "      <td>0</td>\n",
              "    </tr>\n",
              "    <tr>\n",
              "      <th>235771</th>\n",
              "      <td>7</td>\n",
              "      <td>1.304228</td>\n",
              "      <td>1</td>\n",
              "      <td>0.152005</td>\n",
              "      <td>28</td>\n",
              "      <td>0.572675</td>\n",
              "      <td>5</td>\n",
              "      <td>2</td>\n",
              "      <td>1</td>\n",
              "      <td>0</td>\n",
              "    </tr>\n",
              "    <tr>\n",
              "      <th>232097</th>\n",
              "      <td>0</td>\n",
              "      <td>-1.659552</td>\n",
              "      <td>1</td>\n",
              "      <td>-1.053558</td>\n",
              "      <td>220</td>\n",
              "      <td>0.572675</td>\n",
              "      <td>11</td>\n",
              "      <td>2</td>\n",
              "      <td>38</td>\n",
              "      <td>0</td>\n",
              "    </tr>\n",
              "    <tr>\n",
              "      <th>49494</th>\n",
              "      <td>4</td>\n",
              "      <td>-1.136532</td>\n",
              "      <td>1</td>\n",
              "      <td>-1.090091</td>\n",
              "      <td>114</td>\n",
              "      <td>-0.124116</td>\n",
              "      <td>5</td>\n",
              "      <td>6</td>\n",
              "      <td>38</td>\n",
              "      <td>1</td>\n",
              "    </tr>\n",
              "  </tbody>\n",
              "</table>\n",
              "</div>"
            ],
            "text/plain": [
              "        vehicle_type  registration_year  gearbox     power  model  kilometer  \\\n",
              "347468             7          -0.787852        1 -0.304648     11   0.572675   \n",
              "108378             7           0.432528        1  0.517328     58   0.572675   \n",
              "235771             7           1.304228        1  0.152005     28   0.572675   \n",
              "232097             0          -1.659552        1 -1.053558    220   0.572675   \n",
              "49494              4          -1.136532        1 -1.090091    114  -0.124116   \n",
              "\n",
              "        registration_month  fuel_type  brand  repaired  \n",
              "347468                  10         -1      2         1  \n",
              "108378                  10          6     20         0  \n",
              "235771                   5          2      1         0  \n",
              "232097                  11          2     38         0  \n",
              "49494                    5          6     38         1  "
            ]
          },
          "execution_count": 36,
          "metadata": {},
          "output_type": "execute_result"
        }
      ],
      "source": [
        "features_test[scaled_columns] = scaler.transform(features_test[scaled_columns])\n",
        "features_test.head()"
      ]
    },
    {
      "cell_type": "markdown",
      "metadata": {
        "id": "HR7AXCmCIAvJ"
      },
      "source": [
        "Переходим к моделям."
      ]
    },
    {
      "cell_type": "markdown",
      "metadata": {
        "id": "IwXop9BhIAvK"
      },
      "source": [
        "### Модель лёгкой машины градиентного бустинга"
      ]
    },
    {
      "cell_type": "markdown",
      "metadata": {
        "id": "tjDc-wp2IAvK"
      },
      "source": [
        "Помимо основного кода добавлю функцию подсчёта времени выполнения кода в ячейке. time(). Информацию почерпнул на skypro stackoverfow.com. Касательно самой модели информацию искал на habr, github."
      ]
    },
    {
      "cell_type": "code",
      "execution_count": null,
      "metadata": {
        "id": "yYvK6IiMIAvL",
        "outputId": "fddbd276-3929-464a-b6a1-ac78374c7f08"
      },
      "outputs": [
        {
          "name": "stderr",
          "output_type": "stream",
          "text": [
            "/opt/conda/lib/python3.9/site-packages/lightgbm/engine.py:181: UserWarning: 'early_stopping_rounds' argument is deprecated and will be removed in a future release of LightGBM. Pass 'early_stopping()' callback via 'callbacks' argument instead.\n",
            "  _log_warning(\"'early_stopping_rounds' argument is deprecated and will be removed in a future release of LightGBM. \"\n",
            "/opt/conda/lib/python3.9/site-packages/lightgbm/engine.py:239: UserWarning: 'verbose_eval' argument is deprecated and will be removed in a future release of LightGBM. Pass 'log_evaluation()' callback via 'callbacks' argument instead.\n",
            "  _log_warning(\"'verbose_eval' argument is deprecated and will be removed in a future release of LightGBM. \"\n"
          ]
        },
        {
          "name": "stdout",
          "output_type": "stream",
          "text": [
            "[LightGBM] [Warning] Auto-choosing row-wise multi-threading, the overhead of testing was 0.406127 seconds.\n",
            "You can set `force_row_wise=true` to remove the overhead.\n",
            "And if memory is not enough, you can set `force_col_wise=true`.\n",
            "Training until validation scores don't improve for 50 rounds\n",
            "[100]\ttraining's rmse: 1814.44\tvalid_1's rmse: 1821.89\n",
            "[200]\ttraining's rmse: 1702.94\tvalid_1's rmse: 1720.16\n",
            "[300]\ttraining's rmse: 1652.16\tvalid_1's rmse: 1681.84\n",
            "[400]\ttraining's rmse: 1617.87\tvalid_1's rmse: 1657.86\n",
            "[500]\ttraining's rmse: 1591.67\tvalid_1's rmse: 1641.83\n",
            "[600]\ttraining's rmse: 1568.4\tvalid_1's rmse: 1628.97\n",
            "[700]\ttraining's rmse: 1549.19\tvalid_1's rmse: 1616.95\n",
            "[800]\ttraining's rmse: 1533.24\tvalid_1's rmse: 1607.78\n",
            "[900]\ttraining's rmse: 1519.16\tvalid_1's rmse: 1601.88\n",
            "[1000]\ttraining's rmse: 1503.65\tvalid_1's rmse: 1594.37\n",
            "Did not meet early stopping. Best iteration is:\n",
            "[1000]\ttraining's rmse: 1503.65\tvalid_1's rmse: 1594.37\n"
          ]
        }
      ],
      "source": [
        "start_time = time.time()\n",
        "\n",
        "params = {\n",
        "    'boosting_type': 'gbdt', 'objective': 'regression', 'metric': 'rmse', 'num_leaves': 31, 'learning_rate': 0.05,\n",
        "    'feature_fraction': 0.9, 'bagging_fraction': 0.8, 'bagging_freq': 5, 'verbose': 0, 'n_jobs': -1\n",
        "}\n",
        "\n",
        "lite_train = lgb.Dataset(features_train, target_train)\n",
        "lite_valid = lgb.Dataset(features_valid, target_valid)\n",
        "\n",
        "model_lite = lgb.train(params,lite_train, num_boost_round=1000, valid_sets=[lite_train, lite_valid],\n",
        "                      early_stopping_rounds=50,\n",
        "                      verbose_eval=100)\n",
        "\n",
        "end_time = time.time()\n",
        "training_time_lite = end_time - start_time"
      ]
    },
    {
      "cell_type": "markdown",
      "metadata": {
        "id": "MVzfxLjdIAvL"
      },
      "source": [
        "Вывожу на экран время обучения модели лёгкой машины."
      ]
    },
    {
      "cell_type": "code",
      "execution_count": null,
      "metadata": {
        "id": "zX5xs2nLIAvL",
        "outputId": "2af60831-d831-4b97-d4cc-6931d5eb9169"
      },
      "outputs": [
        {
          "name": "stdout",
          "output_type": "stream",
          "text": [
            "Время обучения модели ЛМГБ: 1669.6971747875214 секунд\n"
          ]
        }
      ],
      "source": [
        "print(\"Время обучения модели ЛМГБ: %s секунд\" % training_time_lite)"
      ]
    },
    {
      "cell_type": "markdown",
      "metadata": {
        "id": "HPCvXV_TIAvL"
      },
      "source": [
        "Вывожу на экран время предсказания модели лёгкой машины."
      ]
    },
    {
      "cell_type": "code",
      "execution_count": null,
      "metadata": {
        "id": "35nefv7LIAvL",
        "outputId": "b144fa43-34d5-41af-c246-36a2c91315d5"
      },
      "outputs": [
        {
          "name": "stdout",
          "output_type": "stream",
          "text": [
            "Время предсказания модели лёгкой машины: 2.2314558029174805 секунд\n"
          ]
        }
      ],
      "source": [
        "start_time = time.time()\n",
        "y_pred_lite = model_lite.predict(features_valid)\n",
        "end_time = time.time()\n",
        "prediction_time_lite = end_time - start_time\n",
        "print(\"Время предсказания модели лёгкой машины: %s секунд\" % prediction_time_lite)"
      ]
    },
    {
      "cell_type": "markdown",
      "metadata": {
        "id": "y38p12JqIAvM"
      },
      "source": [
        "Считаю и вывожу квадратный корень из среднеквадратической ошибки - отклонение от значений, то есть, провожу оценку качества."
      ]
    },
    {
      "cell_type": "code",
      "execution_count": null,
      "metadata": {
        "id": "kOvJzxvxIAvM",
        "outputId": "1f399adb-c3c8-43c3-cd01-b2fd239643f0"
      },
      "outputs": [
        {
          "name": "stdout",
          "output_type": "stream",
          "text": [
            "RMSE модели лёгкой машины на валидационной выборке: 1594.37\n"
          ]
        }
      ],
      "source": [
        "rmse_lite = mean_squared_error(target_valid, model_lite.predict(features_valid), squared=False)\n",
        "print(\"RMSE модели лёгкой машины на валидационной выборке: %.2f\" % rmse_lite)"
      ]
    },
    {
      "cell_type": "markdown",
      "metadata": {
        "id": "_IWVIJmEIAvM"
      },
      "source": [
        "RMSE получилось 1594,37 - требование (меньше 2500) выполнено. Посмотрим на другие модели."
      ]
    },
    {
      "cell_type": "markdown",
      "metadata": {
        "id": "iewpprWUIAvN"
      },
      "source": [
        "### Модель бустинга для категориальных признаков"
      ]
    },
    {
      "cell_type": "markdown",
      "metadata": {
        "id": "R7s-IxfFIAvN"
      },
      "source": [
        "Действую аналогично предыдущей модели."
      ]
    },
    {
      "cell_type": "code",
      "execution_count": null,
      "metadata": {
        "id": "mHPnICnaIAvN",
        "outputId": "6631a3a3-9a9f-4ebc-f1e2-3c269f5bf309"
      },
      "outputs": [
        {
          "name": "stdout",
          "output_type": "stream",
          "text": [
            "0:\tlearn: 4432.0704529\ttest: 4376.2603835\tbest: 4376.2603835 (0)\ttotal: 79.4ms\tremaining: 1m 19s\n",
            "100:\tlearn: 1859.6262528\ttest: 1860.2110978\tbest: 1860.2110978 (100)\ttotal: 2.69s\tremaining: 24s\n",
            "200:\tlearn: 1757.2432338\ttest: 1765.7726729\tbest: 1765.7726729 (200)\ttotal: 5.22s\tremaining: 20.8s\n",
            "300:\tlearn: 1703.4393149\ttest: 1717.9377837\tbest: 1717.9377837 (300)\ttotal: 7.95s\tremaining: 18.5s\n",
            "400:\tlearn: 1664.4132813\ttest: 1686.2810185\tbest: 1686.2810185 (400)\ttotal: 10.5s\tremaining: 15.7s\n",
            "500:\tlearn: 1637.1313071\ttest: 1666.4425278\tbest: 1666.4425278 (500)\ttotal: 13.2s\tremaining: 13.1s\n",
            "600:\tlearn: 1615.1710688\ttest: 1651.2824871\tbest: 1651.2824871 (600)\ttotal: 15.9s\tremaining: 10.5s\n",
            "700:\tlearn: 1597.1471319\ttest: 1639.4406746\tbest: 1639.4406746 (700)\ttotal: 18.7s\tremaining: 7.97s\n",
            "800:\tlearn: 1582.1209722\ttest: 1629.9424928\tbest: 1629.9276057 (799)\ttotal: 21.3s\tremaining: 5.29s\n",
            "900:\tlearn: 1568.4329202\ttest: 1621.3426560\tbest: 1621.3426560 (900)\ttotal: 23.8s\tremaining: 2.61s\n",
            "999:\tlearn: 1556.4678442\ttest: 1615.1887813\tbest: 1615.1887813 (999)\ttotal: 26.2s\tremaining: 0us\n",
            "\n",
            "bestTest = 1615.188781\n",
            "bestIteration = 999\n",
            "\n"
          ]
        },
        {
          "data": {
            "text/plain": [
              "<catboost.core.CatBoostRegressor at 0x7f912bccdb80>"
            ]
          },
          "execution_count": 41,
          "metadata": {},
          "output_type": "execute_result"
        }
      ],
      "source": [
        "start_time = time.time()\n",
        "\n",
        "model_categorial = CatBoostRegressor(iterations=1000, learning_rate=0.1, depth=6, loss_function='RMSE', random_state=42)\n",
        "\n",
        "model_categorial.fit(features_train, target_train, eval_set=(features_valid, target_valid),\n",
        "                     verbose=100, early_stopping_rounds=50)"
      ]
    },
    {
      "cell_type": "markdown",
      "metadata": {
        "id": "f4HHt9hdIAvN"
      },
      "source": [
        "Вычисляю и вывожу на экран время обучения модели бустинга для категориальных признаков."
      ]
    },
    {
      "cell_type": "code",
      "execution_count": null,
      "metadata": {
        "id": "0H6eL2HsIAvN",
        "outputId": "1b863e4a-deaf-4f58-c32f-509a6516bb19"
      },
      "outputs": [
        {
          "name": "stdout",
          "output_type": "stream",
          "text": [
            "Время обучения CatBoostRegressor: 28.170921325683594 секунд\n"
          ]
        }
      ],
      "source": [
        "end_time = time.time()\n",
        "training_time_categorial = end_time - start_time\n",
        "print(\"Время обучения CatBoostRegressor: %s секунд\" % training_time_categorial)"
      ]
    },
    {
      "cell_type": "markdown",
      "metadata": {
        "id": "ODpOUS4NIAvN"
      },
      "source": [
        "Вычисляю и вывожу на экран время предсказания модели бустинга для категориальных признаков."
      ]
    },
    {
      "cell_type": "code",
      "execution_count": null,
      "metadata": {
        "id": "XXsDdWwzIAvN",
        "outputId": "bef5eab0-bed7-48bf-d446-ac340893bb50"
      },
      "outputs": [
        {
          "name": "stdout",
          "output_type": "stream",
          "text": [
            "Время предсказания CatBoostRegressor: 0.025188207626342773 секунд\n"
          ]
        }
      ],
      "source": [
        "start_time = time.time()\n",
        "y_pred_categorial = model_categorial.predict(features_valid)\n",
        "end_time = time.time()\n",
        "prediction_time_categorial = end_time - start_time\n",
        "\n",
        "print(\"Время предсказания CatBoostRegressor: %s секунд\" % prediction_time_categorial)\n"
      ]
    },
    {
      "cell_type": "markdown",
      "metadata": {
        "id": "Mwatj_0TIAvN"
      },
      "source": [
        "Считаю и вывожу квадратный корень из среднеквадратической ошибки - отклонение от значений, то есть, провожу оценку качества."
      ]
    },
    {
      "cell_type": "code",
      "execution_count": null,
      "metadata": {
        "id": "y9DC1AqDIAvN",
        "outputId": "831f9689-b839-4414-a9a9-0dcb90d241a1"
      },
      "outputs": [
        {
          "name": "stdout",
          "output_type": "stream",
          "text": [
            "RMSE модели бустинга для категориальных признаков на валидационной выборке: 1615.19\n"
          ]
        }
      ],
      "source": [
        "rmse_categorial = mean_squared_error(target_valid, model_categorial.predict(features_valid), squared=False)\n",
        "print(\"RMSE модели бустинга для категориальных признаков на валидационной выборке: %.2f\" % rmse_categorial)"
      ]
    },
    {
      "cell_type": "markdown",
      "metadata": {
        "id": "67XRF5RQIAvO"
      },
      "source": [
        "RMSE = 1615,19 - хуже, чем модель лёгкой машины. Идём  следующей модели."
      ]
    },
    {
      "cell_type": "markdown",
      "metadata": {
        "id": "m60iwozEIAvO"
      },
      "source": [
        "### Модель логистической регрессии"
      ]
    },
    {
      "cell_type": "markdown",
      "metadata": {
        "id": "-t-IOEhNIAvO"
      },
      "source": [
        "Сначала тот же путь."
      ]
    },
    {
      "cell_type": "code",
      "execution_count": null,
      "metadata": {
        "id": "SaQZfVtEIAvO"
      },
      "outputs": [],
      "source": [
        "start_time = time.time()\n",
        "\n",
        "# Создаем объект модели линейной регрессии\n",
        "model_logreg = LinearRegression()\n",
        "\n",
        "# Задаем сетку гиперпараметров для подбора\n",
        "param_grid = {\n",
        "    'fit_intercept': [True, False], 'normalize': [True, False], 'copy_X': [True, False],'n_jobs': [1, -1]\n",
        "}"
      ]
    },
    {
      "cell_type": "markdown",
      "metadata": {
        "id": "J6SN_4nYIAvO"
      },
      "source": [
        "Создаю объект GridSearchCV для подбора гиперпараметров."
      ]
    },
    {
      "cell_type": "code",
      "execution_count": null,
      "metadata": {
        "id": "MtAoOOFnIAvO"
      },
      "outputs": [],
      "source": [
        "grid_cv = GridSearchCV(estimator=model_logreg,\n",
        "                       param_grid=param_grid, cv=3, scoring='neg_mean_squared_error')"
      ]
    },
    {
      "cell_type": "markdown",
      "metadata": {
        "id": "CXeN2J5GIAvO"
      },
      "source": [
        "Обучаю модель."
      ]
    },
    {
      "cell_type": "code",
      "execution_count": null,
      "metadata": {
        "id": "z_ob3Vm4IAvO",
        "outputId": "18d55ed9-dc22-477b-90f5-bed40dec04d3"
      },
      "outputs": [
        {
          "data": {
            "text/plain": [
              "GridSearchCV(cv=3, estimator=LinearRegression(),\n",
              "             param_grid={'copy_X': [True, False],\n",
              "                         'fit_intercept': [True, False], 'n_jobs': [1, -1],\n",
              "                         'normalize': [True, False]},\n",
              "             scoring='neg_mean_squared_error')"
            ]
          },
          "execution_count": 47,
          "metadata": {},
          "output_type": "execute_result"
        }
      ],
      "source": [
        "grid_cv.fit(features_train, target_train)"
      ]
    },
    {
      "cell_type": "markdown",
      "metadata": {
        "id": "bCL5GekfIAvP"
      },
      "source": [
        "Получаю лучшие гиперпараметры, создаю и обучаю на данных параметрах модель."
      ]
    },
    {
      "cell_type": "code",
      "execution_count": null,
      "metadata": {
        "id": "u98CgIAgIAvP"
      },
      "outputs": [],
      "source": [
        "best_params = grid_cv.best_params_\n",
        "\n",
        "best_model_logreg = LinearRegression(**best_params)\n",
        "\n",
        "best_model_logreg.fit(features_train, target_train)\n",
        "\n",
        "end_time = time.time()\n",
        "training_time_logreg = end_time - start_time"
      ]
    },
    {
      "cell_type": "markdown",
      "metadata": {
        "id": "QDdC8UIIIAvP"
      },
      "source": [
        "Выполняю предсказание цен на валидационной выборке."
      ]
    },
    {
      "cell_type": "code",
      "execution_count": null,
      "metadata": {
        "id": "dO21DCgMIAvP"
      },
      "outputs": [],
      "source": [
        "valid_predictions_logreg = best_model_logreg.predict(features_valid)\n",
        "\n",
        "end_time = time.time()\n",
        "prediction_time_logreg = end_time - start_time"
      ]
    },
    {
      "cell_type": "markdown",
      "metadata": {
        "id": "2KhuYj9-IAvP"
      },
      "source": [
        "Вычисляю корень из среднеквадратической ошибки, то есть, провожу оценку качества модели"
      ]
    },
    {
      "cell_type": "code",
      "execution_count": null,
      "metadata": {
        "id": "gCgr9xg0IAvP"
      },
      "outputs": [],
      "source": [
        "rmse_logreg = np.sqrt(mean_squared_error(target_valid, valid_predictions_logreg))"
      ]
    },
    {
      "cell_type": "markdown",
      "metadata": {
        "id": "0xqrZXPxIAvP"
      },
      "source": [
        "Вывожу результаты на экран."
      ]
    },
    {
      "cell_type": "code",
      "execution_count": null,
      "metadata": {
        "id": "3CQQr9qsIAvQ",
        "outputId": "bf56c64f-88ed-4107-f9ee-c3e4cb056fd2"
      },
      "outputs": [
        {
          "name": "stdout",
          "output_type": "stream",
          "text": [
            "Лучшие гиперпараметры модели LinearRegression:  {'copy_X': True, 'fit_intercept': True, 'n_jobs': 1, 'normalize': False}\n",
            "RMSE модели линейной регрессии на валидационной выборке: 3077.43\n"
          ]
        }
      ],
      "source": [
        "print(\"Лучшие гиперпараметры модели LinearRegression: \", best_params)\n",
        "print(\"RMSE модели линейной регрессии на валидационной выборке: %.2f\" % rmse_logreg)"
      ]
    },
    {
      "cell_type": "markdown",
      "metadata": {
        "id": "RyBmntmJIAvQ"
      },
      "source": [
        "Обидно, но логистическая регрессия не вписалась в заданные рамки - RMSE больше 2500."
      ]
    },
    {
      "cell_type": "markdown",
      "metadata": {
        "id": "OZPr7hW-IAvQ"
      },
      "source": [
        "### Модель экстремального градиентного бустинга."
      ]
    },
    {
      "cell_type": "markdown",
      "metadata": {
        "id": "du50LZpOIAvQ"
      },
      "source": [
        "Создаю и обучаю модель."
      ]
    },
    {
      "cell_type": "code",
      "execution_count": null,
      "metadata": {
        "id": "AtbeATzfIAvQ",
        "outputId": "b69fb3b6-607d-4cb1-a046-efe5fc14bb2e"
      },
      "outputs": [
        {
          "name": "stdout",
          "output_type": "stream",
          "text": [
            "[0]\tvalidation_0-rmse:6606.65869\n",
            "[100]\tvalidation_0-rmse:1554.02234\n",
            "[200]\tvalidation_0-rmse:1532.23633\n",
            "[300]\tvalidation_0-rmse:1524.89600\n",
            "[361]\tvalidation_0-rmse:1525.35059\n"
          ]
        },
        {
          "data": {
            "text/plain": [
              "XGBRegressor(base_score=0.5, booster='gbtree', colsample_bylevel=1,\n",
              "             colsample_bynode=1, colsample_bytree=0.8, enable_categorical=False,\n",
              "             gamma=0, gpu_id=-1, importance_type=None,\n",
              "             interaction_constraints='', learning_rate=0.1, max_delta_step=0,\n",
              "             max_depth=10, min_child_weight=1, missing=nan,\n",
              "             monotone_constraints='()', n_estimators=1000, n_jobs=8,\n",
              "             num_parallel_tree=1, predictor='auto', random_state=12345,\n",
              "             reg_alpha=0, reg_lambda=1, scale_pos_weight=1, subsample=0.8,\n",
              "             tree_method='exact', validate_parameters=1, verbosity=None)"
            ]
          },
          "execution_count": 52,
          "metadata": {},
          "output_type": "execute_result"
        }
      ],
      "source": [
        "start_time = time.time()\n",
        "\n",
        "model_extreme = XGBRegressor(n_estimators=1000, learning_rate=0.1,max_depth=10, random_state=12345, subsample=0.8,\n",
        "                         colsample_bytree=0.8)\n",
        "\n",
        "model_extreme.fit(features_train, target_train, eval_set=[(features_valid, target_valid)], early_stopping_rounds=50,\n",
        "                  verbose=100)"
      ]
    },
    {
      "cell_type": "markdown",
      "metadata": {
        "id": "sZ5TOWwcIAvQ"
      },
      "source": [
        "Вычисляю и вывожу на экран время обучения модели экстремального градиентного бустинга."
      ]
    },
    {
      "cell_type": "code",
      "execution_count": null,
      "metadata": {
        "id": "KpgWl9GfIAvR",
        "outputId": "d96c221f-77ba-4671-f3e3-d01a8eb02240"
      },
      "outputs": [
        {
          "name": "stdout",
          "output_type": "stream",
          "text": [
            "Время обучения XGBRegressor: 256.01919889450073 секунд\n"
          ]
        }
      ],
      "source": [
        "end_time = time.time()\n",
        "training_time_extreme = end_time - start_time\n",
        "print(\"Время обучения XGBRegressor: %s секунд\" % training_time_extreme)"
      ]
    },
    {
      "cell_type": "markdown",
      "metadata": {
        "id": "ZwHVMv65IAvR"
      },
      "source": [
        "Вычисляю и вывожу на экран время предсказания модели экстремального градиентного бустинга."
      ]
    },
    {
      "cell_type": "code",
      "execution_count": null,
      "metadata": {
        "id": "SFQBlC_sIAvR",
        "outputId": "467607a7-f688-4ffa-f57e-4239a5ba788d"
      },
      "outputs": [
        {
          "name": "stdout",
          "output_type": "stream",
          "text": [
            "Время предсказания XGBRegressor: 0.5615224838256836 секунд\n"
          ]
        }
      ],
      "source": [
        "start_time = time.time()\n",
        "y_pred_extreme = model_extreme.predict(features_valid)\n",
        "end_time = time.time()\n",
        "prediction_time_extreme = end_time - start_time\n",
        "print(\"Время предсказания XGBRegressor: %s секунд\" % prediction_time_extreme)"
      ]
    },
    {
      "cell_type": "markdown",
      "metadata": {
        "id": "FAfUokCZIAvR"
      },
      "source": [
        "Провожу оценку качества модели."
      ]
    },
    {
      "cell_type": "code",
      "execution_count": null,
      "metadata": {
        "id": "Z-iPQ299IAvR",
        "outputId": "01b2877a-f809-4f0f-de3b-14f1cd36f1f7"
      },
      "outputs": [
        {
          "name": "stdout",
          "output_type": "stream",
          "text": [
            "RMSE модели экстремального градиентного бустинга на валидационной выборке: 1524.16\n"
          ]
        }
      ],
      "source": [
        "rmse_extreme = mean_squared_error(target_valid, model_extreme.predict(features_valid), squared=False)\n",
        "print(\"RMSE модели экстремального градиентного бустинга на валидационной выборке: %.2f\" % rmse_extreme)"
      ]
    },
    {
      "cell_type": "markdown",
      "metadata": {
        "id": "Dg5iVjSGIAvR"
      },
      "source": [
        "Лучший результат - 1524,16!"
      ]
    },
    {
      "cell_type": "markdown",
      "metadata": {
        "id": "4vTfop9eIAvR"
      },
      "source": [
        "### Промежуточные выводы"
      ]
    },
    {
      "cell_type": "markdown",
      "metadata": {
        "id": "f5XKx-CgIAvR"
      },
      "source": [
        "1. Подотовлены обучающая, тестовая и валидационная выборки в соотношении 80/10/10.\n",
        "2. Проведён расчёт на следующих моделях: Лёгкой машины, Бустинг для атегориальных признаков, Логистическая регрессия, Экстремальный градиентный бустинг;\n",
        "3. Лучшее результат по метрике RMSE у модели экстремального градиентного бустинга."
      ]
    },
    {
      "cell_type": "markdown",
      "metadata": {
        "id": "Ao1Hij3lIAvS"
      },
      "source": [
        "## Анализ моделей"
      ]
    },
    {
      "cell_type": "markdown",
      "metadata": {
        "id": "9pKbl2z4IAvS"
      },
      "source": [
        "Проверяю модель экстремального градиентного бустинга на тестовой выборке."
      ]
    },
    {
      "cell_type": "code",
      "execution_count": null,
      "metadata": {
        "id": "FDpSkONNIAvS",
        "outputId": "b77083df-6f97-4dad-b3ad-b175d0da4e25"
      },
      "outputs": [
        {
          "name": "stdout",
          "output_type": "stream",
          "text": [
            "RMSE модели экстремального градиентного бустинга на тестовой выборке: 1512.58\n"
          ]
        }
      ],
      "source": [
        "rmse_test = mean_squared_error(target_test, model_extreme.predict(features_test), squared=False)\n",
        "print(\"RMSE модели экстремального градиентного бустинга на тестовой выборке: %.2f\" % rmse_test)"
      ]
    },
    {
      "cell_type": "markdown",
      "metadata": {
        "id": "twZJXK1NIAvS"
      },
      "source": [
        "## Выводы\n",
        "1. Проведена загрузка изучение и подготовка данных;\n",
        "2. Проведено обучение нескольких моделей, фиксировалось вемя обучение и значение метрики RMSE;\n",
        "3. Лучший результат, не смотря на очень большое время обучения показала модель экстремального градиентного бустинга;\n",
        "4. Проведен анализ лучшей модели на тестовой выборке, результат - RMSE = 1512,58."
      ]
    },
    {
      "cell_type": "markdown",
      "metadata": {
        "id": "nNF8G8W4IAvS"
      },
      "source": [
        "## Чек-лист проверки"
      ]
    },
    {
      "cell_type": "markdown",
      "metadata": {
        "id": "3QwgF89IIAvT"
      },
      "source": [
        "Поставьте 'x' в выполненных пунктах. Далее нажмите Shift+Enter."
      ]
    },
    {
      "cell_type": "markdown",
      "metadata": {
        "id": "O49mn7OhIAvT"
      },
      "source": [
        "- [x]  Jupyter Notebook открыт\n",
        "- [x]  Весь код выполняется без ошибок\n",
        "- [x]  Ячейки с кодом расположены в порядке исполнения\n",
        "- [x]  Выполнена загрузка и подготовка данных\n",
        "- [x]  Выполнено обучение моделей\n",
        "- [x]  Есть анализ скорости работы и качества моделей"
      ]
    }
  ],
  "metadata": {
    "ExecuteTimeLog": [
      {
        "duration": 1881,
        "start_time": "2023-08-25T07:22:39.222Z"
      },
      {
        "duration": 30,
        "start_time": "2023-08-25T07:23:31.697Z"
      },
      {
        "duration": 3470,
        "start_time": "2023-08-25T07:24:16.770Z"
      },
      {
        "duration": 1239,
        "start_time": "2023-08-25T07:27:07.006Z"
      },
      {
        "duration": 49,
        "start_time": "2023-08-25T07:27:28.953Z"
      },
      {
        "duration": 14,
        "start_time": "2023-08-25T07:28:06.900Z"
      },
      {
        "duration": 26,
        "start_time": "2023-08-25T07:32:12.813Z"
      },
      {
        "duration": 258,
        "start_time": "2023-08-25T07:34:06.591Z"
      },
      {
        "duration": 2448,
        "start_time": "2023-08-25T07:34:17.486Z"
      },
      {
        "duration": 1979,
        "start_time": "2023-08-25T07:35:11.637Z"
      },
      {
        "duration": 1950,
        "start_time": "2023-08-25T07:35:39.491Z"
      },
      {
        "duration": 1813,
        "start_time": "2023-08-25T07:36:08.632Z"
      },
      {
        "duration": 27,
        "start_time": "2023-08-25T07:38:07.268Z"
      },
      {
        "duration": 61,
        "start_time": "2023-08-25T07:39:15.719Z"
      },
      {
        "duration": 1707,
        "start_time": "2023-08-25T07:39:33.438Z"
      },
      {
        "duration": 926,
        "start_time": "2023-08-25T07:39:35.147Z"
      },
      {
        "duration": 40,
        "start_time": "2023-08-25T07:39:36.074Z"
      },
      {
        "duration": 85,
        "start_time": "2023-08-25T07:39:36.116Z"
      },
      {
        "duration": 1706,
        "start_time": "2023-08-25T07:39:56.649Z"
      },
      {
        "duration": 958,
        "start_time": "2023-08-25T07:39:58.357Z"
      },
      {
        "duration": 20,
        "start_time": "2023-08-25T07:39:59.317Z"
      },
      {
        "duration": 36,
        "start_time": "2023-08-25T07:39:59.340Z"
      },
      {
        "duration": 13,
        "start_time": "2023-08-25T07:40:30.807Z"
      },
      {
        "duration": 7,
        "start_time": "2023-08-25T07:42:14.676Z"
      },
      {
        "duration": 14,
        "start_time": "2023-08-25T07:43:34.033Z"
      },
      {
        "duration": 34,
        "start_time": "2023-08-25T07:46:12.595Z"
      },
      {
        "duration": 61,
        "start_time": "2023-08-25T07:46:25.153Z"
      },
      {
        "duration": 95,
        "start_time": "2023-08-25T07:49:38.466Z"
      },
      {
        "duration": 80,
        "start_time": "2023-08-25T07:50:15.805Z"
      },
      {
        "duration": 537,
        "start_time": "2023-08-25T07:52:32.181Z"
      },
      {
        "duration": 983,
        "start_time": "2023-08-25T08:02:02.362Z"
      },
      {
        "duration": 254,
        "start_time": "2023-08-25T08:05:31.187Z"
      },
      {
        "duration": 254,
        "start_time": "2023-08-25T08:06:31.197Z"
      },
      {
        "duration": 255,
        "start_time": "2023-08-25T08:07:03.363Z"
      },
      {
        "duration": 249,
        "start_time": "2023-08-25T08:07:16.550Z"
      },
      {
        "duration": 2243,
        "start_time": "2023-08-26T13:58:37.976Z"
      },
      {
        "duration": 1241,
        "start_time": "2023-08-26T13:58:40.221Z"
      },
      {
        "duration": 19,
        "start_time": "2023-08-26T13:58:41.464Z"
      },
      {
        "duration": 34,
        "start_time": "2023-08-26T13:58:41.486Z"
      },
      {
        "duration": 21,
        "start_time": "2023-08-26T13:58:41.522Z"
      },
      {
        "duration": 15,
        "start_time": "2023-08-26T13:58:41.544Z"
      },
      {
        "duration": 67,
        "start_time": "2023-08-26T13:58:41.561Z"
      },
      {
        "duration": 104,
        "start_time": "2023-08-26T13:58:41.697Z"
      },
      {
        "duration": 91,
        "start_time": "2023-08-26T13:58:42.585Z"
      },
      {
        "duration": 245,
        "start_time": "2023-08-26T13:58:43.275Z"
      },
      {
        "duration": 8819,
        "start_time": "2023-08-26T13:59:54.923Z"
      },
      {
        "duration": 202,
        "start_time": "2023-08-26T14:00:45.161Z"
      },
      {
        "duration": 207,
        "start_time": "2023-08-26T14:03:35.681Z"
      },
      {
        "duration": 1993,
        "start_time": "2023-08-26T14:04:54.020Z"
      },
      {
        "duration": 899,
        "start_time": "2023-08-26T14:04:56.015Z"
      },
      {
        "duration": 18,
        "start_time": "2023-08-26T14:04:56.916Z"
      },
      {
        "duration": 526,
        "start_time": "2023-08-26T14:05:00.539Z"
      },
      {
        "duration": 592,
        "start_time": "2023-08-26T14:05:52.204Z"
      },
      {
        "duration": 37,
        "start_time": "2023-08-26T14:06:10.989Z"
      },
      {
        "duration": 12,
        "start_time": "2023-08-26T14:06:12.941Z"
      },
      {
        "duration": 12,
        "start_time": "2023-08-26T14:06:15.869Z"
      },
      {
        "duration": 57,
        "start_time": "2023-08-26T14:06:20.021Z"
      },
      {
        "duration": 103,
        "start_time": "2023-08-26T14:06:22.477Z"
      },
      {
        "duration": 88,
        "start_time": "2023-08-26T14:06:27.498Z"
      },
      {
        "duration": 241,
        "start_time": "2023-08-26T14:06:31.023Z"
      },
      {
        "duration": 206,
        "start_time": "2023-08-26T14:06:32.981Z"
      },
      {
        "duration": 87,
        "start_time": "2023-08-26T14:07:01.100Z"
      },
      {
        "duration": 1539,
        "start_time": "2023-08-27T08:35:47.667Z"
      },
      {
        "duration": 1093,
        "start_time": "2023-08-27T08:35:49.208Z"
      },
      {
        "duration": 18,
        "start_time": "2023-08-27T08:35:50.303Z"
      },
      {
        "duration": 473,
        "start_time": "2023-08-27T08:35:50.323Z"
      },
      {
        "duration": 495,
        "start_time": "2023-08-27T08:35:50.797Z"
      },
      {
        "duration": 32,
        "start_time": "2023-08-27T08:35:51.294Z"
      },
      {
        "duration": 11,
        "start_time": "2023-08-27T08:35:51.327Z"
      },
      {
        "duration": 10,
        "start_time": "2023-08-27T08:35:51.340Z"
      },
      {
        "duration": 43,
        "start_time": "2023-08-27T08:35:51.352Z"
      },
      {
        "duration": 102,
        "start_time": "2023-08-27T08:35:51.397Z"
      },
      {
        "duration": 86,
        "start_time": "2023-08-27T08:35:51.500Z"
      },
      {
        "duration": 223,
        "start_time": "2023-08-27T08:35:51.587Z"
      },
      {
        "duration": 197,
        "start_time": "2023-08-27T08:35:51.812Z"
      },
      {
        "duration": 75,
        "start_time": "2023-08-27T08:35:52.011Z"
      },
      {
        "duration": 8,
        "start_time": "2023-08-27T08:37:33.581Z"
      },
      {
        "duration": 34,
        "start_time": "2023-08-27T08:39:02.884Z"
      },
      {
        "duration": 1405,
        "start_time": "2023-08-27T08:41:48.437Z"
      },
      {
        "duration": 874,
        "start_time": "2023-08-27T08:41:49.844Z"
      },
      {
        "duration": 16,
        "start_time": "2023-08-27T08:41:50.720Z"
      },
      {
        "duration": 505,
        "start_time": "2023-08-27T08:41:50.738Z"
      },
      {
        "duration": 542,
        "start_time": "2023-08-27T08:41:51.244Z"
      },
      {
        "duration": 26,
        "start_time": "2023-08-27T08:41:51.788Z"
      },
      {
        "duration": 14,
        "start_time": "2023-08-27T08:41:51.824Z"
      },
      {
        "duration": 17,
        "start_time": "2023-08-27T08:41:51.840Z"
      },
      {
        "duration": 52,
        "start_time": "2023-08-27T08:41:51.859Z"
      },
      {
        "duration": 92,
        "start_time": "2023-08-27T08:41:51.913Z"
      },
      {
        "duration": 82,
        "start_time": "2023-08-27T08:41:52.007Z"
      },
      {
        "duration": 359,
        "start_time": "2023-08-27T08:41:52.091Z"
      },
      {
        "duration": 223,
        "start_time": "2023-08-27T08:41:52.452Z"
      },
      {
        "duration": 82,
        "start_time": "2023-08-27T08:41:52.676Z"
      },
      {
        "duration": 465,
        "start_time": "2023-08-27T08:41:52.761Z"
      },
      {
        "duration": 33,
        "start_time": "2023-08-27T08:41:53.681Z"
      },
      {
        "duration": 521,
        "start_time": "2023-08-27T08:43:12.564Z"
      },
      {
        "duration": 1382,
        "start_time": "2023-08-27T08:43:32.767Z"
      },
      {
        "duration": 821,
        "start_time": "2023-08-27T08:43:34.151Z"
      },
      {
        "duration": 16,
        "start_time": "2023-08-27T08:43:34.974Z"
      },
      {
        "duration": 492,
        "start_time": "2023-08-27T08:43:34.992Z"
      },
      {
        "duration": 551,
        "start_time": "2023-08-27T08:43:35.486Z"
      },
      {
        "duration": 27,
        "start_time": "2023-08-27T08:43:36.039Z"
      },
      {
        "duration": 13,
        "start_time": "2023-08-27T08:43:36.068Z"
      },
      {
        "duration": 17,
        "start_time": "2023-08-27T08:43:36.083Z"
      },
      {
        "duration": 59,
        "start_time": "2023-08-27T08:43:36.102Z"
      },
      {
        "duration": 94,
        "start_time": "2023-08-27T08:43:36.164Z"
      },
      {
        "duration": 86,
        "start_time": "2023-08-27T08:43:36.260Z"
      },
      {
        "duration": 230,
        "start_time": "2023-08-27T08:43:36.348Z"
      },
      {
        "duration": 206,
        "start_time": "2023-08-27T08:43:36.580Z"
      },
      {
        "duration": 78,
        "start_time": "2023-08-27T08:43:36.788Z"
      },
      {
        "duration": 413,
        "start_time": "2023-08-27T08:43:40.496Z"
      },
      {
        "duration": 29,
        "start_time": "2023-08-27T08:44:39.475Z"
      },
      {
        "duration": 73,
        "start_time": "2023-08-27T08:45:01.381Z"
      },
      {
        "duration": 29,
        "start_time": "2023-08-27T08:46:42.373Z"
      },
      {
        "duration": 60,
        "start_time": "2023-08-27T08:46:58.374Z"
      },
      {
        "duration": 413,
        "start_time": "2023-08-27T08:50:30.227Z"
      },
      {
        "duration": 22,
        "start_time": "2023-08-27T08:54:12.588Z"
      },
      {
        "duration": 30,
        "start_time": "2023-08-27T08:55:50.339Z"
      },
      {
        "duration": 56,
        "start_time": "2023-08-27T08:56:05.363Z"
      },
      {
        "duration": 1480,
        "start_time": "2023-08-27T08:57:46.736Z"
      },
      {
        "duration": 795,
        "start_time": "2023-08-27T08:57:48.218Z"
      },
      {
        "duration": 15,
        "start_time": "2023-08-27T08:57:49.015Z"
      },
      {
        "duration": 467,
        "start_time": "2023-08-27T08:57:49.032Z"
      },
      {
        "duration": 504,
        "start_time": "2023-08-27T08:57:49.501Z"
      },
      {
        "duration": 28,
        "start_time": "2023-08-27T08:57:50.007Z"
      },
      {
        "duration": 10,
        "start_time": "2023-08-27T08:57:50.037Z"
      },
      {
        "duration": 12,
        "start_time": "2023-08-27T08:57:50.048Z"
      },
      {
        "duration": 64,
        "start_time": "2023-08-27T08:57:50.061Z"
      },
      {
        "duration": 82,
        "start_time": "2023-08-27T08:57:50.127Z"
      },
      {
        "duration": 133,
        "start_time": "2023-08-27T08:57:50.211Z"
      },
      {
        "duration": 223,
        "start_time": "2023-08-27T08:57:50.346Z"
      },
      {
        "duration": 206,
        "start_time": "2023-08-27T08:57:50.570Z"
      },
      {
        "duration": 72,
        "start_time": "2023-08-27T08:57:50.778Z"
      },
      {
        "duration": 424,
        "start_time": "2023-08-27T08:57:51.219Z"
      },
      {
        "duration": 30,
        "start_time": "2023-08-27T08:57:55.321Z"
      },
      {
        "duration": 73,
        "start_time": "2023-08-27T08:57:56.208Z"
      },
      {
        "duration": 30,
        "start_time": "2023-08-27T08:57:57.080Z"
      },
      {
        "duration": 62,
        "start_time": "2023-08-27T08:57:57.641Z"
      },
      {
        "duration": 389,
        "start_time": "2023-08-27T08:57:58.347Z"
      },
      {
        "duration": 22,
        "start_time": "2023-08-27T08:57:58.946Z"
      },
      {
        "duration": 28,
        "start_time": "2023-08-27T08:57:59.786Z"
      },
      {
        "duration": 60,
        "start_time": "2023-08-27T08:58:01.966Z"
      },
      {
        "duration": 17,
        "start_time": "2023-08-27T08:58:24.453Z"
      },
      {
        "duration": 987,
        "start_time": "2023-08-27T09:01:12.336Z"
      },
      {
        "duration": 1400,
        "start_time": "2023-08-27T09:02:32.186Z"
      },
      {
        "duration": 1352,
        "start_time": "2023-08-27T09:04:22.867Z"
      },
      {
        "duration": 993,
        "start_time": "2023-08-27T09:07:50.656Z"
      },
      {
        "duration": 11,
        "start_time": "2023-08-27T09:08:53.307Z"
      },
      {
        "duration": 10,
        "start_time": "2023-08-27T09:08:58.804Z"
      },
      {
        "duration": 42,
        "start_time": "2023-08-27T09:09:13.142Z"
      },
      {
        "duration": 758,
        "start_time": "2023-08-27T09:14:16.992Z"
      },
      {
        "duration": 1542,
        "start_time": "2023-08-27T09:15:22.665Z"
      },
      {
        "duration": 800,
        "start_time": "2023-08-27T09:15:24.209Z"
      },
      {
        "duration": 20,
        "start_time": "2023-08-27T09:15:25.010Z"
      },
      {
        "duration": 458,
        "start_time": "2023-08-27T09:15:25.032Z"
      },
      {
        "duration": 545,
        "start_time": "2023-08-27T09:15:25.491Z"
      },
      {
        "duration": 25,
        "start_time": "2023-08-27T09:15:26.037Z"
      },
      {
        "duration": 23,
        "start_time": "2023-08-27T09:15:26.064Z"
      },
      {
        "duration": 16,
        "start_time": "2023-08-27T09:15:26.089Z"
      },
      {
        "duration": 50,
        "start_time": "2023-08-27T09:15:26.106Z"
      },
      {
        "duration": 81,
        "start_time": "2023-08-27T09:15:26.158Z"
      },
      {
        "duration": 88,
        "start_time": "2023-08-27T09:15:26.241Z"
      },
      {
        "duration": 224,
        "start_time": "2023-08-27T09:15:26.331Z"
      },
      {
        "duration": 195,
        "start_time": "2023-08-27T09:15:26.557Z"
      },
      {
        "duration": 79,
        "start_time": "2023-08-27T09:15:26.754Z"
      },
      {
        "duration": 422,
        "start_time": "2023-08-27T09:15:26.834Z"
      },
      {
        "duration": 28,
        "start_time": "2023-08-27T09:15:27.258Z"
      },
      {
        "duration": 79,
        "start_time": "2023-08-27T09:15:27.288Z"
      },
      {
        "duration": 29,
        "start_time": "2023-08-27T09:15:30.524Z"
      },
      {
        "duration": 63,
        "start_time": "2023-08-27T09:15:31.316Z"
      },
      {
        "duration": 420,
        "start_time": "2023-08-27T09:15:34.355Z"
      },
      {
        "duration": 22,
        "start_time": "2023-08-27T09:15:37.749Z"
      },
      {
        "duration": 20,
        "start_time": "2023-08-27T09:15:40.876Z"
      },
      {
        "duration": 44,
        "start_time": "2023-08-27T09:16:01.572Z"
      },
      {
        "duration": 59,
        "start_time": "2023-08-27T09:19:51.261Z"
      },
      {
        "duration": 1504,
        "start_time": "2023-08-27T09:20:38.336Z"
      },
      {
        "duration": 859,
        "start_time": "2023-08-27T09:20:39.843Z"
      },
      {
        "duration": 25,
        "start_time": "2023-08-27T09:20:40.703Z"
      },
      {
        "duration": 492,
        "start_time": "2023-08-27T09:20:40.730Z"
      },
      {
        "duration": 535,
        "start_time": "2023-08-27T09:20:41.224Z"
      },
      {
        "duration": 25,
        "start_time": "2023-08-27T09:20:41.761Z"
      },
      {
        "duration": 25,
        "start_time": "2023-08-27T09:20:41.787Z"
      },
      {
        "duration": 29,
        "start_time": "2023-08-27T09:20:41.814Z"
      },
      {
        "duration": 49,
        "start_time": "2023-08-27T09:20:41.844Z"
      },
      {
        "duration": 88,
        "start_time": "2023-08-27T09:20:41.896Z"
      },
      {
        "duration": 86,
        "start_time": "2023-08-27T09:20:41.986Z"
      },
      {
        "duration": 249,
        "start_time": "2023-08-27T09:20:42.074Z"
      },
      {
        "duration": 206,
        "start_time": "2023-08-27T09:20:42.325Z"
      },
      {
        "duration": 71,
        "start_time": "2023-08-27T09:20:42.532Z"
      },
      {
        "duration": 479,
        "start_time": "2023-08-27T09:20:42.605Z"
      },
      {
        "duration": 39,
        "start_time": "2023-08-27T09:20:43.085Z"
      },
      {
        "duration": 68,
        "start_time": "2023-08-27T09:20:43.125Z"
      },
      {
        "duration": 39,
        "start_time": "2023-08-27T09:20:43.194Z"
      },
      {
        "duration": 110,
        "start_time": "2023-08-27T09:20:43.234Z"
      },
      {
        "duration": 395,
        "start_time": "2023-08-27T09:20:43.345Z"
      },
      {
        "duration": 25,
        "start_time": "2023-08-27T09:20:43.742Z"
      },
      {
        "duration": 27,
        "start_time": "2023-08-27T09:20:43.769Z"
      },
      {
        "duration": 12,
        "start_time": "2023-08-27T09:20:47.597Z"
      },
      {
        "duration": 43,
        "start_time": "2023-08-27T09:21:17.588Z"
      },
      {
        "duration": 59,
        "start_time": "2023-08-27T09:23:36.985Z"
      },
      {
        "duration": 1441,
        "start_time": "2023-08-27T09:23:52.711Z"
      },
      {
        "duration": 795,
        "start_time": "2023-08-27T09:23:54.154Z"
      },
      {
        "duration": 16,
        "start_time": "2023-08-27T09:23:54.951Z"
      },
      {
        "duration": 457,
        "start_time": "2023-08-27T09:23:54.970Z"
      },
      {
        "duration": 537,
        "start_time": "2023-08-27T09:23:55.429Z"
      },
      {
        "duration": 26,
        "start_time": "2023-08-27T09:23:55.968Z"
      },
      {
        "duration": 14,
        "start_time": "2023-08-27T09:23:55.995Z"
      },
      {
        "duration": 11,
        "start_time": "2023-08-27T09:23:56.024Z"
      },
      {
        "duration": 42,
        "start_time": "2023-08-27T09:23:56.036Z"
      },
      {
        "duration": 96,
        "start_time": "2023-08-27T09:23:56.080Z"
      },
      {
        "duration": 83,
        "start_time": "2023-08-27T09:23:56.177Z"
      },
      {
        "duration": 229,
        "start_time": "2023-08-27T09:23:56.262Z"
      },
      {
        "duration": 190,
        "start_time": "2023-08-27T09:23:56.493Z"
      },
      {
        "duration": 73,
        "start_time": "2023-08-27T09:23:56.685Z"
      },
      {
        "duration": 420,
        "start_time": "2023-08-27T09:23:56.759Z"
      },
      {
        "duration": 29,
        "start_time": "2023-08-27T09:23:57.180Z"
      },
      {
        "duration": 75,
        "start_time": "2023-08-27T09:23:57.211Z"
      },
      {
        "duration": 43,
        "start_time": "2023-08-27T09:23:57.287Z"
      },
      {
        "duration": 59,
        "start_time": "2023-08-27T09:23:57.332Z"
      },
      {
        "duration": 400,
        "start_time": "2023-08-27T09:23:57.393Z"
      },
      {
        "duration": 34,
        "start_time": "2023-08-27T09:23:57.795Z"
      },
      {
        "duration": 16,
        "start_time": "2023-08-27T09:23:57.830Z"
      },
      {
        "duration": 27,
        "start_time": "2023-08-27T09:23:57.848Z"
      },
      {
        "duration": 63,
        "start_time": "2023-08-27T09:24:27.061Z"
      },
      {
        "duration": 34,
        "start_time": "2023-08-27T09:25:12.468Z"
      },
      {
        "duration": 63,
        "start_time": "2023-08-27T09:25:14.681Z"
      },
      {
        "duration": 22,
        "start_time": "2023-08-27T09:25:20.771Z"
      },
      {
        "duration": 54,
        "start_time": "2023-08-27T09:25:22.144Z"
      },
      {
        "duration": 148,
        "start_time": "2023-08-27T09:26:57.208Z"
      },
      {
        "duration": 7,
        "start_time": "2023-08-27T09:27:44.902Z"
      },
      {
        "duration": 50,
        "start_time": "2023-08-27T09:29:17.061Z"
      },
      {
        "duration": 9,
        "start_time": "2023-08-27T09:37:22.348Z"
      },
      {
        "duration": 1501,
        "start_time": "2023-08-27T09:44:24.915Z"
      },
      {
        "duration": 782,
        "start_time": "2023-08-27T09:44:26.418Z"
      },
      {
        "duration": 22,
        "start_time": "2023-08-27T09:44:27.202Z"
      },
      {
        "duration": 462,
        "start_time": "2023-08-27T09:44:27.226Z"
      },
      {
        "duration": 501,
        "start_time": "2023-08-27T09:44:27.690Z"
      },
      {
        "duration": 34,
        "start_time": "2023-08-27T09:44:28.193Z"
      },
      {
        "duration": 9,
        "start_time": "2023-08-27T09:44:28.229Z"
      },
      {
        "duration": 11,
        "start_time": "2023-08-27T09:44:28.240Z"
      },
      {
        "duration": 42,
        "start_time": "2023-08-27T09:44:28.252Z"
      },
      {
        "duration": 105,
        "start_time": "2023-08-27T09:44:28.296Z"
      },
      {
        "duration": 83,
        "start_time": "2023-08-27T09:44:28.403Z"
      },
      {
        "duration": 271,
        "start_time": "2023-08-27T09:44:28.488Z"
      },
      {
        "duration": 226,
        "start_time": "2023-08-27T09:44:28.761Z"
      },
      {
        "duration": 84,
        "start_time": "2023-08-27T09:44:28.989Z"
      },
      {
        "duration": 481,
        "start_time": "2023-08-27T09:44:29.075Z"
      },
      {
        "duration": 29,
        "start_time": "2023-08-27T09:44:29.558Z"
      },
      {
        "duration": 85,
        "start_time": "2023-08-27T09:44:29.588Z"
      },
      {
        "duration": 28,
        "start_time": "2023-08-27T09:44:29.675Z"
      },
      {
        "duration": 75,
        "start_time": "2023-08-27T09:44:29.706Z"
      },
      {
        "duration": 426,
        "start_time": "2023-08-27T09:44:29.782Z"
      },
      {
        "duration": 25,
        "start_time": "2023-08-27T09:44:30.210Z"
      },
      {
        "duration": 80,
        "start_time": "2023-08-27T09:44:30.236Z"
      },
      {
        "duration": 123,
        "start_time": "2023-08-27T09:44:30.318Z"
      },
      {
        "duration": 193,
        "start_time": "2023-08-27T09:44:30.443Z"
      },
      {
        "duration": 781,
        "start_time": "2023-08-27T09:44:31.613Z"
      },
      {
        "duration": 306,
        "start_time": "2023-08-27T09:45:23.353Z"
      },
      {
        "duration": 383,
        "start_time": "2023-08-27T09:47:20.564Z"
      },
      {
        "duration": 581,
        "start_time": "2023-08-27T09:49:19.411Z"
      },
      {
        "duration": 5,
        "start_time": "2023-08-27T09:49:36.648Z"
      },
      {
        "duration": 1422,
        "start_time": "2023-08-27T09:50:26.616Z"
      },
      {
        "duration": 772,
        "start_time": "2023-08-27T09:50:28.040Z"
      },
      {
        "duration": 20,
        "start_time": "2023-08-27T09:50:28.814Z"
      },
      {
        "duration": 521,
        "start_time": "2023-08-27T09:50:28.837Z"
      },
      {
        "duration": 520,
        "start_time": "2023-08-27T09:50:29.361Z"
      },
      {
        "duration": 27,
        "start_time": "2023-08-27T09:50:29.883Z"
      },
      {
        "duration": 20,
        "start_time": "2023-08-27T09:50:29.912Z"
      },
      {
        "duration": 11,
        "start_time": "2023-08-27T09:50:29.933Z"
      },
      {
        "duration": 49,
        "start_time": "2023-08-27T09:50:29.945Z"
      },
      {
        "duration": 99,
        "start_time": "2023-08-27T09:50:29.997Z"
      },
      {
        "duration": 113,
        "start_time": "2023-08-27T09:50:30.098Z"
      },
      {
        "duration": 288,
        "start_time": "2023-08-27T09:50:30.213Z"
      },
      {
        "duration": 216,
        "start_time": "2023-08-27T09:50:30.503Z"
      },
      {
        "duration": 77,
        "start_time": "2023-08-27T09:50:30.723Z"
      },
      {
        "duration": 520,
        "start_time": "2023-08-27T09:50:30.802Z"
      },
      {
        "duration": 36,
        "start_time": "2023-08-27T09:50:31.324Z"
      },
      {
        "duration": 115,
        "start_time": "2023-08-27T09:50:31.362Z"
      },
      {
        "duration": 52,
        "start_time": "2023-08-27T09:50:31.479Z"
      },
      {
        "duration": 65,
        "start_time": "2023-08-27T09:50:31.535Z"
      },
      {
        "duration": 418,
        "start_time": "2023-08-27T09:50:31.602Z"
      },
      {
        "duration": 22,
        "start_time": "2023-08-27T09:50:32.023Z"
      },
      {
        "duration": 72,
        "start_time": "2023-08-27T09:50:32.047Z"
      },
      {
        "duration": 71,
        "start_time": "2023-08-27T09:50:32.121Z"
      },
      {
        "duration": 62,
        "start_time": "2023-08-27T09:50:32.193Z"
      },
      {
        "duration": 688,
        "start_time": "2023-08-27T09:50:32.471Z"
      },
      {
        "duration": 655,
        "start_time": "2023-08-27T09:50:33.645Z"
      },
      {
        "duration": 3,
        "start_time": "2023-08-27T09:50:34.653Z"
      },
      {
        "duration": 1558,
        "start_time": "2023-08-27T09:52:49.278Z"
      },
      {
        "duration": 815,
        "start_time": "2023-08-27T09:52:50.838Z"
      },
      {
        "duration": 15,
        "start_time": "2023-08-27T09:52:51.655Z"
      },
      {
        "duration": 477,
        "start_time": "2023-08-27T09:52:51.672Z"
      },
      {
        "duration": 517,
        "start_time": "2023-08-27T09:52:52.150Z"
      },
      {
        "duration": 26,
        "start_time": "2023-08-27T09:52:52.668Z"
      },
      {
        "duration": 28,
        "start_time": "2023-08-27T09:52:52.696Z"
      },
      {
        "duration": 15,
        "start_time": "2023-08-27T09:52:52.726Z"
      },
      {
        "duration": 47,
        "start_time": "2023-08-27T09:52:52.743Z"
      },
      {
        "duration": 113,
        "start_time": "2023-08-27T09:52:52.792Z"
      },
      {
        "duration": 101,
        "start_time": "2023-08-27T09:52:52.908Z"
      },
      {
        "duration": 255,
        "start_time": "2023-08-27T09:52:53.011Z"
      },
      {
        "duration": 208,
        "start_time": "2023-08-27T09:52:53.268Z"
      },
      {
        "duration": 85,
        "start_time": "2023-08-27T09:52:53.478Z"
      },
      {
        "duration": 432,
        "start_time": "2023-08-27T09:52:53.565Z"
      },
      {
        "duration": 30,
        "start_time": "2023-08-27T09:52:53.998Z"
      },
      {
        "duration": 66,
        "start_time": "2023-08-27T09:52:54.030Z"
      },
      {
        "duration": 45,
        "start_time": "2023-08-27T09:52:54.098Z"
      },
      {
        "duration": 59,
        "start_time": "2023-08-27T09:52:54.146Z"
      },
      {
        "duration": 383,
        "start_time": "2023-08-27T09:52:54.207Z"
      },
      {
        "duration": 32,
        "start_time": "2023-08-27T09:52:54.592Z"
      },
      {
        "duration": 16,
        "start_time": "2023-08-27T09:52:56.190Z"
      },
      {
        "duration": 26,
        "start_time": "2023-08-27T09:52:56.829Z"
      },
      {
        "duration": 58,
        "start_time": "2023-08-27T09:52:57.863Z"
      },
      {
        "duration": 657,
        "start_time": "2023-08-27T09:52:59.694Z"
      },
      {
        "duration": 672,
        "start_time": "2023-08-27T09:53:01.714Z"
      },
      {
        "duration": 4,
        "start_time": "2023-08-27T09:53:03.311Z"
      },
      {
        "duration": 1457,
        "start_time": "2023-08-27T09:54:06.212Z"
      },
      {
        "duration": 786,
        "start_time": "2023-08-27T09:54:07.671Z"
      },
      {
        "duration": 16,
        "start_time": "2023-08-27T09:54:08.458Z"
      },
      {
        "duration": 493,
        "start_time": "2023-08-27T09:54:08.476Z"
      },
      {
        "duration": 508,
        "start_time": "2023-08-27T09:54:08.970Z"
      },
      {
        "duration": 26,
        "start_time": "2023-08-27T09:54:09.480Z"
      },
      {
        "duration": 32,
        "start_time": "2023-08-27T09:54:09.508Z"
      },
      {
        "duration": 18,
        "start_time": "2023-08-27T09:54:09.542Z"
      },
      {
        "duration": 49,
        "start_time": "2023-08-27T09:54:09.562Z"
      },
      {
        "duration": 86,
        "start_time": "2023-08-27T09:54:09.623Z"
      },
      {
        "duration": 89,
        "start_time": "2023-08-27T09:54:09.711Z"
      },
      {
        "duration": 241,
        "start_time": "2023-08-27T09:54:09.802Z"
      },
      {
        "duration": 205,
        "start_time": "2023-08-27T09:54:10.045Z"
      },
      {
        "duration": 84,
        "start_time": "2023-08-27T09:54:10.252Z"
      },
      {
        "duration": 423,
        "start_time": "2023-08-27T09:54:10.338Z"
      },
      {
        "duration": 29,
        "start_time": "2023-08-27T09:54:10.763Z"
      },
      {
        "duration": 82,
        "start_time": "2023-08-27T09:54:10.794Z"
      },
      {
        "duration": 31,
        "start_time": "2023-08-27T09:54:10.880Z"
      },
      {
        "duration": 81,
        "start_time": "2023-08-27T09:54:10.913Z"
      },
      {
        "duration": 402,
        "start_time": "2023-08-27T09:54:10.997Z"
      },
      {
        "duration": 29,
        "start_time": "2023-08-27T09:54:11.401Z"
      },
      {
        "duration": 33,
        "start_time": "2023-08-27T09:54:11.432Z"
      },
      {
        "duration": 51,
        "start_time": "2023-08-27T09:54:11.467Z"
      },
      {
        "duration": 76,
        "start_time": "2023-08-27T09:54:11.520Z"
      },
      {
        "duration": 682,
        "start_time": "2023-08-27T09:54:11.598Z"
      },
      {
        "duration": 648,
        "start_time": "2023-08-27T09:54:12.282Z"
      },
      {
        "duration": 3,
        "start_time": "2023-08-27T09:54:12.933Z"
      },
      {
        "duration": 1545,
        "start_time": "2023-08-27T09:55:40.712Z"
      },
      {
        "duration": 830,
        "start_time": "2023-08-27T09:55:42.258Z"
      },
      {
        "duration": 15,
        "start_time": "2023-08-27T09:55:43.090Z"
      },
      {
        "duration": 490,
        "start_time": "2023-08-27T09:55:43.107Z"
      },
      {
        "duration": 511,
        "start_time": "2023-08-27T09:55:43.599Z"
      },
      {
        "duration": 26,
        "start_time": "2023-08-27T09:55:44.112Z"
      },
      {
        "duration": 29,
        "start_time": "2023-08-27T09:55:44.140Z"
      },
      {
        "duration": 41,
        "start_time": "2023-08-27T09:55:44.171Z"
      },
      {
        "duration": 109,
        "start_time": "2023-08-27T09:55:44.214Z"
      },
      {
        "duration": 109,
        "start_time": "2023-08-27T09:55:44.326Z"
      },
      {
        "duration": 118,
        "start_time": "2023-08-27T09:55:44.438Z"
      },
      {
        "duration": 250,
        "start_time": "2023-08-27T09:55:44.557Z"
      },
      {
        "duration": 189,
        "start_time": "2023-08-27T09:55:44.808Z"
      },
      {
        "duration": 80,
        "start_time": "2023-08-27T09:55:44.998Z"
      },
      {
        "duration": 426,
        "start_time": "2023-08-27T09:55:45.079Z"
      },
      {
        "duration": 36,
        "start_time": "2023-08-27T09:55:45.507Z"
      },
      {
        "duration": 66,
        "start_time": "2023-08-27T09:55:45.544Z"
      },
      {
        "duration": 39,
        "start_time": "2023-08-27T09:55:45.611Z"
      },
      {
        "duration": 75,
        "start_time": "2023-08-27T09:55:45.652Z"
      },
      {
        "duration": 451,
        "start_time": "2023-08-27T09:55:45.728Z"
      },
      {
        "duration": 25,
        "start_time": "2023-08-27T09:55:46.181Z"
      },
      {
        "duration": 47,
        "start_time": "2023-08-27T09:55:46.207Z"
      },
      {
        "duration": 43,
        "start_time": "2023-08-27T09:55:46.256Z"
      },
      {
        "duration": 83,
        "start_time": "2023-08-27T09:55:46.301Z"
      },
      {
        "duration": 682,
        "start_time": "2023-08-27T09:55:46.489Z"
      },
      {
        "duration": 319,
        "start_time": "2023-08-27T09:55:47.173Z"
      },
      {
        "duration": 0,
        "start_time": "2023-08-27T09:55:47.494Z"
      },
      {
        "duration": 1571,
        "start_time": "2023-08-27T10:19:11.600Z"
      },
      {
        "duration": 882,
        "start_time": "2023-08-27T10:19:13.173Z"
      },
      {
        "duration": 16,
        "start_time": "2023-08-27T10:19:14.056Z"
      },
      {
        "duration": 525,
        "start_time": "2023-08-27T10:19:14.074Z"
      },
      {
        "duration": 547,
        "start_time": "2023-08-27T10:19:14.600Z"
      },
      {
        "duration": 25,
        "start_time": "2023-08-27T10:19:15.149Z"
      },
      {
        "duration": 66,
        "start_time": "2023-08-27T10:19:15.176Z"
      },
      {
        "duration": 20,
        "start_time": "2023-08-27T10:19:15.244Z"
      },
      {
        "duration": 98,
        "start_time": "2023-08-27T10:19:15.266Z"
      },
      {
        "duration": 99,
        "start_time": "2023-08-27T10:19:15.368Z"
      },
      {
        "duration": 129,
        "start_time": "2023-08-27T10:19:15.469Z"
      },
      {
        "duration": 266,
        "start_time": "2023-08-27T10:19:15.600Z"
      },
      {
        "duration": 238,
        "start_time": "2023-08-27T10:19:15.867Z"
      },
      {
        "duration": 86,
        "start_time": "2023-08-27T10:19:16.109Z"
      },
      {
        "duration": 515,
        "start_time": "2023-08-27T10:19:16.197Z"
      },
      {
        "duration": 40,
        "start_time": "2023-08-27T10:19:16.714Z"
      },
      {
        "duration": 150,
        "start_time": "2023-08-27T10:19:16.757Z"
      },
      {
        "duration": 51,
        "start_time": "2023-08-27T10:19:16.908Z"
      },
      {
        "duration": 73,
        "start_time": "2023-08-27T10:19:16.961Z"
      },
      {
        "duration": 429,
        "start_time": "2023-08-27T10:19:17.037Z"
      },
      {
        "duration": 24,
        "start_time": "2023-08-27T10:19:17.468Z"
      },
      {
        "duration": 37,
        "start_time": "2023-08-27T10:19:17.494Z"
      },
      {
        "duration": 29,
        "start_time": "2023-08-27T10:19:17.534Z"
      },
      {
        "duration": 77,
        "start_time": "2023-08-27T10:19:17.565Z"
      },
      {
        "duration": 686,
        "start_time": "2023-08-27T10:19:17.871Z"
      },
      {
        "duration": 589,
        "start_time": "2023-08-27T10:19:23.112Z"
      },
      {
        "duration": 432,
        "start_time": "2023-08-27T10:20:15.320Z"
      },
      {
        "duration": 4,
        "start_time": "2023-08-27T10:20:18.798Z"
      },
      {
        "duration": 1966,
        "start_time": "2023-08-28T14:47:31.522Z"
      },
      {
        "duration": 1431,
        "start_time": "2023-08-28T14:47:33.491Z"
      },
      {
        "duration": 20,
        "start_time": "2023-08-28T14:47:34.924Z"
      },
      {
        "duration": 588,
        "start_time": "2023-08-28T14:47:34.947Z"
      },
      {
        "duration": 735,
        "start_time": "2023-08-28T14:47:35.538Z"
      },
      {
        "duration": 36,
        "start_time": "2023-08-28T14:47:36.276Z"
      },
      {
        "duration": 43,
        "start_time": "2023-08-28T14:47:36.314Z"
      },
      {
        "duration": 30,
        "start_time": "2023-08-28T14:47:36.359Z"
      },
      {
        "duration": 80,
        "start_time": "2023-08-28T14:47:36.391Z"
      },
      {
        "duration": 174,
        "start_time": "2023-08-28T14:47:36.474Z"
      },
      {
        "duration": 99,
        "start_time": "2023-08-28T14:47:36.651Z"
      },
      {
        "duration": 360,
        "start_time": "2023-08-28T14:47:36.753Z"
      },
      {
        "duration": 347,
        "start_time": "2023-08-28T14:47:37.116Z"
      },
      {
        "duration": 101,
        "start_time": "2023-08-28T14:47:37.465Z"
      },
      {
        "duration": 804,
        "start_time": "2023-08-28T14:47:37.570Z"
      },
      {
        "duration": 46,
        "start_time": "2023-08-28T14:47:38.377Z"
      },
      {
        "duration": 91,
        "start_time": "2023-08-28T14:47:38.425Z"
      },
      {
        "duration": 51,
        "start_time": "2023-08-28T14:47:38.519Z"
      },
      {
        "duration": 98,
        "start_time": "2023-08-28T14:47:38.573Z"
      },
      {
        "duration": 637,
        "start_time": "2023-08-28T14:47:38.675Z"
      },
      {
        "duration": 38,
        "start_time": "2023-08-28T14:47:39.314Z"
      },
      {
        "duration": 24,
        "start_time": "2023-08-28T14:47:39.655Z"
      },
      {
        "duration": 41,
        "start_time": "2023-08-28T14:47:40.460Z"
      },
      {
        "duration": 81,
        "start_time": "2023-08-28T14:47:41.356Z"
      },
      {
        "duration": 1051,
        "start_time": "2023-08-28T14:47:43.266Z"
      },
      {
        "duration": 606,
        "start_time": "2023-08-28T14:47:45.807Z"
      },
      {
        "duration": 5,
        "start_time": "2023-08-28T14:47:48.554Z"
      },
      {
        "duration": 19,
        "start_time": "2023-08-28T14:57:54.651Z"
      },
      {
        "duration": 125,
        "start_time": "2023-08-28T14:58:41.220Z"
      },
      {
        "duration": 36,
        "start_time": "2023-08-28T14:59:13.613Z"
      },
      {
        "duration": 47,
        "start_time": "2023-08-28T14:59:36.303Z"
      },
      {
        "duration": 7,
        "start_time": "2023-08-28T15:15:41.908Z"
      },
      {
        "duration": 166,
        "start_time": "2023-08-28T15:15:53.662Z"
      },
      {
        "duration": 872,
        "start_time": "2023-08-28T15:22:34.610Z"
      },
      {
        "duration": 500907,
        "start_time": "2023-08-28T15:26:06.574Z"
      },
      {
        "duration": 92,
        "start_time": "2023-08-28T15:41:32.015Z"
      },
      {
        "duration": 1626,
        "start_time": "2023-08-28T15:49:58.428Z"
      },
      {
        "duration": 1000,
        "start_time": "2023-08-28T15:50:00.056Z"
      },
      {
        "duration": 18,
        "start_time": "2023-08-28T15:50:01.058Z"
      },
      {
        "duration": 584,
        "start_time": "2023-08-28T15:50:01.079Z"
      },
      {
        "duration": 575,
        "start_time": "2023-08-28T15:50:01.664Z"
      },
      {
        "duration": 27,
        "start_time": "2023-08-28T15:50:02.242Z"
      },
      {
        "duration": 48,
        "start_time": "2023-08-28T15:50:02.271Z"
      },
      {
        "duration": 34,
        "start_time": "2023-08-28T15:50:02.321Z"
      },
      {
        "duration": 79,
        "start_time": "2023-08-28T15:50:02.357Z"
      },
      {
        "duration": 133,
        "start_time": "2023-08-28T15:50:02.440Z"
      },
      {
        "duration": 133,
        "start_time": "2023-08-28T15:50:02.575Z"
      },
      {
        "duration": 270,
        "start_time": "2023-08-28T15:50:02.710Z"
      },
      {
        "duration": 222,
        "start_time": "2023-08-28T15:50:02.981Z"
      },
      {
        "duration": 83,
        "start_time": "2023-08-28T15:50:03.204Z"
      },
      {
        "duration": 492,
        "start_time": "2023-08-28T15:50:03.289Z"
      },
      {
        "duration": 45,
        "start_time": "2023-08-28T15:50:03.783Z"
      },
      {
        "duration": 85,
        "start_time": "2023-08-28T15:50:03.830Z"
      },
      {
        "duration": 37,
        "start_time": "2023-08-28T15:50:03.917Z"
      },
      {
        "duration": 92,
        "start_time": "2023-08-28T15:50:03.956Z"
      },
      {
        "duration": 458,
        "start_time": "2023-08-28T15:50:04.051Z"
      },
      {
        "duration": 24,
        "start_time": "2023-08-28T15:50:04.511Z"
      },
      {
        "duration": 42,
        "start_time": "2023-08-28T15:50:04.537Z"
      },
      {
        "duration": 30,
        "start_time": "2023-08-28T15:50:04.582Z"
      },
      {
        "duration": 66,
        "start_time": "2023-08-28T15:50:04.614Z"
      },
      {
        "duration": 881,
        "start_time": "2023-08-28T15:50:04.682Z"
      },
      {
        "duration": 536,
        "start_time": "2023-08-28T15:50:05.565Z"
      },
      {
        "duration": 5,
        "start_time": "2023-08-28T15:50:06.108Z"
      },
      {
        "duration": 33,
        "start_time": "2023-08-28T15:50:06.115Z"
      },
      {
        "duration": 130,
        "start_time": "2023-08-28T15:50:06.520Z"
      },
      {
        "duration": 32,
        "start_time": "2023-08-28T15:50:07.135Z"
      },
      {
        "duration": 33,
        "start_time": "2023-08-28T15:50:07.659Z"
      },
      {
        "duration": 252,
        "start_time": "2023-08-28T15:50:09.734Z"
      },
      {
        "duration": 1524,
        "start_time": "2023-08-28T15:58:29.862Z"
      },
      {
        "duration": 826,
        "start_time": "2023-08-28T15:58:31.388Z"
      },
      {
        "duration": 17,
        "start_time": "2023-08-28T15:58:32.216Z"
      },
      {
        "duration": 552,
        "start_time": "2023-08-28T15:58:32.235Z"
      },
      {
        "duration": 512,
        "start_time": "2023-08-28T15:58:32.789Z"
      },
      {
        "duration": 25,
        "start_time": "2023-08-28T15:58:33.303Z"
      },
      {
        "duration": 58,
        "start_time": "2023-08-28T15:58:33.330Z"
      },
      {
        "duration": 62,
        "start_time": "2023-08-28T15:58:33.390Z"
      },
      {
        "duration": 52,
        "start_time": "2023-08-28T15:58:33.453Z"
      },
      {
        "duration": 92,
        "start_time": "2023-08-28T15:58:33.507Z"
      },
      {
        "duration": 85,
        "start_time": "2023-08-28T15:58:33.601Z"
      },
      {
        "duration": 252,
        "start_time": "2023-08-28T15:58:33.687Z"
      },
      {
        "duration": 202,
        "start_time": "2023-08-28T15:58:33.940Z"
      },
      {
        "duration": 83,
        "start_time": "2023-08-28T15:58:34.144Z"
      },
      {
        "duration": 454,
        "start_time": "2023-08-28T15:58:34.228Z"
      },
      {
        "duration": 39,
        "start_time": "2023-08-28T15:58:34.684Z"
      },
      {
        "duration": 74,
        "start_time": "2023-08-28T15:58:34.724Z"
      },
      {
        "duration": 29,
        "start_time": "2023-08-28T15:58:34.809Z"
      },
      {
        "duration": 67,
        "start_time": "2023-08-28T15:58:35.027Z"
      },
      {
        "duration": 413,
        "start_time": "2023-08-28T15:58:35.279Z"
      },
      {
        "duration": 23,
        "start_time": "2023-08-28T15:58:36.272Z"
      },
      {
        "duration": 17,
        "start_time": "2023-08-28T15:58:37.097Z"
      },
      {
        "duration": 28,
        "start_time": "2023-08-28T15:58:37.758Z"
      },
      {
        "duration": 61,
        "start_time": "2023-08-28T15:58:38.991Z"
      },
      {
        "duration": 3,
        "start_time": "2023-08-28T15:58:39.720Z"
      },
      {
        "duration": 845,
        "start_time": "2023-08-28T15:58:42.037Z"
      },
      {
        "duration": 494,
        "start_time": "2023-08-28T15:58:42.883Z"
      },
      {
        "duration": 4,
        "start_time": "2023-08-28T15:58:43.379Z"
      },
      {
        "duration": 18,
        "start_time": "2023-08-28T15:58:44.476Z"
      },
      {
        "duration": 119,
        "start_time": "2023-08-28T15:58:45.662Z"
      },
      {
        "duration": 31,
        "start_time": "2023-08-28T15:58:45.977Z"
      },
      {
        "duration": 30,
        "start_time": "2023-08-28T15:58:46.177Z"
      },
      {
        "duration": 199,
        "start_time": "2023-08-28T15:58:47.513Z"
      },
      {
        "duration": 314,
        "start_time": "2023-08-28T16:06:46.643Z"
      },
      {
        "duration": 117,
        "start_time": "2023-08-28T16:07:30.667Z"
      },
      {
        "duration": 13,
        "start_time": "2023-08-28T16:12:22.964Z"
      },
      {
        "duration": 5,
        "start_time": "2023-08-28T16:13:15.124Z"
      },
      {
        "duration": 84609,
        "start_time": "2023-08-28T16:13:25.534Z"
      },
      {
        "duration": 122871,
        "start_time": "2023-08-28T16:16:16.351Z"
      },
      {
        "duration": 1627,
        "start_time": "2023-08-29T14:17:26.267Z"
      },
      {
        "duration": 1122,
        "start_time": "2023-08-29T14:17:27.896Z"
      },
      {
        "duration": 26,
        "start_time": "2023-08-29T14:17:29.020Z"
      },
      {
        "duration": 443,
        "start_time": "2023-08-29T14:17:29.048Z"
      },
      {
        "duration": 490,
        "start_time": "2023-08-29T14:17:29.493Z"
      },
      {
        "duration": 25,
        "start_time": "2023-08-29T14:17:29.985Z"
      },
      {
        "duration": 77,
        "start_time": "2023-08-29T14:17:30.012Z"
      },
      {
        "duration": 53,
        "start_time": "2023-08-29T14:17:30.091Z"
      },
      {
        "duration": 78,
        "start_time": "2023-08-29T14:17:30.146Z"
      },
      {
        "duration": 103,
        "start_time": "2023-08-29T14:17:30.226Z"
      },
      {
        "duration": 113,
        "start_time": "2023-08-29T14:17:30.331Z"
      },
      {
        "duration": 303,
        "start_time": "2023-08-29T14:17:30.445Z"
      },
      {
        "duration": 195,
        "start_time": "2023-08-29T14:17:30.749Z"
      },
      {
        "duration": 66,
        "start_time": "2023-08-29T14:17:30.949Z"
      },
      {
        "duration": 430,
        "start_time": "2023-08-29T14:17:31.017Z"
      },
      {
        "duration": 31,
        "start_time": "2023-08-29T14:17:31.448Z"
      },
      {
        "duration": 253,
        "start_time": "2023-08-29T14:17:31.480Z"
      },
      {
        "duration": 29,
        "start_time": "2023-08-29T14:17:31.740Z"
      },
      {
        "duration": 95,
        "start_time": "2023-08-29T14:17:31.771Z"
      },
      {
        "duration": 397,
        "start_time": "2023-08-29T14:17:31.869Z"
      },
      {
        "duration": 21,
        "start_time": "2023-08-29T14:17:32.268Z"
      },
      {
        "duration": 51,
        "start_time": "2023-08-29T14:17:32.291Z"
      },
      {
        "duration": 26,
        "start_time": "2023-08-29T14:17:32.350Z"
      },
      {
        "duration": 60,
        "start_time": "2023-08-29T14:17:32.378Z"
      },
      {
        "duration": 618,
        "start_time": "2023-08-29T14:17:32.445Z"
      },
      {
        "duration": 487,
        "start_time": "2023-08-29T14:17:33.065Z"
      },
      {
        "duration": 5,
        "start_time": "2023-08-29T14:17:33.554Z"
      },
      {
        "duration": 21,
        "start_time": "2023-08-29T14:17:33.560Z"
      },
      {
        "duration": 133,
        "start_time": "2023-08-29T14:17:33.582Z"
      },
      {
        "duration": 33,
        "start_time": "2023-08-29T14:17:33.717Z"
      },
      {
        "duration": 27,
        "start_time": "2023-08-29T14:17:33.751Z"
      },
      {
        "duration": 565978,
        "start_time": "2023-08-29T14:17:33.780Z"
      },
      {
        "duration": 34191,
        "start_time": "2023-08-29T14:26:59.760Z"
      },
      {
        "duration": 720279,
        "start_time": "2023-08-29T14:31:23.855Z"
      },
      {
        "duration": 113,
        "start_time": "2023-08-29T14:46:51.408Z"
      },
      {
        "duration": 152,
        "start_time": "2023-08-29T14:47:41.215Z"
      },
      {
        "duration": 4836788,
        "start_time": "2023-08-29T14:47:54.169Z"
      },
      {
        "duration": 78,
        "start_time": "2023-08-29T23:21:28.169Z"
      },
      {
        "duration": 1978,
        "start_time": "2023-08-29T23:21:38.617Z"
      },
      {
        "duration": 1450,
        "start_time": "2023-08-29T23:21:40.597Z"
      },
      {
        "duration": 17,
        "start_time": "2023-08-29T23:21:42.049Z"
      },
      {
        "duration": 610,
        "start_time": "2023-08-29T23:21:42.068Z"
      },
      {
        "duration": 710,
        "start_time": "2023-08-29T23:21:42.680Z"
      },
      {
        "duration": 40,
        "start_time": "2023-08-29T23:21:43.392Z"
      },
      {
        "duration": 24,
        "start_time": "2023-08-29T23:21:43.435Z"
      },
      {
        "duration": 24,
        "start_time": "2023-08-29T23:21:43.461Z"
      },
      {
        "duration": 61,
        "start_time": "2023-08-29T23:21:43.487Z"
      },
      {
        "duration": 122,
        "start_time": "2023-08-29T23:21:43.550Z"
      },
      {
        "duration": 130,
        "start_time": "2023-08-29T23:21:43.674Z"
      },
      {
        "duration": 286,
        "start_time": "2023-08-29T23:21:43.806Z"
      },
      {
        "duration": 278,
        "start_time": "2023-08-29T23:21:44.094Z"
      },
      {
        "duration": 100,
        "start_time": "2023-08-29T23:21:44.374Z"
      },
      {
        "duration": 797,
        "start_time": "2023-08-29T23:21:44.476Z"
      },
      {
        "duration": 41,
        "start_time": "2023-08-29T23:21:45.275Z"
      },
      {
        "duration": 104,
        "start_time": "2023-08-29T23:21:45.318Z"
      },
      {
        "duration": 36,
        "start_time": "2023-08-29T23:21:45.425Z"
      },
      {
        "duration": 98,
        "start_time": "2023-08-29T23:21:45.463Z"
      },
      {
        "duration": 420,
        "start_time": "2023-08-29T23:21:45.563Z"
      },
      {
        "duration": 28,
        "start_time": "2023-08-29T23:21:45.984Z"
      },
      {
        "duration": 28,
        "start_time": "2023-08-29T23:21:46.014Z"
      },
      {
        "duration": 31,
        "start_time": "2023-08-29T23:21:46.043Z"
      },
      {
        "duration": 103,
        "start_time": "2023-08-29T23:21:46.075Z"
      },
      {
        "duration": 869,
        "start_time": "2023-08-29T23:21:46.180Z"
      },
      {
        "duration": 582,
        "start_time": "2023-08-29T23:21:47.051Z"
      },
      {
        "duration": 4,
        "start_time": "2023-08-29T23:21:47.637Z"
      },
      {
        "duration": 28,
        "start_time": "2023-08-29T23:21:47.646Z"
      },
      {
        "duration": 149,
        "start_time": "2023-08-29T23:21:47.676Z"
      },
      {
        "duration": 35,
        "start_time": "2023-08-29T23:21:47.830Z"
      },
      {
        "duration": 64,
        "start_time": "2023-08-29T23:21:47.867Z"
      },
      {
        "duration": 1903,
        "start_time": "2023-08-30T14:30:25.236Z"
      },
      {
        "duration": 2953,
        "start_time": "2023-08-30T14:30:28.474Z"
      },
      {
        "duration": 20,
        "start_time": "2023-08-30T14:30:31.429Z"
      },
      {
        "duration": 552,
        "start_time": "2023-08-30T14:30:31.451Z"
      },
      {
        "duration": 621,
        "start_time": "2023-08-30T14:30:32.006Z"
      },
      {
        "duration": 39,
        "start_time": "2023-08-30T14:30:32.629Z"
      },
      {
        "duration": 170,
        "start_time": "2023-08-30T14:30:32.669Z"
      },
      {
        "duration": 125,
        "start_time": "2023-08-30T14:30:32.841Z"
      },
      {
        "duration": 219,
        "start_time": "2023-08-30T14:30:32.967Z"
      },
      {
        "duration": 168,
        "start_time": "2023-08-30T14:30:33.188Z"
      },
      {
        "duration": 69,
        "start_time": "2023-08-30T14:30:33.358Z"
      },
      {
        "duration": 358,
        "start_time": "2023-08-30T14:30:33.429Z"
      },
      {
        "duration": 222,
        "start_time": "2023-08-30T14:30:33.789Z"
      },
      {
        "duration": 104,
        "start_time": "2023-08-30T14:30:34.013Z"
      },
      {
        "duration": 527,
        "start_time": "2023-08-30T14:30:34.120Z"
      },
      {
        "duration": 42,
        "start_time": "2023-08-30T14:30:34.649Z"
      },
      {
        "duration": 81,
        "start_time": "2023-08-30T14:30:34.693Z"
      },
      {
        "duration": 31,
        "start_time": "2023-08-30T14:30:34.776Z"
      },
      {
        "duration": 87,
        "start_time": "2023-08-30T14:30:34.808Z"
      },
      {
        "duration": 314,
        "start_time": "2023-08-30T14:30:34.896Z"
      },
      {
        "duration": 22,
        "start_time": "2023-08-30T14:30:35.212Z"
      },
      {
        "duration": 53,
        "start_time": "2023-08-30T14:30:35.236Z"
      },
      {
        "duration": 51,
        "start_time": "2023-08-30T14:30:35.291Z"
      },
      {
        "duration": 67,
        "start_time": "2023-08-30T14:30:35.344Z"
      },
      {
        "duration": 1037,
        "start_time": "2023-08-30T14:30:35.413Z"
      },
      {
        "duration": 540,
        "start_time": "2023-08-30T14:30:36.451Z"
      },
      {
        "duration": 4,
        "start_time": "2023-08-30T14:30:36.994Z"
      },
      {
        "duration": 43,
        "start_time": "2023-08-30T14:30:36.999Z"
      },
      {
        "duration": 118,
        "start_time": "2023-08-30T14:30:37.044Z"
      },
      {
        "duration": 31,
        "start_time": "2023-08-30T14:30:37.166Z"
      },
      {
        "duration": 33,
        "start_time": "2023-08-30T14:30:37.199Z"
      },
      {
        "duration": 92052,
        "start_time": "2023-08-30T14:30:37.233Z"
      },
      {
        "duration": 36684,
        "start_time": "2023-08-30T14:32:09.287Z"
      },
      {
        "duration": 831695,
        "start_time": "2023-08-30T14:32:45.973Z"
      },
      {
        "duration": 1809,
        "start_time": "2023-08-30T23:10:03.868Z"
      },
      {
        "duration": 1195,
        "start_time": "2023-08-30T23:10:05.680Z"
      },
      {
        "duration": 19,
        "start_time": "2023-08-30T23:10:06.877Z"
      },
      {
        "duration": 16,
        "start_time": "2023-08-30T23:10:08.386Z"
      },
      {
        "duration": 479,
        "start_time": "2023-08-30T23:10:09.562Z"
      },
      {
        "duration": 528,
        "start_time": "2023-08-30T23:10:11.319Z"
      },
      {
        "duration": 25,
        "start_time": "2023-08-30T23:10:12.878Z"
      },
      {
        "duration": 11,
        "start_time": "2023-08-30T23:10:13.356Z"
      },
      {
        "duration": 11,
        "start_time": "2023-08-30T23:10:14.104Z"
      },
      {
        "duration": 44,
        "start_time": "2023-08-30T23:10:14.872Z"
      },
      {
        "duration": 87,
        "start_time": "2023-08-30T23:10:15.573Z"
      },
      {
        "duration": 81,
        "start_time": "2023-08-30T23:10:16.171Z"
      },
      {
        "duration": 238,
        "start_time": "2023-08-30T23:10:17.643Z"
      },
      {
        "duration": 214,
        "start_time": "2023-08-30T23:10:18.056Z"
      },
      {
        "duration": 75,
        "start_time": "2023-08-30T23:10:18.768Z"
      },
      {
        "duration": 479,
        "start_time": "2023-08-30T23:10:20.309Z"
      },
      {
        "duration": 34,
        "start_time": "2023-08-30T23:10:20.790Z"
      },
      {
        "duration": 74,
        "start_time": "2023-08-30T23:10:21.766Z"
      },
      {
        "duration": 32,
        "start_time": "2023-08-30T23:10:22.925Z"
      },
      {
        "duration": 68,
        "start_time": "2023-08-30T23:10:23.576Z"
      },
      {
        "duration": 409,
        "start_time": "2023-08-30T23:10:25.255Z"
      },
      {
        "duration": 34,
        "start_time": "2023-08-30T23:10:26.489Z"
      },
      {
        "duration": 17,
        "start_time": "2023-08-30T23:10:29.767Z"
      },
      {
        "duration": 36,
        "start_time": "2023-08-30T23:10:30.407Z"
      },
      {
        "duration": 74,
        "start_time": "2023-08-30T23:10:31.021Z"
      },
      {
        "duration": 812,
        "start_time": "2023-08-30T23:10:34.216Z"
      },
      {
        "duration": 504,
        "start_time": "2023-08-30T23:10:43.919Z"
      },
      {
        "duration": 4,
        "start_time": "2023-08-30T23:10:44.474Z"
      },
      {
        "duration": 19,
        "start_time": "2023-08-30T23:10:45.376Z"
      },
      {
        "duration": 117,
        "start_time": "2023-08-30T23:10:46.364Z"
      },
      {
        "duration": 32,
        "start_time": "2023-08-30T23:10:47.122Z"
      },
      {
        "duration": 33,
        "start_time": "2023-08-30T23:10:47.776Z"
      },
      {
        "duration": 1715,
        "start_time": "2023-08-30T23:11:20.983Z"
      },
      {
        "duration": 862,
        "start_time": "2023-08-30T23:11:22.701Z"
      },
      {
        "duration": 17,
        "start_time": "2023-08-30T23:11:23.565Z"
      },
      {
        "duration": 24,
        "start_time": "2023-08-30T23:11:23.584Z"
      },
      {
        "duration": 504,
        "start_time": "2023-08-30T23:11:23.609Z"
      },
      {
        "duration": 630,
        "start_time": "2023-08-30T23:11:24.114Z"
      },
      {
        "duration": 29,
        "start_time": "2023-08-30T23:11:24.746Z"
      },
      {
        "duration": 32,
        "start_time": "2023-08-30T23:11:24.777Z"
      },
      {
        "duration": 17,
        "start_time": "2023-08-30T23:11:24.810Z"
      },
      {
        "duration": 66,
        "start_time": "2023-08-30T23:11:24.830Z"
      },
      {
        "duration": 133,
        "start_time": "2023-08-30T23:11:24.897Z"
      },
      {
        "duration": 92,
        "start_time": "2023-08-30T23:11:25.032Z"
      },
      {
        "duration": 262,
        "start_time": "2023-08-30T23:11:25.416Z"
      },
      {
        "duration": 200,
        "start_time": "2023-08-30T23:11:26.951Z"
      },
      {
        "duration": 74,
        "start_time": "2023-08-30T23:11:28.255Z"
      },
      {
        "duration": 475,
        "start_time": "2023-08-30T23:11:30.288Z"
      },
      {
        "duration": 41,
        "start_time": "2023-08-30T23:11:35.792Z"
      },
      {
        "duration": 78,
        "start_time": "2023-08-30T23:11:36.751Z"
      },
      {
        "duration": 38,
        "start_time": "2023-08-30T23:11:37.764Z"
      },
      {
        "duration": 67,
        "start_time": "2023-08-30T23:11:38.418Z"
      },
      {
        "duration": 431,
        "start_time": "2023-08-30T23:11:39.984Z"
      },
      {
        "duration": 28,
        "start_time": "2023-08-30T23:11:40.839Z"
      },
      {
        "duration": 17,
        "start_time": "2023-08-30T23:11:42.590Z"
      },
      {
        "duration": 30,
        "start_time": "2023-08-30T23:11:43.237Z"
      },
      {
        "duration": 72,
        "start_time": "2023-08-30T23:11:44.225Z"
      },
      {
        "duration": 775,
        "start_time": "2023-08-30T23:11:48.613Z"
      },
      {
        "duration": 504,
        "start_time": "2023-08-30T23:11:52.176Z"
      },
      {
        "duration": 4,
        "start_time": "2023-08-30T23:11:55.264Z"
      },
      {
        "duration": 19,
        "start_time": "2023-08-30T23:11:56.127Z"
      },
      {
        "duration": 120,
        "start_time": "2023-08-30T23:11:56.852Z"
      },
      {
        "duration": 53,
        "start_time": "2023-08-30T23:12:04.000Z"
      },
      {
        "duration": 34,
        "start_time": "2023-08-30T23:12:05.041Z"
      },
      {
        "duration": 557145,
        "start_time": "2023-08-30T23:12:10.071Z"
      },
      {
        "duration": 36799,
        "start_time": "2023-08-30T23:23:09.257Z"
      },
      {
        "duration": 1168344,
        "start_time": "2023-08-30T23:25:28.067Z"
      },
      {
        "duration": 1796,
        "start_time": "2023-09-02T03:06:10.516Z"
      },
      {
        "duration": 1241,
        "start_time": "2023-09-02T03:06:13.665Z"
      },
      {
        "duration": 18,
        "start_time": "2023-09-02T03:06:14.908Z"
      },
      {
        "duration": 15,
        "start_time": "2023-09-02T03:06:14.927Z"
      },
      {
        "duration": 533,
        "start_time": "2023-09-02T03:06:14.944Z"
      },
      {
        "duration": 560,
        "start_time": "2023-09-02T03:06:15.479Z"
      },
      {
        "duration": 27,
        "start_time": "2023-09-02T03:06:16.040Z"
      },
      {
        "duration": 19,
        "start_time": "2023-09-02T03:06:16.069Z"
      },
      {
        "duration": 13,
        "start_time": "2023-09-02T03:06:16.319Z"
      },
      {
        "duration": 42,
        "start_time": "2023-09-02T03:06:16.719Z"
      },
      {
        "duration": 90,
        "start_time": "2023-09-02T03:06:17.188Z"
      },
      {
        "duration": 84,
        "start_time": "2023-09-02T03:06:17.330Z"
      },
      {
        "duration": 234,
        "start_time": "2023-09-02T03:06:17.699Z"
      },
      {
        "duration": 219,
        "start_time": "2023-09-02T03:06:17.936Z"
      },
      {
        "duration": 84,
        "start_time": "2023-09-02T03:06:18.157Z"
      },
      {
        "duration": 458,
        "start_time": "2023-09-02T03:06:18.483Z"
      },
      {
        "duration": 30,
        "start_time": "2023-09-02T03:06:18.943Z"
      },
      {
        "duration": 75,
        "start_time": "2023-09-02T03:06:19.090Z"
      },
      {
        "duration": 29,
        "start_time": "2023-09-02T03:06:19.442Z"
      },
      {
        "duration": 68,
        "start_time": "2023-09-02T03:06:19.619Z"
      },
      {
        "duration": 419,
        "start_time": "2023-09-02T03:06:19.971Z"
      },
      {
        "duration": 28,
        "start_time": "2023-09-02T03:06:20.392Z"
      },
      {
        "duration": 17,
        "start_time": "2023-09-02T03:06:20.551Z"
      },
      {
        "duration": 28,
        "start_time": "2023-09-02T03:06:20.742Z"
      },
      {
        "duration": 64,
        "start_time": "2023-09-02T03:06:20.919Z"
      },
      {
        "duration": 766,
        "start_time": "2023-09-02T03:06:21.302Z"
      },
      {
        "duration": 511,
        "start_time": "2023-09-02T03:06:22.070Z"
      },
      {
        "duration": 5,
        "start_time": "2023-09-02T03:06:22.583Z"
      },
      {
        "duration": 19,
        "start_time": "2023-09-02T03:06:22.602Z"
      },
      {
        "duration": 128,
        "start_time": "2023-09-02T03:06:22.623Z"
      },
      {
        "duration": 31,
        "start_time": "2023-09-02T03:06:22.752Z"
      },
      {
        "duration": 45,
        "start_time": "2023-09-02T03:06:22.785Z"
      },
      {
        "duration": 81517,
        "start_time": "2023-09-02T03:06:22.832Z"
      },
      {
        "duration": 35161,
        "start_time": "2023-09-02T03:07:44.401Z"
      },
      {
        "duration": 716341,
        "start_time": "2023-09-02T03:08:19.564Z"
      },
      {
        "duration": 6279933,
        "start_time": "2023-09-02T03:20:16.001Z"
      },
      {
        "duration": 2385,
        "start_time": "2023-09-02T05:04:55.936Z"
      },
      {
        "duration": 120,
        "start_time": "2023-09-02T14:45:07.971Z"
      },
      {
        "duration": 1609,
        "start_time": "2023-09-02T15:09:27.638Z"
      },
      {
        "duration": 892,
        "start_time": "2023-09-02T15:09:29.250Z"
      },
      {
        "duration": 18,
        "start_time": "2023-09-02T15:09:30.144Z"
      },
      {
        "duration": 29,
        "start_time": "2023-09-02T15:09:30.164Z"
      },
      {
        "duration": 552,
        "start_time": "2023-09-02T15:09:30.202Z"
      },
      {
        "duration": 589,
        "start_time": "2023-09-02T15:09:30.756Z"
      },
      {
        "duration": 29,
        "start_time": "2023-09-02T15:09:31.348Z"
      },
      {
        "duration": 56,
        "start_time": "2023-09-02T15:09:31.378Z"
      },
      {
        "duration": 56,
        "start_time": "2023-09-02T15:09:31.436Z"
      },
      {
        "duration": 71,
        "start_time": "2023-09-02T15:09:31.494Z"
      },
      {
        "duration": 94,
        "start_time": "2023-09-02T15:09:31.670Z"
      },
      {
        "duration": 86,
        "start_time": "2023-09-02T15:09:31.899Z"
      },
      {
        "duration": 276,
        "start_time": "2023-09-02T15:09:32.299Z"
      },
      {
        "duration": 207,
        "start_time": "2023-09-02T15:09:32.577Z"
      },
      {
        "duration": 79,
        "start_time": "2023-09-02T15:09:32.786Z"
      },
      {
        "duration": 484,
        "start_time": "2023-09-02T15:09:33.070Z"
      },
      {
        "duration": 31,
        "start_time": "2023-09-02T15:09:33.556Z"
      },
      {
        "duration": 77,
        "start_time": "2023-09-02T15:09:33.643Z"
      },
      {
        "duration": 33,
        "start_time": "2023-09-02T15:09:34.043Z"
      },
      {
        "duration": 74,
        "start_time": "2023-09-02T15:09:34.237Z"
      },
      {
        "duration": 441,
        "start_time": "2023-09-02T15:09:34.634Z"
      },
      {
        "duration": 33,
        "start_time": "2023-09-02T15:09:35.078Z"
      },
      {
        "duration": 19,
        "start_time": "2023-09-02T15:09:35.217Z"
      },
      {
        "duration": 31,
        "start_time": "2023-09-02T15:09:35.393Z"
      },
      {
        "duration": 65,
        "start_time": "2023-09-02T15:09:35.573Z"
      },
      {
        "duration": 804,
        "start_time": "2023-09-02T15:09:36.305Z"
      },
      {
        "duration": 195,
        "start_time": "2023-09-02T15:09:37.111Z"
      },
      {
        "duration": 306,
        "start_time": "2023-09-02T15:09:37.307Z"
      },
      {
        "duration": 56,
        "start_time": "2023-09-02T15:09:37.615Z"
      },
      {
        "duration": 5,
        "start_time": "2023-09-02T15:09:37.672Z"
      },
      {
        "duration": 20,
        "start_time": "2023-09-02T15:09:37.867Z"
      },
      {
        "duration": 132,
        "start_time": "2023-09-02T15:09:38.227Z"
      },
      {
        "duration": 38,
        "start_time": "2023-09-02T15:09:38.579Z"
      },
      {
        "duration": 36,
        "start_time": "2023-09-02T15:09:38.968Z"
      },
      {
        "duration": 88577,
        "start_time": "2023-09-02T15:09:39.733Z"
      },
      {
        "duration": 4,
        "start_time": "2023-09-02T15:11:08.312Z"
      },
      {
        "duration": 3983,
        "start_time": "2023-09-02T15:11:08.318Z"
      },
      {
        "duration": 3914,
        "start_time": "2023-09-02T15:11:12.304Z"
      },
      {
        "duration": 37759,
        "start_time": "2023-09-02T15:11:16.220Z"
      },
      {
        "duration": 4,
        "start_time": "2023-09-02T15:11:53.981Z"
      },
      {
        "duration": 89,
        "start_time": "2023-09-02T15:11:53.987Z"
      },
      {
        "duration": 73,
        "start_time": "2023-09-02T15:11:54.078Z"
      },
      {
        "duration": 4,
        "start_time": "2023-09-02T15:11:54.154Z"
      },
      {
        "duration": 10,
        "start_time": "2023-09-02T15:11:54.160Z"
      },
      {
        "duration": 776941,
        "start_time": "2023-09-02T15:11:54.172Z"
      },
      {
        "duration": 22793,
        "start_time": "2023-09-02T15:24:51.115Z"
      },
      {
        "duration": 103,
        "start_time": "2023-09-02T15:25:14.001Z"
      },
      {
        "duration": 5,
        "start_time": "2023-09-02T15:25:14.108Z"
      },
      {
        "duration": 217,
        "start_time": "2023-09-02T15:25:14.115Z"
      },
      {
        "duration": 1823,
        "start_time": "2023-09-03T02:59:02.967Z"
      },
      {
        "duration": 1169,
        "start_time": "2023-09-03T02:59:04.792Z"
      },
      {
        "duration": 19,
        "start_time": "2023-09-03T02:59:05.963Z"
      },
      {
        "duration": 32,
        "start_time": "2023-09-03T02:59:05.984Z"
      },
      {
        "duration": 501,
        "start_time": "2023-09-03T02:59:06.018Z"
      },
      {
        "duration": 536,
        "start_time": "2023-09-03T02:59:06.520Z"
      },
      {
        "duration": 28,
        "start_time": "2023-09-03T02:59:07.057Z"
      },
      {
        "duration": 23,
        "start_time": "2023-09-03T02:59:07.087Z"
      },
      {
        "duration": 32,
        "start_time": "2023-09-03T02:59:07.113Z"
      },
      {
        "duration": 57,
        "start_time": "2023-09-03T02:59:07.146Z"
      },
      {
        "duration": 99,
        "start_time": "2023-09-03T02:59:07.205Z"
      },
      {
        "duration": 99,
        "start_time": "2023-09-03T02:59:07.306Z"
      },
      {
        "duration": 245,
        "start_time": "2023-09-03T02:59:07.407Z"
      },
      {
        "duration": 212,
        "start_time": "2023-09-03T02:59:07.654Z"
      },
      {
        "duration": 84,
        "start_time": "2023-09-03T02:59:07.868Z"
      },
      {
        "duration": 476,
        "start_time": "2023-09-03T02:59:08.046Z"
      },
      {
        "duration": 30,
        "start_time": "2023-09-03T02:59:08.524Z"
      },
      {
        "duration": 75,
        "start_time": "2023-09-03T02:59:10.182Z"
      },
      {
        "duration": 30,
        "start_time": "2023-09-03T02:59:10.614Z"
      },
      {
        "duration": 68,
        "start_time": "2023-09-03T02:59:10.791Z"
      },
      {
        "duration": 425,
        "start_time": "2023-09-03T02:59:11.142Z"
      },
      {
        "duration": 33,
        "start_time": "2023-09-03T02:59:11.569Z"
      },
      {
        "duration": 17,
        "start_time": "2023-09-03T02:59:11.670Z"
      },
      {
        "duration": 29,
        "start_time": "2023-09-03T02:59:11.831Z"
      },
      {
        "duration": 65,
        "start_time": "2023-09-03T02:59:12.009Z"
      },
      {
        "duration": 742,
        "start_time": "2023-09-03T02:59:12.721Z"
      },
      {
        "duration": 188,
        "start_time": "2023-09-03T02:59:13.465Z"
      },
      {
        "duration": 288,
        "start_time": "2023-09-03T02:59:13.655Z"
      },
      {
        "duration": 55,
        "start_time": "2023-09-03T02:59:13.946Z"
      },
      {
        "duration": 5,
        "start_time": "2023-09-03T02:59:14.003Z"
      },
      {
        "duration": 19,
        "start_time": "2023-09-03T02:59:14.113Z"
      },
      {
        "duration": 143,
        "start_time": "2023-09-03T02:59:14.466Z"
      },
      {
        "duration": 32,
        "start_time": "2023-09-03T02:59:14.833Z"
      },
      {
        "duration": 32,
        "start_time": "2023-09-03T02:59:15.218Z"
      },
      {
        "duration": 150131,
        "start_time": "2023-09-03T02:59:15.778Z"
      },
      {
        "duration": 4,
        "start_time": "2023-09-03T03:01:45.911Z"
      },
      {
        "duration": 3807,
        "start_time": "2023-09-03T03:01:45.917Z"
      },
      {
        "duration": 3875,
        "start_time": "2023-09-03T03:01:49.726Z"
      },
      {
        "duration": 35260,
        "start_time": "2023-09-03T03:01:53.604Z"
      },
      {
        "duration": 4,
        "start_time": "2023-09-03T03:02:28.865Z"
      },
      {
        "duration": 109,
        "start_time": "2023-09-03T03:02:28.871Z"
      },
      {
        "duration": 58,
        "start_time": "2023-09-03T03:02:28.982Z"
      },
      {
        "duration": 3,
        "start_time": "2023-09-03T03:02:29.042Z"
      },
      {
        "duration": 12,
        "start_time": "2023-09-03T03:02:29.047Z"
      },
      {
        "duration": 701346,
        "start_time": "2023-09-03T03:02:29.060Z"
      },
      {
        "duration": 22299,
        "start_time": "2023-09-03T03:14:10.408Z"
      },
      {
        "duration": 192,
        "start_time": "2023-09-03T03:14:32.709Z"
      },
      {
        "duration": 4,
        "start_time": "2023-09-03T03:14:32.904Z"
      },
      {
        "duration": 24,
        "start_time": "2023-09-03T03:14:32.910Z"
      },
      {
        "duration": 6468963,
        "start_time": "2023-09-03T03:14:32.936Z"
      },
      {
        "duration": 11,
        "start_time": "2023-09-03T05:02:21.901Z"
      },
      {
        "duration": 2356,
        "start_time": "2023-09-03T05:02:21.913Z"
      },
      {
        "duration": 2344,
        "start_time": "2023-09-03T05:02:24.301Z"
      },
      {
        "duration": 199,
        "start_time": "2023-09-03T05:02:26.647Z"
      },
      {
        "duration": 2295,
        "start_time": "2023-09-03T05:19:56.365Z"
      },
      {
        "duration": 1688,
        "start_time": "2023-09-03T06:13:41.853Z"
      },
      {
        "duration": 989,
        "start_time": "2023-09-03T06:13:43.543Z"
      },
      {
        "duration": 20,
        "start_time": "2023-09-03T06:13:44.539Z"
      },
      {
        "duration": 20,
        "start_time": "2023-09-03T06:13:44.562Z"
      },
      {
        "duration": 607,
        "start_time": "2023-09-03T06:13:44.585Z"
      },
      {
        "duration": 600,
        "start_time": "2023-09-03T06:13:45.205Z"
      },
      {
        "duration": 32,
        "start_time": "2023-09-03T06:13:45.806Z"
      },
      {
        "duration": 40,
        "start_time": "2023-09-03T06:13:45.840Z"
      },
      {
        "duration": 56,
        "start_time": "2023-09-03T06:13:45.883Z"
      },
      {
        "duration": 65,
        "start_time": "2023-09-03T06:13:45.941Z"
      },
      {
        "duration": 105,
        "start_time": "2023-09-03T06:13:46.008Z"
      },
      {
        "duration": 145,
        "start_time": "2023-09-03T06:13:46.115Z"
      },
      {
        "duration": 0,
        "start_time": "2023-09-03T06:13:46.263Z"
      },
      {
        "duration": 286,
        "start_time": "2023-09-03T06:13:46.305Z"
      },
      {
        "duration": 279,
        "start_time": "2023-09-03T06:13:46.593Z"
      },
      {
        "duration": 85,
        "start_time": "2023-09-03T06:13:46.874Z"
      },
      {
        "duration": 555,
        "start_time": "2023-09-03T06:13:46.988Z"
      },
      {
        "duration": 31,
        "start_time": "2023-09-03T06:13:47.546Z"
      },
      {
        "duration": 91,
        "start_time": "2023-09-03T06:13:47.579Z"
      },
      {
        "duration": 31,
        "start_time": "2023-09-03T06:13:47.845Z"
      },
      {
        "duration": 75,
        "start_time": "2023-09-03T06:13:48.006Z"
      },
      {
        "duration": 497,
        "start_time": "2023-09-03T06:13:48.481Z"
      },
      {
        "duration": 52,
        "start_time": "2023-09-03T06:13:48.981Z"
      },
      {
        "duration": 21,
        "start_time": "2023-09-03T06:13:49.036Z"
      },
      {
        "duration": 31,
        "start_time": "2023-09-03T06:13:49.222Z"
      },
      {
        "duration": 66,
        "start_time": "2023-09-03T06:13:49.421Z"
      },
      {
        "duration": 845,
        "start_time": "2023-09-03T06:13:50.494Z"
      },
      {
        "duration": 193,
        "start_time": "2023-09-03T06:13:51.341Z"
      },
      {
        "duration": 288,
        "start_time": "2023-09-03T06:13:51.536Z"
      },
      {
        "duration": 47,
        "start_time": "2023-09-03T06:13:51.826Z"
      },
      {
        "duration": 4,
        "start_time": "2023-09-03T06:13:51.875Z"
      },
      {
        "duration": 18,
        "start_time": "2023-09-03T06:13:52.055Z"
      },
      {
        "duration": 147,
        "start_time": "2023-09-03T06:13:52.428Z"
      },
      {
        "duration": 50,
        "start_time": "2023-09-03T06:13:52.788Z"
      },
      {
        "duration": 30,
        "start_time": "2023-09-03T06:13:53.141Z"
      },
      {
        "duration": 1788,
        "start_time": "2023-09-03T06:14:44.712Z"
      },
      {
        "duration": 989,
        "start_time": "2023-09-03T06:14:47.776Z"
      },
      {
        "duration": 17,
        "start_time": "2023-09-03T06:14:48.767Z"
      },
      {
        "duration": 30,
        "start_time": "2023-09-03T06:14:48.785Z"
      },
      {
        "duration": 564,
        "start_time": "2023-09-03T06:14:49.289Z"
      },
      {
        "duration": 649,
        "start_time": "2023-09-03T06:14:50.230Z"
      },
      {
        "duration": 27,
        "start_time": "2023-09-03T06:14:51.734Z"
      },
      {
        "duration": 20,
        "start_time": "2023-09-03T06:14:51.781Z"
      },
      {
        "duration": 13,
        "start_time": "2023-09-03T06:14:52.452Z"
      },
      {
        "duration": 48,
        "start_time": "2023-09-03T06:14:53.061Z"
      },
      {
        "duration": 111,
        "start_time": "2023-09-03T06:14:53.769Z"
      },
      {
        "duration": 505,
        "start_time": "2023-09-03T06:14:54.031Z"
      },
      {
        "duration": 118,
        "start_time": "2023-09-03T06:14:58.401Z"
      },
      {
        "duration": 265,
        "start_time": "2023-09-03T06:14:58.804Z"
      },
      {
        "duration": 315,
        "start_time": "2023-09-03T06:14:59.071Z"
      },
      {
        "duration": 93,
        "start_time": "2023-09-03T06:14:59.388Z"
      },
      {
        "duration": 636,
        "start_time": "2023-09-03T06:14:59.529Z"
      },
      {
        "duration": 47,
        "start_time": "2023-09-03T06:15:00.168Z"
      },
      {
        "duration": 96,
        "start_time": "2023-09-03T06:15:00.220Z"
      },
      {
        "duration": 36,
        "start_time": "2023-09-03T06:15:00.425Z"
      },
      {
        "duration": 75,
        "start_time": "2023-09-03T06:15:00.599Z"
      },
      {
        "duration": 431,
        "start_time": "2023-09-03T06:15:00.936Z"
      },
      {
        "duration": 42,
        "start_time": "2023-09-03T06:15:01.369Z"
      },
      {
        "duration": 387,
        "start_time": "2023-09-03T06:15:01.463Z"
      },
      {
        "duration": 201,
        "start_time": "2023-09-03T06:15:01.853Z"
      },
      {
        "duration": 146,
        "start_time": "2023-09-03T06:15:02.056Z"
      },
      {
        "duration": 828,
        "start_time": "2023-09-03T06:15:02.928Z"
      },
      {
        "duration": 192,
        "start_time": "2023-09-03T06:15:03.758Z"
      },
      {
        "duration": 311,
        "start_time": "2023-09-03T06:15:03.952Z"
      },
      {
        "duration": 58,
        "start_time": "2023-09-03T06:15:04.265Z"
      },
      {
        "duration": 6,
        "start_time": "2023-09-03T06:15:04.330Z"
      },
      {
        "duration": 28,
        "start_time": "2023-09-03T06:15:04.528Z"
      },
      {
        "duration": 160,
        "start_time": "2023-09-03T06:15:04.881Z"
      },
      {
        "duration": 33,
        "start_time": "2023-09-03T06:15:05.254Z"
      },
      {
        "duration": 31,
        "start_time": "2023-09-03T06:15:05.637Z"
      },
      {
        "duration": 1792,
        "start_time": "2023-09-03T06:24:56.087Z"
      },
      {
        "duration": 932,
        "start_time": "2023-09-03T06:24:59.429Z"
      },
      {
        "duration": 16,
        "start_time": "2023-09-03T06:25:00.363Z"
      },
      {
        "duration": 33,
        "start_time": "2023-09-03T06:25:00.381Z"
      },
      {
        "duration": 565,
        "start_time": "2023-09-03T06:25:00.475Z"
      },
      {
        "duration": 602,
        "start_time": "2023-09-03T06:25:01.042Z"
      },
      {
        "duration": 25,
        "start_time": "2023-09-03T06:25:01.646Z"
      },
      {
        "duration": 77,
        "start_time": "2023-09-03T06:25:01.673Z"
      },
      {
        "duration": 59,
        "start_time": "2023-09-03T06:25:01.752Z"
      },
      {
        "duration": 55,
        "start_time": "2023-09-03T06:25:02.072Z"
      },
      {
        "duration": 113,
        "start_time": "2023-09-03T06:25:02.428Z"
      },
      {
        "duration": 464,
        "start_time": "2023-09-03T06:25:02.630Z"
      },
      {
        "duration": 108,
        "start_time": "2023-09-03T06:25:03.101Z"
      },
      {
        "duration": 262,
        "start_time": "2023-09-03T06:25:03.211Z"
      },
      {
        "duration": 320,
        "start_time": "2023-09-03T06:25:03.475Z"
      },
      {
        "duration": 82,
        "start_time": "2023-09-03T06:25:03.797Z"
      },
      {
        "duration": 569,
        "start_time": "2023-09-03T06:25:03.979Z"
      },
      {
        "duration": 34,
        "start_time": "2023-09-03T06:25:04.551Z"
      },
      {
        "duration": 282,
        "start_time": "2023-09-03T06:25:04.587Z"
      },
      {
        "duration": 30,
        "start_time": "2023-09-03T06:25:04.931Z"
      },
      {
        "duration": 70,
        "start_time": "2023-09-03T06:25:05.129Z"
      },
      {
        "duration": 402,
        "start_time": "2023-09-03T06:25:05.524Z"
      },
      {
        "duration": 25,
        "start_time": "2023-09-03T06:25:05.928Z"
      },
      {
        "duration": 20,
        "start_time": "2023-09-03T06:25:06.115Z"
      },
      {
        "duration": 38,
        "start_time": "2023-09-03T06:25:06.286Z"
      },
      {
        "duration": 71,
        "start_time": "2023-09-03T06:25:06.493Z"
      },
      {
        "duration": 835,
        "start_time": "2023-09-03T06:25:07.585Z"
      },
      {
        "duration": 187,
        "start_time": "2023-09-03T06:25:08.427Z"
      },
      {
        "duration": 307,
        "start_time": "2023-09-03T06:25:08.619Z"
      },
      {
        "duration": 49,
        "start_time": "2023-09-03T06:25:08.933Z"
      },
      {
        "duration": 332,
        "start_time": "2023-09-03T06:25:08.984Z"
      },
      {
        "duration": 28,
        "start_time": "2023-09-03T06:25:09.320Z"
      },
      {
        "duration": 152,
        "start_time": "2023-09-03T06:25:09.440Z"
      },
      {
        "duration": 33,
        "start_time": "2023-09-03T06:25:09.837Z"
      },
      {
        "duration": 50,
        "start_time": "2023-09-03T06:25:11.196Z"
      },
      {
        "duration": 4006453,
        "start_time": "2023-09-03T06:25:15.868Z"
      },
      {
        "duration": 5,
        "start_time": "2023-09-03T07:32:02.324Z"
      },
      {
        "duration": 3976,
        "start_time": "2023-09-03T07:32:02.331Z"
      },
      {
        "duration": 3893,
        "start_time": "2023-09-03T07:32:06.311Z"
      },
      {
        "duration": 39038,
        "start_time": "2023-09-03T07:32:10.206Z"
      },
      {
        "duration": 5,
        "start_time": "2023-09-03T07:32:49.245Z"
      },
      {
        "duration": 98,
        "start_time": "2023-09-03T07:32:49.252Z"
      },
      {
        "duration": 85,
        "start_time": "2023-09-03T07:32:49.352Z"
      },
      {
        "duration": 4,
        "start_time": "2023-09-03T07:32:49.439Z"
      },
      {
        "duration": 8,
        "start_time": "2023-09-03T07:32:49.445Z"
      },
      {
        "duration": 1740055,
        "start_time": "2023-09-03T07:32:49.455Z"
      },
      {
        "duration": 47911,
        "start_time": "2023-09-03T08:01:49.512Z"
      },
      {
        "duration": 279,
        "start_time": "2023-09-03T08:02:37.426Z"
      },
      {
        "duration": 5,
        "start_time": "2023-09-03T08:02:37.716Z"
      },
      {
        "duration": 164,
        "start_time": "2023-09-03T08:02:37.722Z"
      },
      {
        "duration": 7226508,
        "start_time": "2023-09-03T08:02:37.888Z"
      },
      {
        "duration": 3,
        "start_time": "2023-09-03T10:03:04.401Z"
      },
      {
        "duration": 2438,
        "start_time": "2023-09-03T10:03:04.406Z"
      },
      {
        "duration": 2404,
        "start_time": "2023-09-03T10:03:06.902Z"
      },
      {
        "duration": 2524,
        "start_time": "2023-09-03T10:03:09.308Z"
      },
      {
        "duration": 60,
        "start_time": "2023-09-03T10:17:53.174Z"
      },
      {
        "duration": 4479,
        "start_time": "2023-09-03T10:18:04.338Z"
      },
      {
        "duration": 3604,
        "start_time": "2023-09-03T10:18:15.282Z"
      },
      {
        "duration": 22,
        "start_time": "2023-09-03T10:18:19.876Z"
      },
      {
        "duration": 144,
        "start_time": "2023-09-03T10:18:21.282Z"
      },
      {
        "duration": 1877,
        "start_time": "2023-09-04T13:55:09.091Z"
      },
      {
        "duration": 1263,
        "start_time": "2023-09-04T13:55:16.872Z"
      },
      {
        "duration": 18,
        "start_time": "2023-09-04T13:55:20.933Z"
      },
      {
        "duration": 152,
        "start_time": "2023-09-04T13:55:23.600Z"
      },
      {
        "duration": 522,
        "start_time": "2023-09-04T13:55:28.200Z"
      },
      {
        "duration": 564,
        "start_time": "2023-09-04T13:55:31.581Z"
      },
      {
        "duration": 27,
        "start_time": "2023-09-04T13:55:37.523Z"
      },
      {
        "duration": 11,
        "start_time": "2023-09-04T13:55:38.865Z"
      },
      {
        "duration": 13,
        "start_time": "2023-09-04T13:55:39.864Z"
      },
      {
        "duration": 50,
        "start_time": "2023-09-04T13:55:42.453Z"
      },
      {
        "duration": 99,
        "start_time": "2023-09-04T13:55:46.796Z"
      },
      {
        "duration": 492,
        "start_time": "2023-09-04T13:55:49.457Z"
      },
      {
        "duration": 114,
        "start_time": "2023-09-04T13:55:52.580Z"
      },
      {
        "duration": 243,
        "start_time": "2023-09-04T13:57:11.884Z"
      },
      {
        "duration": 302,
        "start_time": "2023-09-04T13:59:40.878Z"
      },
      {
        "duration": 107,
        "start_time": "2023-09-04T14:02:22.347Z"
      },
      {
        "duration": 226,
        "start_time": "2023-09-04T14:02:48.064Z"
      },
      {
        "duration": 71,
        "start_time": "2023-09-04T14:02:49.735Z"
      },
      {
        "duration": 484,
        "start_time": "2023-09-04T14:02:54.018Z"
      },
      {
        "duration": 1702,
        "start_time": "2023-09-04T14:03:58.233Z"
      },
      {
        "duration": 955,
        "start_time": "2023-09-04T14:04:04.646Z"
      },
      {
        "duration": 19,
        "start_time": "2023-09-04T14:04:12.859Z"
      },
      {
        "duration": 182,
        "start_time": "2023-09-04T14:04:15.191Z"
      },
      {
        "duration": 2297,
        "start_time": "2023-09-04T14:05:32.503Z"
      },
      {
        "duration": 352,
        "start_time": "2023-09-04T14:05:47.920Z"
      },
      {
        "duration": 361,
        "start_time": "2023-09-04T14:06:06.012Z"
      },
      {
        "duration": 15,
        "start_time": "2023-09-04T14:06:25.925Z"
      },
      {
        "duration": 13,
        "start_time": "2023-09-04T14:06:32.578Z"
      },
      {
        "duration": 157,
        "start_time": "2023-09-04T14:11:19.007Z"
      },
      {
        "duration": 1753,
        "start_time": "2023-09-04T14:12:37.863Z"
      },
      {
        "duration": 946,
        "start_time": "2023-09-04T14:12:43.975Z"
      },
      {
        "duration": 17,
        "start_time": "2023-09-04T14:12:44.924Z"
      },
      {
        "duration": 171,
        "start_time": "2023-09-04T14:12:44.943Z"
      },
      {
        "duration": 493,
        "start_time": "2023-09-04T14:12:45.467Z"
      },
      {
        "duration": 562,
        "start_time": "2023-09-04T14:12:46.412Z"
      },
      {
        "duration": 23,
        "start_time": "2023-09-04T14:12:47.411Z"
      },
      {
        "duration": 12,
        "start_time": "2023-09-04T14:12:48.063Z"
      },
      {
        "duration": 12,
        "start_time": "2023-09-04T14:12:49.375Z"
      },
      {
        "duration": 44,
        "start_time": "2023-09-04T14:12:53.036Z"
      },
      {
        "duration": 96,
        "start_time": "2023-09-04T14:12:56.952Z"
      },
      {
        "duration": 450,
        "start_time": "2023-09-04T14:12:57.159Z"
      },
      {
        "duration": 105,
        "start_time": "2023-09-04T14:13:02.737Z"
      },
      {
        "duration": 262,
        "start_time": "2023-09-04T14:13:03.747Z"
      },
      {
        "duration": 30,
        "start_time": "2023-09-04T14:13:35.249Z"
      },
      {
        "duration": 631,
        "start_time": "2023-09-04T14:21:15.306Z"
      },
      {
        "duration": 72,
        "start_time": "2023-09-04T14:23:36.580Z"
      },
      {
        "duration": 1704,
        "start_time": "2023-09-04T14:23:49.027Z"
      },
      {
        "duration": 960,
        "start_time": "2023-09-04T14:23:50.733Z"
      },
      {
        "duration": 25,
        "start_time": "2023-09-04T14:23:51.695Z"
      },
      {
        "duration": 182,
        "start_time": "2023-09-04T14:23:51.722Z"
      },
      {
        "duration": 537,
        "start_time": "2023-09-04T14:23:51.908Z"
      },
      {
        "duration": 660,
        "start_time": "2023-09-04T14:23:52.447Z"
      },
      {
        "duration": 27,
        "start_time": "2023-09-04T14:23:53.263Z"
      },
      {
        "duration": 12,
        "start_time": "2023-09-04T14:23:53.471Z"
      },
      {
        "duration": 13,
        "start_time": "2023-09-04T14:23:53.936Z"
      },
      {
        "duration": 60,
        "start_time": "2023-09-04T14:23:54.531Z"
      },
      {
        "duration": 108,
        "start_time": "2023-09-04T14:23:56.007Z"
      },
      {
        "duration": 456,
        "start_time": "2023-09-04T14:23:56.344Z"
      },
      {
        "duration": 100,
        "start_time": "2023-09-04T14:23:57.236Z"
      },
      {
        "duration": 259,
        "start_time": "2023-09-04T14:23:58.563Z"
      },
      {
        "duration": 378,
        "start_time": "2023-09-04T14:24:02.449Z"
      },
      {
        "duration": 74,
        "start_time": "2023-09-04T14:24:03.153Z"
      },
      {
        "duration": 504,
        "start_time": "2023-09-04T14:24:03.967Z"
      },
      {
        "duration": 27,
        "start_time": "2023-09-04T14:24:08.392Z"
      },
      {
        "duration": 73,
        "start_time": "2023-09-04T14:24:10.796Z"
      },
      {
        "duration": 31,
        "start_time": "2023-09-04T14:24:15.496Z"
      },
      {
        "duration": 67,
        "start_time": "2023-09-04T14:24:23.696Z"
      },
      {
        "duration": 369,
        "start_time": "2023-09-04T14:24:34.629Z"
      },
      {
        "duration": 26,
        "start_time": "2023-09-04T14:24:43.565Z"
      },
      {
        "duration": 14,
        "start_time": "2023-09-04T14:24:54.825Z"
      },
      {
        "duration": 25,
        "start_time": "2023-09-04T14:24:58.373Z"
      },
      {
        "duration": 54,
        "start_time": "2023-09-04T14:25:32.794Z"
      },
      {
        "duration": 121,
        "start_time": "2023-09-04T14:38:26.300Z"
      },
      {
        "duration": 6,
        "start_time": "2023-09-04T14:38:33.337Z"
      },
      {
        "duration": 3,
        "start_time": "2023-09-04T14:41:08.295Z"
      },
      {
        "duration": 1722,
        "start_time": "2023-09-04T15:10:24.715Z"
      },
      {
        "duration": 904,
        "start_time": "2023-09-04T15:10:26.439Z"
      },
      {
        "duration": 18,
        "start_time": "2023-09-04T15:10:27.345Z"
      },
      {
        "duration": 163,
        "start_time": "2023-09-04T15:10:27.365Z"
      },
      {
        "duration": 486,
        "start_time": "2023-09-04T15:10:27.595Z"
      },
      {
        "duration": 536,
        "start_time": "2023-09-04T15:10:28.174Z"
      },
      {
        "duration": 27,
        "start_time": "2023-09-04T15:10:28.739Z"
      },
      {
        "duration": 12,
        "start_time": "2023-09-04T15:10:28.917Z"
      },
      {
        "duration": 12,
        "start_time": "2023-09-04T15:10:29.319Z"
      },
      {
        "duration": 43,
        "start_time": "2023-09-04T15:10:29.704Z"
      },
      {
        "duration": 129,
        "start_time": "2023-09-04T15:10:30.538Z"
      },
      {
        "duration": 454,
        "start_time": "2023-09-04T15:10:30.743Z"
      },
      {
        "duration": 99,
        "start_time": "2023-09-04T15:10:31.384Z"
      },
      {
        "duration": 252,
        "start_time": "2023-09-04T15:10:31.783Z"
      },
      {
        "duration": 321,
        "start_time": "2023-09-04T15:10:32.572Z"
      },
      {
        "duration": 91,
        "start_time": "2023-09-04T15:10:32.896Z"
      },
      {
        "duration": 471,
        "start_time": "2023-09-04T15:10:33.167Z"
      },
      {
        "duration": 26,
        "start_time": "2023-09-04T15:10:33.641Z"
      },
      {
        "duration": 75,
        "start_time": "2023-09-04T15:10:35.783Z"
      },
      {
        "duration": 28,
        "start_time": "2023-09-04T15:10:36.328Z"
      },
      {
        "duration": 62,
        "start_time": "2023-09-04T15:10:36.936Z"
      },
      {
        "duration": 326,
        "start_time": "2023-09-04T15:10:37.547Z"
      },
      {
        "duration": 23,
        "start_time": "2023-09-04T15:10:37.875Z"
      },
      {
        "duration": 17,
        "start_time": "2023-09-04T15:10:38.523Z"
      },
      {
        "duration": 26,
        "start_time": "2023-09-04T15:10:38.782Z"
      },
      {
        "duration": 53,
        "start_time": "2023-09-04T15:10:39.902Z"
      },
      {
        "duration": 4,
        "start_time": "2023-09-04T15:10:47.400Z"
      },
      {
        "duration": 141,
        "start_time": "2023-09-04T15:10:52.364Z"
      },
      {
        "duration": 9,
        "start_time": "2023-09-04T15:11:12.289Z"
      },
      {
        "duration": 15,
        "start_time": "2023-09-04T15:11:45.078Z"
      },
      {
        "duration": 1807,
        "start_time": "2023-09-04T15:14:41.107Z"
      },
      {
        "duration": 973,
        "start_time": "2023-09-04T15:14:45.992Z"
      },
      {
        "duration": 20,
        "start_time": "2023-09-04T15:14:46.967Z"
      },
      {
        "duration": 167,
        "start_time": "2023-09-04T15:14:46.989Z"
      },
      {
        "duration": 515,
        "start_time": "2023-09-04T15:14:47.640Z"
      },
      {
        "duration": 545,
        "start_time": "2023-09-04T15:14:48.199Z"
      },
      {
        "duration": 27,
        "start_time": "2023-09-04T15:14:48.800Z"
      },
      {
        "duration": 12,
        "start_time": "2023-09-04T15:14:48.984Z"
      },
      {
        "duration": 13,
        "start_time": "2023-09-04T15:14:49.372Z"
      },
      {
        "duration": 59,
        "start_time": "2023-09-04T15:14:49.917Z"
      },
      {
        "duration": 104,
        "start_time": "2023-09-04T15:14:50.707Z"
      },
      {
        "duration": 437,
        "start_time": "2023-09-04T15:14:50.904Z"
      },
      {
        "duration": 100,
        "start_time": "2023-09-04T15:14:51.475Z"
      },
      {
        "duration": 258,
        "start_time": "2023-09-04T15:14:51.832Z"
      },
      {
        "duration": 355,
        "start_time": "2023-09-04T15:14:52.547Z"
      },
      {
        "duration": 75,
        "start_time": "2023-09-04T15:14:52.913Z"
      },
      {
        "duration": 501,
        "start_time": "2023-09-04T15:14:53.076Z"
      },
      {
        "duration": 34,
        "start_time": "2023-09-04T15:14:53.579Z"
      },
      {
        "duration": 77,
        "start_time": "2023-09-04T15:14:54.104Z"
      },
      {
        "duration": 29,
        "start_time": "2023-09-04T15:14:54.663Z"
      },
      {
        "duration": 73,
        "start_time": "2023-09-04T15:14:55.208Z"
      },
      {
        "duration": 343,
        "start_time": "2023-09-04T15:14:55.597Z"
      },
      {
        "duration": 23,
        "start_time": "2023-09-04T15:14:55.942Z"
      },
      {
        "duration": 16,
        "start_time": "2023-09-04T15:14:56.348Z"
      },
      {
        "duration": 24,
        "start_time": "2023-09-04T15:14:56.544Z"
      },
      {
        "duration": 57,
        "start_time": "2023-09-04T15:14:57.244Z"
      },
      {
        "duration": 4,
        "start_time": "2023-09-04T15:14:59.368Z"
      },
      {
        "duration": 128,
        "start_time": "2023-09-04T15:14:59.577Z"
      },
      {
        "duration": 8,
        "start_time": "2023-09-04T15:15:03.984Z"
      },
      {
        "duration": 25,
        "start_time": "2023-09-04T15:15:04.632Z"
      },
      {
        "duration": 10,
        "start_time": "2023-09-04T15:15:05.457Z"
      },
      {
        "duration": 4,
        "start_time": "2023-09-04T15:15:07.340Z"
      },
      {
        "duration": 19,
        "start_time": "2023-09-04T15:15:08.798Z"
      },
      {
        "duration": 103,
        "start_time": "2023-09-04T15:15:10.528Z"
      },
      {
        "duration": 24,
        "start_time": "2023-09-04T15:15:11.232Z"
      },
      {
        "duration": 24,
        "start_time": "2023-09-04T15:15:11.652Z"
      },
      {
        "duration": 1669703,
        "start_time": "2023-09-04T15:15:19.714Z"
      },
      {
        "duration": 4,
        "start_time": "2023-09-04T15:43:09.420Z"
      },
      {
        "duration": 2239,
        "start_time": "2023-09-04T15:43:09.425Z"
      },
      {
        "duration": 2305,
        "start_time": "2023-09-04T15:43:11.709Z"
      },
      {
        "duration": 28172,
        "start_time": "2023-09-04T15:43:14.020Z"
      },
      {
        "duration": 3,
        "start_time": "2023-09-04T15:43:42.193Z"
      },
      {
        "duration": 38,
        "start_time": "2023-09-04T15:43:42.198Z"
      },
      {
        "duration": 29,
        "start_time": "2023-09-04T15:43:42.237Z"
      },
      {
        "duration": 3,
        "start_time": "2023-09-04T15:43:42.267Z"
      },
      {
        "duration": 15,
        "start_time": "2023-09-04T15:43:42.273Z"
      },
      {
        "duration": 10148,
        "start_time": "2023-09-04T15:43:42.290Z"
      },
      {
        "duration": 188,
        "start_time": "2023-09-04T15:43:52.439Z"
      },
      {
        "duration": 86,
        "start_time": "2023-09-04T15:43:52.630Z"
      },
      {
        "duration": 91,
        "start_time": "2023-09-04T15:43:52.719Z"
      },
      {
        "duration": 4,
        "start_time": "2023-09-04T15:43:52.813Z"
      },
      {
        "duration": 256020,
        "start_time": "2023-09-04T15:43:52.819Z"
      },
      {
        "duration": 3,
        "start_time": "2023-09-04T15:48:08.841Z"
      },
      {
        "duration": 567,
        "start_time": "2023-09-04T15:48:08.846Z"
      },
      {
        "duration": 603,
        "start_time": "2023-09-04T15:48:09.415Z"
      },
      {
        "duration": 606,
        "start_time": "2023-09-04T15:48:10.019Z"
      }
    ],
    "kernelspec": {
      "display_name": "Python 3 (ipykernel)",
      "language": "python",
      "name": "python3"
    },
    "language_info": {
      "codemirror_mode": {
        "name": "ipython",
        "version": 3
      },
      "file_extension": ".py",
      "mimetype": "text/x-python",
      "name": "python",
      "nbconvert_exporter": "python",
      "pygments_lexer": "ipython3",
      "version": "3.9.5"
    },
    "toc": {
      "base_numbering": 1,
      "nav_menu": {},
      "number_sections": true,
      "sideBar": true,
      "skip_h1_title": true,
      "title_cell": "Table of Contents",
      "title_sidebar": "Contents",
      "toc_cell": false,
      "toc_position": {},
      "toc_section_display": true,
      "toc_window_display": true
    },
    "colab": {
      "provenance": []
    }
  },
  "nbformat": 4,
  "nbformat_minor": 0
}