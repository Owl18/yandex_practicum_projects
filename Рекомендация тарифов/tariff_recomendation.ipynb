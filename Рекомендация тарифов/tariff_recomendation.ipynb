{
  "cells": [
    {
      "cell_type": "markdown",
      "metadata": {
        "id": "JYzJ1sH41hv7"
      },
      "source": [
        "# Рекомендация тарифов"
      ]
    },
    {
      "cell_type": "markdown",
      "metadata": {
        "id": "SJtv4Src1hv8"
      },
      "source": [
        "Оператор мобильной связи «Мегалайн» выяснил: многие клиенты пользуются архивными тарифами. Они хотят построить систему, способную проанализировать поведение клиентов и предложить пользователям новый тариф: «Смарт» или «Ультра».\n",
        "\n",
        "В моём распоряжении данные о поведении клиентов, которые уже перешли на эти тарифы (из проекта курса «Статистический анализ данных»). Нужно построить модель для задачи классификации, которая выберет подходящий тариф. Предобработка данных не понадобится — вы её уже сделали.\n",
        "\n",
        "Необходимо построить модель с максимально большим значением *accuracy*. Чтобы сдать проект успешно, нужно довести долю правильных ответов по крайней мере до 0.75. Проверьте *accuracy* на тестовой выборке самостоятельно."
      ]
    },
    {
      "cell_type": "markdown",
      "metadata": {
        "id": "ybhsNk1x1hv-"
      },
      "source": [
        "Прежде чем приступать к выполнению заданий, подключу библиотеки."
      ]
    },
    {
      "cell_type": "code",
      "execution_count": null,
      "metadata": {
        "id": "lUrUYIVq1hv_"
      },
      "outputs": [],
      "source": [
        "import pandas as pd\n",
        "import numpy as np\n",
        "from sklearn.tree import DecisionTreeClassifier\n",
        "from sklearn.metrics import accuracy_score\n",
        "from sklearn.ensemble import RandomForestClassifier\n",
        "from sklearn.linear_model import LogisticRegression\n",
        "from sklearn.linear_model import LinearRegression\n",
        "from sklearn.model_selection import train_test_split\n",
        "from sklearn.metrics import mean_squared_error"
      ]
    },
    {
      "cell_type": "markdown",
      "metadata": {
        "id": "bQieP6eH1hwC"
      },
      "source": [
        "Всё, что вспомнил. Теперь приступаю к работе"
      ]
    },
    {
      "cell_type": "markdown",
      "metadata": {
        "id": "dhz-jZLr1hwD"
      },
      "source": [
        "## Откройте и изучите файл"
      ]
    },
    {
      "cell_type": "markdown",
      "metadata": {
        "id": "EdopdLeK1hwE"
      },
      "source": [
        "Открываю."
      ]
    },
    {
      "cell_type": "code",
      "execution_count": null,
      "metadata": {
        "id": "QGh_1hQh1hwE"
      },
      "outputs": [],
      "source": [
        "data = pd.read_csv('/datasets/users_behavior.csv')"
      ]
    },
    {
      "cell_type": "markdown",
      "metadata": {
        "id": "_y7cGjxV1hwF"
      },
      "source": [
        "Взгляну на то, что внутри. Сразу посмотрю на типы данных в столбцах"
      ]
    },
    {
      "cell_type": "code",
      "execution_count": null,
      "metadata": {
        "id": "efwxuG2y1hwF",
        "outputId": "de2ddf89-dd20-4db3-fef0-c270cd171d78"
      },
      "outputs": [
        {
          "name": "stdout",
          "output_type": "stream",
          "text": [
            "<class 'pandas.core.frame.DataFrame'>\n",
            "RangeIndex: 3214 entries, 0 to 3213\n",
            "Data columns (total 5 columns):\n",
            " #   Column    Non-Null Count  Dtype  \n",
            "---  ------    --------------  -----  \n",
            " 0   calls     3214 non-null   float64\n",
            " 1   minutes   3214 non-null   float64\n",
            " 2   messages  3214 non-null   float64\n",
            " 3   mb_used   3214 non-null   float64\n",
            " 4   is_ultra  3214 non-null   int64  \n",
            "dtypes: float64(4), int64(1)\n",
            "memory usage: 125.7 KB\n"
          ]
        }
      ],
      "source": [
        "data.info()"
      ]
    },
    {
      "cell_type": "markdown",
      "metadata": {
        "id": "2jUZiWb_1hwH"
      },
      "source": [
        "Ну что же, пропусков нет, имена столбцов впорядке. Количество звонков и количество сообщений - вещественные величины. Это невозможно. Позвонить полтора раза или отправить полтора сообщения нельзя. Изменю тип на целочисленный."
      ]
    },
    {
      "cell_type": "code",
      "execution_count": null,
      "metadata": {
        "id": "16SUk8Xh1hwH",
        "outputId": "c8a773fe-b437-440c-ca4e-9dae14d68257"
      },
      "outputs": [
        {
          "name": "stdout",
          "output_type": "stream",
          "text": [
            "Всё получилось\n"
          ]
        }
      ],
      "source": [
        "try:\n",
        "    data=data.astype({ 'calls': 'int', 'messages': 'int'})\n",
        "    print('Всё получилось')\n",
        "except:\n",
        "    print('К сожалению, преобразование не удалось')"
      ]
    },
    {
      "cell_type": "markdown",
      "metadata": {
        "id": "-kf94B7-1hwH"
      },
      "source": [
        "Проверю, что получилось."
      ]
    },
    {
      "cell_type": "code",
      "execution_count": null,
      "metadata": {
        "id": "4zFPDzku1hwI",
        "outputId": "c210ea8c-a45f-456d-b83c-ff06897d9cfe"
      },
      "outputs": [
        {
          "data": {
            "text/html": [
              "<div>\n",
              "<style scoped>\n",
              "    .dataframe tbody tr th:only-of-type {\n",
              "        vertical-align: middle;\n",
              "    }\n",
              "\n",
              "    .dataframe tbody tr th {\n",
              "        vertical-align: top;\n",
              "    }\n",
              "\n",
              "    .dataframe thead th {\n",
              "        text-align: right;\n",
              "    }\n",
              "</style>\n",
              "<table border=\"1\" class=\"dataframe\">\n",
              "  <thead>\n",
              "    <tr style=\"text-align: right;\">\n",
              "      <th></th>\n",
              "      <th>calls</th>\n",
              "      <th>minutes</th>\n",
              "      <th>messages</th>\n",
              "      <th>mb_used</th>\n",
              "      <th>is_ultra</th>\n",
              "    </tr>\n",
              "  </thead>\n",
              "  <tbody>\n",
              "    <tr>\n",
              "      <th>0</th>\n",
              "      <td>40</td>\n",
              "      <td>311.90</td>\n",
              "      <td>83</td>\n",
              "      <td>19915.42</td>\n",
              "      <td>0</td>\n",
              "    </tr>\n",
              "    <tr>\n",
              "      <th>1</th>\n",
              "      <td>85</td>\n",
              "      <td>516.75</td>\n",
              "      <td>56</td>\n",
              "      <td>22696.96</td>\n",
              "      <td>0</td>\n",
              "    </tr>\n",
              "    <tr>\n",
              "      <th>2</th>\n",
              "      <td>77</td>\n",
              "      <td>467.66</td>\n",
              "      <td>86</td>\n",
              "      <td>21060.45</td>\n",
              "      <td>0</td>\n",
              "    </tr>\n",
              "    <tr>\n",
              "      <th>3</th>\n",
              "      <td>106</td>\n",
              "      <td>745.53</td>\n",
              "      <td>81</td>\n",
              "      <td>8437.39</td>\n",
              "      <td>1</td>\n",
              "    </tr>\n",
              "    <tr>\n",
              "      <th>4</th>\n",
              "      <td>66</td>\n",
              "      <td>418.74</td>\n",
              "      <td>1</td>\n",
              "      <td>14502.75</td>\n",
              "      <td>0</td>\n",
              "    </tr>\n",
              "  </tbody>\n",
              "</table>\n",
              "</div>"
            ],
            "text/plain": [
              "   calls  minutes  messages   mb_used  is_ultra\n",
              "0     40   311.90        83  19915.42         0\n",
              "1     85   516.75        56  22696.96         0\n",
              "2     77   467.66        86  21060.45         0\n",
              "3    106   745.53        81   8437.39         1\n",
              "4     66   418.74         1  14502.75         0"
            ]
          },
          "execution_count": 5,
          "metadata": {},
          "output_type": "execute_result"
        }
      ],
      "source": [
        "data.head()"
      ]
    },
    {
      "cell_type": "markdown",
      "metadata": {
        "id": "b_eyr01o1hwI"
      },
      "source": [
        "Теперь всё логично. Звонков и сообщений - целое число. Минут и магабайт - вещественное."
      ]
    },
    {
      "cell_type": "markdown",
      "metadata": {
        "id": "XuH1Oy031hwI"
      },
      "source": [
        "Проверю на дубликаты."
      ]
    },
    {
      "cell_type": "code",
      "execution_count": null,
      "metadata": {
        "id": "QasZgiMT1hwI",
        "outputId": "01252578-0190-4500-e6c5-f6f7d1e8ce3c"
      },
      "outputs": [
        {
          "data": {
            "text/plain": [
              "0"
            ]
          },
          "execution_count": 6,
          "metadata": {},
          "output_type": "execute_result"
        }
      ],
      "source": [
        "data.duplicated().sum()"
      ]
    },
    {
      "cell_type": "markdown",
      "metadata": {
        "id": "n_2y7N1v1hwJ"
      },
      "source": [
        "Отлично. Дубликатов нет."
      ]
    },
    {
      "cell_type": "markdown",
      "metadata": {
        "id": "zWicnmY-1hwJ"
      },
      "source": [
        "**Выводы по пункту 1**\n",
        "Результаты краткого изучения файла данных показали следующее:\n",
        "1. Пропусков значений и дубликатов файле не обнаружено.\n",
        "2. Столбцы количества звонков и количества сообщений имеют вещественный тип данных. Тип данных для указанных столбцов скорректирован.\n",
        "3. Имена столбцов и значения столбцов вопросов не вызывают.\n"
      ]
    },
    {
      "cell_type": "markdown",
      "metadata": {
        "id": "YcNumtNc1hwJ"
      },
      "source": [
        "Движемся дальше."
      ]
    },
    {
      "cell_type": "markdown",
      "metadata": {
        "id": "44Teb_ML1hwJ"
      },
      "source": [
        "## Разбейте данные на выборки"
      ]
    },
    {
      "cell_type": "markdown",
      "metadata": {
        "id": "2OZ_sSug1hwJ"
      },
      "source": [
        "Обучающую выборку беру 80%."
      ]
    },
    {
      "cell_type": "code",
      "execution_count": null,
      "metadata": {
        "id": "zJwI0l7_1hwK"
      },
      "outputs": [],
      "source": [
        "data_train, data_test = train_test_split(data, test_size=0.2, random_state=12345)"
      ]
    },
    {
      "cell_type": "markdown",
      "metadata": {
        "id": "Wag8WkP41hwK"
      },
      "source": [
        "Создаю переменные для признаков и целевого признака."
      ]
    },
    {
      "cell_type": "code",
      "execution_count": null,
      "metadata": {
        "id": "Ka0G2j8-1hwK"
      },
      "outputs": [],
      "source": [
        "features = data_test.drop('is_ultra', axis=1)\n",
        "target = data_test['is_ultra']"
      ]
    },
    {
      "cell_type": "markdown",
      "metadata": {
        "id": "mvcTKuaK1hwK"
      },
      "source": [
        "Валидационную и тестовую, соответственно, по 10%."
      ]
    },
    {
      "cell_type": "code",
      "execution_count": null,
      "metadata": {
        "id": "FQsbQPva1hwK"
      },
      "outputs": [],
      "source": [
        "features_valid, features_test, target_valid, target_test = train_test_split(features, target,\n",
        "                                                                            test_size=0.5, random_state=12345)\n",
        ""
      ]
    },
    {
      "cell_type": "markdown",
      "metadata": {
        "id": "bxkC3jZv1hwL"
      },
      "source": [
        "Переменные для обучающей выборки."
      ]
    },
    {
      "cell_type": "code",
      "execution_count": null,
      "metadata": {
        "id": "cY3gZLEM1hwL"
      },
      "outputs": [],
      "source": [
        "features_train = data_train.drop('is_ultra', axis=1)\n",
        "target_train = data_train['is_ultra']\n",
        ""
      ]
    },
    {
      "cell_type": "markdown",
      "metadata": {
        "id": "NfvWoXMc1hwL"
      },
      "source": [
        "Получил выборки. Перехожу к исследованию модели."
      ]
    },
    {
      "cell_type": "markdown",
      "metadata": {
        "id": "DPp32dkq1hwM"
      },
      "source": [
        "## Исследуйте модели"
      ]
    },
    {
      "cell_type": "markdown",
      "metadata": {
        "id": "9waeNNki1hwM"
      },
      "source": [
        "Помню об условии:\n",
        "\n",
        "Построить модель с максимально большим значением accuracy. Чтобы сдать проект успешно, нужно довести долю правильных ответов по крайней мере до 0.75. Проверить accuracy на тестовой выборке самостоятельно."
      ]
    },
    {
      "cell_type": "markdown",
      "metadata": {
        "id": "Wgat-nRI1hwM"
      },
      "source": [
        "### Дерево решений"
      ]
    },
    {
      "cell_type": "code",
      "execution_count": null,
      "metadata": {
        "id": "UFp3Jg781hwd",
        "outputId": "bd109f2b-a195-43ce-fcdd-104b7a22b758"
      },
      "outputs": [
        {
          "name": "stdout",
          "output_type": "stream",
          "text": [
            "Глубина дерева: 6     Качество: 0.7975077881619937\n"
          ]
        }
      ],
      "source": [
        "best_accuracy = 0\n",
        "best_depth = 0\n",
        "for depth in range(1,25):\n",
        "    model = DecisionTreeClassifier(max_depth=depth, random_state=202020)\n",
        "    model.fit(features_train, target_train)\n",
        "    accuracy = model.score(features_valid, target_valid)\n",
        "    if accuracy > best_accuracy:\n",
        "        best_accuracy = accuracy\n",
        "        best_depth = depth\n",
        "print(\"Глубина дерева:\", best_depth, \"    Качество:\", best_accuracy)"
      ]
    },
    {
      "cell_type": "markdown",
      "metadata": {
        "id": "5mgYngfj1hwd"
      },
      "source": [
        "Глубина в 3 узла. Качество более 78%. Проверю другие модели."
      ]
    },
    {
      "cell_type": "markdown",
      "metadata": {
        "id": "m_4IdWFO1hwd"
      },
      "source": [
        "### Логистическая регрессия"
      ]
    },
    {
      "cell_type": "code",
      "execution_count": null,
      "metadata": {
        "id": "D8cPU0Yz1hwe",
        "outputId": "db9fa95a-ef75-4f2c-817c-1bccf30a9ad4"
      },
      "outputs": [
        {
          "name": "stdout",
          "output_type": "stream",
          "text": [
            "Качество: 0.7663551401869159\n"
          ]
        }
      ],
      "source": [
        "model = LogisticRegression(solver='lbfgs')\n",
        "model.fit(features_train, target_train)\n",
        "accuracy = model.score(features_valid, target_valid)\n",
        "print(\"Качество:\", accuracy)\n"
      ]
    },
    {
      "cell_type": "markdown",
      "metadata": {
        "id": "5tyryc061hwe"
      },
      "source": [
        "Качество ниже, чем у дерева решений. И не удовлетворяет условию в 75%."
      ]
    },
    {
      "cell_type": "markdown",
      "metadata": {
        "id": "7uzFDutJ1hwe"
      },
      "source": [
        "### Случайный лес"
      ]
    },
    {
      "cell_type": "code",
      "execution_count": null,
      "metadata": {
        "id": "cQdTGV5b1hwe",
        "outputId": "774598f1-4ae9-48bc-f748-bf172665aa50"
      },
      "outputs": [
        {
          "name": "stdout",
          "output_type": "stream",
          "text": [
            "Глубина дерева: 8     Количество деревьев: 6    мин. объектов в узле: 5   Качество: 0.822429906542056\n"
          ]
        }
      ],
      "source": [
        "best_accuracy = 0\n",
        "best_depth = 0\n",
        "for depth in range(1,15):\n",
        "    for est in range(2,75):\n",
        "        for sample in range(2,10):\n",
        "            model = RandomForestClassifier(max_depth=depth, n_estimators=est, min_samples_leaf=sample, random_state=12345)\n",
        "            model.fit(features_train, target_train)\n",
        "            accuracy = model.score(features_valid, target_valid)\n",
        "            if accuracy > best_accuracy:\n",
        "                best_accuracy = accuracy\n",
        "                best_depth = depth\n",
        "                best_est = est\n",
        "                best_sample = sample\n",
        "print(\"Глубина дерева:\", best_depth, \"    Количество деревьев:\",\n",
        "      best_est, \"   мин. объектов в узле:\", best_sample, \"  Качество:\", best_accuracy)\n"
      ]
    },
    {
      "cell_type": "markdown",
      "metadata": {
        "id": "IRQqzwA31hwe"
      },
      "source": [
        "**Краткий вывод**\n",
        "\n",
        "Таким образом, наивысшим качетством обладает модель Случайного леса - более 81% процента точности."
      ]
    },
    {
      "cell_type": "markdown",
      "metadata": {
        "id": "aF_pSBWm1hwf"
      },
      "source": [
        "## Проверьте модель на тестовой выборке"
      ]
    },
    {
      "cell_type": "markdown",
      "metadata": {
        "id": "1CwHOW1S1hwf"
      },
      "source": [
        "На тестовой выборке проверяю лучшую модель из предыдущего пункта - модель Случайного леса."
      ]
    },
    {
      "cell_type": "markdown",
      "metadata": {
        "id": "sOfN9Fqa1hwf"
      },
      "source": [
        "Значения гиперпараметров беру из расчёта в предыдущем пункте"
      ]
    },
    {
      "cell_type": "markdown",
      "source": [],
      "metadata": {
        "id": "m4eXLCoM2Ttq"
      }
    },
    {
      "cell_type": "code",
      "execution_count": null,
      "metadata": {
        "id": "Vkqq3hRe1hwf",
        "outputId": "582375c4-f607-4de2-91f6-e5ac3a565a57"
      },
      "outputs": [
        {
          "name": "stdout",
          "output_type": "stream",
          "text": [
            "Качество: 0.8012422360248447\n"
          ]
        }
      ],
      "source": [
        "model = RandomForestClassifier(max_depth=6, n_estimators=34, min_samples_leaf=2, random_state=12345)\n",
        "model.fit(features_train, target_train)\n",
        "accuracy = model.score(features_test, target_test)\n",
        "print(\"Качество:\", accuracy)"
      ]
    },
    {
      "cell_type": "markdown",
      "metadata": {
        "id": "kp6yRV2P1hwg"
      },
      "source": [
        "**Вывод**\n",
        "\n",
        "Точность на тестовой выборке близка к валидационной, но не превышает её. Значит переобучения модели нет."
      ]
    },
    {
      "cell_type": "markdown",
      "metadata": {
        "id": "GR-CSHt41hwg"
      },
      "source": [
        "## (бонус) Проверьте модели на адекватность"
      ]
    },
    {
      "cell_type": "markdown",
      "metadata": {
        "id": "pxFMK08H1hwh"
      },
      "source": [
        "Честно говоря, не сообразил, как лучше проверить. Сделаю так.\n",
        "Встречал, что можно применить DummyClassifier, но не совсем разобрался с этим."
      ]
    },
    {
      "cell_type": "code",
      "execution_count": null,
      "metadata": {
        "id": "mTJWLmTk1hwh",
        "outputId": "b19414cf-53ec-407c-fbc6-4c971bc2358c"
      },
      "outputs": [
        {
          "data": {
            "text/plain": [
              "0.693528313627878"
            ]
          },
          "execution_count": 15,
          "metadata": {},
          "output_type": "execute_result"
        }
      ],
      "source": [
        "(data['is_ultra']==0).sum() / data.shape[0]"
      ]
    },
    {
      "cell_type": "markdown",
      "metadata": {
        "id": "FzFAbdkz1hwh"
      },
      "source": [
        "У моделей точность выше. Признаю их адекватными."
      ]
    },
    {
      "cell_type": "markdown",
      "metadata": {
        "id": "CgP2_QV_1hwh"
      },
      "source": [
        "## Вывод"
      ]
    },
    {
      "cell_type": "markdown",
      "metadata": {
        "id": "OurPhL7S1hwh"
      },
      "source": [
        "В процессе выполнения проекта обнаружено следующее:\n",
        "1. Пропусков значений и дубликатов файле не обнаружено;\n",
        "2. Столбцы количества звонков и количества сообщений имеют вещественный тип данных. Тип данных для указанных столбцов скорректирован;\n",
        "3. Имена столбцов и значения столбцов вопросов не вызывают;\n",
        "4. Созданы тестовая, обучающая и валидационная выборки;\n",
        "5. Исследование модели показало, что самым высоким качеством обладает модель Случайного леса;\n",
        "6. Проверка модели на тестовой выборке говорит об отсутствии проблем с переобучением модели;\n",
        "7. Проверка модели на адекватность подтвердила адекватность моих моделей."
      ]
    },
    {
      "cell_type": "markdown",
      "metadata": {
        "id": "6kFvlQ2J1hwi"
      },
      "source": [
        "## Чек-лист готовности проекта"
      ]
    },
    {
      "cell_type": "markdown",
      "metadata": {
        "id": "mKPx35QC1hwi"
      },
      "source": [
        "Поставьте 'x' в выполненных пунктах. Далее нажмите Shift+Enter."
      ]
    },
    {
      "cell_type": "markdown",
      "metadata": {
        "id": "XTdKzkq01hwj"
      },
      "source": [
        "- [x] Jupyter Notebook открыт\n",
        "- [x] Весь код исполняется без ошибок\n",
        "- [x] Ячейки с кодом расположены в порядке исполнения\n",
        "- [x] Выполнено задание 1: данные загружены и изучены\n",
        "- [x] Выполнено задание 2: данные разбиты на три выборки\n",
        "- [x] Выполнено задание 3: проведено исследование моделей\n",
        "    - [x] Рассмотрено больше одной модели\n",
        "    - [x] Рассмотрено хотя бы 3 значения гипепараметров для какой-нибудь модели\n",
        "    - [x] Написаны выводы по результатам исследования\n",
        "- [x] Выполнено задание 3: Проведено тестирование\n",
        "- [x] Удалось достичь accuracy не меньше 0.75\n"
      ]
    },
    {
      "cell_type": "code",
      "execution_count": null,
      "metadata": {
        "id": "p73IkajL1hwj"
      },
      "outputs": [],
      "source": []
    }
  ],
  "metadata": {
    "ExecuteTimeLog": [
      {
        "duration": 1158,
        "start_time": "2023-06-16T14:40:52.067Z"
      },
      {
        "duration": 142,
        "start_time": "2023-06-16T14:42:14.930Z"
      },
      {
        "duration": 116,
        "start_time": "2023-06-16T14:43:19.043Z"
      },
      {
        "duration": 19,
        "start_time": "2023-06-16T14:44:18.147Z"
      },
      {
        "duration": 20,
        "start_time": "2023-06-16T14:44:50.736Z"
      },
      {
        "duration": 40,
        "start_time": "2023-06-16T14:45:18.125Z"
      },
      {
        "duration": 8,
        "start_time": "2023-06-16T14:56:19.083Z"
      },
      {
        "duration": 34,
        "start_time": "2023-06-16T15:01:33.787Z"
      },
      {
        "duration": 28,
        "start_time": "2023-06-16T15:02:12.095Z"
      },
      {
        "duration": 16,
        "start_time": "2023-06-16T15:02:26.296Z"
      },
      {
        "duration": 10,
        "start_time": "2023-06-16T15:02:32.465Z"
      },
      {
        "duration": 19,
        "start_time": "2023-06-16T15:03:02.091Z"
      },
      {
        "duration": 5,
        "start_time": "2023-06-16T15:03:31.918Z"
      },
      {
        "duration": 13,
        "start_time": "2023-06-16T15:03:35.587Z"
      },
      {
        "duration": 10,
        "start_time": "2023-06-16T15:04:28.819Z"
      },
      {
        "duration": 7,
        "start_time": "2023-06-16T15:20:24.619Z"
      },
      {
        "duration": 11,
        "start_time": "2023-06-16T15:23:44.745Z"
      },
      {
        "duration": 8,
        "start_time": "2023-06-16T15:24:01.148Z"
      },
      {
        "duration": 5,
        "start_time": "2023-06-16T15:37:47.633Z"
      },
      {
        "duration": 4,
        "start_time": "2023-06-16T15:42:30.763Z"
      },
      {
        "duration": 12,
        "start_time": "2023-06-16T15:48:49.467Z"
      },
      {
        "duration": 4,
        "start_time": "2023-06-16T15:49:56.380Z"
      },
      {
        "duration": 14,
        "start_time": "2023-06-16T15:49:57.895Z"
      },
      {
        "duration": 5,
        "start_time": "2023-06-16T15:52:40.372Z"
      },
      {
        "duration": 7,
        "start_time": "2023-06-16T15:53:11.324Z"
      },
      {
        "duration": 5,
        "start_time": "2023-06-16T15:53:51.653Z"
      },
      {
        "duration": 76,
        "start_time": "2023-06-16T15:58:25.379Z"
      },
      {
        "duration": 9,
        "start_time": "2023-06-16T16:00:02.741Z"
      },
      {
        "duration": 190,
        "start_time": "2023-06-16T16:00:33.261Z"
      },
      {
        "duration": 170,
        "start_time": "2023-06-16T16:00:51.887Z"
      },
      {
        "duration": 164,
        "start_time": "2023-06-16T16:01:36.551Z"
      },
      {
        "duration": 4,
        "start_time": "2023-06-16T16:05:47.206Z"
      },
      {
        "duration": 1097,
        "start_time": "2023-06-17T06:11:27.199Z"
      },
      {
        "duration": 160,
        "start_time": "2023-06-17T06:11:29.965Z"
      },
      {
        "duration": 17,
        "start_time": "2023-06-17T06:11:30.329Z"
      },
      {
        "duration": 6,
        "start_time": "2023-06-17T06:11:30.678Z"
      },
      {
        "duration": 20,
        "start_time": "2023-06-17T06:11:31.323Z"
      },
      {
        "duration": 8,
        "start_time": "2023-06-17T06:11:32.433Z"
      },
      {
        "duration": 7,
        "start_time": "2023-06-17T06:12:50.275Z"
      },
      {
        "duration": 6,
        "start_time": "2023-06-17T06:13:31.826Z"
      },
      {
        "duration": 3,
        "start_time": "2023-06-17T06:23:43.134Z"
      },
      {
        "duration": 4,
        "start_time": "2023-06-17T06:24:15.894Z"
      },
      {
        "duration": 105,
        "start_time": "2023-06-17T06:25:55.327Z"
      },
      {
        "duration": 4,
        "start_time": "2023-06-17T06:28:50.368Z"
      },
      {
        "duration": 111,
        "start_time": "2023-06-17T06:28:56.279Z"
      },
      {
        "duration": 11359,
        "start_time": "2023-06-17T06:36:08.388Z"
      },
      {
        "duration": 76421,
        "start_time": "2023-06-17T06:37:14.569Z"
      },
      {
        "duration": 23,
        "start_time": "2023-06-17T06:39:48.112Z"
      },
      {
        "duration": 209,
        "start_time": "2023-06-17T06:54:31.431Z"
      },
      {
        "duration": 4,
        "start_time": "2023-06-17T07:12:58.332Z"
      },
      {
        "duration": 29,
        "start_time": "2023-06-17T07:13:01.851Z"
      },
      {
        "duration": 14,
        "start_time": "2023-06-17T07:13:02.204Z"
      },
      {
        "duration": 5,
        "start_time": "2023-06-17T07:13:02.538Z"
      },
      {
        "duration": 9,
        "start_time": "2023-06-17T07:13:02.908Z"
      },
      {
        "duration": 8,
        "start_time": "2023-06-17T07:13:03.463Z"
      },
      {
        "duration": 6,
        "start_time": "2023-06-17T07:13:04.558Z"
      },
      {
        "duration": 6,
        "start_time": "2023-06-17T07:13:04.932Z"
      },
      {
        "duration": 4,
        "start_time": "2023-06-17T07:13:05.123Z"
      },
      {
        "duration": 192,
        "start_time": "2023-06-17T07:13:05.507Z"
      },
      {
        "duration": 1252,
        "start_time": "2023-06-17T07:17:30.831Z"
      },
      {
        "duration": 32,
        "start_time": "2023-06-17T07:17:34.123Z"
      },
      {
        "duration": 11,
        "start_time": "2023-06-17T07:17:34.604Z"
      },
      {
        "duration": 5,
        "start_time": "2023-06-17T07:17:35.005Z"
      },
      {
        "duration": 21,
        "start_time": "2023-06-17T07:17:35.338Z"
      },
      {
        "duration": 8,
        "start_time": "2023-06-17T07:17:35.868Z"
      },
      {
        "duration": 6,
        "start_time": "2023-06-17T07:17:37.020Z"
      },
      {
        "duration": 5,
        "start_time": "2023-06-17T07:17:37.434Z"
      },
      {
        "duration": 4,
        "start_time": "2023-06-17T07:17:37.650Z"
      },
      {
        "duration": 210,
        "start_time": "2023-06-17T07:17:38.026Z"
      },
      {
        "duration": 1088,
        "start_time": "2023-06-17T07:28:45.357Z"
      },
      {
        "duration": 30,
        "start_time": "2023-06-17T07:28:49.004Z"
      },
      {
        "duration": 12,
        "start_time": "2023-06-17T07:28:49.438Z"
      },
      {
        "duration": 5,
        "start_time": "2023-06-17T07:28:49.853Z"
      },
      {
        "duration": 16,
        "start_time": "2023-06-17T07:28:50.412Z"
      },
      {
        "duration": 8,
        "start_time": "2023-06-17T07:28:51.052Z"
      },
      {
        "duration": 7,
        "start_time": "2023-06-17T07:28:52.453Z"
      },
      {
        "duration": 5,
        "start_time": "2023-06-17T07:28:52.927Z"
      },
      {
        "duration": 5,
        "start_time": "2023-06-17T07:28:53.354Z"
      },
      {
        "duration": 202,
        "start_time": "2023-06-17T07:28:54.430Z"
      },
      {
        "duration": 1173,
        "start_time": "2023-06-17T07:33:37.343Z"
      },
      {
        "duration": 30,
        "start_time": "2023-06-17T07:33:39.412Z"
      },
      {
        "duration": 11,
        "start_time": "2023-06-17T07:33:39.768Z"
      },
      {
        "duration": 5,
        "start_time": "2023-06-17T07:33:40.130Z"
      },
      {
        "duration": 14,
        "start_time": "2023-06-17T07:33:40.535Z"
      },
      {
        "duration": 8,
        "start_time": "2023-06-17T07:33:42.023Z"
      },
      {
        "duration": 6,
        "start_time": "2023-06-17T07:33:44.139Z"
      },
      {
        "duration": 6,
        "start_time": "2023-06-17T07:33:45.604Z"
      },
      {
        "duration": 4,
        "start_time": "2023-06-17T07:33:45.904Z"
      },
      {
        "duration": 210,
        "start_time": "2023-06-17T07:33:46.975Z"
      },
      {
        "duration": 1148,
        "start_time": "2023-06-17T07:39:24.411Z"
      },
      {
        "duration": 30,
        "start_time": "2023-06-17T07:39:26.807Z"
      },
      {
        "duration": 11,
        "start_time": "2023-06-17T07:39:27.145Z"
      },
      {
        "duration": 5,
        "start_time": "2023-06-17T07:39:27.510Z"
      },
      {
        "duration": 16,
        "start_time": "2023-06-17T07:39:27.874Z"
      },
      {
        "duration": 9,
        "start_time": "2023-06-17T07:39:28.398Z"
      },
      {
        "duration": 6,
        "start_time": "2023-06-17T07:39:29.479Z"
      },
      {
        "duration": 6,
        "start_time": "2023-06-17T07:39:29.927Z"
      },
      {
        "duration": 4,
        "start_time": "2023-06-17T07:39:30.145Z"
      },
      {
        "duration": 214,
        "start_time": "2023-06-17T07:39:30.645Z"
      },
      {
        "duration": 1070,
        "start_time": "2023-06-17T07:42:35.716Z"
      },
      {
        "duration": 30,
        "start_time": "2023-06-17T07:42:38.076Z"
      },
      {
        "duration": 14,
        "start_time": "2023-06-17T07:42:38.443Z"
      },
      {
        "duration": 5,
        "start_time": "2023-06-17T07:42:38.813Z"
      },
      {
        "duration": 15,
        "start_time": "2023-06-17T07:42:39.205Z"
      },
      {
        "duration": 7,
        "start_time": "2023-06-17T07:42:39.804Z"
      },
      {
        "duration": 7,
        "start_time": "2023-06-17T07:42:41.153Z"
      },
      {
        "duration": 6,
        "start_time": "2023-06-17T07:42:41.601Z"
      },
      {
        "duration": 3,
        "start_time": "2023-06-17T07:42:41.810Z"
      },
      {
        "duration": 203,
        "start_time": "2023-06-17T07:42:42.295Z"
      },
      {
        "duration": 1860,
        "start_time": "2023-06-17T07:52:34.228Z"
      },
      {
        "duration": 33,
        "start_time": "2023-06-17T07:52:37.347Z"
      },
      {
        "duration": 12,
        "start_time": "2023-06-17T07:52:38.168Z"
      },
      {
        "duration": 5,
        "start_time": "2023-06-17T07:52:38.866Z"
      },
      {
        "duration": 41,
        "start_time": "2023-06-17T07:52:38.921Z"
      },
      {
        "duration": 7,
        "start_time": "2023-06-17T07:52:39.463Z"
      },
      {
        "duration": 7,
        "start_time": "2023-06-17T07:52:40.663Z"
      },
      {
        "duration": 4,
        "start_time": "2023-06-17T07:52:41.074Z"
      },
      {
        "duration": 4,
        "start_time": "2023-06-17T07:52:41.293Z"
      },
      {
        "duration": 373,
        "start_time": "2023-06-17T07:52:41.710Z"
      },
      {
        "duration": 1867,
        "start_time": "2023-06-17T07:56:24.219Z"
      },
      {
        "duration": 32,
        "start_time": "2023-06-17T07:56:27.255Z"
      },
      {
        "duration": 12,
        "start_time": "2023-06-17T07:56:27.603Z"
      },
      {
        "duration": 5,
        "start_time": "2023-06-17T07:56:27.955Z"
      },
      {
        "duration": 20,
        "start_time": "2023-06-17T07:56:28.302Z"
      },
      {
        "duration": 7,
        "start_time": "2023-06-17T07:56:28.919Z"
      },
      {
        "duration": 9,
        "start_time": "2023-06-17T07:56:30.247Z"
      },
      {
        "duration": 6,
        "start_time": "2023-06-17T07:56:30.704Z"
      },
      {
        "duration": 4,
        "start_time": "2023-06-17T07:56:30.906Z"
      },
      {
        "duration": 425,
        "start_time": "2023-06-17T07:56:31.336Z"
      },
      {
        "duration": 1891,
        "start_time": "2023-06-17T07:56:57.099Z"
      },
      {
        "duration": 78,
        "start_time": "2023-06-17T07:56:58.992Z"
      },
      {
        "duration": 13,
        "start_time": "2023-06-17T07:56:59.909Z"
      },
      {
        "duration": 5,
        "start_time": "2023-06-17T07:57:00.296Z"
      },
      {
        "duration": 16,
        "start_time": "2023-06-17T07:57:00.663Z"
      },
      {
        "duration": 29,
        "start_time": "2023-06-17T07:57:01.224Z"
      },
      {
        "duration": 7,
        "start_time": "2023-06-17T07:57:02.472Z"
      },
      {
        "duration": 7,
        "start_time": "2023-06-17T07:57:02.953Z"
      },
      {
        "duration": 5,
        "start_time": "2023-06-17T07:57:03.176Z"
      },
      {
        "duration": 419,
        "start_time": "2023-06-17T07:57:03.549Z"
      },
      {
        "duration": 84,
        "start_time": "2023-06-17T07:57:03.970Z"
      },
      {
        "duration": 18808,
        "start_time": "2023-06-17T07:57:29.814Z"
      },
      {
        "duration": 1945,
        "start_time": "2023-06-17T08:04:09.427Z"
      },
      {
        "duration": 30,
        "start_time": "2023-06-17T08:04:11.374Z"
      },
      {
        "duration": 56,
        "start_time": "2023-06-17T08:04:11.406Z"
      },
      {
        "duration": 11,
        "start_time": "2023-06-17T08:04:11.464Z"
      },
      {
        "duration": 18,
        "start_time": "2023-06-17T08:04:13.264Z"
      },
      {
        "duration": 7,
        "start_time": "2023-06-17T08:04:13.871Z"
      },
      {
        "duration": 6,
        "start_time": "2023-06-17T08:04:15.494Z"
      },
      {
        "duration": 6,
        "start_time": "2023-06-17T08:04:16.171Z"
      },
      {
        "duration": 4,
        "start_time": "2023-06-17T08:04:16.476Z"
      },
      {
        "duration": 387,
        "start_time": "2023-06-17T08:04:17.403Z"
      },
      {
        "duration": 36,
        "start_time": "2023-06-17T08:04:18.370Z"
      },
      {
        "duration": 878456,
        "start_time": "2023-06-17T08:04:19.544Z"
      },
      {
        "duration": 32,
        "start_time": "2023-06-17T08:22:41.114Z"
      },
      {
        "duration": 106,
        "start_time": "2023-06-17T08:25:17.766Z"
      },
      {
        "duration": 108,
        "start_time": "2023-06-17T08:26:47.943Z"
      },
      {
        "duration": 10,
        "start_time": "2023-06-17T08:26:56.828Z"
      },
      {
        "duration": 9,
        "start_time": "2023-06-17T08:30:00.705Z"
      },
      {
        "duration": 15,
        "start_time": "2023-06-17T08:32:30.054Z"
      },
      {
        "duration": 6,
        "start_time": "2023-06-17T08:34:55.772Z"
      },
      {
        "duration": 9,
        "start_time": "2023-06-17T08:38:38.667Z"
      },
      {
        "duration": 4,
        "start_time": "2023-06-17T08:39:07.204Z"
      },
      {
        "duration": 118,
        "start_time": "2023-06-17T09:09:40.151Z"
      },
      {
        "duration": 1217,
        "start_time": "2023-06-17T09:21:11.203Z"
      },
      {
        "duration": 39,
        "start_time": "2023-06-17T09:21:12.422Z"
      },
      {
        "duration": 21,
        "start_time": "2023-06-17T09:21:12.463Z"
      },
      {
        "duration": 7,
        "start_time": "2023-06-17T09:21:12.520Z"
      },
      {
        "duration": 24,
        "start_time": "2023-06-17T09:21:12.876Z"
      },
      {
        "duration": 7,
        "start_time": "2023-06-17T09:21:13.403Z"
      },
      {
        "duration": 5,
        "start_time": "2023-06-17T09:21:14.407Z"
      },
      {
        "duration": 5,
        "start_time": "2023-06-17T09:21:14.743Z"
      },
      {
        "duration": 5,
        "start_time": "2023-06-17T09:21:15.131Z"
      },
      {
        "duration": 4,
        "start_time": "2023-06-17T09:21:15.501Z"
      },
      {
        "duration": 273,
        "start_time": "2023-06-17T09:21:16.413Z"
      },
      {
        "duration": 3295,
        "start_time": "2023-06-17T09:21:16.970Z"
      },
      {
        "duration": 1105941,
        "start_time": "2023-06-17T09:21:20.268Z"
      },
      {
        "duration": 11,
        "start_time": "2023-06-17T09:39:46.211Z"
      },
      {
        "duration": 1749,
        "start_time": "2023-06-17T09:39:46.224Z"
      },
      {
        "duration": 293,
        "start_time": "2023-06-17T09:39:47.977Z"
      },
      {
        "duration": 48,
        "start_time": "2023-06-17T09:39:48.273Z"
      },
      {
        "duration": 1322,
        "start_time": "2023-06-17T15:09:23.629Z"
      },
      {
        "duration": 172,
        "start_time": "2023-06-17T15:09:27.516Z"
      },
      {
        "duration": 11,
        "start_time": "2023-06-17T15:09:28.400Z"
      },
      {
        "duration": 7,
        "start_time": "2023-06-17T15:09:29.986Z"
      },
      {
        "duration": 21,
        "start_time": "2023-06-17T15:09:30.826Z"
      },
      {
        "duration": 9,
        "start_time": "2023-06-17T15:09:32.751Z"
      },
      {
        "duration": 6,
        "start_time": "2023-06-17T15:10:41.294Z"
      },
      {
        "duration": 15,
        "start_time": "2023-06-17T15:10:41.302Z"
      },
      {
        "duration": 10,
        "start_time": "2023-06-17T15:10:41.318Z"
      },
      {
        "duration": 17,
        "start_time": "2023-06-17T15:10:41.329Z"
      },
      {
        "duration": 4,
        "start_time": "2023-06-17T15:10:48.932Z"
      },
      {
        "duration": 4,
        "start_time": "2023-06-17T15:10:55.138Z"
      },
      {
        "duration": 4,
        "start_time": "2023-06-17T15:10:59.181Z"
      },
      {
        "duration": 5,
        "start_time": "2023-06-17T15:11:03.348Z"
      },
      {
        "duration": 3,
        "start_time": "2023-06-17T15:11:13.474Z"
      },
      {
        "duration": 3,
        "start_time": "2023-06-17T15:11:50.007Z"
      },
      {
        "duration": 1148,
        "start_time": "2023-06-18T01:08:34.954Z"
      },
      {
        "duration": 184,
        "start_time": "2023-06-18T01:08:37.592Z"
      },
      {
        "duration": 11,
        "start_time": "2023-06-18T01:08:38.043Z"
      },
      {
        "duration": 5,
        "start_time": "2023-06-18T01:08:38.399Z"
      },
      {
        "duration": 14,
        "start_time": "2023-06-18T01:08:38.846Z"
      },
      {
        "duration": 6,
        "start_time": "2023-06-18T01:08:39.609Z"
      },
      {
        "duration": 5,
        "start_time": "2023-06-18T01:08:42.614Z"
      },
      {
        "duration": 4,
        "start_time": "2023-06-18T01:08:43.703Z"
      },
      {
        "duration": 5,
        "start_time": "2023-06-18T01:08:44.942Z"
      },
      {
        "duration": 4,
        "start_time": "2023-06-18T01:08:46.193Z"
      },
      {
        "duration": 5,
        "start_time": "2023-06-18T01:12:58.081Z"
      },
      {
        "duration": 11,
        "start_time": "2023-06-18T01:13:43.842Z"
      },
      {
        "duration": 3,
        "start_time": "2023-06-18T01:15:09.153Z"
      },
      {
        "duration": 90,
        "start_time": "2023-06-18T01:15:16.694Z"
      },
      {
        "duration": 288,
        "start_time": "2023-06-18T01:19:07.962Z"
      },
      {
        "duration": 95,
        "start_time": "2023-06-18T01:21:07.796Z"
      },
      {
        "duration": 71,
        "start_time": "2023-06-18T01:21:27.436Z"
      },
      {
        "duration": 75,
        "start_time": "2023-06-18T01:22:47.632Z"
      },
      {
        "duration": 3,
        "start_time": "2023-06-18T01:23:02.387Z"
      },
      {
        "duration": 33,
        "start_time": "2023-06-18T01:23:03.291Z"
      },
      {
        "duration": 13,
        "start_time": "2023-06-18T01:23:03.660Z"
      },
      {
        "duration": 6,
        "start_time": "2023-06-18T01:23:04.030Z"
      },
      {
        "duration": 8,
        "start_time": "2023-06-18T01:23:04.491Z"
      },
      {
        "duration": 6,
        "start_time": "2023-06-18T01:23:04.973Z"
      },
      {
        "duration": 5,
        "start_time": "2023-06-18T01:23:09.692Z"
      },
      {
        "duration": 4,
        "start_time": "2023-06-18T01:23:10.093Z"
      },
      {
        "duration": 4,
        "start_time": "2023-06-18T01:23:10.483Z"
      },
      {
        "duration": 4,
        "start_time": "2023-06-18T01:23:10.978Z"
      },
      {
        "duration": 80,
        "start_time": "2023-06-18T01:23:12.739Z"
      },
      {
        "duration": 1090,
        "start_time": "2023-06-18T01:48:13.413Z"
      },
      {
        "duration": 31,
        "start_time": "2023-06-18T01:48:14.505Z"
      },
      {
        "duration": 12,
        "start_time": "2023-06-18T01:48:14.537Z"
      },
      {
        "duration": 6,
        "start_time": "2023-06-18T01:48:14.796Z"
      },
      {
        "duration": 14,
        "start_time": "2023-06-18T01:48:15.168Z"
      },
      {
        "duration": 6,
        "start_time": "2023-06-18T01:48:15.694Z"
      },
      {
        "duration": 4,
        "start_time": "2023-06-18T01:48:16.910Z"
      },
      {
        "duration": 4,
        "start_time": "2023-06-18T01:48:17.231Z"
      },
      {
        "duration": 4,
        "start_time": "2023-06-18T01:48:17.598Z"
      },
      {
        "duration": 3,
        "start_time": "2023-06-18T01:48:17.966Z"
      },
      {
        "duration": 296,
        "start_time": "2023-06-18T01:48:19.207Z"
      },
      {
        "duration": 139,
        "start_time": "2023-06-18T01:48:19.894Z"
      },
      {
        "duration": 969435,
        "start_time": "2023-06-18T01:48:21.779Z"
      },
      {
        "duration": 962900,
        "start_time": "2023-06-18T02:05:29.570Z"
      },
      {
        "duration": 117,
        "start_time": "2023-06-18T02:21:32.472Z"
      },
      {
        "duration": 1052,
        "start_time": "2023-06-18T02:30:58.964Z"
      },
      {
        "duration": 30,
        "start_time": "2023-06-18T02:31:00.017Z"
      },
      {
        "duration": 11,
        "start_time": "2023-06-18T02:31:00.048Z"
      },
      {
        "duration": 5,
        "start_time": "2023-06-18T02:31:00.245Z"
      },
      {
        "duration": 13,
        "start_time": "2023-06-18T02:31:00.605Z"
      },
      {
        "duration": 6,
        "start_time": "2023-06-18T02:31:01.268Z"
      },
      {
        "duration": 4,
        "start_time": "2023-06-18T02:31:02.484Z"
      },
      {
        "duration": 3,
        "start_time": "2023-06-18T02:31:03.020Z"
      },
      {
        "duration": 4,
        "start_time": "2023-06-18T02:31:03.221Z"
      },
      {
        "duration": 3,
        "start_time": "2023-06-18T02:31:03.580Z"
      },
      {
        "duration": 262,
        "start_time": "2023-06-18T02:31:04.821Z"
      },
      {
        "duration": 245,
        "start_time": "2023-06-18T02:31:05.381Z"
      },
      {
        "duration": 965754,
        "start_time": "2023-06-18T02:31:05.947Z"
      },
      {
        "duration": 129,
        "start_time": "2023-06-18T02:47:11.702Z"
      },
      {
        "duration": 29,
        "start_time": "2023-06-18T02:47:11.832Z"
      }
    ],
    "kernelspec": {
      "display_name": "Python 3 (ipykernel)",
      "language": "python",
      "name": "python3"
    },
    "language_info": {
      "codemirror_mode": {
        "name": "ipython",
        "version": 3
      },
      "file_extension": ".py",
      "mimetype": "text/x-python",
      "name": "python",
      "nbconvert_exporter": "python",
      "pygments_lexer": "ipython3",
      "version": "3.9.5"
    },
    "toc": {
      "base_numbering": 1,
      "nav_menu": {},
      "number_sections": true,
      "sideBar": true,
      "skip_h1_title": true,
      "title_cell": "Table of Contents",
      "title_sidebar": "Contents",
      "toc_cell": false,
      "toc_position": {
        "height": "calc(100% - 180px)",
        "left": "10px",
        "top": "150px",
        "width": "165px"
      },
      "toc_section_display": true,
      "toc_window_display": true
    },
    "colab": {
      "provenance": []
    }
  },
  "nbformat": 4,
  "nbformat_minor": 0
}