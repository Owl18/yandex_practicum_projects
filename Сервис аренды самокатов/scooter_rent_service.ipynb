{
  "cells": [
    {
      "cell_type": "markdown",
      "id": "5fa2e83f",
      "metadata": {
        "id": "5fa2e83f"
      },
      "source": [
        "# Сервис аренды самокатов"
      ]
    },
    {
      "cell_type": "code",
      "execution_count": null,
      "id": "9190bbe6",
      "metadata": {
        "id": "9190bbe6"
      },
      "outputs": [],
      "source": [
        "import pandas as pd\n",
        "import matplotlib.pyplot as plt\n",
        "import numpy as np\n",
        "from scipy import stats as st"
      ]
    },
    {
      "cell_type": "markdown",
      "id": "c6629ac0",
      "metadata": {
        "id": "c6629ac0"
      },
      "source": [
        "Других пока не пропомню. Поэтому переходим к загрузке данных."
      ]
    },
    {
      "cell_type": "markdown",
      "id": "0e06928c",
      "metadata": {
        "id": "0e06928c"
      },
      "source": [
        "#### Шаг 1. Загрузка данных"
      ]
    },
    {
      "cell_type": "markdown",
      "id": "57556f46",
      "metadata": {
        "id": "57556f46"
      },
      "source": [
        "В наличии 3 дата-файла: Пользователи, Поездки, Подписки. Попытаюсь назвать датафоеймы сообразно этому."
      ]
    },
    {
      "cell_type": "code",
      "execution_count": null,
      "id": "23a87658",
      "metadata": {
        "id": "23a87658"
      },
      "outputs": [],
      "source": [
        "user = pd.read_csv('/datasets/users_go.csv') # считываем файл с пользователями\n",
        "ride = pd.read_csv('/datasets/rides_go.csv') # считываем файл с поездками\n",
        "subscr = pd.read_csv('/datasets/subscriptions_go.csv') # считываем файл с подписками"
      ]
    },
    {
      "cell_type": "markdown",
      "id": "93fcd081",
      "metadata": {
        "id": "93fcd081"
      },
      "source": [
        "Взглянем на несколько строк наших наборов. Вдруг понадобится, например, добавить разделитель. Да и вообще, познакомиться с данными. Буду делать это по очереди."
      ]
    },
    {
      "cell_type": "code",
      "execution_count": null,
      "id": "0600b155",
      "metadata": {
        "id": "0600b155",
        "outputId": "abd99014-724d-4e19-eb53-a1d86011a69f"
      },
      "outputs": [
        {
          "name": "stdout",
          "output_type": "stream",
          "text": [
            "<class 'pandas.core.frame.DataFrame'>\n",
            "RangeIndex: 1565 entries, 0 to 1564\n",
            "Data columns (total 5 columns):\n",
            " #   Column             Non-Null Count  Dtype \n",
            "---  ------             --------------  ----- \n",
            " 0   user_id            1565 non-null   int64 \n",
            " 1   name               1565 non-null   object\n",
            " 2   age                1565 non-null   int64 \n",
            " 3   city               1565 non-null   object\n",
            " 4   subscription_type  1565 non-null   object\n",
            "dtypes: int64(2), object(3)\n",
            "memory usage: 61.3+ KB\n"
          ]
        },
        {
          "data": {
            "text/html": [
              "<div>\n",
              "<style scoped>\n",
              "    .dataframe tbody tr th:only-of-type {\n",
              "        vertical-align: middle;\n",
              "    }\n",
              "\n",
              "    .dataframe tbody tr th {\n",
              "        vertical-align: top;\n",
              "    }\n",
              "\n",
              "    .dataframe thead th {\n",
              "        text-align: right;\n",
              "    }\n",
              "</style>\n",
              "<table border=\"1\" class=\"dataframe\">\n",
              "  <thead>\n",
              "    <tr style=\"text-align: right;\">\n",
              "      <th></th>\n",
              "      <th>user_id</th>\n",
              "      <th>name</th>\n",
              "      <th>age</th>\n",
              "      <th>city</th>\n",
              "      <th>subscription_type</th>\n",
              "    </tr>\n",
              "  </thead>\n",
              "  <tbody>\n",
              "    <tr>\n",
              "      <th>0</th>\n",
              "      <td>1</td>\n",
              "      <td>Кира</td>\n",
              "      <td>22</td>\n",
              "      <td>Тюмень</td>\n",
              "      <td>ultra</td>\n",
              "    </tr>\n",
              "    <tr>\n",
              "      <th>1</th>\n",
              "      <td>2</td>\n",
              "      <td>Станислав</td>\n",
              "      <td>31</td>\n",
              "      <td>Омск</td>\n",
              "      <td>ultra</td>\n",
              "    </tr>\n",
              "    <tr>\n",
              "      <th>2</th>\n",
              "      <td>3</td>\n",
              "      <td>Алексей</td>\n",
              "      <td>20</td>\n",
              "      <td>Москва</td>\n",
              "      <td>ultra</td>\n",
              "    </tr>\n",
              "    <tr>\n",
              "      <th>3</th>\n",
              "      <td>4</td>\n",
              "      <td>Константин</td>\n",
              "      <td>26</td>\n",
              "      <td>Ростов-на-Дону</td>\n",
              "      <td>ultra</td>\n",
              "    </tr>\n",
              "    <tr>\n",
              "      <th>4</th>\n",
              "      <td>5</td>\n",
              "      <td>Адель</td>\n",
              "      <td>28</td>\n",
              "      <td>Омск</td>\n",
              "      <td>ultra</td>\n",
              "    </tr>\n",
              "    <tr>\n",
              "      <th>5</th>\n",
              "      <td>6</td>\n",
              "      <td>Регина</td>\n",
              "      <td>25</td>\n",
              "      <td>Краснодар</td>\n",
              "      <td>ultra</td>\n",
              "    </tr>\n",
              "    <tr>\n",
              "      <th>6</th>\n",
              "      <td>7</td>\n",
              "      <td>Игорь</td>\n",
              "      <td>23</td>\n",
              "      <td>Омск</td>\n",
              "      <td>ultra</td>\n",
              "    </tr>\n",
              "    <tr>\n",
              "      <th>7</th>\n",
              "      <td>8</td>\n",
              "      <td>Юрий</td>\n",
              "      <td>23</td>\n",
              "      <td>Краснодар</td>\n",
              "      <td>ultra</td>\n",
              "    </tr>\n",
              "    <tr>\n",
              "      <th>8</th>\n",
              "      <td>9</td>\n",
              "      <td>Ян</td>\n",
              "      <td>21</td>\n",
              "      <td>Пятигорск</td>\n",
              "      <td>ultra</td>\n",
              "    </tr>\n",
              "    <tr>\n",
              "      <th>9</th>\n",
              "      <td>10</td>\n",
              "      <td>Валерий</td>\n",
              "      <td>18</td>\n",
              "      <td>Екатеринбург</td>\n",
              "      <td>ultra</td>\n",
              "    </tr>\n",
              "    <tr>\n",
              "      <th>10</th>\n",
              "      <td>11</td>\n",
              "      <td>Агата</td>\n",
              "      <td>31</td>\n",
              "      <td>Краснодар</td>\n",
              "      <td>ultra</td>\n",
              "    </tr>\n",
              "    <tr>\n",
              "      <th>11</th>\n",
              "      <td>12</td>\n",
              "      <td>Марк</td>\n",
              "      <td>27</td>\n",
              "      <td>Тюмень</td>\n",
              "      <td>ultra</td>\n",
              "    </tr>\n",
              "    <tr>\n",
              "      <th>12</th>\n",
              "      <td>13</td>\n",
              "      <td>Ева</td>\n",
              "      <td>24</td>\n",
              "      <td>Краснодар</td>\n",
              "      <td>ultra</td>\n",
              "    </tr>\n",
              "    <tr>\n",
              "      <th>13</th>\n",
              "      <td>14</td>\n",
              "      <td>Антонина</td>\n",
              "      <td>18</td>\n",
              "      <td>Пятигорск</td>\n",
              "      <td>ultra</td>\n",
              "    </tr>\n",
              "    <tr>\n",
              "      <th>14</th>\n",
              "      <td>15</td>\n",
              "      <td>Валерия</td>\n",
              "      <td>24</td>\n",
              "      <td>Тюмень</td>\n",
              "      <td>ultra</td>\n",
              "    </tr>\n",
              "  </tbody>\n",
              "</table>\n",
              "</div>"
            ],
            "text/plain": [
              "    user_id        name  age            city subscription_type\n",
              "0         1        Кира   22          Тюмень             ultra\n",
              "1         2   Станислав   31            Омск             ultra\n",
              "2         3     Алексей   20          Москва             ultra\n",
              "3         4  Константин   26  Ростов-на-Дону             ultra\n",
              "4         5       Адель   28            Омск             ultra\n",
              "5         6      Регина   25       Краснодар             ultra\n",
              "6         7       Игорь   23            Омск             ultra\n",
              "7         8        Юрий   23       Краснодар             ultra\n",
              "8         9          Ян   21       Пятигорск             ultra\n",
              "9        10     Валерий   18    Екатеринбург             ultra\n",
              "10       11       Агата   31       Краснодар             ultra\n",
              "11       12        Марк   27          Тюмень             ultra\n",
              "12       13         Ева   24       Краснодар             ultra\n",
              "13       14    Антонина   18       Пятигорск             ultra\n",
              "14       15     Валерия   24          Тюмень             ultra"
            ]
          },
          "execution_count": 3,
          "metadata": {},
          "output_type": "execute_result"
        }
      ],
      "source": [
        "user.info()\n",
        "user.head(15)"
      ]
    },
    {
      "cell_type": "markdown",
      "id": "0f25745f",
      "metadata": {
        "id": "0f25745f"
      },
      "source": [
        "Всё в порядке. Таблица. АйДи, имя, возраст и т.д. Нулевых ячеек нет. К типу данных претензий нет."
      ]
    },
    {
      "cell_type": "code",
      "execution_count": null,
      "id": "068cd327",
      "metadata": {
        "id": "068cd327",
        "outputId": "dee262cb-8b1b-4131-beda-6e3918c6c970"
      },
      "outputs": [
        {
          "name": "stdout",
          "output_type": "stream",
          "text": [
            "<class 'pandas.core.frame.DataFrame'>\n",
            "RangeIndex: 18068 entries, 0 to 18067\n",
            "Data columns (total 4 columns):\n",
            " #   Column    Non-Null Count  Dtype  \n",
            "---  ------    --------------  -----  \n",
            " 0   user_id   18068 non-null  int64  \n",
            " 1   distance  18068 non-null  float64\n",
            " 2   duration  18068 non-null  float64\n",
            " 3   date      18068 non-null  object \n",
            "dtypes: float64(2), int64(1), object(1)\n",
            "memory usage: 564.8+ KB\n"
          ]
        },
        {
          "data": {
            "text/html": [
              "<div>\n",
              "<style scoped>\n",
              "    .dataframe tbody tr th:only-of-type {\n",
              "        vertical-align: middle;\n",
              "    }\n",
              "\n",
              "    .dataframe tbody tr th {\n",
              "        vertical-align: top;\n",
              "    }\n",
              "\n",
              "    .dataframe thead th {\n",
              "        text-align: right;\n",
              "    }\n",
              "</style>\n",
              "<table border=\"1\" class=\"dataframe\">\n",
              "  <thead>\n",
              "    <tr style=\"text-align: right;\">\n",
              "      <th></th>\n",
              "      <th>user_id</th>\n",
              "      <th>distance</th>\n",
              "      <th>duration</th>\n",
              "      <th>date</th>\n",
              "    </tr>\n",
              "  </thead>\n",
              "  <tbody>\n",
              "    <tr>\n",
              "      <th>0</th>\n",
              "      <td>1</td>\n",
              "      <td>4409.919140</td>\n",
              "      <td>25.599769</td>\n",
              "      <td>2021-01-01</td>\n",
              "    </tr>\n",
              "    <tr>\n",
              "      <th>1</th>\n",
              "      <td>1</td>\n",
              "      <td>2617.592153</td>\n",
              "      <td>15.816871</td>\n",
              "      <td>2021-01-18</td>\n",
              "    </tr>\n",
              "    <tr>\n",
              "      <th>2</th>\n",
              "      <td>1</td>\n",
              "      <td>754.159807</td>\n",
              "      <td>6.232113</td>\n",
              "      <td>2021-04-20</td>\n",
              "    </tr>\n",
              "    <tr>\n",
              "      <th>3</th>\n",
              "      <td>1</td>\n",
              "      <td>2694.783254</td>\n",
              "      <td>18.511000</td>\n",
              "      <td>2021-08-11</td>\n",
              "    </tr>\n",
              "    <tr>\n",
              "      <th>4</th>\n",
              "      <td>1</td>\n",
              "      <td>4028.687306</td>\n",
              "      <td>26.265803</td>\n",
              "      <td>2021-08-28</td>\n",
              "    </tr>\n",
              "    <tr>\n",
              "      <th>5</th>\n",
              "      <td>1</td>\n",
              "      <td>2770.890808</td>\n",
              "      <td>16.650138</td>\n",
              "      <td>2021-10-09</td>\n",
              "    </tr>\n",
              "    <tr>\n",
              "      <th>6</th>\n",
              "      <td>1</td>\n",
              "      <td>3039.020292</td>\n",
              "      <td>14.927879</td>\n",
              "      <td>2021-10-19</td>\n",
              "    </tr>\n",
              "    <tr>\n",
              "      <th>7</th>\n",
              "      <td>1</td>\n",
              "      <td>2842.118050</td>\n",
              "      <td>23.117468</td>\n",
              "      <td>2021-11-06</td>\n",
              "    </tr>\n",
              "    <tr>\n",
              "      <th>8</th>\n",
              "      <td>1</td>\n",
              "      <td>3412.690668</td>\n",
              "      <td>15.238072</td>\n",
              "      <td>2021-11-14</td>\n",
              "    </tr>\n",
              "    <tr>\n",
              "      <th>9</th>\n",
              "      <td>1</td>\n",
              "      <td>748.690645</td>\n",
              "      <td>15.041884</td>\n",
              "      <td>2021-11-22</td>\n",
              "    </tr>\n",
              "    <tr>\n",
              "      <th>10</th>\n",
              "      <td>1</td>\n",
              "      <td>4031.020195</td>\n",
              "      <td>17.674448</td>\n",
              "      <td>2021-12-14</td>\n",
              "    </tr>\n",
              "    <tr>\n",
              "      <th>11</th>\n",
              "      <td>1</td>\n",
              "      <td>2720.609748</td>\n",
              "      <td>9.529463</td>\n",
              "      <td>2021-12-22</td>\n",
              "    </tr>\n",
              "    <tr>\n",
              "      <th>12</th>\n",
              "      <td>2</td>\n",
              "      <td>3105.086678</td>\n",
              "      <td>24.307514</td>\n",
              "      <td>2021-03-15</td>\n",
              "    </tr>\n",
              "    <tr>\n",
              "      <th>13</th>\n",
              "      <td>2</td>\n",
              "      <td>3053.519401</td>\n",
              "      <td>11.543256</td>\n",
              "      <td>2021-03-18</td>\n",
              "    </tr>\n",
              "    <tr>\n",
              "      <th>14</th>\n",
              "      <td>2</td>\n",
              "      <td>4029.116927</td>\n",
              "      <td>25.109188</td>\n",
              "      <td>2021-03-23</td>\n",
              "    </tr>\n",
              "  </tbody>\n",
              "</table>\n",
              "</div>"
            ],
            "text/plain": [
              "    user_id     distance   duration        date\n",
              "0         1  4409.919140  25.599769  2021-01-01\n",
              "1         1  2617.592153  15.816871  2021-01-18\n",
              "2         1   754.159807   6.232113  2021-04-20\n",
              "3         1  2694.783254  18.511000  2021-08-11\n",
              "4         1  4028.687306  26.265803  2021-08-28\n",
              "5         1  2770.890808  16.650138  2021-10-09\n",
              "6         1  3039.020292  14.927879  2021-10-19\n",
              "7         1  2842.118050  23.117468  2021-11-06\n",
              "8         1  3412.690668  15.238072  2021-11-14\n",
              "9         1   748.690645  15.041884  2021-11-22\n",
              "10        1  4031.020195  17.674448  2021-12-14\n",
              "11        1  2720.609748   9.529463  2021-12-22\n",
              "12        2  3105.086678  24.307514  2021-03-15\n",
              "13        2  3053.519401  11.543256  2021-03-18\n",
              "14        2  4029.116927  25.109188  2021-03-23"
            ]
          },
          "execution_count": 4,
          "metadata": {},
          "output_type": "execute_result"
        }
      ],
      "source": [
        "ride.info()\n",
        "ride.head(15)"
      ]
    },
    {
      "cell_type": "markdown",
      "id": "b1ecc64e",
      "metadata": {
        "id": "b1ecc64e"
      },
      "source": [
        "В столбце \"Дата\" тип object. На следующем шаге поправим."
      ]
    },
    {
      "cell_type": "code",
      "execution_count": null,
      "id": "176c8a80",
      "metadata": {
        "id": "176c8a80",
        "outputId": "1757cfb9-2469-4730-ed8c-3d6707eb9f05"
      },
      "outputs": [
        {
          "name": "stdout",
          "output_type": "stream",
          "text": [
            "<class 'pandas.core.frame.DataFrame'>\n",
            "RangeIndex: 2 entries, 0 to 1\n",
            "Data columns (total 4 columns):\n",
            " #   Column             Non-Null Count  Dtype \n",
            "---  ------             --------------  ----- \n",
            " 0   subscription_type  2 non-null      object\n",
            " 1   minute_price       2 non-null      int64 \n",
            " 2   start_ride_price   2 non-null      int64 \n",
            " 3   subscription_fee   2 non-null      int64 \n",
            "dtypes: int64(3), object(1)\n",
            "memory usage: 192.0+ bytes\n"
          ]
        },
        {
          "data": {
            "text/html": [
              "<div>\n",
              "<style scoped>\n",
              "    .dataframe tbody tr th:only-of-type {\n",
              "        vertical-align: middle;\n",
              "    }\n",
              "\n",
              "    .dataframe tbody tr th {\n",
              "        vertical-align: top;\n",
              "    }\n",
              "\n",
              "    .dataframe thead th {\n",
              "        text-align: right;\n",
              "    }\n",
              "</style>\n",
              "<table border=\"1\" class=\"dataframe\">\n",
              "  <thead>\n",
              "    <tr style=\"text-align: right;\">\n",
              "      <th></th>\n",
              "      <th>subscription_type</th>\n",
              "      <th>minute_price</th>\n",
              "      <th>start_ride_price</th>\n",
              "      <th>subscription_fee</th>\n",
              "    </tr>\n",
              "  </thead>\n",
              "  <tbody>\n",
              "    <tr>\n",
              "      <th>0</th>\n",
              "      <td>free</td>\n",
              "      <td>8</td>\n",
              "      <td>50</td>\n",
              "      <td>0</td>\n",
              "    </tr>\n",
              "    <tr>\n",
              "      <th>1</th>\n",
              "      <td>ultra</td>\n",
              "      <td>6</td>\n",
              "      <td>0</td>\n",
              "      <td>199</td>\n",
              "    </tr>\n",
              "  </tbody>\n",
              "</table>\n",
              "</div>"
            ],
            "text/plain": [
              "  subscription_type  minute_price  start_ride_price  subscription_fee\n",
              "0              free             8                50                 0\n",
              "1             ultra             6                 0               199"
            ]
          },
          "execution_count": 5,
          "metadata": {},
          "output_type": "execute_result"
        }
      ],
      "source": [
        "subscr.info()\n",
        "subscr.head(15)"
      ]
    },
    {
      "cell_type": "markdown",
      "id": "818762d8",
      "metadata": {
        "id": "818762d8"
      },
      "source": [
        "Неожиданно маленький файл. Тоже вопросов к нему не возникло."
      ]
    },
    {
      "cell_type": "markdown",
      "id": "44f3f78f",
      "metadata": {
        "id": "44f3f78f"
      },
      "source": [
        "Движемся дальше. Переходим к предобработке."
      ]
    },
    {
      "cell_type": "markdown",
      "id": "9ac103f8",
      "metadata": {
        "id": "9ac103f8"
      },
      "source": [
        "#### Шаг 2. Предобработка данных"
      ]
    },
    {
      "cell_type": "markdown",
      "id": "11ee6372",
      "metadata": {
        "id": "11ee6372"
      },
      "source": [
        "##### Перевод столбца date (файл \"Поездки\") к типу даты Pandas"
      ]
    },
    {
      "cell_type": "markdown",
      "id": "1d03cedc",
      "metadata": {
        "id": "1d03cedc"
      },
      "source": [
        "Применю try-except для подстраховки"
      ]
    },
    {
      "cell_type": "code",
      "execution_count": null,
      "id": "f95d3c1b",
      "metadata": {
        "id": "f95d3c1b",
        "outputId": "3318184e-7804-44b5-c647-d0faa214da09"
      },
      "outputs": [
        {
          "name": "stdout",
          "output_type": "stream",
          "text": [
            "перевели\n"
          ]
        }
      ],
      "source": [
        "try:\n",
        "    ride['date'] = pd.to_datetime(ride['date'],format='%Y-%m-%dT%H:%M:%S')\n",
        "    print('перевели')\n",
        "except:\n",
        "    print('не получилось')"
      ]
    },
    {
      "cell_type": "markdown",
      "id": "d19f8968",
      "metadata": {
        "id": "d19f8968"
      },
      "source": [
        "Посмотрю, что получилось."
      ]
    },
    {
      "cell_type": "code",
      "execution_count": null,
      "id": "153bc299",
      "metadata": {
        "id": "153bc299",
        "outputId": "c68abd33-f06f-46b0-cec5-9f06eaa3ea8e"
      },
      "outputs": [
        {
          "name": "stdout",
          "output_type": "stream",
          "text": [
            "<class 'pandas.core.frame.DataFrame'>\n",
            "RangeIndex: 18068 entries, 0 to 18067\n",
            "Data columns (total 4 columns):\n",
            " #   Column    Non-Null Count  Dtype         \n",
            "---  ------    --------------  -----         \n",
            " 0   user_id   18068 non-null  int64         \n",
            " 1   distance  18068 non-null  float64       \n",
            " 2   duration  18068 non-null  float64       \n",
            " 3   date      18068 non-null  datetime64[ns]\n",
            "dtypes: datetime64[ns](1), float64(2), int64(1)\n",
            "memory usage: 564.8 KB\n"
          ]
        }
      ],
      "source": [
        "ride.info()"
      ]
    },
    {
      "cell_type": "markdown",
      "id": "a2237619",
      "metadata": {
        "id": "a2237619"
      },
      "source": [
        "Теперь дата в формате даты."
      ]
    },
    {
      "cell_type": "markdown",
      "id": "f4fafd70",
      "metadata": {
        "id": "f4fafd70"
      },
      "source": [
        "##### Создание столбца с номером месяца на основе столбца \"Date\""
      ]
    },
    {
      "cell_type": "code",
      "execution_count": null,
      "id": "3ce2f81b",
      "metadata": {
        "id": "3ce2f81b"
      },
      "outputs": [],
      "source": [
        "ride['month'] = ride['date'].dt.month"
      ]
    },
    {
      "cell_type": "markdown",
      "id": "8fe6b557",
      "metadata": {
        "id": "8fe6b557"
      },
      "source": [
        "Проверяем, что получилось."
      ]
    },
    {
      "cell_type": "code",
      "execution_count": null,
      "id": "bef9000c",
      "metadata": {
        "id": "bef9000c",
        "outputId": "02841d54-4c3e-4efb-c16c-25880bdd71fe"
      },
      "outputs": [
        {
          "name": "stderr",
          "output_type": "stream",
          "text": [
            "/tmp/ipykernel_259/4133970559.py:2: FutureWarning: Treating datetime data as categorical rather than numeric in `.describe` is deprecated and will be removed in a future version of pandas. Specify `datetime_is_numeric=True` to silence this warning and adopt the future behavior now.\n",
            "  ride['date'].describe()\n"
          ]
        },
        {
          "data": {
            "text/plain": [
              "count                   18068\n",
              "unique                    364\n",
              "top       2021-12-22 00:00:00\n",
              "freq                       72\n",
              "first     2021-01-01 00:00:00\n",
              "last      2021-12-30 00:00:00\n",
              "Name: date, dtype: object"
            ]
          },
          "execution_count": 9,
          "metadata": {},
          "output_type": "execute_result"
        }
      ],
      "source": [
        "ride.head(15)\n",
        "ride['date'].describe()"
      ]
    },
    {
      "cell_type": "markdown",
      "id": "424dd194",
      "metadata": {
        "id": "424dd194"
      },
      "source": [
        "Получилось. Движемся дальше."
      ]
    },
    {
      "cell_type": "markdown",
      "id": "4c8950e3",
      "metadata": {
        "id": "4c8950e3"
      },
      "source": [
        "##### Проверяем наличие пропущенных значений и дубликатов в датафреймах. Обрабатываем их, если такие значения присутствуют."
      ]
    },
    {
      "cell_type": "markdown",
      "id": "32b7a28c",
      "metadata": {
        "id": "32b7a28c"
      },
      "source": [
        "Начинаю с \"Пользователей\". По пропускам уже смотрел в первом разделе проекта, но повторить несложно."
      ]
    },
    {
      "cell_type": "code",
      "execution_count": null,
      "id": "57ae824f",
      "metadata": {
        "id": "57ae824f",
        "outputId": "3ec94ebd-6291-4bfc-87bc-3296a679901e"
      },
      "outputs": [
        {
          "name": "stdout",
          "output_type": "stream",
          "text": [
            "<class 'pandas.core.frame.DataFrame'>\n",
            "RangeIndex: 1565 entries, 0 to 1564\n",
            "Data columns (total 5 columns):\n",
            " #   Column             Non-Null Count  Dtype \n",
            "---  ------             --------------  ----- \n",
            " 0   user_id            1565 non-null   int64 \n",
            " 1   name               1565 non-null   object\n",
            " 2   age                1565 non-null   int64 \n",
            " 3   city               1565 non-null   object\n",
            " 4   subscription_type  1565 non-null   object\n",
            "dtypes: int64(2), object(3)\n",
            "memory usage: 61.3+ KB\n"
          ]
        }
      ],
      "source": [
        "user.info()"
      ]
    },
    {
      "cell_type": "markdown",
      "id": "dfe1c4c7",
      "metadata": {
        "id": "dfe1c4c7"
      },
      "source": [
        "Пропусков нет. Проверяем на дубликаты. Исходя из имеющихся колонок... Повториться может всё. Кроме номера пользователя. Проверяем."
      ]
    },
    {
      "cell_type": "code",
      "execution_count": null,
      "id": "bee48065",
      "metadata": {
        "id": "bee48065",
        "outputId": "d10d41ab-cf58-42e4-9da0-576ac638c1a8"
      },
      "outputs": [
        {
          "data": {
            "text/plain": [
              "31"
            ]
          },
          "execution_count": 11,
          "metadata": {},
          "output_type": "execute_result"
        }
      ],
      "source": [
        "user['user_id'].duplicated().sum()"
      ]
    },
    {
      "cell_type": "markdown",
      "id": "4e9de9ee",
      "metadata": {
        "id": "4e9de9ee"
      },
      "source": [
        "31 дубликат из 1565. Около 2%. Можно избавиться. Пишу код с расчётом, что чищу по дубликатам с повторяющимся ID и оставляю первую строку из одинаковых."
      ]
    },
    {
      "cell_type": "code",
      "execution_count": null,
      "id": "7529f38b",
      "metadata": {
        "id": "7529f38b"
      },
      "outputs": [],
      "source": [
        "user = user.drop_duplicates(subset=['user_id'], keep='first')"
      ]
    },
    {
      "cell_type": "markdown",
      "id": "bc56befd",
      "metadata": {
        "id": "bc56befd"
      },
      "source": [
        "Проверяю, что 31 строка удалилась и дубликатов больше нет."
      ]
    },
    {
      "cell_type": "code",
      "execution_count": null,
      "id": "a0234752",
      "metadata": {
        "id": "a0234752",
        "outputId": "c49baa45-04f4-4aa0-b4f6-61c657cf5c57"
      },
      "outputs": [
        {
          "name": "stdout",
          "output_type": "stream",
          "text": [
            "<class 'pandas.core.frame.DataFrame'>\n",
            "Int64Index: 1534 entries, 0 to 1533\n",
            "Data columns (total 5 columns):\n",
            " #   Column             Non-Null Count  Dtype \n",
            "---  ------             --------------  ----- \n",
            " 0   user_id            1534 non-null   int64 \n",
            " 1   name               1534 non-null   object\n",
            " 2   age                1534 non-null   int64 \n",
            " 3   city               1534 non-null   object\n",
            " 4   subscription_type  1534 non-null   object\n",
            "dtypes: int64(2), object(3)\n",
            "memory usage: 71.9+ KB\n"
          ]
        },
        {
          "data": {
            "text/plain": [
              "0"
            ]
          },
          "execution_count": 13,
          "metadata": {},
          "output_type": "execute_result"
        }
      ],
      "source": [
        "user.info()\n",
        "user.duplicated().sum()"
      ]
    },
    {
      "cell_type": "markdown",
      "id": "0bb3cbdc",
      "metadata": {
        "id": "0bb3cbdc"
      },
      "source": [
        "Очищение \"Пользователей\" от дубликатов провели. Перехожу к \"Поездкам\"."
      ]
    },
    {
      "cell_type": "code",
      "execution_count": null,
      "id": "c52f2255",
      "metadata": {
        "id": "c52f2255",
        "outputId": "0bb483e6-703d-4506-f8c0-7f90d63acec5"
      },
      "outputs": [
        {
          "data": {
            "text/plain": [
              "0"
            ]
          },
          "execution_count": 14,
          "metadata": {},
          "output_type": "execute_result"
        }
      ],
      "source": [
        "ride.duplicated().sum()"
      ]
    },
    {
      "cell_type": "markdown",
      "id": "233eba4b",
      "metadata": {
        "id": "233eba4b"
      },
      "source": [
        "Неожиданно всё хорошо. Тогда переходим к шагу 3."
      ]
    },
    {
      "cell_type": "markdown",
      "id": "e0cba2bc",
      "metadata": {
        "id": "e0cba2bc"
      },
      "source": [
        "В результате обработки сделано следующее:\n",
        "1. В файле \"поездки\" скорректирован формат даты - переведён в формат даты Pandas;\n",
        "2. Рассмотрены все файлы на предмет дубликатов.\n",
        "3. Обнаружены и убраны дубликаты из файла \"пользователи\"."
      ]
    },
    {
      "cell_type": "markdown",
      "id": "4c4948df",
      "metadata": {
        "id": "4c4948df"
      },
      "source": [
        "#### Шаг 3. Исследовательский анализ данных"
      ]
    },
    {
      "cell_type": "markdown",
      "id": "63766bec",
      "metadata": {
        "id": "63766bec"
      },
      "source": [
        "##### Визуализация и описание частоты встречаемости городов"
      ]
    },
    {
      "cell_type": "code",
      "execution_count": null,
      "id": "5e82f706",
      "metadata": {
        "id": "5e82f706",
        "outputId": "c665e009-bcd1-4532-9fa5-488188d885c4"
      },
      "outputs": [
        {
          "data": {
            "text/plain": [
              "count          1534\n",
              "unique            8\n",
              "top       Пятигорск\n",
              "freq            219\n",
              "Name: city, dtype: object"
            ]
          },
          "execution_count": 15,
          "metadata": {},
          "output_type": "execute_result"
        },
        {
          "data": {
            "image/png": "[encoded data removed]",
            "text/plain": [
              "<Figure size 432x288 with 1 Axes>"
            ]
          },
          "metadata": {
            "needs_background": "light"
          },
          "output_type": "display_data"
        }
      ],
      "source": [
        "user.groupby(by='city')['city'].count().sort_values(ascending = True).plot(kind='barh', ylabel = 'count');\n",
        "plt.title(\"Частота встречаемости городов\")\n",
        "plt.ylabel(\"Город\")\n",
        "plt.xlabel(\"Частота встречаемости\")\n",
        "\n",
        "user ['city'].describe()"
      ]
    },
    {
      "cell_type": "markdown",
      "id": "91c03d14",
      "metadata": {
        "id": "91c03d14"
      },
      "source": [
        "Небольшое преимущество у Пятигорска, а в целом более-менее всё равномерно."
      ]
    },
    {
      "cell_type": "markdown",
      "id": "540618a7",
      "metadata": {
        "id": "540618a7"
      },
      "source": [
        "##### Визуализация и описание соотношения пользователей с подпиской и без"
      ]
    },
    {
      "cell_type": "code",
      "execution_count": null,
      "id": "50a90152",
      "metadata": {
        "id": "50a90152",
        "outputId": "65319bcd-b043-4157-c9a3-e1e725261375"
      },
      "outputs": [
        {
          "data": {
            "text/plain": [
              "count     1534\n",
              "unique       2\n",
              "top       free\n",
              "freq       835\n",
              "Name: subscription_type, dtype: object"
            ]
          },
          "execution_count": 16,
          "metadata": {},
          "output_type": "execute_result"
        },
        {
          "data": {
            "image/png": "[encoded data removed]",
            "text/plain": [
              "<Figure size 432x288 with 1 Axes>"
            ]
          },
          "metadata": {},
          "output_type": "display_data"
        }
      ],
      "source": [
        "user.groupby(by='subscription_type')['subscription_type'].count().plot(kind='pie', autopct = '%1.1f%%',\n",
        "                                                                       ylabel = 'Тип подписки');\n",
        "plt.title('Соотношение количества пользователей с подпиской и без')\n",
        "user ['subscription_type'].describe()"
      ]
    },
    {
      "cell_type": "markdown",
      "id": "28d48893",
      "metadata": {
        "id": "28d48893"
      },
      "source": [
        "Без подписки большая часть пользователей, если смоотреть файл в целом. Возможно, по городам будет разница. Проверим несколько."
      ]
    },
    {
      "cell_type": "code",
      "execution_count": null,
      "id": "9a4da779",
      "metadata": {
        "id": "9a4da779",
        "outputId": "5e3a9af4-3e2f-4095-f0bf-5ad98c9e3e92"
      },
      "outputs": [
        {
          "data": {
            "text/plain": [
              "Text(0.5, 1.0, 'Соотношение количества пользователей в Пятигорске')"
            ]
          },
          "execution_count": 17,
          "metadata": {},
          "output_type": "execute_result"
        },
        {
          "data": {
            "image/png": "[encoded data removed]",
            "text/plain": [
              "<Figure size 432x288 with 1 Axes>"
            ]
          },
          "metadata": {},
          "output_type": "display_data"
        }
      ],
      "source": [
        "(\n",
        "    user[user['city']=='Пятигорск']\n",
        "    .pivot_table(\n",
        "        index='subscription_type',\n",
        "        values='user_id',\n",
        "        aggfunc='count')\n",
        "    .plot(kind='pie', autopct = '%1.1f%%', ylabel = 'Тип подписки', subplots = True)\n",
        ")\n",
        "plt.title('Соотношение количества пользователей в Пятигорске')"
      ]
    },
    {
      "cell_type": "code",
      "execution_count": null,
      "id": "f54d9a50",
      "metadata": {
        "id": "f54d9a50",
        "outputId": "50054666-cfd6-415b-c4ed-08ec7857bccd"
      },
      "outputs": [
        {
          "data": {
            "text/plain": [
              "Text(0.5, 1.0, 'Соотношение количества пользователей в Москве')"
            ]
          },
          "execution_count": 18,
          "metadata": {},
          "output_type": "execute_result"
        },
        {
          "data": {
            "image/png": "[encoded data removed]",
            "text/plain": [
              "<Figure size 432x288 with 1 Axes>"
            ]
          },
          "metadata": {},
          "output_type": "display_data"
        }
      ],
      "source": [
        "(\n",
        "    user[user['city']=='Москва']\n",
        "    .pivot_table(\n",
        "        index='subscription_type',\n",
        "        values='user_id',\n",
        "        aggfunc='count')\n",
        "    .plot(kind='pie', autopct = '%1.1f%%', ylabel = 'Тип подписки', subplots = True)\n",
        ")\n",
        "plt.title('Соотношение количества пользователей в Москве')"
      ]
    },
    {
      "cell_type": "code",
      "execution_count": null,
      "id": "2dcdd7fb",
      "metadata": {
        "id": "2dcdd7fb",
        "outputId": "546867a4-a4d9-438a-d03a-834cf32900e0"
      },
      "outputs": [
        {
          "data": {
            "text/plain": [
              "Text(0.5, 1.0, 'Соотношение количества пользователей в Сочи')"
            ]
          },
          "execution_count": 19,
          "metadata": {},
          "output_type": "execute_result"
        },
        {
          "data": {
            "image/png": "[encoded data removed]",
            "text/plain": [
              "<Figure size 432x288 with 1 Axes>"
            ]
          },
          "metadata": {},
          "output_type": "display_data"
        }
      ],
      "source": [
        "(\n",
        "    user[user['city']=='Сочи']\n",
        "    .pivot_table(\n",
        "        index='subscription_type',\n",
        "        values='user_id',\n",
        "        aggfunc='count')\n",
        "    .plot(kind='pie', autopct = '%1.1f%%', ylabel = 'Тип подписки', subplots = True)\n",
        ")\n",
        "plt.title('Соотношение количества пользователей в Сочи')"
      ]
    },
    {
      "cell_type": "code",
      "execution_count": null,
      "id": "d7cf9f25",
      "metadata": {
        "id": "d7cf9f25",
        "outputId": "e7ddc95c-00f2-4ac8-d348-02f780a96159"
      },
      "outputs": [
        {
          "data": {
            "text/plain": [
              "Text(0.5, 1.0, 'Соотношение количества пользователей в Тюмени')"
            ]
          },
          "execution_count": 20,
          "metadata": {},
          "output_type": "execute_result"
        },
        {
          "data": {
            "image/png": "[encoded data removed]",
            "text/plain": [
              "<Figure size 432x288 with 1 Axes>"
            ]
          },
          "metadata": {},
          "output_type": "display_data"
        }
      ],
      "source": [
        "(\n",
        "    user[user['city']=='Тюмень']\n",
        "    .pivot_table(\n",
        "        index='subscription_type',\n",
        "        values='user_id',\n",
        "        aggfunc='count')\n",
        "    .plot(kind='pie', autopct = '%1.1f%%', ylabel = 'Тип подписки', subplots = True)\n",
        ")\n",
        "plt.title('Соотношение количества пользователей в Тюмени')"
      ]
    },
    {
      "cell_type": "code",
      "execution_count": null,
      "id": "8938a997",
      "metadata": {
        "id": "8938a997",
        "outputId": "e46220fc-7dda-41df-e573-e549d2e0e1ca"
      },
      "outputs": [
        {
          "data": {
            "text/plain": [
              "Text(0.5, 1.0, 'Соотношение количества пользователей в Краснодаре')"
            ]
          },
          "execution_count": 21,
          "metadata": {},
          "output_type": "execute_result"
        },
        {
          "data": {
            "image/png": "[encoded data removed]",
            "text/plain": [
              "<Figure size 432x288 with 1 Axes>"
            ]
          },
          "metadata": {},
          "output_type": "display_data"
        }
      ],
      "source": [
        "(\n",
        "    user[user['city']=='Краснодар']\n",
        "    .pivot_table(\n",
        "        index='subscription_type',\n",
        "        values='user_id',\n",
        "        aggfunc='count')\n",
        "    .plot(kind='pie', autopct = '%1.1f%%', ylabel = 'Тип подписки', subplots = True)\n",
        ")\n",
        "plt.title('Соотношение количества пользователей в Краснодаре')"
      ]
    },
    {
      "cell_type": "markdown",
      "id": "e63c86c1",
      "metadata": {
        "id": "e63c86c1"
      },
      "source": [
        "За исключением Москвы, в основном пользователи пользуются сервисом без подписки."
      ]
    },
    {
      "cell_type": "code",
      "execution_count": null,
      "id": "8a734bb9",
      "metadata": {
        "scrolled": false,
        "id": "8a734bb9",
        "outputId": "defb0f88-3575-4877-8d0c-89bdf9855a0f"
      },
      "outputs": [
        {
          "data": {
            "image/png": "[encoded data removed]",
            "text/plain": [
              "<Figure size 432x288 with 1 Axes>"
            ]
          },
          "metadata": {},
          "output_type": "display_data"
        },
        {
          "data": {
            "image/png": "[encoded data removed]",
            "text/plain": [
              "<Figure size 432x288 with 1 Axes>"
            ]
          },
          "metadata": {},
          "output_type": "display_data"
        },
        {
          "data": {
            "image/png": "[encoded data removed]",
            "text/plain": [
              "<Figure size 432x288 with 1 Axes>"
            ]
          },
          "metadata": {},
          "output_type": "display_data"
        },
        {
          "data": {
            "image/png": "[encoded data removed]",
            "text/plain": [
              "<Figure size 432x288 with 1 Axes>"
            ]
          },
          "metadata": {},
          "output_type": "display_data"
        },
        {
          "data": {
            "image/png": "[encoded data removed]",
            "text/plain": [
              "<Figure size 432x288 with 1 Axes>"
            ]
          },
          "metadata": {},
          "output_type": "display_data"
        },
        {
          "data": {
            "image/png": "[encoded data removed]",
            "text/plain": [
              "<Figure size 432x288 with 1 Axes>"
            ]
          },
          "metadata": {},
          "output_type": "display_data"
        },
        {
          "data": {
            "image/png": "[encoded data removed]",
            "text/plain": [
              "<Figure size 432x288 with 1 Axes>"
            ]
          },
          "metadata": {},
          "output_type": "display_data"
        },
        {
          "data": {
            "image/png": "[encoded data removed]",
            "text/plain": [
              "<Figure size 432x288 with 1 Axes>"
            ]
          },
          "metadata": {},
          "output_type": "display_data"
        }
      ],
      "source": [
        "# код ревьюера\n",
        "for city in user['city'].unique():\n",
        "\n",
        "\n",
        "    (\n",
        "        user[user['city']==city]\n",
        "        .pivot_table(\n",
        "            index='subscription_type',\n",
        "            values='user_id',\n",
        "            aggfunc='count')\n",
        "        .plot(kind='pie', autopct = '%1.1f%%', ylabel = 'Тип подписки', subplots = True, legend=False)\n",
        "    )\n",
        "\n",
        "    plt.title(f'Соотношение количества пользователей в городе {city}')\n",
        "    plt.show()"
      ]
    },
    {
      "cell_type": "markdown",
      "id": "be015741",
      "metadata": {
        "id": "be015741"
      },
      "source": [
        "##### Визуализируем данные о возрасте пользователей"
      ]
    },
    {
      "cell_type": "code",
      "execution_count": null,
      "id": "c15a1f2b",
      "metadata": {
        "id": "c15a1f2b",
        "outputId": "eb251f4f-0cbb-423d-c769-b7b354c8becf"
      },
      "outputs": [
        {
          "data": {
            "text/plain": [
              "Text(0.5, 0, 'Возраст')"
            ]
          },
          "execution_count": 23,
          "metadata": {},
          "output_type": "execute_result"
        },
        {
          "data": {
            "image/png": "[encoded data removed]",
            "text/plain": [
              "<Figure size 432x288 with 1 Axes>"
            ]
          },
          "metadata": {
            "needs_background": "light"
          },
          "output_type": "display_data"
        }
      ],
      "source": [
        "user['age'].hist(bins=50)\n",
        "plt.title(\"Возраст пользователей\")\n",
        "plt.ylabel(\"Частота встречаемости\")\n",
        "plt.xlabel(\"Возраст\")"
      ]
    },
    {
      "cell_type": "markdown",
      "id": "a9b4470c",
      "metadata": {
        "id": "a9b4470c"
      },
      "source": [
        "Возраст распределён нормально. Среднее - 25 лет. Наибольшее число в диапазоне 22-27 лет."
      ]
    },
    {
      "cell_type": "markdown",
      "id": "c12d9eb9",
      "metadata": {
        "id": "c12d9eb9"
      },
      "source": [
        "Движемся дальше."
      ]
    },
    {
      "cell_type": "markdown",
      "id": "4c0c2e86",
      "metadata": {
        "id": "4c0c2e86"
      },
      "source": [
        "##### Визуализируем данные о расстоянии, проделанном пользователем за одну поездку"
      ]
    },
    {
      "cell_type": "markdown",
      "id": "1e3ded8b",
      "metadata": {
        "id": "1e3ded8b"
      },
      "source": [
        "Решил посмотреть данные на диаграмме рассеяния. Для каждого пользователя несколько значений, поэтому взглянуть интересно."
      ]
    },
    {
      "cell_type": "code",
      "execution_count": null,
      "id": "f57ac8e6",
      "metadata": {
        "id": "f57ac8e6",
        "outputId": "35f603a8-5762-41bd-99ea-a13d0d13c096"
      },
      "outputs": [
        {
          "data": {
            "image/png": "[encoded data removed]",
            "text/plain": [
              "<Figure size 1080x576 with 1 Axes>"
            ]
          },
          "metadata": {
            "needs_background": "light"
          },
          "output_type": "display_data"
        }
      ],
      "source": [
        "ride.plot(kind='scatter',\n",
        "        y='distance' , x='user_id', alpha=0.5, subplots=True, figsize=(15,8), c = 'black', s = 4)\n",
        "plt.title('Диаграмма рассеяния — ID — Расстояние');"
      ]
    },
    {
      "cell_type": "markdown",
      "id": "c0a4b584",
      "metadata": {
        "id": "c0a4b584"
      },
      "source": [
        "Интересно. \"Вертикальным\" разделом служит значение User_ID=700. Это первый пользователь без подписки. Разброс в дистанции у пользователей без подписки шире, в то время, как пользователи по подписке чаще всего проезжают дистанцию от 2500 до 3500.\n",
        "По \"горизонтали\" есть разреженная область примерно 1700, в которой значения редкие. Интересно..."
      ]
    },
    {
      "cell_type": "markdown",
      "id": "f11daeda",
      "metadata": {
        "id": "f11daeda"
      },
      "source": [
        "Построю теперь обычные гистограммы."
      ]
    },
    {
      "cell_type": "code",
      "execution_count": null,
      "id": "bcc6e310",
      "metadata": {
        "id": "bcc6e310",
        "outputId": "12e876d8-d324-4b83-9e58-cd34798efdfe"
      },
      "outputs": [
        {
          "data": {
            "text/plain": [
              "Text(0.5, 0, 'Расстояние')"
            ]
          },
          "execution_count": 25,
          "metadata": {},
          "output_type": "execute_result"
        },
        {
          "data": {
            "image/png": "[encoded data removed]",
            "text/plain": [
              "<Figure size 432x288 with 1 Axes>"
            ]
          },
          "metadata": {
            "needs_background": "light"
          },
          "output_type": "display_data"
        }
      ],
      "source": [
        "\n",
        "ride.plot(kind='hist', y= 'distance',bins=100)\n",
        "plt.title(\"Расстояние, которое преодолели пользователи\")\n",
        "plt.ylabel(\"Повторяемость\")\n",
        "plt.xlabel(\"Расстояние\")"
      ]
    },
    {
      "cell_type": "markdown",
      "id": "48f41609",
      "metadata": {
        "id": "48f41609"
      },
      "source": [
        "Бимодальное распределение. Основной пик - наиболее частые значения в выборке по расстоянию - примерно 2800-3300, с пиком где-то в районе 3000-3100. Малый \"горб\" с пиком 800. То есть существует относительно частый \"пласт\" коротких поездок."
      ]
    },
    {
      "cell_type": "markdown",
      "id": "cb87740a",
      "metadata": {
        "scrolled": true,
        "id": "cb87740a"
      },
      "source": [
        "ride.plot(kind='hist', y='duration',bins=100)\n",
        "plt.title(\"Длительность поездок пользователей\")\n",
        "plt.ylabel(\"Повторяемость\")\n",
        "plt.xlabel(\"Время поездки\")"
      ]
    },
    {
      "cell_type": "markdown",
      "id": "53fa0a44",
      "metadata": {
        "id": "53fa0a44"
      },
      "source": [
        "Тоже \"нормально\". Наиболее частые значения длительности - от 14 до 22. Пик - 17-18. Есть пичок на 1 минуте - чуть меньше 100 поездок."
      ]
    },
    {
      "cell_type": "markdown",
      "id": "dfc25aee",
      "metadata": {
        "id": "dfc25aee"
      },
      "source": [
        "#### Шаг 4. Объединение данных"
      ]
    },
    {
      "cell_type": "markdown",
      "id": "678d9193",
      "metadata": {
        "id": "678d9193"
      },
      "source": [
        "##### Объединяю данные о пользователях, поездках и подписках в один датасет."
      ]
    },
    {
      "cell_type": "markdown",
      "id": "32c936ce",
      "metadata": {
        "id": "32c936ce"
      },
      "source": [
        "Объединяю по АйДи."
      ]
    },
    {
      "cell_type": "code",
      "execution_count": null,
      "id": "5d88ca4c",
      "metadata": {
        "id": "5d88ca4c"
      },
      "outputs": [],
      "source": [
        "united = user.merge(ride, on='user_id')\n"
      ]
    },
    {
      "cell_type": "markdown",
      "id": "07be655f",
      "metadata": {
        "id": "07be655f"
      },
      "source": [
        "Проверяю, что получилось."
      ]
    },
    {
      "cell_type": "code",
      "execution_count": null,
      "id": "a24bdc58",
      "metadata": {
        "id": "a24bdc58",
        "outputId": "fb589b2a-472a-4502-f0f4-193f5bcf63b6"
      },
      "outputs": [
        {
          "data": {
            "text/html": [
              "<div>\n",
              "<style scoped>\n",
              "    .dataframe tbody tr th:only-of-type {\n",
              "        vertical-align: middle;\n",
              "    }\n",
              "\n",
              "    .dataframe tbody tr th {\n",
              "        vertical-align: top;\n",
              "    }\n",
              "\n",
              "    .dataframe thead th {\n",
              "        text-align: right;\n",
              "    }\n",
              "</style>\n",
              "<table border=\"1\" class=\"dataframe\">\n",
              "  <thead>\n",
              "    <tr style=\"text-align: right;\">\n",
              "      <th></th>\n",
              "      <th>user_id</th>\n",
              "      <th>name</th>\n",
              "      <th>age</th>\n",
              "      <th>city</th>\n",
              "      <th>subscription_type</th>\n",
              "      <th>distance</th>\n",
              "      <th>duration</th>\n",
              "      <th>date</th>\n",
              "      <th>month</th>\n",
              "    </tr>\n",
              "  </thead>\n",
              "  <tbody>\n",
              "    <tr>\n",
              "      <th>0</th>\n",
              "      <td>1</td>\n",
              "      <td>Кира</td>\n",
              "      <td>22</td>\n",
              "      <td>Тюмень</td>\n",
              "      <td>ultra</td>\n",
              "      <td>4409.919140</td>\n",
              "      <td>25.599769</td>\n",
              "      <td>2021-01-01</td>\n",
              "      <td>1</td>\n",
              "    </tr>\n",
              "    <tr>\n",
              "      <th>1</th>\n",
              "      <td>1</td>\n",
              "      <td>Кира</td>\n",
              "      <td>22</td>\n",
              "      <td>Тюмень</td>\n",
              "      <td>ultra</td>\n",
              "      <td>2617.592153</td>\n",
              "      <td>15.816871</td>\n",
              "      <td>2021-01-18</td>\n",
              "      <td>1</td>\n",
              "    </tr>\n",
              "    <tr>\n",
              "      <th>2</th>\n",
              "      <td>1</td>\n",
              "      <td>Кира</td>\n",
              "      <td>22</td>\n",
              "      <td>Тюмень</td>\n",
              "      <td>ultra</td>\n",
              "      <td>754.159807</td>\n",
              "      <td>6.232113</td>\n",
              "      <td>2021-04-20</td>\n",
              "      <td>4</td>\n",
              "    </tr>\n",
              "    <tr>\n",
              "      <th>3</th>\n",
              "      <td>1</td>\n",
              "      <td>Кира</td>\n",
              "      <td>22</td>\n",
              "      <td>Тюмень</td>\n",
              "      <td>ultra</td>\n",
              "      <td>2694.783254</td>\n",
              "      <td>18.511000</td>\n",
              "      <td>2021-08-11</td>\n",
              "      <td>8</td>\n",
              "    </tr>\n",
              "    <tr>\n",
              "      <th>4</th>\n",
              "      <td>1</td>\n",
              "      <td>Кира</td>\n",
              "      <td>22</td>\n",
              "      <td>Тюмень</td>\n",
              "      <td>ultra</td>\n",
              "      <td>4028.687306</td>\n",
              "      <td>26.265803</td>\n",
              "      <td>2021-08-28</td>\n",
              "      <td>8</td>\n",
              "    </tr>\n",
              "  </tbody>\n",
              "</table>\n",
              "</div>"
            ],
            "text/plain": [
              "   user_id  name  age    city subscription_type     distance   duration  \\\n",
              "0        1  Кира   22  Тюмень             ultra  4409.919140  25.599769   \n",
              "1        1  Кира   22  Тюмень             ultra  2617.592153  15.816871   \n",
              "2        1  Кира   22  Тюмень             ultra   754.159807   6.232113   \n",
              "3        1  Кира   22  Тюмень             ultra  2694.783254  18.511000   \n",
              "4        1  Кира   22  Тюмень             ultra  4028.687306  26.265803   \n",
              "\n",
              "        date  month  \n",
              "0 2021-01-01      1  \n",
              "1 2021-01-18      1  \n",
              "2 2021-04-20      4  \n",
              "3 2021-08-11      8  \n",
              "4 2021-08-28      8  "
            ]
          },
          "execution_count": 27,
          "metadata": {},
          "output_type": "execute_result"
        }
      ],
      "source": [
        "united.head()"
      ]
    },
    {
      "cell_type": "code",
      "execution_count": null,
      "id": "7d340cb9",
      "metadata": {
        "scrolled": true,
        "id": "7d340cb9",
        "outputId": "72574f3c-5593-4971-980b-77f88c0820d3"
      },
      "outputs": [
        {
          "data": {
            "text/html": [
              "<div>\n",
              "<style scoped>\n",
              "    .dataframe tbody tr th:only-of-type {\n",
              "        vertical-align: middle;\n",
              "    }\n",
              "\n",
              "    .dataframe tbody tr th {\n",
              "        vertical-align: top;\n",
              "    }\n",
              "\n",
              "    .dataframe thead th {\n",
              "        text-align: right;\n",
              "    }\n",
              "</style>\n",
              "<table border=\"1\" class=\"dataframe\">\n",
              "  <thead>\n",
              "    <tr style=\"text-align: right;\">\n",
              "      <th></th>\n",
              "      <th>user_id</th>\n",
              "      <th>name</th>\n",
              "      <th>age</th>\n",
              "      <th>city</th>\n",
              "      <th>subscription_type</th>\n",
              "      <th>distance</th>\n",
              "      <th>duration</th>\n",
              "      <th>date</th>\n",
              "      <th>month</th>\n",
              "      <th>minute_price</th>\n",
              "      <th>start_ride_price</th>\n",
              "      <th>subscription_fee</th>\n",
              "    </tr>\n",
              "  </thead>\n",
              "  <tbody>\n",
              "    <tr>\n",
              "      <th>0</th>\n",
              "      <td>1</td>\n",
              "      <td>Кира</td>\n",
              "      <td>22</td>\n",
              "      <td>Тюмень</td>\n",
              "      <td>ultra</td>\n",
              "      <td>4409.919140</td>\n",
              "      <td>25.599769</td>\n",
              "      <td>2021-01-01</td>\n",
              "      <td>1</td>\n",
              "      <td>6</td>\n",
              "      <td>0</td>\n",
              "      <td>199</td>\n",
              "    </tr>\n",
              "    <tr>\n",
              "      <th>1</th>\n",
              "      <td>1</td>\n",
              "      <td>Кира</td>\n",
              "      <td>22</td>\n",
              "      <td>Тюмень</td>\n",
              "      <td>ultra</td>\n",
              "      <td>2617.592153</td>\n",
              "      <td>15.816871</td>\n",
              "      <td>2021-01-18</td>\n",
              "      <td>1</td>\n",
              "      <td>6</td>\n",
              "      <td>0</td>\n",
              "      <td>199</td>\n",
              "    </tr>\n",
              "    <tr>\n",
              "      <th>2</th>\n",
              "      <td>1</td>\n",
              "      <td>Кира</td>\n",
              "      <td>22</td>\n",
              "      <td>Тюмень</td>\n",
              "      <td>ultra</td>\n",
              "      <td>754.159807</td>\n",
              "      <td>6.232113</td>\n",
              "      <td>2021-04-20</td>\n",
              "      <td>4</td>\n",
              "      <td>6</td>\n",
              "      <td>0</td>\n",
              "      <td>199</td>\n",
              "    </tr>\n",
              "    <tr>\n",
              "      <th>3</th>\n",
              "      <td>1</td>\n",
              "      <td>Кира</td>\n",
              "      <td>22</td>\n",
              "      <td>Тюмень</td>\n",
              "      <td>ultra</td>\n",
              "      <td>2694.783254</td>\n",
              "      <td>18.511000</td>\n",
              "      <td>2021-08-11</td>\n",
              "      <td>8</td>\n",
              "      <td>6</td>\n",
              "      <td>0</td>\n",
              "      <td>199</td>\n",
              "    </tr>\n",
              "    <tr>\n",
              "      <th>4</th>\n",
              "      <td>1</td>\n",
              "      <td>Кира</td>\n",
              "      <td>22</td>\n",
              "      <td>Тюмень</td>\n",
              "      <td>ultra</td>\n",
              "      <td>4028.687306</td>\n",
              "      <td>26.265803</td>\n",
              "      <td>2021-08-28</td>\n",
              "      <td>8</td>\n",
              "      <td>6</td>\n",
              "      <td>0</td>\n",
              "      <td>199</td>\n",
              "    </tr>\n",
              "    <tr>\n",
              "      <th>5</th>\n",
              "      <td>1</td>\n",
              "      <td>Кира</td>\n",
              "      <td>22</td>\n",
              "      <td>Тюмень</td>\n",
              "      <td>ultra</td>\n",
              "      <td>2770.890808</td>\n",
              "      <td>16.650138</td>\n",
              "      <td>2021-10-09</td>\n",
              "      <td>10</td>\n",
              "      <td>6</td>\n",
              "      <td>0</td>\n",
              "      <td>199</td>\n",
              "    </tr>\n",
              "    <tr>\n",
              "      <th>6</th>\n",
              "      <td>1</td>\n",
              "      <td>Кира</td>\n",
              "      <td>22</td>\n",
              "      <td>Тюмень</td>\n",
              "      <td>ultra</td>\n",
              "      <td>3039.020292</td>\n",
              "      <td>14.927879</td>\n",
              "      <td>2021-10-19</td>\n",
              "      <td>10</td>\n",
              "      <td>6</td>\n",
              "      <td>0</td>\n",
              "      <td>199</td>\n",
              "    </tr>\n",
              "    <tr>\n",
              "      <th>7</th>\n",
              "      <td>1</td>\n",
              "      <td>Кира</td>\n",
              "      <td>22</td>\n",
              "      <td>Тюмень</td>\n",
              "      <td>ultra</td>\n",
              "      <td>2842.118050</td>\n",
              "      <td>23.117468</td>\n",
              "      <td>2021-11-06</td>\n",
              "      <td>11</td>\n",
              "      <td>6</td>\n",
              "      <td>0</td>\n",
              "      <td>199</td>\n",
              "    </tr>\n",
              "    <tr>\n",
              "      <th>8</th>\n",
              "      <td>1</td>\n",
              "      <td>Кира</td>\n",
              "      <td>22</td>\n",
              "      <td>Тюмень</td>\n",
              "      <td>ultra</td>\n",
              "      <td>3412.690668</td>\n",
              "      <td>15.238072</td>\n",
              "      <td>2021-11-14</td>\n",
              "      <td>11</td>\n",
              "      <td>6</td>\n",
              "      <td>0</td>\n",
              "      <td>199</td>\n",
              "    </tr>\n",
              "    <tr>\n",
              "      <th>9</th>\n",
              "      <td>1</td>\n",
              "      <td>Кира</td>\n",
              "      <td>22</td>\n",
              "      <td>Тюмень</td>\n",
              "      <td>ultra</td>\n",
              "      <td>748.690645</td>\n",
              "      <td>15.041884</td>\n",
              "      <td>2021-11-22</td>\n",
              "      <td>11</td>\n",
              "      <td>6</td>\n",
              "      <td>0</td>\n",
              "      <td>199</td>\n",
              "    </tr>\n",
              "    <tr>\n",
              "      <th>10</th>\n",
              "      <td>1</td>\n",
              "      <td>Кира</td>\n",
              "      <td>22</td>\n",
              "      <td>Тюмень</td>\n",
              "      <td>ultra</td>\n",
              "      <td>4031.020195</td>\n",
              "      <td>17.674448</td>\n",
              "      <td>2021-12-14</td>\n",
              "      <td>12</td>\n",
              "      <td>6</td>\n",
              "      <td>0</td>\n",
              "      <td>199</td>\n",
              "    </tr>\n",
              "    <tr>\n",
              "      <th>11</th>\n",
              "      <td>1</td>\n",
              "      <td>Кира</td>\n",
              "      <td>22</td>\n",
              "      <td>Тюмень</td>\n",
              "      <td>ultra</td>\n",
              "      <td>2720.609748</td>\n",
              "      <td>9.529463</td>\n",
              "      <td>2021-12-22</td>\n",
              "      <td>12</td>\n",
              "      <td>6</td>\n",
              "      <td>0</td>\n",
              "      <td>199</td>\n",
              "    </tr>\n",
              "    <tr>\n",
              "      <th>12</th>\n",
              "      <td>2</td>\n",
              "      <td>Станислав</td>\n",
              "      <td>31</td>\n",
              "      <td>Омск</td>\n",
              "      <td>ultra</td>\n",
              "      <td>3105.086678</td>\n",
              "      <td>24.307514</td>\n",
              "      <td>2021-03-15</td>\n",
              "      <td>3</td>\n",
              "      <td>6</td>\n",
              "      <td>0</td>\n",
              "      <td>199</td>\n",
              "    </tr>\n",
              "    <tr>\n",
              "      <th>13</th>\n",
              "      <td>2</td>\n",
              "      <td>Станислав</td>\n",
              "      <td>31</td>\n",
              "      <td>Омск</td>\n",
              "      <td>ultra</td>\n",
              "      <td>3053.519401</td>\n",
              "      <td>11.543256</td>\n",
              "      <td>2021-03-18</td>\n",
              "      <td>3</td>\n",
              "      <td>6</td>\n",
              "      <td>0</td>\n",
              "      <td>199</td>\n",
              "    </tr>\n",
              "    <tr>\n",
              "      <th>14</th>\n",
              "      <td>2</td>\n",
              "      <td>Станислав</td>\n",
              "      <td>31</td>\n",
              "      <td>Омск</td>\n",
              "      <td>ultra</td>\n",
              "      <td>4029.116927</td>\n",
              "      <td>25.109188</td>\n",
              "      <td>2021-03-23</td>\n",
              "      <td>3</td>\n",
              "      <td>6</td>\n",
              "      <td>0</td>\n",
              "      <td>199</td>\n",
              "    </tr>\n",
              "  </tbody>\n",
              "</table>\n",
              "</div>"
            ],
            "text/plain": [
              "    user_id       name  age    city subscription_type     distance   duration  \\\n",
              "0         1       Кира   22  Тюмень             ultra  4409.919140  25.599769   \n",
              "1         1       Кира   22  Тюмень             ultra  2617.592153  15.816871   \n",
              "2         1       Кира   22  Тюмень             ultra   754.159807   6.232113   \n",
              "3         1       Кира   22  Тюмень             ultra  2694.783254  18.511000   \n",
              "4         1       Кира   22  Тюмень             ultra  4028.687306  26.265803   \n",
              "5         1       Кира   22  Тюмень             ultra  2770.890808  16.650138   \n",
              "6         1       Кира   22  Тюмень             ultra  3039.020292  14.927879   \n",
              "7         1       Кира   22  Тюмень             ultra  2842.118050  23.117468   \n",
              "8         1       Кира   22  Тюмень             ultra  3412.690668  15.238072   \n",
              "9         1       Кира   22  Тюмень             ultra   748.690645  15.041884   \n",
              "10        1       Кира   22  Тюмень             ultra  4031.020195  17.674448   \n",
              "11        1       Кира   22  Тюмень             ultra  2720.609748   9.529463   \n",
              "12        2  Станислав   31    Омск             ultra  3105.086678  24.307514   \n",
              "13        2  Станислав   31    Омск             ultra  3053.519401  11.543256   \n",
              "14        2  Станислав   31    Омск             ultra  4029.116927  25.109188   \n",
              "\n",
              "         date  month  minute_price  start_ride_price  subscription_fee  \n",
              "0  2021-01-01      1             6                 0               199  \n",
              "1  2021-01-18      1             6                 0               199  \n",
              "2  2021-04-20      4             6                 0               199  \n",
              "3  2021-08-11      8             6                 0               199  \n",
              "4  2021-08-28      8             6                 0               199  \n",
              "5  2021-10-09     10             6                 0               199  \n",
              "6  2021-10-19     10             6                 0               199  \n",
              "7  2021-11-06     11             6                 0               199  \n",
              "8  2021-11-14     11             6                 0               199  \n",
              "9  2021-11-22     11             6                 0               199  \n",
              "10 2021-12-14     12             6                 0               199  \n",
              "11 2021-12-22     12             6                 0               199  \n",
              "12 2021-03-15      3             6                 0               199  \n",
              "13 2021-03-18      3             6                 0               199  \n",
              "14 2021-03-23      3             6                 0               199  "
            ]
          },
          "execution_count": 28,
          "metadata": {},
          "output_type": "execute_result"
        }
      ],
      "source": [
        "full = united.merge(subscr, on = 'subscription_type')\n",
        "full.head(15)"
      ]
    },
    {
      "cell_type": "markdown",
      "id": "1629d472",
      "metadata": {
        "id": "1629d472"
      },
      "source": [
        "##### Создаю два датафрейма: позьзователи с подпиской и без."
      ]
    },
    {
      "cell_type": "markdown",
      "id": "5c71c988",
      "metadata": {
        "id": "5c71c988"
      },
      "source": [
        "Сначала без подписки. Сразу проверяем, что получилось."
      ]
    },
    {
      "cell_type": "code",
      "execution_count": null,
      "id": "40d8f700",
      "metadata": {
        "id": "40d8f700",
        "outputId": "4631e59b-a48d-4af0-a9af-b7a1b6014157"
      },
      "outputs": [
        {
          "data": {
            "text/html": [
              "<div>\n",
              "<style scoped>\n",
              "    .dataframe tbody tr th:only-of-type {\n",
              "        vertical-align: middle;\n",
              "    }\n",
              "\n",
              "    .dataframe tbody tr th {\n",
              "        vertical-align: top;\n",
              "    }\n",
              "\n",
              "    .dataframe thead th {\n",
              "        text-align: right;\n",
              "    }\n",
              "</style>\n",
              "<table border=\"1\" class=\"dataframe\">\n",
              "  <thead>\n",
              "    <tr style=\"text-align: right;\">\n",
              "      <th></th>\n",
              "      <th>user_id</th>\n",
              "      <th>name</th>\n",
              "      <th>age</th>\n",
              "      <th>city</th>\n",
              "      <th>subscription_type</th>\n",
              "      <th>distance</th>\n",
              "      <th>duration</th>\n",
              "      <th>date</th>\n",
              "      <th>month</th>\n",
              "      <th>minute_price</th>\n",
              "      <th>start_ride_price</th>\n",
              "      <th>subscription_fee</th>\n",
              "    </tr>\n",
              "  </thead>\n",
              "  <tbody>\n",
              "    <tr>\n",
              "      <th>6500</th>\n",
              "      <td>700</td>\n",
              "      <td>Айдар</td>\n",
              "      <td>22</td>\n",
              "      <td>Омск</td>\n",
              "      <td>free</td>\n",
              "      <td>2515.690719</td>\n",
              "      <td>14.944286</td>\n",
              "      <td>2021-01-02</td>\n",
              "      <td>1</td>\n",
              "      <td>8</td>\n",
              "      <td>50</td>\n",
              "      <td>0</td>\n",
              "    </tr>\n",
              "    <tr>\n",
              "      <th>6501</th>\n",
              "      <td>700</td>\n",
              "      <td>Айдар</td>\n",
              "      <td>22</td>\n",
              "      <td>Омск</td>\n",
              "      <td>free</td>\n",
              "      <td>846.932642</td>\n",
              "      <td>16.234663</td>\n",
              "      <td>2021-02-01</td>\n",
              "      <td>2</td>\n",
              "      <td>8</td>\n",
              "      <td>50</td>\n",
              "      <td>0</td>\n",
              "    </tr>\n",
              "    <tr>\n",
              "      <th>6502</th>\n",
              "      <td>700</td>\n",
              "      <td>Айдар</td>\n",
              "      <td>22</td>\n",
              "      <td>Омск</td>\n",
              "      <td>free</td>\n",
              "      <td>4004.434142</td>\n",
              "      <td>20.016628</td>\n",
              "      <td>2021-02-04</td>\n",
              "      <td>2</td>\n",
              "      <td>8</td>\n",
              "      <td>50</td>\n",
              "      <td>0</td>\n",
              "    </tr>\n",
              "    <tr>\n",
              "      <th>6503</th>\n",
              "      <td>700</td>\n",
              "      <td>Айдар</td>\n",
              "      <td>22</td>\n",
              "      <td>Омск</td>\n",
              "      <td>free</td>\n",
              "      <td>1205.911290</td>\n",
              "      <td>9.782872</td>\n",
              "      <td>2021-02-10</td>\n",
              "      <td>2</td>\n",
              "      <td>8</td>\n",
              "      <td>50</td>\n",
              "      <td>0</td>\n",
              "    </tr>\n",
              "    <tr>\n",
              "      <th>6504</th>\n",
              "      <td>700</td>\n",
              "      <td>Айдар</td>\n",
              "      <td>22</td>\n",
              "      <td>Омск</td>\n",
              "      <td>free</td>\n",
              "      <td>3047.379435</td>\n",
              "      <td>17.427673</td>\n",
              "      <td>2021-02-14</td>\n",
              "      <td>2</td>\n",
              "      <td>8</td>\n",
              "      <td>50</td>\n",
              "      <td>0</td>\n",
              "    </tr>\n",
              "    <tr>\n",
              "      <th>6505</th>\n",
              "      <td>700</td>\n",
              "      <td>Айдар</td>\n",
              "      <td>22</td>\n",
              "      <td>Омск</td>\n",
              "      <td>free</td>\n",
              "      <td>4342.002254</td>\n",
              "      <td>22.368009</td>\n",
              "      <td>2021-02-23</td>\n",
              "      <td>2</td>\n",
              "      <td>8</td>\n",
              "      <td>50</td>\n",
              "      <td>0</td>\n",
              "    </tr>\n",
              "    <tr>\n",
              "      <th>6506</th>\n",
              "      <td>700</td>\n",
              "      <td>Айдар</td>\n",
              "      <td>22</td>\n",
              "      <td>Омск</td>\n",
              "      <td>free</td>\n",
              "      <td>3798.334905</td>\n",
              "      <td>18.243756</td>\n",
              "      <td>2021-03-03</td>\n",
              "      <td>3</td>\n",
              "      <td>8</td>\n",
              "      <td>50</td>\n",
              "      <td>0</td>\n",
              "    </tr>\n",
              "    <tr>\n",
              "      <th>6507</th>\n",
              "      <td>700</td>\n",
              "      <td>Айдар</td>\n",
              "      <td>22</td>\n",
              "      <td>Омск</td>\n",
              "      <td>free</td>\n",
              "      <td>2984.551206</td>\n",
              "      <td>15.424899</td>\n",
              "      <td>2021-04-09</td>\n",
              "      <td>4</td>\n",
              "      <td>8</td>\n",
              "      <td>50</td>\n",
              "      <td>0</td>\n",
              "    </tr>\n",
              "    <tr>\n",
              "      <th>6508</th>\n",
              "      <td>700</td>\n",
              "      <td>Айдар</td>\n",
              "      <td>22</td>\n",
              "      <td>Омск</td>\n",
              "      <td>free</td>\n",
              "      <td>3360.107141</td>\n",
              "      <td>16.765497</td>\n",
              "      <td>2021-06-12</td>\n",
              "      <td>6</td>\n",
              "      <td>8</td>\n",
              "      <td>50</td>\n",
              "      <td>0</td>\n",
              "    </tr>\n",
              "    <tr>\n",
              "      <th>6509</th>\n",
              "      <td>700</td>\n",
              "      <td>Айдар</td>\n",
              "      <td>22</td>\n",
              "      <td>Омск</td>\n",
              "      <td>free</td>\n",
              "      <td>2567.543847</td>\n",
              "      <td>11.312160</td>\n",
              "      <td>2021-06-23</td>\n",
              "      <td>6</td>\n",
              "      <td>8</td>\n",
              "      <td>50</td>\n",
              "      <td>0</td>\n",
              "    </tr>\n",
              "    <tr>\n",
              "      <th>6510</th>\n",
              "      <td>700</td>\n",
              "      <td>Айдар</td>\n",
              "      <td>22</td>\n",
              "      <td>Омск</td>\n",
              "      <td>free</td>\n",
              "      <td>4110.232038</td>\n",
              "      <td>15.807640</td>\n",
              "      <td>2021-07-08</td>\n",
              "      <td>7</td>\n",
              "      <td>8</td>\n",
              "      <td>50</td>\n",
              "      <td>0</td>\n",
              "    </tr>\n",
              "    <tr>\n",
              "      <th>6511</th>\n",
              "      <td>700</td>\n",
              "      <td>Айдар</td>\n",
              "      <td>22</td>\n",
              "      <td>Омск</td>\n",
              "      <td>free</td>\n",
              "      <td>288.974241</td>\n",
              "      <td>4.788112</td>\n",
              "      <td>2021-07-18</td>\n",
              "      <td>7</td>\n",
              "      <td>8</td>\n",
              "      <td>50</td>\n",
              "      <td>0</td>\n",
              "    </tr>\n",
              "    <tr>\n",
              "      <th>6512</th>\n",
              "      <td>700</td>\n",
              "      <td>Айдар</td>\n",
              "      <td>22</td>\n",
              "      <td>Омск</td>\n",
              "      <td>free</td>\n",
              "      <td>4071.654669</td>\n",
              "      <td>16.370546</td>\n",
              "      <td>2021-08-17</td>\n",
              "      <td>8</td>\n",
              "      <td>8</td>\n",
              "      <td>50</td>\n",
              "      <td>0</td>\n",
              "    </tr>\n",
              "    <tr>\n",
              "      <th>6513</th>\n",
              "      <td>700</td>\n",
              "      <td>Айдар</td>\n",
              "      <td>22</td>\n",
              "      <td>Омск</td>\n",
              "      <td>free</td>\n",
              "      <td>1920.188901</td>\n",
              "      <td>9.608453</td>\n",
              "      <td>2021-10-08</td>\n",
              "      <td>10</td>\n",
              "      <td>8</td>\n",
              "      <td>50</td>\n",
              "      <td>0</td>\n",
              "    </tr>\n",
              "    <tr>\n",
              "      <th>6514</th>\n",
              "      <td>700</td>\n",
              "      <td>Айдар</td>\n",
              "      <td>22</td>\n",
              "      <td>Омск</td>\n",
              "      <td>free</td>\n",
              "      <td>4402.389717</td>\n",
              "      <td>33.013035</td>\n",
              "      <td>2021-10-15</td>\n",
              "      <td>10</td>\n",
              "      <td>8</td>\n",
              "      <td>50</td>\n",
              "      <td>0</td>\n",
              "    </tr>\n",
              "  </tbody>\n",
              "</table>\n",
              "</div>"
            ],
            "text/plain": [
              "      user_id   name  age  city subscription_type     distance   duration  \\\n",
              "6500      700  Айдар   22  Омск              free  2515.690719  14.944286   \n",
              "6501      700  Айдар   22  Омск              free   846.932642  16.234663   \n",
              "6502      700  Айдар   22  Омск              free  4004.434142  20.016628   \n",
              "6503      700  Айдар   22  Омск              free  1205.911290   9.782872   \n",
              "6504      700  Айдар   22  Омск              free  3047.379435  17.427673   \n",
              "6505      700  Айдар   22  Омск              free  4342.002254  22.368009   \n",
              "6506      700  Айдар   22  Омск              free  3798.334905  18.243756   \n",
              "6507      700  Айдар   22  Омск              free  2984.551206  15.424899   \n",
              "6508      700  Айдар   22  Омск              free  3360.107141  16.765497   \n",
              "6509      700  Айдар   22  Омск              free  2567.543847  11.312160   \n",
              "6510      700  Айдар   22  Омск              free  4110.232038  15.807640   \n",
              "6511      700  Айдар   22  Омск              free   288.974241   4.788112   \n",
              "6512      700  Айдар   22  Омск              free  4071.654669  16.370546   \n",
              "6513      700  Айдар   22  Омск              free  1920.188901   9.608453   \n",
              "6514      700  Айдар   22  Омск              free  4402.389717  33.013035   \n",
              "\n",
              "           date  month  minute_price  start_ride_price  subscription_fee  \n",
              "6500 2021-01-02      1             8                50                 0  \n",
              "6501 2021-02-01      2             8                50                 0  \n",
              "6502 2021-02-04      2             8                50                 0  \n",
              "6503 2021-02-10      2             8                50                 0  \n",
              "6504 2021-02-14      2             8                50                 0  \n",
              "6505 2021-02-23      2             8                50                 0  \n",
              "6506 2021-03-03      3             8                50                 0  \n",
              "6507 2021-04-09      4             8                50                 0  \n",
              "6508 2021-06-12      6             8                50                 0  \n",
              "6509 2021-06-23      6             8                50                 0  \n",
              "6510 2021-07-08      7             8                50                 0  \n",
              "6511 2021-07-18      7             8                50                 0  \n",
              "6512 2021-08-17      8             8                50                 0  \n",
              "6513 2021-10-08     10             8                50                 0  \n",
              "6514 2021-10-15     10             8                50                 0  "
            ]
          },
          "execution_count": 29,
          "metadata": {},
          "output_type": "execute_result"
        }
      ],
      "source": [
        "free_users = full.query('subscription_type == \"free\"')\n",
        "free_users.head(15)"
      ]
    },
    {
      "cell_type": "markdown",
      "id": "910fc37e",
      "metadata": {
        "id": "910fc37e"
      },
      "source": [
        "То, что задавал. Теперь выделяем датафрейм с пользователями с подпиской."
      ]
    },
    {
      "cell_type": "code",
      "execution_count": null,
      "id": "2f738e5d",
      "metadata": {
        "id": "2f738e5d",
        "outputId": "4c2fa78c-03b9-4adb-d736-1ebe8f4aa8d2"
      },
      "outputs": [
        {
          "data": {
            "text/html": [
              "<div>\n",
              "<style scoped>\n",
              "    .dataframe tbody tr th:only-of-type {\n",
              "        vertical-align: middle;\n",
              "    }\n",
              "\n",
              "    .dataframe tbody tr th {\n",
              "        vertical-align: top;\n",
              "    }\n",
              "\n",
              "    .dataframe thead th {\n",
              "        text-align: right;\n",
              "    }\n",
              "</style>\n",
              "<table border=\"1\" class=\"dataframe\">\n",
              "  <thead>\n",
              "    <tr style=\"text-align: right;\">\n",
              "      <th></th>\n",
              "      <th>user_id</th>\n",
              "      <th>name</th>\n",
              "      <th>age</th>\n",
              "      <th>city</th>\n",
              "      <th>subscription_type</th>\n",
              "      <th>distance</th>\n",
              "      <th>duration</th>\n",
              "      <th>date</th>\n",
              "      <th>month</th>\n",
              "      <th>minute_price</th>\n",
              "      <th>start_ride_price</th>\n",
              "      <th>subscription_fee</th>\n",
              "    </tr>\n",
              "  </thead>\n",
              "  <tbody>\n",
              "    <tr>\n",
              "      <th>0</th>\n",
              "      <td>1</td>\n",
              "      <td>Кира</td>\n",
              "      <td>22</td>\n",
              "      <td>Тюмень</td>\n",
              "      <td>ultra</td>\n",
              "      <td>4409.919140</td>\n",
              "      <td>25.599769</td>\n",
              "      <td>2021-01-01</td>\n",
              "      <td>1</td>\n",
              "      <td>6</td>\n",
              "      <td>0</td>\n",
              "      <td>199</td>\n",
              "    </tr>\n",
              "    <tr>\n",
              "      <th>1</th>\n",
              "      <td>1</td>\n",
              "      <td>Кира</td>\n",
              "      <td>22</td>\n",
              "      <td>Тюмень</td>\n",
              "      <td>ultra</td>\n",
              "      <td>2617.592153</td>\n",
              "      <td>15.816871</td>\n",
              "      <td>2021-01-18</td>\n",
              "      <td>1</td>\n",
              "      <td>6</td>\n",
              "      <td>0</td>\n",
              "      <td>199</td>\n",
              "    </tr>\n",
              "    <tr>\n",
              "      <th>2</th>\n",
              "      <td>1</td>\n",
              "      <td>Кира</td>\n",
              "      <td>22</td>\n",
              "      <td>Тюмень</td>\n",
              "      <td>ultra</td>\n",
              "      <td>754.159807</td>\n",
              "      <td>6.232113</td>\n",
              "      <td>2021-04-20</td>\n",
              "      <td>4</td>\n",
              "      <td>6</td>\n",
              "      <td>0</td>\n",
              "      <td>199</td>\n",
              "    </tr>\n",
              "    <tr>\n",
              "      <th>3</th>\n",
              "      <td>1</td>\n",
              "      <td>Кира</td>\n",
              "      <td>22</td>\n",
              "      <td>Тюмень</td>\n",
              "      <td>ultra</td>\n",
              "      <td>2694.783254</td>\n",
              "      <td>18.511000</td>\n",
              "      <td>2021-08-11</td>\n",
              "      <td>8</td>\n",
              "      <td>6</td>\n",
              "      <td>0</td>\n",
              "      <td>199</td>\n",
              "    </tr>\n",
              "    <tr>\n",
              "      <th>4</th>\n",
              "      <td>1</td>\n",
              "      <td>Кира</td>\n",
              "      <td>22</td>\n",
              "      <td>Тюмень</td>\n",
              "      <td>ultra</td>\n",
              "      <td>4028.687306</td>\n",
              "      <td>26.265803</td>\n",
              "      <td>2021-08-28</td>\n",
              "      <td>8</td>\n",
              "      <td>6</td>\n",
              "      <td>0</td>\n",
              "      <td>199</td>\n",
              "    </tr>\n",
              "    <tr>\n",
              "      <th>5</th>\n",
              "      <td>1</td>\n",
              "      <td>Кира</td>\n",
              "      <td>22</td>\n",
              "      <td>Тюмень</td>\n",
              "      <td>ultra</td>\n",
              "      <td>2770.890808</td>\n",
              "      <td>16.650138</td>\n",
              "      <td>2021-10-09</td>\n",
              "      <td>10</td>\n",
              "      <td>6</td>\n",
              "      <td>0</td>\n",
              "      <td>199</td>\n",
              "    </tr>\n",
              "    <tr>\n",
              "      <th>6</th>\n",
              "      <td>1</td>\n",
              "      <td>Кира</td>\n",
              "      <td>22</td>\n",
              "      <td>Тюмень</td>\n",
              "      <td>ultra</td>\n",
              "      <td>3039.020292</td>\n",
              "      <td>14.927879</td>\n",
              "      <td>2021-10-19</td>\n",
              "      <td>10</td>\n",
              "      <td>6</td>\n",
              "      <td>0</td>\n",
              "      <td>199</td>\n",
              "    </tr>\n",
              "    <tr>\n",
              "      <th>7</th>\n",
              "      <td>1</td>\n",
              "      <td>Кира</td>\n",
              "      <td>22</td>\n",
              "      <td>Тюмень</td>\n",
              "      <td>ultra</td>\n",
              "      <td>2842.118050</td>\n",
              "      <td>23.117468</td>\n",
              "      <td>2021-11-06</td>\n",
              "      <td>11</td>\n",
              "      <td>6</td>\n",
              "      <td>0</td>\n",
              "      <td>199</td>\n",
              "    </tr>\n",
              "    <tr>\n",
              "      <th>8</th>\n",
              "      <td>1</td>\n",
              "      <td>Кира</td>\n",
              "      <td>22</td>\n",
              "      <td>Тюмень</td>\n",
              "      <td>ultra</td>\n",
              "      <td>3412.690668</td>\n",
              "      <td>15.238072</td>\n",
              "      <td>2021-11-14</td>\n",
              "      <td>11</td>\n",
              "      <td>6</td>\n",
              "      <td>0</td>\n",
              "      <td>199</td>\n",
              "    </tr>\n",
              "    <tr>\n",
              "      <th>9</th>\n",
              "      <td>1</td>\n",
              "      <td>Кира</td>\n",
              "      <td>22</td>\n",
              "      <td>Тюмень</td>\n",
              "      <td>ultra</td>\n",
              "      <td>748.690645</td>\n",
              "      <td>15.041884</td>\n",
              "      <td>2021-11-22</td>\n",
              "      <td>11</td>\n",
              "      <td>6</td>\n",
              "      <td>0</td>\n",
              "      <td>199</td>\n",
              "    </tr>\n",
              "    <tr>\n",
              "      <th>10</th>\n",
              "      <td>1</td>\n",
              "      <td>Кира</td>\n",
              "      <td>22</td>\n",
              "      <td>Тюмень</td>\n",
              "      <td>ultra</td>\n",
              "      <td>4031.020195</td>\n",
              "      <td>17.674448</td>\n",
              "      <td>2021-12-14</td>\n",
              "      <td>12</td>\n",
              "      <td>6</td>\n",
              "      <td>0</td>\n",
              "      <td>199</td>\n",
              "    </tr>\n",
              "    <tr>\n",
              "      <th>11</th>\n",
              "      <td>1</td>\n",
              "      <td>Кира</td>\n",
              "      <td>22</td>\n",
              "      <td>Тюмень</td>\n",
              "      <td>ultra</td>\n",
              "      <td>2720.609748</td>\n",
              "      <td>9.529463</td>\n",
              "      <td>2021-12-22</td>\n",
              "      <td>12</td>\n",
              "      <td>6</td>\n",
              "      <td>0</td>\n",
              "      <td>199</td>\n",
              "    </tr>\n",
              "    <tr>\n",
              "      <th>12</th>\n",
              "      <td>2</td>\n",
              "      <td>Станислав</td>\n",
              "      <td>31</td>\n",
              "      <td>Омск</td>\n",
              "      <td>ultra</td>\n",
              "      <td>3105.086678</td>\n",
              "      <td>24.307514</td>\n",
              "      <td>2021-03-15</td>\n",
              "      <td>3</td>\n",
              "      <td>6</td>\n",
              "      <td>0</td>\n",
              "      <td>199</td>\n",
              "    </tr>\n",
              "    <tr>\n",
              "      <th>13</th>\n",
              "      <td>2</td>\n",
              "      <td>Станислав</td>\n",
              "      <td>31</td>\n",
              "      <td>Омск</td>\n",
              "      <td>ultra</td>\n",
              "      <td>3053.519401</td>\n",
              "      <td>11.543256</td>\n",
              "      <td>2021-03-18</td>\n",
              "      <td>3</td>\n",
              "      <td>6</td>\n",
              "      <td>0</td>\n",
              "      <td>199</td>\n",
              "    </tr>\n",
              "    <tr>\n",
              "      <th>14</th>\n",
              "      <td>2</td>\n",
              "      <td>Станислав</td>\n",
              "      <td>31</td>\n",
              "      <td>Омск</td>\n",
              "      <td>ultra</td>\n",
              "      <td>4029.116927</td>\n",
              "      <td>25.109188</td>\n",
              "      <td>2021-03-23</td>\n",
              "      <td>3</td>\n",
              "      <td>6</td>\n",
              "      <td>0</td>\n",
              "      <td>199</td>\n",
              "    </tr>\n",
              "  </tbody>\n",
              "</table>\n",
              "</div>"
            ],
            "text/plain": [
              "    user_id       name  age    city subscription_type     distance   duration  \\\n",
              "0         1       Кира   22  Тюмень             ultra  4409.919140  25.599769   \n",
              "1         1       Кира   22  Тюмень             ultra  2617.592153  15.816871   \n",
              "2         1       Кира   22  Тюмень             ultra   754.159807   6.232113   \n",
              "3         1       Кира   22  Тюмень             ultra  2694.783254  18.511000   \n",
              "4         1       Кира   22  Тюмень             ultra  4028.687306  26.265803   \n",
              "5         1       Кира   22  Тюмень             ultra  2770.890808  16.650138   \n",
              "6         1       Кира   22  Тюмень             ultra  3039.020292  14.927879   \n",
              "7         1       Кира   22  Тюмень             ultra  2842.118050  23.117468   \n",
              "8         1       Кира   22  Тюмень             ultra  3412.690668  15.238072   \n",
              "9         1       Кира   22  Тюмень             ultra   748.690645  15.041884   \n",
              "10        1       Кира   22  Тюмень             ultra  4031.020195  17.674448   \n",
              "11        1       Кира   22  Тюмень             ultra  2720.609748   9.529463   \n",
              "12        2  Станислав   31    Омск             ultra  3105.086678  24.307514   \n",
              "13        2  Станислав   31    Омск             ultra  3053.519401  11.543256   \n",
              "14        2  Станислав   31    Омск             ultra  4029.116927  25.109188   \n",
              "\n",
              "         date  month  minute_price  start_ride_price  subscription_fee  \n",
              "0  2021-01-01      1             6                 0               199  \n",
              "1  2021-01-18      1             6                 0               199  \n",
              "2  2021-04-20      4             6                 0               199  \n",
              "3  2021-08-11      8             6                 0               199  \n",
              "4  2021-08-28      8             6                 0               199  \n",
              "5  2021-10-09     10             6                 0               199  \n",
              "6  2021-10-19     10             6                 0               199  \n",
              "7  2021-11-06     11             6                 0               199  \n",
              "8  2021-11-14     11             6                 0               199  \n",
              "9  2021-11-22     11             6                 0               199  \n",
              "10 2021-12-14     12             6                 0               199  \n",
              "11 2021-12-22     12             6                 0               199  \n",
              "12 2021-03-15      3             6                 0               199  \n",
              "13 2021-03-18      3             6                 0               199  \n",
              "14 2021-03-23      3             6                 0               199  "
            ]
          },
          "execution_count": 30,
          "metadata": {},
          "output_type": "execute_result"
        }
      ],
      "source": [
        "ultra_users = full.query('subscription_type == \"ultra\"')\n",
        "ultra_users.head(15)"
      ]
    },
    {
      "cell_type": "markdown",
      "id": "d2072326",
      "metadata": {
        "id": "d2072326"
      },
      "source": [
        "На всякий случай выведу информацию по обоим датафреймам и по \"материнскому\" тоже, чтобы убедиться в полноте данных."
      ]
    },
    {
      "cell_type": "code",
      "execution_count": null,
      "id": "c1f32e65",
      "metadata": {
        "id": "c1f32e65",
        "outputId": "d8df4ca6-0030-4ce1-9899-19f3eb2524a8"
      },
      "outputs": [
        {
          "name": "stdout",
          "output_type": "stream",
          "text": [
            "<class 'pandas.core.frame.DataFrame'>\n",
            "Int64Index: 11568 entries, 6500 to 18067\n",
            "Data columns (total 12 columns):\n",
            " #   Column             Non-Null Count  Dtype         \n",
            "---  ------             --------------  -----         \n",
            " 0   user_id            11568 non-null  int64         \n",
            " 1   name               11568 non-null  object        \n",
            " 2   age                11568 non-null  int64         \n",
            " 3   city               11568 non-null  object        \n",
            " 4   subscription_type  11568 non-null  object        \n",
            " 5   distance           11568 non-null  float64       \n",
            " 6   duration           11568 non-null  float64       \n",
            " 7   date               11568 non-null  datetime64[ns]\n",
            " 8   month              11568 non-null  int64         \n",
            " 9   minute_price       11568 non-null  int64         \n",
            " 10  start_ride_price   11568 non-null  int64         \n",
            " 11  subscription_fee   11568 non-null  int64         \n",
            "dtypes: datetime64[ns](1), float64(2), int64(6), object(3)\n",
            "memory usage: 1.1+ MB\n",
            "<class 'pandas.core.frame.DataFrame'>\n",
            "Int64Index: 6500 entries, 0 to 6499\n",
            "Data columns (total 12 columns):\n",
            " #   Column             Non-Null Count  Dtype         \n",
            "---  ------             --------------  -----         \n",
            " 0   user_id            6500 non-null   int64         \n",
            " 1   name               6500 non-null   object        \n",
            " 2   age                6500 non-null   int64         \n",
            " 3   city               6500 non-null   object        \n",
            " 4   subscription_type  6500 non-null   object        \n",
            " 5   distance           6500 non-null   float64       \n",
            " 6   duration           6500 non-null   float64       \n",
            " 7   date               6500 non-null   datetime64[ns]\n",
            " 8   month              6500 non-null   int64         \n",
            " 9   minute_price       6500 non-null   int64         \n",
            " 10  start_ride_price   6500 non-null   int64         \n",
            " 11  subscription_fee   6500 non-null   int64         \n",
            "dtypes: datetime64[ns](1), float64(2), int64(6), object(3)\n",
            "memory usage: 660.2+ KB\n",
            "<class 'pandas.core.frame.DataFrame'>\n",
            "Int64Index: 18068 entries, 0 to 18067\n",
            "Data columns (total 12 columns):\n",
            " #   Column             Non-Null Count  Dtype         \n",
            "---  ------             --------------  -----         \n",
            " 0   user_id            18068 non-null  int64         \n",
            " 1   name               18068 non-null  object        \n",
            " 2   age                18068 non-null  int64         \n",
            " 3   city               18068 non-null  object        \n",
            " 4   subscription_type  18068 non-null  object        \n",
            " 5   distance           18068 non-null  float64       \n",
            " 6   duration           18068 non-null  float64       \n",
            " 7   date               18068 non-null  datetime64[ns]\n",
            " 8   month              18068 non-null  int64         \n",
            " 9   minute_price       18068 non-null  int64         \n",
            " 10  start_ride_price   18068 non-null  int64         \n",
            " 11  subscription_fee   18068 non-null  int64         \n",
            "dtypes: datetime64[ns](1), float64(2), int64(6), object(3)\n",
            "memory usage: 1.8+ MB\n"
          ]
        }
      ],
      "source": [
        "free_users.info()\n",
        "ultra_users.info()\n",
        "full.info()"
      ]
    },
    {
      "cell_type": "markdown",
      "id": "3196c1d7",
      "metadata": {
        "id": "3196c1d7"
      },
      "source": [
        "6500 + 11568 = 18068. Всё верно, ничего не упущено. Движемся дальше."
      ]
    },
    {
      "cell_type": "markdown",
      "id": "a3a759f2",
      "metadata": {
        "id": "a3a759f2"
      },
      "source": [
        "##### Визуализируем информацию о расстоянии и времени поездок для обеих категорий пользователей."
      ]
    },
    {
      "cell_type": "markdown",
      "id": "49f899fe",
      "metadata": {
        "id": "49f899fe"
      },
      "source": [
        "###### Пользователи без подписки."
      ]
    },
    {
      "cell_type": "markdown",
      "id": "ba3d6f13",
      "metadata": {
        "id": "ba3d6f13"
      },
      "source": [
        "Сначала дистанция поездки."
      ]
    },
    {
      "cell_type": "code",
      "execution_count": null,
      "id": "769da730",
      "metadata": {
        "id": "769da730",
        "outputId": "09ba9ede-a344-40e3-c88c-dd0b919e9423"
      },
      "outputs": [
        {
          "data": {
            "text/plain": [
              "Text(0.5, 0, 'Расстояние')"
            ]
          },
          "execution_count": 32,
          "metadata": {},
          "output_type": "execute_result"
        },
        {
          "data": {
            "image/png": "[encoded data removed]",
            "text/plain": [
              "<Figure size 432x288 with 1 Axes>"
            ]
          },
          "metadata": {
            "needs_background": "light"
          },
          "output_type": "display_data"
        }
      ],
      "source": [
        "free_users['distance'].hist(bins=100)\n",
        "plt.title(\"Расстояние, которое преодолели пользователи без подписки\")\n",
        "plt.ylabel(\"Повторяемость\")\n",
        "plt.xlabel(\"Расстояние\")\n",
        "\n"
      ]
    },
    {
      "cell_type": "markdown",
      "id": "552ff3db",
      "metadata": {
        "id": "552ff3db"
      },
      "source": [
        "Бимодальное распределение. Малый пик наиболее частых значений в районе 500 м (более 100 поездок), большое - на 2500 примерно (более 300 поездок)."
      ]
    },
    {
      "cell_type": "markdown",
      "id": "bfa37472",
      "metadata": {
        "id": "bfa37472"
      },
      "source": [
        "Теперь длительность поездки."
      ]
    },
    {
      "cell_type": "code",
      "execution_count": null,
      "id": "f3918bcd",
      "metadata": {
        "id": "f3918bcd",
        "outputId": "c8d5d7bb-fbc4-4281-a92e-087d1b7dace1"
      },
      "outputs": [
        {
          "data": {
            "text/plain": [
              "Text(0.5, 0, 'Длительность')"
            ]
          },
          "execution_count": 33,
          "metadata": {},
          "output_type": "execute_result"
        },
        {
          "data": {
            "image/png": "[encoded data removed]",
            "text/plain": [
              "<Figure size 432x288 with 1 Axes>"
            ]
          },
          "metadata": {
            "needs_background": "light"
          },
          "output_type": "display_data"
        }
      ],
      "source": [
        "free_users['duration'].hist(bins=100)\n",
        "plt.title(\"Длительность поездок пользователей без подписки\")\n",
        "plt.ylabel(\"Повторяемость\")\n",
        "plt.xlabel(\"Длительность\")"
      ]
    },
    {
      "cell_type": "markdown",
      "id": "6a608f1d",
      "metadata": {
        "id": "6a608f1d"
      },
      "source": [
        "Есть пичок на одной минуте (чуть менее 100 поездок). Основной пик в районе 17-18 минут."
      ]
    },
    {
      "cell_type": "markdown",
      "id": "32edf760",
      "metadata": {
        "id": "32edf760"
      },
      "source": [
        "###### Пользователи с подпиской"
      ]
    },
    {
      "cell_type": "markdown",
      "id": "4748c775",
      "metadata": {
        "id": "4748c775"
      },
      "source": [
        "Сначала дистанция"
      ]
    },
    {
      "cell_type": "code",
      "execution_count": null,
      "id": "ba60fada",
      "metadata": {
        "id": "ba60fada",
        "outputId": "5ad90865-af7d-409a-84ef-10ecb8186d54"
      },
      "outputs": [
        {
          "data": {
            "text/plain": [
              "Text(0.5, 0, 'Расстояние')"
            ]
          },
          "execution_count": 34,
          "metadata": {},
          "output_type": "execute_result"
        },
        {
          "data": {
            "image/png": "[encoded data removed]",
            "text/plain": [
              "<Figure size 432x288 with 1 Axes>"
            ]
          },
          "metadata": {
            "needs_background": "light"
          },
          "output_type": "display_data"
        }
      ],
      "source": [
        "ultra_users['distance'].hist(bins=100)\n",
        "plt.title(\"Расстояние, которое преодолели пользователи с подпиской\")\n",
        "plt.ylabel(\"Повторяемость\")\n",
        "plt.xlabel(\"Расстояние\")"
      ]
    },
    {
      "cell_type": "markdown",
      "id": "5ecc40e3",
      "metadata": {
        "id": "5ecc40e3"
      },
      "source": [
        "Можно сказать - 3 пика. В районе 1000. Четкий основной пик примерно на 3100. И второй малый пик на 4000."
      ]
    },
    {
      "cell_type": "markdown",
      "id": "a67a8a44",
      "metadata": {
        "id": "a67a8a44"
      },
      "source": [
        "Теперь длительность поездки."
      ]
    },
    {
      "cell_type": "code",
      "execution_count": null,
      "id": "f082559e",
      "metadata": {
        "id": "f082559e",
        "outputId": "eb81986a-77a2-4296-800a-9fd85243c79c"
      },
      "outputs": [
        {
          "data": {
            "text/plain": [
              "Text(0.5, 0, 'Длительность')"
            ]
          },
          "execution_count": 35,
          "metadata": {},
          "output_type": "execute_result"
        },
        {
          "data": {
            "image/png": "[encoded data removed]",
            "text/plain": [
              "<Figure size 432x288 with 1 Axes>"
            ]
          },
          "metadata": {
            "needs_background": "light"
          },
          "output_type": "display_data"
        }
      ],
      "source": [
        "ultra_users['duration'].hist(bins=100)\n",
        "plt.title(\"Длительность поездки пользователей с подпиской\")\n",
        "plt.ylabel(\"Повторяемость\")\n",
        "plt.xlabel(\"Длительность\")"
      ]
    },
    {
      "cell_type": "markdown",
      "id": "9e4a02f0",
      "metadata": {
        "id": "9e4a02f0"
      },
      "source": [
        "Теперь отображу графики для пользователей с подпиской и без совместно. Для расстояния и для длительности."
      ]
    },
    {
      "cell_type": "code",
      "execution_count": null,
      "id": "b06c0c8c",
      "metadata": {
        "id": "b06c0c8c",
        "outputId": "8892a794-7510-4586-e4c8-23de5845af9b"
      },
      "outputs": [
        {
          "data": {
            "image/png": "[encoded data removed]",
            "text/plain": [
              "<Figure size 432x288 with 1 Axes>"
            ]
          },
          "metadata": {
            "needs_background": "light"
          },
          "output_type": "display_data"
        }
      ],
      "source": [
        "users_without_sub = free_users['distance']\n",
        "users_with_sub = ultra_users['distance']\n",
        "\n",
        "\n",
        "plt.hist(users_without_sub, bins=100, alpha = 0.5, label='users_without_sub')\n",
        "plt.hist(users_with_sub, bins=100, alpha = 0.5, label='users_with_sub')\n",
        "plt.legend(loc='upper right')\n",
        "\n",
        "plt.title(\"Дальность поездки пользователей обеих категорий\")\n",
        "plt.ylabel(\"Повторяемость\")\n",
        "plt.xlabel(\"Расстояние\")\n",
        "plt.show()"
      ]
    },
    {
      "cell_type": "code",
      "execution_count": null,
      "id": "7c35a08c",
      "metadata": {
        "id": "7c35a08c",
        "outputId": "25caa5cd-732d-4e6b-fecb-7680cef21e96"
      },
      "outputs": [
        {
          "data": {
            "image/png": "[encoded data removed]",
            "text/plain": [
              "<Figure size 432x288 with 1 Axes>"
            ]
          },
          "metadata": {
            "needs_background": "light"
          },
          "output_type": "display_data"
        }
      ],
      "source": [
        "users_without_sub = free_users['duration']\n",
        "users_with_sub = ultra_users['duration']\n",
        "\n",
        "\n",
        "plt.hist(users_without_sub, bins=100, alpha = 0.5, label='users_without_sub')\n",
        "plt.hist(users_with_sub, bins=100, alpha = 0.5, label='users_with_sub')\n",
        "plt.legend(loc='upper right')\n",
        "plt.title(\"Длительность поездки пользователей обеих категорий\")\n",
        "plt.ylabel(\"Повторяемость\")\n",
        "plt.xlabel(\"Время поездки\")\n",
        "plt.show()"
      ]
    },
    {
      "cell_type": "markdown",
      "id": "f28309a7",
      "metadata": {
        "id": "f28309a7"
      },
      "source": [
        "Пик в районе 16-17 минут. Можно считать, что один. Остальные так ярко не выражены."
      ]
    },
    {
      "cell_type": "markdown",
      "id": "39a40807",
      "metadata": {
        "id": "39a40807"
      },
      "source": [
        "В целом данные по пользователям с подпиской показывают большую \"группировку\" как по расстоянию, так и по времени поездки. Данные по пользователям без подписки распределены более широко, поэтому и пики более гладкие. Значения по расстоянию поездок для пользователей по подписке имеют более широкий диапазон как в меньшую, так и в большую сторону. Дополнительные пики для коротких поездок говорят, возможно о специфической потребности в короткой поездке. Возможно, от дома до остановки или станции."
      ]
    },
    {
      "cell_type": "markdown",
      "id": "8f91f5e8",
      "metadata": {
        "id": "8f91f5e8"
      },
      "source": [
        "#### Шаг 5. Подсчёт выручки"
      ]
    },
    {
      "cell_type": "markdown",
      "id": "09758445",
      "metadata": {
        "id": "09758445"
      },
      "source": [
        "##### Создаём датафрейм с агрегированными данными по поездкам"
      ]
    },
    {
      "cell_type": "code",
      "execution_count": null,
      "id": "765389a0",
      "metadata": {
        "id": "765389a0",
        "outputId": "39b4c7e8-d902-40c7-aefb-32f6f8a4c017"
      },
      "outputs": [
        {
          "data": {
            "text/html": [
              "<div>\n",
              "<style scoped>\n",
              "    .dataframe tbody tr th:only-of-type {\n",
              "        vertical-align: middle;\n",
              "    }\n",
              "\n",
              "    .dataframe tbody tr th {\n",
              "        vertical-align: top;\n",
              "    }\n",
              "\n",
              "    .dataframe thead th {\n",
              "        text-align: right;\n",
              "    }\n",
              "</style>\n",
              "<table border=\"1\" class=\"dataframe\">\n",
              "  <thead>\n",
              "    <tr style=\"text-align: right;\">\n",
              "      <th></th>\n",
              "      <th>user_id</th>\n",
              "      <th>name</th>\n",
              "      <th>age</th>\n",
              "      <th>city</th>\n",
              "      <th>subscription_type</th>\n",
              "      <th>distance</th>\n",
              "      <th>duration</th>\n",
              "      <th>date</th>\n",
              "      <th>month</th>\n",
              "      <th>minute_price</th>\n",
              "      <th>start_ride_price</th>\n",
              "      <th>subscription_fee</th>\n",
              "    </tr>\n",
              "  </thead>\n",
              "  <tbody>\n",
              "    <tr>\n",
              "      <th>0</th>\n",
              "      <td>1</td>\n",
              "      <td>Кира</td>\n",
              "      <td>22</td>\n",
              "      <td>Тюмень</td>\n",
              "      <td>ultra</td>\n",
              "      <td>4409.919140</td>\n",
              "      <td>26.0</td>\n",
              "      <td>2021-01-01</td>\n",
              "      <td>1</td>\n",
              "      <td>6</td>\n",
              "      <td>0</td>\n",
              "      <td>199</td>\n",
              "    </tr>\n",
              "    <tr>\n",
              "      <th>1</th>\n",
              "      <td>1</td>\n",
              "      <td>Кира</td>\n",
              "      <td>22</td>\n",
              "      <td>Тюмень</td>\n",
              "      <td>ultra</td>\n",
              "      <td>2617.592153</td>\n",
              "      <td>16.0</td>\n",
              "      <td>2021-01-18</td>\n",
              "      <td>1</td>\n",
              "      <td>6</td>\n",
              "      <td>0</td>\n",
              "      <td>199</td>\n",
              "    </tr>\n",
              "    <tr>\n",
              "      <th>2</th>\n",
              "      <td>1</td>\n",
              "      <td>Кира</td>\n",
              "      <td>22</td>\n",
              "      <td>Тюмень</td>\n",
              "      <td>ultra</td>\n",
              "      <td>754.159807</td>\n",
              "      <td>7.0</td>\n",
              "      <td>2021-04-20</td>\n",
              "      <td>4</td>\n",
              "      <td>6</td>\n",
              "      <td>0</td>\n",
              "      <td>199</td>\n",
              "    </tr>\n",
              "    <tr>\n",
              "      <th>3</th>\n",
              "      <td>1</td>\n",
              "      <td>Кира</td>\n",
              "      <td>22</td>\n",
              "      <td>Тюмень</td>\n",
              "      <td>ultra</td>\n",
              "      <td>2694.783254</td>\n",
              "      <td>19.0</td>\n",
              "      <td>2021-08-11</td>\n",
              "      <td>8</td>\n",
              "      <td>6</td>\n",
              "      <td>0</td>\n",
              "      <td>199</td>\n",
              "    </tr>\n",
              "    <tr>\n",
              "      <th>4</th>\n",
              "      <td>1</td>\n",
              "      <td>Кира</td>\n",
              "      <td>22</td>\n",
              "      <td>Тюмень</td>\n",
              "      <td>ultra</td>\n",
              "      <td>4028.687306</td>\n",
              "      <td>27.0</td>\n",
              "      <td>2021-08-28</td>\n",
              "      <td>8</td>\n",
              "      <td>6</td>\n",
              "      <td>0</td>\n",
              "      <td>199</td>\n",
              "    </tr>\n",
              "  </tbody>\n",
              "</table>\n",
              "</div>"
            ],
            "text/plain": [
              "   user_id  name  age    city subscription_type     distance  duration  \\\n",
              "0        1  Кира   22  Тюмень             ultra  4409.919140      26.0   \n",
              "1        1  Кира   22  Тюмень             ultra  2617.592153      16.0   \n",
              "2        1  Кира   22  Тюмень             ultra   754.159807       7.0   \n",
              "3        1  Кира   22  Тюмень             ultra  2694.783254      19.0   \n",
              "4        1  Кира   22  Тюмень             ultra  4028.687306      27.0   \n",
              "\n",
              "        date  month  minute_price  start_ride_price  subscription_fee  \n",
              "0 2021-01-01      1             6                 0               199  \n",
              "1 2021-01-18      1             6                 0               199  \n",
              "2 2021-04-20      4             6                 0               199  \n",
              "3 2021-08-11      8             6                 0               199  \n",
              "4 2021-08-28      8             6                 0               199  "
            ]
          },
          "execution_count": 38,
          "metadata": {},
          "output_type": "execute_result"
        }
      ],
      "source": [
        "full['duration'] = np.ceil(full['duration'])\n",
        "full.head()\n"
      ]
    },
    {
      "cell_type": "code",
      "execution_count": null,
      "id": "6732bb58",
      "metadata": {
        "id": "6732bb58"
      },
      "outputs": [],
      "source": [
        "full_sum=full.pivot_table(index=['user_id','month'],\n",
        "        values = ['distance', 'duration', 'name', 'subscription_type', 'minute_price', 'start_ride_price','subscription_fee' ],\n",
        "        aggfunc = {'distance':'sum', 'duration':'sum', 'name':'count',\n",
        "                'subscription_type':'first', 'minute_price':'first', 'start_ride_price':'first', 'subscription_fee':'first' })"
      ]
    },
    {
      "cell_type": "code",
      "execution_count": null,
      "id": "62329eea",
      "metadata": {
        "id": "62329eea",
        "outputId": "4a225261-3c45-4bd0-8aba-685f76572360"
      },
      "outputs": [
        {
          "data": {
            "text/html": [
              "<div>\n",
              "<style scoped>\n",
              "    .dataframe tbody tr th:only-of-type {\n",
              "        vertical-align: middle;\n",
              "    }\n",
              "\n",
              "    .dataframe tbody tr th {\n",
              "        vertical-align: top;\n",
              "    }\n",
              "\n",
              "    .dataframe thead th {\n",
              "        text-align: right;\n",
              "    }\n",
              "</style>\n",
              "<table border=\"1\" class=\"dataframe\">\n",
              "  <thead>\n",
              "    <tr style=\"text-align: right;\">\n",
              "      <th></th>\n",
              "      <th></th>\n",
              "      <th>distance</th>\n",
              "      <th>duration</th>\n",
              "      <th>minute_price</th>\n",
              "      <th>name</th>\n",
              "      <th>start_ride_price</th>\n",
              "      <th>subscription_fee</th>\n",
              "      <th>subscription_type</th>\n",
              "    </tr>\n",
              "    <tr>\n",
              "      <th>user_id</th>\n",
              "      <th>month</th>\n",
              "      <th></th>\n",
              "      <th></th>\n",
              "      <th></th>\n",
              "      <th></th>\n",
              "      <th></th>\n",
              "      <th></th>\n",
              "      <th></th>\n",
              "    </tr>\n",
              "  </thead>\n",
              "  <tbody>\n",
              "    <tr>\n",
              "      <th rowspan=\"7\" valign=\"top\">1533</th>\n",
              "      <th>2</th>\n",
              "      <td>310.488247</td>\n",
              "      <td>11.0</td>\n",
              "      <td>8</td>\n",
              "      <td>1</td>\n",
              "      <td>50</td>\n",
              "      <td>0</td>\n",
              "      <td>free</td>\n",
              "    </tr>\n",
              "    <tr>\n",
              "      <th>3</th>\n",
              "      <td>12822.696276</td>\n",
              "      <td>93.0</td>\n",
              "      <td>8</td>\n",
              "      <td>4</td>\n",
              "      <td>50</td>\n",
              "      <td>0</td>\n",
              "      <td>free</td>\n",
              "    </tr>\n",
              "    <tr>\n",
              "      <th>4</th>\n",
              "      <td>2514.498956</td>\n",
              "      <td>18.0</td>\n",
              "      <td>8</td>\n",
              "      <td>1</td>\n",
              "      <td>50</td>\n",
              "      <td>0</td>\n",
              "      <td>free</td>\n",
              "    </tr>\n",
              "    <tr>\n",
              "      <th>6</th>\n",
              "      <td>1034.998188</td>\n",
              "      <td>7.0</td>\n",
              "      <td>8</td>\n",
              "      <td>1</td>\n",
              "      <td>50</td>\n",
              "      <td>0</td>\n",
              "      <td>free</td>\n",
              "    </tr>\n",
              "    <tr>\n",
              "      <th>7</th>\n",
              "      <td>8772.518529</td>\n",
              "      <td>48.0</td>\n",
              "      <td>8</td>\n",
              "      <td>3</td>\n",
              "      <td>50</td>\n",
              "      <td>0</td>\n",
              "      <td>free</td>\n",
              "    </tr>\n",
              "    <tr>\n",
              "      <th>8</th>\n",
              "      <td>4581.943632</td>\n",
              "      <td>22.0</td>\n",
              "      <td>8</td>\n",
              "      <td>1</td>\n",
              "      <td>50</td>\n",
              "      <td>0</td>\n",
              "      <td>free</td>\n",
              "    </tr>\n",
              "    <tr>\n",
              "      <th>11</th>\n",
              "      <td>3414.448028</td>\n",
              "      <td>26.0</td>\n",
              "      <td>8</td>\n",
              "      <td>1</td>\n",
              "      <td>50</td>\n",
              "      <td>0</td>\n",
              "      <td>free</td>\n",
              "    </tr>\n",
              "    <tr>\n",
              "      <th rowspan=\"8\" valign=\"top\">1534</th>\n",
              "      <th>1</th>\n",
              "      <td>4678.415899</td>\n",
              "      <td>16.0</td>\n",
              "      <td>8</td>\n",
              "      <td>1</td>\n",
              "      <td>50</td>\n",
              "      <td>0</td>\n",
              "      <td>free</td>\n",
              "    </tr>\n",
              "    <tr>\n",
              "      <th>2</th>\n",
              "      <td>2103.914120</td>\n",
              "      <td>14.0</td>\n",
              "      <td>8</td>\n",
              "      <td>1</td>\n",
              "      <td>50</td>\n",
              "      <td>0</td>\n",
              "      <td>free</td>\n",
              "    </tr>\n",
              "    <tr>\n",
              "      <th>4</th>\n",
              "      <td>3434.290912</td>\n",
              "      <td>15.0</td>\n",
              "      <td>8</td>\n",
              "      <td>1</td>\n",
              "      <td>50</td>\n",
              "      <td>0</td>\n",
              "      <td>free</td>\n",
              "    </tr>\n",
              "    <tr>\n",
              "      <th>6</th>\n",
              "      <td>3409.468534</td>\n",
              "      <td>26.0</td>\n",
              "      <td>8</td>\n",
              "      <td>2</td>\n",
              "      <td>50</td>\n",
              "      <td>0</td>\n",
              "      <td>free</td>\n",
              "    </tr>\n",
              "    <tr>\n",
              "      <th>8</th>\n",
              "      <td>7622.453034</td>\n",
              "      <td>48.0</td>\n",
              "      <td>8</td>\n",
              "      <td>2</td>\n",
              "      <td>50</td>\n",
              "      <td>0</td>\n",
              "      <td>free</td>\n",
              "    </tr>\n",
              "    <tr>\n",
              "      <th>9</th>\n",
              "      <td>4928.173852</td>\n",
              "      <td>23.0</td>\n",
              "      <td>8</td>\n",
              "      <td>1</td>\n",
              "      <td>50</td>\n",
              "      <td>0</td>\n",
              "      <td>free</td>\n",
              "    </tr>\n",
              "    <tr>\n",
              "      <th>11</th>\n",
              "      <td>13350.015305</td>\n",
              "      <td>78.0</td>\n",
              "      <td>8</td>\n",
              "      <td>4</td>\n",
              "      <td>50</td>\n",
              "      <td>0</td>\n",
              "      <td>free</td>\n",
              "    </tr>\n",
              "    <tr>\n",
              "      <th>12</th>\n",
              "      <td>2371.711192</td>\n",
              "      <td>16.0</td>\n",
              "      <td>8</td>\n",
              "      <td>1</td>\n",
              "      <td>50</td>\n",
              "      <td>0</td>\n",
              "      <td>free</td>\n",
              "    </tr>\n",
              "  </tbody>\n",
              "</table>\n",
              "</div>"
            ],
            "text/plain": [
              "                   distance  duration  minute_price  name  start_ride_price  \\\n",
              "user_id month                                                                 \n",
              "1533    2        310.488247      11.0             8     1                50   \n",
              "        3      12822.696276      93.0             8     4                50   \n",
              "        4       2514.498956      18.0             8     1                50   \n",
              "        6       1034.998188       7.0             8     1                50   \n",
              "        7       8772.518529      48.0             8     3                50   \n",
              "        8       4581.943632      22.0             8     1                50   \n",
              "        11      3414.448028      26.0             8     1                50   \n",
              "1534    1       4678.415899      16.0             8     1                50   \n",
              "        2       2103.914120      14.0             8     1                50   \n",
              "        4       3434.290912      15.0             8     1                50   \n",
              "        6       3409.468534      26.0             8     2                50   \n",
              "        8       7622.453034      48.0             8     2                50   \n",
              "        9       4928.173852      23.0             8     1                50   \n",
              "        11     13350.015305      78.0             8     4                50   \n",
              "        12      2371.711192      16.0             8     1                50   \n",
              "\n",
              "               subscription_fee subscription_type  \n",
              "user_id month                                      \n",
              "1533    2                     0              free  \n",
              "        3                     0              free  \n",
              "        4                     0              free  \n",
              "        6                     0              free  \n",
              "        7                     0              free  \n",
              "        8                     0              free  \n",
              "        11                    0              free  \n",
              "1534    1                     0              free  \n",
              "        2                     0              free  \n",
              "        4                     0              free  \n",
              "        6                     0              free  \n",
              "        8                     0              free  \n",
              "        9                     0              free  \n",
              "        11                    0              free  \n",
              "        12                    0              free  "
            ]
          },
          "execution_count": 40,
          "metadata": {},
          "output_type": "execute_result"
        }
      ],
      "source": [
        "full_sum.tail(15)"
      ]
    },
    {
      "cell_type": "markdown",
      "id": "6b9edb4f",
      "metadata": {
        "id": "6b9edb4f"
      },
      "source": [
        "Суммировал по именам. Поэтому переименую колонку в \"количество поездок\"."
      ]
    },
    {
      "cell_type": "code",
      "execution_count": null,
      "id": "4ec471df",
      "metadata": {
        "id": "4ec471df",
        "outputId": "f02ffe2a-7f51-4681-ea5d-b027210cd317"
      },
      "outputs": [
        {
          "data": {
            "text/html": [
              "<div>\n",
              "<style scoped>\n",
              "    .dataframe tbody tr th:only-of-type {\n",
              "        vertical-align: middle;\n",
              "    }\n",
              "\n",
              "    .dataframe tbody tr th {\n",
              "        vertical-align: top;\n",
              "    }\n",
              "\n",
              "    .dataframe thead th {\n",
              "        text-align: right;\n",
              "    }\n",
              "</style>\n",
              "<table border=\"1\" class=\"dataframe\">\n",
              "  <thead>\n",
              "    <tr style=\"text-align: right;\">\n",
              "      <th></th>\n",
              "      <th></th>\n",
              "      <th>distance</th>\n",
              "      <th>duration</th>\n",
              "      <th>minute_price</th>\n",
              "      <th>rides_amount</th>\n",
              "      <th>start_ride_price</th>\n",
              "      <th>subscription_fee</th>\n",
              "      <th>subscription_type</th>\n",
              "    </tr>\n",
              "    <tr>\n",
              "      <th>user_id</th>\n",
              "      <th>month</th>\n",
              "      <th></th>\n",
              "      <th></th>\n",
              "      <th></th>\n",
              "      <th></th>\n",
              "      <th></th>\n",
              "      <th></th>\n",
              "      <th></th>\n",
              "    </tr>\n",
              "  </thead>\n",
              "  <tbody>\n",
              "    <tr>\n",
              "      <th rowspan=\"5\" valign=\"top\">1</th>\n",
              "      <th>1</th>\n",
              "      <td>7027.511294</td>\n",
              "      <td>42.0</td>\n",
              "      <td>6</td>\n",
              "      <td>2</td>\n",
              "      <td>0</td>\n",
              "      <td>199</td>\n",
              "      <td>ultra</td>\n",
              "    </tr>\n",
              "    <tr>\n",
              "      <th>4</th>\n",
              "      <td>754.159807</td>\n",
              "      <td>7.0</td>\n",
              "      <td>6</td>\n",
              "      <td>1</td>\n",
              "      <td>0</td>\n",
              "      <td>199</td>\n",
              "      <td>ultra</td>\n",
              "    </tr>\n",
              "    <tr>\n",
              "      <th>8</th>\n",
              "      <td>6723.470560</td>\n",
              "      <td>46.0</td>\n",
              "      <td>6</td>\n",
              "      <td>2</td>\n",
              "      <td>0</td>\n",
              "      <td>199</td>\n",
              "      <td>ultra</td>\n",
              "    </tr>\n",
              "    <tr>\n",
              "      <th>10</th>\n",
              "      <td>5809.911100</td>\n",
              "      <td>32.0</td>\n",
              "      <td>6</td>\n",
              "      <td>2</td>\n",
              "      <td>0</td>\n",
              "      <td>199</td>\n",
              "      <td>ultra</td>\n",
              "    </tr>\n",
              "    <tr>\n",
              "      <th>11</th>\n",
              "      <td>7003.499363</td>\n",
              "      <td>56.0</td>\n",
              "      <td>6</td>\n",
              "      <td>3</td>\n",
              "      <td>0</td>\n",
              "      <td>199</td>\n",
              "      <td>ultra</td>\n",
              "    </tr>\n",
              "  </tbody>\n",
              "</table>\n",
              "</div>"
            ],
            "text/plain": [
              "                  distance  duration  minute_price  rides_amount  \\\n",
              "user_id month                                                      \n",
              "1       1      7027.511294      42.0             6             2   \n",
              "        4       754.159807       7.0             6             1   \n",
              "        8      6723.470560      46.0             6             2   \n",
              "        10     5809.911100      32.0             6             2   \n",
              "        11     7003.499363      56.0             6             3   \n",
              "\n",
              "               start_ride_price  subscription_fee subscription_type  \n",
              "user_id month                                                        \n",
              "1       1                     0               199             ultra  \n",
              "        4                     0               199             ultra  \n",
              "        8                     0               199             ultra  \n",
              "        10                    0               199             ultra  \n",
              "        11                    0               199             ultra  "
            ]
          },
          "execution_count": 41,
          "metadata": {},
          "output_type": "execute_result"
        }
      ],
      "source": [
        "full_sum = full_sum.rename(columns={'name': 'rides_amount'})\n",
        "full_sum.head()"
      ]
    },
    {
      "cell_type": "markdown",
      "id": "24a03700",
      "metadata": {
        "id": "24a03700"
      },
      "source": [
        "##### Добавить дополнительный столбец с помесячной выручкой для каждого пользователя"
      ]
    },
    {
      "cell_type": "markdown",
      "id": "b0fb324a",
      "metadata": {
        "id": "b0fb324a"
      },
      "source": [
        "Добавляю столбец с выручкой и выведу данные на экран для проверки."
      ]
    },
    {
      "cell_type": "code",
      "execution_count": null,
      "id": "8668382c",
      "metadata": {
        "id": "8668382c"
      },
      "outputs": [],
      "source": [
        "\n",
        "full_sum['revenue'] = full_sum['subscription_fee'] + full_sum['start_ride_price']*full_sum['rides_amount'] + full_sum['minute_price']*full_sum['duration']\n"
      ]
    },
    {
      "cell_type": "code",
      "execution_count": null,
      "id": "79b1bc50",
      "metadata": {
        "id": "79b1bc50",
        "outputId": "ce75c47d-aa37-46ef-b2f0-293f29f434b6"
      },
      "outputs": [
        {
          "data": {
            "text/html": [
              "<div>\n",
              "<style scoped>\n",
              "    .dataframe tbody tr th:only-of-type {\n",
              "        vertical-align: middle;\n",
              "    }\n",
              "\n",
              "    .dataframe tbody tr th {\n",
              "        vertical-align: top;\n",
              "    }\n",
              "\n",
              "    .dataframe thead th {\n",
              "        text-align: right;\n",
              "    }\n",
              "</style>\n",
              "<table border=\"1\" class=\"dataframe\">\n",
              "  <thead>\n",
              "    <tr style=\"text-align: right;\">\n",
              "      <th></th>\n",
              "      <th></th>\n",
              "      <th>distance</th>\n",
              "      <th>duration</th>\n",
              "      <th>minute_price</th>\n",
              "      <th>rides_amount</th>\n",
              "      <th>start_ride_price</th>\n",
              "      <th>subscription_fee</th>\n",
              "      <th>subscription_type</th>\n",
              "      <th>revenue</th>\n",
              "    </tr>\n",
              "    <tr>\n",
              "      <th>user_id</th>\n",
              "      <th>month</th>\n",
              "      <th></th>\n",
              "      <th></th>\n",
              "      <th></th>\n",
              "      <th></th>\n",
              "      <th></th>\n",
              "      <th></th>\n",
              "      <th></th>\n",
              "      <th></th>\n",
              "    </tr>\n",
              "  </thead>\n",
              "  <tbody>\n",
              "    <tr>\n",
              "      <th rowspan=\"6\" valign=\"top\">1</th>\n",
              "      <th>1</th>\n",
              "      <td>7027.511294</td>\n",
              "      <td>42.0</td>\n",
              "      <td>6</td>\n",
              "      <td>2</td>\n",
              "      <td>0</td>\n",
              "      <td>199</td>\n",
              "      <td>ultra</td>\n",
              "      <td>451.0</td>\n",
              "    </tr>\n",
              "    <tr>\n",
              "      <th>4</th>\n",
              "      <td>754.159807</td>\n",
              "      <td>7.0</td>\n",
              "      <td>6</td>\n",
              "      <td>1</td>\n",
              "      <td>0</td>\n",
              "      <td>199</td>\n",
              "      <td>ultra</td>\n",
              "      <td>241.0</td>\n",
              "    </tr>\n",
              "    <tr>\n",
              "      <th>8</th>\n",
              "      <td>6723.470560</td>\n",
              "      <td>46.0</td>\n",
              "      <td>6</td>\n",
              "      <td>2</td>\n",
              "      <td>0</td>\n",
              "      <td>199</td>\n",
              "      <td>ultra</td>\n",
              "      <td>475.0</td>\n",
              "    </tr>\n",
              "    <tr>\n",
              "      <th>10</th>\n",
              "      <td>5809.911100</td>\n",
              "      <td>32.0</td>\n",
              "      <td>6</td>\n",
              "      <td>2</td>\n",
              "      <td>0</td>\n",
              "      <td>199</td>\n",
              "      <td>ultra</td>\n",
              "      <td>391.0</td>\n",
              "    </tr>\n",
              "    <tr>\n",
              "      <th>11</th>\n",
              "      <td>7003.499363</td>\n",
              "      <td>56.0</td>\n",
              "      <td>6</td>\n",
              "      <td>3</td>\n",
              "      <td>0</td>\n",
              "      <td>199</td>\n",
              "      <td>ultra</td>\n",
              "      <td>535.0</td>\n",
              "    </tr>\n",
              "    <tr>\n",
              "      <th>12</th>\n",
              "      <td>6751.629942</td>\n",
              "      <td>28.0</td>\n",
              "      <td>6</td>\n",
              "      <td>2</td>\n",
              "      <td>0</td>\n",
              "      <td>199</td>\n",
              "      <td>ultra</td>\n",
              "      <td>367.0</td>\n",
              "    </tr>\n",
              "    <tr>\n",
              "      <th rowspan=\"7\" valign=\"top\">2</th>\n",
              "      <th>3</th>\n",
              "      <td>10187.723006</td>\n",
              "      <td>63.0</td>\n",
              "      <td>6</td>\n",
              "      <td>3</td>\n",
              "      <td>0</td>\n",
              "      <td>199</td>\n",
              "      <td>ultra</td>\n",
              "      <td>577.0</td>\n",
              "    </tr>\n",
              "    <tr>\n",
              "      <th>4</th>\n",
              "      <td>6164.381824</td>\n",
              "      <td>40.0</td>\n",
              "      <td>6</td>\n",
              "      <td>2</td>\n",
              "      <td>0</td>\n",
              "      <td>199</td>\n",
              "      <td>ultra</td>\n",
              "      <td>439.0</td>\n",
              "    </tr>\n",
              "    <tr>\n",
              "      <th>6</th>\n",
              "      <td>3255.338202</td>\n",
              "      <td>14.0</td>\n",
              "      <td>6</td>\n",
              "      <td>1</td>\n",
              "      <td>0</td>\n",
              "      <td>199</td>\n",
              "      <td>ultra</td>\n",
              "      <td>283.0</td>\n",
              "    </tr>\n",
              "    <tr>\n",
              "      <th>7</th>\n",
              "      <td>6780.722964</td>\n",
              "      <td>48.0</td>\n",
              "      <td>6</td>\n",
              "      <td>2</td>\n",
              "      <td>0</td>\n",
              "      <td>199</td>\n",
              "      <td>ultra</td>\n",
              "      <td>487.0</td>\n",
              "    </tr>\n",
              "    <tr>\n",
              "      <th>8</th>\n",
              "      <td>923.007439</td>\n",
              "      <td>7.0</td>\n",
              "      <td>6</td>\n",
              "      <td>1</td>\n",
              "      <td>0</td>\n",
              "      <td>199</td>\n",
              "      <td>ultra</td>\n",
              "      <td>241.0</td>\n",
              "    </tr>\n",
              "    <tr>\n",
              "      <th>10</th>\n",
              "      <td>2824.636598</td>\n",
              "      <td>19.0</td>\n",
              "      <td>6</td>\n",
              "      <td>1</td>\n",
              "      <td>0</td>\n",
              "      <td>199</td>\n",
              "      <td>ultra</td>\n",
              "      <td>313.0</td>\n",
              "    </tr>\n",
              "    <tr>\n",
              "      <th>12</th>\n",
              "      <td>3828.248580</td>\n",
              "      <td>12.0</td>\n",
              "      <td>6</td>\n",
              "      <td>1</td>\n",
              "      <td>0</td>\n",
              "      <td>199</td>\n",
              "      <td>ultra</td>\n",
              "      <td>271.0</td>\n",
              "    </tr>\n",
              "    <tr>\n",
              "      <th rowspan=\"2\" valign=\"top\">3</th>\n",
              "      <th>1</th>\n",
              "      <td>3061.777147</td>\n",
              "      <td>13.0</td>\n",
              "      <td>6</td>\n",
              "      <td>1</td>\n",
              "      <td>0</td>\n",
              "      <td>199</td>\n",
              "      <td>ultra</td>\n",
              "      <td>277.0</td>\n",
              "    </tr>\n",
              "    <tr>\n",
              "      <th>2</th>\n",
              "      <td>5421.152016</td>\n",
              "      <td>39.0</td>\n",
              "      <td>6</td>\n",
              "      <td>2</td>\n",
              "      <td>0</td>\n",
              "      <td>199</td>\n",
              "      <td>ultra</td>\n",
              "      <td>433.0</td>\n",
              "    </tr>\n",
              "  </tbody>\n",
              "</table>\n",
              "</div>"
            ],
            "text/plain": [
              "                   distance  duration  minute_price  rides_amount  \\\n",
              "user_id month                                                       \n",
              "1       1       7027.511294      42.0             6             2   \n",
              "        4        754.159807       7.0             6             1   \n",
              "        8       6723.470560      46.0             6             2   \n",
              "        10      5809.911100      32.0             6             2   \n",
              "        11      7003.499363      56.0             6             3   \n",
              "        12      6751.629942      28.0             6             2   \n",
              "2       3      10187.723006      63.0             6             3   \n",
              "        4       6164.381824      40.0             6             2   \n",
              "        6       3255.338202      14.0             6             1   \n",
              "        7       6780.722964      48.0             6             2   \n",
              "        8        923.007439       7.0             6             1   \n",
              "        10      2824.636598      19.0             6             1   \n",
              "        12      3828.248580      12.0             6             1   \n",
              "3       1       3061.777147      13.0             6             1   \n",
              "        2       5421.152016      39.0             6             2   \n",
              "\n",
              "               start_ride_price  subscription_fee subscription_type  revenue  \n",
              "user_id month                                                                 \n",
              "1       1                     0               199             ultra    451.0  \n",
              "        4                     0               199             ultra    241.0  \n",
              "        8                     0               199             ultra    475.0  \n",
              "        10                    0               199             ultra    391.0  \n",
              "        11                    0               199             ultra    535.0  \n",
              "        12                    0               199             ultra    367.0  \n",
              "2       3                     0               199             ultra    577.0  \n",
              "        4                     0               199             ultra    439.0  \n",
              "        6                     0               199             ultra    283.0  \n",
              "        7                     0               199             ultra    487.0  \n",
              "        8                     0               199             ultra    241.0  \n",
              "        10                    0               199             ultra    313.0  \n",
              "        12                    0               199             ultra    271.0  \n",
              "3       1                     0               199             ultra    277.0  \n",
              "        2                     0               199             ultra    433.0  "
            ]
          },
          "execution_count": 43,
          "metadata": {},
          "output_type": "execute_result"
        }
      ],
      "source": [
        "#def revenue(row):\n",
        " #   rides_amount = row['rides_amount']\n",
        "  #  subscription_type = row['subscription_type']\n",
        "   # duration = row['duration']\n",
        "    #if subscription_type == 'free':\n",
        "     #   return 50*rides_amount+8*duration\n",
        "    #elif subscription_type == 'ultra':\n",
        "     #   return 199+6*duration\n",
        "full_sum.head(15)"
      ]
    },
    {
      "cell_type": "markdown",
      "id": "46f9e941",
      "metadata": {
        "id": "46f9e941"
      },
      "source": [
        "Переходим к проверке гипотез."
      ]
    },
    {
      "cell_type": "markdown",
      "id": "67e35b85",
      "metadata": {
        "id": "67e35b85"
      },
      "source": [
        "#### Шаг 6. Проверка гипотез"
      ]
    },
    {
      "cell_type": "markdown",
      "id": "8716787c",
      "metadata": {
        "id": "8716787c"
      },
      "source": [
        "##### Проверим, тратят ли пользователи с подпиской больше времени на поездки"
      ]
    },
    {
      "cell_type": "markdown",
      "id": "d75af2c9",
      "metadata": {
        "id": "d75af2c9"
      },
      "source": [
        "Важно понять, тратят ли пользователи с подпиской больше времени на поездки? Если да, то пользователи с подпиской могут быть «выгоднее» для компании.\n",
        "Сформулирую гипотезы следующим образом:\n",
        "1. Нулевая - H0 - Пользователи с подпиской и пользователи без подписки тратят одинаковое время на поездки.\n",
        "2. Альтернативная - Н1 - Пользователи с подпиской тратят на поездки больше времени."
      ]
    },
    {
      "cell_type": "code",
      "execution_count": null,
      "id": "2f3b9d22",
      "metadata": {
        "id": "2f3b9d22",
        "outputId": "e93c9222-d928-43cf-8fa0-e4748d681fb3"
      },
      "outputs": [
        {
          "name": "stdout",
          "output_type": "stream",
          "text": [
            "p-значение: 1.2804098316645618e-34\n",
            "Отвергаем нулевую гипотезу. Пользователи с подпиской тратят больше времени на поездки.\n"
          ]
        }
      ],
      "source": [
        "\n",
        "duration_free = free_users['duration']\n",
        "duration_ultra = ultra_users['duration']\n",
        "alpha = 0.05\n",
        "results = st.ttest_ind(duration_ultra, duration_free, alternative = 'greater')\n",
        "\n",
        "print('p-значение:', results.pvalue )\n",
        "\n",
        "if results.pvalue < alpha:\n",
        "    print('Отвергаем нулевую гипотезу. Пользователи с подпиской тратят больше времени на поездки.')\n",
        "else:\n",
        "    print('Не можем отвергнуть нулевую гипотезу.')"
      ]
    },
    {
      "cell_type": "markdown",
      "id": "d01b0d45",
      "metadata": {
        "id": "d01b0d45"
      },
      "source": [
        "Проверим."
      ]
    },
    {
      "cell_type": "code",
      "execution_count": null,
      "id": "d26293ea",
      "metadata": {
        "id": "d26293ea",
        "outputId": "2da84426-7a84-453d-94ca-f432584ba518"
      },
      "outputs": [
        {
          "name": "stdout",
          "output_type": "stream",
          "text": [
            "средняя длительность поездки для пользователей без подписки: 17.39090929866399\n",
            "средняя длительность для пользователей с подпиской: 18.54198516280583\n"
          ]
        }
      ],
      "source": [
        "print('средняя длительность поездки для пользователей без подписки:', duration_free.mean())\n",
        "print('средняя длительность для пользователей с подпиской:', duration_ultra.mean())"
      ]
    },
    {
      "cell_type": "markdown",
      "id": "43fd7883",
      "metadata": {
        "id": "43fd7883"
      },
      "source": [
        "Действительно, пользователи с подпиской тратят больше времени на поездку."
      ]
    },
    {
      "cell_type": "markdown",
      "id": "87905097",
      "metadata": {
        "id": "87905097"
      },
      "source": [
        "Ну что же, получается, что пользователи с подпиской ездят дольше в целом. Проверю среднее время поездки через простой условный оператор."
      ]
    },
    {
      "cell_type": "markdown",
      "id": "c8d1eec1",
      "metadata": {
        "id": "c8d1eec1"
      },
      "source": [
        "##### Оптимальное расстояние с точки зрения износа самоката"
      ]
    },
    {
      "cell_type": "markdown",
      "id": "f2ad84c2",
      "metadata": {
        "id": "f2ad84c2"
      },
      "source": [
        "Расстояние одной поездки в 3130 метров — оптимальное с точки зрения износа самоката. Можно ли сказать, что расстояние, которое проезжают пользователи с подпиской за одну поездку, не превышает 3130 метров? Формулируем гипотезы:\n",
        "1. Нулевая - Н0 - Расстояние, которое проезжают пользователи с подпиской за одну поездку равно 3130 метров.\n",
        "2. Альтернативная - Н1 - Расстояние, которое проезжают пользователи с подпиской за одну поездку меньше 3130 метров."
      ]
    },
    {
      "cell_type": "code",
      "execution_count": null,
      "id": "1722a99e",
      "metadata": {
        "id": "1722a99e",
        "outputId": "5e5aa5d1-315d-4daa-adb4-dc0f0f6a040b"
      },
      "outputs": [
        {
          "name": "stdout",
          "output_type": "stream",
          "text": [
            "p-значение: 0.08046311521502146\n",
            "Принимаем альтернативную гипотезу, расстояние меньше 3130\n"
          ]
        }
      ],
      "source": [
        "optimal_value = 3130\n",
        "\n",
        "distance_ultra = ultra_users['distance']\n",
        "alpha = 0.05\n",
        "\n",
        "results = st.ttest_1samp(distance_ultra, optimal_value, alternative = 'less')\n",
        "\n",
        "print('p-значение:', results.pvalue )\n",
        "\n",
        "if results.pvalue < alpha:\n",
        "    print('Принимаем нулевую гипотезу')\n",
        "else:\n",
        "    print('Принимаем альтернативную гипотезу, расстояние меньше 3130')"
      ]
    },
    {
      "cell_type": "markdown",
      "id": "1340d042",
      "metadata": {
        "id": "1340d042"
      },
      "source": [
        "Проверим"
      ]
    },
    {
      "cell_type": "code",
      "execution_count": null,
      "id": "00a70bd1",
      "metadata": {
        "id": "00a70bd1",
        "outputId": "97dac22d-077d-4f45-a4e9-1f8eb5b5cd7a"
      },
      "outputs": [
        {
          "name": "stdout",
          "output_type": "stream",
          "text": [
            "среднее расстояние поездки для пользователей с подпиской: 3115.4453880370247\n"
          ]
        }
      ],
      "source": [
        "print('среднее расстояние поездки для пользователей с подпиской:', distance_ultra.mean())\n"
      ]
    },
    {
      "cell_type": "markdown",
      "id": "2041a706",
      "metadata": {
        "id": "2041a706"
      },
      "source": [
        "Альтернативная гипотеза верна. Расстояние, которое преодолевают пользователи с подпиской, меньше 3130 м."
      ]
    },
    {
      "cell_type": "markdown",
      "id": "1325dbcb",
      "metadata": {
        "id": "1325dbcb"
      },
      "source": [
        "##### Проверка месячной выручки"
      ]
    },
    {
      "cell_type": "markdown",
      "id": "598a1c58",
      "metadata": {
        "id": "598a1c58"
      },
      "source": [
        "Проверяем гипотезу о том, будет ли помесячная выручка от пользователей с подпиской по месяцам выше, чем выручка от пользователей без подписки. Формулирую гипотезы:\n",
        "1. Нулевая - Н0 - Помесячная выручка пользователей с подпиской и без - одинаковая.\n",
        "2. Альтернативная - Н1 - Помесячная выручка пользователей с подпиской больше."
      ]
    },
    {
      "cell_type": "code",
      "execution_count": null,
      "id": "b9fd7686",
      "metadata": {
        "id": "b9fd7686"
      },
      "outputs": [],
      "source": [
        "full_sum_free = full_sum[full_sum['subscription_type']=='free']['revenue']\n",
        "full_sum_ultra = full_sum[full_sum['subscription_type']=='ultra']['revenue']"
      ]
    },
    {
      "cell_type": "markdown",
      "id": "6127e5c5",
      "metadata": {
        "id": "6127e5c5"
      },
      "source": [
        "Опять же, нулевая гипотеза - равенство величин."
      ]
    },
    {
      "cell_type": "code",
      "execution_count": null,
      "id": "6df79255",
      "metadata": {
        "id": "6df79255",
        "outputId": "10b270d9-91c7-4219-b405-d75988f473bc"
      },
      "outputs": [
        {
          "name": "stdout",
          "output_type": "stream",
          "text": [
            "p-значение: 1.8850394384715216e-31\n",
            "Отвергаем нулевую гипотезу: выручка от пользователей с подпиской больше\n"
          ]
        }
      ],
      "source": [
        "\n",
        "\n",
        "alpha = 0.05\n",
        "results = st.ttest_ind(full_sum_ultra, full_sum_free, alternative = 'greater')\n",
        "\n",
        "print('p-значение:', results.pvalue )\n",
        "\n",
        "\n",
        "if results.pvalue < alpha:\n",
        "    print('Отвергаем нулевую гипотезу: выручка от пользователей с подпиской больше')\n",
        "else:\n",
        "    print('Не получилось отвергнуть нулевую гипотезу: выручка от пользователей с подпиской не больше')"
      ]
    },
    {
      "cell_type": "markdown",
      "id": "323cdf64",
      "metadata": {
        "id": "323cdf64"
      },
      "source": [
        "Проверим среднее значение выручки."
      ]
    },
    {
      "cell_type": "code",
      "execution_count": null,
      "id": "767b1818",
      "metadata": {
        "id": "767b1818",
        "outputId": "82714fe3-e8e2-4665-bc09-e066ab895d33"
      },
      "outputs": [
        {
          "name": "stdout",
          "output_type": "stream",
          "text": [
            "средняя выручка для пользователей без подписки: 328.6413651073845\n",
            "средняя выручка для пользователей с подпиской: 362.7921906022502\n"
          ]
        }
      ],
      "source": [
        "print('средняя выручка для пользователей без подписки:', full_sum_free.mean())\n",
        "print('средняя выручка для пользователей с подпиской:', full_sum_ultra.mean())"
      ]
    },
    {
      "cell_type": "markdown",
      "id": "4287212c",
      "metadata": {
        "id": "4287212c"
      },
      "source": [
        "Итак, получаем, что пользователи с подпиской в среднем проезжают большее расстояние, чем пользователи без подписки. При этом расстояние оптимально с точки зрения износа самоката. И выручка от пользователей с подпиской больше."
      ]
    },
    {
      "cell_type": "markdown",
      "id": "c9d4e5e7",
      "metadata": {
        "id": "c9d4e5e7"
      },
      "source": [
        "##### Теоретическая ситуация"
      ]
    },
    {
      "cell_type": "markdown",
      "id": "520926b8",
      "metadata": {
        "id": "520926b8"
      },
      "source": [
        "Представим такую ситуацию: техническая команда сервиса обновила сервера, с которыми взаимодействует мобильное приложение. Она надеется, что из-за этого количество обращений в техподдержку значимо снизилось. Некоторый файл содержит для каждого пользователя данные о количестве обращений до обновления и после него. Какой тест мне понадобился бы для проверки этой гипотезы?\n",
        "Формулировал бы гипотезы следующим образом:\n",
        "1. Нулевая - количество обращений до и после обновления серверов не изменилось.\n",
        "2. Альтернативная - количество обращений после обновления серверов снизилось.\n",
        "Я бы предложил использовать тест для проверки односторонней гипотезы ttest_ind(alternative = 'less'). Как раз, чтобы проверить, уменьшилось количество обращений или нет."
      ]
    },
    {
      "cell_type": "markdown",
      "id": "076e0c00",
      "metadata": {
        "id": "076e0c00"
      },
      "source": [
        "# Выводы\n",
        "Для выполнения проекта предоставлено 3 файла:\n",
        "1. С данными о пользователях (id, имя, возраст, город, тип подписки);\n",
        "2. С данными о поездках (id, расстояние, длительность);\n",
        "3. С данными по тарифам - абонентская плата, стоимость минуты поездки.\n",
        "Проведена предобработка данных, убраны дубликаты из файла \"пользователи\". Даты в файле \"поездки\" переведены в формат даты Pandas. Таким образом, данные подготовлены для работы.\n",
        "- На основе проделанной работы можно сделать следующие выводы:\n",
        "1. В предоставленной выборке наиболее часто встречающийся город - Пятигорск.\n",
        "2. Большая часть пользователей (54,4%) пользуется самокатами без подписки.\n",
        "3. Средний возраст пользователей - 25 лет. Наибольшее число пользователей в возрасте 22-27 лет.\n",
        "4. Среднее расстояние, которое проезжают пользователи примерно 3000-3100. Наибольшее число пользователей проезжают дистанцию 2800-3300. Малый пик находится на расстоянии 800 м. Возможно, самокат данной группе пользователей нужен, чтобы добраться до остановки.\n",
        "5. Для пользователей без подписки характерны поездки на расстояние в среднем 2500 м и длительностью 17-18 минут.\n",
        "6. Для пользователей с подпиской характерны поездки на расстояние в среднем 3100 м и длительностью 16-17 минут.\n",
        "7. Распределения расстояния и длительности поездок для обеих категорий пользователей носят одинаковый характер - бимодальное распределение для расстояния и нормальное для времени. Распределения для пользователей без подписки более \"широкие\", пики более гладкие, чем для распределений пользователей с подпиской.\n",
        "8. Пользователи с подпиской тратят больше времени на поездки.\n",
        "9. Пользователи с подпиской преодолевают расстояние, оптимальное с точки зрения износа самоката - менее 3130 метров (3115 метров).\n",
        "10. Выручка, приносимая пользователями с подпиской выше, чем пользователями без подписки."
      ]
    },
    {
      "cell_type": "code",
      "execution_count": null,
      "id": "17f2a70f",
      "metadata": {
        "id": "17f2a70f"
      },
      "outputs": [],
      "source": []
    }
  ],
  "metadata": {
    "ExecuteTimeLog": [
      {
        "duration": 790,
        "start_time": "2023-05-21T14:36:37.148Z"
      },
      {
        "duration": 183,
        "start_time": "2023-05-21T14:47:17.582Z"
      },
      {
        "duration": 12,
        "start_time": "2023-05-21T14:49:32.379Z"
      },
      {
        "duration": 14,
        "start_time": "2023-05-21T14:50:04.967Z"
      },
      {
        "duration": 13,
        "start_time": "2023-05-21T14:52:22.589Z"
      },
      {
        "duration": 10,
        "start_time": "2023-05-21T14:52:58.256Z"
      },
      {
        "duration": 7,
        "start_time": "2023-05-21T14:55:15.452Z"
      },
      {
        "duration": 10,
        "start_time": "2023-05-21T14:57:52.272Z"
      },
      {
        "duration": 16,
        "start_time": "2023-05-21T15:00:12.658Z"
      },
      {
        "duration": 15,
        "start_time": "2023-05-21T15:00:34.045Z"
      },
      {
        "duration": 18,
        "start_time": "2023-05-21T15:01:20.452Z"
      },
      {
        "duration": 8,
        "start_time": "2023-05-21T15:09:01.658Z"
      },
      {
        "duration": 13,
        "start_time": "2023-05-21T15:10:37.308Z"
      },
      {
        "duration": 9,
        "start_time": "2023-05-21T15:15:29.140Z"
      },
      {
        "duration": 993,
        "start_time": "2023-05-22T13:26:52.580Z"
      },
      {
        "duration": 388,
        "start_time": "2023-05-22T13:26:56.182Z"
      },
      {
        "duration": 39,
        "start_time": "2023-05-22T13:26:58.119Z"
      },
      {
        "duration": 25,
        "start_time": "2023-05-22T13:26:59.315Z"
      },
      {
        "duration": 14,
        "start_time": "2023-05-22T13:27:01.139Z"
      },
      {
        "duration": 9,
        "start_time": "2023-05-22T13:27:07.262Z"
      },
      {
        "duration": 21,
        "start_time": "2023-05-22T13:27:09.419Z"
      },
      {
        "duration": 5,
        "start_time": "2023-05-22T13:27:11.635Z"
      },
      {
        "duration": 23,
        "start_time": "2023-05-22T13:27:55.895Z"
      },
      {
        "duration": 125,
        "start_time": "2023-05-22T13:28:43.333Z"
      },
      {
        "duration": 1033,
        "start_time": "2023-05-22T13:28:55.912Z"
      },
      {
        "duration": 166,
        "start_time": "2023-05-22T13:28:56.948Z"
      },
      {
        "duration": 60,
        "start_time": "2023-05-22T13:28:57.243Z"
      },
      {
        "duration": 37,
        "start_time": "2023-05-22T13:28:57.561Z"
      },
      {
        "duration": 50,
        "start_time": "2023-05-22T13:28:57.888Z"
      },
      {
        "duration": 14,
        "start_time": "2023-05-22T13:28:59.136Z"
      },
      {
        "duration": 25,
        "start_time": "2023-05-22T13:28:59.977Z"
      },
      {
        "duration": 4,
        "start_time": "2023-05-22T13:29:03.650Z"
      },
      {
        "duration": 19,
        "start_time": "2023-05-22T13:29:06.707Z"
      },
      {
        "duration": 9,
        "start_time": "2023-05-22T13:34:22.171Z"
      },
      {
        "duration": 6,
        "start_time": "2023-05-22T13:38:08.462Z"
      },
      {
        "duration": 17,
        "start_time": "2023-05-22T13:38:28.081Z"
      },
      {
        "duration": 10,
        "start_time": "2023-05-22T13:43:51.132Z"
      },
      {
        "duration": 6,
        "start_time": "2023-05-22T13:44:49.960Z"
      },
      {
        "duration": 1896,
        "start_time": "2023-05-22T13:47:14.249Z"
      },
      {
        "duration": 1770,
        "start_time": "2023-05-22T13:47:40.543Z"
      },
      {
        "duration": 24,
        "start_time": "2023-05-22T13:48:42.212Z"
      },
      {
        "duration": 9,
        "start_time": "2023-05-22T13:48:52.039Z"
      },
      {
        "duration": 31,
        "start_time": "2023-05-22T13:50:18.904Z"
      },
      {
        "duration": 36,
        "start_time": "2023-05-22T13:52:00.131Z"
      },
      {
        "duration": 6,
        "start_time": "2023-05-22T13:54:13.859Z"
      },
      {
        "duration": 5,
        "start_time": "2023-05-22T13:54:50.371Z"
      },
      {
        "duration": 16,
        "start_time": "2023-05-22T13:54:59.502Z"
      },
      {
        "duration": 23,
        "start_time": "2023-05-22T13:54:59.611Z"
      },
      {
        "duration": 16,
        "start_time": "2023-05-22T13:55:16.723Z"
      },
      {
        "duration": 10,
        "start_time": "2023-05-22T13:55:27.549Z"
      },
      {
        "duration": 11,
        "start_time": "2023-05-22T13:55:27.647Z"
      },
      {
        "duration": 14,
        "start_time": "2023-05-22T13:55:35.534Z"
      },
      {
        "duration": 23,
        "start_time": "2023-05-22T13:55:35.627Z"
      },
      {
        "duration": 17,
        "start_time": "2023-05-22T13:57:42.630Z"
      },
      {
        "duration": 17,
        "start_time": "2023-05-22T14:03:21.980Z"
      },
      {
        "duration": 19,
        "start_time": "2023-05-22T14:04:16.007Z"
      },
      {
        "duration": 5,
        "start_time": "2023-05-22T14:05:21.436Z"
      },
      {
        "duration": 33,
        "start_time": "2023-05-22T14:05:49.543Z"
      },
      {
        "duration": 49,
        "start_time": "2023-05-22T14:10:43.309Z"
      },
      {
        "duration": 243,
        "start_time": "2023-05-22T14:21:05.267Z"
      },
      {
        "duration": 36,
        "start_time": "2023-05-22T14:22:09.134Z"
      },
      {
        "duration": 267,
        "start_time": "2023-05-22T14:24:49.487Z"
      },
      {
        "duration": 149,
        "start_time": "2023-05-22T14:37:20.444Z"
      },
      {
        "duration": 68,
        "start_time": "2023-05-22T16:04:00.406Z"
      },
      {
        "duration": 952,
        "start_time": "2023-05-22T16:04:18.452Z"
      },
      {
        "duration": 533,
        "start_time": "2023-05-22T16:04:19.406Z"
      },
      {
        "duration": 33,
        "start_time": "2023-05-22T16:04:19.941Z"
      },
      {
        "duration": 20,
        "start_time": "2023-05-22T16:04:19.976Z"
      },
      {
        "duration": 17,
        "start_time": "2023-05-22T16:04:20.195Z"
      },
      {
        "duration": 11,
        "start_time": "2023-05-22T16:04:21.306Z"
      },
      {
        "duration": 18,
        "start_time": "2023-05-22T16:04:21.672Z"
      },
      {
        "duration": 6,
        "start_time": "2023-05-22T16:04:22.202Z"
      },
      {
        "duration": 11,
        "start_time": "2023-05-22T16:04:22.577Z"
      },
      {
        "duration": 17,
        "start_time": "2023-05-22T16:04:23.343Z"
      },
      {
        "duration": 5,
        "start_time": "2023-05-22T16:04:23.746Z"
      },
      {
        "duration": 9,
        "start_time": "2023-05-22T16:04:24.168Z"
      },
      {
        "duration": 15,
        "start_time": "2023-05-22T16:04:24.596Z"
      },
      {
        "duration": 9,
        "start_time": "2023-05-22T16:04:26.299Z"
      },
      {
        "duration": 258,
        "start_time": "2023-05-22T16:04:28.894Z"
      },
      {
        "duration": 157,
        "start_time": "2023-05-22T16:04:32.329Z"
      },
      {
        "duration": 102,
        "start_time": "2023-05-22T16:04:33.245Z"
      },
      {
        "duration": 13,
        "start_time": "2023-05-22T16:04:53.678Z"
      },
      {
        "duration": 16,
        "start_time": "2023-05-22T16:05:30.212Z"
      },
      {
        "duration": 138,
        "start_time": "2023-05-22T16:07:16.079Z"
      },
      {
        "duration": 13,
        "start_time": "2023-05-22T16:07:54.961Z"
      },
      {
        "duration": 131,
        "start_time": "2023-05-22T16:07:55.043Z"
      },
      {
        "duration": 231,
        "start_time": "2023-05-22T16:08:27.345Z"
      },
      {
        "duration": 13,
        "start_time": "2023-05-22T16:13:10.521Z"
      },
      {
        "duration": 212,
        "start_time": "2023-05-22T16:14:42.512Z"
      },
      {
        "duration": 14,
        "start_time": "2023-05-22T16:15:52.400Z"
      },
      {
        "duration": 176,
        "start_time": "2023-05-22T16:16:36.279Z"
      },
      {
        "duration": 126,
        "start_time": "2023-05-22T16:17:10.384Z"
      },
      {
        "duration": 12,
        "start_time": "2023-05-22T16:18:39.572Z"
      },
      {
        "duration": 130,
        "start_time": "2023-05-22T16:19:13.775Z"
      },
      {
        "duration": 141,
        "start_time": "2023-05-22T16:20:13.774Z"
      },
      {
        "duration": 24,
        "start_time": "2023-05-22T16:20:50.077Z"
      },
      {
        "duration": 149,
        "start_time": "2023-05-22T16:21:22.078Z"
      },
      {
        "duration": 133,
        "start_time": "2023-05-22T16:21:41.544Z"
      },
      {
        "duration": 176,
        "start_time": "2023-05-22T16:22:23.817Z"
      },
      {
        "duration": 146,
        "start_time": "2023-05-22T16:24:50.792Z"
      },
      {
        "duration": 159,
        "start_time": "2023-05-22T16:28:11.041Z"
      },
      {
        "duration": 296,
        "start_time": "2023-05-22T16:28:24.154Z"
      },
      {
        "duration": 181,
        "start_time": "2023-05-22T16:28:35.546Z"
      },
      {
        "duration": 200,
        "start_time": "2023-05-22T16:28:49.546Z"
      },
      {
        "duration": 291,
        "start_time": "2023-05-22T16:29:01.871Z"
      },
      {
        "duration": 19684,
        "start_time": "2023-05-22T16:30:15.918Z"
      },
      {
        "duration": 162,
        "start_time": "2023-05-22T16:30:44.413Z"
      },
      {
        "duration": 162,
        "start_time": "2023-05-22T16:30:57.575Z"
      },
      {
        "duration": 393,
        "start_time": "2023-05-22T16:31:05.316Z"
      },
      {
        "duration": 181,
        "start_time": "2023-05-22T16:31:20.154Z"
      },
      {
        "duration": 180,
        "start_time": "2023-05-22T16:31:30.581Z"
      },
      {
        "duration": 187,
        "start_time": "2023-05-22T16:31:39.783Z"
      },
      {
        "duration": 226,
        "start_time": "2023-05-22T16:31:59.651Z"
      },
      {
        "duration": 5,
        "start_time": "2023-05-22T16:38:55.119Z"
      },
      {
        "duration": 5,
        "start_time": "2023-05-22T16:39:15.996Z"
      },
      {
        "duration": 154,
        "start_time": "2023-05-22T16:46:13.645Z"
      },
      {
        "duration": 280,
        "start_time": "2023-05-22T16:46:51.094Z"
      },
      {
        "duration": 915,
        "start_time": "2023-05-22T23:20:29.223Z"
      },
      {
        "duration": 342,
        "start_time": "2023-05-22T23:20:31.719Z"
      },
      {
        "duration": 23,
        "start_time": "2023-05-22T23:20:32.242Z"
      },
      {
        "duration": 56,
        "start_time": "2023-05-22T23:20:32.598Z"
      },
      {
        "duration": 12,
        "start_time": "2023-05-22T23:20:32.950Z"
      },
      {
        "duration": 33,
        "start_time": "2023-05-22T23:20:33.981Z"
      },
      {
        "duration": 15,
        "start_time": "2023-05-22T23:20:34.340Z"
      },
      {
        "duration": 4,
        "start_time": "2023-05-22T23:20:34.854Z"
      },
      {
        "duration": 22,
        "start_time": "2023-05-22T23:20:35.234Z"
      },
      {
        "duration": 13,
        "start_time": "2023-05-22T23:20:35.950Z"
      },
      {
        "duration": 15,
        "start_time": "2023-05-22T23:20:36.335Z"
      },
      {
        "duration": 9,
        "start_time": "2023-05-22T23:20:36.719Z"
      },
      {
        "duration": 33,
        "start_time": "2023-05-22T23:20:37.115Z"
      },
      {
        "duration": 23,
        "start_time": "2023-05-22T23:20:37.519Z"
      },
      {
        "duration": 280,
        "start_time": "2023-05-22T23:20:38.342Z"
      },
      {
        "duration": 169,
        "start_time": "2023-05-22T23:20:40.179Z"
      },
      {
        "duration": 187,
        "start_time": "2023-05-22T23:20:46.165Z"
      },
      {
        "duration": 143,
        "start_time": "2023-05-22T23:20:51.219Z"
      },
      {
        "duration": 263,
        "start_time": "2023-05-22T23:20:59.615Z"
      },
      {
        "duration": 254,
        "start_time": "2023-05-22T23:20:59.880Z"
      },
      {
        "duration": 139,
        "start_time": "2023-05-22T23:21:00.138Z"
      },
      {
        "duration": 257,
        "start_time": "2023-05-22T23:21:00.582Z"
      },
      {
        "duration": 367,
        "start_time": "2023-05-22T23:23:10.343Z"
      },
      {
        "duration": 4,
        "start_time": "2023-05-22T23:30:19.716Z"
      },
      {
        "duration": 10,
        "start_time": "2023-05-22T23:30:32.138Z"
      },
      {
        "duration": 10,
        "start_time": "2023-05-22T23:44:22.812Z"
      },
      {
        "duration": 13,
        "start_time": "2023-05-22T23:44:50.833Z"
      },
      {
        "duration": 4,
        "start_time": "2023-05-22T23:45:40.879Z"
      },
      {
        "duration": 936,
        "start_time": "2023-05-23T13:26:20.618Z"
      },
      {
        "duration": 230,
        "start_time": "2023-05-23T13:26:22.884Z"
      },
      {
        "duration": 27,
        "start_time": "2023-05-23T13:26:23.195Z"
      },
      {
        "duration": 28,
        "start_time": "2023-05-23T13:26:23.586Z"
      },
      {
        "duration": 24,
        "start_time": "2023-05-23T13:26:23.928Z"
      },
      {
        "duration": 13,
        "start_time": "2023-05-23T13:26:25.075Z"
      },
      {
        "duration": 16,
        "start_time": "2023-05-23T13:26:25.457Z"
      },
      {
        "duration": 8,
        "start_time": "2023-05-23T13:26:26.034Z"
      },
      {
        "duration": 15,
        "start_time": "2023-05-23T13:26:26.448Z"
      },
      {
        "duration": 14,
        "start_time": "2023-05-23T13:26:27.327Z"
      },
      {
        "duration": 8,
        "start_time": "2023-05-23T13:26:27.723Z"
      },
      {
        "duration": 6,
        "start_time": "2023-05-23T13:26:28.105Z"
      },
      {
        "duration": 18,
        "start_time": "2023-05-23T13:26:28.509Z"
      },
      {
        "duration": 11,
        "start_time": "2023-05-23T13:26:28.929Z"
      },
      {
        "duration": 184,
        "start_time": "2023-05-23T13:26:29.704Z"
      },
      {
        "duration": 145,
        "start_time": "2023-05-23T13:26:30.314Z"
      },
      {
        "duration": 159,
        "start_time": "2023-05-23T13:26:31.032Z"
      },
      {
        "duration": 315,
        "start_time": "2023-05-23T13:26:31.193Z"
      },
      {
        "duration": 391,
        "start_time": "2023-05-23T13:26:31.510Z"
      },
      {
        "duration": 191,
        "start_time": "2023-05-23T13:26:31.907Z"
      },
      {
        "duration": 153,
        "start_time": "2023-05-23T13:26:32.100Z"
      },
      {
        "duration": 7,
        "start_time": "2023-05-23T13:33:15.715Z"
      },
      {
        "duration": 215,
        "start_time": "2023-05-23T13:33:35.676Z"
      },
      {
        "duration": 313,
        "start_time": "2023-05-23T13:33:54.509Z"
      },
      {
        "duration": 10,
        "start_time": "2023-05-23T14:05:56.798Z"
      },
      {
        "duration": 913,
        "start_time": "2023-05-23T14:12:05.558Z"
      },
      {
        "duration": 117,
        "start_time": "2023-05-23T14:12:06.474Z"
      },
      {
        "duration": 26,
        "start_time": "2023-05-23T14:12:06.593Z"
      },
      {
        "duration": 25,
        "start_time": "2023-05-23T14:12:06.885Z"
      },
      {
        "duration": 19,
        "start_time": "2023-05-23T14:12:07.204Z"
      },
      {
        "duration": 13,
        "start_time": "2023-05-23T14:12:08.172Z"
      },
      {
        "duration": 17,
        "start_time": "2023-05-23T14:12:08.527Z"
      },
      {
        "duration": 7,
        "start_time": "2023-05-23T14:12:09.021Z"
      },
      {
        "duration": 17,
        "start_time": "2023-05-23T14:12:09.366Z"
      },
      {
        "duration": 13,
        "start_time": "2023-05-23T14:12:10.055Z"
      },
      {
        "duration": 6,
        "start_time": "2023-05-23T14:12:10.404Z"
      },
      {
        "duration": 6,
        "start_time": "2023-05-23T14:12:10.947Z"
      },
      {
        "duration": 20,
        "start_time": "2023-05-23T14:12:11.325Z"
      },
      {
        "duration": 15,
        "start_time": "2023-05-23T14:12:11.682Z"
      },
      {
        "duration": 246,
        "start_time": "2023-05-23T14:12:12.365Z"
      },
      {
        "duration": 155,
        "start_time": "2023-05-23T14:12:12.897Z"
      },
      {
        "duration": 162,
        "start_time": "2023-05-23T14:12:13.264Z"
      },
      {
        "duration": 203,
        "start_time": "2023-05-23T14:12:13.498Z"
      },
      {
        "duration": 228,
        "start_time": "2023-05-23T14:12:13.706Z"
      },
      {
        "duration": 174,
        "start_time": "2023-05-23T14:12:13.937Z"
      },
      {
        "duration": 185,
        "start_time": "2023-05-23T14:12:14.113Z"
      },
      {
        "duration": 223,
        "start_time": "2023-05-23T14:12:14.497Z"
      },
      {
        "duration": 9,
        "start_time": "2023-05-23T14:12:14.844Z"
      },
      {
        "duration": 295,
        "start_time": "2023-05-23T14:12:15.047Z"
      },
      {
        "duration": 338,
        "start_time": "2023-05-23T14:12:16.795Z"
      },
      {
        "duration": 153,
        "start_time": "2023-05-23T14:12:19.661Z"
      },
      {
        "duration": 21,
        "start_time": "2023-05-23T14:13:26.097Z"
      },
      {
        "duration": 60,
        "start_time": "2023-05-23T14:15:28.898Z"
      },
      {
        "duration": 33966,
        "start_time": "2023-05-23T14:17:39.492Z"
      },
      {
        "duration": 221,
        "start_time": "2023-05-23T14:19:22.551Z"
      },
      {
        "duration": 17,
        "start_time": "2023-05-23T14:19:53.209Z"
      },
      {
        "duration": 24588,
        "start_time": "2023-05-23T14:24:15.990Z"
      },
      {
        "duration": 21627,
        "start_time": "2023-05-23T14:25:15.551Z"
      },
      {
        "duration": 32,
        "start_time": "2023-05-23T14:35:46.233Z"
      },
      {
        "duration": 361,
        "start_time": "2023-05-23T14:48:52.769Z"
      },
      {
        "duration": 2014,
        "start_time": "2023-05-23T14:51:19.093Z"
      },
      {
        "duration": 171,
        "start_time": "2023-05-23T14:51:53.438Z"
      },
      {
        "duration": 1425,
        "start_time": "2023-05-23T14:52:24.540Z"
      },
      {
        "duration": 20847,
        "start_time": "2023-05-23T14:53:23.239Z"
      },
      {
        "duration": 82,
        "start_time": "2023-05-23T14:54:21.169Z"
      },
      {
        "duration": 1504,
        "start_time": "2023-05-23T14:54:30.500Z"
      },
      {
        "duration": 705,
        "start_time": "2023-05-23T14:55:08.269Z"
      },
      {
        "duration": 74,
        "start_time": "2023-05-23T14:55:09.174Z"
      },
      {
        "duration": 27,
        "start_time": "2023-05-23T14:55:09.516Z"
      },
      {
        "duration": 21,
        "start_time": "2023-05-23T14:55:09.897Z"
      },
      {
        "duration": 16,
        "start_time": "2023-05-23T14:55:10.245Z"
      },
      {
        "duration": 9,
        "start_time": "2023-05-23T14:55:11.334Z"
      },
      {
        "duration": 12,
        "start_time": "2023-05-23T14:55:11.735Z"
      },
      {
        "duration": 7,
        "start_time": "2023-05-23T14:55:12.219Z"
      },
      {
        "duration": 12,
        "start_time": "2023-05-23T14:55:12.564Z"
      },
      {
        "duration": 12,
        "start_time": "2023-05-23T14:55:13.281Z"
      },
      {
        "duration": 5,
        "start_time": "2023-05-23T14:55:13.767Z"
      },
      {
        "duration": 6,
        "start_time": "2023-05-23T14:55:14.117Z"
      },
      {
        "duration": 16,
        "start_time": "2023-05-23T14:55:14.499Z"
      },
      {
        "duration": 9,
        "start_time": "2023-05-23T14:55:15.038Z"
      },
      {
        "duration": 201,
        "start_time": "2023-05-23T14:55:15.770Z"
      },
      {
        "duration": 132,
        "start_time": "2023-05-23T14:55:16.315Z"
      },
      {
        "duration": 142,
        "start_time": "2023-05-23T14:55:16.672Z"
      },
      {
        "duration": 150,
        "start_time": "2023-05-23T14:55:16.875Z"
      },
      {
        "duration": 195,
        "start_time": "2023-05-23T14:55:17.082Z"
      },
      {
        "duration": 156,
        "start_time": "2023-05-23T14:55:17.279Z"
      },
      {
        "duration": 155,
        "start_time": "2023-05-23T14:55:17.475Z"
      },
      {
        "duration": 189,
        "start_time": "2023-05-23T14:55:18.091Z"
      },
      {
        "duration": 7,
        "start_time": "2023-05-23T14:55:19.674Z"
      },
      {
        "duration": 234,
        "start_time": "2023-05-23T14:55:20.356Z"
      },
      {
        "duration": 290,
        "start_time": "2023-05-23T14:55:22.735Z"
      },
      {
        "duration": 11,
        "start_time": "2023-05-23T14:55:24.372Z"
      },
      {
        "duration": 1545,
        "start_time": "2023-05-23T14:55:55.814Z"
      },
      {
        "duration": 1727,
        "start_time": "2023-05-23T14:56:24.788Z"
      },
      {
        "duration": 1944,
        "start_time": "2023-05-23T14:56:58.934Z"
      },
      {
        "duration": 216,
        "start_time": "2023-05-23T14:57:38.800Z"
      },
      {
        "duration": 20,
        "start_time": "2023-05-23T15:01:21.269Z"
      },
      {
        "duration": 18,
        "start_time": "2023-05-23T15:05:09.478Z"
      },
      {
        "duration": 19,
        "start_time": "2023-05-23T15:05:31.517Z"
      },
      {
        "duration": 10,
        "start_time": "2023-05-23T15:06:20.454Z"
      },
      {
        "duration": 18,
        "start_time": "2023-05-23T15:06:41.781Z"
      },
      {
        "duration": 18,
        "start_time": "2023-05-23T15:12:59.146Z"
      },
      {
        "duration": 224,
        "start_time": "2023-05-23T15:13:18.761Z"
      },
      {
        "duration": 165,
        "start_time": "2023-05-23T15:15:00.287Z"
      },
      {
        "duration": 1435,
        "start_time": "2023-05-23T15:15:22.845Z"
      },
      {
        "duration": 128,
        "start_time": "2023-05-23T15:17:04.296Z"
      },
      {
        "duration": 120,
        "start_time": "2023-05-23T15:17:23.591Z"
      },
      {
        "duration": 18,
        "start_time": "2023-05-23T15:18:47.236Z"
      },
      {
        "duration": 20,
        "start_time": "2023-05-23T15:19:19.054Z"
      },
      {
        "duration": 1720,
        "start_time": "2023-05-23T15:19:50.854Z"
      },
      {
        "duration": 20272,
        "start_time": "2023-05-23T15:22:29.773Z"
      },
      {
        "duration": 159,
        "start_time": "2023-05-23T15:23:47.280Z"
      },
      {
        "duration": 312,
        "start_time": "2023-05-23T15:24:18.792Z"
      },
      {
        "duration": 306,
        "start_time": "2023-05-23T15:25:59.836Z"
      },
      {
        "duration": 8,
        "start_time": "2023-05-23T15:30:25.545Z"
      },
      {
        "duration": 20,
        "start_time": "2023-05-23T15:30:35.588Z"
      },
      {
        "duration": 623,
        "start_time": "2023-05-23T15:32:42.130Z"
      },
      {
        "duration": 73,
        "start_time": "2023-05-23T15:32:44.034Z"
      },
      {
        "duration": 25,
        "start_time": "2023-05-23T15:32:46.432Z"
      },
      {
        "duration": 23,
        "start_time": "2023-05-23T15:32:48.077Z"
      },
      {
        "duration": 17,
        "start_time": "2023-05-23T15:32:51.948Z"
      },
      {
        "duration": 17,
        "start_time": "2023-05-23T15:33:10.851Z"
      },
      {
        "duration": 9,
        "start_time": "2023-05-23T15:33:12.275Z"
      },
      {
        "duration": 11,
        "start_time": "2023-05-23T15:33:12.644Z"
      },
      {
        "duration": 6,
        "start_time": "2023-05-23T15:33:13.145Z"
      },
      {
        "duration": 11,
        "start_time": "2023-05-23T15:33:13.473Z"
      },
      {
        "duration": 11,
        "start_time": "2023-05-23T15:33:14.171Z"
      },
      {
        "duration": 5,
        "start_time": "2023-05-23T15:33:14.546Z"
      },
      {
        "duration": 5,
        "start_time": "2023-05-23T15:33:14.890Z"
      },
      {
        "duration": 16,
        "start_time": "2023-05-23T15:33:15.249Z"
      },
      {
        "duration": 9,
        "start_time": "2023-05-23T15:33:15.637Z"
      },
      {
        "duration": 169,
        "start_time": "2023-05-23T15:33:16.379Z"
      },
      {
        "duration": 144,
        "start_time": "2023-05-23T15:33:17.369Z"
      },
      {
        "duration": 148,
        "start_time": "2023-05-23T15:33:17.935Z"
      },
      {
        "duration": 150,
        "start_time": "2023-05-23T15:33:18.193Z"
      },
      {
        "duration": 205,
        "start_time": "2023-05-23T15:33:18.632Z"
      },
      {
        "duration": 124,
        "start_time": "2023-05-23T15:33:19.107Z"
      },
      {
        "duration": 125,
        "start_time": "2023-05-23T15:33:19.938Z"
      },
      {
        "duration": 193,
        "start_time": "2023-05-23T15:33:21.572Z"
      },
      {
        "duration": 7,
        "start_time": "2023-05-23T15:33:22.016Z"
      },
      {
        "duration": 230,
        "start_time": "2023-05-23T15:33:22.594Z"
      },
      {
        "duration": 263,
        "start_time": "2023-05-23T15:33:24.638Z"
      },
      {
        "duration": 308,
        "start_time": "2023-05-23T15:33:25.283Z"
      },
      {
        "duration": 367,
        "start_time": "2023-05-23T15:33:25.906Z"
      },
      {
        "duration": 12,
        "start_time": "2023-05-23T15:40:37.011Z"
      },
      {
        "duration": 29,
        "start_time": "2023-05-23T15:41:31.987Z"
      },
      {
        "duration": 81,
        "start_time": "2023-05-23T15:43:37.998Z"
      },
      {
        "duration": 691,
        "start_time": "2023-05-23T15:45:14.957Z"
      },
      {
        "duration": 74,
        "start_time": "2023-05-23T15:45:15.650Z"
      },
      {
        "duration": 30,
        "start_time": "2023-05-23T15:45:15.950Z"
      },
      {
        "duration": 20,
        "start_time": "2023-05-23T15:45:16.290Z"
      },
      {
        "duration": 16,
        "start_time": "2023-05-23T15:45:16.594Z"
      },
      {
        "duration": 9,
        "start_time": "2023-05-23T15:45:17.712Z"
      },
      {
        "duration": 13,
        "start_time": "2023-05-23T15:45:17.996Z"
      },
      {
        "duration": 6,
        "start_time": "2023-05-23T15:45:18.547Z"
      },
      {
        "duration": 12,
        "start_time": "2023-05-23T15:45:18.862Z"
      },
      {
        "duration": 11,
        "start_time": "2023-05-23T15:45:19.579Z"
      },
      {
        "duration": 5,
        "start_time": "2023-05-23T15:45:19.946Z"
      },
      {
        "duration": 5,
        "start_time": "2023-05-23T15:45:20.284Z"
      },
      {
        "duration": 15,
        "start_time": "2023-05-23T15:45:20.973Z"
      },
      {
        "duration": 10,
        "start_time": "2023-05-23T15:45:21.365Z"
      },
      {
        "duration": 162,
        "start_time": "2023-05-23T15:45:21.964Z"
      },
      {
        "duration": 129,
        "start_time": "2023-05-23T15:45:22.610Z"
      },
      {
        "duration": 144,
        "start_time": "2023-05-23T15:45:23.047Z"
      },
      {
        "duration": 150,
        "start_time": "2023-05-23T15:45:23.373Z"
      },
      {
        "duration": 192,
        "start_time": "2023-05-23T15:45:24.046Z"
      },
      {
        "duration": 141,
        "start_time": "2023-05-23T15:45:24.240Z"
      },
      {
        "duration": 137,
        "start_time": "2023-05-23T15:45:24.668Z"
      },
      {
        "duration": 182,
        "start_time": "2023-05-23T15:45:26.188Z"
      },
      {
        "duration": 7,
        "start_time": "2023-05-23T15:45:26.776Z"
      },
      {
        "duration": 187,
        "start_time": "2023-05-23T15:45:27.102Z"
      },
      {
        "duration": 284,
        "start_time": "2023-05-23T15:45:28.553Z"
      },
      {
        "duration": 301,
        "start_time": "2023-05-23T15:45:29.158Z"
      },
      {
        "duration": 308,
        "start_time": "2023-05-23T15:45:29.654Z"
      },
      {
        "duration": 19,
        "start_time": "2023-05-23T15:45:32.603Z"
      },
      {
        "duration": 3,
        "start_time": "2023-05-23T15:47:01.446Z"
      },
      {
        "duration": 26,
        "start_time": "2023-05-23T15:47:04.843Z"
      },
      {
        "duration": 775,
        "start_time": "2023-05-23T23:32:45.526Z"
      },
      {
        "duration": 204,
        "start_time": "2023-05-23T23:32:46.322Z"
      },
      {
        "duration": 22,
        "start_time": "2023-05-23T23:32:47.043Z"
      },
      {
        "duration": 17,
        "start_time": "2023-05-23T23:32:47.394Z"
      },
      {
        "duration": 14,
        "start_time": "2023-05-23T23:32:47.731Z"
      },
      {
        "duration": 8,
        "start_time": "2023-05-23T23:32:48.817Z"
      },
      {
        "duration": 10,
        "start_time": "2023-05-23T23:32:49.138Z"
      },
      {
        "duration": 5,
        "start_time": "2023-05-23T23:32:49.666Z"
      },
      {
        "duration": 10,
        "start_time": "2023-05-23T23:32:50.034Z"
      },
      {
        "duration": 10,
        "start_time": "2023-05-23T23:32:50.731Z"
      },
      {
        "duration": 5,
        "start_time": "2023-05-23T23:32:51.074Z"
      },
      {
        "duration": 4,
        "start_time": "2023-05-23T23:32:51.411Z"
      },
      {
        "duration": 13,
        "start_time": "2023-05-23T23:32:51.747Z"
      },
      {
        "duration": 9,
        "start_time": "2023-05-23T23:32:52.105Z"
      },
      {
        "duration": 139,
        "start_time": "2023-05-23T23:32:52.826Z"
      },
      {
        "duration": 108,
        "start_time": "2023-05-23T23:32:53.604Z"
      },
      {
        "duration": 117,
        "start_time": "2023-05-23T23:32:53.940Z"
      },
      {
        "duration": 172,
        "start_time": "2023-05-23T23:32:54.154Z"
      },
      {
        "duration": 105,
        "start_time": "2023-05-23T23:32:54.346Z"
      },
      {
        "duration": 136,
        "start_time": "2023-05-23T23:32:54.540Z"
      },
      {
        "duration": 110,
        "start_time": "2023-05-23T23:32:54.713Z"
      },
      {
        "duration": 164,
        "start_time": "2023-05-23T23:32:55.360Z"
      },
      {
        "duration": 6,
        "start_time": "2023-05-23T23:32:55.771Z"
      },
      {
        "duration": 161,
        "start_time": "2023-05-23T23:32:56.226Z"
      },
      {
        "duration": 257,
        "start_time": "2023-05-23T23:32:56.995Z"
      },
      {
        "duration": 249,
        "start_time": "2023-05-23T23:32:57.569Z"
      },
      {
        "duration": 311,
        "start_time": "2023-05-23T23:32:58.194Z"
      },
      {
        "duration": 3,
        "start_time": "2023-05-23T23:32:59.627Z"
      },
      {
        "duration": 9,
        "start_time": "2023-05-23T23:33:00.232Z"
      },
      {
        "duration": 11,
        "start_time": "2023-05-23T23:33:38.523Z"
      },
      {
        "duration": 876,
        "start_time": "2023-05-24T13:02:19.009Z"
      },
      {
        "duration": 212,
        "start_time": "2023-05-24T13:02:19.887Z"
      },
      {
        "duration": 24,
        "start_time": "2023-05-24T13:02:20.103Z"
      },
      {
        "duration": 17,
        "start_time": "2023-05-24T13:02:20.472Z"
      },
      {
        "duration": 13,
        "start_time": "2023-05-24T13:02:20.816Z"
      },
      {
        "duration": 8,
        "start_time": "2023-05-24T13:02:21.788Z"
      },
      {
        "duration": 11,
        "start_time": "2023-05-24T13:02:22.164Z"
      },
      {
        "duration": 5,
        "start_time": "2023-05-24T13:02:22.704Z"
      },
      {
        "duration": 10,
        "start_time": "2023-05-24T13:02:23.092Z"
      },
      {
        "duration": 10,
        "start_time": "2023-05-24T13:02:23.872Z"
      },
      {
        "duration": 5,
        "start_time": "2023-05-24T13:02:24.200Z"
      },
      {
        "duration": 5,
        "start_time": "2023-05-24T13:02:24.598Z"
      },
      {
        "duration": 14,
        "start_time": "2023-05-24T13:02:24.968Z"
      },
      {
        "duration": 8,
        "start_time": "2023-05-24T13:02:25.368Z"
      },
      {
        "duration": 141,
        "start_time": "2023-05-24T13:02:26.376Z"
      },
      {
        "duration": 105,
        "start_time": "2023-05-24T13:02:26.783Z"
      },
      {
        "duration": 110,
        "start_time": "2023-05-24T13:02:27.197Z"
      },
      {
        "duration": 119,
        "start_time": "2023-05-24T13:02:27.487Z"
      },
      {
        "duration": 157,
        "start_time": "2023-05-24T13:02:28.007Z"
      },
      {
        "duration": 106,
        "start_time": "2023-05-24T13:02:28.696Z"
      },
      {
        "duration": 115,
        "start_time": "2023-05-24T13:02:29.368Z"
      },
      {
        "duration": 183,
        "start_time": "2023-05-24T13:02:30.088Z"
      },
      {
        "duration": 7,
        "start_time": "2023-05-24T13:02:30.660Z"
      },
      {
        "duration": 163,
        "start_time": "2023-05-24T13:02:30.888Z"
      },
      {
        "duration": 283,
        "start_time": "2023-05-24T13:02:32.482Z"
      },
      {
        "duration": 257,
        "start_time": "2023-05-24T13:02:33.573Z"
      },
      {
        "duration": 257,
        "start_time": "2023-05-24T13:02:35.289Z"
      },
      {
        "duration": 10,
        "start_time": "2023-05-24T13:02:43.520Z"
      },
      {
        "duration": 11,
        "start_time": "2023-05-24T13:02:44.599Z"
      },
      {
        "duration": 102,
        "start_time": "2023-05-24T13:09:25.712Z"
      },
      {
        "duration": 58,
        "start_time": "2023-05-24T13:09:49.160Z"
      },
      {
        "duration": 17,
        "start_time": "2023-05-24T13:10:20.609Z"
      },
      {
        "duration": 6,
        "start_time": "2023-05-24T13:12:08.164Z"
      },
      {
        "duration": 15,
        "start_time": "2023-05-24T13:12:34.061Z"
      },
      {
        "duration": 30,
        "start_time": "2023-05-24T13:13:02.168Z"
      },
      {
        "duration": 12,
        "start_time": "2023-05-24T13:13:48.048Z"
      },
      {
        "duration": 17,
        "start_time": "2023-05-24T13:14:11.476Z"
      },
      {
        "duration": 25,
        "start_time": "2023-05-24T13:14:38.562Z"
      },
      {
        "duration": 125,
        "start_time": "2023-05-24T13:19:49.628Z"
      },
      {
        "duration": 224,
        "start_time": "2023-05-24T13:20:04.859Z"
      },
      {
        "duration": 451,
        "start_time": "2023-05-24T13:21:14.791Z"
      },
      {
        "duration": 211,
        "start_time": "2023-05-24T13:21:56.692Z"
      },
      {
        "duration": 7,
        "start_time": "2023-05-24T13:23:20.204Z"
      },
      {
        "duration": 206,
        "start_time": "2023-05-24T13:23:26.760Z"
      },
      {
        "duration": 301,
        "start_time": "2023-05-24T13:24:17.103Z"
      },
      {
        "duration": 7,
        "start_time": "2023-05-24T13:30:33.697Z"
      },
      {
        "duration": 4,
        "start_time": "2023-05-24T13:31:00.496Z"
      },
      {
        "duration": 5,
        "start_time": "2023-05-24T13:31:23.660Z"
      },
      {
        "duration": 15,
        "start_time": "2023-05-24T13:35:20.519Z"
      },
      {
        "duration": 5,
        "start_time": "2023-05-24T13:35:20.652Z"
      },
      {
        "duration": 14,
        "start_time": "2023-05-24T13:36:09.296Z"
      },
      {
        "duration": 5,
        "start_time": "2023-05-24T13:36:09.380Z"
      },
      {
        "duration": 656,
        "start_time": "2023-05-24T13:37:07.545Z"
      },
      {
        "duration": 70,
        "start_time": "2023-05-24T13:37:08.202Z"
      },
      {
        "duration": 22,
        "start_time": "2023-05-24T13:37:08.384Z"
      },
      {
        "duration": 22,
        "start_time": "2023-05-24T13:37:08.609Z"
      },
      {
        "duration": 15,
        "start_time": "2023-05-24T13:37:09.002Z"
      },
      {
        "duration": 8,
        "start_time": "2023-05-24T13:37:10.169Z"
      },
      {
        "duration": 11,
        "start_time": "2023-05-24T13:37:10.460Z"
      },
      {
        "duration": 5,
        "start_time": "2023-05-24T13:37:10.889Z"
      },
      {
        "duration": 10,
        "start_time": "2023-05-24T13:37:11.070Z"
      },
      {
        "duration": 9,
        "start_time": "2023-05-24T13:37:11.777Z"
      },
      {
        "duration": 5,
        "start_time": "2023-05-24T13:37:12.156Z"
      },
      {
        "duration": 5,
        "start_time": "2023-05-24T13:37:12.534Z"
      },
      {
        "duration": 12,
        "start_time": "2023-05-24T13:37:12.873Z"
      },
      {
        "duration": 8,
        "start_time": "2023-05-24T13:37:13.245Z"
      },
      {
        "duration": 166,
        "start_time": "2023-05-24T13:37:14.002Z"
      },
      {
        "duration": 136,
        "start_time": "2023-05-24T13:37:14.612Z"
      },
      {
        "duration": 117,
        "start_time": "2023-05-24T13:37:15.561Z"
      },
      {
        "duration": 141,
        "start_time": "2023-05-24T13:37:16.161Z"
      },
      {
        "duration": 159,
        "start_time": "2023-05-24T13:37:16.619Z"
      },
      {
        "duration": 113,
        "start_time": "2023-05-24T13:37:16.845Z"
      },
      {
        "duration": 114,
        "start_time": "2023-05-24T13:37:17.082Z"
      },
      {
        "duration": 183,
        "start_time": "2023-05-24T13:37:18.361Z"
      },
      {
        "duration": 7,
        "start_time": "2023-05-24T13:37:21.400Z"
      },
      {
        "duration": 185,
        "start_time": "2023-05-24T13:37:21.572Z"
      },
      {
        "duration": 293,
        "start_time": "2023-05-24T13:37:22.100Z"
      },
      {
        "duration": 265,
        "start_time": "2023-05-24T13:37:22.395Z"
      },
      {
        "duration": 288,
        "start_time": "2023-05-24T13:37:22.662Z"
      },
      {
        "duration": 10,
        "start_time": "2023-05-24T13:37:22.952Z"
      },
      {
        "duration": 10,
        "start_time": "2023-05-24T13:37:23.160Z"
      },
      {
        "duration": 19,
        "start_time": "2023-05-24T13:37:24.765Z"
      },
      {
        "duration": 31,
        "start_time": "2023-05-24T13:37:24.786Z"
      },
      {
        "duration": 93,
        "start_time": "2023-05-24T13:37:24.905Z"
      },
      {
        "duration": 236,
        "start_time": "2023-05-24T13:37:25.000Z"
      },
      {
        "duration": 223,
        "start_time": "2023-05-24T13:37:25.237Z"
      },
      {
        "duration": 221,
        "start_time": "2023-05-24T13:37:25.462Z"
      },
      {
        "duration": 250,
        "start_time": "2023-05-24T13:37:25.685Z"
      },
      {
        "duration": 15,
        "start_time": "2023-05-24T13:38:01.316Z"
      },
      {
        "duration": 16,
        "start_time": "2023-05-24T13:52:44.297Z"
      },
      {
        "duration": 10,
        "start_time": "2023-05-24T13:53:10.160Z"
      },
      {
        "duration": 4,
        "start_time": "2023-05-24T13:56:38.297Z"
      },
      {
        "duration": 21,
        "start_time": "2023-05-24T13:59:40.178Z"
      },
      {
        "duration": 11,
        "start_time": "2023-05-24T13:59:46.878Z"
      },
      {
        "duration": 11,
        "start_time": "2023-05-24T14:00:18.898Z"
      },
      {
        "duration": 11,
        "start_time": "2023-05-24T14:01:01.850Z"
      },
      {
        "duration": 4,
        "start_time": "2023-05-24T14:11:29.086Z"
      },
      {
        "duration": 16,
        "start_time": "2023-05-24T14:11:52.372Z"
      },
      {
        "duration": 819,
        "start_time": "2023-05-24T16:02:07.311Z"
      },
      {
        "duration": 259,
        "start_time": "2023-05-24T16:02:09.269Z"
      },
      {
        "duration": 21,
        "start_time": "2023-05-24T16:02:09.610Z"
      },
      {
        "duration": 19,
        "start_time": "2023-05-24T16:02:09.953Z"
      },
      {
        "duration": 12,
        "start_time": "2023-05-24T16:02:10.309Z"
      },
      {
        "duration": 11,
        "start_time": "2023-05-24T16:02:11.404Z"
      },
      {
        "duration": 11,
        "start_time": "2023-05-24T16:02:11.768Z"
      },
      {
        "duration": 5,
        "start_time": "2023-05-24T16:02:12.325Z"
      },
      {
        "duration": 13,
        "start_time": "2023-05-24T16:02:12.706Z"
      },
      {
        "duration": 9,
        "start_time": "2023-05-24T16:02:13.454Z"
      },
      {
        "duration": 7,
        "start_time": "2023-05-24T16:02:13.809Z"
      },
      {
        "duration": 11,
        "start_time": "2023-05-24T16:02:14.207Z"
      },
      {
        "duration": 14,
        "start_time": "2023-05-24T16:02:14.557Z"
      },
      {
        "duration": 11,
        "start_time": "2023-05-24T16:02:14.906Z"
      },
      {
        "duration": 161,
        "start_time": "2023-05-24T16:02:15.655Z"
      },
      {
        "duration": 144,
        "start_time": "2023-05-24T16:02:16.182Z"
      },
      {
        "duration": 119,
        "start_time": "2023-05-24T16:02:16.557Z"
      },
      {
        "duration": 128,
        "start_time": "2023-05-24T16:02:16.755Z"
      },
      {
        "duration": 173,
        "start_time": "2023-05-24T16:02:16.948Z"
      },
      {
        "duration": 129,
        "start_time": "2023-05-24T16:02:17.154Z"
      },
      {
        "duration": 110,
        "start_time": "2023-05-24T16:02:17.328Z"
      },
      {
        "duration": 154,
        "start_time": "2023-05-24T16:02:17.913Z"
      },
      {
        "duration": 5,
        "start_time": "2023-05-24T16:02:18.311Z"
      },
      {
        "duration": 148,
        "start_time": "2023-05-24T16:02:18.524Z"
      },
      {
        "duration": 265,
        "start_time": "2023-05-24T16:02:19.466Z"
      },
      {
        "duration": 250,
        "start_time": "2023-05-24T16:02:20.095Z"
      },
      {
        "duration": 276,
        "start_time": "2023-05-24T16:02:21.252Z"
      },
      {
        "duration": 16,
        "start_time": "2023-05-24T16:02:23.326Z"
      },
      {
        "duration": 19,
        "start_time": "2023-05-24T16:02:24.124Z"
      },
      {
        "duration": 24,
        "start_time": "2023-05-24T16:02:24.907Z"
      },
      {
        "duration": 13,
        "start_time": "2023-05-24T16:02:25.616Z"
      },
      {
        "duration": 80,
        "start_time": "2023-05-24T16:02:26.776Z"
      },
      {
        "duration": 207,
        "start_time": "2023-05-24T16:02:28.662Z"
      },
      {
        "duration": 237,
        "start_time": "2023-05-24T16:02:30.076Z"
      },
      {
        "duration": 238,
        "start_time": "2023-05-24T16:02:31.073Z"
      },
      {
        "duration": 246,
        "start_time": "2023-05-24T16:02:32.245Z"
      },
      {
        "duration": 21,
        "start_time": "2023-05-24T16:02:34.359Z"
      },
      {
        "duration": 14,
        "start_time": "2023-05-24T16:02:35.429Z"
      },
      {
        "duration": 15,
        "start_time": "2023-05-24T16:02:36.224Z"
      },
      {
        "duration": 22,
        "start_time": "2023-05-24T16:02:36.776Z"
      },
      {
        "duration": 3,
        "start_time": "2023-05-24T16:04:50.627Z"
      },
      {
        "duration": 156,
        "start_time": "2023-05-24T16:09:46.558Z"
      },
      {
        "duration": 11,
        "start_time": "2023-05-24T16:10:22.667Z"
      },
      {
        "duration": 11,
        "start_time": "2023-05-24T16:10:43.451Z"
      },
      {
        "duration": 799,
        "start_time": "2023-05-25T14:22:36.612Z"
      },
      {
        "duration": 194,
        "start_time": "2023-05-25T14:22:37.413Z"
      },
      {
        "duration": 20,
        "start_time": "2023-05-25T14:22:37.823Z"
      },
      {
        "duration": 17,
        "start_time": "2023-05-25T14:22:38.215Z"
      },
      {
        "duration": 13,
        "start_time": "2023-05-25T14:22:38.550Z"
      },
      {
        "duration": 8,
        "start_time": "2023-05-25T14:22:39.622Z"
      },
      {
        "duration": 9,
        "start_time": "2023-05-25T14:22:39.994Z"
      },
      {
        "duration": 4,
        "start_time": "2023-05-25T14:22:40.559Z"
      },
      {
        "duration": 11,
        "start_time": "2023-05-25T14:22:40.897Z"
      },
      {
        "duration": 9,
        "start_time": "2023-05-25T14:22:41.573Z"
      },
      {
        "duration": 4,
        "start_time": "2023-05-25T14:22:41.970Z"
      },
      {
        "duration": 5,
        "start_time": "2023-05-25T14:22:42.311Z"
      },
      {
        "duration": 12,
        "start_time": "2023-05-25T14:22:42.655Z"
      },
      {
        "duration": 8,
        "start_time": "2023-05-25T14:22:43.024Z"
      },
      {
        "duration": 143,
        "start_time": "2023-05-25T14:22:43.815Z"
      },
      {
        "duration": 115,
        "start_time": "2023-05-25T14:22:44.375Z"
      },
      {
        "duration": 122,
        "start_time": "2023-05-25T14:22:44.700Z"
      },
      {
        "duration": 141,
        "start_time": "2023-05-25T14:22:44.907Z"
      },
      {
        "duration": 161,
        "start_time": "2023-05-25T14:22:45.051Z"
      },
      {
        "duration": 125,
        "start_time": "2023-05-25T14:22:45.232Z"
      },
      {
        "duration": 105,
        "start_time": "2023-05-25T14:22:45.446Z"
      },
      {
        "duration": 153,
        "start_time": "2023-05-25T14:22:45.942Z"
      },
      {
        "duration": 6,
        "start_time": "2023-05-25T14:22:46.325Z"
      },
      {
        "duration": 153,
        "start_time": "2023-05-25T14:22:46.502Z"
      },
      {
        "duration": 280,
        "start_time": "2023-05-25T14:22:46.885Z"
      },
      {
        "duration": 248,
        "start_time": "2023-05-25T14:22:47.167Z"
      },
      {
        "duration": 258,
        "start_time": "2023-05-25T14:22:47.418Z"
      },
      {
        "duration": 9,
        "start_time": "2023-05-25T14:22:47.678Z"
      },
      {
        "duration": 12,
        "start_time": "2023-05-25T14:22:47.845Z"
      },
      {
        "duration": 18,
        "start_time": "2023-05-25T14:22:48.038Z"
      },
      {
        "duration": 16,
        "start_time": "2023-05-25T14:22:48.240Z"
      },
      {
        "duration": 79,
        "start_time": "2023-05-25T14:22:48.437Z"
      },
      {
        "duration": 212,
        "start_time": "2023-05-25T14:22:48.644Z"
      },
      {
        "duration": 206,
        "start_time": "2023-05-25T14:22:48.884Z"
      },
      {
        "duration": 211,
        "start_time": "2023-05-25T14:22:49.092Z"
      },
      {
        "duration": 223,
        "start_time": "2023-05-25T14:22:49.306Z"
      },
      {
        "duration": 20,
        "start_time": "2023-05-25T14:22:49.714Z"
      },
      {
        "duration": 10,
        "start_time": "2023-05-25T14:22:49.918Z"
      },
      {
        "duration": 10,
        "start_time": "2023-05-25T14:22:51.322Z"
      },
      {
        "duration": 11,
        "start_time": "2023-05-25T14:22:52.061Z"
      },
      {
        "duration": 3,
        "start_time": "2023-05-25T14:22:52.795Z"
      },
      {
        "duration": 135,
        "start_time": "2023-05-25T14:22:53.884Z"
      },
      {
        "duration": 12,
        "start_time": "2023-05-25T14:22:55.029Z"
      },
      {
        "duration": 77,
        "start_time": "2023-05-25T14:27:00.494Z"
      },
      {
        "duration": 536,
        "start_time": "2023-05-25T14:27:46.272Z"
      },
      {
        "duration": 8,
        "start_time": "2023-05-25T14:27:57.653Z"
      },
      {
        "duration": 44,
        "start_time": "2023-05-25T14:28:52.681Z"
      },
      {
        "duration": 6,
        "start_time": "2023-05-25T14:30:36.849Z"
      },
      {
        "duration": 19,
        "start_time": "2023-05-25T14:38:44.888Z"
      },
      {
        "duration": 4,
        "start_time": "2023-05-25T14:45:09.820Z"
      },
      {
        "duration": 6,
        "start_time": "2023-05-25T14:50:40.787Z"
      },
      {
        "duration": 6,
        "start_time": "2023-05-25T14:51:24.443Z"
      },
      {
        "duration": 5,
        "start_time": "2023-05-25T14:54:39.397Z"
      },
      {
        "duration": 1625,
        "start_time": "2023-05-26T14:19:09.368Z"
      },
      {
        "duration": 349,
        "start_time": "2023-05-26T14:19:10.995Z"
      },
      {
        "duration": 39,
        "start_time": "2023-05-26T14:19:11.348Z"
      },
      {
        "duration": 22,
        "start_time": "2023-05-26T14:19:11.389Z"
      },
      {
        "duration": 39,
        "start_time": "2023-05-26T14:19:11.414Z"
      },
      {
        "duration": 12,
        "start_time": "2023-05-26T14:19:12.376Z"
      },
      {
        "duration": 20,
        "start_time": "2023-05-26T14:19:12.771Z"
      },
      {
        "duration": 7,
        "start_time": "2023-05-26T14:19:13.373Z"
      },
      {
        "duration": 15,
        "start_time": "2023-05-26T14:19:13.778Z"
      },
      {
        "duration": 23,
        "start_time": "2023-05-26T14:19:14.658Z"
      },
      {
        "duration": 6,
        "start_time": "2023-05-26T14:19:15.082Z"
      },
      {
        "duration": 6,
        "start_time": "2023-05-26T14:19:15.569Z"
      },
      {
        "duration": 15,
        "start_time": "2023-05-26T14:19:15.979Z"
      },
      {
        "duration": 12,
        "start_time": "2023-05-26T14:19:16.419Z"
      },
      {
        "duration": 205,
        "start_time": "2023-05-26T14:19:17.317Z"
      },
      {
        "duration": 160,
        "start_time": "2023-05-26T14:19:18.019Z"
      },
      {
        "duration": 188,
        "start_time": "2023-05-26T14:19:18.481Z"
      },
      {
        "duration": 150,
        "start_time": "2023-05-26T14:19:18.775Z"
      },
      {
        "duration": 146,
        "start_time": "2023-05-26T14:19:19.012Z"
      },
      {
        "duration": 131,
        "start_time": "2023-05-26T14:19:19.296Z"
      },
      {
        "duration": 140,
        "start_time": "2023-05-26T14:19:19.568Z"
      },
      {
        "duration": 222,
        "start_time": "2023-05-26T14:19:20.309Z"
      },
      {
        "duration": 9,
        "start_time": "2023-05-26T14:19:20.818Z"
      },
      {
        "duration": 303,
        "start_time": "2023-05-26T14:19:21.077Z"
      },
      {
        "duration": 327,
        "start_time": "2023-05-26T14:19:21.669Z"
      },
      {
        "duration": 358,
        "start_time": "2023-05-26T14:19:22.057Z"
      },
      {
        "duration": 406,
        "start_time": "2023-05-26T14:19:22.417Z"
      },
      {
        "duration": 25,
        "start_time": "2023-05-26T14:19:22.826Z"
      },
      {
        "duration": 12,
        "start_time": "2023-05-26T14:19:23.073Z"
      },
      {
        "duration": 27,
        "start_time": "2023-05-26T14:19:24.101Z"
      },
      {
        "duration": 20,
        "start_time": "2023-05-26T14:19:25.087Z"
      },
      {
        "duration": 44,
        "start_time": "2023-05-26T14:19:25.216Z"
      },
      {
        "duration": 294,
        "start_time": "2023-05-26T14:19:26.108Z"
      },
      {
        "duration": 302,
        "start_time": "2023-05-26T14:19:28.362Z"
      },
      {
        "duration": 359,
        "start_time": "2023-05-26T14:19:29.770Z"
      },
      {
        "duration": 305,
        "start_time": "2023-05-26T14:19:41.563Z"
      },
      {
        "duration": 30,
        "start_time": "2023-05-26T14:19:42.169Z"
      },
      {
        "duration": 14,
        "start_time": "2023-05-26T14:19:42.972Z"
      },
      {
        "duration": 13,
        "start_time": "2023-05-26T14:19:43.663Z"
      },
      {
        "duration": 20,
        "start_time": "2023-05-26T14:19:44.253Z"
      },
      {
        "duration": 5,
        "start_time": "2023-05-26T14:19:44.821Z"
      },
      {
        "duration": 159,
        "start_time": "2023-05-26T14:19:45.673Z"
      },
      {
        "duration": 18,
        "start_time": "2023-05-26T14:19:46.518Z"
      },
      {
        "duration": 5,
        "start_time": "2023-05-26T14:20:07.768Z"
      },
      {
        "duration": 7,
        "start_time": "2023-05-26T14:20:08.721Z"
      },
      {
        "duration": 17,
        "start_time": "2023-05-26T14:32:03.102Z"
      },
      {
        "duration": 17,
        "start_time": "2023-05-26T14:32:29.957Z"
      },
      {
        "duration": 12,
        "start_time": "2023-05-26T14:33:05.451Z"
      },
      {
        "duration": 14,
        "start_time": "2023-05-26T14:34:05.390Z"
      },
      {
        "duration": 9,
        "start_time": "2023-05-26T14:34:05.477Z"
      },
      {
        "duration": 15,
        "start_time": "2023-05-26T14:34:15.387Z"
      },
      {
        "duration": 11,
        "start_time": "2023-05-26T14:34:15.484Z"
      },
      {
        "duration": 8,
        "start_time": "2023-05-26T14:34:19.070Z"
      },
      {
        "duration": 17,
        "start_time": "2023-05-26T14:34:29.891Z"
      },
      {
        "duration": 9,
        "start_time": "2023-05-26T14:34:30.670Z"
      },
      {
        "duration": 10,
        "start_time": "2023-05-26T14:34:51.070Z"
      },
      {
        "duration": 13,
        "start_time": "2023-05-26T14:36:40.782Z"
      },
      {
        "duration": 12,
        "start_time": "2023-05-26T14:37:18.623Z"
      },
      {
        "duration": 969,
        "start_time": "2023-05-26T14:40:18.867Z"
      },
      {
        "duration": 16,
        "start_time": "2023-05-26T14:41:08.521Z"
      },
      {
        "duration": 12,
        "start_time": "2023-05-26T14:41:08.654Z"
      },
      {
        "duration": 42,
        "start_time": "2023-05-26T14:41:54.303Z"
      },
      {
        "duration": 13,
        "start_time": "2023-05-26T14:41:54.373Z"
      },
      {
        "duration": 17,
        "start_time": "2023-05-26T14:42:53.002Z"
      },
      {
        "duration": 23,
        "start_time": "2023-05-26T14:43:45.450Z"
      },
      {
        "duration": 40,
        "start_time": "2023-05-26T14:45:35.222Z"
      },
      {
        "duration": 22,
        "start_time": "2023-05-26T14:46:04.144Z"
      },
      {
        "duration": 22,
        "start_time": "2023-05-26T14:46:53.798Z"
      },
      {
        "duration": 13,
        "start_time": "2023-05-26T14:47:36.253Z"
      },
      {
        "duration": 38,
        "start_time": "2023-05-26T14:48:07.078Z"
      },
      {
        "duration": 1145,
        "start_time": "2023-05-26T14:48:38.671Z"
      },
      {
        "duration": 76,
        "start_time": "2023-05-26T14:48:39.819Z"
      },
      {
        "duration": 36,
        "start_time": "2023-05-26T14:48:39.898Z"
      },
      {
        "duration": 22,
        "start_time": "2023-05-26T14:48:40.046Z"
      },
      {
        "duration": 16,
        "start_time": "2023-05-26T14:48:40.364Z"
      },
      {
        "duration": 10,
        "start_time": "2023-05-26T14:48:41.346Z"
      },
      {
        "duration": 14,
        "start_time": "2023-05-26T14:48:41.673Z"
      },
      {
        "duration": 6,
        "start_time": "2023-05-26T14:48:42.179Z"
      },
      {
        "duration": 16,
        "start_time": "2023-05-26T14:48:42.520Z"
      },
      {
        "duration": 12,
        "start_time": "2023-05-26T14:48:43.218Z"
      },
      {
        "duration": 6,
        "start_time": "2023-05-26T14:48:43.561Z"
      },
      {
        "duration": 5,
        "start_time": "2023-05-26T14:48:43.939Z"
      },
      {
        "duration": 20,
        "start_time": "2023-05-26T14:48:44.273Z"
      },
      {
        "duration": 12,
        "start_time": "2023-05-26T14:48:44.646Z"
      },
      {
        "duration": 159,
        "start_time": "2023-05-26T14:48:45.377Z"
      },
      {
        "duration": 169,
        "start_time": "2023-05-26T14:48:45.907Z"
      },
      {
        "duration": 132,
        "start_time": "2023-05-26T14:48:46.260Z"
      },
      {
        "duration": 154,
        "start_time": "2023-05-26T14:48:46.406Z"
      },
      {
        "duration": 153,
        "start_time": "2023-05-26T14:48:46.574Z"
      },
      {
        "duration": 173,
        "start_time": "2023-05-26T14:48:46.759Z"
      },
      {
        "duration": 151,
        "start_time": "2023-05-26T14:48:46.939Z"
      },
      {
        "duration": 197,
        "start_time": "2023-05-26T14:48:47.426Z"
      },
      {
        "duration": 7,
        "start_time": "2023-05-26T14:48:47.766Z"
      },
      {
        "duration": 203,
        "start_time": "2023-05-26T14:48:47.957Z"
      },
      {
        "duration": 412,
        "start_time": "2023-05-26T14:48:48.320Z"
      },
      {
        "duration": 313,
        "start_time": "2023-05-26T14:48:48.734Z"
      },
      {
        "duration": 349,
        "start_time": "2023-05-26T14:48:49.050Z"
      },
      {
        "duration": 14,
        "start_time": "2023-05-26T14:48:49.401Z"
      },
      {
        "duration": 16,
        "start_time": "2023-05-26T14:48:49.417Z"
      },
      {
        "duration": 21,
        "start_time": "2023-05-26T14:48:49.506Z"
      },
      {
        "duration": 20,
        "start_time": "2023-05-26T14:48:50.039Z"
      },
      {
        "duration": 34,
        "start_time": "2023-05-26T14:48:50.274Z"
      },
      {
        "duration": 268,
        "start_time": "2023-05-26T14:48:50.515Z"
      },
      {
        "duration": 305,
        "start_time": "2023-05-26T14:48:51.160Z"
      },
      {
        "duration": 266,
        "start_time": "2023-05-26T14:48:51.467Z"
      },
      {
        "duration": 396,
        "start_time": "2023-05-26T14:48:51.735Z"
      },
      {
        "duration": 37,
        "start_time": "2023-05-26T14:48:52.133Z"
      },
      {
        "duration": 18,
        "start_time": "2023-05-26T14:48:52.172Z"
      },
      {
        "duration": 15,
        "start_time": "2023-05-26T14:48:52.953Z"
      },
      {
        "duration": 18,
        "start_time": "2023-05-26T14:48:54.252Z"
      },
      {
        "duration": 4,
        "start_time": "2023-05-26T14:48:55.055Z"
      },
      {
        "duration": 151,
        "start_time": "2023-05-26T14:48:56.704Z"
      },
      {
        "duration": 14,
        "start_time": "2023-05-26T14:48:57.274Z"
      },
      {
        "duration": 5,
        "start_time": "2023-05-26T14:48:57.859Z"
      },
      {
        "duration": 7,
        "start_time": "2023-05-26T14:48:59.448Z"
      },
      {
        "duration": 140,
        "start_time": "2023-05-26T14:49:00.113Z"
      },
      {
        "duration": 1221,
        "start_time": "2023-05-26T14:51:15.019Z"
      },
      {
        "duration": 68,
        "start_time": "2023-05-26T14:51:16.243Z"
      },
      {
        "duration": 34,
        "start_time": "2023-05-26T14:51:16.312Z"
      },
      {
        "duration": 28,
        "start_time": "2023-05-26T14:51:16.350Z"
      },
      {
        "duration": 20,
        "start_time": "2023-05-26T14:51:16.612Z"
      },
      {
        "duration": 10,
        "start_time": "2023-05-26T14:51:17.545Z"
      },
      {
        "duration": 14,
        "start_time": "2023-05-26T14:51:17.866Z"
      },
      {
        "duration": 7,
        "start_time": "2023-05-26T14:51:18.376Z"
      },
      {
        "duration": 15,
        "start_time": "2023-05-26T14:51:18.698Z"
      },
      {
        "duration": 15,
        "start_time": "2023-05-26T14:51:19.354Z"
      },
      {
        "duration": 5,
        "start_time": "2023-05-26T14:51:19.744Z"
      },
      {
        "duration": 6,
        "start_time": "2023-05-26T14:51:20.010Z"
      },
      {
        "duration": 16,
        "start_time": "2023-05-26T14:51:20.345Z"
      },
      {
        "duration": 11,
        "start_time": "2023-05-26T14:51:20.697Z"
      },
      {
        "duration": 183,
        "start_time": "2023-05-26T14:51:21.413Z"
      },
      {
        "duration": 172,
        "start_time": "2023-05-26T14:51:21.906Z"
      },
      {
        "duration": 170,
        "start_time": "2023-05-26T14:51:22.256Z"
      },
      {
        "duration": 208,
        "start_time": "2023-05-26T14:51:22.429Z"
      },
      {
        "duration": 201,
        "start_time": "2023-05-26T14:51:22.640Z"
      },
      {
        "duration": 166,
        "start_time": "2023-05-26T14:51:22.844Z"
      },
      {
        "duration": 150,
        "start_time": "2023-05-26T14:51:23.013Z"
      },
      {
        "duration": 231,
        "start_time": "2023-05-26T14:51:23.446Z"
      },
      {
        "duration": 6,
        "start_time": "2023-05-26T14:51:23.770Z"
      },
      {
        "duration": 279,
        "start_time": "2023-05-26T14:51:23.960Z"
      },
      {
        "duration": 394,
        "start_time": "2023-05-26T14:51:24.282Z"
      },
      {
        "duration": 310,
        "start_time": "2023-05-26T14:51:24.679Z"
      },
      {
        "duration": 326,
        "start_time": "2023-05-26T14:51:24.990Z"
      },
      {
        "duration": 13,
        "start_time": "2023-05-26T14:51:25.319Z"
      },
      {
        "duration": 25,
        "start_time": "2023-05-26T14:51:25.335Z"
      },
      {
        "duration": 37,
        "start_time": "2023-05-26T14:51:25.363Z"
      },
      {
        "duration": 25,
        "start_time": "2023-05-26T14:51:25.489Z"
      },
      {
        "duration": 36,
        "start_time": "2023-05-26T14:51:25.648Z"
      },
      {
        "duration": 282,
        "start_time": "2023-05-26T14:51:25.833Z"
      },
      {
        "duration": 346,
        "start_time": "2023-05-26T14:51:26.117Z"
      },
      {
        "duration": 269,
        "start_time": "2023-05-26T14:51:26.466Z"
      },
      {
        "duration": 392,
        "start_time": "2023-05-26T14:51:26.737Z"
      },
      {
        "duration": 36,
        "start_time": "2023-05-26T14:51:27.131Z"
      },
      {
        "duration": 15,
        "start_time": "2023-05-26T14:51:27.169Z"
      },
      {
        "duration": 12,
        "start_time": "2023-05-26T14:51:27.907Z"
      },
      {
        "duration": 17,
        "start_time": "2023-05-26T14:51:28.120Z"
      },
      {
        "duration": 4,
        "start_time": "2023-05-26T14:51:28.372Z"
      },
      {
        "duration": 141,
        "start_time": "2023-05-26T14:51:29.397Z"
      },
      {
        "duration": 14,
        "start_time": "2023-05-26T14:51:30.372Z"
      },
      {
        "duration": 6,
        "start_time": "2023-05-26T14:51:32.395Z"
      },
      {
        "duration": 5,
        "start_time": "2023-05-26T14:51:33.247Z"
      },
      {
        "duration": 16,
        "start_time": "2023-05-26T14:51:34.411Z"
      },
      {
        "duration": 9,
        "start_time": "2023-05-26T14:51:36.846Z"
      },
      {
        "duration": 15,
        "start_time": "2023-05-26T14:51:41.043Z"
      },
      {
        "duration": 12,
        "start_time": "2023-05-26T14:51:49.607Z"
      },
      {
        "duration": 11,
        "start_time": "2023-05-26T14:52:13.769Z"
      },
      {
        "duration": 1268,
        "start_time": "2023-05-26T14:53:27.262Z"
      },
      {
        "duration": 69,
        "start_time": "2023-05-26T14:53:30.039Z"
      },
      {
        "duration": 28,
        "start_time": "2023-05-26T14:53:30.344Z"
      },
      {
        "duration": 26,
        "start_time": "2023-05-26T14:53:30.660Z"
      },
      {
        "duration": 23,
        "start_time": "2023-05-26T14:53:30.961Z"
      },
      {
        "duration": 11,
        "start_time": "2023-05-26T14:53:31.948Z"
      },
      {
        "duration": 11,
        "start_time": "2023-05-26T14:53:32.291Z"
      },
      {
        "duration": 7,
        "start_time": "2023-05-26T14:53:32.780Z"
      },
      {
        "duration": 14,
        "start_time": "2023-05-26T14:53:33.121Z"
      },
      {
        "duration": 14,
        "start_time": "2023-05-26T14:53:34.146Z"
      },
      {
        "duration": 5,
        "start_time": "2023-05-26T14:53:34.611Z"
      },
      {
        "duration": 7,
        "start_time": "2023-05-26T14:53:35.040Z"
      },
      {
        "duration": 20,
        "start_time": "2023-05-26T14:53:35.546Z"
      },
      {
        "duration": 9,
        "start_time": "2023-05-26T14:53:35.752Z"
      },
      {
        "duration": 184,
        "start_time": "2023-05-26T14:53:36.459Z"
      },
      {
        "duration": 125,
        "start_time": "2023-05-26T14:53:37.011Z"
      },
      {
        "duration": 155,
        "start_time": "2023-05-26T14:53:37.362Z"
      },
      {
        "duration": 172,
        "start_time": "2023-05-26T14:53:37.553Z"
      },
      {
        "duration": 140,
        "start_time": "2023-05-26T14:53:37.733Z"
      },
      {
        "duration": 125,
        "start_time": "2023-05-26T14:53:37.908Z"
      },
      {
        "duration": 172,
        "start_time": "2023-05-26T14:53:38.107Z"
      },
      {
        "duration": 246,
        "start_time": "2023-05-26T14:53:38.660Z"
      },
      {
        "duration": 8,
        "start_time": "2023-05-26T14:53:38.968Z"
      },
      {
        "duration": 192,
        "start_time": "2023-05-26T14:53:39.147Z"
      },
      {
        "duration": 429,
        "start_time": "2023-05-26T14:53:39.486Z"
      },
      {
        "duration": 304,
        "start_time": "2023-05-26T14:53:39.917Z"
      },
      {
        "duration": 334,
        "start_time": "2023-05-26T14:53:40.223Z"
      },
      {
        "duration": 10,
        "start_time": "2023-05-26T14:53:40.560Z"
      },
      {
        "duration": 14,
        "start_time": "2023-05-26T14:53:40.572Z"
      },
      {
        "duration": 20,
        "start_time": "2023-05-26T14:53:40.606Z"
      },
      {
        "duration": 19,
        "start_time": "2023-05-26T14:53:40.792Z"
      },
      {
        "duration": 47,
        "start_time": "2023-05-26T14:53:40.995Z"
      },
      {
        "duration": 285,
        "start_time": "2023-05-26T14:53:41.179Z"
      },
      {
        "duration": 332,
        "start_time": "2023-05-26T14:53:41.467Z"
      },
      {
        "duration": 304,
        "start_time": "2023-05-26T14:53:41.801Z"
      },
      {
        "duration": 401,
        "start_time": "2023-05-26T14:53:42.106Z"
      },
      {
        "duration": 26,
        "start_time": "2023-05-26T14:53:42.509Z"
      },
      {
        "duration": 24,
        "start_time": "2023-05-26T14:53:42.537Z"
      },
      {
        "duration": 10,
        "start_time": "2023-05-26T14:53:42.563Z"
      },
      {
        "duration": 17,
        "start_time": "2023-05-26T14:53:43.843Z"
      },
      {
        "duration": 4,
        "start_time": "2023-05-26T14:53:44.082Z"
      },
      {
        "duration": 182,
        "start_time": "2023-05-26T14:53:44.384Z"
      },
      {
        "duration": 15,
        "start_time": "2023-05-26T14:53:45.177Z"
      },
      {
        "duration": 6,
        "start_time": "2023-05-26T14:53:47.458Z"
      },
      {
        "duration": 6,
        "start_time": "2023-05-26T14:53:48.110Z"
      },
      {
        "duration": 17,
        "start_time": "2023-05-26T14:53:50.337Z"
      },
      {
        "duration": 18,
        "start_time": "2023-05-26T14:53:52.492Z"
      },
      {
        "duration": 1139,
        "start_time": "2023-05-26T14:58:29.151Z"
      },
      {
        "duration": 78,
        "start_time": "2023-05-26T14:58:30.292Z"
      },
      {
        "duration": 22,
        "start_time": "2023-05-26T14:58:30.373Z"
      },
      {
        "duration": 18,
        "start_time": "2023-05-26T14:58:30.667Z"
      },
      {
        "duration": 17,
        "start_time": "2023-05-26T14:58:30.993Z"
      },
      {
        "duration": 8,
        "start_time": "2023-05-26T14:58:32.168Z"
      },
      {
        "duration": 13,
        "start_time": "2023-05-26T14:58:32.477Z"
      },
      {
        "duration": 6,
        "start_time": "2023-05-26T14:58:33.046Z"
      },
      {
        "duration": 11,
        "start_time": "2023-05-26T14:58:33.393Z"
      },
      {
        "duration": 16,
        "start_time": "2023-05-26T14:58:34.176Z"
      },
      {
        "duration": 5,
        "start_time": "2023-05-26T14:58:34.515Z"
      },
      {
        "duration": 5,
        "start_time": "2023-05-26T14:58:35.078Z"
      },
      {
        "duration": 17,
        "start_time": "2023-05-26T14:58:35.464Z"
      },
      {
        "duration": 11,
        "start_time": "2023-05-26T14:58:38.014Z"
      },
      {
        "duration": 179,
        "start_time": "2023-05-26T14:58:38.745Z"
      },
      {
        "duration": 127,
        "start_time": "2023-05-26T14:58:39.401Z"
      },
      {
        "duration": 136,
        "start_time": "2023-05-26T14:58:39.769Z"
      },
      {
        "duration": 147,
        "start_time": "2023-05-26T14:58:39.948Z"
      },
      {
        "duration": 127,
        "start_time": "2023-05-26T14:58:40.119Z"
      },
      {
        "duration": 140,
        "start_time": "2023-05-26T14:58:40.305Z"
      },
      {
        "duration": 148,
        "start_time": "2023-05-26T14:58:40.473Z"
      },
      {
        "duration": 187,
        "start_time": "2023-05-26T14:58:41.049Z"
      },
      {
        "duration": 6,
        "start_time": "2023-05-26T14:58:41.404Z"
      },
      {
        "duration": 193,
        "start_time": "2023-05-26T14:58:41.575Z"
      },
      {
        "duration": 369,
        "start_time": "2023-05-26T14:58:41.975Z"
      },
      {
        "duration": 369,
        "start_time": "2023-05-26T14:58:42.346Z"
      },
      {
        "duration": 326,
        "start_time": "2023-05-26T14:58:42.717Z"
      },
      {
        "duration": 16,
        "start_time": "2023-05-26T14:58:43.046Z"
      },
      {
        "duration": 16,
        "start_time": "2023-05-26T14:58:43.070Z"
      },
      {
        "duration": 19,
        "start_time": "2023-05-26T14:58:43.168Z"
      },
      {
        "duration": 17,
        "start_time": "2023-05-26T14:58:43.371Z"
      },
      {
        "duration": 31,
        "start_time": "2023-05-26T14:58:43.568Z"
      },
      {
        "duration": 264,
        "start_time": "2023-05-26T14:58:43.688Z"
      },
      {
        "duration": 314,
        "start_time": "2023-05-26T14:58:43.955Z"
      },
      {
        "duration": 310,
        "start_time": "2023-05-26T14:58:44.271Z"
      },
      {
        "duration": 382,
        "start_time": "2023-05-26T14:58:44.583Z"
      },
      {
        "duration": 21,
        "start_time": "2023-05-26T14:58:44.968Z"
      },
      {
        "duration": 12,
        "start_time": "2023-05-26T14:58:44.991Z"
      },
      {
        "duration": 39,
        "start_time": "2023-05-26T14:58:45.005Z"
      },
      {
        "duration": 35,
        "start_time": "2023-05-26T14:58:45.240Z"
      },
      {
        "duration": 4,
        "start_time": "2023-05-26T14:58:45.468Z"
      },
      {
        "duration": 159,
        "start_time": "2023-05-26T14:58:45.668Z"
      },
      {
        "duration": 18,
        "start_time": "2023-05-26T14:58:45.906Z"
      },
      {
        "duration": 9,
        "start_time": "2023-05-26T14:58:46.367Z"
      },
      {
        "duration": 7,
        "start_time": "2023-05-26T14:58:46.608Z"
      },
      {
        "duration": 22,
        "start_time": "2023-05-26T14:58:46.837Z"
      },
      {
        "duration": 24,
        "start_time": "2023-05-26T14:58:47.072Z"
      },
      {
        "duration": 15,
        "start_time": "2023-05-26T14:58:47.305Z"
      },
      {
        "duration": 13,
        "start_time": "2023-05-26T14:58:47.520Z"
      },
      {
        "duration": 13,
        "start_time": "2023-05-26T14:58:47.800Z"
      },
      {
        "duration": 186,
        "start_time": "2023-05-26T15:04:57.285Z"
      },
      {
        "duration": 116,
        "start_time": "2023-05-26T15:39:45.748Z"
      },
      {
        "duration": 13,
        "start_time": "2023-05-26T15:44:11.863Z"
      },
      {
        "duration": 10,
        "start_time": "2023-05-26T15:44:40.834Z"
      },
      {
        "duration": 9,
        "start_time": "2023-05-26T15:44:57.072Z"
      },
      {
        "duration": 14,
        "start_time": "2023-05-26T15:45:17.388Z"
      },
      {
        "duration": 17,
        "start_time": "2023-05-26T15:47:03.044Z"
      },
      {
        "duration": 10,
        "start_time": "2023-05-26T15:51:11.781Z"
      },
      {
        "duration": 10,
        "start_time": "2023-05-26T15:51:32.173Z"
      },
      {
        "duration": 9,
        "start_time": "2023-05-26T15:52:23.628Z"
      },
      {
        "duration": 1134,
        "start_time": "2023-05-26T15:57:47.214Z"
      },
      {
        "duration": 74,
        "start_time": "2023-05-26T15:57:48.352Z"
      },
      {
        "duration": 22,
        "start_time": "2023-05-26T15:57:48.428Z"
      },
      {
        "duration": 21,
        "start_time": "2023-05-26T15:57:48.469Z"
      },
      {
        "duration": 15,
        "start_time": "2023-05-26T15:57:48.802Z"
      },
      {
        "duration": 8,
        "start_time": "2023-05-26T15:57:49.880Z"
      },
      {
        "duration": 12,
        "start_time": "2023-05-26T15:57:50.234Z"
      },
      {
        "duration": 5,
        "start_time": "2023-05-26T15:57:50.780Z"
      },
      {
        "duration": 11,
        "start_time": "2023-05-26T15:57:51.134Z"
      },
      {
        "duration": 11,
        "start_time": "2023-05-26T15:57:51.883Z"
      },
      {
        "duration": 5,
        "start_time": "2023-05-26T15:57:52.195Z"
      },
      {
        "duration": 6,
        "start_time": "2023-05-26T15:57:52.593Z"
      },
      {
        "duration": 14,
        "start_time": "2023-05-26T15:57:52.925Z"
      },
      {
        "duration": 9,
        "start_time": "2023-05-26T15:57:53.308Z"
      },
      {
        "duration": 168,
        "start_time": "2023-05-26T15:57:54.204Z"
      },
      {
        "duration": 121,
        "start_time": "2023-05-26T15:57:54.778Z"
      },
      {
        "duration": 122,
        "start_time": "2023-05-26T15:57:55.107Z"
      },
      {
        "duration": 132,
        "start_time": "2023-05-26T15:57:55.282Z"
      },
      {
        "duration": 121,
        "start_time": "2023-05-26T15:57:55.468Z"
      },
      {
        "duration": 129,
        "start_time": "2023-05-26T15:57:55.623Z"
      },
      {
        "duration": 121,
        "start_time": "2023-05-26T15:57:55.803Z"
      },
      {
        "duration": 194,
        "start_time": "2023-05-26T15:57:56.331Z"
      },
      {
        "duration": 6,
        "start_time": "2023-05-26T15:57:56.707Z"
      },
      {
        "duration": 181,
        "start_time": "2023-05-26T15:57:56.891Z"
      },
      {
        "duration": 376,
        "start_time": "2023-05-26T15:57:57.288Z"
      },
      {
        "duration": 283,
        "start_time": "2023-05-26T15:57:57.881Z"
      },
      {
        "duration": 292,
        "start_time": "2023-05-26T15:57:58.365Z"
      },
      {
        "duration": 10,
        "start_time": "2023-05-26T15:57:59.982Z"
      },
      {
        "duration": 13,
        "start_time": "2023-05-26T15:58:00.085Z"
      },
      {
        "duration": 18,
        "start_time": "2023-05-26T15:58:00.930Z"
      },
      {
        "duration": 18,
        "start_time": "2023-05-26T15:58:01.114Z"
      },
      {
        "duration": 29,
        "start_time": "2023-05-26T15:58:01.299Z"
      },
      {
        "duration": 274,
        "start_time": "2023-05-26T15:58:01.778Z"
      },
      {
        "duration": 273,
        "start_time": "2023-05-26T15:58:02.429Z"
      },
      {
        "duration": 239,
        "start_time": "2023-05-26T15:58:03.046Z"
      },
      {
        "duration": 407,
        "start_time": "2023-05-26T15:58:03.840Z"
      },
      {
        "duration": 21,
        "start_time": "2023-05-26T15:58:05.188Z"
      },
      {
        "duration": 11,
        "start_time": "2023-05-26T15:58:06.077Z"
      },
      {
        "duration": 13,
        "start_time": "2023-05-26T15:58:06.717Z"
      },
      {
        "duration": 17,
        "start_time": "2023-05-26T15:58:07.315Z"
      },
      {
        "duration": 3,
        "start_time": "2023-05-26T15:58:08.637Z"
      },
      {
        "duration": 141,
        "start_time": "2023-05-26T15:58:10.484Z"
      },
      {
        "duration": 12,
        "start_time": "2023-05-26T15:58:11.316Z"
      },
      {
        "duration": 4,
        "start_time": "2023-05-26T15:58:14.369Z"
      },
      {
        "duration": 5,
        "start_time": "2023-05-26T15:58:16.652Z"
      },
      {
        "duration": 7,
        "start_time": "2023-05-26T15:58:19.924Z"
      },
      {
        "duration": 116,
        "start_time": "2023-05-26T15:59:44.833Z"
      },
      {
        "duration": 777,
        "start_time": "2023-05-26T16:04:42.343Z"
      },
      {
        "duration": 7,
        "start_time": "2023-05-26T16:05:03.507Z"
      },
      {
        "duration": 8,
        "start_time": "2023-05-26T16:06:16.877Z"
      },
      {
        "duration": 6,
        "start_time": "2023-05-26T16:09:35.317Z"
      },
      {
        "duration": 21,
        "start_time": "2023-05-26T16:10:40.504Z"
      },
      {
        "duration": 6,
        "start_time": "2023-05-26T16:10:54.321Z"
      },
      {
        "duration": 9,
        "start_time": "2023-05-26T16:11:33.486Z"
      },
      {
        "duration": 577,
        "start_time": "2023-05-26T16:12:19.786Z"
      },
      {
        "duration": 6,
        "start_time": "2023-05-26T16:14:31.606Z"
      },
      {
        "duration": 544,
        "start_time": "2023-05-26T16:14:31.697Z"
      },
      {
        "duration": 18,
        "start_time": "2023-05-26T16:23:46.565Z"
      },
      {
        "duration": 16,
        "start_time": "2023-05-26T16:25:24.907Z"
      },
      {
        "duration": 245,
        "start_time": "2023-05-26T16:28:03.770Z"
      },
      {
        "duration": 372,
        "start_time": "2023-05-26T16:41:27.306Z"
      },
      {
        "duration": 156,
        "start_time": "2023-05-26T17:17:06.215Z"
      },
      {
        "duration": 7,
        "start_time": "2023-05-26T17:21:09.923Z"
      },
      {
        "duration": 10,
        "start_time": "2023-05-26T17:23:23.385Z"
      },
      {
        "duration": 5,
        "start_time": "2023-05-26T17:23:23.425Z"
      },
      {
        "duration": 4,
        "start_time": "2023-05-26T17:24:58.776Z"
      },
      {
        "duration": 4,
        "start_time": "2023-05-26T17:25:26.517Z"
      },
      {
        "duration": 257,
        "start_time": "2023-05-26T17:26:22.184Z"
      },
      {
        "duration": 248,
        "start_time": "2023-05-26T17:26:51.245Z"
      },
      {
        "duration": 11,
        "start_time": "2023-05-26T17:34:10.022Z"
      },
      {
        "duration": 4,
        "start_time": "2023-05-26T17:34:22.879Z"
      },
      {
        "duration": 9,
        "start_time": "2023-05-26T17:38:03.889Z"
      },
      {
        "duration": 6,
        "start_time": "2023-05-26T17:40:54.497Z"
      },
      {
        "duration": 6,
        "start_time": "2023-05-26T17:42:11.832Z"
      },
      {
        "duration": 1039,
        "start_time": "2023-05-26T17:48:47.070Z"
      },
      {
        "duration": 68,
        "start_time": "2023-05-26T17:48:48.111Z"
      },
      {
        "duration": 21,
        "start_time": "2023-05-26T17:48:48.180Z"
      },
      {
        "duration": 20,
        "start_time": "2023-05-26T17:48:48.203Z"
      },
      {
        "duration": 15,
        "start_time": "2023-05-26T17:48:48.334Z"
      },
      {
        "duration": 8,
        "start_time": "2023-05-26T17:48:49.320Z"
      },
      {
        "duration": 11,
        "start_time": "2023-05-26T17:48:49.658Z"
      },
      {
        "duration": 5,
        "start_time": "2023-05-26T17:48:50.143Z"
      },
      {
        "duration": 10,
        "start_time": "2023-05-26T17:48:50.497Z"
      },
      {
        "duration": 9,
        "start_time": "2023-05-26T17:48:51.144Z"
      },
      {
        "duration": 5,
        "start_time": "2023-05-26T17:48:51.316Z"
      },
      {
        "duration": 5,
        "start_time": "2023-05-26T17:48:51.494Z"
      },
      {
        "duration": 14,
        "start_time": "2023-05-26T17:48:51.668Z"
      },
      {
        "duration": 8,
        "start_time": "2023-05-26T17:48:51.837Z"
      },
      {
        "duration": 156,
        "start_time": "2023-05-26T17:48:52.366Z"
      },
      {
        "duration": 110,
        "start_time": "2023-05-26T17:48:52.731Z"
      },
      {
        "duration": 117,
        "start_time": "2023-05-26T17:48:53.084Z"
      },
      {
        "duration": 122,
        "start_time": "2023-05-26T17:48:53.213Z"
      },
      {
        "duration": 116,
        "start_time": "2023-05-26T17:48:53.391Z"
      },
      {
        "duration": 113,
        "start_time": "2023-05-26T17:48:53.561Z"
      },
      {
        "duration": 123,
        "start_time": "2023-05-26T17:48:53.733Z"
      },
      {
        "duration": 188,
        "start_time": "2023-05-26T17:48:54.206Z"
      },
      {
        "duration": 6,
        "start_time": "2023-05-26T17:48:54.537Z"
      },
      {
        "duration": 172,
        "start_time": "2023-05-26T17:48:54.695Z"
      },
      {
        "duration": 332,
        "start_time": "2023-05-26T17:48:55.368Z"
      },
      {
        "duration": 284,
        "start_time": "2023-05-26T17:48:55.911Z"
      },
      {
        "duration": 296,
        "start_time": "2023-05-26T17:48:56.250Z"
      },
      {
        "duration": 10,
        "start_time": "2023-05-26T17:48:57.079Z"
      },
      {
        "duration": 12,
        "start_time": "2023-05-26T17:48:57.449Z"
      },
      {
        "duration": 18,
        "start_time": "2023-05-26T17:48:57.943Z"
      },
      {
        "duration": 17,
        "start_time": "2023-05-26T17:48:58.295Z"
      },
      {
        "duration": 33,
        "start_time": "2023-05-26T17:48:58.462Z"
      },
      {
        "duration": 243,
        "start_time": "2023-05-26T17:48:59.310Z"
      },
      {
        "duration": 229,
        "start_time": "2023-05-26T17:48:59.735Z"
      },
      {
        "duration": 257,
        "start_time": "2023-05-26T17:49:00.451Z"
      },
      {
        "duration": 341,
        "start_time": "2023-05-26T17:49:00.923Z"
      },
      {
        "duration": 20,
        "start_time": "2023-05-26T17:49:02.195Z"
      },
      {
        "duration": 11,
        "start_time": "2023-05-26T17:49:02.379Z"
      },
      {
        "duration": 10,
        "start_time": "2023-05-26T17:49:02.565Z"
      },
      {
        "duration": 12,
        "start_time": "2023-05-26T17:49:03.167Z"
      },
      {
        "duration": 3,
        "start_time": "2023-05-26T17:49:03.575Z"
      },
      {
        "duration": 132,
        "start_time": "2023-05-26T17:49:03.795Z"
      },
      {
        "duration": 12,
        "start_time": "2023-05-26T17:49:03.996Z"
      },
      {
        "duration": 9,
        "start_time": "2023-05-26T17:49:04.623Z"
      },
      {
        "duration": 5,
        "start_time": "2023-05-26T17:49:05.895Z"
      },
      {
        "duration": 6,
        "start_time": "2023-05-26T17:49:06.870Z"
      },
      {
        "duration": 6,
        "start_time": "2023-05-26T17:49:07.264Z"
      },
      {
        "duration": 1153,
        "start_time": "2023-05-27T07:13:37.412Z"
      },
      {
        "duration": 86,
        "start_time": "2023-05-27T07:13:38.567Z"
      },
      {
        "duration": 19,
        "start_time": "2023-05-27T07:13:38.655Z"
      },
      {
        "duration": 16,
        "start_time": "2023-05-27T07:13:38.676Z"
      },
      {
        "duration": 13,
        "start_time": "2023-05-27T07:13:38.693Z"
      },
      {
        "duration": 8,
        "start_time": "2023-05-27T07:13:38.707Z"
      },
      {
        "duration": 15,
        "start_time": "2023-05-27T07:13:38.717Z"
      },
      {
        "duration": 6,
        "start_time": "2023-05-27T07:13:38.745Z"
      },
      {
        "duration": 23,
        "start_time": "2023-05-27T07:13:38.752Z"
      },
      {
        "duration": 11,
        "start_time": "2023-05-27T07:13:38.777Z"
      },
      {
        "duration": 6,
        "start_time": "2023-05-27T07:13:38.789Z"
      },
      {
        "duration": 5,
        "start_time": "2023-05-27T07:13:38.797Z"
      },
      {
        "duration": 13,
        "start_time": "2023-05-27T07:13:38.803Z"
      },
      {
        "duration": 25,
        "start_time": "2023-05-27T07:13:38.817Z"
      },
      {
        "duration": 159,
        "start_time": "2023-05-27T07:13:38.848Z"
      },
      {
        "duration": 154,
        "start_time": "2023-05-27T07:13:39.008Z"
      },
      {
        "duration": 131,
        "start_time": "2023-05-27T07:13:39.164Z"
      },
      {
        "duration": 158,
        "start_time": "2023-05-27T07:13:39.297Z"
      },
      {
        "duration": 144,
        "start_time": "2023-05-27T07:13:39.459Z"
      },
      {
        "duration": 158,
        "start_time": "2023-05-27T07:13:39.605Z"
      },
      {
        "duration": 167,
        "start_time": "2023-05-27T07:13:39.765Z"
      },
      {
        "duration": 196,
        "start_time": "2023-05-27T07:13:39.938Z"
      },
      {
        "duration": 10,
        "start_time": "2023-05-27T07:13:40.138Z"
      },
      {
        "duration": 212,
        "start_time": "2023-05-27T07:13:40.149Z"
      },
      {
        "duration": 344,
        "start_time": "2023-05-27T07:13:40.363Z"
      },
      {
        "duration": 296,
        "start_time": "2023-05-27T07:13:40.709Z"
      },
      {
        "duration": 305,
        "start_time": "2023-05-27T07:13:41.007Z"
      },
      {
        "duration": 20,
        "start_time": "2023-05-27T07:13:41.316Z"
      },
      {
        "duration": 14,
        "start_time": "2023-05-27T07:13:41.340Z"
      },
      {
        "duration": 21,
        "start_time": "2023-05-27T07:13:41.355Z"
      },
      {
        "duration": 13,
        "start_time": "2023-05-27T07:13:41.378Z"
      },
      {
        "duration": 41,
        "start_time": "2023-05-27T07:13:41.393Z"
      },
      {
        "duration": 332,
        "start_time": "2023-05-27T07:13:41.435Z"
      },
      {
        "duration": 270,
        "start_time": "2023-05-27T07:13:41.769Z"
      },
      {
        "duration": 264,
        "start_time": "2023-05-27T07:13:42.040Z"
      },
      {
        "duration": 352,
        "start_time": "2023-05-27T07:13:42.306Z"
      },
      {
        "duration": 21,
        "start_time": "2023-05-27T07:13:42.660Z"
      },
      {
        "duration": 11,
        "start_time": "2023-05-27T07:13:42.683Z"
      },
      {
        "duration": 19,
        "start_time": "2023-05-27T07:13:42.695Z"
      },
      {
        "duration": 39,
        "start_time": "2023-05-27T07:13:42.715Z"
      },
      {
        "duration": 7,
        "start_time": "2023-05-27T07:13:42.756Z"
      },
      {
        "duration": 151,
        "start_time": "2023-05-27T07:13:42.765Z"
      },
      {
        "duration": 31,
        "start_time": "2023-05-27T07:13:42.917Z"
      },
      {
        "duration": 13,
        "start_time": "2023-05-27T07:13:42.951Z"
      },
      {
        "duration": 13,
        "start_time": "2023-05-27T07:13:42.966Z"
      },
      {
        "duration": 16,
        "start_time": "2023-05-27T07:13:42.981Z"
      },
      {
        "duration": 7,
        "start_time": "2023-05-27T07:13:42.999Z"
      },
      {
        "duration": 14,
        "start_time": "2023-05-27T07:23:20.612Z"
      },
      {
        "duration": 100,
        "start_time": "2023-05-27T07:27:13.354Z"
      },
      {
        "duration": 6,
        "start_time": "2023-05-27T07:27:20.097Z"
      },
      {
        "duration": 16,
        "start_time": "2023-05-27T07:30:28.251Z"
      },
      {
        "duration": 17,
        "start_time": "2023-05-27T07:34:58.761Z"
      },
      {
        "duration": 7,
        "start_time": "2023-05-27T07:35:59.751Z"
      },
      {
        "duration": 5,
        "start_time": "2023-05-27T07:40:23.298Z"
      },
      {
        "duration": 6,
        "start_time": "2023-05-27T07:40:34.856Z"
      },
      {
        "duration": 5,
        "start_time": "2023-05-27T07:40:43.890Z"
      },
      {
        "duration": 4,
        "start_time": "2023-05-27T07:41:21.064Z"
      },
      {
        "duration": 6,
        "start_time": "2023-05-27T07:41:55.950Z"
      },
      {
        "duration": 1073,
        "start_time": "2023-05-27T07:42:07.308Z"
      },
      {
        "duration": 75,
        "start_time": "2023-05-27T07:42:08.383Z"
      },
      {
        "duration": 23,
        "start_time": "2023-05-27T07:42:08.460Z"
      },
      {
        "duration": 16,
        "start_time": "2023-05-27T07:42:08.486Z"
      },
      {
        "duration": 12,
        "start_time": "2023-05-27T07:42:08.503Z"
      },
      {
        "duration": 25,
        "start_time": "2023-05-27T07:42:08.516Z"
      },
      {
        "duration": 13,
        "start_time": "2023-05-27T07:42:08.545Z"
      },
      {
        "duration": 11,
        "start_time": "2023-05-27T07:42:08.559Z"
      },
      {
        "duration": 20,
        "start_time": "2023-05-27T07:42:08.572Z"
      },
      {
        "duration": 10,
        "start_time": "2023-05-27T07:42:08.594Z"
      },
      {
        "duration": 5,
        "start_time": "2023-05-27T07:42:08.605Z"
      },
      {
        "duration": 4,
        "start_time": "2023-05-27T07:42:08.612Z"
      },
      {
        "duration": 17,
        "start_time": "2023-05-27T07:42:08.617Z"
      },
      {
        "duration": 18,
        "start_time": "2023-05-27T07:42:08.636Z"
      },
      {
        "duration": 151,
        "start_time": "2023-05-27T07:42:08.655Z"
      },
      {
        "duration": 123,
        "start_time": "2023-05-27T07:42:08.808Z"
      },
      {
        "duration": 135,
        "start_time": "2023-05-27T07:42:08.932Z"
      },
      {
        "duration": 148,
        "start_time": "2023-05-27T07:42:09.068Z"
      },
      {
        "duration": 133,
        "start_time": "2023-05-27T07:42:09.218Z"
      },
      {
        "duration": 122,
        "start_time": "2023-05-27T07:42:09.355Z"
      },
      {
        "duration": 129,
        "start_time": "2023-05-27T07:42:09.479Z"
      },
      {
        "duration": 249,
        "start_time": "2023-05-27T07:42:09.610Z"
      },
      {
        "duration": 8,
        "start_time": "2023-05-27T07:42:09.862Z"
      },
      {
        "duration": 226,
        "start_time": "2023-05-27T07:42:09.871Z"
      },
      {
        "duration": 343,
        "start_time": "2023-05-27T07:42:10.098Z"
      },
      {
        "duration": 302,
        "start_time": "2023-05-27T07:42:10.447Z"
      },
      {
        "duration": 301,
        "start_time": "2023-05-27T07:42:10.754Z"
      },
      {
        "duration": 11,
        "start_time": "2023-05-27T07:42:11.058Z"
      },
      {
        "duration": 10,
        "start_time": "2023-05-27T07:42:11.070Z"
      },
      {
        "duration": 18,
        "start_time": "2023-05-27T07:42:11.082Z"
      },
      {
        "duration": 57,
        "start_time": "2023-05-27T07:42:11.101Z"
      },
      {
        "duration": 31,
        "start_time": "2023-05-27T07:42:11.160Z"
      },
      {
        "duration": 255,
        "start_time": "2023-05-27T07:42:11.192Z"
      },
      {
        "duration": 239,
        "start_time": "2023-05-27T07:42:11.450Z"
      },
      {
        "duration": 228,
        "start_time": "2023-05-27T07:42:11.690Z"
      },
      {
        "duration": 345,
        "start_time": "2023-05-27T07:42:11.919Z"
      },
      {
        "duration": 18,
        "start_time": "2023-05-27T07:42:12.265Z"
      },
      {
        "duration": 8,
        "start_time": "2023-05-27T07:42:12.285Z"
      },
      {
        "duration": 10,
        "start_time": "2023-05-27T07:42:12.295Z"
      },
      {
        "duration": 35,
        "start_time": "2023-05-27T07:42:12.307Z"
      },
      {
        "duration": 4,
        "start_time": "2023-05-27T07:42:12.343Z"
      },
      {
        "duration": 132,
        "start_time": "2023-05-27T07:42:12.349Z"
      },
      {
        "duration": 11,
        "start_time": "2023-05-27T07:42:12.483Z"
      },
      {
        "duration": 9,
        "start_time": "2023-05-27T07:42:12.496Z"
      },
      {
        "duration": 27,
        "start_time": "2023-05-27T07:42:12.507Z"
      },
      {
        "duration": 17,
        "start_time": "2023-05-27T07:42:12.536Z"
      },
      {
        "duration": 7,
        "start_time": "2023-05-27T07:42:12.555Z"
      },
      {
        "duration": 6,
        "start_time": "2023-05-27T07:42:12.564Z"
      },
      {
        "duration": 1086,
        "start_time": "2023-05-27T07:47:08.604Z"
      },
      {
        "duration": 75,
        "start_time": "2023-05-27T07:47:09.692Z"
      },
      {
        "duration": 26,
        "start_time": "2023-05-27T07:47:09.769Z"
      },
      {
        "duration": 24,
        "start_time": "2023-05-27T07:47:09.798Z"
      },
      {
        "duration": 17,
        "start_time": "2023-05-27T07:47:09.824Z"
      },
      {
        "duration": 21,
        "start_time": "2023-05-27T07:47:09.843Z"
      },
      {
        "duration": 14,
        "start_time": "2023-05-27T07:47:09.866Z"
      },
      {
        "duration": 6,
        "start_time": "2023-05-27T07:47:09.882Z"
      },
      {
        "duration": 11,
        "start_time": "2023-05-27T07:47:09.890Z"
      },
      {
        "duration": 24,
        "start_time": "2023-05-27T07:47:09.903Z"
      },
      {
        "duration": 5,
        "start_time": "2023-05-27T07:47:09.929Z"
      },
      {
        "duration": 6,
        "start_time": "2023-05-27T07:47:09.936Z"
      },
      {
        "duration": 14,
        "start_time": "2023-05-27T07:47:09.943Z"
      },
      {
        "duration": 12,
        "start_time": "2023-05-27T07:47:09.959Z"
      },
      {
        "duration": 157,
        "start_time": "2023-05-27T07:47:09.972Z"
      },
      {
        "duration": 120,
        "start_time": "2023-05-27T07:47:10.131Z"
      },
      {
        "duration": 123,
        "start_time": "2023-05-27T07:47:10.252Z"
      },
      {
        "duration": 131,
        "start_time": "2023-05-27T07:47:10.377Z"
      },
      {
        "duration": 121,
        "start_time": "2023-05-27T07:47:10.509Z"
      },
      {
        "duration": 140,
        "start_time": "2023-05-27T07:47:10.631Z"
      },
      {
        "duration": 122,
        "start_time": "2023-05-27T07:47:10.775Z"
      },
      {
        "duration": 184,
        "start_time": "2023-05-27T07:47:10.899Z"
      },
      {
        "duration": 6,
        "start_time": "2023-05-27T07:47:11.085Z"
      },
      {
        "duration": 184,
        "start_time": "2023-05-27T07:47:11.093Z"
      },
      {
        "duration": 320,
        "start_time": "2023-05-27T07:47:11.279Z"
      },
      {
        "duration": 258,
        "start_time": "2023-05-27T07:47:11.601Z"
      },
      {
        "duration": 267,
        "start_time": "2023-05-27T07:47:11.861Z"
      },
      {
        "duration": 9,
        "start_time": "2023-05-27T07:47:12.132Z"
      },
      {
        "duration": 19,
        "start_time": "2023-05-27T07:47:12.142Z"
      },
      {
        "duration": 29,
        "start_time": "2023-05-27T07:47:12.163Z"
      },
      {
        "duration": 30,
        "start_time": "2023-05-27T07:47:12.194Z"
      },
      {
        "duration": 29,
        "start_time": "2023-05-27T07:47:12.226Z"
      },
      {
        "duration": 234,
        "start_time": "2023-05-27T07:47:12.256Z"
      },
      {
        "duration": 234,
        "start_time": "2023-05-27T07:47:12.492Z"
      },
      {
        "duration": 232,
        "start_time": "2023-05-27T07:47:12.728Z"
      },
      {
        "duration": 319,
        "start_time": "2023-05-27T07:47:12.962Z"
      },
      {
        "duration": 20,
        "start_time": "2023-05-27T07:47:13.282Z"
      },
      {
        "duration": 24,
        "start_time": "2023-05-27T07:47:13.304Z"
      },
      {
        "duration": 38,
        "start_time": "2023-05-27T07:47:13.330Z"
      },
      {
        "duration": 49,
        "start_time": "2023-05-27T07:47:13.370Z"
      },
      {
        "duration": 23,
        "start_time": "2023-05-27T07:47:13.421Z"
      },
      {
        "duration": 131,
        "start_time": "2023-05-27T07:47:13.446Z"
      },
      {
        "duration": 12,
        "start_time": "2023-05-27T07:47:13.579Z"
      },
      {
        "duration": 27,
        "start_time": "2023-05-27T07:47:13.592Z"
      },
      {
        "duration": 16,
        "start_time": "2023-05-27T07:47:13.620Z"
      },
      {
        "duration": 27,
        "start_time": "2023-05-27T07:47:13.638Z"
      },
      {
        "duration": 39,
        "start_time": "2023-05-27T07:47:13.667Z"
      },
      {
        "duration": 62,
        "start_time": "2023-05-27T11:33:16.225Z"
      },
      {
        "duration": 1340,
        "start_time": "2023-05-27T11:33:32.886Z"
      },
      {
        "duration": 239,
        "start_time": "2023-05-27T11:33:34.228Z"
      },
      {
        "duration": 31,
        "start_time": "2023-05-27T11:33:34.470Z"
      },
      {
        "duration": 23,
        "start_time": "2023-05-27T11:33:37.151Z"
      },
      {
        "duration": 16,
        "start_time": "2023-05-27T11:33:39.197Z"
      },
      {
        "duration": 17,
        "start_time": "2023-05-27T11:33:46.926Z"
      },
      {
        "duration": 18,
        "start_time": "2023-05-27T11:33:53.852Z"
      },
      {
        "duration": 6,
        "start_time": "2023-05-27T11:33:56.556Z"
      },
      {
        "duration": 10,
        "start_time": "2023-05-27T11:33:57.209Z"
      },
      {
        "duration": 1128,
        "start_time": "2023-05-27T11:55:49.386Z"
      },
      {
        "duration": 83,
        "start_time": "2023-05-27T11:55:50.516Z"
      },
      {
        "duration": 20,
        "start_time": "2023-05-27T11:55:50.601Z"
      },
      {
        "duration": 23,
        "start_time": "2023-05-27T11:55:50.622Z"
      },
      {
        "duration": 31,
        "start_time": "2023-05-27T11:55:50.648Z"
      },
      {
        "duration": 19,
        "start_time": "2023-05-27T11:55:50.680Z"
      },
      {
        "duration": 20,
        "start_time": "2023-05-27T11:55:50.700Z"
      },
      {
        "duration": 6,
        "start_time": "2023-05-27T11:55:50.722Z"
      },
      {
        "duration": 37,
        "start_time": "2023-05-27T11:55:50.729Z"
      },
      {
        "duration": 10,
        "start_time": "2023-05-27T11:55:59.705Z"
      },
      {
        "duration": 5,
        "start_time": "2023-05-27T11:56:35.100Z"
      },
      {
        "duration": 53,
        "start_time": "2023-05-27T11:56:35.106Z"
      },
      {
        "duration": 150,
        "start_time": "2023-05-27T11:59:27.451Z"
      },
      {
        "duration": 159,
        "start_time": "2023-05-27T12:00:38.592Z"
      },
      {
        "duration": 145,
        "start_time": "2023-05-27T12:01:46.207Z"
      },
      {
        "duration": 141,
        "start_time": "2023-05-27T12:02:06.449Z"
      },
      {
        "duration": 150,
        "start_time": "2023-05-27T12:02:21.395Z"
      },
      {
        "duration": 143,
        "start_time": "2023-05-27T12:02:50.406Z"
      },
      {
        "duration": 139,
        "start_time": "2023-05-27T12:02:56.749Z"
      },
      {
        "duration": 156,
        "start_time": "2023-05-27T12:03:49.430Z"
      },
      {
        "duration": 71,
        "start_time": "2023-05-27T12:05:49.357Z"
      },
      {
        "duration": 140,
        "start_time": "2023-05-27T12:16:56.495Z"
      },
      {
        "duration": 76,
        "start_time": "2023-05-27T12:17:57.407Z"
      },
      {
        "duration": 89,
        "start_time": "2023-05-27T12:19:09.234Z"
      },
      {
        "duration": 83,
        "start_time": "2023-05-27T12:19:52.903Z"
      },
      {
        "duration": 141,
        "start_time": "2023-05-27T12:22:43.604Z"
      },
      {
        "duration": 105,
        "start_time": "2023-05-27T12:23:31.498Z"
      },
      {
        "duration": 135,
        "start_time": "2023-05-27T12:25:28.292Z"
      },
      {
        "duration": 130,
        "start_time": "2023-05-27T12:26:26.619Z"
      },
      {
        "duration": 147,
        "start_time": "2023-05-27T12:26:58.334Z"
      },
      {
        "duration": 143,
        "start_time": "2023-05-27T12:27:30.024Z"
      },
      {
        "duration": 138,
        "start_time": "2023-05-27T12:27:45.720Z"
      },
      {
        "duration": 160,
        "start_time": "2023-05-27T12:28:05.255Z"
      },
      {
        "duration": 185,
        "start_time": "2023-05-27T12:33:30.422Z"
      },
      {
        "duration": 271,
        "start_time": "2023-05-27T12:33:39.622Z"
      },
      {
        "duration": 1362,
        "start_time": "2023-05-27T12:36:30.646Z"
      },
      {
        "duration": 310,
        "start_time": "2023-05-27T12:39:38.975Z"
      },
      {
        "duration": 297,
        "start_time": "2023-05-27T12:40:17.913Z"
      },
      {
        "duration": 296,
        "start_time": "2023-05-27T12:42:59.285Z"
      },
      {
        "duration": 262,
        "start_time": "2023-05-27T12:43:49.123Z"
      },
      {
        "duration": 179,
        "start_time": "2023-05-27T12:45:32.703Z"
      },
      {
        "duration": 440,
        "start_time": "2023-05-27T12:47:34.702Z"
      },
      {
        "duration": 269,
        "start_time": "2023-05-27T12:48:28.280Z"
      },
      {
        "duration": 297,
        "start_time": "2023-05-27T12:48:50.483Z"
      },
      {
        "duration": 10,
        "start_time": "2023-05-27T13:28:44.814Z"
      },
      {
        "duration": 6,
        "start_time": "2023-05-27T13:29:00.785Z"
      },
      {
        "duration": 14,
        "start_time": "2023-05-27T13:29:22.174Z"
      },
      {
        "duration": 11,
        "start_time": "2023-05-27T13:31:14.629Z"
      },
      {
        "duration": 8,
        "start_time": "2023-05-27T13:32:52.431Z"
      },
      {
        "duration": 9,
        "start_time": "2023-05-27T13:33:02.111Z"
      },
      {
        "duration": 1140,
        "start_time": "2023-05-27T13:34:02.803Z"
      },
      {
        "duration": 0,
        "start_time": "2023-05-27T13:34:03.944Z"
      },
      {
        "duration": 1042,
        "start_time": "2023-05-27T13:34:41.147Z"
      },
      {
        "duration": 64,
        "start_time": "2023-05-27T13:34:42.191Z"
      },
      {
        "duration": 22,
        "start_time": "2023-05-27T13:34:42.345Z"
      },
      {
        "duration": 17,
        "start_time": "2023-05-27T13:34:42.661Z"
      },
      {
        "duration": 14,
        "start_time": "2023-05-27T13:34:43.000Z"
      },
      {
        "duration": 7,
        "start_time": "2023-05-27T13:34:44.212Z"
      },
      {
        "duration": 10,
        "start_time": "2023-05-27T13:34:44.608Z"
      },
      {
        "duration": 5,
        "start_time": "2023-05-27T13:34:45.129Z"
      },
      {
        "duration": 9,
        "start_time": "2023-05-27T13:34:45.491Z"
      },
      {
        "duration": 10,
        "start_time": "2023-05-27T13:34:56.812Z"
      },
      {
        "duration": 4,
        "start_time": "2023-05-27T13:34:59.112Z"
      },
      {
        "duration": 6,
        "start_time": "2023-05-27T13:35:01.266Z"
      },
      {
        "duration": 14,
        "start_time": "2023-05-27T13:35:02.648Z"
      },
      {
        "duration": 8,
        "start_time": "2023-05-27T13:35:04.356Z"
      },
      {
        "duration": 145,
        "start_time": "2023-05-27T13:35:06.487Z"
      },
      {
        "duration": 87,
        "start_time": "2023-05-27T13:35:10.472Z"
      },
      {
        "duration": 148,
        "start_time": "2023-05-27T13:35:11.991Z"
      },
      {
        "duration": 131,
        "start_time": "2023-05-27T13:35:12.140Z"
      },
      {
        "duration": 138,
        "start_time": "2023-05-27T13:35:12.383Z"
      },
      {
        "duration": 155,
        "start_time": "2023-05-27T13:35:12.523Z"
      },
      {
        "duration": 147,
        "start_time": "2023-05-27T13:35:13.824Z"
      },
      {
        "duration": 182,
        "start_time": "2023-05-27T13:35:25.552Z"
      },
      {
        "duration": 293,
        "start_time": "2023-05-27T13:35:35.141Z"
      },
      {
        "duration": 355,
        "start_time": "2023-05-27T13:35:57.612Z"
      },
      {
        "duration": 9,
        "start_time": "2023-05-27T13:36:08.412Z"
      },
      {
        "duration": 12,
        "start_time": "2023-05-27T13:36:11.733Z"
      },
      {
        "duration": 14,
        "start_time": "2023-05-27T13:36:14.492Z"
      },
      {
        "duration": 14,
        "start_time": "2023-05-27T13:36:20.635Z"
      },
      {
        "duration": 14,
        "start_time": "2023-05-27T13:36:31.687Z"
      },
      {
        "duration": 24,
        "start_time": "2023-05-27T13:36:33.806Z"
      },
      {
        "duration": 1183,
        "start_time": "2023-05-27T13:36:41.730Z"
      },
      {
        "duration": 0,
        "start_time": "2023-05-27T13:36:42.914Z"
      },
      {
        "duration": 1144,
        "start_time": "2023-05-27T13:36:46.304Z"
      },
      {
        "duration": 0,
        "start_time": "2023-05-27T13:36:47.450Z"
      },
      {
        "duration": 17,
        "start_time": "2023-05-27T13:39:36.884Z"
      },
      {
        "duration": 1166,
        "start_time": "2023-05-27T13:40:19.417Z"
      },
      {
        "duration": 68,
        "start_time": "2023-05-27T13:40:20.585Z"
      },
      {
        "duration": 23,
        "start_time": "2023-05-27T13:40:20.655Z"
      },
      {
        "duration": 18,
        "start_time": "2023-05-27T13:40:20.916Z"
      },
      {
        "duration": 18,
        "start_time": "2023-05-27T13:40:21.307Z"
      },
      {
        "duration": 8,
        "start_time": "2023-05-27T13:40:22.749Z"
      },
      {
        "duration": 12,
        "start_time": "2023-05-27T13:40:23.188Z"
      },
      {
        "duration": 6,
        "start_time": "2023-05-27T13:40:23.821Z"
      },
      {
        "duration": 12,
        "start_time": "2023-05-27T13:40:24.216Z"
      },
      {
        "duration": 10,
        "start_time": "2023-05-27T13:40:25.513Z"
      },
      {
        "duration": 5,
        "start_time": "2023-05-27T13:40:25.897Z"
      },
      {
        "duration": 5,
        "start_time": "2023-05-27T13:40:26.205Z"
      },
      {
        "duration": 14,
        "start_time": "2023-05-27T13:40:26.574Z"
      },
      {
        "duration": 13,
        "start_time": "2023-05-27T13:40:26.952Z"
      },
      {
        "duration": 172,
        "start_time": "2023-05-27T13:40:28.297Z"
      },
      {
        "duration": 100,
        "start_time": "2023-05-27T13:40:29.893Z"
      },
      {
        "duration": 191,
        "start_time": "2023-05-27T13:40:30.972Z"
      },
      {
        "duration": 154,
        "start_time": "2023-05-27T13:40:31.165Z"
      },
      {
        "duration": 145,
        "start_time": "2023-05-27T13:40:31.326Z"
      },
      {
        "duration": 139,
        "start_time": "2023-05-27T13:40:31.485Z"
      },
      {
        "duration": 140,
        "start_time": "2023-05-27T13:40:31.657Z"
      },
      {
        "duration": 204,
        "start_time": "2023-05-27T13:40:33.581Z"
      },
      {
        "duration": 260,
        "start_time": "2023-05-27T13:40:53.757Z"
      },
      {
        "duration": 353,
        "start_time": "2023-05-27T13:40:55.139Z"
      },
      {
        "duration": 8,
        "start_time": "2023-05-27T13:40:57.129Z"
      },
      {
        "duration": 12,
        "start_time": "2023-05-27T13:41:00.484Z"
      },
      {
        "duration": 15,
        "start_time": "2023-05-27T13:41:03.890Z"
      },
      {
        "duration": 16,
        "start_time": "2023-05-27T13:41:23.049Z"
      },
      {
        "duration": 16,
        "start_time": "2023-05-27T13:42:43.721Z"
      },
      {
        "duration": 17,
        "start_time": "2023-05-27T13:43:17.091Z"
      },
      {
        "duration": 19,
        "start_time": "2023-05-27T13:43:34.157Z"
      },
      {
        "duration": 16,
        "start_time": "2023-05-27T13:44:06.872Z"
      },
      {
        "duration": 20,
        "start_time": "2023-05-27T13:44:42.009Z"
      },
      {
        "duration": 1120,
        "start_time": "2023-05-27T13:44:56.800Z"
      },
      {
        "duration": 67,
        "start_time": "2023-05-27T13:44:57.925Z"
      },
      {
        "duration": 25,
        "start_time": "2023-05-27T13:44:57.994Z"
      },
      {
        "duration": 19,
        "start_time": "2023-05-27T13:44:58.211Z"
      },
      {
        "duration": 17,
        "start_time": "2023-05-27T13:44:58.552Z"
      },
      {
        "duration": 9,
        "start_time": "2023-05-27T13:44:59.725Z"
      },
      {
        "duration": 10,
        "start_time": "2023-05-27T13:45:00.100Z"
      },
      {
        "duration": 5,
        "start_time": "2023-05-27T13:45:00.642Z"
      },
      {
        "duration": 10,
        "start_time": "2023-05-27T13:45:01.013Z"
      },
      {
        "duration": 11,
        "start_time": "2023-05-27T13:45:02.045Z"
      },
      {
        "duration": 5,
        "start_time": "2023-05-27T13:45:02.352Z"
      },
      {
        "duration": 5,
        "start_time": "2023-05-27T13:45:02.724Z"
      },
      {
        "duration": 14,
        "start_time": "2023-05-27T13:45:03.089Z"
      },
      {
        "duration": 9,
        "start_time": "2023-05-27T13:45:03.555Z"
      },
      {
        "duration": 163,
        "start_time": "2023-05-27T13:45:06.365Z"
      },
      {
        "duration": 92,
        "start_time": "2023-05-27T13:45:07.689Z"
      },
      {
        "duration": 140,
        "start_time": "2023-05-27T13:45:08.540Z"
      },
      {
        "duration": 131,
        "start_time": "2023-05-27T13:45:08.695Z"
      },
      {
        "duration": 141,
        "start_time": "2023-05-27T13:45:08.885Z"
      },
      {
        "duration": 140,
        "start_time": "2023-05-27T13:45:09.077Z"
      },
      {
        "duration": 156,
        "start_time": "2023-05-27T13:45:09.267Z"
      },
      {
        "duration": 201,
        "start_time": "2023-05-27T13:45:10.169Z"
      },
      {
        "duration": 271,
        "start_time": "2023-05-27T13:45:11.810Z"
      },
      {
        "duration": 418,
        "start_time": "2023-05-27T13:45:13.041Z"
      },
      {
        "duration": 11,
        "start_time": "2023-05-27T13:45:16.297Z"
      },
      {
        "duration": 11,
        "start_time": "2023-05-27T13:45:38.480Z"
      },
      {
        "duration": 21,
        "start_time": "2023-05-27T13:45:40.849Z"
      },
      {
        "duration": 18,
        "start_time": "2023-05-27T13:45:56.410Z"
      },
      {
        "duration": 21,
        "start_time": "2023-05-27T13:46:24.677Z"
      },
      {
        "duration": 18,
        "start_time": "2023-05-27T13:46:39.212Z"
      },
      {
        "duration": 29,
        "start_time": "2023-05-27T13:46:50.281Z"
      },
      {
        "duration": 294,
        "start_time": "2023-05-27T13:47:41.011Z"
      },
      {
        "duration": 230,
        "start_time": "2023-05-27T13:47:46.930Z"
      },
      {
        "duration": 252,
        "start_time": "2023-05-27T13:47:55.758Z"
      },
      {
        "duration": 272,
        "start_time": "2023-05-27T13:48:07.721Z"
      },
      {
        "duration": 3,
        "start_time": "2023-05-27T13:48:33.620Z"
      },
      {
        "duration": 25,
        "start_time": "2023-05-27T13:49:09.364Z"
      },
      {
        "duration": 11,
        "start_time": "2023-05-27T13:49:12.756Z"
      },
      {
        "duration": 102,
        "start_time": "2023-05-27T13:49:25.062Z"
      },
      {
        "duration": 10,
        "start_time": "2023-05-27T13:49:51.793Z"
      },
      {
        "duration": 16,
        "start_time": "2023-05-27T13:50:41.152Z"
      },
      {
        "duration": 12,
        "start_time": "2023-05-27T14:00:32.417Z"
      },
      {
        "duration": 1142,
        "start_time": "2023-05-27T14:02:01.653Z"
      },
      {
        "duration": 66,
        "start_time": "2023-05-27T14:02:02.797Z"
      },
      {
        "duration": 22,
        "start_time": "2023-05-27T14:02:02.865Z"
      },
      {
        "duration": 18,
        "start_time": "2023-05-27T14:02:03.212Z"
      },
      {
        "duration": 16,
        "start_time": "2023-05-27T14:02:03.533Z"
      },
      {
        "duration": 9,
        "start_time": "2023-05-27T14:02:04.690Z"
      },
      {
        "duration": 11,
        "start_time": "2023-05-27T14:02:05.020Z"
      },
      {
        "duration": 6,
        "start_time": "2023-05-27T14:02:05.533Z"
      },
      {
        "duration": 9,
        "start_time": "2023-05-27T14:02:05.897Z"
      },
      {
        "duration": 10,
        "start_time": "2023-05-27T14:02:06.902Z"
      },
      {
        "duration": 4,
        "start_time": "2023-05-27T14:02:07.254Z"
      },
      {
        "duration": 5,
        "start_time": "2023-05-27T14:02:07.591Z"
      },
      {
        "duration": 15,
        "start_time": "2023-05-27T14:02:07.940Z"
      },
      {
        "duration": 8,
        "start_time": "2023-05-27T14:02:08.308Z"
      },
      {
        "duration": 167,
        "start_time": "2023-05-27T14:02:09.523Z"
      },
      {
        "duration": 107,
        "start_time": "2023-05-27T14:02:10.725Z"
      },
      {
        "duration": 157,
        "start_time": "2023-05-27T14:02:11.577Z"
      },
      {
        "duration": 153,
        "start_time": "2023-05-27T14:02:11.736Z"
      },
      {
        "duration": 153,
        "start_time": "2023-05-27T14:02:11.900Z"
      },
      {
        "duration": 164,
        "start_time": "2023-05-27T14:02:12.093Z"
      },
      {
        "duration": 166,
        "start_time": "2023-05-27T14:02:12.271Z"
      },
      {
        "duration": 213,
        "start_time": "2023-05-27T14:02:13.119Z"
      },
      {
        "duration": 301,
        "start_time": "2023-05-27T14:02:15.013Z"
      },
      {
        "duration": 373,
        "start_time": "2023-05-27T14:02:15.892Z"
      },
      {
        "duration": 11,
        "start_time": "2023-05-27T14:02:19.187Z"
      },
      {
        "duration": 12,
        "start_time": "2023-05-27T14:02:20.323Z"
      },
      {
        "duration": 28,
        "start_time": "2023-05-27T14:02:21.749Z"
      },
      {
        "duration": 21,
        "start_time": "2023-05-27T14:03:26.998Z"
      },
      {
        "duration": 19,
        "start_time": "2023-05-27T14:03:27.805Z"
      },
      {
        "duration": 28,
        "start_time": "2023-05-27T14:03:29.305Z"
      },
      {
        "duration": 245,
        "start_time": "2023-05-27T14:03:38.784Z"
      },
      {
        "duration": 251,
        "start_time": "2023-05-27T14:03:40.120Z"
      },
      {
        "duration": 311,
        "start_time": "2023-05-27T14:03:40.852Z"
      },
      {
        "duration": 256,
        "start_time": "2023-05-27T14:03:42.132Z"
      },
      {
        "duration": 3,
        "start_time": "2023-05-27T14:03:50.320Z"
      },
      {
        "duration": 115,
        "start_time": "2023-05-27T14:03:51.773Z"
      },
      {
        "duration": 13,
        "start_time": "2023-05-27T14:04:49.881Z"
      },
      {
        "duration": 13,
        "start_time": "2023-05-27T14:06:41.446Z"
      },
      {
        "duration": 11,
        "start_time": "2023-05-27T14:07:58.678Z"
      },
      {
        "duration": 30,
        "start_time": "2023-05-27T14:08:31.662Z"
      },
      {
        "duration": 13,
        "start_time": "2023-05-27T14:08:37.681Z"
      },
      {
        "duration": 14,
        "start_time": "2023-05-27T14:08:55.883Z"
      },
      {
        "duration": 17,
        "start_time": "2023-05-27T14:08:58.047Z"
      },
      {
        "duration": 12,
        "start_time": "2023-05-27T14:09:26.158Z"
      },
      {
        "duration": 70,
        "start_time": "2023-05-27T14:11:58.352Z"
      },
      {
        "duration": 76,
        "start_time": "2023-05-27T14:12:18.641Z"
      },
      {
        "duration": 112,
        "start_time": "2023-05-27T14:12:45.824Z"
      },
      {
        "duration": 103,
        "start_time": "2023-05-27T14:12:56.294Z"
      },
      {
        "duration": 5,
        "start_time": "2023-05-27T14:13:18.415Z"
      },
      {
        "duration": 14,
        "start_time": "2023-05-27T14:14:15.434Z"
      },
      {
        "duration": 8,
        "start_time": "2023-05-27T15:16:48.799Z"
      },
      {
        "duration": 5,
        "start_time": "2023-05-27T15:23:09.952Z"
      },
      {
        "duration": 9,
        "start_time": "2023-05-27T15:23:32.036Z"
      },
      {
        "duration": 10,
        "start_time": "2023-05-27T15:24:12.038Z"
      },
      {
        "duration": 8,
        "start_time": "2023-05-27T15:25:27.814Z"
      },
      {
        "duration": 6,
        "start_time": "2023-05-27T15:30:41.727Z"
      },
      {
        "duration": 5,
        "start_time": "2023-05-27T15:33:32.881Z"
      },
      {
        "duration": 5,
        "start_time": "2023-05-27T15:33:36.089Z"
      },
      {
        "duration": 5,
        "start_time": "2023-05-27T15:34:54.136Z"
      },
      {
        "duration": 6,
        "start_time": "2023-05-27T15:35:07.281Z"
      },
      {
        "duration": 5,
        "start_time": "2023-05-27T15:35:24.481Z"
      },
      {
        "duration": 5,
        "start_time": "2023-05-27T15:35:33.792Z"
      },
      {
        "duration": 5,
        "start_time": "2023-05-27T15:35:50.537Z"
      },
      {
        "duration": 5,
        "start_time": "2023-05-27T15:39:10.259Z"
      },
      {
        "duration": 5,
        "start_time": "2023-05-27T15:39:49.282Z"
      },
      {
        "duration": 6,
        "start_time": "2023-05-27T15:40:03.136Z"
      },
      {
        "duration": 5,
        "start_time": "2023-05-27T15:40:16.598Z"
      },
      {
        "duration": 6,
        "start_time": "2023-05-27T15:40:30.137Z"
      },
      {
        "duration": 6,
        "start_time": "2023-05-27T15:40:37.149Z"
      },
      {
        "duration": 7,
        "start_time": "2023-05-27T15:40:44.387Z"
      },
      {
        "duration": 10,
        "start_time": "2023-05-27T15:40:56.713Z"
      },
      {
        "duration": 6,
        "start_time": "2023-05-27T15:41:44.946Z"
      },
      {
        "duration": 5,
        "start_time": "2023-05-27T15:43:19.217Z"
      },
      {
        "duration": 5,
        "start_time": "2023-05-27T15:43:32.738Z"
      },
      {
        "duration": 5,
        "start_time": "2023-05-27T15:43:54.238Z"
      },
      {
        "duration": 8,
        "start_time": "2023-05-27T15:48:54.874Z"
      },
      {
        "duration": 19,
        "start_time": "2023-05-27T15:50:19.532Z"
      },
      {
        "duration": 6,
        "start_time": "2023-05-27T15:50:55.188Z"
      },
      {
        "duration": 5,
        "start_time": "2023-05-27T15:51:10.011Z"
      },
      {
        "duration": 5,
        "start_time": "2023-05-27T15:51:21.175Z"
      },
      {
        "duration": 6,
        "start_time": "2023-05-27T16:03:22.540Z"
      },
      {
        "duration": 5,
        "start_time": "2023-05-27T16:04:49.176Z"
      },
      {
        "duration": 4,
        "start_time": "2023-05-27T16:05:28.176Z"
      },
      {
        "duration": 5,
        "start_time": "2023-05-27T16:06:39.706Z"
      },
      {
        "duration": 7,
        "start_time": "2023-05-27T16:07:50.821Z"
      },
      {
        "duration": 5,
        "start_time": "2023-05-27T16:09:36.382Z"
      },
      {
        "duration": 5,
        "start_time": "2023-05-27T16:12:09.999Z"
      },
      {
        "duration": 5,
        "start_time": "2023-05-27T16:14:20.158Z"
      },
      {
        "duration": 6,
        "start_time": "2023-05-27T16:14:31.137Z"
      },
      {
        "duration": 6,
        "start_time": "2023-05-27T16:14:54.875Z"
      },
      {
        "duration": 6,
        "start_time": "2023-05-27T16:15:23.515Z"
      },
      {
        "duration": 6,
        "start_time": "2023-05-27T16:15:34.911Z"
      },
      {
        "duration": 6,
        "start_time": "2023-05-27T16:16:45.131Z"
      },
      {
        "duration": 357,
        "start_time": "2023-05-27T16:30:45.025Z"
      },
      {
        "duration": 260,
        "start_time": "2023-05-27T16:31:31.440Z"
      },
      {
        "duration": 247,
        "start_time": "2023-05-27T16:31:46.418Z"
      },
      {
        "duration": 253,
        "start_time": "2023-05-27T16:32:20.530Z"
      },
      {
        "duration": 1083,
        "start_time": "2023-05-27T16:42:31.120Z"
      },
      {
        "duration": 65,
        "start_time": "2023-05-27T16:42:32.205Z"
      },
      {
        "duration": 20,
        "start_time": "2023-05-27T16:42:32.390Z"
      },
      {
        "duration": 17,
        "start_time": "2023-05-27T16:42:32.723Z"
      },
      {
        "duration": 15,
        "start_time": "2023-05-27T16:42:33.075Z"
      },
      {
        "duration": 8,
        "start_time": "2023-05-27T16:42:34.233Z"
      },
      {
        "duration": 11,
        "start_time": "2023-05-27T16:42:34.545Z"
      },
      {
        "duration": 5,
        "start_time": "2023-05-27T16:42:35.043Z"
      },
      {
        "duration": 10,
        "start_time": "2023-05-27T16:42:35.383Z"
      },
      {
        "duration": 9,
        "start_time": "2023-05-27T16:42:36.384Z"
      },
      {
        "duration": 5,
        "start_time": "2023-05-27T16:42:36.736Z"
      },
      {
        "duration": 5,
        "start_time": "2023-05-27T16:42:37.074Z"
      },
      {
        "duration": 13,
        "start_time": "2023-05-27T16:42:37.423Z"
      },
      {
        "duration": 9,
        "start_time": "2023-05-27T16:42:37.776Z"
      },
      {
        "duration": 162,
        "start_time": "2023-05-27T16:42:39.008Z"
      },
      {
        "duration": 89,
        "start_time": "2023-05-27T16:42:40.193Z"
      },
      {
        "duration": 158,
        "start_time": "2023-05-27T16:42:41.049Z"
      },
      {
        "duration": 123,
        "start_time": "2023-05-27T16:42:41.233Z"
      },
      {
        "duration": 132,
        "start_time": "2023-05-27T16:42:41.414Z"
      },
      {
        "duration": 145,
        "start_time": "2023-05-27T16:42:41.584Z"
      },
      {
        "duration": 143,
        "start_time": "2023-05-27T16:42:41.773Z"
      },
      {
        "duration": 175,
        "start_time": "2023-05-27T16:42:42.642Z"
      },
      {
        "duration": 247,
        "start_time": "2023-05-27T16:42:44.095Z"
      },
      {
        "duration": 368,
        "start_time": "2023-05-27T16:42:44.983Z"
      },
      {
        "duration": 10,
        "start_time": "2023-05-27T16:42:46.537Z"
      },
      {
        "duration": 11,
        "start_time": "2023-05-27T16:42:46.912Z"
      },
      {
        "duration": 18,
        "start_time": "2023-05-27T16:42:47.090Z"
      },
      {
        "duration": 19,
        "start_time": "2023-05-27T16:42:47.933Z"
      },
      {
        "duration": 16,
        "start_time": "2023-05-27T16:42:48.294Z"
      },
      {
        "duration": 26,
        "start_time": "2023-05-27T16:42:48.641Z"
      },
      {
        "duration": 239,
        "start_time": "2023-05-27T16:42:49.910Z"
      },
      {
        "duration": 233,
        "start_time": "2023-05-27T16:42:50.425Z"
      },
      {
        "duration": 220,
        "start_time": "2023-05-27T16:42:51.181Z"
      },
      {
        "duration": 245,
        "start_time": "2023-05-27T16:42:51.721Z"
      },
      {
        "duration": 13,
        "start_time": "2023-05-27T16:42:53.241Z"
      },
      {
        "duration": 25,
        "start_time": "2023-05-27T16:42:53.445Z"
      },
      {
        "duration": 11,
        "start_time": "2023-05-27T16:42:53.668Z"
      },
      {
        "duration": 11,
        "start_time": "2023-05-27T16:42:54.073Z"
      },
      {
        "duration": 6,
        "start_time": "2023-05-27T16:42:55.043Z"
      },
      {
        "duration": 12,
        "start_time": "2023-05-27T16:42:55.210Z"
      },
      {
        "duration": 6,
        "start_time": "2023-05-27T16:42:56.896Z"
      },
      {
        "duration": 5,
        "start_time": "2023-05-27T16:42:57.281Z"
      },
      {
        "duration": 5,
        "start_time": "2023-05-27T16:43:00.075Z"
      },
      {
        "duration": 3,
        "start_time": "2023-05-27T16:43:00.780Z"
      },
      {
        "duration": 7,
        "start_time": "2023-05-27T16:43:05.168Z"
      },
      {
        "duration": 5,
        "start_time": "2023-05-27T16:43:05.777Z"
      },
      {
        "duration": 4,
        "start_time": "2023-05-27T16:43:06.355Z"
      },
      {
        "duration": 1370,
        "start_time": "2023-05-28T05:04:11.278Z"
      },
      {
        "duration": 318,
        "start_time": "2023-05-28T05:04:12.650Z"
      },
      {
        "duration": 28,
        "start_time": "2023-05-28T05:04:12.971Z"
      },
      {
        "duration": 23,
        "start_time": "2023-05-28T05:04:13.001Z"
      },
      {
        "duration": 31,
        "start_time": "2023-05-28T05:04:13.026Z"
      },
      {
        "duration": 10,
        "start_time": "2023-05-28T05:04:13.059Z"
      },
      {
        "duration": 12,
        "start_time": "2023-05-28T05:04:13.070Z"
      },
      {
        "duration": 5,
        "start_time": "2023-05-28T05:04:13.084Z"
      },
      {
        "duration": 13,
        "start_time": "2023-05-28T05:04:13.091Z"
      },
      {
        "duration": 11,
        "start_time": "2023-05-28T05:04:13.106Z"
      },
      {
        "duration": 7,
        "start_time": "2023-05-28T05:04:13.157Z"
      },
      {
        "duration": 15,
        "start_time": "2023-05-28T05:04:13.165Z"
      },
      {
        "duration": 19,
        "start_time": "2023-05-28T05:04:13.183Z"
      },
      {
        "duration": 10,
        "start_time": "2023-05-28T05:04:13.204Z"
      },
      {
        "duration": 206,
        "start_time": "2023-05-28T05:04:13.216Z"
      },
      {
        "duration": 108,
        "start_time": "2023-05-28T05:04:13.424Z"
      },
      {
        "duration": 170,
        "start_time": "2023-05-28T05:04:13.535Z"
      },
      {
        "duration": 159,
        "start_time": "2023-05-28T05:04:13.708Z"
      },
      {
        "duration": 210,
        "start_time": "2023-05-28T05:04:13.870Z"
      },
      {
        "duration": 185,
        "start_time": "2023-05-28T05:04:14.083Z"
      },
      {
        "duration": 152,
        "start_time": "2023-05-28T05:04:14.270Z"
      },
      {
        "duration": 203,
        "start_time": "2023-05-28T05:04:14.423Z"
      },
      {
        "duration": 305,
        "start_time": "2023-05-28T05:04:14.627Z"
      },
      {
        "duration": 377,
        "start_time": "2023-05-28T05:04:14.934Z"
      },
      {
        "duration": 11,
        "start_time": "2023-05-28T05:04:15.313Z"
      },
      {
        "duration": 15,
        "start_time": "2023-05-28T05:04:15.326Z"
      },
      {
        "duration": 28,
        "start_time": "2023-05-28T05:04:15.343Z"
      },
      {
        "duration": 24,
        "start_time": "2023-05-28T05:04:15.374Z"
      },
      {
        "duration": 18,
        "start_time": "2023-05-28T05:04:15.399Z"
      },
      {
        "duration": 60,
        "start_time": "2023-05-28T05:04:15.419Z"
      },
      {
        "duration": 265,
        "start_time": "2023-05-28T05:04:15.481Z"
      },
      {
        "duration": 264,
        "start_time": "2023-05-28T05:04:15.748Z"
      },
      {
        "duration": 257,
        "start_time": "2023-05-28T05:04:16.014Z"
      },
      {
        "duration": 255,
        "start_time": "2023-05-28T05:04:16.272Z"
      },
      {
        "duration": 13,
        "start_time": "2023-05-28T05:04:16.529Z"
      },
      {
        "duration": 33,
        "start_time": "2023-05-28T05:04:16.558Z"
      },
      {
        "duration": 14,
        "start_time": "2023-05-28T05:04:16.592Z"
      },
      {
        "duration": 36,
        "start_time": "2023-05-28T05:04:16.607Z"
      },
      {
        "duration": 9,
        "start_time": "2023-05-28T05:04:16.644Z"
      },
      {
        "duration": 36,
        "start_time": "2023-05-28T05:04:16.654Z"
      },
      {
        "duration": 10,
        "start_time": "2023-05-28T05:04:16.691Z"
      },
      {
        "duration": 5,
        "start_time": "2023-05-28T05:04:16.702Z"
      },
      {
        "duration": 6,
        "start_time": "2023-05-28T05:04:16.709Z"
      },
      {
        "duration": 4,
        "start_time": "2023-05-28T05:04:16.717Z"
      },
      {
        "duration": 8,
        "start_time": "2023-05-28T05:04:16.723Z"
      },
      {
        "duration": 23,
        "start_time": "2023-05-28T05:04:16.733Z"
      },
      {
        "duration": 5,
        "start_time": "2023-05-28T05:04:16.758Z"
      },
      {
        "duration": 221,
        "start_time": "2023-05-28T05:08:30.922Z"
      },
      {
        "duration": 246,
        "start_time": "2023-05-28T05:08:38.666Z"
      },
      {
        "duration": 1064,
        "start_time": "2023-05-28T05:09:13.464Z"
      },
      {
        "duration": 715,
        "start_time": "2023-05-28T05:09:38.502Z"
      },
      {
        "duration": 19,
        "start_time": "2023-05-28T05:10:28.285Z"
      },
      {
        "duration": 8,
        "start_time": "2023-05-28T05:13:12.233Z"
      },
      {
        "duration": 21,
        "start_time": "2023-05-28T05:15:03.051Z"
      },
      {
        "duration": 1190,
        "start_time": "2023-05-28T05:25:05.919Z"
      },
      {
        "duration": 71,
        "start_time": "2023-05-28T05:25:07.111Z"
      },
      {
        "duration": 25,
        "start_time": "2023-05-28T05:25:07.184Z"
      },
      {
        "duration": 18,
        "start_time": "2023-05-28T05:25:07.211Z"
      },
      {
        "duration": 25,
        "start_time": "2023-05-28T05:25:07.231Z"
      },
      {
        "duration": 10,
        "start_time": "2023-05-28T05:25:07.258Z"
      },
      {
        "duration": 12,
        "start_time": "2023-05-28T05:25:07.270Z"
      },
      {
        "duration": 6,
        "start_time": "2023-05-28T05:25:07.284Z"
      },
      {
        "duration": 16,
        "start_time": "2023-05-28T05:25:07.292Z"
      },
      {
        "duration": 45,
        "start_time": "2023-05-28T05:25:07.312Z"
      },
      {
        "duration": 14,
        "start_time": "2023-05-28T05:25:07.359Z"
      },
      {
        "duration": 7,
        "start_time": "2023-05-28T05:25:07.374Z"
      },
      {
        "duration": 40,
        "start_time": "2023-05-28T05:25:07.383Z"
      },
      {
        "duration": 9,
        "start_time": "2023-05-28T05:25:07.424Z"
      },
      {
        "duration": 170,
        "start_time": "2023-05-28T05:25:07.435Z"
      },
      {
        "duration": 97,
        "start_time": "2023-05-28T05:25:07.607Z"
      },
      {
        "duration": 165,
        "start_time": "2023-05-28T05:25:07.706Z"
      },
      {
        "duration": 182,
        "start_time": "2023-05-28T05:25:07.874Z"
      },
      {
        "duration": 172,
        "start_time": "2023-05-28T05:25:08.058Z"
      },
      {
        "duration": 180,
        "start_time": "2023-05-28T05:25:08.232Z"
      },
      {
        "duration": 167,
        "start_time": "2023-05-28T05:25:08.414Z"
      },
      {
        "duration": 819,
        "start_time": "2023-05-28T05:25:08.584Z"
      },
      {
        "duration": 224,
        "start_time": "2023-05-28T05:25:09.407Z"
      },
      {
        "duration": 303,
        "start_time": "2023-05-28T05:25:09.632Z"
      },
      {
        "duration": 313,
        "start_time": "2023-05-28T05:25:09.937Z"
      },
      {
        "duration": 11,
        "start_time": "2023-05-28T05:25:10.251Z"
      },
      {
        "duration": 13,
        "start_time": "2023-05-28T05:25:10.263Z"
      },
      {
        "duration": 37,
        "start_time": "2023-05-28T05:25:10.279Z"
      },
      {
        "duration": 51,
        "start_time": "2023-05-28T05:25:10.318Z"
      },
      {
        "duration": 21,
        "start_time": "2023-05-28T05:25:10.371Z"
      },
      {
        "duration": 39,
        "start_time": "2023-05-28T05:25:10.394Z"
      },
      {
        "duration": 383,
        "start_time": "2023-05-28T05:25:10.458Z"
      },
      {
        "duration": 295,
        "start_time": "2023-05-28T05:25:10.843Z"
      },
      {
        "duration": 344,
        "start_time": "2023-05-28T05:25:11.139Z"
      },
      {
        "duration": 318,
        "start_time": "2023-05-28T05:25:11.486Z"
      },
      {
        "duration": 16,
        "start_time": "2023-05-28T05:25:11.806Z"
      },
      {
        "duration": 51,
        "start_time": "2023-05-28T05:25:11.824Z"
      },
      {
        "duration": 17,
        "start_time": "2023-05-28T05:25:11.877Z"
      },
      {
        "duration": 16,
        "start_time": "2023-05-28T05:25:11.896Z"
      },
      {
        "duration": 12,
        "start_time": "2023-05-28T05:25:11.914Z"
      },
      {
        "duration": 41,
        "start_time": "2023-05-28T05:25:11.928Z"
      },
      {
        "duration": 17,
        "start_time": "2023-05-28T05:25:11.971Z"
      },
      {
        "duration": 8,
        "start_time": "2023-05-28T05:25:11.991Z"
      },
      {
        "duration": 7,
        "start_time": "2023-05-28T05:25:12.000Z"
      },
      {
        "duration": 5,
        "start_time": "2023-05-28T05:25:12.010Z"
      },
      {
        "duration": 42,
        "start_time": "2023-05-28T05:25:12.017Z"
      },
      {
        "duration": 8,
        "start_time": "2023-05-28T05:25:12.061Z"
      },
      {
        "duration": 26,
        "start_time": "2023-05-28T05:25:12.072Z"
      },
      {
        "duration": 1178,
        "start_time": "2023-05-28T05:56:57.742Z"
      },
      {
        "duration": 296,
        "start_time": "2023-05-28T05:56:58.922Z"
      },
      {
        "duration": 22,
        "start_time": "2023-05-28T05:56:59.220Z"
      },
      {
        "duration": 16,
        "start_time": "2023-05-28T05:56:59.276Z"
      },
      {
        "duration": 14,
        "start_time": "2023-05-28T05:56:59.602Z"
      },
      {
        "duration": 7,
        "start_time": "2023-05-28T05:57:00.875Z"
      },
      {
        "duration": 10,
        "start_time": "2023-05-28T05:57:01.231Z"
      },
      {
        "duration": 5,
        "start_time": "2023-05-28T05:57:01.734Z"
      },
      {
        "duration": 10,
        "start_time": "2023-05-28T05:57:02.715Z"
      },
      {
        "duration": 10,
        "start_time": "2023-05-28T05:57:04.578Z"
      },
      {
        "duration": 5,
        "start_time": "2023-05-28T05:57:05.225Z"
      },
      {
        "duration": 5,
        "start_time": "2023-05-28T05:57:05.712Z"
      },
      {
        "duration": 12,
        "start_time": "2023-05-28T05:57:06.136Z"
      },
      {
        "duration": 8,
        "start_time": "2023-05-28T05:57:06.575Z"
      },
      {
        "duration": 87,
        "start_time": "2023-05-28T05:57:13.798Z"
      },
      {
        "duration": 202,
        "start_time": "2023-05-28T05:57:27.251Z"
      },
      {
        "duration": 58,
        "start_time": "2023-05-28T06:03:18.491Z"
      },
      {
        "duration": 10,
        "start_time": "2023-05-28T06:10:36.967Z"
      },
      {
        "duration": 1101,
        "start_time": "2023-05-28T06:11:00.302Z"
      },
      {
        "duration": 67,
        "start_time": "2023-05-28T06:11:01.405Z"
      },
      {
        "duration": 22,
        "start_time": "2023-05-28T06:11:01.474Z"
      },
      {
        "duration": 20,
        "start_time": "2023-05-28T06:11:01.787Z"
      },
      {
        "duration": 15,
        "start_time": "2023-05-28T06:11:02.119Z"
      },
      {
        "duration": 7,
        "start_time": "2023-05-28T06:11:03.819Z"
      },
      {
        "duration": 10,
        "start_time": "2023-05-28T06:11:03.895Z"
      },
      {
        "duration": 5,
        "start_time": "2023-05-28T06:11:04.387Z"
      },
      {
        "duration": 10,
        "start_time": "2023-05-28T06:11:04.737Z"
      },
      {
        "duration": 9,
        "start_time": "2023-05-28T06:11:06.092Z"
      },
      {
        "duration": 4,
        "start_time": "2023-05-28T06:11:06.442Z"
      },
      {
        "duration": 5,
        "start_time": "2023-05-28T06:11:06.804Z"
      },
      {
        "duration": 13,
        "start_time": "2023-05-28T06:11:07.192Z"
      },
      {
        "duration": 9,
        "start_time": "2023-05-28T06:11:07.587Z"
      },
      {
        "duration": 141,
        "start_time": "2023-05-28T06:11:09.049Z"
      },
      {
        "duration": 79,
        "start_time": "2023-05-28T06:11:12.297Z"
      },
      {
        "duration": 144,
        "start_time": "2023-05-28T06:11:13.945Z"
      },
      {
        "duration": 139,
        "start_time": "2023-05-28T06:11:14.190Z"
      },
      {
        "duration": 147,
        "start_time": "2023-05-28T06:11:14.374Z"
      },
      {
        "duration": 136,
        "start_time": "2023-05-28T06:11:14.574Z"
      },
      {
        "duration": 134,
        "start_time": "2023-05-28T06:11:14.787Z"
      },
      {
        "duration": 877,
        "start_time": "2023-05-28T06:11:16.952Z"
      },
      {
        "duration": 197,
        "start_time": "2023-05-28T06:11:17.831Z"
      },
      {
        "duration": 412,
        "start_time": "2023-05-28T06:11:27.739Z"
      },
      {
        "duration": 320,
        "start_time": "2023-05-28T06:11:29.444Z"
      },
      {
        "duration": 9,
        "start_time": "2023-05-28T06:12:29.147Z"
      },
      {
        "duration": 12,
        "start_time": "2023-05-28T06:12:30.113Z"
      },
      {
        "duration": 34,
        "start_time": "2023-05-28T06:12:30.435Z"
      },
      {
        "duration": 21,
        "start_time": "2023-05-28T06:12:33.883Z"
      },
      {
        "duration": 17,
        "start_time": "2023-05-28T06:12:34.925Z"
      },
      {
        "duration": 47,
        "start_time": "2023-05-28T06:12:35.736Z"
      },
      {
        "duration": 247,
        "start_time": "2023-05-28T06:12:39.503Z"
      },
      {
        "duration": 420,
        "start_time": "2023-05-28T06:13:20.316Z"
      },
      {
        "duration": 247,
        "start_time": "2023-05-28T06:14:32.050Z"
      },
      {
        "duration": 361,
        "start_time": "2023-05-28T06:14:44.558Z"
      },
      {
        "duration": 355,
        "start_time": "2023-05-28T06:15:59.003Z"
      },
      {
        "duration": 510,
        "start_time": "2023-05-28T06:17:14.018Z"
      },
      {
        "duration": 355,
        "start_time": "2023-05-28T06:18:13.955Z"
      },
      {
        "duration": 21,
        "start_time": "2023-05-28T06:18:17.790Z"
      },
      {
        "duration": 25,
        "start_time": "2023-05-28T06:18:18.010Z"
      },
      {
        "duration": 12,
        "start_time": "2023-05-28T06:18:18.225Z"
      },
      {
        "duration": 12,
        "start_time": "2023-05-28T06:18:19.573Z"
      },
      {
        "duration": 5,
        "start_time": "2023-05-28T06:18:23.175Z"
      },
      {
        "duration": 14,
        "start_time": "2023-05-28T06:18:23.354Z"
      },
      {
        "duration": 6,
        "start_time": "2023-05-28T06:18:27.099Z"
      },
      {
        "duration": 5,
        "start_time": "2023-05-28T06:19:16.176Z"
      },
      {
        "duration": 5,
        "start_time": "2023-05-28T06:19:37.231Z"
      },
      {
        "duration": 108,
        "start_time": "2023-05-28T06:21:30.681Z"
      },
      {
        "duration": 6,
        "start_time": "2023-05-28T06:21:49.947Z"
      },
      {
        "duration": 5,
        "start_time": "2023-05-28T06:21:52.427Z"
      },
      {
        "duration": 1097,
        "start_time": "2023-05-28T06:32:19.766Z"
      },
      {
        "duration": 68,
        "start_time": "2023-05-28T06:32:20.865Z"
      },
      {
        "duration": 21,
        "start_time": "2023-05-28T06:32:20.934Z"
      },
      {
        "duration": 18,
        "start_time": "2023-05-28T06:32:21.222Z"
      },
      {
        "duration": 14,
        "start_time": "2023-05-28T06:32:21.556Z"
      },
      {
        "duration": 9,
        "start_time": "2023-05-28T06:32:23.074Z"
      },
      {
        "duration": 12,
        "start_time": "2023-05-28T06:32:23.526Z"
      },
      {
        "duration": 18,
        "start_time": "2023-05-28T06:32:23.540Z"
      },
      {
        "duration": 11,
        "start_time": "2023-05-28T06:32:23.863Z"
      },
      {
        "duration": 11,
        "start_time": "2023-05-28T06:32:25.028Z"
      },
      {
        "duration": 4,
        "start_time": "2023-05-28T06:32:25.372Z"
      },
      {
        "duration": 7,
        "start_time": "2023-05-28T06:32:25.694Z"
      },
      {
        "duration": 15,
        "start_time": "2023-05-28T06:32:26.022Z"
      },
      {
        "duration": 9,
        "start_time": "2023-05-28T06:32:26.359Z"
      },
      {
        "duration": 183,
        "start_time": "2023-05-28T06:32:27.682Z"
      },
      {
        "duration": 101,
        "start_time": "2023-05-28T06:32:29.335Z"
      },
      {
        "duration": 166,
        "start_time": "2023-05-28T06:32:30.391Z"
      },
      {
        "duration": 155,
        "start_time": "2023-05-28T06:32:30.560Z"
      },
      {
        "duration": 176,
        "start_time": "2023-05-28T06:32:30.717Z"
      },
      {
        "duration": 157,
        "start_time": "2023-05-28T06:32:30.896Z"
      },
      {
        "duration": 156,
        "start_time": "2023-05-28T06:32:31.341Z"
      },
      {
        "duration": 813,
        "start_time": "2023-05-28T06:32:32.615Z"
      },
      {
        "duration": 222,
        "start_time": "2023-05-28T06:32:33.430Z"
      },
      {
        "duration": 267,
        "start_time": "2023-05-28T06:32:34.504Z"
      },
      {
        "duration": 368,
        "start_time": "2023-05-28T06:32:35.376Z"
      },
      {
        "duration": 10,
        "start_time": "2023-05-28T06:32:37.215Z"
      },
      {
        "duration": 18,
        "start_time": "2023-05-28T06:32:37.595Z"
      },
      {
        "duration": 19,
        "start_time": "2023-05-28T06:32:37.911Z"
      },
      {
        "duration": 20,
        "start_time": "2023-05-28T06:32:39.095Z"
      },
      {
        "duration": 17,
        "start_time": "2023-05-28T06:32:39.440Z"
      },
      {
        "duration": 31,
        "start_time": "2023-05-28T06:32:39.765Z"
      },
      {
        "duration": 272,
        "start_time": "2023-05-28T06:32:40.766Z"
      },
      {
        "duration": 336,
        "start_time": "2023-05-28T06:32:41.262Z"
      },
      {
        "duration": 246,
        "start_time": "2023-05-28T06:32:41.989Z"
      },
      {
        "duration": 246,
        "start_time": "2023-05-28T06:32:42.502Z"
      },
      {
        "duration": 355,
        "start_time": "2023-05-28T06:32:43.743Z"
      },
      {
        "duration": 472,
        "start_time": "2023-05-28T06:32:44.100Z"
      },
      {
        "duration": 15,
        "start_time": "2023-05-28T06:32:45.149Z"
      },
      {
        "duration": 25,
        "start_time": "2023-05-28T06:32:45.308Z"
      },
      {
        "duration": 14,
        "start_time": "2023-05-28T06:32:45.493Z"
      },
      {
        "duration": 15,
        "start_time": "2023-05-28T06:32:45.836Z"
      },
      {
        "duration": 5,
        "start_time": "2023-05-28T06:32:46.858Z"
      },
      {
        "duration": 13,
        "start_time": "2023-05-28T06:32:47.030Z"
      },
      {
        "duration": 9,
        "start_time": "2023-05-28T06:32:48.985Z"
      },
      {
        "duration": 4,
        "start_time": "2023-05-28T06:32:49.715Z"
      },
      {
        "duration": 6,
        "start_time": "2023-05-28T06:32:52.191Z"
      },
      {
        "duration": 4,
        "start_time": "2023-05-28T06:32:52.547Z"
      },
      {
        "duration": 8,
        "start_time": "2023-05-28T06:32:54.144Z"
      },
      {
        "duration": 6,
        "start_time": "2023-05-28T06:32:54.590Z"
      },
      {
        "duration": 6,
        "start_time": "2023-05-28T06:32:55.413Z"
      },
      {
        "duration": 1278,
        "start_time": "2023-05-28T07:09:01.158Z"
      },
      {
        "duration": 197,
        "start_time": "2023-05-28T07:09:02.438Z"
      },
      {
        "duration": 21,
        "start_time": "2023-05-28T07:09:02.637Z"
      },
      {
        "duration": 16,
        "start_time": "2023-05-28T07:09:02.660Z"
      },
      {
        "duration": 14,
        "start_time": "2023-05-28T07:09:02.677Z"
      },
      {
        "duration": 10,
        "start_time": "2023-05-28T07:09:02.692Z"
      },
      {
        "duration": 23,
        "start_time": "2023-05-28T07:09:02.704Z"
      },
      {
        "duration": 21,
        "start_time": "2023-05-28T07:09:02.729Z"
      },
      {
        "duration": 14,
        "start_time": "2023-05-28T07:09:02.752Z"
      },
      {
        "duration": 18,
        "start_time": "2023-05-28T07:09:02.769Z"
      },
      {
        "duration": 11,
        "start_time": "2023-05-28T07:09:02.789Z"
      },
      {
        "duration": 6,
        "start_time": "2023-05-28T07:09:02.802Z"
      },
      {
        "duration": 15,
        "start_time": "2023-05-28T07:09:02.809Z"
      },
      {
        "duration": 16,
        "start_time": "2023-05-28T07:09:02.826Z"
      },
      {
        "duration": 149,
        "start_time": "2023-05-28T07:09:02.843Z"
      },
      {
        "duration": 75,
        "start_time": "2023-05-28T07:09:02.994Z"
      },
      {
        "duration": 111,
        "start_time": "2023-05-28T07:09:03.084Z"
      },
      {
        "duration": 118,
        "start_time": "2023-05-28T07:09:03.197Z"
      },
      {
        "duration": 120,
        "start_time": "2023-05-28T07:09:03.316Z"
      },
      {
        "duration": 123,
        "start_time": "2023-05-28T07:09:03.438Z"
      },
      {
        "duration": 123,
        "start_time": "2023-05-28T07:09:03.563Z"
      },
      {
        "duration": 651,
        "start_time": "2023-05-28T07:09:03.687Z"
      },
      {
        "duration": 164,
        "start_time": "2023-05-28T07:09:04.339Z"
      },
      {
        "duration": 255,
        "start_time": "2023-05-28T07:09:04.504Z"
      },
      {
        "duration": 241,
        "start_time": "2023-05-28T07:09:04.761Z"
      },
      {
        "duration": 8,
        "start_time": "2023-05-28T07:09:05.004Z"
      },
      {
        "duration": 19,
        "start_time": "2023-05-28T07:09:05.014Z"
      },
      {
        "duration": 19,
        "start_time": "2023-05-28T07:09:05.036Z"
      },
      {
        "duration": 17,
        "start_time": "2023-05-28T07:09:05.056Z"
      },
      {
        "duration": 23,
        "start_time": "2023-05-28T07:09:05.074Z"
      },
      {
        "duration": 52,
        "start_time": "2023-05-28T07:09:05.099Z"
      },
      {
        "duration": 264,
        "start_time": "2023-05-28T07:09:05.153Z"
      },
      {
        "duration": 210,
        "start_time": "2023-05-28T07:09:05.419Z"
      },
      {
        "duration": 233,
        "start_time": "2023-05-28T07:09:05.632Z"
      },
      {
        "duration": 268,
        "start_time": "2023-05-28T07:09:05.868Z"
      },
      {
        "duration": 329,
        "start_time": "2023-05-28T07:09:06.138Z"
      },
      {
        "duration": 406,
        "start_time": "2023-05-28T07:09:06.469Z"
      },
      {
        "duration": 19,
        "start_time": "2023-05-28T07:09:06.876Z"
      },
      {
        "duration": 29,
        "start_time": "2023-05-28T07:09:06.896Z"
      },
      {
        "duration": 11,
        "start_time": "2023-05-28T07:09:06.927Z"
      },
      {
        "duration": 14,
        "start_time": "2023-05-28T07:09:06.940Z"
      },
      {
        "duration": 12,
        "start_time": "2023-05-28T07:09:06.956Z"
      },
      {
        "duration": 26,
        "start_time": "2023-05-28T07:09:06.970Z"
      },
      {
        "duration": 12,
        "start_time": "2023-05-28T07:09:06.997Z"
      },
      {
        "duration": 17,
        "start_time": "2023-05-28T07:09:07.011Z"
      },
      {
        "duration": 9,
        "start_time": "2023-05-28T07:09:07.029Z"
      },
      {
        "duration": 4,
        "start_time": "2023-05-28T07:09:07.040Z"
      },
      {
        "duration": 8,
        "start_time": "2023-05-28T07:09:07.045Z"
      },
      {
        "duration": 5,
        "start_time": "2023-05-28T07:09:07.055Z"
      },
      {
        "duration": 4,
        "start_time": "2023-05-28T07:09:07.062Z"
      },
      {
        "duration": 1024,
        "start_time": "2023-05-28T07:13:29.482Z"
      },
      {
        "duration": 65,
        "start_time": "2023-05-28T07:13:30.508Z"
      },
      {
        "duration": 20,
        "start_time": "2023-05-28T07:13:30.574Z"
      },
      {
        "duration": 37,
        "start_time": "2023-05-28T07:13:30.597Z"
      },
      {
        "duration": 36,
        "start_time": "2023-05-28T07:13:30.635Z"
      },
      {
        "duration": 25,
        "start_time": "2023-05-28T07:13:30.672Z"
      },
      {
        "duration": 36,
        "start_time": "2023-05-28T07:13:30.698Z"
      },
      {
        "duration": 20,
        "start_time": "2023-05-28T07:13:30.735Z"
      },
      {
        "duration": 35,
        "start_time": "2023-05-28T07:13:30.757Z"
      },
      {
        "duration": 40,
        "start_time": "2023-05-28T07:13:30.795Z"
      },
      {
        "duration": 52,
        "start_time": "2023-05-28T07:13:30.837Z"
      },
      {
        "duration": 31,
        "start_time": "2023-05-28T07:13:30.890Z"
      },
      {
        "duration": 62,
        "start_time": "2023-05-28T07:13:30.922Z"
      },
      {
        "duration": 27,
        "start_time": "2023-05-28T07:13:30.986Z"
      },
      {
        "duration": 150,
        "start_time": "2023-05-28T07:13:31.015Z"
      },
      {
        "duration": 80,
        "start_time": "2023-05-28T07:13:31.167Z"
      },
      {
        "duration": 135,
        "start_time": "2023-05-28T07:13:31.249Z"
      },
      {
        "duration": 125,
        "start_time": "2023-05-28T07:13:31.386Z"
      },
      {
        "duration": 127,
        "start_time": "2023-05-28T07:13:31.512Z"
      },
      {
        "duration": 135,
        "start_time": "2023-05-28T07:13:31.640Z"
      },
      {
        "duration": 133,
        "start_time": "2023-05-28T07:13:31.777Z"
      },
      {
        "duration": 650,
        "start_time": "2023-05-28T07:13:31.912Z"
      },
      {
        "duration": 170,
        "start_time": "2023-05-28T07:13:32.564Z"
      },
      {
        "duration": 251,
        "start_time": "2023-05-28T07:13:32.736Z"
      },
      {
        "duration": 254,
        "start_time": "2023-05-28T07:13:32.989Z"
      },
      {
        "duration": 10,
        "start_time": "2023-05-28T07:13:33.245Z"
      },
      {
        "duration": 10,
        "start_time": "2023-05-28T07:13:33.256Z"
      },
      {
        "duration": 17,
        "start_time": "2023-05-28T07:13:33.287Z"
      },
      {
        "duration": 18,
        "start_time": "2023-05-28T07:13:33.306Z"
      },
      {
        "duration": 15,
        "start_time": "2023-05-28T07:13:33.325Z"
      },
      {
        "duration": 51,
        "start_time": "2023-05-28T07:13:33.341Z"
      },
      {
        "duration": 289,
        "start_time": "2023-05-28T07:13:33.394Z"
      },
      {
        "duration": 209,
        "start_time": "2023-05-28T07:13:33.685Z"
      },
      {
        "duration": 210,
        "start_time": "2023-05-28T07:13:33.895Z"
      },
      {
        "duration": 233,
        "start_time": "2023-05-28T07:13:34.107Z"
      },
      {
        "duration": 299,
        "start_time": "2023-05-28T07:13:34.341Z"
      },
      {
        "duration": 384,
        "start_time": "2023-05-28T07:13:34.641Z"
      },
      {
        "duration": 10,
        "start_time": "2023-05-28T07:13:35.027Z"
      },
      {
        "duration": 42,
        "start_time": "2023-05-28T07:13:35.039Z"
      },
      {
        "duration": 29,
        "start_time": "2023-05-28T07:13:35.082Z"
      },
      {
        "duration": 29,
        "start_time": "2023-05-28T07:13:35.112Z"
      },
      {
        "duration": 26,
        "start_time": "2023-05-28T07:13:35.142Z"
      },
      {
        "duration": 32,
        "start_time": "2023-05-28T07:13:35.170Z"
      },
      {
        "duration": 17,
        "start_time": "2023-05-28T07:13:35.203Z"
      },
      {
        "duration": 15,
        "start_time": "2023-05-28T07:13:35.221Z"
      },
      {
        "duration": 22,
        "start_time": "2023-05-28T07:13:35.237Z"
      },
      {
        "duration": 7,
        "start_time": "2023-05-28T07:13:35.261Z"
      },
      {
        "duration": 15,
        "start_time": "2023-05-28T07:13:35.269Z"
      },
      {
        "duration": 15,
        "start_time": "2023-05-28T07:13:35.285Z"
      },
      {
        "duration": 20,
        "start_time": "2023-05-28T07:13:35.302Z"
      },
      {
        "duration": 75,
        "start_time": "2023-05-28T07:56:29.680Z"
      },
      {
        "duration": 1394,
        "start_time": "2023-05-28T07:56:44.633Z"
      },
      {
        "duration": 231,
        "start_time": "2023-05-28T07:56:46.029Z"
      },
      {
        "duration": 25,
        "start_time": "2023-05-28T07:56:46.262Z"
      },
      {
        "duration": 19,
        "start_time": "2023-05-28T07:56:46.289Z"
      },
      {
        "duration": 20,
        "start_time": "2023-05-28T07:56:46.661Z"
      },
      {
        "duration": 9,
        "start_time": "2023-05-28T07:56:47.900Z"
      },
      {
        "duration": 16,
        "start_time": "2023-05-28T07:56:48.274Z"
      },
      {
        "duration": 7,
        "start_time": "2023-05-28T07:56:48.861Z"
      },
      {
        "duration": 15,
        "start_time": "2023-05-28T07:56:49.192Z"
      },
      {
        "duration": 17,
        "start_time": "2023-05-28T07:56:50.471Z"
      },
      {
        "duration": 6,
        "start_time": "2023-05-28T07:56:50.880Z"
      },
      {
        "duration": 6,
        "start_time": "2023-05-28T07:56:51.303Z"
      },
      {
        "duration": 16,
        "start_time": "2023-05-28T07:56:51.728Z"
      },
      {
        "duration": 12,
        "start_time": "2023-05-28T07:56:52.068Z"
      },
      {
        "duration": 176,
        "start_time": "2023-05-28T07:56:54.946Z"
      },
      {
        "duration": 105,
        "start_time": "2023-05-28T07:57:04.581Z"
      },
      {
        "duration": 163,
        "start_time": "2023-05-28T07:57:09.630Z"
      },
      {
        "duration": 145,
        "start_time": "2023-05-28T07:57:09.961Z"
      },
      {
        "duration": 150,
        "start_time": "2023-05-28T07:57:10.164Z"
      },
      {
        "duration": 178,
        "start_time": "2023-05-28T07:57:10.628Z"
      },
      {
        "duration": 170,
        "start_time": "2023-05-28T07:57:12.638Z"
      },
      {
        "duration": 890,
        "start_time": "2023-05-28T07:57:22.234Z"
      },
      {
        "duration": 277,
        "start_time": "2023-05-28T07:57:23.892Z"
      },
      {
        "duration": 279,
        "start_time": "2023-05-28T07:57:29.617Z"
      },
      {
        "duration": 467,
        "start_time": "2023-05-28T07:57:33.713Z"
      },
      {
        "duration": 14,
        "start_time": "2023-05-28T07:57:37.774Z"
      },
      {
        "duration": 30,
        "start_time": "2023-05-28T07:57:38.430Z"
      },
      {
        "duration": 32,
        "start_time": "2023-05-28T07:57:39.012Z"
      },
      {
        "duration": 30,
        "start_time": "2023-05-28T07:57:54.973Z"
      },
      {
        "duration": 19,
        "start_time": "2023-05-28T07:57:55.582Z"
      },
      {
        "duration": 37,
        "start_time": "2023-05-28T07:57:56.727Z"
      },
      {
        "duration": 299,
        "start_time": "2023-05-28T07:57:59.982Z"
      },
      {
        "duration": 399,
        "start_time": "2023-05-28T07:58:04.473Z"
      },
      {
        "duration": 288,
        "start_time": "2023-05-28T07:58:09.565Z"
      },
      {
        "duration": 334,
        "start_time": "2023-05-28T07:58:11.887Z"
      },
      {
        "duration": 473,
        "start_time": "2023-05-28T07:58:19.599Z"
      },
      {
        "duration": 688,
        "start_time": "2023-05-28T08:01:12.513Z"
      },
      {
        "duration": 470,
        "start_time": "2023-05-28T08:01:41.230Z"
      },
      {
        "duration": 456,
        "start_time": "2023-05-28T08:02:21.547Z"
      },
      {
        "duration": 474,
        "start_time": "2023-05-28T08:02:39.488Z"
      },
      {
        "duration": 733,
        "start_time": "2023-05-28T08:03:34.939Z"
      },
      {
        "duration": 490,
        "start_time": "2023-05-28T08:03:43.831Z"
      },
      {
        "duration": 452,
        "start_time": "2023-05-28T08:04:13.683Z"
      },
      {
        "duration": 484,
        "start_time": "2023-05-28T08:04:40.104Z"
      },
      {
        "duration": 1094,
        "start_time": "2023-05-28T08:22:49.053Z"
      },
      {
        "duration": 66,
        "start_time": "2023-05-28T08:22:50.149Z"
      },
      {
        "duration": 22,
        "start_time": "2023-05-28T08:22:50.216Z"
      },
      {
        "duration": 19,
        "start_time": "2023-05-28T08:22:50.240Z"
      },
      {
        "duration": 13,
        "start_time": "2023-05-28T08:22:50.260Z"
      },
      {
        "duration": 12,
        "start_time": "2023-05-28T08:22:50.274Z"
      },
      {
        "duration": 9,
        "start_time": "2023-05-28T08:22:50.287Z"
      },
      {
        "duration": 4,
        "start_time": "2023-05-28T08:22:50.298Z"
      },
      {
        "duration": 11,
        "start_time": "2023-05-28T08:22:50.304Z"
      },
      {
        "duration": 9,
        "start_time": "2023-05-28T08:22:50.317Z"
      },
      {
        "duration": 36,
        "start_time": "2023-05-28T08:22:50.327Z"
      },
      {
        "duration": 20,
        "start_time": "2023-05-28T08:22:50.365Z"
      },
      {
        "duration": 31,
        "start_time": "2023-05-28T08:22:50.387Z"
      },
      {
        "duration": 21,
        "start_time": "2023-05-28T08:22:50.419Z"
      },
      {
        "duration": 148,
        "start_time": "2023-05-28T08:22:50.441Z"
      },
      {
        "duration": 93,
        "start_time": "2023-05-28T08:22:50.591Z"
      },
      {
        "duration": 139,
        "start_time": "2023-05-28T08:22:50.686Z"
      },
      {
        "duration": 135,
        "start_time": "2023-05-28T08:22:50.827Z"
      },
      {
        "duration": 153,
        "start_time": "2023-05-28T08:22:50.964Z"
      },
      {
        "duration": 150,
        "start_time": "2023-05-28T08:22:51.119Z"
      },
      {
        "duration": 141,
        "start_time": "2023-05-28T08:22:51.271Z"
      },
      {
        "duration": 714,
        "start_time": "2023-05-28T08:22:51.413Z"
      },
      {
        "duration": 179,
        "start_time": "2023-05-28T08:22:52.128Z"
      },
      {
        "duration": 266,
        "start_time": "2023-05-28T08:22:52.309Z"
      },
      {
        "duration": 263,
        "start_time": "2023-05-28T08:22:52.577Z"
      },
      {
        "duration": 11,
        "start_time": "2023-05-28T08:22:52.842Z"
      },
      {
        "duration": 11,
        "start_time": "2023-05-28T08:22:52.854Z"
      },
      {
        "duration": 33,
        "start_time": "2023-05-28T08:22:52.869Z"
      },
      {
        "duration": 19,
        "start_time": "2023-05-28T08:22:52.903Z"
      },
      {
        "duration": 16,
        "start_time": "2023-05-28T08:22:52.923Z"
      },
      {
        "duration": 48,
        "start_time": "2023-05-28T08:22:52.941Z"
      },
      {
        "duration": 305,
        "start_time": "2023-05-28T08:22:52.990Z"
      },
      {
        "duration": 226,
        "start_time": "2023-05-28T08:22:53.297Z"
      },
      {
        "duration": 228,
        "start_time": "2023-05-28T08:22:53.524Z"
      },
      {
        "duration": 231,
        "start_time": "2023-05-28T08:22:53.754Z"
      },
      {
        "duration": 344,
        "start_time": "2023-05-28T08:22:53.986Z"
      },
      {
        "duration": 417,
        "start_time": "2023-05-28T08:22:54.331Z"
      },
      {
        "duration": 19,
        "start_time": "2023-05-28T08:22:54.750Z"
      },
      {
        "duration": 33,
        "start_time": "2023-05-28T08:22:54.771Z"
      },
      {
        "duration": 11,
        "start_time": "2023-05-28T08:22:54.806Z"
      },
      {
        "duration": 10,
        "start_time": "2023-05-28T08:22:54.819Z"
      },
      {
        "duration": 6,
        "start_time": "2023-05-28T08:22:54.831Z"
      },
      {
        "duration": 14,
        "start_time": "2023-05-28T08:22:54.838Z"
      },
      {
        "duration": 32,
        "start_time": "2023-05-28T08:22:54.854Z"
      },
      {
        "duration": 5,
        "start_time": "2023-05-28T08:22:54.887Z"
      },
      {
        "duration": 5,
        "start_time": "2023-05-28T08:22:54.894Z"
      },
      {
        "duration": 6,
        "start_time": "2023-05-28T08:22:54.901Z"
      },
      {
        "duration": 6,
        "start_time": "2023-05-28T08:22:54.909Z"
      },
      {
        "duration": 4,
        "start_time": "2023-05-28T08:22:54.917Z"
      },
      {
        "duration": 4,
        "start_time": "2023-05-28T08:22:54.923Z"
      }
    ],
    "kernelspec": {
      "display_name": "Python 3 (ipykernel)",
      "language": "python",
      "name": "python3"
    },
    "language_info": {
      "codemirror_mode": {
        "name": "ipython",
        "version": 3
      },
      "file_extension": ".py",
      "mimetype": "text/x-python",
      "name": "python",
      "nbconvert_exporter": "python",
      "pygments_lexer": "ipython3",
      "version": "3.9.5"
    },
    "toc": {
      "base_numbering": 1,
      "nav_menu": {},
      "number_sections": true,
      "sideBar": true,
      "skip_h1_title": true,
      "title_cell": "Table of Contents",
      "title_sidebar": "Contents",
      "toc_cell": false,
      "toc_position": {},
      "toc_section_display": true,
      "toc_window_display": true
    },
    "colab": {
      "provenance": []
    }
  },
  "nbformat": 4,
  "nbformat_minor": 5
}