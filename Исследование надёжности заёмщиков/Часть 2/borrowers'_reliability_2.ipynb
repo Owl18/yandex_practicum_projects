{
  "cells": [
    {
      "cell_type": "markdown",
      "id": "2ce570d2",
      "metadata": {
        "deletable": false,
        "editable": false,
        "id": "2ce570d2"
      },
      "source": [
        "# Исследование надежности заемщиков\n"
      ]
    },
    {
      "cell_type": "markdown",
      "id": "8262c57c",
      "metadata": {
        "deletable": false,
        "editable": false,
        "id": "8262c57c"
      },
      "source": [
        "## Откройте таблицу и изучите общую информацию о данных"
      ]
    },
    {
      "cell_type": "markdown",
      "id": "cbbcdfd6",
      "metadata": {
        "deletable": false,
        "editable": false,
        "id": "cbbcdfd6"
      },
      "source": [
        "**Задание 1. Импортируйте библиотеку pandas. Считайте данные из csv-файла в датафрейм и сохраните в переменную `data`. Путь к файлу:**\n",
        "\n",
        "`/datasets/data.csv`"
      ]
    },
    {
      "cell_type": "code",
      "execution_count": null,
      "id": "f3cfef37",
      "metadata": {
        "deletable": false,
        "id": "f3cfef37"
      },
      "outputs": [],
      "source": [
        "import pandas as pd\n",
        "\n",
        "try:\n",
        "    data = pd.read_csv('/datasets/data.csv')\n",
        "except:\n",
        "    data = pd.read_csv('https://code.s3.yandex.net/datasets/data.csv')"
      ]
    },
    {
      "cell_type": "markdown",
      "id": "db761aa9",
      "metadata": {
        "deletable": false,
        "editable": false,
        "id": "db761aa9"
      },
      "source": [
        "**Задание 2. Выведите первые 20 строчек датафрейма `data` на экран.**"
      ]
    },
    {
      "cell_type": "code",
      "execution_count": null,
      "id": "4b432559",
      "metadata": {
        "deletable": false,
        "id": "4b432559",
        "outputId": "1a8f3ef2-d323-4ec2-ddf7-89670b5944c4"
      },
      "outputs": [
        {
          "data": {
            "text/html": [
              "<div>\n",
              "<style scoped>\n",
              "    .dataframe tbody tr th:only-of-type {\n",
              "        vertical-align: middle;\n",
              "    }\n",
              "\n",
              "    .dataframe tbody tr th {\n",
              "        vertical-align: top;\n",
              "    }\n",
              "\n",
              "    .dataframe thead th {\n",
              "        text-align: right;\n",
              "    }\n",
              "</style>\n",
              "<table border=\"1\" class=\"dataframe\">\n",
              "  <thead>\n",
              "    <tr style=\"text-align: right;\">\n",
              "      <th></th>\n",
              "      <th>children</th>\n",
              "      <th>days_employed</th>\n",
              "      <th>dob_years</th>\n",
              "      <th>education</th>\n",
              "      <th>education_id</th>\n",
              "      <th>family_status</th>\n",
              "      <th>family_status_id</th>\n",
              "      <th>gender</th>\n",
              "      <th>income_type</th>\n",
              "      <th>debt</th>\n",
              "      <th>total_income</th>\n",
              "      <th>purpose</th>\n",
              "    </tr>\n",
              "  </thead>\n",
              "  <tbody>\n",
              "    <tr>\n",
              "      <th>0</th>\n",
              "      <td>1</td>\n",
              "      <td>-8437.673028</td>\n",
              "      <td>42</td>\n",
              "      <td>высшее</td>\n",
              "      <td>0</td>\n",
              "      <td>женат / замужем</td>\n",
              "      <td>0</td>\n",
              "      <td>F</td>\n",
              "      <td>сотрудник</td>\n",
              "      <td>0</td>\n",
              "      <td>253875.639453</td>\n",
              "      <td>покупка жилья</td>\n",
              "    </tr>\n",
              "    <tr>\n",
              "      <th>1</th>\n",
              "      <td>1</td>\n",
              "      <td>-4024.803754</td>\n",
              "      <td>36</td>\n",
              "      <td>среднее</td>\n",
              "      <td>1</td>\n",
              "      <td>женат / замужем</td>\n",
              "      <td>0</td>\n",
              "      <td>F</td>\n",
              "      <td>сотрудник</td>\n",
              "      <td>0</td>\n",
              "      <td>112080.014102</td>\n",
              "      <td>приобретение автомобиля</td>\n",
              "    </tr>\n",
              "    <tr>\n",
              "      <th>2</th>\n",
              "      <td>0</td>\n",
              "      <td>-5623.422610</td>\n",
              "      <td>33</td>\n",
              "      <td>Среднее</td>\n",
              "      <td>1</td>\n",
              "      <td>женат / замужем</td>\n",
              "      <td>0</td>\n",
              "      <td>M</td>\n",
              "      <td>сотрудник</td>\n",
              "      <td>0</td>\n",
              "      <td>145885.952297</td>\n",
              "      <td>покупка жилья</td>\n",
              "    </tr>\n",
              "    <tr>\n",
              "      <th>3</th>\n",
              "      <td>3</td>\n",
              "      <td>-4124.747207</td>\n",
              "      <td>32</td>\n",
              "      <td>среднее</td>\n",
              "      <td>1</td>\n",
              "      <td>женат / замужем</td>\n",
              "      <td>0</td>\n",
              "      <td>M</td>\n",
              "      <td>сотрудник</td>\n",
              "      <td>0</td>\n",
              "      <td>267628.550329</td>\n",
              "      <td>дополнительное образование</td>\n",
              "    </tr>\n",
              "    <tr>\n",
              "      <th>4</th>\n",
              "      <td>0</td>\n",
              "      <td>340266.072047</td>\n",
              "      <td>53</td>\n",
              "      <td>среднее</td>\n",
              "      <td>1</td>\n",
              "      <td>гражданский брак</td>\n",
              "      <td>1</td>\n",
              "      <td>F</td>\n",
              "      <td>пенсионер</td>\n",
              "      <td>0</td>\n",
              "      <td>158616.077870</td>\n",
              "      <td>сыграть свадьбу</td>\n",
              "    </tr>\n",
              "    <tr>\n",
              "      <th>5</th>\n",
              "      <td>0</td>\n",
              "      <td>-926.185831</td>\n",
              "      <td>27</td>\n",
              "      <td>высшее</td>\n",
              "      <td>0</td>\n",
              "      <td>гражданский брак</td>\n",
              "      <td>1</td>\n",
              "      <td>M</td>\n",
              "      <td>компаньон</td>\n",
              "      <td>0</td>\n",
              "      <td>255763.565419</td>\n",
              "      <td>покупка жилья</td>\n",
              "    </tr>\n",
              "    <tr>\n",
              "      <th>6</th>\n",
              "      <td>0</td>\n",
              "      <td>-2879.202052</td>\n",
              "      <td>43</td>\n",
              "      <td>высшее</td>\n",
              "      <td>0</td>\n",
              "      <td>женат / замужем</td>\n",
              "      <td>0</td>\n",
              "      <td>F</td>\n",
              "      <td>компаньон</td>\n",
              "      <td>0</td>\n",
              "      <td>240525.971920</td>\n",
              "      <td>операции с жильем</td>\n",
              "    </tr>\n",
              "    <tr>\n",
              "      <th>7</th>\n",
              "      <td>0</td>\n",
              "      <td>-152.779569</td>\n",
              "      <td>50</td>\n",
              "      <td>СРЕДНЕЕ</td>\n",
              "      <td>1</td>\n",
              "      <td>женат / замужем</td>\n",
              "      <td>0</td>\n",
              "      <td>M</td>\n",
              "      <td>сотрудник</td>\n",
              "      <td>0</td>\n",
              "      <td>135823.934197</td>\n",
              "      <td>образование</td>\n",
              "    </tr>\n",
              "    <tr>\n",
              "      <th>8</th>\n",
              "      <td>2</td>\n",
              "      <td>-6929.865299</td>\n",
              "      <td>35</td>\n",
              "      <td>ВЫСШЕЕ</td>\n",
              "      <td>0</td>\n",
              "      <td>гражданский брак</td>\n",
              "      <td>1</td>\n",
              "      <td>F</td>\n",
              "      <td>сотрудник</td>\n",
              "      <td>0</td>\n",
              "      <td>95856.832424</td>\n",
              "      <td>на проведение свадьбы</td>\n",
              "    </tr>\n",
              "    <tr>\n",
              "      <th>9</th>\n",
              "      <td>0</td>\n",
              "      <td>-2188.756445</td>\n",
              "      <td>41</td>\n",
              "      <td>среднее</td>\n",
              "      <td>1</td>\n",
              "      <td>женат / замужем</td>\n",
              "      <td>0</td>\n",
              "      <td>M</td>\n",
              "      <td>сотрудник</td>\n",
              "      <td>0</td>\n",
              "      <td>144425.938277</td>\n",
              "      <td>покупка жилья для семьи</td>\n",
              "    </tr>\n",
              "    <tr>\n",
              "      <th>10</th>\n",
              "      <td>2</td>\n",
              "      <td>-4171.483647</td>\n",
              "      <td>36</td>\n",
              "      <td>высшее</td>\n",
              "      <td>0</td>\n",
              "      <td>женат / замужем</td>\n",
              "      <td>0</td>\n",
              "      <td>M</td>\n",
              "      <td>компаньон</td>\n",
              "      <td>0</td>\n",
              "      <td>113943.491460</td>\n",
              "      <td>покупка недвижимости</td>\n",
              "    </tr>\n",
              "    <tr>\n",
              "      <th>11</th>\n",
              "      <td>0</td>\n",
              "      <td>-792.701887</td>\n",
              "      <td>40</td>\n",
              "      <td>среднее</td>\n",
              "      <td>1</td>\n",
              "      <td>женат / замужем</td>\n",
              "      <td>0</td>\n",
              "      <td>F</td>\n",
              "      <td>сотрудник</td>\n",
              "      <td>0</td>\n",
              "      <td>77069.234271</td>\n",
              "      <td>покупка коммерческой недвижимости</td>\n",
              "    </tr>\n",
              "    <tr>\n",
              "      <th>12</th>\n",
              "      <td>0</td>\n",
              "      <td>NaN</td>\n",
              "      <td>65</td>\n",
              "      <td>среднее</td>\n",
              "      <td>1</td>\n",
              "      <td>гражданский брак</td>\n",
              "      <td>1</td>\n",
              "      <td>M</td>\n",
              "      <td>пенсионер</td>\n",
              "      <td>0</td>\n",
              "      <td>NaN</td>\n",
              "      <td>сыграть свадьбу</td>\n",
              "    </tr>\n",
              "    <tr>\n",
              "      <th>13</th>\n",
              "      <td>0</td>\n",
              "      <td>-1846.641941</td>\n",
              "      <td>54</td>\n",
              "      <td>неоконченное высшее</td>\n",
              "      <td>2</td>\n",
              "      <td>женат / замужем</td>\n",
              "      <td>0</td>\n",
              "      <td>F</td>\n",
              "      <td>сотрудник</td>\n",
              "      <td>0</td>\n",
              "      <td>130458.228857</td>\n",
              "      <td>приобретение автомобиля</td>\n",
              "    </tr>\n",
              "    <tr>\n",
              "      <th>14</th>\n",
              "      <td>0</td>\n",
              "      <td>-1844.956182</td>\n",
              "      <td>56</td>\n",
              "      <td>высшее</td>\n",
              "      <td>0</td>\n",
              "      <td>гражданский брак</td>\n",
              "      <td>1</td>\n",
              "      <td>F</td>\n",
              "      <td>компаньон</td>\n",
              "      <td>1</td>\n",
              "      <td>165127.911772</td>\n",
              "      <td>покупка жилой недвижимости</td>\n",
              "    </tr>\n",
              "    <tr>\n",
              "      <th>15</th>\n",
              "      <td>1</td>\n",
              "      <td>-972.364419</td>\n",
              "      <td>26</td>\n",
              "      <td>среднее</td>\n",
              "      <td>1</td>\n",
              "      <td>женат / замужем</td>\n",
              "      <td>0</td>\n",
              "      <td>F</td>\n",
              "      <td>сотрудник</td>\n",
              "      <td>0</td>\n",
              "      <td>116820.904450</td>\n",
              "      <td>строительство собственной недвижимости</td>\n",
              "    </tr>\n",
              "    <tr>\n",
              "      <th>16</th>\n",
              "      <td>0</td>\n",
              "      <td>-1719.934226</td>\n",
              "      <td>35</td>\n",
              "      <td>среднее</td>\n",
              "      <td>1</td>\n",
              "      <td>женат / замужем</td>\n",
              "      <td>0</td>\n",
              "      <td>F</td>\n",
              "      <td>сотрудник</td>\n",
              "      <td>0</td>\n",
              "      <td>289202.704229</td>\n",
              "      <td>недвижимость</td>\n",
              "    </tr>\n",
              "    <tr>\n",
              "      <th>17</th>\n",
              "      <td>0</td>\n",
              "      <td>-2369.999720</td>\n",
              "      <td>33</td>\n",
              "      <td>высшее</td>\n",
              "      <td>0</td>\n",
              "      <td>гражданский брак</td>\n",
              "      <td>1</td>\n",
              "      <td>M</td>\n",
              "      <td>сотрудник</td>\n",
              "      <td>0</td>\n",
              "      <td>90410.586745</td>\n",
              "      <td>строительство недвижимости</td>\n",
              "    </tr>\n",
              "    <tr>\n",
              "      <th>18</th>\n",
              "      <td>0</td>\n",
              "      <td>400281.136913</td>\n",
              "      <td>53</td>\n",
              "      <td>среднее</td>\n",
              "      <td>1</td>\n",
              "      <td>вдовец / вдова</td>\n",
              "      <td>2</td>\n",
              "      <td>F</td>\n",
              "      <td>пенсионер</td>\n",
              "      <td>0</td>\n",
              "      <td>56823.777243</td>\n",
              "      <td>на покупку подержанного автомобиля</td>\n",
              "    </tr>\n",
              "    <tr>\n",
              "      <th>19</th>\n",
              "      <td>0</td>\n",
              "      <td>-10038.818549</td>\n",
              "      <td>48</td>\n",
              "      <td>СРЕДНЕЕ</td>\n",
              "      <td>1</td>\n",
              "      <td>в разводе</td>\n",
              "      <td>3</td>\n",
              "      <td>F</td>\n",
              "      <td>сотрудник</td>\n",
              "      <td>0</td>\n",
              "      <td>242831.107982</td>\n",
              "      <td>на покупку своего автомобиля</td>\n",
              "    </tr>\n",
              "  </tbody>\n",
              "</table>\n",
              "</div>"
            ],
            "text/plain": [
              "    children  days_employed  dob_years            education  education_id  \\\n",
              "0          1   -8437.673028         42               высшее             0   \n",
              "1          1   -4024.803754         36              среднее             1   \n",
              "2          0   -5623.422610         33              Среднее             1   \n",
              "3          3   -4124.747207         32              среднее             1   \n",
              "4          0  340266.072047         53              среднее             1   \n",
              "5          0    -926.185831         27               высшее             0   \n",
              "6          0   -2879.202052         43               высшее             0   \n",
              "7          0    -152.779569         50              СРЕДНЕЕ             1   \n",
              "8          2   -6929.865299         35               ВЫСШЕЕ             0   \n",
              "9          0   -2188.756445         41              среднее             1   \n",
              "10         2   -4171.483647         36               высшее             0   \n",
              "11         0    -792.701887         40              среднее             1   \n",
              "12         0            NaN         65              среднее             1   \n",
              "13         0   -1846.641941         54  неоконченное высшее             2   \n",
              "14         0   -1844.956182         56               высшее             0   \n",
              "15         1    -972.364419         26              среднее             1   \n",
              "16         0   -1719.934226         35              среднее             1   \n",
              "17         0   -2369.999720         33               высшее             0   \n",
              "18         0  400281.136913         53              среднее             1   \n",
              "19         0  -10038.818549         48              СРЕДНЕЕ             1   \n",
              "\n",
              "       family_status  family_status_id gender income_type  debt  \\\n",
              "0    женат / замужем                 0      F   сотрудник     0   \n",
              "1    женат / замужем                 0      F   сотрудник     0   \n",
              "2    женат / замужем                 0      M   сотрудник     0   \n",
              "3    женат / замужем                 0      M   сотрудник     0   \n",
              "4   гражданский брак                 1      F   пенсионер     0   \n",
              "5   гражданский брак                 1      M   компаньон     0   \n",
              "6    женат / замужем                 0      F   компаньон     0   \n",
              "7    женат / замужем                 0      M   сотрудник     0   \n",
              "8   гражданский брак                 1      F   сотрудник     0   \n",
              "9    женат / замужем                 0      M   сотрудник     0   \n",
              "10   женат / замужем                 0      M   компаньон     0   \n",
              "11   женат / замужем                 0      F   сотрудник     0   \n",
              "12  гражданский брак                 1      M   пенсионер     0   \n",
              "13   женат / замужем                 0      F   сотрудник     0   \n",
              "14  гражданский брак                 1      F   компаньон     1   \n",
              "15   женат / замужем                 0      F   сотрудник     0   \n",
              "16   женат / замужем                 0      F   сотрудник     0   \n",
              "17  гражданский брак                 1      M   сотрудник     0   \n",
              "18    вдовец / вдова                 2      F   пенсионер     0   \n",
              "19         в разводе                 3      F   сотрудник     0   \n",
              "\n",
              "     total_income                                 purpose  \n",
              "0   253875.639453                           покупка жилья  \n",
              "1   112080.014102                 приобретение автомобиля  \n",
              "2   145885.952297                           покупка жилья  \n",
              "3   267628.550329              дополнительное образование  \n",
              "4   158616.077870                         сыграть свадьбу  \n",
              "5   255763.565419                           покупка жилья  \n",
              "6   240525.971920                       операции с жильем  \n",
              "7   135823.934197                             образование  \n",
              "8    95856.832424                   на проведение свадьбы  \n",
              "9   144425.938277                 покупка жилья для семьи  \n",
              "10  113943.491460                    покупка недвижимости  \n",
              "11   77069.234271       покупка коммерческой недвижимости  \n",
              "12            NaN                         сыграть свадьбу  \n",
              "13  130458.228857                 приобретение автомобиля  \n",
              "14  165127.911772              покупка жилой недвижимости  \n",
              "15  116820.904450  строительство собственной недвижимости  \n",
              "16  289202.704229                            недвижимость  \n",
              "17   90410.586745              строительство недвижимости  \n",
              "18   56823.777243      на покупку подержанного автомобиля  \n",
              "19  242831.107982            на покупку своего автомобиля  "
            ]
          },
          "execution_count": 2,
          "metadata": {},
          "output_type": "execute_result"
        }
      ],
      "source": [
        "data.head(20)"
      ]
    },
    {
      "cell_type": "markdown",
      "id": "6864abb4",
      "metadata": {
        "deletable": false,
        "editable": false,
        "id": "6864abb4"
      },
      "source": [
        "**Задание 3. Выведите основную информацию о датафрейме с помощью метода `info()`.**"
      ]
    },
    {
      "cell_type": "code",
      "execution_count": null,
      "id": "e9201549",
      "metadata": {
        "deletable": false,
        "id": "e9201549",
        "outputId": "15376089-8dad-46c9-b520-c05248d43158"
      },
      "outputs": [
        {
          "name": "stdout",
          "output_type": "stream",
          "text": [
            "<class 'pandas.core.frame.DataFrame'>\n",
            "RangeIndex: 21525 entries, 0 to 21524\n",
            "Data columns (total 12 columns):\n",
            " #   Column            Non-Null Count  Dtype  \n",
            "---  ------            --------------  -----  \n",
            " 0   children          21525 non-null  int64  \n",
            " 1   days_employed     19351 non-null  float64\n",
            " 2   dob_years         21525 non-null  int64  \n",
            " 3   education         21525 non-null  object \n",
            " 4   education_id      21525 non-null  int64  \n",
            " 5   family_status     21525 non-null  object \n",
            " 6   family_status_id  21525 non-null  int64  \n",
            " 7   gender            21525 non-null  object \n",
            " 8   income_type       21525 non-null  object \n",
            " 9   debt              21525 non-null  int64  \n",
            " 10  total_income      19351 non-null  float64\n",
            " 11  purpose           21525 non-null  object \n",
            "dtypes: float64(2), int64(5), object(5)\n",
            "memory usage: 2.0+ MB\n"
          ]
        }
      ],
      "source": [
        "data.info()"
      ]
    },
    {
      "cell_type": "markdown",
      "id": "2152f940",
      "metadata": {
        "deletable": false,
        "editable": false,
        "id": "2152f940"
      },
      "source": [
        "## Предобработка данных"
      ]
    },
    {
      "cell_type": "markdown",
      "id": "d510d53e",
      "metadata": {
        "deletable": false,
        "editable": false,
        "id": "d510d53e"
      },
      "source": [
        "### Удаление пропусков"
      ]
    },
    {
      "cell_type": "markdown",
      "id": "398151ed",
      "metadata": {
        "deletable": false,
        "editable": false,
        "id": "398151ed"
      },
      "source": [
        "**Задание 4. Выведите количество пропущенных значений для каждого столбца. Используйте комбинацию двух методов.**"
      ]
    },
    {
      "cell_type": "code",
      "execution_count": null,
      "id": "32b3bd82",
      "metadata": {
        "deletable": false,
        "id": "32b3bd82",
        "outputId": "81f4d817-781c-465c-ed15-91ce4446810d"
      },
      "outputs": [
        {
          "data": {
            "text/plain": [
              "children               0\n",
              "days_employed       2174\n",
              "dob_years              0\n",
              "education              0\n",
              "education_id           0\n",
              "family_status          0\n",
              "family_status_id       0\n",
              "gender                 0\n",
              "income_type            0\n",
              "debt                   0\n",
              "total_income        2174\n",
              "purpose                0\n",
              "dtype: int64"
            ]
          },
          "execution_count": 4,
          "metadata": {},
          "output_type": "execute_result"
        }
      ],
      "source": [
        "data.isna().sum()"
      ]
    },
    {
      "cell_type": "markdown",
      "id": "e3331510",
      "metadata": {
        "deletable": false,
        "editable": false,
        "id": "e3331510"
      },
      "source": [
        "**Задание 5. В двух столбцах есть пропущенные значения. Один из них — `days_employed`. Пропуски в этом столбце вы обработаете на следующем этапе. Другой столбец с пропущенными значениями — `total_income` — хранит данные о доходах. На сумму дохода сильнее всего влияет тип занятости, поэтому заполнить пропуски в этом столбце нужно медианным значением по каждому типу из столбца `income_type`. Например, у человека с типом занятости `сотрудник` пропуск в столбце `total_income` должен быть заполнен медианным доходом среди всех записей с тем же типом.**"
      ]
    },
    {
      "cell_type": "code",
      "execution_count": null,
      "id": "67cf62c8",
      "metadata": {
        "deletable": false,
        "id": "67cf62c8"
      },
      "outputs": [],
      "source": [
        "for t in data['income_type'].unique():\n",
        "    data.loc[(data['income_type'] == t) & (data['total_income'].isna()), 'total_income'] = \\\n",
        "    data.loc[(data['income_type'] == t), 'total_income'].median()"
      ]
    },
    {
      "cell_type": "markdown",
      "id": "cf68e9f8",
      "metadata": {
        "deletable": false,
        "editable": false,
        "id": "cf68e9f8"
      },
      "source": [
        "### Обработка аномальных значений"
      ]
    },
    {
      "cell_type": "markdown",
      "id": "b778722c",
      "metadata": {
        "deletable": false,
        "editable": false,
        "id": "b778722c"
      },
      "source": [
        "**Задание 6. В данных могут встречаться артефакты (аномалии) — значения, которые не отражают действительность и появились по какой-то ошибке. таким артефактом будет отрицательное количество дней трудового стажа в столбце `days_employed`. Для реальных данных это нормально. Обработайте значения в этом столбце: замените все отрицательные значения положительными с помощью метода `abs()`.**"
      ]
    },
    {
      "cell_type": "code",
      "execution_count": null,
      "id": "3e9eba78",
      "metadata": {
        "deletable": false,
        "id": "3e9eba78"
      },
      "outputs": [],
      "source": [
        "data['days_employed'] = data['days_employed'].abs()"
      ]
    },
    {
      "cell_type": "markdown",
      "id": "5bca50ca",
      "metadata": {
        "deletable": false,
        "editable": false,
        "id": "5bca50ca"
      },
      "source": [
        "**Задание 7. Для каждого типа занятости выведите медианное значение трудового стажа `days_employed` в днях.**"
      ]
    },
    {
      "cell_type": "code",
      "execution_count": null,
      "id": "8edc8c43",
      "metadata": {
        "deletable": false,
        "id": "8edc8c43",
        "outputId": "801ef80e-522b-4668-f34e-565af7432bcf"
      },
      "outputs": [
        {
          "data": {
            "text/plain": [
              "income_type\n",
              "безработный        366413.652744\n",
              "в декрете            3296.759962\n",
              "госслужащий          2689.368353\n",
              "компаньон            1547.382223\n",
              "пенсионер          365213.306266\n",
              "предприниматель       520.848083\n",
              "сотрудник            1574.202821\n",
              "студент               578.751554\n",
              "Name: days_employed, dtype: float64"
            ]
          },
          "execution_count": 7,
          "metadata": {},
          "output_type": "execute_result"
        }
      ],
      "source": [
        "data.groupby('income_type')['days_employed'].agg('median')"
      ]
    },
    {
      "cell_type": "markdown",
      "id": "dde7ec52",
      "metadata": {
        "deletable": false,
        "editable": false,
        "id": "dde7ec52"
      },
      "source": [
        "У двух типов (безработные и пенсионеры) получатся аномально большие значения. Исправить такие значения сложно, поэтому оставьте их как есть. Тем более этот столбец не понадобится вам для исследования."
      ]
    },
    {
      "cell_type": "markdown",
      "id": "9a7658e8",
      "metadata": {
        "deletable": false,
        "editable": false,
        "id": "9a7658e8"
      },
      "source": [
        "**Задание 8. Выведите перечень уникальных значений столбца `children`.**"
      ]
    },
    {
      "cell_type": "code",
      "execution_count": null,
      "id": "ae7882e5",
      "metadata": {
        "deletable": false,
        "id": "ae7882e5",
        "outputId": "6975b15c-7f95-4697-d16d-a0c79b657b03"
      },
      "outputs": [
        {
          "data": {
            "text/plain": [
              "array([ 1,  0,  3,  2, -1,  4, 20,  5])"
            ]
          },
          "execution_count": 8,
          "metadata": {},
          "output_type": "execute_result"
        }
      ],
      "source": [
        "data['children'].unique()"
      ]
    },
    {
      "cell_type": "markdown",
      "id": "cf9ab157",
      "metadata": {
        "deletable": false,
        "editable": false,
        "id": "cf9ab157"
      },
      "source": [
        "**Задание 9. В столбце `children` есть два аномальных значения. Удалите строки, в которых встречаются такие аномальные значения из датафрейма `data`.**"
      ]
    },
    {
      "cell_type": "code",
      "execution_count": null,
      "id": "a267cb03",
      "metadata": {
        "deletable": false,
        "id": "a267cb03"
      },
      "outputs": [],
      "source": [
        "data = data[(data['children'] != -1) & (data['children'] != 20)]"
      ]
    },
    {
      "cell_type": "markdown",
      "id": "3f71276c",
      "metadata": {
        "deletable": false,
        "editable": false,
        "id": "3f71276c"
      },
      "source": [
        "**Задание 10. Ещё раз выведите перечень уникальных значений столбца `children`, чтобы убедиться, что артефакты удалены.**"
      ]
    },
    {
      "cell_type": "code",
      "execution_count": null,
      "id": "87f6c3ec",
      "metadata": {
        "deletable": false,
        "id": "87f6c3ec",
        "outputId": "b2097101-d49d-44d9-901b-32a65c9463d1"
      },
      "outputs": [
        {
          "data": {
            "text/plain": [
              "array([1, 0, 3, 2, 4, 5])"
            ]
          },
          "execution_count": 10,
          "metadata": {},
          "output_type": "execute_result"
        }
      ],
      "source": [
        "data['children'].unique()"
      ]
    },
    {
      "cell_type": "markdown",
      "id": "35486e6b",
      "metadata": {
        "deletable": false,
        "editable": false,
        "id": "35486e6b"
      },
      "source": [
        "### Удаление пропусков (продолжение)"
      ]
    },
    {
      "cell_type": "markdown",
      "id": "e766d488",
      "metadata": {
        "deletable": false,
        "editable": false,
        "id": "e766d488"
      },
      "source": [
        "**Задание 11. Заполните пропуски в столбце `days_employed` медианными значениями по каждого типа занятости `income_type`.**"
      ]
    },
    {
      "cell_type": "code",
      "execution_count": null,
      "id": "672142aa",
      "metadata": {
        "deletable": false,
        "id": "672142aa"
      },
      "outputs": [],
      "source": [
        "for t in data['income_type'].unique():\n",
        "    data.loc[(data['income_type'] == t) & (data['days_employed'].isna()), 'days_employed'] = \\\n",
        "    data.loc[(data['income_type'] == t), 'days_employed'].median()"
      ]
    },
    {
      "cell_type": "markdown",
      "id": "07daad78",
      "metadata": {
        "deletable": false,
        "editable": false,
        "id": "07daad78"
      },
      "source": [
        "**Задание 12. Убедитесь, что все пропуски заполнены. Проверьте себя и ещё раз выведите количество пропущенных значений для каждого столбца с помощью двух методов.**"
      ]
    },
    {
      "cell_type": "code",
      "execution_count": null,
      "id": "6fae4703",
      "metadata": {
        "deletable": false,
        "id": "6fae4703",
        "outputId": "8da1e4e1-358e-4e87-98c9-f261bce0a7b2"
      },
      "outputs": [
        {
          "data": {
            "text/plain": [
              "children            0\n",
              "days_employed       0\n",
              "dob_years           0\n",
              "education           0\n",
              "education_id        0\n",
              "family_status       0\n",
              "family_status_id    0\n",
              "gender              0\n",
              "income_type         0\n",
              "debt                0\n",
              "total_income        0\n",
              "purpose             0\n",
              "dtype: int64"
            ]
          },
          "execution_count": 12,
          "metadata": {},
          "output_type": "execute_result"
        }
      ],
      "source": [
        "data.isna().sum()"
      ]
    },
    {
      "cell_type": "markdown",
      "id": "847dba00",
      "metadata": {
        "deletable": false,
        "editable": false,
        "id": "847dba00"
      },
      "source": [
        "### Изменение типов данных"
      ]
    },
    {
      "cell_type": "markdown",
      "id": "085d6bb4",
      "metadata": {
        "deletable": false,
        "editable": false,
        "id": "085d6bb4"
      },
      "source": [
        "**Задание 13. Замените вещественный тип данных в столбце `total_income` на целочисленный с помощью метода `astype()`.**"
      ]
    },
    {
      "cell_type": "code",
      "execution_count": null,
      "id": "9281556f",
      "metadata": {
        "deletable": false,
        "id": "9281556f"
      },
      "outputs": [],
      "source": [
        "data['total_income'] = data['total_income'].astype(int)"
      ]
    },
    {
      "cell_type": "markdown",
      "id": "f36dedea",
      "metadata": {
        "deletable": false,
        "editable": false,
        "id": "f36dedea"
      },
      "source": [
        "### Обработка дубликатов"
      ]
    },
    {
      "cell_type": "markdown",
      "id": "a2aa6b87",
      "metadata": {
        "deletable": false,
        "editable": false,
        "id": "a2aa6b87"
      },
      "source": [
        "**Задание 14. Обработайте неявные дубликаты в столбце `education`. В этом столбце есть одни и те же значения, но записанные по-разному: с использованием заглавных и строчных букв. Приведите их к нижнему регистру. Проверьте остальные столбцы.**"
      ]
    },
    {
      "cell_type": "code",
      "execution_count": null,
      "id": "35cd1044",
      "metadata": {
        "deletable": false,
        "id": "35cd1044"
      },
      "outputs": [],
      "source": [
        "data['education'] = data['education'].str.lower()"
      ]
    },
    {
      "cell_type": "markdown",
      "id": "c312ee68",
      "metadata": {
        "deletable": false,
        "editable": false,
        "id": "c312ee68"
      },
      "source": [
        "**Задание 15. Выведите на экран количество строк-дубликатов в данных. Если такие строки присутствуют, удалите их.**"
      ]
    },
    {
      "cell_type": "code",
      "execution_count": null,
      "id": "6a6f658d",
      "metadata": {
        "deletable": false,
        "id": "6a6f658d",
        "outputId": "9684deba-1934-42d1-99e1-cda61740f822"
      },
      "outputs": [
        {
          "data": {
            "text/plain": [
              "71"
            ]
          },
          "execution_count": 15,
          "metadata": {},
          "output_type": "execute_result"
        }
      ],
      "source": [
        "data.duplicated().sum()"
      ]
    },
    {
      "cell_type": "code",
      "execution_count": null,
      "id": "c4d10367",
      "metadata": {
        "deletable": false,
        "id": "c4d10367"
      },
      "outputs": [],
      "source": [
        "data = data.drop_duplicates()"
      ]
    },
    {
      "cell_type": "markdown",
      "id": "998cb1f9",
      "metadata": {
        "deletable": false,
        "editable": false,
        "id": "998cb1f9"
      },
      "source": [
        "### Категоризация данных"
      ]
    },
    {
      "cell_type": "markdown",
      "id": "57faf02a",
      "metadata": {
        "deletable": false,
        "editable": false,
        "id": "57faf02a"
      },
      "source": [
        "**Задание 16. На основании диапазонов, указанных ниже, создайте в датафрейме `data` столбец `total_income_category` с категориями:**\n",
        "\n",
        "- 0–30000 — `'E'`;\n",
        "- 30001–50000 — `'D'`;\n",
        "- 50001–200000 — `'C'`;\n",
        "- 200001–1000000 — `'B'`;\n",
        "- 1000001 и выше — `'A'`.\n",
        "\n",
        "\n",
        "**Например, кредитополучателю с доходом 25000 нужно назначить категорию `'E'`, а клиенту, получающему 235000, — `'B'`. Используйте собственную функцию с именем `categorize_income()` и метод `apply()`.**"
      ]
    },
    {
      "cell_type": "code",
      "execution_count": null,
      "id": "c3be336a",
      "metadata": {
        "deletable": false,
        "id": "c3be336a"
      },
      "outputs": [],
      "source": [
        "def categorize_income(income):\n",
        "    try:\n",
        "        if 0 <= income <= 30000:\n",
        "            return 'E'\n",
        "        elif 30001 <= income <= 50000:\n",
        "            return 'D'\n",
        "        elif 50001 <= income <= 200000:\n",
        "            return 'C'\n",
        "        elif 200001 <= income <= 1000000:\n",
        "            return 'B'\n",
        "        elif income >= 1000001:\n",
        "            return 'A'\n",
        "    except:\n",
        "        pass"
      ]
    },
    {
      "cell_type": "code",
      "execution_count": null,
      "id": "1fcd4b60",
      "metadata": {
        "deletable": false,
        "id": "1fcd4b60"
      },
      "outputs": [],
      "source": [
        "data['total_income_category'] = data['total_income'].apply(categorize_income)"
      ]
    },
    {
      "cell_type": "markdown",
      "id": "104c1128",
      "metadata": {
        "deletable": false,
        "editable": false,
        "id": "104c1128"
      },
      "source": [
        "**Задание 17. Выведите на экран перечень уникальных целей взятия кредита из столбца `purpose`.**"
      ]
    },
    {
      "cell_type": "code",
      "execution_count": null,
      "id": "a34907dd",
      "metadata": {
        "deletable": false,
        "id": "a34907dd",
        "outputId": "673c12d9-7d7e-4ae0-9812-c622c89dd244"
      },
      "outputs": [
        {
          "data": {
            "text/plain": [
              "array(['покупка жилья', 'приобретение автомобиля',\n",
              "       'дополнительное образование', 'сыграть свадьбу',\n",
              "       'операции с жильем', 'образование', 'на проведение свадьбы',\n",
              "       'покупка жилья для семьи', 'покупка недвижимости',\n",
              "       'покупка коммерческой недвижимости', 'покупка жилой недвижимости',\n",
              "       'строительство собственной недвижимости', 'недвижимость',\n",
              "       'строительство недвижимости', 'на покупку подержанного автомобиля',\n",
              "       'на покупку своего автомобиля',\n",
              "       'операции с коммерческой недвижимостью',\n",
              "       'строительство жилой недвижимости', 'жилье',\n",
              "       'операции со своей недвижимостью', 'автомобили',\n",
              "       'заняться образованием', 'сделка с подержанным автомобилем',\n",
              "       'получение образования', 'автомобиль', 'свадьба',\n",
              "       'получение дополнительного образования', 'покупка своего жилья',\n",
              "       'операции с недвижимостью', 'получение высшего образования',\n",
              "       'свой автомобиль', 'сделка с автомобилем',\n",
              "       'профильное образование', 'высшее образование',\n",
              "       'покупка жилья для сдачи', 'на покупку автомобиля', 'ремонт жилью',\n",
              "       'заняться высшим образованием'], dtype=object)"
            ]
          },
          "execution_count": 19,
          "metadata": {},
          "output_type": "execute_result"
        }
      ],
      "source": [
        "data['purpose'].unique()"
      ]
    },
    {
      "cell_type": "markdown",
      "id": "e7be73ab",
      "metadata": {
        "deletable": false,
        "editable": false,
        "id": "e7be73ab"
      },
      "source": [
        "**Задание 18. Создайте функцию, которая на основании данных из столбца `purpose` сформирует новый столбец `purpose_category`, в который войдут следующие категории:**\n",
        "\n",
        "- `'операции с автомобилем'`,\n",
        "- `'операции с недвижимостью'`,\n",
        "- `'проведение свадьбы'`,\n",
        "- `'получение образования'`.\n",
        "\n",
        "**Например, если в столбце `purpose` находится подстрока `'на покупку автомобиля'`, то в столбце `purpose_category` должна появиться строка `'операции с автомобилем'`.**\n",
        "\n",
        "**Используйте собственную функцию с именем `categorize_purpose()` и метод `apply()`. Изучите данные в столбце `purpose` и определите, какие подстроки помогут вам правильно определить категорию.**"
      ]
    },
    {
      "cell_type": "code",
      "execution_count": null,
      "id": "c3feae7a",
      "metadata": {
        "deletable": false,
        "id": "c3feae7a"
      },
      "outputs": [],
      "source": [
        "def categorize_purpose(row):\n",
        "    try:\n",
        "        if 'автом' in row:\n",
        "            return 'операции с автомобилем'\n",
        "        elif 'жил' in row or 'недвиж' in row:\n",
        "            return 'операции с недвижимостью'\n",
        "        elif 'свад' in row:\n",
        "            return 'проведение свадьбы'\n",
        "        elif 'образов' in row:\n",
        "            return 'получение образования'\n",
        "    except:\n",
        "        return 'нет категории'"
      ]
    },
    {
      "cell_type": "code",
      "execution_count": null,
      "id": "01243f57",
      "metadata": {
        "deletable": false,
        "id": "01243f57"
      },
      "outputs": [],
      "source": [
        "data['purpose_category'] = data['purpose'].apply(categorize_purpose)"
      ]
    },
    {
      "cell_type": "markdown",
      "id": "092caa68",
      "metadata": {
        "deletable": false,
        "editable": false,
        "id": "092caa68"
      },
      "source": [
        "### Шаг 3. Исследуйте данные и ответьте на вопросы"
      ]
    },
    {
      "cell_type": "markdown",
      "id": "e28c5fe5",
      "metadata": {
        "deletable": false,
        "editable": false,
        "id": "e28c5fe5"
      },
      "source": [
        "#### 3.1 Есть ли зависимость между количеством детей и возвратом кредита в срок?"
      ]
    },
    {
      "cell_type": "markdown",
      "id": "ae6e365d",
      "metadata": {
        "id": "ae6e365d"
      },
      "source": [
        "Для ответа на вопрос о зависимости между количеством детей и возвратом кредита в срок создам новый столбец - children_rank, значениями в котором буду результаты следующей функции:"
      ]
    },
    {
      "cell_type": "code",
      "execution_count": null,
      "id": "f9c5844b",
      "metadata": {
        "deletable": false,
        "id": "f9c5844b"
      },
      "outputs": [],
      "source": [
        "def children_presence(children): # функция, которая выдаёт статус в зависимости от количества детей\n",
        "    if 1 <= children <= 2:\n",
        "        return 'есть дети'\n",
        "    if children >= 3:\n",
        "        return 'многодетный'\n",
        "    return 'нет детей'"
      ]
    },
    {
      "cell_type": "code",
      "execution_count": null,
      "id": "43068b09",
      "metadata": {
        "id": "43068b09"
      },
      "outputs": [],
      "source": [
        "data['children_rank'] = data['children'].apply(children_presence) # создаём столбец на основе данных функции"
      ]
    },
    {
      "cell_type": "code",
      "execution_count": null,
      "id": "3d504570",
      "metadata": {
        "scrolled": true,
        "id": "3d504570",
        "outputId": "1c592504-8857-4517-ff68-325bbac0bd94"
      },
      "outputs": [
        {
          "data": {
            "text/html": [
              "<div>\n",
              "<style scoped>\n",
              "    .dataframe tbody tr th:only-of-type {\n",
              "        vertical-align: middle;\n",
              "    }\n",
              "\n",
              "    .dataframe tbody tr th {\n",
              "        vertical-align: top;\n",
              "    }\n",
              "\n",
              "    .dataframe thead th {\n",
              "        text-align: right;\n",
              "    }\n",
              "</style>\n",
              "<table border=\"1\" class=\"dataframe\">\n",
              "  <thead>\n",
              "    <tr style=\"text-align: right;\">\n",
              "      <th></th>\n",
              "      <th>children</th>\n",
              "      <th>days_employed</th>\n",
              "      <th>dob_years</th>\n",
              "      <th>education</th>\n",
              "      <th>education_id</th>\n",
              "      <th>family_status</th>\n",
              "      <th>family_status_id</th>\n",
              "      <th>gender</th>\n",
              "      <th>income_type</th>\n",
              "      <th>debt</th>\n",
              "      <th>total_income</th>\n",
              "      <th>purpose</th>\n",
              "      <th>total_income_category</th>\n",
              "      <th>purpose_category</th>\n",
              "      <th>children_rank</th>\n",
              "    </tr>\n",
              "  </thead>\n",
              "  <tbody>\n",
              "    <tr>\n",
              "      <th>0</th>\n",
              "      <td>1</td>\n",
              "      <td>8437.673028</td>\n",
              "      <td>42</td>\n",
              "      <td>высшее</td>\n",
              "      <td>0</td>\n",
              "      <td>женат / замужем</td>\n",
              "      <td>0</td>\n",
              "      <td>F</td>\n",
              "      <td>сотрудник</td>\n",
              "      <td>0</td>\n",
              "      <td>253875</td>\n",
              "      <td>покупка жилья</td>\n",
              "      <td>B</td>\n",
              "      <td>операции с недвижимостью</td>\n",
              "      <td>есть дети</td>\n",
              "    </tr>\n",
              "    <tr>\n",
              "      <th>1</th>\n",
              "      <td>1</td>\n",
              "      <td>4024.803754</td>\n",
              "      <td>36</td>\n",
              "      <td>среднее</td>\n",
              "      <td>1</td>\n",
              "      <td>женат / замужем</td>\n",
              "      <td>0</td>\n",
              "      <td>F</td>\n",
              "      <td>сотрудник</td>\n",
              "      <td>0</td>\n",
              "      <td>112080</td>\n",
              "      <td>приобретение автомобиля</td>\n",
              "      <td>C</td>\n",
              "      <td>операции с автомобилем</td>\n",
              "      <td>есть дети</td>\n",
              "    </tr>\n",
              "    <tr>\n",
              "      <th>2</th>\n",
              "      <td>0</td>\n",
              "      <td>5623.422610</td>\n",
              "      <td>33</td>\n",
              "      <td>среднее</td>\n",
              "      <td>1</td>\n",
              "      <td>женат / замужем</td>\n",
              "      <td>0</td>\n",
              "      <td>M</td>\n",
              "      <td>сотрудник</td>\n",
              "      <td>0</td>\n",
              "      <td>145885</td>\n",
              "      <td>покупка жилья</td>\n",
              "      <td>C</td>\n",
              "      <td>операции с недвижимостью</td>\n",
              "      <td>нет детей</td>\n",
              "    </tr>\n",
              "    <tr>\n",
              "      <th>3</th>\n",
              "      <td>3</td>\n",
              "      <td>4124.747207</td>\n",
              "      <td>32</td>\n",
              "      <td>среднее</td>\n",
              "      <td>1</td>\n",
              "      <td>женат / замужем</td>\n",
              "      <td>0</td>\n",
              "      <td>M</td>\n",
              "      <td>сотрудник</td>\n",
              "      <td>0</td>\n",
              "      <td>267628</td>\n",
              "      <td>дополнительное образование</td>\n",
              "      <td>B</td>\n",
              "      <td>получение образования</td>\n",
              "      <td>многодетный</td>\n",
              "    </tr>\n",
              "    <tr>\n",
              "      <th>4</th>\n",
              "      <td>0</td>\n",
              "      <td>340266.072047</td>\n",
              "      <td>53</td>\n",
              "      <td>среднее</td>\n",
              "      <td>1</td>\n",
              "      <td>гражданский брак</td>\n",
              "      <td>1</td>\n",
              "      <td>F</td>\n",
              "      <td>пенсионер</td>\n",
              "      <td>0</td>\n",
              "      <td>158616</td>\n",
              "      <td>сыграть свадьбу</td>\n",
              "      <td>C</td>\n",
              "      <td>проведение свадьбы</td>\n",
              "      <td>нет детей</td>\n",
              "    </tr>\n",
              "    <tr>\n",
              "      <th>5</th>\n",
              "      <td>0</td>\n",
              "      <td>926.185831</td>\n",
              "      <td>27</td>\n",
              "      <td>высшее</td>\n",
              "      <td>0</td>\n",
              "      <td>гражданский брак</td>\n",
              "      <td>1</td>\n",
              "      <td>M</td>\n",
              "      <td>компаньон</td>\n",
              "      <td>0</td>\n",
              "      <td>255763</td>\n",
              "      <td>покупка жилья</td>\n",
              "      <td>B</td>\n",
              "      <td>операции с недвижимостью</td>\n",
              "      <td>нет детей</td>\n",
              "    </tr>\n",
              "    <tr>\n",
              "      <th>6</th>\n",
              "      <td>0</td>\n",
              "      <td>2879.202052</td>\n",
              "      <td>43</td>\n",
              "      <td>высшее</td>\n",
              "      <td>0</td>\n",
              "      <td>женат / замужем</td>\n",
              "      <td>0</td>\n",
              "      <td>F</td>\n",
              "      <td>компаньон</td>\n",
              "      <td>0</td>\n",
              "      <td>240525</td>\n",
              "      <td>операции с жильем</td>\n",
              "      <td>B</td>\n",
              "      <td>операции с недвижимостью</td>\n",
              "      <td>нет детей</td>\n",
              "    </tr>\n",
              "    <tr>\n",
              "      <th>7</th>\n",
              "      <td>0</td>\n",
              "      <td>152.779569</td>\n",
              "      <td>50</td>\n",
              "      <td>среднее</td>\n",
              "      <td>1</td>\n",
              "      <td>женат / замужем</td>\n",
              "      <td>0</td>\n",
              "      <td>M</td>\n",
              "      <td>сотрудник</td>\n",
              "      <td>0</td>\n",
              "      <td>135823</td>\n",
              "      <td>образование</td>\n",
              "      <td>C</td>\n",
              "      <td>получение образования</td>\n",
              "      <td>нет детей</td>\n",
              "    </tr>\n",
              "    <tr>\n",
              "      <th>8</th>\n",
              "      <td>2</td>\n",
              "      <td>6929.865299</td>\n",
              "      <td>35</td>\n",
              "      <td>высшее</td>\n",
              "      <td>0</td>\n",
              "      <td>гражданский брак</td>\n",
              "      <td>1</td>\n",
              "      <td>F</td>\n",
              "      <td>сотрудник</td>\n",
              "      <td>0</td>\n",
              "      <td>95856</td>\n",
              "      <td>на проведение свадьбы</td>\n",
              "      <td>C</td>\n",
              "      <td>проведение свадьбы</td>\n",
              "      <td>есть дети</td>\n",
              "    </tr>\n",
              "    <tr>\n",
              "      <th>9</th>\n",
              "      <td>0</td>\n",
              "      <td>2188.756445</td>\n",
              "      <td>41</td>\n",
              "      <td>среднее</td>\n",
              "      <td>1</td>\n",
              "      <td>женат / замужем</td>\n",
              "      <td>0</td>\n",
              "      <td>M</td>\n",
              "      <td>сотрудник</td>\n",
              "      <td>0</td>\n",
              "      <td>144425</td>\n",
              "      <td>покупка жилья для семьи</td>\n",
              "      <td>C</td>\n",
              "      <td>операции с недвижимостью</td>\n",
              "      <td>нет детей</td>\n",
              "    </tr>\n",
              "  </tbody>\n",
              "</table>\n",
              "</div>"
            ],
            "text/plain": [
              "   children  days_employed  dob_years education  education_id  \\\n",
              "0         1    8437.673028         42    высшее             0   \n",
              "1         1    4024.803754         36   среднее             1   \n",
              "2         0    5623.422610         33   среднее             1   \n",
              "3         3    4124.747207         32   среднее             1   \n",
              "4         0  340266.072047         53   среднее             1   \n",
              "5         0     926.185831         27    высшее             0   \n",
              "6         0    2879.202052         43    высшее             0   \n",
              "7         0     152.779569         50   среднее             1   \n",
              "8         2    6929.865299         35    высшее             0   \n",
              "9         0    2188.756445         41   среднее             1   \n",
              "\n",
              "      family_status  family_status_id gender income_type  debt  total_income  \\\n",
              "0   женат / замужем                 0      F   сотрудник     0        253875   \n",
              "1   женат / замужем                 0      F   сотрудник     0        112080   \n",
              "2   женат / замужем                 0      M   сотрудник     0        145885   \n",
              "3   женат / замужем                 0      M   сотрудник     0        267628   \n",
              "4  гражданский брак                 1      F   пенсионер     0        158616   \n",
              "5  гражданский брак                 1      M   компаньон     0        255763   \n",
              "6   женат / замужем                 0      F   компаньон     0        240525   \n",
              "7   женат / замужем                 0      M   сотрудник     0        135823   \n",
              "8  гражданский брак                 1      F   сотрудник     0         95856   \n",
              "9   женат / замужем                 0      M   сотрудник     0        144425   \n",
              "\n",
              "                      purpose total_income_category          purpose_category  \\\n",
              "0               покупка жилья                     B  операции с недвижимостью   \n",
              "1     приобретение автомобиля                     C    операции с автомобилем   \n",
              "2               покупка жилья                     C  операции с недвижимостью   \n",
              "3  дополнительное образование                     B     получение образования   \n",
              "4             сыграть свадьбу                     C        проведение свадьбы   \n",
              "5               покупка жилья                     B  операции с недвижимостью   \n",
              "6           операции с жильем                     B  операции с недвижимостью   \n",
              "7                 образование                     C     получение образования   \n",
              "8       на проведение свадьбы                     C        проведение свадьбы   \n",
              "9     покупка жилья для семьи                     C  операции с недвижимостью   \n",
              "\n",
              "  children_rank  \n",
              "0     есть дети  \n",
              "1     есть дети  \n",
              "2     нет детей  \n",
              "3   многодетный  \n",
              "4     нет детей  \n",
              "5     нет детей  \n",
              "6     нет детей  \n",
              "7     нет детей  \n",
              "8     есть дети  \n",
              "9     нет детей  "
            ]
          },
          "execution_count": 24,
          "metadata": {},
          "output_type": "execute_result"
        }
      ],
      "source": [
        "data.head(10) #проверяем - выводим первые 10 строк"
      ]
    },
    {
      "cell_type": "markdown",
      "id": "d45ff0bf",
      "metadata": {
        "id": "d45ff0bf"
      },
      "source": [
        "Теперь создаю сводную таблицу, по которой можно дать ответ на вопрос"
      ]
    },
    {
      "cell_type": "code",
      "execution_count": null,
      "id": "acf8f7bc",
      "metadata": {
        "id": "acf8f7bc",
        "outputId": "8313813d-04be-4985-99c9-347a3c7e2b7e"
      },
      "outputs": [
        {
          "data": {
            "text/html": [
              "<div>\n",
              "<style scoped>\n",
              "    .dataframe tbody tr th:only-of-type {\n",
              "        vertical-align: middle;\n",
              "    }\n",
              "\n",
              "    .dataframe tbody tr th {\n",
              "        vertical-align: top;\n",
              "    }\n",
              "\n",
              "    .dataframe thead th {\n",
              "        text-align: right;\n",
              "    }\n",
              "</style>\n",
              "<table border=\"1\" class=\"dataframe\">\n",
              "  <thead>\n",
              "    <tr style=\"text-align: right;\">\n",
              "      <th></th>\n",
              "      <th>no_debt</th>\n",
              "      <th>debt</th>\n",
              "      <th>share_of_debtors</th>\n",
              "    </tr>\n",
              "    <tr>\n",
              "      <th>children_rank</th>\n",
              "      <th></th>\n",
              "      <th></th>\n",
              "      <th></th>\n",
              "    </tr>\n",
              "  </thead>\n",
              "  <tbody>\n",
              "    <tr>\n",
              "      <th>есть дети</th>\n",
              "      <td>6222</td>\n",
              "      <td>638</td>\n",
              "      <td>9.3%</td>\n",
              "    </tr>\n",
              "    <tr>\n",
              "      <th>многодетный</th>\n",
              "      <td>349</td>\n",
              "      <td>31</td>\n",
              "      <td>8.2%</td>\n",
              "    </tr>\n",
              "    <tr>\n",
              "      <th>нет детей</th>\n",
              "      <td>13028</td>\n",
              "      <td>1063</td>\n",
              "      <td>7.5%</td>\n",
              "    </tr>\n",
              "  </tbody>\n",
              "</table>\n",
              "</div>"
            ],
            "text/plain": [
              "               no_debt  debt share_of_debtors\n",
              "children_rank                                \n",
              "есть дети         6222   638             9.3%\n",
              "многодетный        349    31             8.2%\n",
              "нет детей        13028  1063             7.5%"
            ]
          },
          "execution_count": 25,
          "metadata": {},
          "output_type": "execute_result"
        }
      ],
      "source": [
        "# создаю таблицу\n",
        "debt_children = data.pivot_table(index='children_rank', columns='debt', values='gender', aggfunc='count')\n",
        "# задаю столбцы\n",
        "debt_children.columns = ['no_debt', 'debt']\n",
        "# считаю долю должников (ещё один столбец)\n",
        "debt_children['share_of_debtors'] = debt_children['debt'] / (debt_children['debt'] + debt_children['no_debt'])\n",
        "# перевожу долю в проценты\n",
        "debt_children['share_of_debtors'] = debt_children['share_of_debtors'].map('{:.1%}'.format)\n",
        "# сортирую процент должников по убыванию\n",
        "debt_children.sort_values(by='share_of_debtors', ascending=False)"
      ]
    },
    {
      "cell_type": "markdown",
      "id": "50582381",
      "metadata": {
        "deletable": false,
        "id": "50582381"
      },
      "source": [
        "**Вывод:** Согласно предоставленной выборке, если у клиента есть дети, риск задолженности повышается. Интересный момент, что у многодетных клиентов процент задолженности ниже, чем у клинтов с 1-2 детьми. Возможно, это связано со льготами, предоставляемыми многодетным семьям или, вероятно, что в данной выборке подобрались именно такие данные."
      ]
    },
    {
      "cell_type": "markdown",
      "id": "1c6a2c92",
      "metadata": {
        "deletable": false,
        "editable": false,
        "id": "1c6a2c92"
      },
      "source": [
        "#### 3.2 Есть ли зависимость между семейным положением и возвратом кредита в срок?"
      ]
    },
    {
      "cell_type": "markdown",
      "id": "f12bdf69",
      "metadata": {
        "id": "f12bdf69"
      },
      "source": [
        "Действую аналогичным предыдущему заданию образом. Создаю сводную таблицу по категории семейный статус."
      ]
    },
    {
      "cell_type": "code",
      "execution_count": null,
      "id": "7b673a0a",
      "metadata": {
        "deletable": false,
        "id": "7b673a0a",
        "outputId": "ef1c5b77-f597-4f8b-9b41-99ceb3a28cde"
      },
      "outputs": [
        {
          "data": {
            "text/html": [
              "<div>\n",
              "<style scoped>\n",
              "    .dataframe tbody tr th:only-of-type {\n",
              "        vertical-align: middle;\n",
              "    }\n",
              "\n",
              "    .dataframe tbody tr th {\n",
              "        vertical-align: top;\n",
              "    }\n",
              "\n",
              "    .dataframe thead th {\n",
              "        text-align: right;\n",
              "    }\n",
              "</style>\n",
              "<table border=\"1\" class=\"dataframe\">\n",
              "  <thead>\n",
              "    <tr style=\"text-align: right;\">\n",
              "      <th></th>\n",
              "      <th>no_debt</th>\n",
              "      <th>debt</th>\n",
              "      <th>share_of_debtors</th>\n",
              "    </tr>\n",
              "    <tr>\n",
              "      <th>family_status</th>\n",
              "      <th></th>\n",
              "      <th></th>\n",
              "      <th></th>\n",
              "    </tr>\n",
              "  </thead>\n",
              "  <tbody>\n",
              "    <tr>\n",
              "      <th>Не женат / не замужем</th>\n",
              "      <td>2523</td>\n",
              "      <td>273</td>\n",
              "      <td>9.8%</td>\n",
              "    </tr>\n",
              "    <tr>\n",
              "      <th>гражданский брак</th>\n",
              "      <td>3749</td>\n",
              "      <td>385</td>\n",
              "      <td>9.3%</td>\n",
              "    </tr>\n",
              "    <tr>\n",
              "      <th>женат / замужем</th>\n",
              "      <td>11334</td>\n",
              "      <td>927</td>\n",
              "      <td>7.6%</td>\n",
              "    </tr>\n",
              "    <tr>\n",
              "      <th>в разводе</th>\n",
              "      <td>1105</td>\n",
              "      <td>84</td>\n",
              "      <td>7.1%</td>\n",
              "    </tr>\n",
              "    <tr>\n",
              "      <th>вдовец / вдова</th>\n",
              "      <td>888</td>\n",
              "      <td>63</td>\n",
              "      <td>6.6%</td>\n",
              "    </tr>\n",
              "  </tbody>\n",
              "</table>\n",
              "</div>"
            ],
            "text/plain": [
              "                       no_debt  debt share_of_debtors\n",
              "family_status                                        \n",
              "Не женат / не замужем     2523   273             9.8%\n",
              "гражданский брак          3749   385             9.3%\n",
              "женат / замужем          11334   927             7.6%\n",
              "в разводе                 1105    84             7.1%\n",
              "вдовец / вдова             888    63             6.6%"
            ]
          },
          "execution_count": 26,
          "metadata": {},
          "output_type": "execute_result"
        }
      ],
      "source": [
        "debt_family = data.pivot_table(index='family_status', columns='debt', values='gender', aggfunc='count') # создаю таблицу\n",
        "debt_family.columns = ['no_debt', 'debt'] # задаю столбцы\n",
        "debt_family['share_of_debtors'] = debt_family['debt'] / (debt_family['debt'] + debt_family['no_debt']) # считаю долю должников (ещё один столбец)\n",
        "debt_family['share_of_debtors'] = debt_family['share_of_debtors'].map('{:.1%}'.format) # перевожу долю в проценты\n",
        "debt_family.sort_values(by='share_of_debtors', ascending=False) # сортирую процент должников по убыванию# Ваш код будет здесь. Вы можете создавать новые ячейки."
      ]
    },
    {
      "cell_type": "markdown",
      "id": "765145fc",
      "metadata": {
        "deletable": false,
        "id": "765145fc"
      },
      "source": [
        "**Вывод:** Наибольший процент должников среди незамужних/неженатых клиентов и клиентов, живущих в гражданском браке. Причина, возможно, в том, что у данных категорий клиентов ниже уровень планирования бюджета, некая свобода в трате денег. Наиментший процент - в категории вдовец/вдова. Возможно, это связано со средствами, доставшимися после смерти супруга/супруги."
      ]
    },
    {
      "cell_type": "markdown",
      "id": "512f4071",
      "metadata": {
        "deletable": false,
        "editable": false,
        "id": "512f4071"
      },
      "source": [
        "#### 3.3 Есть ли зависимость между уровнем дохода и возвратом кредита в срок?"
      ]
    },
    {
      "cell_type": "markdown",
      "id": "78056da4",
      "metadata": {
        "id": "78056da4"
      },
      "source": [
        "Действую аналогичным предыдущему заданию образом. Создаю сводную таблицу по категории уровня дохода."
      ]
    },
    {
      "cell_type": "code",
      "execution_count": null,
      "id": "d3d5c484",
      "metadata": {
        "deletable": false,
        "id": "d3d5c484",
        "outputId": "d96f09ed-bc55-4e87-ab56-b4671adabe66"
      },
      "outputs": [
        {
          "data": {
            "text/html": [
              "<div>\n",
              "<style scoped>\n",
              "    .dataframe tbody tr th:only-of-type {\n",
              "        vertical-align: middle;\n",
              "    }\n",
              "\n",
              "    .dataframe tbody tr th {\n",
              "        vertical-align: top;\n",
              "    }\n",
              "\n",
              "    .dataframe thead th {\n",
              "        text-align: right;\n",
              "    }\n",
              "</style>\n",
              "<table border=\"1\" class=\"dataframe\">\n",
              "  <thead>\n",
              "    <tr style=\"text-align: right;\">\n",
              "      <th></th>\n",
              "      <th>no_debt</th>\n",
              "      <th>debt</th>\n",
              "      <th>share_of_debtors</th>\n",
              "    </tr>\n",
              "    <tr>\n",
              "      <th>total_income_category</th>\n",
              "      <th></th>\n",
              "      <th></th>\n",
              "      <th></th>\n",
              "    </tr>\n",
              "  </thead>\n",
              "  <tbody>\n",
              "    <tr>\n",
              "      <th>E</th>\n",
              "      <td>20</td>\n",
              "      <td>2</td>\n",
              "      <td>9.1%</td>\n",
              "    </tr>\n",
              "    <tr>\n",
              "      <th>C</th>\n",
              "      <td>14568</td>\n",
              "      <td>1353</td>\n",
              "      <td>8.5%</td>\n",
              "    </tr>\n",
              "    <tr>\n",
              "      <th>A</th>\n",
              "      <td>23</td>\n",
              "      <td>2</td>\n",
              "      <td>8.0%</td>\n",
              "    </tr>\n",
              "    <tr>\n",
              "      <th>B</th>\n",
              "      <td>4660</td>\n",
              "      <td>354</td>\n",
              "      <td>7.1%</td>\n",
              "    </tr>\n",
              "    <tr>\n",
              "      <th>D</th>\n",
              "      <td>328</td>\n",
              "      <td>21</td>\n",
              "      <td>6.0%</td>\n",
              "    </tr>\n",
              "  </tbody>\n",
              "</table>\n",
              "</div>"
            ],
            "text/plain": [
              "                       no_debt  debt share_of_debtors\n",
              "total_income_category                                \n",
              "E                           20     2             9.1%\n",
              "C                        14568  1353             8.5%\n",
              "A                           23     2             8.0%\n",
              "B                         4660   354             7.1%\n",
              "D                          328    21             6.0%"
            ]
          },
          "execution_count": 27,
          "metadata": {},
          "output_type": "execute_result"
        }
      ],
      "source": [
        "debt_income_type = data.pivot_table(index='total_income_category', columns='debt', values='gender', aggfunc='count') # создаю таблицу\n",
        "debt_income_type.columns = ['no_debt', 'debt'] # задаю столбцы\n",
        "debt_income_type['share_of_debtors'] = debt_income_type['debt'] / (debt_income_type['debt'] + debt_income_type['no_debt']) # считаю долю должников (ещё один столбец)\n",
        "debt_income_type['share_of_debtors'] = debt_income_type['share_of_debtors'].map('{:.1%}'.format) # перевожу долю в проценты\n",
        "debt_income_type.sort_values(by='share_of_debtors', ascending=False) # сортирую процент должников по убыванию# Ваш код будет здесь. Вы можете создавать новые ячейки."
      ]
    },
    {
      "cell_type": "markdown",
      "id": "61471862",
      "metadata": {
        "deletable": false,
        "id": "61471862"
      },
      "source": [
        "**Вывод:** Поскольку выборка в категориях \"Е\" и \"А\" (самый низкий и самый высокий доходы) невелика, в рассмотрение данные категории принимать не будем. Вывод делаем на основании категорий \"С\" , \"В\" и \"D\". Из приведённой таблицы видно, что наибольший риск долга в категории \"С\" - клиенты с доходом от 50001 до 200 тыс. Наименьший - в категориях \"B\" и \"D\". Причины? Для категории D, возможно, это более грамотное планирование бюджета."
      ]
    },
    {
      "cell_type": "markdown",
      "id": "18df563c",
      "metadata": {
        "id": "18df563c"
      },
      "source": [
        "<div class=\"alert alert-info\">\n",
        "\n",
        "**Артём:** 💡 Дам тебе совет на будущее, как лучше проводить категоризацию количественных данных. **В этом проекте переделывать ничего не надо, так как заказчик уже предложил свои категории.** Если только как дополнительное исследование.\n",
        "    \n",
        "Сейчас самая маленькая категория в 728 раз меньше самой большой. Это может отразиться на результатах исследования. Когда мы делим на категории количественные данные, то лучше их делать примерно одинаковыми. Для этого можно воспользоваться методом `qcut()`. Пример:\n",
        "    \n",
        "```py\n",
        "pd.qcut(df['total_income'], 4)\n",
        "```\n",
        "    \n",
        "```\n",
        "Name: total_income, Length: 21453, dtype: category\n",
        "Categories (4, interval[float64]): [(20666.999, 107620.0]  (107620.0, 142594.0]  (142594.0, 195818.0]  (195818.0, 2265604.0]]\n",
        "```\n",
        "                                                                                                               \n",
        "Что внутри:\n",
        "    \n",
        "```py\n",
        "pd.qcut(датафрейм['столбец'], количество_категорий)\n",
        "```\n",
        "    \n",
        "Итого у нас 4 категории:\n",
        "<ul>\n",
        "  <li>меньше 107_620</li>\n",
        "  <li>от 107_620 до 142_594</li>\n",
        "  <li>от 142_594 до 195_818</li>\n",
        "  <li>от 195_818</li>\n",
        "</ul>"
      ]
    },
    {
      "cell_type": "markdown",
      "id": "d679bf95",
      "metadata": {
        "id": "d679bf95"
      },
      "source": [
        "Интересно, с таким методом не знаком ещё."
      ]
    },
    {
      "cell_type": "markdown",
      "id": "a804c5a1",
      "metadata": {
        "id": "a804c5a1"
      },
      "source": [
        "<div class=\"alert alert-success\">\n",
        "\n",
        "**Артём:** 👍👍 Здорово, что рассказал что-то новое.\n",
        "  \n",
        "</div>"
      ]
    },
    {
      "cell_type": "markdown",
      "id": "3f60e35b",
      "metadata": {
        "deletable": false,
        "editable": false,
        "id": "3f60e35b"
      },
      "source": [
        "#### 3.4 Как разные цели кредита влияют на его возврат в срок?"
      ]
    },
    {
      "cell_type": "code",
      "execution_count": null,
      "id": "5f6bbe7d",
      "metadata": {
        "deletable": false,
        "id": "5f6bbe7d",
        "outputId": "9c2d3eb8-44e1-49b3-a3e1-adea178701eb"
      },
      "outputs": [
        {
          "data": {
            "text/html": [
              "<div>\n",
              "<style scoped>\n",
              "    .dataframe tbody tr th:only-of-type {\n",
              "        vertical-align: middle;\n",
              "    }\n",
              "\n",
              "    .dataframe tbody tr th {\n",
              "        vertical-align: top;\n",
              "    }\n",
              "\n",
              "    .dataframe thead th {\n",
              "        text-align: right;\n",
              "    }\n",
              "</style>\n",
              "<table border=\"1\" class=\"dataframe\">\n",
              "  <thead>\n",
              "    <tr style=\"text-align: right;\">\n",
              "      <th></th>\n",
              "      <th>no_debt</th>\n",
              "      <th>debt</th>\n",
              "      <th>share_of_debtors</th>\n",
              "    </tr>\n",
              "    <tr>\n",
              "      <th>purpose_category</th>\n",
              "      <th></th>\n",
              "      <th></th>\n",
              "      <th></th>\n",
              "    </tr>\n",
              "  </thead>\n",
              "  <tbody>\n",
              "    <tr>\n",
              "      <th>операции с автомобилем</th>\n",
              "      <td>3879</td>\n",
              "      <td>400</td>\n",
              "      <td>9.3%</td>\n",
              "    </tr>\n",
              "    <tr>\n",
              "      <th>получение образования</th>\n",
              "      <td>3619</td>\n",
              "      <td>369</td>\n",
              "      <td>9.3%</td>\n",
              "    </tr>\n",
              "    <tr>\n",
              "      <th>проведение свадьбы</th>\n",
              "      <td>2130</td>\n",
              "      <td>183</td>\n",
              "      <td>7.9%</td>\n",
              "    </tr>\n",
              "    <tr>\n",
              "      <th>операции с недвижимостью</th>\n",
              "      <td>9971</td>\n",
              "      <td>780</td>\n",
              "      <td>7.3%</td>\n",
              "    </tr>\n",
              "  </tbody>\n",
              "</table>\n",
              "</div>"
            ],
            "text/plain": [
              "                          no_debt  debt share_of_debtors\n",
              "purpose_category                                        \n",
              "операции с автомобилем       3879   400             9.3%\n",
              "получение образования        3619   369             9.3%\n",
              "проведение свадьбы           2130   183             7.9%\n",
              "операции с недвижимостью     9971   780             7.3%"
            ]
          },
          "execution_count": 28,
          "metadata": {},
          "output_type": "execute_result"
        }
      ],
      "source": [
        "debt_credit_purpose = data.pivot_table(index='purpose_category', columns='debt', values='gender', aggfunc='count') # создаю таблицу\n",
        "debt_credit_purpose.columns = ['no_debt', 'debt'] # задаю столбцы\n",
        "debt_credit_purpose['share_of_debtors'] = debt_credit_purpose['debt'] / (debt_credit_purpose['debt'] + debt_credit_purpose['no_debt']) # считаю долю должников (ещё один столбец)\n",
        "debt_credit_purpose['share_of_debtors'] = debt_credit_purpose['share_of_debtors'].map('{:.1%}'.format) # перевожу долю в проценты\n",
        "debt_credit_purpose.sort_values(by='share_of_debtors', ascending=False) # сортирую процент должников по убыванию# Ваш код будет здесь. Вы можете создавать новые ячейки.# Ваш код будет здесь. Вы можете создавать новые ячейки."
      ]
    },
    {
      "cell_type": "markdown",
      "id": "0c4610c3",
      "metadata": {
        "deletable": false,
        "id": "0c4610c3"
      },
      "source": [
        "**Вывод:** Наибольший процент долга у клиентов, берущих кредит на операцию с авто и получение образования. Касательно автомобиля - возможно связано с высокими затратами на содержание авто, оплату штрафов, ремонт. Касательно образования - возможно, это молодые люди, которые смогут гарантированно погасить кредит, только выйдя на работу после получения образования.\n",
        "Наименьший процент - на свадьбу и недвижимость. Свадьба - возможно, помогают погасить родственники. Недвижимость - к данной покупке клиенты подходят наиболее ответственно, аккуратно внося платежи."
      ]
    },
    {
      "cell_type": "markdown",
      "id": "22bda75c",
      "metadata": {
        "deletable": false,
        "editable": false,
        "id": "22bda75c"
      },
      "source": [
        "#### 3.5 Приведите возможные причины появления пропусков в исходных данных."
      ]
    },
    {
      "cell_type": "markdown",
      "id": "31f82db9",
      "metadata": {
        "deletable": false,
        "id": "31f82db9"
      },
      "source": [
        "*Ответ:* Наиболее вероятные причины - сокрытие информации, ошибки при вводе данных, повреждение файла."
      ]
    },
    {
      "cell_type": "markdown",
      "id": "9b321080",
      "metadata": {
        "deletable": false,
        "editable": false,
        "id": "9b321080"
      },
      "source": [
        "#### 3.6 Объясните, почему заполнить пропуски медианным значением — лучшее решение для количественных переменных."
      ]
    },
    {
      "cell_type": "markdown",
      "id": "85198864",
      "metadata": {
        "deletable": false,
        "id": "85198864"
      },
      "source": [
        "*Ответ:* Медиана, в отличие от среднего арифметического (да и любого среднего) устойчива к аномальным значениям, резко выбивающимся из общего строя. Поэтому, при заполнении пропусков в столбцах количественных переменных использование медианного значения оптимально."
      ]
    },
    {
      "cell_type": "markdown",
      "id": "f665a9e0",
      "metadata": {
        "deletable": false,
        "editable": false,
        "id": "f665a9e0"
      },
      "source": [
        "### Шаг 4: общий вывод."
      ]
    },
    {
      "cell_type": "markdown",
      "id": "4ba4b1cc",
      "metadata": {
        "deletable": false,
        "id": "4ba4b1cc"
      },
      "source": [
        "Проведенный анализ данных показал, что наибольшие риски по возврату займа характерен для следующих случаев:\n",
        "1. Наличие детей у клиента;\n",
        "2. Клиент холост/не замужем, либо живёт в гражданском браке;\n",
        "3. Уровень дохода клиента лежит в диапазоне 50001 - 200001;\n",
        "4. Цели кредита - образование и операции с авто.\n",
        "\n",
        "Наиболее вероятные причины пропусков данных - сокрытие информации, ошибки при вводе данных, повреждение файла.\n",
        "\n",
        "Медианное значение для количественных переменных - лучшее решение при заполнении пропусков данных.\n"
      ]
    },
    {
      "cell_type": "code",
      "execution_count": null,
      "id": "2545bbea",
      "metadata": {
        "id": "2545bbea"
      },
      "outputs": [],
      "source": []
    }
  ],
  "metadata": {
    "ExecuteTimeLog": [
      {
        "duration": 43,
        "start_time": "2023-04-22T04:47:33.417Z"
      },
      {
        "duration": 6,
        "start_time": "2023-04-22T04:48:18.611Z"
      },
      {
        "duration": 697,
        "start_time": "2023-04-22T04:48:26.366Z"
      },
      {
        "duration": 19,
        "start_time": "2023-04-22T04:48:32.098Z"
      },
      {
        "duration": 13,
        "start_time": "2023-04-22T04:48:34.511Z"
      },
      {
        "duration": 11,
        "start_time": "2023-04-22T04:48:37.992Z"
      },
      {
        "duration": 34,
        "start_time": "2023-04-22T04:48:43.450Z"
      },
      {
        "duration": 4,
        "start_time": "2023-04-22T04:48:45.669Z"
      },
      {
        "duration": 8,
        "start_time": "2023-04-22T04:48:50.096Z"
      },
      {
        "duration": 4,
        "start_time": "2023-04-22T04:48:54.330Z"
      },
      {
        "duration": 7,
        "start_time": "2023-04-22T04:48:54.898Z"
      },
      {
        "duration": 4,
        "start_time": "2023-04-22T04:48:55.337Z"
      },
      {
        "duration": 33,
        "start_time": "2023-04-22T04:48:57.196Z"
      },
      {
        "duration": 8,
        "start_time": "2023-04-22T04:49:01.704Z"
      },
      {
        "duration": 3,
        "start_time": "2023-04-22T04:49:03.788Z"
      },
      {
        "duration": 10,
        "start_time": "2023-04-22T04:49:05.301Z"
      },
      {
        "duration": 18,
        "start_time": "2023-04-22T04:49:06.339Z"
      },
      {
        "duration": 16,
        "start_time": "2023-04-22T04:49:07.148Z"
      },
      {
        "duration": 3,
        "start_time": "2023-04-22T04:49:10.748Z"
      },
      {
        "duration": 8,
        "start_time": "2023-04-22T04:49:11.627Z"
      },
      {
        "duration": 11,
        "start_time": "2023-04-22T04:49:14.568Z"
      },
      {
        "duration": 3,
        "start_time": "2023-04-22T04:49:18.057Z"
      },
      {
        "duration": 17,
        "start_time": "2023-04-22T04:49:19.968Z"
      },
      {
        "duration": 19,
        "start_time": "2023-04-22T04:49:23.995Z"
      },
      {
        "duration": 15,
        "start_time": "2023-04-22T04:53:05.525Z"
      },
      {
        "duration": 3,
        "start_time": "2023-04-22T05:08:36.487Z"
      },
      {
        "duration": 3,
        "start_time": "2023-04-22T05:10:17.090Z"
      },
      {
        "duration": 27,
        "start_time": "2023-04-22T05:10:54.794Z"
      },
      {
        "duration": 9,
        "start_time": "2023-04-22T05:11:19.167Z"
      },
      {
        "duration": 12,
        "start_time": "2023-04-22T05:12:28.079Z"
      },
      {
        "duration": 24,
        "start_time": "2023-04-22T05:31:29.405Z"
      },
      {
        "duration": 52,
        "start_time": "2023-04-22T10:00:28.115Z"
      },
      {
        "duration": 674,
        "start_time": "2023-04-22T10:00:38.369Z"
      },
      {
        "duration": 22,
        "start_time": "2023-04-22T10:00:40.949Z"
      },
      {
        "duration": 21,
        "start_time": "2023-04-22T10:00:42.956Z"
      },
      {
        "duration": 11,
        "start_time": "2023-04-22T10:00:44.903Z"
      },
      {
        "duration": 36,
        "start_time": "2023-04-22T10:00:45.373Z"
      },
      {
        "duration": 4,
        "start_time": "2023-04-22T10:00:46.741Z"
      },
      {
        "duration": 8,
        "start_time": "2023-04-22T10:00:47.929Z"
      },
      {
        "duration": 5,
        "start_time": "2023-04-22T10:00:51.069Z"
      },
      {
        "duration": 7,
        "start_time": "2023-04-22T10:00:52.904Z"
      },
      {
        "duration": 5,
        "start_time": "2023-04-22T10:00:54.594Z"
      },
      {
        "duration": 35,
        "start_time": "2023-04-22T10:00:56.531Z"
      },
      {
        "duration": 11,
        "start_time": "2023-04-22T10:00:58.204Z"
      },
      {
        "duration": 5,
        "start_time": "2023-04-22T10:01:00.501Z"
      },
      {
        "duration": 11,
        "start_time": "2023-04-22T10:01:02.194Z"
      },
      {
        "duration": 19,
        "start_time": "2023-04-22T10:01:03.269Z"
      },
      {
        "duration": 18,
        "start_time": "2023-04-22T10:01:03.769Z"
      },
      {
        "duration": 4,
        "start_time": "2023-04-22T10:01:04.879Z"
      },
      {
        "duration": 11,
        "start_time": "2023-04-22T10:01:05.399Z"
      },
      {
        "duration": 7,
        "start_time": "2023-04-22T10:01:06.616Z"
      },
      {
        "duration": 3,
        "start_time": "2023-04-22T10:01:07.779Z"
      },
      {
        "duration": 8,
        "start_time": "2023-04-22T10:01:08.697Z"
      },
      {
        "duration": 3,
        "start_time": "2023-04-22T10:01:12.200Z"
      },
      {
        "duration": 9,
        "start_time": "2023-04-22T10:01:14.603Z"
      },
      {
        "duration": 22,
        "start_time": "2023-04-22T10:01:16.400Z"
      },
      {
        "duration": 37,
        "start_time": "2023-04-22T10:01:21.231Z"
      },
      {
        "duration": 29,
        "start_time": "2023-04-22T10:01:25.448Z"
      },
      {
        "duration": 34,
        "start_time": "2023-04-22T10:03:32.685Z"
      },
      {
        "duration": 30,
        "start_time": "2023-04-22T10:03:46.807Z"
      },
      {
        "duration": 25,
        "start_time": "2023-04-22T10:04:07.218Z"
      },
      {
        "duration": 684,
        "start_time": "2023-04-22T10:14:28.635Z"
      },
      {
        "duration": 31,
        "start_time": "2023-04-22T10:16:33.783Z"
      },
      {
        "duration": 687,
        "start_time": "2023-04-22T10:16:40.772Z"
      },
      {
        "duration": 29,
        "start_time": "2023-04-22T10:19:21.149Z"
      },
      {
        "duration": 23,
        "start_time": "2023-04-22T10:40:04.362Z"
      },
      {
        "duration": 22,
        "start_time": "2023-04-22T10:41:44.559Z"
      },
      {
        "duration": 543,
        "start_time": "2023-04-22T12:30:21.262Z"
      },
      {
        "duration": 24,
        "start_time": "2023-04-22T12:30:21.807Z"
      },
      {
        "duration": 15,
        "start_time": "2023-04-22T12:30:21.833Z"
      },
      {
        "duration": 8,
        "start_time": "2023-04-22T12:30:21.850Z"
      },
      {
        "duration": 47,
        "start_time": "2023-04-22T12:30:21.860Z"
      },
      {
        "duration": 4,
        "start_time": "2023-04-22T12:30:21.909Z"
      },
      {
        "duration": 11,
        "start_time": "2023-04-22T12:30:21.915Z"
      },
      {
        "duration": 4,
        "start_time": "2023-04-22T12:30:21.928Z"
      },
      {
        "duration": 51,
        "start_time": "2023-04-22T12:30:21.934Z"
      },
      {
        "duration": 6,
        "start_time": "2023-04-22T12:30:21.991Z"
      },
      {
        "duration": 109,
        "start_time": "2023-04-22T12:30:21.999Z"
      },
      {
        "duration": 9,
        "start_time": "2023-04-22T12:30:22.111Z"
      },
      {
        "duration": 64,
        "start_time": "2023-04-22T12:30:22.121Z"
      },
      {
        "duration": 12,
        "start_time": "2023-04-22T12:30:22.188Z"
      },
      {
        "duration": 20,
        "start_time": "2023-04-22T12:30:22.202Z"
      },
      {
        "duration": 70,
        "start_time": "2023-04-22T12:30:22.224Z"
      },
      {
        "duration": 3,
        "start_time": "2023-04-22T12:30:22.296Z"
      },
      {
        "duration": 12,
        "start_time": "2023-04-22T12:30:22.301Z"
      },
      {
        "duration": 5,
        "start_time": "2023-04-22T12:30:22.316Z"
      },
      {
        "duration": 4,
        "start_time": "2023-04-22T12:30:22.322Z"
      },
      {
        "duration": 65,
        "start_time": "2023-04-22T12:30:22.328Z"
      },
      {
        "duration": 4,
        "start_time": "2023-04-22T12:30:22.395Z"
      },
      {
        "duration": 10,
        "start_time": "2023-04-22T12:30:22.400Z"
      },
      {
        "duration": 73,
        "start_time": "2023-04-22T12:30:22.412Z"
      },
      {
        "duration": 28,
        "start_time": "2023-04-22T12:30:22.487Z"
      },
      {
        "duration": 74,
        "start_time": "2023-04-22T12:30:22.516Z"
      },
      {
        "duration": 23,
        "start_time": "2023-04-22T12:30:22.592Z"
      },
      {
        "duration": 79,
        "start_time": "2023-04-22T12:30:22.618Z"
      },
      {
        "duration": 102,
        "start_time": "2023-04-22T12:38:26.750Z"
      },
      {
        "duration": 48,
        "start_time": "2023-04-22T15:43:04.845Z"
      },
      {
        "duration": 713,
        "start_time": "2023-04-22T19:54:06.060Z"
      },
      {
        "duration": 66,
        "start_time": "2023-04-22T19:54:06.775Z"
      },
      {
        "duration": 67,
        "start_time": "2023-04-22T19:54:06.849Z"
      },
      {
        "duration": 143,
        "start_time": "2023-04-22T19:54:06.931Z"
      },
      {
        "duration": 81,
        "start_time": "2023-04-22T19:54:07.077Z"
      },
      {
        "duration": 31,
        "start_time": "2023-04-22T19:54:07.161Z"
      },
      {
        "duration": 71,
        "start_time": "2023-04-22T19:54:07.196Z"
      },
      {
        "duration": 46,
        "start_time": "2023-04-22T19:54:07.271Z"
      },
      {
        "duration": 64,
        "start_time": "2023-04-22T19:54:07.320Z"
      },
      {
        "duration": 14,
        "start_time": "2023-04-22T19:54:07.386Z"
      },
      {
        "duration": 172,
        "start_time": "2023-04-22T19:54:07.402Z"
      },
      {
        "duration": 26,
        "start_time": "2023-04-22T19:54:07.581Z"
      },
      {
        "duration": 56,
        "start_time": "2023-04-22T19:54:07.609Z"
      },
      {
        "duration": 18,
        "start_time": "2023-04-22T19:54:07.669Z"
      },
      {
        "duration": 87,
        "start_time": "2023-04-22T19:54:07.689Z"
      },
      {
        "duration": 106,
        "start_time": "2023-04-22T19:54:07.779Z"
      },
      {
        "duration": 14,
        "start_time": "2023-04-22T19:54:07.887Z"
      },
      {
        "duration": 139,
        "start_time": "2023-04-22T19:54:07.907Z"
      },
      {
        "duration": 30,
        "start_time": "2023-04-22T19:54:08.048Z"
      },
      {
        "duration": 79,
        "start_time": "2023-04-22T19:54:08.080Z"
      },
      {
        "duration": 62,
        "start_time": "2023-04-22T19:54:08.168Z"
      },
      {
        "duration": 33,
        "start_time": "2023-04-22T19:54:08.232Z"
      },
      {
        "duration": 39,
        "start_time": "2023-04-22T19:54:08.267Z"
      },
      {
        "duration": 100,
        "start_time": "2023-04-22T19:54:08.309Z"
      },
      {
        "duration": 92,
        "start_time": "2023-04-22T19:54:08.411Z"
      },
      {
        "duration": 52,
        "start_time": "2023-04-22T19:54:08.505Z"
      },
      {
        "duration": 73,
        "start_time": "2023-04-22T19:54:08.563Z"
      },
      {
        "duration": 84,
        "start_time": "2023-04-22T19:54:08.644Z"
      }
    ],
    "colab": {
      "provenance": []
    },
    "kernelspec": {
      "display_name": "Python 3 (ipykernel)",
      "language": "python",
      "name": "python3"
    },
    "language_info": {
      "codemirror_mode": {
        "name": "ipython",
        "version": 3
      },
      "file_extension": ".py",
      "mimetype": "text/x-python",
      "name": "python",
      "nbconvert_exporter": "python",
      "pygments_lexer": "ipython3",
      "version": "3.9.5"
    },
    "toc": {
      "base_numbering": 1,
      "nav_menu": {},
      "number_sections": true,
      "sideBar": true,
      "skip_h1_title": true,
      "title_cell": "Table of Contents",
      "title_sidebar": "Contents",
      "toc_cell": false,
      "toc_position": {},
      "toc_section_display": true,
      "toc_window_display": true
    }
  },
  "nbformat": 4,
  "nbformat_minor": 5
}