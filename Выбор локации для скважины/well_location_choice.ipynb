{
  "cells": [
    {
      "cell_type": "markdown",
      "metadata": {
        "id": "JbTNYjNb6u-y"
      },
      "source": [
        "# Выбор локации для скважины"
      ]
    },
    {
      "cell_type": "markdown",
      "metadata": {
        "id": "i4O7XXGj6u-0"
      },
      "source": [
        "Как всегда, прежде всего загружаю библиотеки."
      ]
    },
    {
      "cell_type": "code",
      "execution_count": null,
      "metadata": {
        "id": "3wyvnz_16u-0"
      },
      "outputs": [],
      "source": [
        "import pandas as pd\n",
        "import numpy as np\n",
        "import scipy.stats as st\n",
        "from sklearn.linear_model import LinearRegression\n",
        "from sklearn.metrics import mean_squared_error\n",
        "from sklearn.model_selection import train_test_split\n",
        "from sklearn.metrics import accuracy_score\n",
        "from sklearn.metrics import f1_score\n",
        "from sklearn.metrics import roc_auc_score\n",
        "from sklearn.utils import shuffle\n",
        "from sklearn.metrics import roc_curve\n",
        "import matplotlib.pyplot as plt\n",
        "from sklearn.metrics import recall_score\n",
        "from sklearn.metrics import precision_score\n",
        "from sklearn.preprocessing import StandardScaler\n",
        "from sklearn.metrics import plot_confusion_matrix"
      ]
    },
    {
      "cell_type": "markdown",
      "metadata": {
        "id": "0yZGu1e06u-2"
      },
      "source": [
        "На всякий случай гружу всё. Теперь знакомлюсь с файлами данных по георазведке."
      ]
    },
    {
      "cell_type": "markdown",
      "metadata": {
        "id": "0PGveuth6u-2"
      },
      "source": [
        "## Загрузка и подготовка данных"
      ]
    },
    {
      "cell_type": "code",
      "execution_count": null,
      "metadata": {
        "id": "yamOPsEh6u-3"
      },
      "outputs": [],
      "source": [
        "exploration_1 = pd.read_csv('/datasets/geo_data_0.csv')\n",
        "exploration_2 = pd.read_csv('/datasets/geo_data_1.csv')\n",
        "exploration_3 = pd.read_csv('/datasets/geo_data_2.csv')"
      ]
    },
    {
      "cell_type": "markdown",
      "metadata": {
        "id": "4Ip0kn876u-3"
      },
      "source": [
        "Далее проверяю содержимое файлов. Смотрю несколько строк файла, типы данных, количество пропусков, дубликатов."
      ]
    },
    {
      "cell_type": "code",
      "execution_count": null,
      "metadata": {
        "id": "drEsYTmo6u-3",
        "outputId": "ff158d18-d5fd-43fe-a47f-23f5bba808de"
      },
      "outputs": [
        {
          "data": {
            "text/html": [
              "<div>\n",
              "<style scoped>\n",
              "    .dataframe tbody tr th:only-of-type {\n",
              "        vertical-align: middle;\n",
              "    }\n",
              "\n",
              "    .dataframe tbody tr th {\n",
              "        vertical-align: top;\n",
              "    }\n",
              "\n",
              "    .dataframe thead th {\n",
              "        text-align: right;\n",
              "    }\n",
              "</style>\n",
              "<table border=\"1\" class=\"dataframe\">\n",
              "  <thead>\n",
              "    <tr style=\"text-align: right;\">\n",
              "      <th></th>\n",
              "      <th>id</th>\n",
              "      <th>f0</th>\n",
              "      <th>f1</th>\n",
              "      <th>f2</th>\n",
              "      <th>product</th>\n",
              "    </tr>\n",
              "  </thead>\n",
              "  <tbody>\n",
              "    <tr>\n",
              "      <th>0</th>\n",
              "      <td>txEyH</td>\n",
              "      <td>0.705745</td>\n",
              "      <td>-0.497823</td>\n",
              "      <td>1.221170</td>\n",
              "      <td>105.280062</td>\n",
              "    </tr>\n",
              "    <tr>\n",
              "      <th>1</th>\n",
              "      <td>2acmU</td>\n",
              "      <td>1.334711</td>\n",
              "      <td>-0.340164</td>\n",
              "      <td>4.365080</td>\n",
              "      <td>73.037750</td>\n",
              "    </tr>\n",
              "    <tr>\n",
              "      <th>2</th>\n",
              "      <td>409Wp</td>\n",
              "      <td>1.022732</td>\n",
              "      <td>0.151990</td>\n",
              "      <td>1.419926</td>\n",
              "      <td>85.265647</td>\n",
              "    </tr>\n",
              "    <tr>\n",
              "      <th>3</th>\n",
              "      <td>iJLyR</td>\n",
              "      <td>-0.032172</td>\n",
              "      <td>0.139033</td>\n",
              "      <td>2.978566</td>\n",
              "      <td>168.620776</td>\n",
              "    </tr>\n",
              "    <tr>\n",
              "      <th>4</th>\n",
              "      <td>Xdl7t</td>\n",
              "      <td>1.988431</td>\n",
              "      <td>0.155413</td>\n",
              "      <td>4.751769</td>\n",
              "      <td>154.036647</td>\n",
              "    </tr>\n",
              "  </tbody>\n",
              "</table>\n",
              "</div>"
            ],
            "text/plain": [
              "      id        f0        f1        f2     product\n",
              "0  txEyH  0.705745 -0.497823  1.221170  105.280062\n",
              "1  2acmU  1.334711 -0.340164  4.365080   73.037750\n",
              "2  409Wp  1.022732  0.151990  1.419926   85.265647\n",
              "3  iJLyR -0.032172  0.139033  2.978566  168.620776\n",
              "4  Xdl7t  1.988431  0.155413  4.751769  154.036647"
            ]
          },
          "execution_count": 3,
          "metadata": {},
          "output_type": "execute_result"
        }
      ],
      "source": [
        "exploration_1.head()"
      ]
    },
    {
      "cell_type": "code",
      "execution_count": null,
      "metadata": {
        "id": "Uvnt2NH86u-4",
        "outputId": "9d4e2dff-48e1-4c77-c53a-61edaca35dd4"
      },
      "outputs": [
        {
          "name": "stdout",
          "output_type": "stream",
          "text": [
            "<class 'pandas.core.frame.DataFrame'>\n",
            "RangeIndex: 100000 entries, 0 to 99999\n",
            "Data columns (total 5 columns):\n",
            " #   Column   Non-Null Count   Dtype  \n",
            "---  ------   --------------   -----  \n",
            " 0   id       100000 non-null  object \n",
            " 1   f0       100000 non-null  float64\n",
            " 2   f1       100000 non-null  float64\n",
            " 3   f2       100000 non-null  float64\n",
            " 4   product  100000 non-null  float64\n",
            "dtypes: float64(4), object(1)\n",
            "memory usage: 3.8+ MB\n"
          ]
        }
      ],
      "source": [
        "exploration_1.info()"
      ]
    },
    {
      "cell_type": "code",
      "execution_count": null,
      "metadata": {
        "id": "GesQLj6m6u-5",
        "outputId": "9ee948a5-e2f8-4c8f-a6e5-d57448be9a05"
      },
      "outputs": [
        {
          "data": {
            "text/plain": [
              "0"
            ]
          },
          "execution_count": 5,
          "metadata": {},
          "output_type": "execute_result"
        }
      ],
      "source": [
        "exploration_1.duplicated().sum()"
      ]
    },
    {
      "cell_type": "markdown",
      "metadata": {
        "id": "oOx-lYqx6u-5"
      },
      "source": [
        "С первым файлом данных всё в порядке: пропусков нет, дубликатов нет, типы данных отторжения не вызывают. Аналогично проверяю два других файла."
      ]
    },
    {
      "cell_type": "code",
      "execution_count": null,
      "metadata": {
        "id": "MJfe6Mhs6u-5",
        "outputId": "caa020bf-fd09-4b33-9d81-429972b11d33"
      },
      "outputs": [
        {
          "data": {
            "text/html": [
              "<div>\n",
              "<style scoped>\n",
              "    .dataframe tbody tr th:only-of-type {\n",
              "        vertical-align: middle;\n",
              "    }\n",
              "\n",
              "    .dataframe tbody tr th {\n",
              "        vertical-align: top;\n",
              "    }\n",
              "\n",
              "    .dataframe thead th {\n",
              "        text-align: right;\n",
              "    }\n",
              "</style>\n",
              "<table border=\"1\" class=\"dataframe\">\n",
              "  <thead>\n",
              "    <tr style=\"text-align: right;\">\n",
              "      <th></th>\n",
              "      <th>id</th>\n",
              "      <th>f0</th>\n",
              "      <th>f1</th>\n",
              "      <th>f2</th>\n",
              "      <th>product</th>\n",
              "    </tr>\n",
              "  </thead>\n",
              "  <tbody>\n",
              "    <tr>\n",
              "      <th>0</th>\n",
              "      <td>kBEdx</td>\n",
              "      <td>-15.001348</td>\n",
              "      <td>-8.276000</td>\n",
              "      <td>-0.005876</td>\n",
              "      <td>3.179103</td>\n",
              "    </tr>\n",
              "    <tr>\n",
              "      <th>1</th>\n",
              "      <td>62mP7</td>\n",
              "      <td>14.272088</td>\n",
              "      <td>-3.475083</td>\n",
              "      <td>0.999183</td>\n",
              "      <td>26.953261</td>\n",
              "    </tr>\n",
              "    <tr>\n",
              "      <th>2</th>\n",
              "      <td>vyE1P</td>\n",
              "      <td>6.263187</td>\n",
              "      <td>-5.948386</td>\n",
              "      <td>5.001160</td>\n",
              "      <td>134.766305</td>\n",
              "    </tr>\n",
              "    <tr>\n",
              "      <th>3</th>\n",
              "      <td>KcrkZ</td>\n",
              "      <td>-13.081196</td>\n",
              "      <td>-11.506057</td>\n",
              "      <td>4.999415</td>\n",
              "      <td>137.945408</td>\n",
              "    </tr>\n",
              "    <tr>\n",
              "      <th>4</th>\n",
              "      <td>AHL4O</td>\n",
              "      <td>12.702195</td>\n",
              "      <td>-8.147433</td>\n",
              "      <td>5.004363</td>\n",
              "      <td>134.766305</td>\n",
              "    </tr>\n",
              "  </tbody>\n",
              "</table>\n",
              "</div>"
            ],
            "text/plain": [
              "      id         f0         f1        f2     product\n",
              "0  kBEdx -15.001348  -8.276000 -0.005876    3.179103\n",
              "1  62mP7  14.272088  -3.475083  0.999183   26.953261\n",
              "2  vyE1P   6.263187  -5.948386  5.001160  134.766305\n",
              "3  KcrkZ -13.081196 -11.506057  4.999415  137.945408\n",
              "4  AHL4O  12.702195  -8.147433  5.004363  134.766305"
            ]
          },
          "execution_count": 6,
          "metadata": {},
          "output_type": "execute_result"
        }
      ],
      "source": [
        "exploration_2.head()"
      ]
    },
    {
      "cell_type": "code",
      "execution_count": null,
      "metadata": {
        "id": "1vAn9nGw6u-5",
        "outputId": "a96238e5-d912-4008-b6a0-4995578b22e3"
      },
      "outputs": [
        {
          "name": "stdout",
          "output_type": "stream",
          "text": [
            "<class 'pandas.core.frame.DataFrame'>\n",
            "RangeIndex: 100000 entries, 0 to 99999\n",
            "Data columns (total 5 columns):\n",
            " #   Column   Non-Null Count   Dtype  \n",
            "---  ------   --------------   -----  \n",
            " 0   id       100000 non-null  object \n",
            " 1   f0       100000 non-null  float64\n",
            " 2   f1       100000 non-null  float64\n",
            " 3   f2       100000 non-null  float64\n",
            " 4   product  100000 non-null  float64\n",
            "dtypes: float64(4), object(1)\n",
            "memory usage: 3.8+ MB\n"
          ]
        }
      ],
      "source": [
        "exploration_2.info()"
      ]
    },
    {
      "cell_type": "code",
      "execution_count": null,
      "metadata": {
        "id": "9PG7yPf86u-5",
        "outputId": "498a6854-59e7-4c36-ebdd-3acef2fc3645"
      },
      "outputs": [
        {
          "data": {
            "text/plain": [
              "0"
            ]
          },
          "execution_count": 8,
          "metadata": {},
          "output_type": "execute_result"
        }
      ],
      "source": [
        "exploration_2.duplicated().sum()"
      ]
    },
    {
      "cell_type": "code",
      "execution_count": null,
      "metadata": {
        "id": "NrjIoL9v6u-6",
        "outputId": "073a2aaa-f0b7-445e-8008-cded8e173ef1"
      },
      "outputs": [
        {
          "data": {
            "text/html": [
              "<div>\n",
              "<style scoped>\n",
              "    .dataframe tbody tr th:only-of-type {\n",
              "        vertical-align: middle;\n",
              "    }\n",
              "\n",
              "    .dataframe tbody tr th {\n",
              "        vertical-align: top;\n",
              "    }\n",
              "\n",
              "    .dataframe thead th {\n",
              "        text-align: right;\n",
              "    }\n",
              "</style>\n",
              "<table border=\"1\" class=\"dataframe\">\n",
              "  <thead>\n",
              "    <tr style=\"text-align: right;\">\n",
              "      <th></th>\n",
              "      <th>id</th>\n",
              "      <th>f0</th>\n",
              "      <th>f1</th>\n",
              "      <th>f2</th>\n",
              "      <th>product</th>\n",
              "    </tr>\n",
              "  </thead>\n",
              "  <tbody>\n",
              "    <tr>\n",
              "      <th>0</th>\n",
              "      <td>fwXo0</td>\n",
              "      <td>-1.146987</td>\n",
              "      <td>0.963328</td>\n",
              "      <td>-0.828965</td>\n",
              "      <td>27.758673</td>\n",
              "    </tr>\n",
              "    <tr>\n",
              "      <th>1</th>\n",
              "      <td>WJtFt</td>\n",
              "      <td>0.262778</td>\n",
              "      <td>0.269839</td>\n",
              "      <td>-2.530187</td>\n",
              "      <td>56.069697</td>\n",
              "    </tr>\n",
              "    <tr>\n",
              "      <th>2</th>\n",
              "      <td>ovLUW</td>\n",
              "      <td>0.194587</td>\n",
              "      <td>0.289035</td>\n",
              "      <td>-5.586433</td>\n",
              "      <td>62.871910</td>\n",
              "    </tr>\n",
              "    <tr>\n",
              "      <th>3</th>\n",
              "      <td>q6cA6</td>\n",
              "      <td>2.236060</td>\n",
              "      <td>-0.553760</td>\n",
              "      <td>0.930038</td>\n",
              "      <td>114.572842</td>\n",
              "    </tr>\n",
              "    <tr>\n",
              "      <th>4</th>\n",
              "      <td>WPMUX</td>\n",
              "      <td>-0.515993</td>\n",
              "      <td>1.716266</td>\n",
              "      <td>5.899011</td>\n",
              "      <td>149.600746</td>\n",
              "    </tr>\n",
              "  </tbody>\n",
              "</table>\n",
              "</div>"
            ],
            "text/plain": [
              "      id        f0        f1        f2     product\n",
              "0  fwXo0 -1.146987  0.963328 -0.828965   27.758673\n",
              "1  WJtFt  0.262778  0.269839 -2.530187   56.069697\n",
              "2  ovLUW  0.194587  0.289035 -5.586433   62.871910\n",
              "3  q6cA6  2.236060 -0.553760  0.930038  114.572842\n",
              "4  WPMUX -0.515993  1.716266  5.899011  149.600746"
            ]
          },
          "execution_count": 9,
          "metadata": {},
          "output_type": "execute_result"
        }
      ],
      "source": [
        "exploration_3.head()"
      ]
    },
    {
      "cell_type": "code",
      "execution_count": null,
      "metadata": {
        "id": "lNACuAke6u-6",
        "outputId": "88eb11e6-0655-45fd-b12f-6f928f6379a9"
      },
      "outputs": [
        {
          "name": "stdout",
          "output_type": "stream",
          "text": [
            "<class 'pandas.core.frame.DataFrame'>\n",
            "RangeIndex: 100000 entries, 0 to 99999\n",
            "Data columns (total 5 columns):\n",
            " #   Column   Non-Null Count   Dtype  \n",
            "---  ------   --------------   -----  \n",
            " 0   id       100000 non-null  object \n",
            " 1   f0       100000 non-null  float64\n",
            " 2   f1       100000 non-null  float64\n",
            " 3   f2       100000 non-null  float64\n",
            " 4   product  100000 non-null  float64\n",
            "dtypes: float64(4), object(1)\n",
            "memory usage: 3.8+ MB\n"
          ]
        }
      ],
      "source": [
        "exploration_3.info()"
      ]
    },
    {
      "cell_type": "code",
      "execution_count": null,
      "metadata": {
        "id": "8XZl0Bq26u-6",
        "outputId": "aefae72d-fc22-42e5-8734-9aa0875a2e52"
      },
      "outputs": [
        {
          "data": {
            "text/plain": [
              "0"
            ]
          },
          "execution_count": 11,
          "metadata": {},
          "output_type": "execute_result"
        }
      ],
      "source": [
        "exploration_3.duplicated().sum()"
      ]
    },
    {
      "cell_type": "code",
      "execution_count": null,
      "metadata": {
        "id": "V7kQig_t6u-7"
      },
      "outputs": [],
      "source": [
        "exploration_1 = exploration_1.rename(columns={'f0': 'f0_1', 'f1': 'f1_1', 'f2': 'f2_1', 'product': 'product_1'})\n",
        "exploration_2 = exploration_2.rename(columns={'f0': 'f0_2', 'f1': 'f1_2', 'f2': 'f2_2', 'product': 'product_2'})\n",
        "exploration_3 = exploration_3.rename(columns={'f0': 'f0_3', 'f1': 'f1_3', 'f2': 'f2_3', 'product': 'product_3'})"
      ]
    },
    {
      "cell_type": "markdown",
      "metadata": {
        "id": "E1zFXkyH6u-7"
      },
      "source": [
        "Второй и третий файлы также вопросов не вызывают пока что."
      ]
    },
    {
      "cell_type": "code",
      "execution_count": null,
      "metadata": {
        "id": "cbxh1ExL6u-7"
      },
      "outputs": [],
      "source": [
        "exploration_1 = exploration_1.drop('id', axis=1)\n",
        "exploration_2 = exploration_2.drop('id', axis=1)\n",
        "exploration_3 = exploration_3.drop('id', axis=1)"
      ]
    },
    {
      "cell_type": "code",
      "execution_count": null,
      "metadata": {
        "id": "Y1ajBIBP6u-7",
        "outputId": "2bd233b8-23e0-4826-b4aa-986c2484113d"
      },
      "outputs": [
        {
          "data": {
            "text/html": [
              "<div>\n",
              "<style scoped>\n",
              "    .dataframe tbody tr th:only-of-type {\n",
              "        vertical-align: middle;\n",
              "    }\n",
              "\n",
              "    .dataframe tbody tr th {\n",
              "        vertical-align: top;\n",
              "    }\n",
              "\n",
              "    .dataframe thead th {\n",
              "        text-align: right;\n",
              "    }\n",
              "</style>\n",
              "<table border=\"1\" class=\"dataframe\">\n",
              "  <thead>\n",
              "    <tr style=\"text-align: right;\">\n",
              "      <th></th>\n",
              "      <th>f0_1</th>\n",
              "      <th>f1_1</th>\n",
              "      <th>f2_1</th>\n",
              "      <th>product_1</th>\n",
              "    </tr>\n",
              "  </thead>\n",
              "  <tbody>\n",
              "    <tr>\n",
              "      <th>0</th>\n",
              "      <td>0.705745</td>\n",
              "      <td>-0.497823</td>\n",
              "      <td>1.221170</td>\n",
              "      <td>105.280062</td>\n",
              "    </tr>\n",
              "    <tr>\n",
              "      <th>1</th>\n",
              "      <td>1.334711</td>\n",
              "      <td>-0.340164</td>\n",
              "      <td>4.365080</td>\n",
              "      <td>73.037750</td>\n",
              "    </tr>\n",
              "    <tr>\n",
              "      <th>2</th>\n",
              "      <td>1.022732</td>\n",
              "      <td>0.151990</td>\n",
              "      <td>1.419926</td>\n",
              "      <td>85.265647</td>\n",
              "    </tr>\n",
              "    <tr>\n",
              "      <th>3</th>\n",
              "      <td>-0.032172</td>\n",
              "      <td>0.139033</td>\n",
              "      <td>2.978566</td>\n",
              "      <td>168.620776</td>\n",
              "    </tr>\n",
              "    <tr>\n",
              "      <th>4</th>\n",
              "      <td>1.988431</td>\n",
              "      <td>0.155413</td>\n",
              "      <td>4.751769</td>\n",
              "      <td>154.036647</td>\n",
              "    </tr>\n",
              "  </tbody>\n",
              "</table>\n",
              "</div>"
            ],
            "text/plain": [
              "       f0_1      f1_1      f2_1   product_1\n",
              "0  0.705745 -0.497823  1.221170  105.280062\n",
              "1  1.334711 -0.340164  4.365080   73.037750\n",
              "2  1.022732  0.151990  1.419926   85.265647\n",
              "3 -0.032172  0.139033  2.978566  168.620776\n",
              "4  1.988431  0.155413  4.751769  154.036647"
            ]
          },
          "execution_count": 14,
          "metadata": {},
          "output_type": "execute_result"
        }
      ],
      "source": [
        "exploration_1.head()"
      ]
    },
    {
      "cell_type": "markdown",
      "metadata": {
        "id": "d6hCSePB6u-7"
      },
      "source": [
        "### Выводы по разделу 1"
      ]
    },
    {
      "cell_type": "markdown",
      "metadata": {
        "id": "ylgw66N36u-7"
      },
      "source": [
        "1. Файлы данных загружены;\n",
        "2. Размеры файлов одинаковы;\n",
        "3. Пропусков и дубликатов не обнаружено;\n",
        "4. Типы данных адекватны, в корректировке не нуждаются."
      ]
    },
    {
      "cell_type": "markdown",
      "metadata": {
        "id": "eBAmS8Yf6u-8"
      },
      "source": [
        "## Обучение и проверка модели"
      ]
    },
    {
      "cell_type": "markdown",
      "metadata": {
        "id": "ngaHcwZY6u-8"
      },
      "source": [
        "Для обучения и проверки модели необходимо выполнить несколько этапов."
      ]
    },
    {
      "cell_type": "markdown",
      "metadata": {
        "id": "PgXyMpQ-6u-9"
      },
      "source": [
        "### Разбиение данных на обучающую и валидационную выборки в соотношении 75:25"
      ]
    },
    {
      "cell_type": "markdown",
      "metadata": {
        "id": "ZhElRJfo6u-9"
      },
      "source": [
        "#### Первый регион"
      ]
    },
    {
      "cell_type": "markdown",
      "metadata": {
        "id": "7gBio8d26u-9"
      },
      "source": [
        "Разбиваю выборки в рекомендованных пропорциях."
      ]
    },
    {
      "cell_type": "code",
      "execution_count": null,
      "metadata": {
        "id": "52WCN2YX6u-9"
      },
      "outputs": [],
      "source": [
        "exploration_1_train, exploration_1_valid = train_test_split(exploration_1, test_size=0.25, random_state=12345)"
      ]
    },
    {
      "cell_type": "code",
      "execution_count": null,
      "metadata": {
        "id": "Mi_fKHtV6u-9",
        "outputId": "2da73a68-e5ff-457e-d70b-9cd4dffc6c83"
      },
      "outputs": [
        {
          "data": {
            "text/plain": [
              "(75000, 4)"
            ]
          },
          "execution_count": 16,
          "metadata": {},
          "output_type": "execute_result"
        }
      ],
      "source": [
        "exploration_1_train.shape"
      ]
    },
    {
      "cell_type": "code",
      "execution_count": null,
      "metadata": {
        "id": "oZu5YsW36u--",
        "outputId": "010d2b55-b57d-44b2-e13a-63846d870026"
      },
      "outputs": [
        {
          "data": {
            "text/plain": [
              "(25000, 4)"
            ]
          },
          "execution_count": 17,
          "metadata": {},
          "output_type": "execute_result"
        }
      ],
      "source": [
        "exploration_1_valid.shape"
      ]
    },
    {
      "cell_type": "markdown",
      "metadata": {
        "id": "0ujD70WZ6u--"
      },
      "source": [
        "Создаю переменные для признаков и целевого признака."
      ]
    },
    {
      "cell_type": "code",
      "execution_count": null,
      "metadata": {
        "id": "ZhxChxGo6u--"
      },
      "outputs": [],
      "source": [
        "features_train_1 = exploration_1_train.drop('product_1', axis=1)\n",
        "target_train_1 = exploration_1_train['product_1']"
      ]
    },
    {
      "cell_type": "code",
      "execution_count": null,
      "metadata": {
        "id": "93JdorYh6u-_"
      },
      "outputs": [],
      "source": [
        "features_valid_1 = exploration_1_valid.drop('product_1', axis=1)\n",
        "target_valid_1 = exploration_1_valid['product_1']"
      ]
    },
    {
      "cell_type": "markdown",
      "metadata": {
        "id": "WAghkebO6u-_"
      },
      "source": [
        "Масштабирую выборки и проверяю, что получилось."
      ]
    },
    {
      "cell_type": "code",
      "execution_count": null,
      "metadata": {
        "id": "dyAvEIWp6u-_",
        "outputId": "1a7cb7a0-5c26-4da0-d4d5-cb288b769620"
      },
      "outputs": [
        {
          "data": {
            "text/plain": [
              "StandardScaler()"
            ]
          },
          "execution_count": 20,
          "metadata": {},
          "output_type": "execute_result"
        }
      ],
      "source": [
        "scaled_columns_1 = ['f0_1', 'f1_1', 'f2_1']\n",
        "\n",
        "scaler = StandardScaler()\n",
        "scaler.fit(features_train_1[scaled_columns_1])"
      ]
    },
    {
      "cell_type": "code",
      "execution_count": null,
      "metadata": {
        "id": "P_edwDiU6u-_",
        "outputId": "18a4879b-466e-4d7b-8520-c8fd91da1513"
      },
      "outputs": [
        {
          "data": {
            "text/html": [
              "<div>\n",
              "<style scoped>\n",
              "    .dataframe tbody tr th:only-of-type {\n",
              "        vertical-align: middle;\n",
              "    }\n",
              "\n",
              "    .dataframe tbody tr th {\n",
              "        vertical-align: top;\n",
              "    }\n",
              "\n",
              "    .dataframe thead th {\n",
              "        text-align: right;\n",
              "    }\n",
              "</style>\n",
              "<table border=\"1\" class=\"dataframe\">\n",
              "  <thead>\n",
              "    <tr style=\"text-align: right;\">\n",
              "      <th></th>\n",
              "      <th>f0_1</th>\n",
              "      <th>f1_1</th>\n",
              "      <th>f2_1</th>\n",
              "    </tr>\n",
              "  </thead>\n",
              "  <tbody>\n",
              "    <tr>\n",
              "      <th>27212</th>\n",
              "      <td>-0.544828</td>\n",
              "      <td>1.390264</td>\n",
              "      <td>-0.094959</td>\n",
              "    </tr>\n",
              "    <tr>\n",
              "      <th>7866</th>\n",
              "      <td>1.455912</td>\n",
              "      <td>-0.480422</td>\n",
              "      <td>1.209567</td>\n",
              "    </tr>\n",
              "    <tr>\n",
              "      <th>62041</th>\n",
              "      <td>0.260460</td>\n",
              "      <td>0.825069</td>\n",
              "      <td>-0.204865</td>\n",
              "    </tr>\n",
              "    <tr>\n",
              "      <th>70185</th>\n",
              "      <td>-1.837105</td>\n",
              "      <td>0.010321</td>\n",
              "      <td>-0.147634</td>\n",
              "    </tr>\n",
              "    <tr>\n",
              "      <th>82230</th>\n",
              "      <td>-1.299243</td>\n",
              "      <td>0.987558</td>\n",
              "      <td>1.273181</td>\n",
              "    </tr>\n",
              "  </tbody>\n",
              "</table>\n",
              "</div>"
            ],
            "text/plain": [
              "           f0_1      f1_1      f2_1\n",
              "27212 -0.544828  1.390264 -0.094959\n",
              "7866   1.455912 -0.480422  1.209567\n",
              "62041  0.260460  0.825069 -0.204865\n",
              "70185 -1.837105  0.010321 -0.147634\n",
              "82230 -1.299243  0.987558  1.273181"
            ]
          },
          "execution_count": 21,
          "metadata": {},
          "output_type": "execute_result"
        }
      ],
      "source": [
        "features_train_1[scaled_columns_1] = scaler.transform(features_train_1[scaled_columns_1])\n",
        "features_train_1.head()"
      ]
    },
    {
      "cell_type": "code",
      "execution_count": null,
      "metadata": {
        "id": "FlOHF2Km6u_A",
        "outputId": "37520eab-4f95-42fc-c1e5-d26d98b71c86"
      },
      "outputs": [
        {
          "data": {
            "text/html": [
              "<div>\n",
              "<style scoped>\n",
              "    .dataframe tbody tr th:only-of-type {\n",
              "        vertical-align: middle;\n",
              "    }\n",
              "\n",
              "    .dataframe tbody tr th {\n",
              "        vertical-align: top;\n",
              "    }\n",
              "\n",
              "    .dataframe thead th {\n",
              "        text-align: right;\n",
              "    }\n",
              "</style>\n",
              "<table border=\"1\" class=\"dataframe\">\n",
              "  <thead>\n",
              "    <tr style=\"text-align: right;\">\n",
              "      <th></th>\n",
              "      <th>f0_1</th>\n",
              "      <th>f1_1</th>\n",
              "      <th>f2_1</th>\n",
              "    </tr>\n",
              "  </thead>\n",
              "  <tbody>\n",
              "    <tr>\n",
              "      <th>71751</th>\n",
              "      <td>0.517917</td>\n",
              "      <td>-0.610097</td>\n",
              "      <td>-0.126226</td>\n",
              "    </tr>\n",
              "    <tr>\n",
              "      <th>80493</th>\n",
              "      <td>0.568391</td>\n",
              "      <td>-0.086063</td>\n",
              "      <td>-0.814914</td>\n",
              "    </tr>\n",
              "    <tr>\n",
              "      <th>2655</th>\n",
              "      <td>0.805688</td>\n",
              "      <td>-1.613289</td>\n",
              "      <td>-1.341342</td>\n",
              "    </tr>\n",
              "    <tr>\n",
              "      <th>53233</th>\n",
              "      <td>0.222503</td>\n",
              "      <td>-1.355437</td>\n",
              "      <td>-0.597275</td>\n",
              "    </tr>\n",
              "    <tr>\n",
              "      <th>91141</th>\n",
              "      <td>-0.087941</td>\n",
              "      <td>1.433113</td>\n",
              "      <td>-0.544588</td>\n",
              "    </tr>\n",
              "  </tbody>\n",
              "</table>\n",
              "</div>"
            ],
            "text/plain": [
              "           f0_1      f1_1      f2_1\n",
              "71751  0.517917 -0.610097 -0.126226\n",
              "80493  0.568391 -0.086063 -0.814914\n",
              "2655   0.805688 -1.613289 -1.341342\n",
              "53233  0.222503 -1.355437 -0.597275\n",
              "91141 -0.087941  1.433113 -0.544588"
            ]
          },
          "execution_count": 22,
          "metadata": {},
          "output_type": "execute_result"
        }
      ],
      "source": [
        "features_valid_1[scaled_columns_1] = scaler.transform(features_valid_1[scaled_columns_1])\n",
        "features_valid_1.head()"
      ]
    },
    {
      "cell_type": "markdown",
      "metadata": {
        "id": "BkaPIUsg6u_A"
      },
      "source": [
        "Обучаю модель, нахожу среднеквдратическую ошибку."
      ]
    },
    {
      "cell_type": "code",
      "execution_count": null,
      "metadata": {
        "id": "osbeVUm16u_A"
      },
      "outputs": [],
      "source": [
        "model_1 = LinearRegression()\n",
        "model_1.fit(features_valid_1, target_valid_1)\n",
        "predictions_valid_1 = model_1.predict(features_valid_1)"
      ]
    },
    {
      "cell_type": "code",
      "execution_count": null,
      "metadata": {
        "id": "NjvemEuD6u_A",
        "outputId": "2e3ef345-8346-4648-cc66-6d1a461e4505"
      },
      "outputs": [
        {
          "data": {
            "text/plain": [
              "37.570336161076646"
            ]
          },
          "execution_count": 24,
          "metadata": {},
          "output_type": "execute_result"
        }
      ],
      "source": [
        "rmse_1 = mean_squared_error(target_valid_1, predictions_valid_1) ** .5\n",
        "rmse_1"
      ]
    },
    {
      "cell_type": "code",
      "execution_count": null,
      "metadata": {
        "id": "_uJpNXtz6u_A",
        "outputId": "2d048042-3758-4700-be8e-85f72e0a913e"
      },
      "outputs": [
        {
          "data": {
            "text/plain": [
              "92.07859674082927"
            ]
          },
          "execution_count": 25,
          "metadata": {},
          "output_type": "execute_result"
        }
      ],
      "source": [
        "reserves_1 = predictions_valid_1.mean()\n",
        "reserves_1"
      ]
    },
    {
      "cell_type": "markdown",
      "metadata": {
        "id": "pJtkOp7e6u_B"
      },
      "source": [
        "Итого, средние запасы по первому региону 92,07 тыс баррелей,  а ошибка - 37,57."
      ]
    },
    {
      "cell_type": "markdown",
      "metadata": {
        "id": "Y80A1uSc6u_B"
      },
      "source": [
        "#### Второй регион"
      ]
    },
    {
      "cell_type": "markdown",
      "metadata": {
        "id": "ucjrH3a56u_B"
      },
      "source": [
        "Действую аналогичным предыдущему пункту образом."
      ]
    },
    {
      "cell_type": "code",
      "execution_count": null,
      "metadata": {
        "id": "aTVe_Wag6u_B"
      },
      "outputs": [],
      "source": [
        "exploration_2_train, exploration_2_valid = train_test_split(exploration_2, test_size=0.25, random_state=12345)"
      ]
    },
    {
      "cell_type": "code",
      "execution_count": null,
      "metadata": {
        "id": "l7AN93dx6u_B",
        "outputId": "c3ca9638-ec2f-4bcf-ae44-5df72dc4506e"
      },
      "outputs": [
        {
          "data": {
            "text/plain": [
              "(75000, 4)"
            ]
          },
          "execution_count": 27,
          "metadata": {},
          "output_type": "execute_result"
        }
      ],
      "source": [
        "exploration_2_train.shape"
      ]
    },
    {
      "cell_type": "code",
      "execution_count": null,
      "metadata": {
        "id": "GDURq3u76u_B",
        "outputId": "e22b37b4-bc9c-40aa-ba2a-31916a0ad97c"
      },
      "outputs": [
        {
          "data": {
            "text/plain": [
              "(25000, 4)"
            ]
          },
          "execution_count": 28,
          "metadata": {},
          "output_type": "execute_result"
        }
      ],
      "source": [
        "exploration_2_valid.shape"
      ]
    },
    {
      "cell_type": "markdown",
      "metadata": {
        "id": "63HnGo6X6u_C"
      },
      "source": [
        "Создаю переменные для признаков и целевого признака."
      ]
    },
    {
      "cell_type": "code",
      "execution_count": null,
      "metadata": {
        "id": "znEacYN96u_C"
      },
      "outputs": [],
      "source": [
        "features_train_2 = exploration_2_train.drop('product_2', axis=1)\n",
        "target_train_2 = exploration_2_train['product_2']"
      ]
    },
    {
      "cell_type": "code",
      "execution_count": null,
      "metadata": {
        "id": "p_UY6Wlh6u_C"
      },
      "outputs": [],
      "source": [
        "features_valid_2 = exploration_2_valid.drop('product_2', axis=1)\n",
        "target_valid_2 = exploration_2_valid['product_2']"
      ]
    },
    {
      "cell_type": "markdown",
      "metadata": {
        "id": "RrsTCbL16u_C"
      },
      "source": [
        "Масштабирую выборки."
      ]
    },
    {
      "cell_type": "code",
      "execution_count": null,
      "metadata": {
        "id": "-1GTs_Zq6u_C",
        "outputId": "dc154aaf-fa60-4e3d-8c68-783abfaf05b2"
      },
      "outputs": [
        {
          "data": {
            "text/plain": [
              "StandardScaler()"
            ]
          },
          "execution_count": 31,
          "metadata": {},
          "output_type": "execute_result"
        }
      ],
      "source": [
        "scaled_columns_2 = ['f0_2', 'f1_2', 'f2_2']\n",
        "\n",
        "scaler = StandardScaler()\n",
        "scaler.fit(features_train_2[scaled_columns_2])"
      ]
    },
    {
      "cell_type": "code",
      "execution_count": null,
      "metadata": {
        "id": "qH9ey6YS6u_D",
        "outputId": "83a46ec7-212a-4589-a178-dc10d18b382c"
      },
      "outputs": [
        {
          "data": {
            "text/html": [
              "<div>\n",
              "<style scoped>\n",
              "    .dataframe tbody tr th:only-of-type {\n",
              "        vertical-align: middle;\n",
              "    }\n",
              "\n",
              "    .dataframe tbody tr th {\n",
              "        vertical-align: top;\n",
              "    }\n",
              "\n",
              "    .dataframe thead th {\n",
              "        text-align: right;\n",
              "    }\n",
              "</style>\n",
              "<table border=\"1\" class=\"dataframe\">\n",
              "  <thead>\n",
              "    <tr style=\"text-align: right;\">\n",
              "      <th></th>\n",
              "      <th>f0_2</th>\n",
              "      <th>f1_2</th>\n",
              "      <th>f2_2</th>\n",
              "    </tr>\n",
              "  </thead>\n",
              "  <tbody>\n",
              "    <tr>\n",
              "      <th>27212</th>\n",
              "      <td>-0.850855</td>\n",
              "      <td>0.624428</td>\n",
              "      <td>0.296943</td>\n",
              "    </tr>\n",
              "    <tr>\n",
              "      <th>7866</th>\n",
              "      <td>1.971935</td>\n",
              "      <td>1.832275</td>\n",
              "      <td>0.294333</td>\n",
              "    </tr>\n",
              "    <tr>\n",
              "      <th>62041</th>\n",
              "      <td>1.079305</td>\n",
              "      <td>0.170127</td>\n",
              "      <td>-0.296418</td>\n",
              "    </tr>\n",
              "    <tr>\n",
              "      <th>70185</th>\n",
              "      <td>-1.512028</td>\n",
              "      <td>-0.887837</td>\n",
              "      <td>-0.880471</td>\n",
              "    </tr>\n",
              "    <tr>\n",
              "      <th>82230</th>\n",
              "      <td>-1.804775</td>\n",
              "      <td>-0.718311</td>\n",
              "      <td>-0.293255</td>\n",
              "    </tr>\n",
              "  </tbody>\n",
              "</table>\n",
              "</div>"
            ],
            "text/plain": [
              "           f0_2      f1_2      f2_2\n",
              "27212 -0.850855  0.624428  0.296943\n",
              "7866   1.971935  1.832275  0.294333\n",
              "62041  1.079305  0.170127 -0.296418\n",
              "70185 -1.512028 -0.887837 -0.880471\n",
              "82230 -1.804775 -0.718311 -0.293255"
            ]
          },
          "execution_count": 32,
          "metadata": {},
          "output_type": "execute_result"
        }
      ],
      "source": [
        "features_train_2[scaled_columns_2] = scaler.transform(features_train_2[scaled_columns_2])\n",
        "features_train_2.head()"
      ]
    },
    {
      "cell_type": "code",
      "execution_count": null,
      "metadata": {
        "id": "8wkItygs6u_D",
        "outputId": "564a6c70-e3aa-4e09-ca2b-2dfc43d77d4b"
      },
      "outputs": [
        {
          "data": {
            "text/html": [
              "<div>\n",
              "<style scoped>\n",
              "    .dataframe tbody tr th:only-of-type {\n",
              "        vertical-align: middle;\n",
              "    }\n",
              "\n",
              "    .dataframe tbody tr th {\n",
              "        vertical-align: top;\n",
              "    }\n",
              "\n",
              "    .dataframe thead th {\n",
              "        text-align: right;\n",
              "    }\n",
              "</style>\n",
              "<table border=\"1\" class=\"dataframe\">\n",
              "  <thead>\n",
              "    <tr style=\"text-align: right;\">\n",
              "      <th></th>\n",
              "      <th>f0_2</th>\n",
              "      <th>f1_2</th>\n",
              "      <th>f2_2</th>\n",
              "    </tr>\n",
              "  </thead>\n",
              "  <tbody>\n",
              "    <tr>\n",
              "      <th>71751</th>\n",
              "      <td>-0.168616</td>\n",
              "      <td>0.571372</td>\n",
              "      <td>0.297471</td>\n",
              "    </tr>\n",
              "    <tr>\n",
              "      <th>80493</th>\n",
              "      <td>0.878384</td>\n",
              "      <td>-1.772903</td>\n",
              "      <td>-0.293901</td>\n",
              "    </tr>\n",
              "    <tr>\n",
              "      <th>2655</th>\n",
              "      <td>-0.852976</td>\n",
              "      <td>-0.004986</td>\n",
              "      <td>-0.876502</td>\n",
              "    </tr>\n",
              "    <tr>\n",
              "      <th>53233</th>\n",
              "      <td>1.496940</td>\n",
              "      <td>-1.146077</td>\n",
              "      <td>-0.294011</td>\n",
              "    </tr>\n",
              "    <tr>\n",
              "      <th>91141</th>\n",
              "      <td>0.552177</td>\n",
              "      <td>0.057961</td>\n",
              "      <td>-1.457764</td>\n",
              "    </tr>\n",
              "  </tbody>\n",
              "</table>\n",
              "</div>"
            ],
            "text/plain": [
              "           f0_2      f1_2      f2_2\n",
              "71751 -0.168616  0.571372  0.297471\n",
              "80493  0.878384 -1.772903 -0.293901\n",
              "2655  -0.852976 -0.004986 -0.876502\n",
              "53233  1.496940 -1.146077 -0.294011\n",
              "91141  0.552177  0.057961 -1.457764"
            ]
          },
          "execution_count": 33,
          "metadata": {},
          "output_type": "execute_result"
        }
      ],
      "source": [
        "features_valid_2[scaled_columns_2] = scaler.transform(features_valid_2[scaled_columns_2])\n",
        "features_valid_2.head()"
      ]
    },
    {
      "cell_type": "markdown",
      "metadata": {
        "id": "R0Bm5-NE6u_D"
      },
      "source": [
        "Обучаю модель и оцениваю средние запасы."
      ]
    },
    {
      "cell_type": "code",
      "execution_count": null,
      "metadata": {
        "id": "KCOGagbZ6u_D"
      },
      "outputs": [],
      "source": [
        "model_2 = LinearRegression()\n",
        "model_2.fit(features_valid_2, target_valid_2)\n",
        "predictions_valid_2 = model_2.predict(features_valid_2)"
      ]
    },
    {
      "cell_type": "code",
      "execution_count": null,
      "metadata": {
        "id": "Dgtls_gW6u_D",
        "outputId": "09a201b2-526c-42eb-e585-5cf3f626ff5c"
      },
      "outputs": [
        {
          "data": {
            "text/plain": [
              "0.8930288727960609"
            ]
          },
          "execution_count": 35,
          "metadata": {},
          "output_type": "execute_result"
        }
      ],
      "source": [
        "rmse_2 = mean_squared_error(target_valid_2, predictions_valid_2) ** .5\n",
        "rmse_2"
      ]
    },
    {
      "cell_type": "code",
      "execution_count": null,
      "metadata": {
        "id": "IJn5ePRY6u_E",
        "outputId": "88ec67d1-d7d8-4c8b-d499-e001873ed6ac"
      },
      "outputs": [
        {
          "data": {
            "text/plain": [
              "68.72313602435997"
            ]
          },
          "execution_count": 36,
          "metadata": {},
          "output_type": "execute_result"
        }
      ],
      "source": [
        "reserves_2 = predictions_valid_2.mean()\n",
        "reserves_2"
      ]
    },
    {
      "cell_type": "markdown",
      "metadata": {
        "id": "ENVlsCHl6u_E"
      },
      "source": [
        "Итого, средние запасы по второму региону 68,72 тыс баррелей,  а ошибка - 0,89."
      ]
    },
    {
      "cell_type": "markdown",
      "metadata": {
        "id": "r0eTsCVt6u_E"
      },
      "source": [
        "#### Третий регион"
      ]
    },
    {
      "cell_type": "markdown",
      "metadata": {
        "id": "_M5KmuQl6u_E"
      },
      "source": [
        "Разбиваю выборки."
      ]
    },
    {
      "cell_type": "code",
      "execution_count": null,
      "metadata": {
        "id": "i1WZFOBJ6u_E"
      },
      "outputs": [],
      "source": [
        "exploration_3_train, exploration_3_valid = train_test_split(exploration_3, test_size=0.25, random_state=12345)"
      ]
    },
    {
      "cell_type": "code",
      "execution_count": null,
      "metadata": {
        "id": "KR0a3ZZO6u_F",
        "outputId": "b41c99ea-5842-48b3-f1c6-1658ec142b5a"
      },
      "outputs": [
        {
          "data": {
            "text/plain": [
              "(75000, 4)"
            ]
          },
          "execution_count": 38,
          "metadata": {},
          "output_type": "execute_result"
        }
      ],
      "source": [
        "exploration_3_train.shape"
      ]
    },
    {
      "cell_type": "code",
      "execution_count": null,
      "metadata": {
        "id": "5DSrGwK36u_F",
        "outputId": "1b31a55b-1346-4345-f3ef-a93dc89fe0c3"
      },
      "outputs": [
        {
          "data": {
            "text/plain": [
              "(25000, 4)"
            ]
          },
          "execution_count": 39,
          "metadata": {},
          "output_type": "execute_result"
        }
      ],
      "source": [
        "exploration_2_valid.shape"
      ]
    },
    {
      "cell_type": "markdown",
      "metadata": {
        "id": "3145p5EF6u_F"
      },
      "source": [
        "Создаю переменные для признаков и целевого признака."
      ]
    },
    {
      "cell_type": "code",
      "execution_count": null,
      "metadata": {
        "id": "LP8qh34M6u_F"
      },
      "outputs": [],
      "source": [
        "features_train_3 = exploration_3_train.drop('product_3', axis=1)\n",
        "target_train_3 = exploration_3_train['product_3']"
      ]
    },
    {
      "cell_type": "code",
      "execution_count": null,
      "metadata": {
        "id": "NvPZzjYR6u_F"
      },
      "outputs": [],
      "source": [
        "features_valid_3 = exploration_3_valid.drop('product_3', axis=1)\n",
        "target_valid_3 = exploration_3_valid['product_3']"
      ]
    },
    {
      "cell_type": "markdown",
      "metadata": {
        "id": "SqlHDMb06u_G"
      },
      "source": [
        "Масштабирую выборки."
      ]
    },
    {
      "cell_type": "code",
      "execution_count": null,
      "metadata": {
        "id": "Lv-DXjQQ6u_G",
        "outputId": "a2a2e73f-0b30-44be-9997-074c1caec0b3"
      },
      "outputs": [
        {
          "data": {
            "text/plain": [
              "StandardScaler()"
            ]
          },
          "execution_count": 42,
          "metadata": {},
          "output_type": "execute_result"
        }
      ],
      "source": [
        "scaled_columns_3 = ['f0_3', 'f1_3', 'f2_3']\n",
        "\n",
        "scaler = StandardScaler()\n",
        "scaler.fit(features_train_3[scaled_columns_3])"
      ]
    },
    {
      "cell_type": "code",
      "execution_count": null,
      "metadata": {
        "id": "oM9CgTcs6u_G",
        "outputId": "13c76947-db5b-4129-aa43-20ee2209c2a3"
      },
      "outputs": [
        {
          "data": {
            "text/html": [
              "<div>\n",
              "<style scoped>\n",
              "    .dataframe tbody tr th:only-of-type {\n",
              "        vertical-align: middle;\n",
              "    }\n",
              "\n",
              "    .dataframe tbody tr th {\n",
              "        vertical-align: top;\n",
              "    }\n",
              "\n",
              "    .dataframe thead th {\n",
              "        text-align: right;\n",
              "    }\n",
              "</style>\n",
              "<table border=\"1\" class=\"dataframe\">\n",
              "  <thead>\n",
              "    <tr style=\"text-align: right;\">\n",
              "      <th></th>\n",
              "      <th>f0_3</th>\n",
              "      <th>f1_3</th>\n",
              "      <th>f2_3</th>\n",
              "    </tr>\n",
              "  </thead>\n",
              "  <tbody>\n",
              "    <tr>\n",
              "      <th>27212</th>\n",
              "      <td>-0.526160</td>\n",
              "      <td>0.776329</td>\n",
              "      <td>-0.400793</td>\n",
              "    </tr>\n",
              "    <tr>\n",
              "      <th>7866</th>\n",
              "      <td>-0.889625</td>\n",
              "      <td>-0.404070</td>\n",
              "      <td>-1.222936</td>\n",
              "    </tr>\n",
              "    <tr>\n",
              "      <th>62041</th>\n",
              "      <td>-1.133984</td>\n",
              "      <td>0.208576</td>\n",
              "      <td>0.296765</td>\n",
              "    </tr>\n",
              "    <tr>\n",
              "      <th>70185</th>\n",
              "      <td>1.227045</td>\n",
              "      <td>1.570166</td>\n",
              "      <td>-0.764556</td>\n",
              "    </tr>\n",
              "    <tr>\n",
              "      <th>82230</th>\n",
              "      <td>-0.194289</td>\n",
              "      <td>0.878312</td>\n",
              "      <td>0.840821</td>\n",
              "    </tr>\n",
              "  </tbody>\n",
              "</table>\n",
              "</div>"
            ],
            "text/plain": [
              "           f0_3      f1_3      f2_3\n",
              "27212 -0.526160  0.776329 -0.400793\n",
              "7866  -0.889625 -0.404070 -1.222936\n",
              "62041 -1.133984  0.208576  0.296765\n",
              "70185  1.227045  1.570166 -0.764556\n",
              "82230 -0.194289  0.878312  0.840821"
            ]
          },
          "execution_count": 43,
          "metadata": {},
          "output_type": "execute_result"
        }
      ],
      "source": [
        "features_train_3[scaled_columns_3] = scaler.transform(features_train_3[scaled_columns_3])\n",
        "features_train_3.head()"
      ]
    },
    {
      "cell_type": "code",
      "execution_count": null,
      "metadata": {
        "id": "UDLZbqky6u_G",
        "outputId": "20bda6da-fd57-40c0-b229-b5adf0ce8882"
      },
      "outputs": [
        {
          "data": {
            "text/html": [
              "<div>\n",
              "<style scoped>\n",
              "    .dataframe tbody tr th:only-of-type {\n",
              "        vertical-align: middle;\n",
              "    }\n",
              "\n",
              "    .dataframe tbody tr th {\n",
              "        vertical-align: top;\n",
              "    }\n",
              "\n",
              "    .dataframe thead th {\n",
              "        text-align: right;\n",
              "    }\n",
              "</style>\n",
              "<table border=\"1\" class=\"dataframe\">\n",
              "  <thead>\n",
              "    <tr style=\"text-align: right;\">\n",
              "      <th></th>\n",
              "      <th>f0_3</th>\n",
              "      <th>f1_3</th>\n",
              "      <th>f2_3</th>\n",
              "    </tr>\n",
              "  </thead>\n",
              "  <tbody>\n",
              "    <tr>\n",
              "      <th>71751</th>\n",
              "      <td>-0.836717</td>\n",
              "      <td>-2.227439</td>\n",
              "      <td>-0.078489</td>\n",
              "    </tr>\n",
              "    <tr>\n",
              "      <th>80493</th>\n",
              "      <td>-0.821648</td>\n",
              "      <td>0.740237</td>\n",
              "      <td>-1.000811</td>\n",
              "    </tr>\n",
              "    <tr>\n",
              "      <th>2655</th>\n",
              "      <td>-2.651336</td>\n",
              "      <td>-0.235721</td>\n",
              "      <td>-0.244546</td>\n",
              "    </tr>\n",
              "    <tr>\n",
              "      <th>53233</th>\n",
              "      <td>1.077998</td>\n",
              "      <td>0.938090</td>\n",
              "      <td>0.511313</td>\n",
              "    </tr>\n",
              "    <tr>\n",
              "      <th>91141</th>\n",
              "      <td>-1.173938</td>\n",
              "      <td>2.387270</td>\n",
              "      <td>1.034363</td>\n",
              "    </tr>\n",
              "  </tbody>\n",
              "</table>\n",
              "</div>"
            ],
            "text/plain": [
              "           f0_3      f1_3      f2_3\n",
              "71751 -0.836717 -2.227439 -0.078489\n",
              "80493 -0.821648  0.740237 -1.000811\n",
              "2655  -2.651336 -0.235721 -0.244546\n",
              "53233  1.077998  0.938090  0.511313\n",
              "91141 -1.173938  2.387270  1.034363"
            ]
          },
          "execution_count": 44,
          "metadata": {},
          "output_type": "execute_result"
        }
      ],
      "source": [
        "features_valid_3[scaled_columns_3] = scaler.transform(features_valid_3[scaled_columns_3])\n",
        "features_valid_3.head()"
      ]
    },
    {
      "cell_type": "markdown",
      "metadata": {
        "id": "3ZutQPwJ6u_G"
      },
      "source": [
        "Обучаю модель, считаю средние запасы и ошибку."
      ]
    },
    {
      "cell_type": "code",
      "execution_count": null,
      "metadata": {
        "id": "Rw1N4QVf6u_H"
      },
      "outputs": [],
      "source": [
        "model_3 = LinearRegression()\n",
        "model_3.fit(features_valid_3, target_valid_3)\n",
        "predictions_valid_3 = model_3.predict(features_valid_3)"
      ]
    },
    {
      "cell_type": "code",
      "execution_count": null,
      "metadata": {
        "id": "vKNRCRmw6u_H",
        "outputId": "e47721df-5c42-4af9-967b-b74599c8663e"
      },
      "outputs": [
        {
          "data": {
            "text/plain": [
              "40.02297245848588"
            ]
          },
          "execution_count": 46,
          "metadata": {},
          "output_type": "execute_result"
        }
      ],
      "source": [
        "rmse_3 = mean_squared_error(target_valid_3, predictions_valid_3) ** .5\n",
        "rmse_3"
      ]
    },
    {
      "cell_type": "code",
      "execution_count": null,
      "metadata": {
        "id": "xi6RPdR16u_H",
        "outputId": "65b0de46-c5e6-439f-8c51-97d0cabce244"
      },
      "outputs": [
        {
          "data": {
            "text/plain": [
              "94.88423280885435"
            ]
          },
          "execution_count": 47,
          "metadata": {},
          "output_type": "execute_result"
        }
      ],
      "source": [
        "reserves_3 = predictions_valid_3.mean()\n",
        "reserves_3"
      ]
    },
    {
      "cell_type": "markdown",
      "metadata": {
        "id": "zTkgOVtf6u_H"
      },
      "source": [
        "Итого, средние запасы по второму региону 94,88 тыс баррелей,  а ошибка - 40,02."
      ]
    },
    {
      "cell_type": "markdown",
      "metadata": {
        "id": "CRcfxSdo6u_I"
      },
      "source": [
        "Все полученные данные сведу в табличку, чтобы при необходимости было удобно обратиться к полученным результатам."
      ]
    },
    {
      "cell_type": "code",
      "execution_count": null,
      "metadata": {
        "id": "zdfVVqf46u_I",
        "outputId": "131ed199-b97f-4444-d418-dfb1bb6547f4"
      },
      "outputs": [
        {
          "data": {
            "text/html": [
              "<div>\n",
              "<style scoped>\n",
              "    .dataframe tbody tr th:only-of-type {\n",
              "        vertical-align: middle;\n",
              "    }\n",
              "\n",
              "    .dataframe tbody tr th {\n",
              "        vertical-align: top;\n",
              "    }\n",
              "\n",
              "    .dataframe thead th {\n",
              "        text-align: right;\n",
              "    }\n",
              "</style>\n",
              "<table border=\"1\" class=\"dataframe\">\n",
              "  <thead>\n",
              "    <tr style=\"text-align: right;\">\n",
              "      <th></th>\n",
              "      <th>Регион</th>\n",
              "      <th>Средние запасы</th>\n",
              "      <th>Отклонение</th>\n",
              "    </tr>\n",
              "  </thead>\n",
              "  <tbody>\n",
              "    <tr>\n",
              "      <th>0</th>\n",
              "      <td>Регион 1</td>\n",
              "      <td>92.078597</td>\n",
              "      <td>37.570336</td>\n",
              "    </tr>\n",
              "    <tr>\n",
              "      <th>1</th>\n",
              "      <td>Регион 2</td>\n",
              "      <td>68.723136</td>\n",
              "      <td>0.893029</td>\n",
              "    </tr>\n",
              "    <tr>\n",
              "      <th>2</th>\n",
              "      <td>Регион 3</td>\n",
              "      <td>94.884233</td>\n",
              "      <td>40.022972</td>\n",
              "    </tr>\n",
              "  </tbody>\n",
              "</table>\n",
              "</div>"
            ],
            "text/plain": [
              "     Регион  Средние запасы  Отклонение\n",
              "0  Регион 1       92.078597   37.570336\n",
              "1  Регион 2       68.723136    0.893029\n",
              "2  Регион 3       94.884233   40.022972"
            ]
          },
          "execution_count": 48,
          "metadata": {},
          "output_type": "execute_result"
        }
      ],
      "source": [
        "regions = ['Регион 1', 'Регион 2', 'Регион 3']\n",
        "reserves = [reserves_1, reserves_2, reserves_3]\n",
        "error = [rmse_1, rmse_2, rmse_3]\n",
        "\n",
        "\n",
        "reserves_data = pd.DataFrame({'Регион': regions,\n",
        "                           'Средние запасы': reserves,\n",
        "                           'Отклонение': error })\n",
        "reserves_data"
      ]
    },
    {
      "cell_type": "markdown",
      "metadata": {
        "id": "NX3Oi0Dx6u_I"
      },
      "source": [
        "#### Выводы по разделу 2\n",
        "1. Для каждого региона проведено разбиение данных на обучающую и валидационную выборки в пропорции 75%/25%;\n",
        "2. Для каждого региона проведено обучение модели на валидационной выборке;\n",
        "3. Предсказаны средние запасы по каждому региону:\n",
        "\n",
        "   3.1 Наибольшими запасами обладает третий регион;\n",
        "   \n",
        "   3.2 Наименьшей ошибкой в предсказании обладает второй регион."
      ]
    },
    {
      "cell_type": "markdown",
      "metadata": {
        "id": "A_2yEzZ16u_I"
      },
      "source": [
        "## Подготовка к расчёту прибыли"
      ]
    },
    {
      "cell_type": "markdown",
      "metadata": {
        "id": "rZlHmVXR6u_J"
      },
      "source": [
        "Все ключевые значения для расчётов сохраняю в отдельных переменных."
      ]
    },
    {
      "cell_type": "code",
      "execution_count": null,
      "metadata": {
        "id": "A48jFitr6u_J"
      },
      "outputs": [],
      "source": [
        "target_valid_1 = pd.Series(target_valid_1).reset_index(drop=True)\n",
        "predictions_valid_1 = pd.Series(predictions_valid_1).reset_index(drop=True)\n",
        "\n",
        "target_valid_2 = pd.Series(target_valid_2).reset_index(drop=True)\n",
        "predictions_valid_2 = pd.Series(predictions_valid_2).reset_index(drop=True)\n",
        "\n",
        "target_valid_3 = pd.Series(target_valid_3).reset_index(drop=True)\n",
        "predictions_valid_3 = pd.Series(predictions_valid_3).reset_index(drop=True)"
      ]
    },
    {
      "cell_type": "markdown",
      "metadata": {
        "id": "trZBDzao6u_J"
      },
      "source": [
        "Необходимые для расчёта константы сохраняю отдельно. Обозначу их прописными буквами."
      ]
    },
    {
      "cell_type": "code",
      "execution_count": null,
      "metadata": {
        "id": "Hux-Z9Lo6u_J"
      },
      "outputs": [],
      "source": [
        "EXPLORATION_SPOTS = 500 # Число точек, исследуемых при разведке региона\n",
        "BEST_SPOTS = 200 # Количество лучших точек, выбранных по результатам разведки региона\n",
        "WELLS_BUDGET = 10000000000 # Бюджет на разработку скважин в регионе (руб)\n",
        "BARREL_PRICE = 450 # Стоимость барреля нефти (руб)\n",
        "UNIT_PRICE = 450000 # Стоимость единицы продукта (тысячи баррелей) (руб)\n",
        "SAMPLES=1000 # Количество выборок для нахождения прибыли"
      ]
    },
    {
      "cell_type": "markdown",
      "metadata": {
        "id": "T4Z11xrA6u_K"
      },
      "source": [
        "Вычислю минимальный рентабельный объём запасов"
      ]
    },
    {
      "cell_type": "code",
      "execution_count": null,
      "metadata": {
        "id": "SxYmRd6u6u_K",
        "outputId": "b7ec3b81-6b58-4bb3-8b00-b11760e620b1"
      },
      "outputs": [
        {
          "name": "stdout",
          "output_type": "stream",
          "text": [
            "Минимальные рентабельные запасы на скважину = 111.11111111111111 тыс. баррелей\n"
          ]
        }
      ],
      "source": [
        "raw_min_volume = (WELLS_BUDGET / BEST_SPOTS)/UNIT_PRICE\n",
        "print ('Минимальные рентабельные запасы на скважину =', raw_min_volume, 'тыс. баррелей' )"
      ]
    },
    {
      "cell_type": "markdown",
      "metadata": {
        "id": "yLgy0X5r6u_K"
      },
      "source": [
        "Вспомним нашу таблицу из предыдущего пункта. Расчёт минимального рентабельного дебита показывает, что в каждом регионе далеко не все скважины обладают необходимым объёмом запасов. Поэтому посмотрю, сколько скважин по регионам соответствует полученному пороговому объёму запасов."
      ]
    },
    {
      "cell_type": "code",
      "execution_count": null,
      "metadata": {
        "id": "cXOUrUSN6u_K",
        "outputId": "fc0229d8-2ebc-45f5-e4dd-1822942afeac"
      },
      "outputs": [
        {
          "name": "stdout",
          "output_type": "stream",
          "text": [
            "Процент скважин с рентабельным объёмом запасов в 1 регионе = 36.583 %\n",
            "Процент скважин с рентабельным объёмом запасов в 2 регионе = 16.537 %\n",
            "Процент скважин с рентабельным объёмом запасов в 3 регионе = 38.178 %\n",
            "Количество скважин с рентабельным объёмом в 1 регионе = 36583 штук\n",
            "Количество скважин с рентабельным объёмом во 2 регионе = 16537 штук\n",
            "Количество скважин с рентабельным объёмом в 3 регионе = 38178 штук\n"
          ]
        }
      ],
      "source": [
        "print('Процент скважин с рентабельным объёмом запасов в 1 регионе =',\n",
        "      (len(exploration_1.query(\"product_1 > @raw_min_volume\"))/len(exploration_1))*100, '%')\n",
        "print('Процент скважин с рентабельным объёмом запасов в 2 регионе =',\n",
        "      (len(exploration_2.query(\"product_2 > @raw_min_volume\"))/len(exploration_2))*100, '%')\n",
        "print('Процент скважин с рентабельным объёмом запасов в 3 регионе =',\n",
        "      (len(exploration_3.query(\"product_3 > @raw_min_volume\"))/len(exploration_3))*100, '%')\n",
        "print('Количество скважин с рентабельным объёмом в 1 регионе =',\n",
        "      len(exploration_1.query(\"product_1 > @raw_min_volume\")), 'штук')\n",
        "print('Количество скважин с рентабельным объёмом во 2 регионе =',\n",
        "      len(exploration_2.query(\"product_2 > @raw_min_volume\")), 'штук')\n",
        "print('Количество скважин с рентабельным объёмом в 3 регионе =',\n",
        "      len(exploration_3.query(\"product_3 > @raw_min_volume\")), 'штук')"
      ]
    },
    {
      "cell_type": "markdown",
      "metadata": {
        "id": "95KDIx1M6u_K"
      },
      "source": [
        "### Выводы по разделу 3\n",
        "1. Подготовлены данные для расчёта прибыли;\n",
        "2. По каждому региону определены процент и количество скважин с рентабельным объёмом запасов;\n",
        "3. Наибольшее количество рентабельных скважин в третьем регионе, наименьшее - во втором."
      ]
    },
    {
      "cell_type": "markdown",
      "metadata": {
        "id": "skGE_xSI6u_L"
      },
      "source": [
        "## Расчёт прибыли и рисков"
      ]
    },
    {
      "cell_type": "markdown",
      "metadata": {
        "id": "xza8Z2PD6u_L"
      },
      "source": [
        "### Написание функции для расчёта прибыли по выбранным скважинам и предсказаниям модели"
      ]
    },
    {
      "cell_type": "markdown",
      "metadata": {
        "id": "qFojBANV6u_L"
      },
      "source": [
        "Итак, нужная нам функция принимает целевые значения объёмов запасов скважин, предсказания модели по запасам и лучшие точки при разведке.\n",
        "Выдаёт прибыль для полученного объёма."
      ]
    },
    {
      "cell_type": "code",
      "execution_count": null,
      "metadata": {
        "id": "U-MPFpIg6u_L"
      },
      "outputs": [],
      "source": [
        "def profit (target, predictions, BEST_SPOTS):\n",
        "    predictions_sorted = predictions.sort_values(ascending=False)\n",
        "    selected = target[predictions_sorted.index][:BEST_SPOTS]\n",
        "    return UNIT_PRICE * selected.sum() - WELLS_BUDGET"
      ]
    },
    {
      "cell_type": "markdown",
      "metadata": {
        "id": "lbq3aVFh6u_M"
      },
      "source": [
        "Проверю на 1 регионе."
      ]
    },
    {
      "cell_type": "code",
      "execution_count": null,
      "metadata": {
        "id": "Y_ypvE-E6u_M",
        "outputId": "6b42ef8b-4228-4f64-8e07-60fc3ac7f616"
      },
      "outputs": [
        {
          "data": {
            "text/plain": [
              "3316629340.6640186"
            ]
          },
          "execution_count": 54,
          "metadata": {},
          "output_type": "execute_result"
        }
      ],
      "source": [
        "profit(target_valid_1, predictions_valid_1, BEST_SPOTS)"
      ]
    },
    {
      "cell_type": "markdown",
      "metadata": {
        "id": "7hlPZ6eG6u_M"
      },
      "source": [
        "### Нахождение средней прибыли, 95%-ого доверительного интервала и риска убытков."
      ]
    },
    {
      "cell_type": "markdown",
      "metadata": {
        "id": "1rh1xQLx6u_N"
      },
      "source": [
        "Напишк цикл, чтобы учитывались все регионы."
      ]
    },
    {
      "cell_type": "code",
      "execution_count": null,
      "metadata": {
        "id": "ADwFalVy6u_N",
        "outputId": "faec214d-9941-4594-beec-53fa598294dd"
      },
      "outputs": [
        {
          "name": "stdout",
          "output_type": "stream",
          "text": [
            "Регион 1\n",
            "Вероятная прибыль: 395809611.7697294\n",
            "95%-доверительный интервал: от -119981223.3770875 до 911418854.9313884\n",
            "Вероятность убытков: 6.5 %\n",
            "Регион 2\n",
            "Вероятная прибыль: 461165831.4503767\n",
            "95%-доверительный интервал: от 78050810.75173984 до 862952060.2637234\n",
            "Вероятность убытков: 0.7000000000000001 %\n",
            "Регион 3\n",
            "Вероятная прибыль: 395960984.0533397\n",
            "95%-доверительный интервал: от -101505758.28928727 до 940808059.3553646\n",
            "Вероятность убытков: 5.6000000000000005 %\n"
          ]
        }
      ],
      "source": [
        "target_total = [target_valid_1, target_valid_2, target_valid_3]\n",
        "prediction_total = [predictions_valid_1, predictions_valid_2, predictions_valid_3]\n",
        "regions_total = ['Регион 1', 'Регион 2', 'Регион 3']\n",
        "\n",
        "state = np.random.RandomState(12345)\n",
        "\n",
        "for k in range(len(target_total)):\n",
        "    values = []\n",
        "    for i in range(SAMPLES):\n",
        "        indiv_target = target_total[k].sample(n=EXPLORATION_SPOTS , replace=True, random_state=state)\n",
        "        indiv_predictions = prediction_total[k].loc[indiv_target.index]\n",
        "        values.append(profit(indiv_target.reset_index(drop=True), indiv_predictions.reset_index(drop=True), BEST_SPOTS))\n",
        "\n",
        "    values = pd.Series(values)\n",
        "    lower = values.quantile(.025)\n",
        "    upper = values.quantile(.975)\n",
        "\n",
        "    mean = values.mean()\n",
        "\n",
        "    loss_probability = sum(values < 0) / values.count() * 100\n",
        "\n",
        "    print(regions[k])\n",
        "    print('Вероятная прибыль:', mean)\n",
        "    print('95%-доверительный интервал:', 'от', lower, 'до', upper)\n",
        "    print('Вероятность убытков:', loss_probability, '%')"
      ]
    },
    {
      "cell_type": "markdown",
      "metadata": {
        "id": "CQNMm-ue6u_N"
      },
      "source": [
        "### Выводы по разделу 4\n",
        "1. Написана функция для расчёта прибыли.\n",
        "2. Получены результаты расётов прибыли и рисков для каждого региона.\n",
        "3. Несмотря на меньший процент рентабельных скважин наибольшей вероятной прибылью обладает Регион 2, этот же регион обладает наименьшей вероятностью убытков."
      ]
    },
    {
      "cell_type": "markdown",
      "metadata": {
        "id": "91-Hnyeg6u_N"
      },
      "source": [
        "## Общие выводы"
      ]
    },
    {
      "cell_type": "markdown",
      "metadata": {
        "id": "fyCsZz8E6u_O"
      },
      "source": [
        "1. Загружены и подготовлены данные по трём регионам разведки;\n",
        "2. Для каждого региона проведено разбиение данных на обучающую и валидационную выборки в пропорции 75%/25%;\n",
        "3. Для каждого региона проведено обучение модели на валидационной выборке;\n",
        "4. Предсказаны средние запасы по каждому региону:\n",
        "\n",
        "   4.1 Наибольшими запасами обладает третий регион;\n",
        "   \n",
        "   4.2 Наименьшей ошибкой в предсказании обладает второй регион;\n",
        "5. Подготовлены данные для расчёта прибыли;\n",
        "6. По каждому региону определены процент и количество скважин с рентабельным объёмом запасов;\n",
        "7. Наибольшее количество рентабельных скважин в третьем регионе, наименьшее - во втором;\n",
        "8. Написана функция для расчёта прибыли.\n",
        "9. Получены результаты расётов прибыли и рисков для каждого региона.\n",
        "10. Несмотря на меньший процент рентабельных скважин наибольшей вероятной прибылью обладает Регион 2, этот же регион обладает наименьшей вероятностью убытков.\n",
        "11. Таким образом, наиболее подходящим для разработки является второй регион."
      ]
    },
    {
      "cell_type": "markdown",
      "metadata": {
        "id": "gk20ZeNr6u_P"
      },
      "source": [
        "## Чек-лист готовности проекта"
      ]
    },
    {
      "cell_type": "markdown",
      "metadata": {
        "id": "7Cuvfx4k6u_P"
      },
      "source": [
        "Поставьте 'x' в выполненных пунктах. Далее нажмите Shift+Enter."
      ]
    },
    {
      "cell_type": "markdown",
      "metadata": {
        "id": "atnjN-x66u_P"
      },
      "source": [
        "- [x]  Jupyter Notebook открыт\n",
        "- [x]  Весь код выполняется без ошибок\n",
        "- [x]  Ячейки с кодом расположены в порядке исполнения\n",
        "- [x]  Выполнен шаг 1: данные подготовлены\n",
        "- [x]  Выполнен шаг 2: модели обучены и проверены\n",
        "    - [x]  Данные корректно разбиты на обучающую и валидационную выборки\n",
        "    - [x]  Модели обучены, предсказания сделаны\n",
        "    - [x]  Предсказания и правильные ответы на валидационной выборке сохранены\n",
        "    - [x]  На экране напечатаны результаты\n",
        "    - [x]  Сделаны выводы\n",
        "- [x]  Выполнен шаг 3: проведена подготовка к расчёту прибыли\n",
        "    - [x]  Для всех ключевых значений созданы константы Python\n",
        "    - [x]  Посчитано минимальное среднее количество продукта в месторождениях региона, достаточное для разработки\n",
        "    - [x]  По предыдущему пункту сделаны выводы\n",
        "    - [x]  Написана функция расчёта прибыли\n",
        "- [x]  Выполнен шаг 4: посчитаны риски и прибыль\n",
        "    - [x]  Проведена процедура *Bootstrap*\n",
        "    - [x]  Все параметры бутстрепа соответствуют условию\n",
        "    - [x]  Найдены все нужные величины\n",
        "    - [x]  Предложен регион для разработки месторождения\n",
        "    - [x]  Выбор региона обоснован"
      ]
    }
  ],
  "metadata": {
    "ExecuteTimeLog": [
      {
        "duration": 1759,
        "start_time": "2023-07-14T14:04:55.591Z"
      },
      {
        "duration": 1817,
        "start_time": "2023-07-14T14:05:18.052Z"
      },
      {
        "duration": 15,
        "start_time": "2023-07-14T14:09:03.298Z"
      },
      {
        "duration": 17,
        "start_time": "2023-07-14T14:09:33.260Z"
      },
      {
        "duration": 110,
        "start_time": "2023-07-14T14:10:24.914Z"
      },
      {
        "duration": 50,
        "start_time": "2023-07-14T14:10:40.926Z"
      },
      {
        "duration": 10,
        "start_time": "2023-07-14T14:12:19.619Z"
      },
      {
        "duration": 22,
        "start_time": "2023-07-14T14:12:49.412Z"
      },
      {
        "duration": 72,
        "start_time": "2023-07-14T14:13:22.793Z"
      },
      {
        "duration": 13,
        "start_time": "2023-07-14T14:14:14.031Z"
      },
      {
        "duration": 16,
        "start_time": "2023-07-14T14:14:34.931Z"
      },
      {
        "duration": 83,
        "start_time": "2023-07-14T14:15:14.187Z"
      },
      {
        "duration": 1554,
        "start_time": "2023-07-15T03:01:13.590Z"
      },
      {
        "duration": 794,
        "start_time": "2023-07-15T03:01:15.146Z"
      },
      {
        "duration": 15,
        "start_time": "2023-07-15T03:01:15.942Z"
      },
      {
        "duration": 17,
        "start_time": "2023-07-15T03:01:15.960Z"
      },
      {
        "duration": 73,
        "start_time": "2023-07-15T03:01:15.979Z"
      },
      {
        "duration": 9,
        "start_time": "2023-07-15T03:01:16.054Z"
      },
      {
        "duration": 16,
        "start_time": "2023-07-15T03:01:16.065Z"
      },
      {
        "duration": 73,
        "start_time": "2023-07-15T03:01:16.083Z"
      },
      {
        "duration": 10,
        "start_time": "2023-07-15T03:01:16.157Z"
      },
      {
        "duration": 20,
        "start_time": "2023-07-15T03:01:16.169Z"
      },
      {
        "duration": 71,
        "start_time": "2023-07-15T03:01:16.197Z"
      },
      {
        "duration": 14,
        "start_time": "2023-07-15T03:17:53.663Z"
      },
      {
        "duration": 9,
        "start_time": "2023-07-15T03:18:16.167Z"
      },
      {
        "duration": 114,
        "start_time": "2023-07-15T03:21:33.667Z"
      },
      {
        "duration": 30,
        "start_time": "2023-07-15T03:22:17.562Z"
      },
      {
        "duration": 13,
        "start_time": "2023-07-15T03:26:31.104Z"
      },
      {
        "duration": 4,
        "start_time": "2023-07-15T03:27:46.437Z"
      },
      {
        "duration": 5,
        "start_time": "2023-07-15T03:32:04.305Z"
      },
      {
        "duration": 9,
        "start_time": "2023-07-15T03:32:24.642Z"
      },
      {
        "duration": 1483,
        "start_time": "2023-07-15T03:32:51.338Z"
      },
      {
        "duration": 424,
        "start_time": "2023-07-15T03:32:52.823Z"
      },
      {
        "duration": 22,
        "start_time": "2023-07-15T03:32:53.252Z"
      },
      {
        "duration": 15,
        "start_time": "2023-07-15T03:32:53.277Z"
      },
      {
        "duration": 77,
        "start_time": "2023-07-15T03:32:53.294Z"
      },
      {
        "duration": 9,
        "start_time": "2023-07-15T03:32:53.373Z"
      },
      {
        "duration": 17,
        "start_time": "2023-07-15T03:32:53.384Z"
      },
      {
        "duration": 69,
        "start_time": "2023-07-15T03:32:53.403Z"
      },
      {
        "duration": 9,
        "start_time": "2023-07-15T03:32:53.475Z"
      },
      {
        "duration": 27,
        "start_time": "2023-07-15T03:32:54.931Z"
      },
      {
        "duration": 55,
        "start_time": "2023-07-15T03:32:55.839Z"
      },
      {
        "duration": 24,
        "start_time": "2023-07-15T03:32:56.438Z"
      },
      {
        "duration": 9,
        "start_time": "2023-07-15T03:32:56.614Z"
      },
      {
        "duration": 10,
        "start_time": "2023-07-15T03:32:59.264Z"
      },
      {
        "duration": 4,
        "start_time": "2023-07-15T03:33:01.194Z"
      },
      {
        "duration": 4,
        "start_time": "2023-07-15T03:33:03.165Z"
      },
      {
        "duration": 6,
        "start_time": "2023-07-15T03:33:13.766Z"
      },
      {
        "duration": 6,
        "start_time": "2023-07-15T03:33:41.094Z"
      },
      {
        "duration": 4,
        "start_time": "2023-07-15T03:34:03.511Z"
      },
      {
        "duration": 110,
        "start_time": "2023-07-15T03:35:26.089Z"
      },
      {
        "duration": 11,
        "start_time": "2023-07-15T03:40:08.832Z"
      },
      {
        "duration": 14,
        "start_time": "2023-07-15T03:40:23.365Z"
      },
      {
        "duration": 16,
        "start_time": "2023-07-15T03:41:04.671Z"
      },
      {
        "duration": 12,
        "start_time": "2023-07-15T03:45:22.836Z"
      },
      {
        "duration": 19,
        "start_time": "2023-07-15T03:47:17.560Z"
      },
      {
        "duration": 1351,
        "start_time": "2023-07-15T03:47:26.601Z"
      },
      {
        "duration": 429,
        "start_time": "2023-07-15T03:47:27.954Z"
      },
      {
        "duration": 13,
        "start_time": "2023-07-15T03:47:28.385Z"
      },
      {
        "duration": 18,
        "start_time": "2023-07-15T03:47:28.400Z"
      },
      {
        "duration": 76,
        "start_time": "2023-07-15T03:47:28.419Z"
      },
      {
        "duration": 11,
        "start_time": "2023-07-15T03:47:28.497Z"
      },
      {
        "duration": 20,
        "start_time": "2023-07-15T03:47:28.510Z"
      },
      {
        "duration": 66,
        "start_time": "2023-07-15T03:47:28.532Z"
      },
      {
        "duration": 10,
        "start_time": "2023-07-15T03:47:28.600Z"
      },
      {
        "duration": 14,
        "start_time": "2023-07-15T03:47:28.651Z"
      },
      {
        "duration": 56,
        "start_time": "2023-07-15T03:47:28.825Z"
      },
      {
        "duration": 14,
        "start_time": "2023-07-15T03:47:29.162Z"
      },
      {
        "duration": 9,
        "start_time": "2023-07-15T03:47:29.339Z"
      },
      {
        "duration": 13,
        "start_time": "2023-07-15T03:47:31.310Z"
      },
      {
        "duration": 5,
        "start_time": "2023-07-15T03:47:31.471Z"
      },
      {
        "duration": 5,
        "start_time": "2023-07-15T03:47:31.638Z"
      },
      {
        "duration": 8,
        "start_time": "2023-07-15T03:47:31.967Z"
      },
      {
        "duration": 7,
        "start_time": "2023-07-15T03:47:32.518Z"
      },
      {
        "duration": 24,
        "start_time": "2023-07-15T03:47:32.711Z"
      },
      {
        "duration": 17,
        "start_time": "2023-07-15T03:47:33.325Z"
      },
      {
        "duration": 114,
        "start_time": "2023-07-15T03:47:34.458Z"
      },
      {
        "duration": 10,
        "start_time": "2023-07-15T03:50:52.418Z"
      },
      {
        "duration": 1414,
        "start_time": "2023-07-15T03:52:33.366Z"
      },
      {
        "duration": 405,
        "start_time": "2023-07-15T03:52:34.783Z"
      },
      {
        "duration": 15,
        "start_time": "2023-07-15T03:52:35.190Z"
      },
      {
        "duration": 16,
        "start_time": "2023-07-15T03:52:35.207Z"
      },
      {
        "duration": 75,
        "start_time": "2023-07-15T03:52:35.224Z"
      },
      {
        "duration": 12,
        "start_time": "2023-07-15T03:52:35.301Z"
      },
      {
        "duration": 38,
        "start_time": "2023-07-15T03:52:35.318Z"
      },
      {
        "duration": 62,
        "start_time": "2023-07-15T03:52:35.358Z"
      },
      {
        "duration": 10,
        "start_time": "2023-07-15T03:52:35.422Z"
      },
      {
        "duration": 17,
        "start_time": "2023-07-15T03:52:35.479Z"
      },
      {
        "duration": 56,
        "start_time": "2023-07-15T03:52:35.656Z"
      },
      {
        "duration": 15,
        "start_time": "2023-07-15T03:52:35.976Z"
      },
      {
        "duration": 9,
        "start_time": "2023-07-15T03:52:36.169Z"
      },
      {
        "duration": 12,
        "start_time": "2023-07-15T03:52:37.707Z"
      },
      {
        "duration": 7,
        "start_time": "2023-07-15T03:52:37.883Z"
      },
      {
        "duration": 3,
        "start_time": "2023-07-15T03:52:38.044Z"
      },
      {
        "duration": 6,
        "start_time": "2023-07-15T03:52:38.394Z"
      },
      {
        "duration": 5,
        "start_time": "2023-07-15T03:52:38.586Z"
      },
      {
        "duration": 15,
        "start_time": "2023-07-15T03:52:38.756Z"
      },
      {
        "duration": 15,
        "start_time": "2023-07-15T03:52:38.916Z"
      },
      {
        "duration": 13,
        "start_time": "2023-07-15T03:52:39.170Z"
      },
      {
        "duration": 13,
        "start_time": "2023-07-15T03:52:39.394Z"
      },
      {
        "duration": 112,
        "start_time": "2023-07-15T03:55:01.900Z"
      },
      {
        "duration": 12,
        "start_time": "2023-07-15T03:55:10.561Z"
      },
      {
        "duration": 6,
        "start_time": "2023-07-15T03:55:11.537Z"
      },
      {
        "duration": 4,
        "start_time": "2023-07-15T03:56:30.486Z"
      },
      {
        "duration": 18,
        "start_time": "2023-07-15T03:57:39.276Z"
      },
      {
        "duration": 4,
        "start_time": "2023-07-15T03:57:56.935Z"
      },
      {
        "duration": 5,
        "start_time": "2023-07-15T03:58:10.953Z"
      },
      {
        "duration": 6,
        "start_time": "2023-07-15T03:58:49.793Z"
      },
      {
        "duration": 4,
        "start_time": "2023-07-15T03:59:16.549Z"
      },
      {
        "duration": 1464,
        "start_time": "2023-07-15T04:01:18.383Z"
      },
      {
        "duration": 404,
        "start_time": "2023-07-15T04:01:19.851Z"
      },
      {
        "duration": 14,
        "start_time": "2023-07-15T04:01:20.257Z"
      },
      {
        "duration": 28,
        "start_time": "2023-07-15T04:01:20.274Z"
      },
      {
        "duration": 70,
        "start_time": "2023-07-15T04:01:20.304Z"
      },
      {
        "duration": 10,
        "start_time": "2023-07-15T04:01:20.377Z"
      },
      {
        "duration": 25,
        "start_time": "2023-07-15T04:01:20.389Z"
      },
      {
        "duration": 82,
        "start_time": "2023-07-15T04:01:20.416Z"
      },
      {
        "duration": 10,
        "start_time": "2023-07-15T04:01:20.500Z"
      },
      {
        "duration": 34,
        "start_time": "2023-07-15T04:01:20.512Z"
      },
      {
        "duration": 53,
        "start_time": "2023-07-15T04:01:20.567Z"
      },
      {
        "duration": 14,
        "start_time": "2023-07-15T04:01:20.920Z"
      },
      {
        "duration": 10,
        "start_time": "2023-07-15T04:01:21.113Z"
      },
      {
        "duration": 12,
        "start_time": "2023-07-15T04:01:22.816Z"
      },
      {
        "duration": 5,
        "start_time": "2023-07-15T04:01:23.024Z"
      },
      {
        "duration": 5,
        "start_time": "2023-07-15T04:01:23.580Z"
      },
      {
        "duration": 6,
        "start_time": "2023-07-15T04:01:24.500Z"
      },
      {
        "duration": 5,
        "start_time": "2023-07-15T04:01:27.664Z"
      },
      {
        "duration": 1728,
        "start_time": "2023-07-15T04:01:28.209Z"
      },
      {
        "duration": 15,
        "start_time": "2023-07-15T04:02:12.577Z"
      },
      {
        "duration": 17,
        "start_time": "2023-07-15T04:02:16.010Z"
      },
      {
        "duration": 13,
        "start_time": "2023-07-15T04:02:16.265Z"
      },
      {
        "duration": 13,
        "start_time": "2023-07-15T04:02:16.521Z"
      },
      {
        "duration": 5,
        "start_time": "2023-07-15T04:02:16.744Z"
      },
      {
        "duration": 5,
        "start_time": "2023-07-15T04:02:16.937Z"
      },
      {
        "duration": 16,
        "start_time": "2023-07-15T04:02:17.724Z"
      },
      {
        "duration": 5,
        "start_time": "2023-07-15T04:02:18.405Z"
      },
      {
        "duration": 4,
        "start_time": "2023-07-15T04:02:18.613Z"
      },
      {
        "duration": 6,
        "start_time": "2023-07-15T04:02:18.837Z"
      },
      {
        "duration": 5,
        "start_time": "2023-07-15T04:02:19.092Z"
      },
      {
        "duration": 14,
        "start_time": "2023-07-15T04:02:19.484Z"
      },
      {
        "duration": 17,
        "start_time": "2023-07-15T04:02:51.214Z"
      },
      {
        "duration": 1490,
        "start_time": "2023-07-15T04:07:35.146Z"
      },
      {
        "duration": 416,
        "start_time": "2023-07-15T04:07:37.617Z"
      },
      {
        "duration": 20,
        "start_time": "2023-07-15T04:07:38.035Z"
      },
      {
        "duration": 15,
        "start_time": "2023-07-15T04:07:38.151Z"
      },
      {
        "duration": 55,
        "start_time": "2023-07-15T04:07:38.344Z"
      },
      {
        "duration": 10,
        "start_time": "2023-07-15T04:07:38.742Z"
      },
      {
        "duration": 15,
        "start_time": "2023-07-15T04:07:38.967Z"
      },
      {
        "duration": 50,
        "start_time": "2023-07-15T04:07:39.206Z"
      },
      {
        "duration": 10,
        "start_time": "2023-07-15T04:07:39.878Z"
      },
      {
        "duration": 15,
        "start_time": "2023-07-15T04:07:40.166Z"
      },
      {
        "duration": 50,
        "start_time": "2023-07-15T04:07:40.931Z"
      },
      {
        "duration": 18,
        "start_time": "2023-07-15T04:07:41.138Z"
      },
      {
        "duration": 16,
        "start_time": "2023-07-15T04:07:44.899Z"
      },
      {
        "duration": 10,
        "start_time": "2023-07-15T04:07:45.611Z"
      },
      {
        "duration": 17,
        "start_time": "2023-07-15T04:07:55.350Z"
      },
      {
        "duration": 5,
        "start_time": "2023-07-15T04:07:55.639Z"
      },
      {
        "duration": 4,
        "start_time": "2023-07-15T04:07:56.914Z"
      },
      {
        "duration": 130,
        "start_time": "2023-07-15T04:08:13.663Z"
      },
      {
        "duration": 1655,
        "start_time": "2023-07-15T04:08:47.864Z"
      },
      {
        "duration": 394,
        "start_time": "2023-07-15T04:08:49.521Z"
      },
      {
        "duration": 17,
        "start_time": "2023-07-15T04:08:49.917Z"
      },
      {
        "duration": 28,
        "start_time": "2023-07-15T04:08:49.937Z"
      },
      {
        "duration": 54,
        "start_time": "2023-07-15T04:08:49.967Z"
      },
      {
        "duration": 31,
        "start_time": "2023-07-15T04:08:50.023Z"
      },
      {
        "duration": 24,
        "start_time": "2023-07-15T04:08:50.055Z"
      },
      {
        "duration": 72,
        "start_time": "2023-07-15T04:08:50.081Z"
      },
      {
        "duration": 11,
        "start_time": "2023-07-15T04:08:50.295Z"
      },
      {
        "duration": 15,
        "start_time": "2023-07-15T04:08:50.896Z"
      },
      {
        "duration": 59,
        "start_time": "2023-07-15T04:08:51.089Z"
      },
      {
        "duration": 16,
        "start_time": "2023-07-15T04:08:51.360Z"
      },
      {
        "duration": 19,
        "start_time": "2023-07-15T04:08:52.080Z"
      },
      {
        "duration": 10,
        "start_time": "2023-07-15T04:08:52.704Z"
      },
      {
        "duration": 13,
        "start_time": "2023-07-15T04:08:57.160Z"
      },
      {
        "duration": 4,
        "start_time": "2023-07-15T04:08:57.704Z"
      },
      {
        "duration": 5,
        "start_time": "2023-07-15T04:08:58.950Z"
      },
      {
        "duration": 6,
        "start_time": "2023-07-15T04:09:02.865Z"
      },
      {
        "duration": 5,
        "start_time": "2023-07-15T04:09:03.763Z"
      },
      {
        "duration": 15,
        "start_time": "2023-07-15T04:09:04.684Z"
      },
      {
        "duration": 14,
        "start_time": "2023-07-15T04:09:08.649Z"
      },
      {
        "duration": 13,
        "start_time": "2023-07-15T04:09:10.808Z"
      },
      {
        "duration": 19,
        "start_time": "2023-07-15T04:09:14.677Z"
      },
      {
        "duration": 6,
        "start_time": "2023-07-15T04:09:16.632Z"
      },
      {
        "duration": 5,
        "start_time": "2023-07-15T04:09:17.664Z"
      },
      {
        "duration": 11,
        "start_time": "2023-07-15T04:09:25.678Z"
      },
      {
        "duration": 4,
        "start_time": "2023-07-15T04:09:26.788Z"
      },
      {
        "duration": 4,
        "start_time": "2023-07-15T04:09:27.433Z"
      },
      {
        "duration": 108,
        "start_time": "2023-07-15T04:09:54.196Z"
      },
      {
        "duration": 1696,
        "start_time": "2023-07-15T04:12:36.162Z"
      },
      {
        "duration": 403,
        "start_time": "2023-07-15T04:12:37.860Z"
      },
      {
        "duration": 18,
        "start_time": "2023-07-15T04:12:38.266Z"
      },
      {
        "duration": 27,
        "start_time": "2023-07-15T04:12:38.287Z"
      },
      {
        "duration": 96,
        "start_time": "2023-07-15T04:12:38.317Z"
      },
      {
        "duration": 14,
        "start_time": "2023-07-15T04:12:38.415Z"
      },
      {
        "duration": 30,
        "start_time": "2023-07-15T04:12:38.431Z"
      },
      {
        "duration": 50,
        "start_time": "2023-07-15T04:12:38.463Z"
      },
      {
        "duration": 10,
        "start_time": "2023-07-15T04:12:38.516Z"
      },
      {
        "duration": 37,
        "start_time": "2023-07-15T04:12:38.529Z"
      },
      {
        "duration": 54,
        "start_time": "2023-07-15T04:12:38.568Z"
      },
      {
        "duration": 40,
        "start_time": "2023-07-15T04:12:38.625Z"
      },
      {
        "duration": 16,
        "start_time": "2023-07-15T04:12:38.820Z"
      },
      {
        "duration": 9,
        "start_time": "2023-07-15T04:12:38.998Z"
      },
      {
        "duration": 19,
        "start_time": "2023-07-15T04:12:40.344Z"
      },
      {
        "duration": 6,
        "start_time": "2023-07-15T04:12:40.520Z"
      },
      {
        "duration": 4,
        "start_time": "2023-07-15T04:12:40.855Z"
      },
      {
        "duration": 6,
        "start_time": "2023-07-15T04:12:41.191Z"
      },
      {
        "duration": 5,
        "start_time": "2023-07-15T04:12:41.351Z"
      },
      {
        "duration": 14,
        "start_time": "2023-07-15T04:12:41.512Z"
      },
      {
        "duration": 107,
        "start_time": "2023-07-15T04:12:41.690Z"
      },
      {
        "duration": 13,
        "start_time": "2023-07-15T04:12:41.865Z"
      },
      {
        "duration": 13,
        "start_time": "2023-07-15T04:12:42.025Z"
      },
      {
        "duration": 5,
        "start_time": "2023-07-15T04:12:42.168Z"
      },
      {
        "duration": 19,
        "start_time": "2023-07-15T04:13:05.868Z"
      },
      {
        "duration": 15,
        "start_time": "2023-07-15T04:13:06.948Z"
      },
      {
        "duration": 10,
        "start_time": "2023-07-15T04:13:30.853Z"
      },
      {
        "duration": 6,
        "start_time": "2023-07-15T04:13:31.961Z"
      },
      {
        "duration": 5,
        "start_time": "2023-07-15T04:13:33.047Z"
      },
      {
        "duration": 17,
        "start_time": "2023-07-15T04:13:37.793Z"
      },
      {
        "duration": 5,
        "start_time": "2023-07-15T04:13:38.324Z"
      },
      {
        "duration": 4,
        "start_time": "2023-07-15T04:13:38.940Z"
      },
      {
        "duration": 7,
        "start_time": "2023-07-15T04:13:41.961Z"
      },
      {
        "duration": 6,
        "start_time": "2023-07-15T04:13:44.260Z"
      },
      {
        "duration": 17,
        "start_time": "2023-07-15T04:13:45.545Z"
      },
      {
        "duration": 15,
        "start_time": "2023-07-15T04:13:57.809Z"
      },
      {
        "duration": 13,
        "start_time": "2023-07-15T04:14:08.990Z"
      },
      {
        "duration": 15,
        "start_time": "2023-07-15T04:14:43.375Z"
      },
      {
        "duration": 5,
        "start_time": "2023-07-15T04:15:08.450Z"
      },
      {
        "duration": 5,
        "start_time": "2023-07-15T04:15:35.359Z"
      },
      {
        "duration": 14,
        "start_time": "2023-07-15T04:17:05.942Z"
      },
      {
        "duration": 5,
        "start_time": "2023-07-15T04:17:21.808Z"
      },
      {
        "duration": 4,
        "start_time": "2023-07-15T04:17:41.822Z"
      },
      {
        "duration": 7,
        "start_time": "2023-07-15T04:18:20.693Z"
      },
      {
        "duration": 4,
        "start_time": "2023-07-15T04:18:50.746Z"
      },
      {
        "duration": 15,
        "start_time": "2023-07-15T04:19:15.107Z"
      },
      {
        "duration": 13,
        "start_time": "2023-07-15T04:19:24.119Z"
      },
      {
        "duration": 14,
        "start_time": "2023-07-15T04:19:48.672Z"
      },
      {
        "duration": 17,
        "start_time": "2023-07-15T04:20:19.056Z"
      },
      {
        "duration": 12,
        "start_time": "2023-07-15T04:20:48.322Z"
      },
      {
        "duration": 6,
        "start_time": "2023-07-15T04:21:06.747Z"
      },
      {
        "duration": 6,
        "start_time": "2023-07-15T04:21:30.234Z"
      },
      {
        "duration": 1418,
        "start_time": "2023-07-15T04:22:34.534Z"
      },
      {
        "duration": 387,
        "start_time": "2023-07-15T04:22:35.954Z"
      },
      {
        "duration": 22,
        "start_time": "2023-07-15T04:22:36.343Z"
      },
      {
        "duration": 30,
        "start_time": "2023-07-15T04:22:36.366Z"
      },
      {
        "duration": 58,
        "start_time": "2023-07-15T04:22:36.397Z"
      },
      {
        "duration": 9,
        "start_time": "2023-07-15T04:22:36.457Z"
      },
      {
        "duration": 27,
        "start_time": "2023-07-15T04:22:36.468Z"
      },
      {
        "duration": 79,
        "start_time": "2023-07-15T04:22:36.496Z"
      },
      {
        "duration": 11,
        "start_time": "2023-07-15T04:22:36.578Z"
      },
      {
        "duration": 17,
        "start_time": "2023-07-15T04:22:36.594Z"
      },
      {
        "duration": 52,
        "start_time": "2023-07-15T04:22:36.754Z"
      },
      {
        "duration": 17,
        "start_time": "2023-07-15T04:22:36.913Z"
      },
      {
        "duration": 17,
        "start_time": "2023-07-15T04:22:37.234Z"
      },
      {
        "duration": 9,
        "start_time": "2023-07-15T04:22:37.410Z"
      },
      {
        "duration": 13,
        "start_time": "2023-07-15T04:22:38.790Z"
      },
      {
        "duration": 4,
        "start_time": "2023-07-15T04:22:38.951Z"
      },
      {
        "duration": 5,
        "start_time": "2023-07-15T04:22:39.112Z"
      },
      {
        "duration": 5,
        "start_time": "2023-07-15T04:22:39.447Z"
      },
      {
        "duration": 4,
        "start_time": "2023-07-15T04:22:39.622Z"
      },
      {
        "duration": 14,
        "start_time": "2023-07-15T04:22:39.782Z"
      },
      {
        "duration": 13,
        "start_time": "2023-07-15T04:22:39.962Z"
      },
      {
        "duration": 13,
        "start_time": "2023-07-15T04:22:40.121Z"
      },
      {
        "duration": 18,
        "start_time": "2023-07-15T04:22:40.296Z"
      },
      {
        "duration": 7,
        "start_time": "2023-07-15T04:22:40.471Z"
      },
      {
        "duration": 4,
        "start_time": "2023-07-15T04:22:40.667Z"
      },
      {
        "duration": 12,
        "start_time": "2023-07-15T04:22:41.003Z"
      },
      {
        "duration": 4,
        "start_time": "2023-07-15T04:22:41.195Z"
      },
      {
        "duration": 4,
        "start_time": "2023-07-15T04:22:41.371Z"
      },
      {
        "duration": 5,
        "start_time": "2023-07-15T04:22:41.549Z"
      },
      {
        "duration": 4,
        "start_time": "2023-07-15T04:22:41.725Z"
      },
      {
        "duration": 13,
        "start_time": "2023-07-15T04:22:41.882Z"
      },
      {
        "duration": 14,
        "start_time": "2023-07-15T04:22:42.075Z"
      },
      {
        "duration": 12,
        "start_time": "2023-07-15T04:22:42.221Z"
      },
      {
        "duration": 17,
        "start_time": "2023-07-15T04:22:42.397Z"
      },
      {
        "duration": 6,
        "start_time": "2023-07-15T04:22:42.577Z"
      },
      {
        "duration": 4,
        "start_time": "2023-07-15T04:22:43.159Z"
      },
      {
        "duration": 27,
        "start_time": "2023-07-15T04:22:43.165Z"
      },
      {
        "duration": 5,
        "start_time": "2023-07-15T04:22:43.258Z"
      },
      {
        "duration": 4,
        "start_time": "2023-07-15T04:22:43.435Z"
      },
      {
        "duration": 6,
        "start_time": "2023-07-15T04:22:43.578Z"
      },
      {
        "duration": 4,
        "start_time": "2023-07-15T04:22:43.759Z"
      },
      {
        "duration": 12,
        "start_time": "2023-07-15T04:22:43.951Z"
      },
      {
        "duration": 14,
        "start_time": "2023-07-15T04:22:44.128Z"
      },
      {
        "duration": 14,
        "start_time": "2023-07-15T04:22:44.311Z"
      },
      {
        "duration": 10,
        "start_time": "2023-07-15T04:22:44.488Z"
      },
      {
        "duration": 6,
        "start_time": "2023-07-15T04:22:44.663Z"
      },
      {
        "duration": 5,
        "start_time": "2023-07-15T04:22:44.838Z"
      },
      {
        "duration": 1555,
        "start_time": "2023-07-16T03:19:54.297Z"
      },
      {
        "duration": 844,
        "start_time": "2023-07-16T03:19:55.854Z"
      },
      {
        "duration": 12,
        "start_time": "2023-07-16T03:19:56.699Z"
      },
      {
        "duration": 40,
        "start_time": "2023-07-16T03:19:56.713Z"
      },
      {
        "duration": 43,
        "start_time": "2023-07-16T03:19:56.755Z"
      },
      {
        "duration": 8,
        "start_time": "2023-07-16T03:19:56.799Z"
      },
      {
        "duration": 40,
        "start_time": "2023-07-16T03:19:56.809Z"
      },
      {
        "duration": 48,
        "start_time": "2023-07-16T03:19:56.850Z"
      },
      {
        "duration": 9,
        "start_time": "2023-07-16T03:19:56.899Z"
      },
      {
        "duration": 23,
        "start_time": "2023-07-16T03:19:56.910Z"
      },
      {
        "duration": 47,
        "start_time": "2023-07-16T03:19:56.934Z"
      },
      {
        "duration": 13,
        "start_time": "2023-07-16T03:19:56.982Z"
      },
      {
        "duration": 14,
        "start_time": "2023-07-16T03:19:57.147Z"
      },
      {
        "duration": 8,
        "start_time": "2023-07-16T03:19:57.337Z"
      },
      {
        "duration": 12,
        "start_time": "2023-07-16T03:19:58.953Z"
      },
      {
        "duration": 4,
        "start_time": "2023-07-16T03:19:59.133Z"
      },
      {
        "duration": 3,
        "start_time": "2023-07-16T03:19:59.309Z"
      },
      {
        "duration": 6,
        "start_time": "2023-07-16T03:19:59.658Z"
      },
      {
        "duration": 4,
        "start_time": "2023-07-16T03:19:59.838Z"
      },
      {
        "duration": 13,
        "start_time": "2023-07-16T03:20:00.013Z"
      },
      {
        "duration": 16,
        "start_time": "2023-07-16T03:20:00.191Z"
      },
      {
        "duration": 12,
        "start_time": "2023-07-16T03:20:00.367Z"
      },
      {
        "duration": 176,
        "start_time": "2023-07-16T03:20:00.546Z"
      },
      {
        "duration": 100,
        "start_time": "2023-07-16T03:20:00.724Z"
      },
      {
        "duration": 5,
        "start_time": "2023-07-16T03:20:00.910Z"
      },
      {
        "duration": 13,
        "start_time": "2023-07-16T03:20:01.261Z"
      },
      {
        "duration": 4,
        "start_time": "2023-07-16T03:20:01.453Z"
      },
      {
        "duration": 3,
        "start_time": "2023-07-16T03:20:01.631Z"
      },
      {
        "duration": 5,
        "start_time": "2023-07-16T03:20:01.824Z"
      },
      {
        "duration": 5,
        "start_time": "2023-07-16T03:20:01.999Z"
      },
      {
        "duration": 15,
        "start_time": "2023-07-16T03:20:02.179Z"
      },
      {
        "duration": 13,
        "start_time": "2023-07-16T03:20:02.359Z"
      },
      {
        "duration": 12,
        "start_time": "2023-07-16T03:20:02.515Z"
      },
      {
        "duration": 8,
        "start_time": "2023-07-16T03:20:02.689Z"
      },
      {
        "duration": 6,
        "start_time": "2023-07-16T03:20:02.882Z"
      },
      {
        "duration": 4,
        "start_time": "2023-07-16T03:20:03.058Z"
      },
      {
        "duration": 9,
        "start_time": "2023-07-16T03:20:03.440Z"
      },
      {
        "duration": 4,
        "start_time": "2023-07-16T03:20:03.634Z"
      },
      {
        "duration": 4,
        "start_time": "2023-07-16T03:20:03.825Z"
      },
      {
        "duration": 7,
        "start_time": "2023-07-16T03:20:04.000Z"
      },
      {
        "duration": 4,
        "start_time": "2023-07-16T03:20:04.176Z"
      },
      {
        "duration": 11,
        "start_time": "2023-07-16T03:20:04.354Z"
      },
      {
        "duration": 12,
        "start_time": "2023-07-16T03:20:04.545Z"
      },
      {
        "duration": 15,
        "start_time": "2023-07-16T03:20:04.736Z"
      },
      {
        "duration": 11,
        "start_time": "2023-07-16T03:20:04.928Z"
      },
      {
        "duration": 12,
        "start_time": "2023-07-16T03:20:05.121Z"
      },
      {
        "duration": 5,
        "start_time": "2023-07-16T03:20:05.302Z"
      },
      {
        "duration": 4,
        "start_time": "2023-07-16T03:24:24.658Z"
      },
      {
        "duration": 3,
        "start_time": "2023-07-16T03:28:40.529Z"
      },
      {
        "duration": 106,
        "start_time": "2023-07-16T03:45:43.448Z"
      },
      {
        "duration": 3,
        "start_time": "2023-07-16T03:46:17.442Z"
      },
      {
        "duration": 3,
        "start_time": "2023-07-16T03:46:18.285Z"
      },
      {
        "duration": 3,
        "start_time": "2023-07-16T04:02:01.797Z"
      },
      {
        "duration": 15,
        "start_time": "2023-07-16T04:03:51.694Z"
      },
      {
        "duration": 3,
        "start_time": "2023-07-16T04:04:12.133Z"
      },
      {
        "duration": 20,
        "start_time": "2023-07-16T04:04:13.623Z"
      },
      {
        "duration": 3,
        "start_time": "2023-07-16T04:04:26.787Z"
      },
      {
        "duration": 9,
        "start_time": "2023-07-16T04:04:27.383Z"
      },
      {
        "duration": 30,
        "start_time": "2023-07-16T04:12:10.789Z"
      },
      {
        "duration": 26,
        "start_time": "2023-07-16T04:12:18.520Z"
      },
      {
        "duration": 15,
        "start_time": "2023-07-16T04:12:28.521Z"
      },
      {
        "duration": 140,
        "start_time": "2023-07-16T04:17:33.564Z"
      },
      {
        "duration": 6,
        "start_time": "2023-07-16T04:18:13.458Z"
      },
      {
        "duration": 8,
        "start_time": "2023-07-16T04:18:48.683Z"
      },
      {
        "duration": 146,
        "start_time": "2023-07-16T04:19:19.533Z"
      },
      {
        "duration": 7,
        "start_time": "2023-07-16T04:19:27.506Z"
      },
      {
        "duration": 455,
        "start_time": "2023-07-16T04:24:17.259Z"
      },
      {
        "duration": 10,
        "start_time": "2023-07-16T04:24:53.856Z"
      },
      {
        "duration": 11,
        "start_time": "2023-07-16T04:25:56.153Z"
      },
      {
        "duration": 14,
        "start_time": "2023-07-16T04:27:04.951Z"
      },
      {
        "duration": 85,
        "start_time": "2023-07-16T04:32:34.263Z"
      },
      {
        "duration": 75,
        "start_time": "2023-07-16T04:33:14.161Z"
      },
      {
        "duration": 106,
        "start_time": "2023-07-16T04:34:41.400Z"
      },
      {
        "duration": 123,
        "start_time": "2023-07-16T04:35:04.192Z"
      },
      {
        "duration": 94,
        "start_time": "2023-07-16T04:36:04.505Z"
      },
      {
        "duration": 249,
        "start_time": "2023-07-16T04:36:14.923Z"
      },
      {
        "duration": 94,
        "start_time": "2023-07-16T04:36:36.309Z"
      },
      {
        "duration": 138,
        "start_time": "2023-07-16T04:36:52.029Z"
      },
      {
        "duration": 17,
        "start_time": "2023-07-16T04:38:13.431Z"
      },
      {
        "duration": 18,
        "start_time": "2023-07-16T04:38:38.139Z"
      },
      {
        "duration": 24,
        "start_time": "2023-07-16T04:38:55.684Z"
      },
      {
        "duration": 3666,
        "start_time": "2023-07-16T04:46:17.056Z"
      },
      {
        "duration": 3721,
        "start_time": "2023-07-16T04:50:33.425Z"
      },
      {
        "duration": 3474,
        "start_time": "2023-07-16T04:51:07.173Z"
      },
      {
        "duration": 3866,
        "start_time": "2023-07-16T04:52:34.259Z"
      },
      {
        "duration": 2,
        "start_time": "2023-07-16T04:54:45.556Z"
      },
      {
        "duration": 3670,
        "start_time": "2023-07-16T04:54:59.473Z"
      },
      {
        "duration": 3067,
        "start_time": "2023-07-16T04:56:27.258Z"
      },
      {
        "duration": 1448,
        "start_time": "2023-07-16T04:57:29.538Z"
      },
      {
        "duration": 376,
        "start_time": "2023-07-16T04:57:30.988Z"
      },
      {
        "duration": 14,
        "start_time": "2023-07-16T04:57:31.365Z"
      },
      {
        "duration": 20,
        "start_time": "2023-07-16T04:57:31.381Z"
      },
      {
        "duration": 61,
        "start_time": "2023-07-16T04:57:31.403Z"
      },
      {
        "duration": 8,
        "start_time": "2023-07-16T04:57:31.466Z"
      },
      {
        "duration": 30,
        "start_time": "2023-07-16T04:57:31.475Z"
      },
      {
        "duration": 43,
        "start_time": "2023-07-16T04:57:31.507Z"
      },
      {
        "duration": 14,
        "start_time": "2023-07-16T04:57:31.552Z"
      },
      {
        "duration": 14,
        "start_time": "2023-07-16T04:57:31.718Z"
      },
      {
        "duration": 46,
        "start_time": "2023-07-16T04:57:31.906Z"
      },
      {
        "duration": 14,
        "start_time": "2023-07-16T04:57:32.083Z"
      },
      {
        "duration": 16,
        "start_time": "2023-07-16T04:57:32.401Z"
      },
      {
        "duration": 9,
        "start_time": "2023-07-16T04:57:32.580Z"
      },
      {
        "duration": 10,
        "start_time": "2023-07-16T04:57:33.990Z"
      },
      {
        "duration": 4,
        "start_time": "2023-07-16T04:57:34.166Z"
      },
      {
        "duration": 5,
        "start_time": "2023-07-16T04:57:34.342Z"
      },
      {
        "duration": 5,
        "start_time": "2023-07-16T04:57:34.679Z"
      },
      {
        "duration": 5,
        "start_time": "2023-07-16T04:57:34.842Z"
      },
      {
        "duration": 12,
        "start_time": "2023-07-16T04:57:35.031Z"
      },
      {
        "duration": 13,
        "start_time": "2023-07-16T04:57:35.207Z"
      },
      {
        "duration": 11,
        "start_time": "2023-07-16T04:57:35.369Z"
      },
      {
        "duration": 101,
        "start_time": "2023-07-16T04:57:35.527Z"
      },
      {
        "duration": 11,
        "start_time": "2023-07-16T04:57:35.722Z"
      },
      {
        "duration": 6,
        "start_time": "2023-07-16T04:57:35.863Z"
      },
      {
        "duration": 10,
        "start_time": "2023-07-16T04:57:36.214Z"
      },
      {
        "duration": 4,
        "start_time": "2023-07-16T04:57:36.393Z"
      },
      {
        "duration": 4,
        "start_time": "2023-07-16T04:57:36.570Z"
      },
      {
        "duration": 5,
        "start_time": "2023-07-16T04:57:36.745Z"
      },
      {
        "duration": 4,
        "start_time": "2023-07-16T04:57:36.934Z"
      },
      {
        "duration": 13,
        "start_time": "2023-07-16T04:57:37.100Z"
      },
      {
        "duration": 12,
        "start_time": "2023-07-16T04:57:37.244Z"
      },
      {
        "duration": 11,
        "start_time": "2023-07-16T04:57:37.438Z"
      },
      {
        "duration": 9,
        "start_time": "2023-07-16T04:57:37.596Z"
      },
      {
        "duration": 5,
        "start_time": "2023-07-16T04:57:37.773Z"
      },
      {
        "duration": 4,
        "start_time": "2023-07-16T04:57:37.966Z"
      },
      {
        "duration": 11,
        "start_time": "2023-07-16T04:57:38.314Z"
      },
      {
        "duration": 5,
        "start_time": "2023-07-16T04:57:38.475Z"
      },
      {
        "duration": 5,
        "start_time": "2023-07-16T04:57:38.653Z"
      },
      {
        "duration": 7,
        "start_time": "2023-07-16T04:57:38.830Z"
      },
      {
        "duration": 5,
        "start_time": "2023-07-16T04:57:39.003Z"
      },
      {
        "duration": 17,
        "start_time": "2023-07-16T04:57:39.181Z"
      },
      {
        "duration": 17,
        "start_time": "2023-07-16T04:57:39.342Z"
      },
      {
        "duration": 15,
        "start_time": "2023-07-16T04:57:39.517Z"
      },
      {
        "duration": 19,
        "start_time": "2023-07-16T04:57:39.691Z"
      },
      {
        "duration": 6,
        "start_time": "2023-07-16T04:57:39.853Z"
      },
      {
        "duration": 5,
        "start_time": "2023-07-16T04:57:40.038Z"
      },
      {
        "duration": 8,
        "start_time": "2023-07-16T04:57:40.382Z"
      },
      {
        "duration": 3,
        "start_time": "2023-07-16T04:57:40.559Z"
      },
      {
        "duration": 4,
        "start_time": "2023-07-16T04:57:40.751Z"
      },
      {
        "duration": 8,
        "start_time": "2023-07-16T04:57:41.118Z"
      },
      {
        "duration": 31,
        "start_time": "2023-07-16T04:57:41.488Z"
      },
      {
        "duration": 3,
        "start_time": "2023-07-16T04:57:41.855Z"
      },
      {
        "duration": 8,
        "start_time": "2023-07-16T04:57:42.062Z"
      },
      {
        "duration": 3332,
        "start_time": "2023-07-16T04:57:42.255Z"
      },
      {
        "duration": 100,
        "start_time": "2023-07-16T05:04:16.691Z"
      },
      {
        "duration": 3065,
        "start_time": "2023-07-16T05:04:36.698Z"
      },
      {
        "duration": 3,
        "start_time": "2023-07-16T05:09:38.689Z"
      },
      {
        "duration": 9,
        "start_time": "2023-07-16T05:10:03.580Z"
      },
      {
        "duration": 1364,
        "start_time": "2023-07-16T06:21:01.648Z"
      },
      {
        "duration": 364,
        "start_time": "2023-07-16T06:21:03.014Z"
      },
      {
        "duration": 14,
        "start_time": "2023-07-16T06:21:03.380Z"
      },
      {
        "duration": 27,
        "start_time": "2023-07-16T06:21:03.396Z"
      },
      {
        "duration": 46,
        "start_time": "2023-07-16T06:21:03.425Z"
      },
      {
        "duration": 9,
        "start_time": "2023-07-16T06:21:03.473Z"
      },
      {
        "duration": 19,
        "start_time": "2023-07-16T06:21:03.483Z"
      },
      {
        "duration": 43,
        "start_time": "2023-07-16T06:21:03.521Z"
      },
      {
        "duration": 8,
        "start_time": "2023-07-16T06:21:03.566Z"
      },
      {
        "duration": 14,
        "start_time": "2023-07-16T06:21:03.592Z"
      },
      {
        "duration": 48,
        "start_time": "2023-07-16T06:21:03.771Z"
      },
      {
        "duration": 15,
        "start_time": "2023-07-16T06:21:03.912Z"
      },
      {
        "duration": 15,
        "start_time": "2023-07-16T06:21:04.234Z"
      },
      {
        "duration": 7,
        "start_time": "2023-07-16T06:21:04.414Z"
      },
      {
        "duration": 11,
        "start_time": "2023-07-16T06:21:05.710Z"
      },
      {
        "duration": 4,
        "start_time": "2023-07-16T06:21:05.857Z"
      },
      {
        "duration": 3,
        "start_time": "2023-07-16T06:21:06.030Z"
      },
      {
        "duration": 5,
        "start_time": "2023-07-16T06:21:06.350Z"
      },
      {
        "duration": 4,
        "start_time": "2023-07-16T06:21:06.512Z"
      },
      {
        "duration": 12,
        "start_time": "2023-07-16T06:21:06.845Z"
      },
      {
        "duration": 13,
        "start_time": "2023-07-16T06:21:07.026Z"
      },
      {
        "duration": 11,
        "start_time": "2023-07-16T06:21:07.183Z"
      },
      {
        "duration": 14,
        "start_time": "2023-07-16T06:21:07.490Z"
      },
      {
        "duration": 4,
        "start_time": "2023-07-16T06:21:07.669Z"
      },
      {
        "duration": 5,
        "start_time": "2023-07-16T06:21:07.828Z"
      },
      {
        "duration": 10,
        "start_time": "2023-07-16T06:21:08.483Z"
      },
      {
        "duration": 4,
        "start_time": "2023-07-16T06:21:08.660Z"
      },
      {
        "duration": 3,
        "start_time": "2023-07-16T06:21:08.810Z"
      },
      {
        "duration": 5,
        "start_time": "2023-07-16T06:21:09.154Z"
      },
      {
        "duration": 4,
        "start_time": "2023-07-16T06:21:09.331Z"
      },
      {
        "duration": 11,
        "start_time": "2023-07-16T06:21:09.650Z"
      },
      {
        "duration": 13,
        "start_time": "2023-07-16T06:21:09.828Z"
      },
      {
        "duration": 11,
        "start_time": "2023-07-16T06:21:09.989Z"
      },
      {
        "duration": 9,
        "start_time": "2023-07-16T06:21:10.337Z"
      },
      {
        "duration": 5,
        "start_time": "2023-07-16T06:21:10.521Z"
      },
      {
        "duration": 4,
        "start_time": "2023-07-16T06:21:10.663Z"
      },
      {
        "duration": 9,
        "start_time": "2023-07-16T06:21:11.318Z"
      },
      {
        "duration": 4,
        "start_time": "2023-07-16T06:21:11.496Z"
      },
      {
        "duration": 3,
        "start_time": "2023-07-16T06:21:11.657Z"
      },
      {
        "duration": 6,
        "start_time": "2023-07-16T06:21:11.958Z"
      },
      {
        "duration": 4,
        "start_time": "2023-07-16T06:21:12.120Z"
      },
      {
        "duration": 11,
        "start_time": "2023-07-16T06:21:12.439Z"
      },
      {
        "duration": 14,
        "start_time": "2023-07-16T06:21:12.615Z"
      },
      {
        "duration": 12,
        "start_time": "2023-07-16T06:21:12.791Z"
      },
      {
        "duration": 17,
        "start_time": "2023-07-16T06:21:13.110Z"
      },
      {
        "duration": 5,
        "start_time": "2023-07-16T06:21:13.321Z"
      },
      {
        "duration": 3,
        "start_time": "2023-07-16T06:21:13.469Z"
      },
      {
        "duration": 8,
        "start_time": "2023-07-16T06:21:13.962Z"
      },
      {
        "duration": 4,
        "start_time": "2023-07-16T06:21:14.650Z"
      },
      {
        "duration": 3,
        "start_time": "2023-07-16T06:21:14.986Z"
      },
      {
        "duration": 3,
        "start_time": "2023-07-16T06:21:15.306Z"
      },
      {
        "duration": 24,
        "start_time": "2023-07-16T06:21:15.642Z"
      },
      {
        "duration": 3,
        "start_time": "2023-07-16T06:21:16.497Z"
      },
      {
        "duration": 9,
        "start_time": "2023-07-16T06:21:16.847Z"
      },
      {
        "duration": 97,
        "start_time": "2023-07-16T06:21:17.361Z"
      },
      {
        "duration": 2986,
        "start_time": "2023-07-16T06:21:48.187Z"
      },
      {
        "duration": 1357,
        "start_time": "2023-07-16T06:22:02.011Z"
      },
      {
        "duration": 375,
        "start_time": "2023-07-16T06:22:03.370Z"
      },
      {
        "duration": 13,
        "start_time": "2023-07-16T06:22:03.747Z"
      },
      {
        "duration": 55,
        "start_time": "2023-07-16T06:22:03.761Z"
      },
      {
        "duration": 68,
        "start_time": "2023-07-16T06:22:03.818Z"
      },
      {
        "duration": 10,
        "start_time": "2023-07-16T06:22:03.888Z"
      },
      {
        "duration": 57,
        "start_time": "2023-07-16T06:22:03.900Z"
      },
      {
        "duration": 75,
        "start_time": "2023-07-16T06:22:03.959Z"
      },
      {
        "duration": 16,
        "start_time": "2023-07-16T06:22:04.035Z"
      },
      {
        "duration": 13,
        "start_time": "2023-07-16T06:22:04.190Z"
      },
      {
        "duration": 44,
        "start_time": "2023-07-16T06:22:04.348Z"
      },
      {
        "duration": 15,
        "start_time": "2023-07-16T06:22:04.524Z"
      },
      {
        "duration": 15,
        "start_time": "2023-07-16T06:22:04.828Z"
      },
      {
        "duration": 9,
        "start_time": "2023-07-16T06:22:05.007Z"
      },
      {
        "duration": 11,
        "start_time": "2023-07-16T06:22:06.378Z"
      },
      {
        "duration": 4,
        "start_time": "2023-07-16T06:22:06.558Z"
      },
      {
        "duration": 3,
        "start_time": "2023-07-16T06:22:06.736Z"
      },
      {
        "duration": 6,
        "start_time": "2023-07-16T06:22:07.086Z"
      },
      {
        "duration": 3,
        "start_time": "2023-07-16T06:22:07.263Z"
      },
      {
        "duration": 13,
        "start_time": "2023-07-16T06:22:07.616Z"
      },
      {
        "duration": 13,
        "start_time": "2023-07-16T06:22:07.793Z"
      },
      {
        "duration": 11,
        "start_time": "2023-07-16T06:22:07.968Z"
      },
      {
        "duration": 13,
        "start_time": "2023-07-16T06:22:08.320Z"
      },
      {
        "duration": 10,
        "start_time": "2023-07-16T06:22:08.522Z"
      },
      {
        "duration": 3,
        "start_time": "2023-07-16T06:22:08.690Z"
      },
      {
        "duration": 10,
        "start_time": "2023-07-16T06:22:09.359Z"
      },
      {
        "duration": 4,
        "start_time": "2023-07-16T06:22:09.536Z"
      },
      {
        "duration": 4,
        "start_time": "2023-07-16T06:22:09.697Z"
      },
      {
        "duration": 5,
        "start_time": "2023-07-16T06:22:10.036Z"
      },
      {
        "duration": 4,
        "start_time": "2023-07-16T06:22:10.212Z"
      },
      {
        "duration": 12,
        "start_time": "2023-07-16T06:22:10.531Z"
      },
      {
        "duration": 12,
        "start_time": "2023-07-16T06:22:10.709Z"
      },
      {
        "duration": 12,
        "start_time": "2023-07-16T06:22:10.886Z"
      },
      {
        "duration": 11,
        "start_time": "2023-07-16T06:22:11.218Z"
      },
      {
        "duration": 5,
        "start_time": "2023-07-16T06:22:11.421Z"
      },
      {
        "duration": 4,
        "start_time": "2023-07-16T06:22:11.557Z"
      },
      {
        "duration": 10,
        "start_time": "2023-07-16T06:22:12.278Z"
      },
      {
        "duration": 4,
        "start_time": "2023-07-16T06:22:12.452Z"
      },
      {
        "duration": 4,
        "start_time": "2023-07-16T06:22:12.629Z"
      },
      {
        "duration": 5,
        "start_time": "2023-07-16T06:22:12.999Z"
      },
      {
        "duration": 4,
        "start_time": "2023-07-16T06:22:13.194Z"
      },
      {
        "duration": 12,
        "start_time": "2023-07-16T06:22:13.528Z"
      },
      {
        "duration": 16,
        "start_time": "2023-07-16T06:22:13.691Z"
      },
      {
        "duration": 13,
        "start_time": "2023-07-16T06:22:13.866Z"
      },
      {
        "duration": 15,
        "start_time": "2023-07-16T06:22:14.215Z"
      },
      {
        "duration": 5,
        "start_time": "2023-07-16T06:22:14.422Z"
      },
      {
        "duration": 4,
        "start_time": "2023-07-16T06:22:14.586Z"
      },
      {
        "duration": 8,
        "start_time": "2023-07-16T06:22:15.113Z"
      },
      {
        "duration": 6,
        "start_time": "2023-07-16T06:22:15.816Z"
      },
      {
        "duration": 3,
        "start_time": "2023-07-16T06:22:16.187Z"
      },
      {
        "duration": 3,
        "start_time": "2023-07-16T06:22:16.572Z"
      },
      {
        "duration": 23,
        "start_time": "2023-07-16T06:22:16.943Z"
      },
      {
        "duration": 3,
        "start_time": "2023-07-16T06:22:18.075Z"
      },
      {
        "duration": 9,
        "start_time": "2023-07-16T06:22:18.475Z"
      },
      {
        "duration": 3007,
        "start_time": "2023-07-16T06:22:19.039Z"
      },
      {
        "duration": 10,
        "start_time": "2023-07-16T11:57:04.553Z"
      },
      {
        "duration": 9,
        "start_time": "2023-07-16T11:57:06.026Z"
      }
    ],
    "kernelspec": {
      "display_name": "Python 3 (ipykernel)",
      "language": "python",
      "name": "python3"
    },
    "language_info": {
      "codemirror_mode": {
        "name": "ipython",
        "version": 3
      },
      "file_extension": ".py",
      "mimetype": "text/x-python",
      "name": "python",
      "nbconvert_exporter": "python",
      "pygments_lexer": "ipython3",
      "version": "3.9.5"
    },
    "toc": {
      "base_numbering": 1,
      "nav_menu": {},
      "number_sections": true,
      "sideBar": true,
      "skip_h1_title": true,
      "title_cell": "Table of Contents",
      "title_sidebar": "Contents",
      "toc_cell": true,
      "toc_position": {
        "height": "calc(100% - 180px)",
        "left": "10px",
        "top": "150px",
        "width": "269.769px"
      },
      "toc_section_display": true,
      "toc_window_display": true
    },
    "colab": {
      "provenance": []
    }
  },
  "nbformat": 4,
  "nbformat_minor": 0
}